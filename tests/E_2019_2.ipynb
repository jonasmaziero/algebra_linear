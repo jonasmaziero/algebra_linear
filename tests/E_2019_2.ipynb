{
 "cells": [
  {
   "cell_type": "markdown",
   "metadata": {},
   "source": [
    "### Universidade Federal de Santa Maria, Departamento de Física <br> FSC 1044 - Física Matemática II, Prof. Jonas Maziero <br> Semestre 2019/2, Data: 12 de dezembro de 2019 \n",
    "\n",
    "# Exame"
   ]
  },
  {
   "cell_type": "markdown",
   "metadata": {},
   "source": [
    "$1.$ Calcule a norma do vetor $|v\\rangle=\\begin{bmatrix} \\sqrt{2} \\\\ 3i \\end{bmatrix}$."
   ]
  },
  {
   "cell_type": "markdown",
   "metadata": {},
   "source": [
    "_SOL._ A norma é a raiz quadrada do produto interno (de $\\mathbb{C}^{n}$ nesse caso) do vetor com ele mesmo:\n",
    "\\begin{equation}\n",
    "||v|| = \\sqrt{\\langle v|v\\rangle} =  \\sqrt{|v\\rangle^{T}|v\\rangle} = \\sqrt{\\begin{bmatrix} \\sqrt{2} & -3i \\end{bmatrix}\\begin{bmatrix} \\sqrt{2} \\\\ 3i \\end{bmatrix}}=\\sqrt{11}.\n",
    "\\end{equation}"
   ]
  },
  {
   "cell_type": "markdown",
   "metadata": {},
   "source": [
    "$2.$ Mostre que para operadores normais o cálculo de função de operador usando a definição via série de potências $f(A)=\\sum_{j=0}^{\\infty}c_{j}A^{j}$ é equivalente àquele feito pela definição via decomposição espectral $f(A)=\\sum_{a}f(a)P_{a}$."
   ]
  },
  {
   "cell_type": "markdown",
   "metadata": {},
   "source": [
    "_SOL._ Esta questão está resolvida nas notas de aula."
   ]
  },
  {
   "cell_type": "markdown",
   "metadata": {},
   "source": [
    "$3.$ Considere um operador linear $A:\\mathbb{C}^{3}\\rightarrow\\mathbb{C}^{3}$ que atua como segue:\n",
    "\\begin{align}\n",
    "A|e_{1}\\rangle & = \\alpha|e_{1}\\rangle + \\alpha |e_{3}\\rangle, \\\\\n",
    "A|e_{2}\\rangle & = \\alpha|e_{2}\\rangle + \\beta |e_{3}\\rangle, \\\\\n",
    "A|e_{3}\\rangle & = \\alpha|e_{1}\\rangle + \\beta |e_{2}\\rangle + \\alpha |e_{3}\\rangle, \\\\\n",
    "\\end{align}\n",
    "com $\\alpha,\\beta\\in\\mathbb{R}$. Forneça a representação matricial de $A$ na base ortonormal $\\{|e_{1}\\rangle,|e_{2}\\rangle,|e_{3}\\rangle\\}$. $A$ é um operador Hermitiano?"
   ]
  },
  {
   "cell_type": "markdown",
   "metadata": {},
   "source": [
    "_SOL._ Visto que os elementos de matriz de $A$ são $A_{j,k}=\\langle e_{j}|A|e_{k}\\rangle$, vemos prontamente que\n",
    "\\begin{equation}\n",
    "A \\doteq \\begin{bmatrix} A_{1,1} & A_{1,2} & A_{1,3} \\\\ A_{2,1} & A_{2,2} & A_{2,3} \\\\  A_{3,1} & A_{3,2} & A_{3,3} \\end{bmatrix} = \\begin{bmatrix} \\alpha & 0 & \\alpha \\\\ 0 & \\alpha & \\beta \\\\ \\alpha & \\beta & \\alpha \\end{bmatrix}.\n",
    "\\end{equation}\n",
    "Vemos que $A^{\\dagger}=A$, o que implica que $A$ é um operador Hermitiano."
   ]
  },
  {
   "cell_type": "markdown",
   "metadata": {},
   "source": [
    "$4.$ Considere rotações de vetores de $\\mathbb{R}^{n}$, ou seja, considere o grupo $SO(n)$. Nesse contexto, podemos fazer rotações do referencial usando $\\hat{e'}_{j}=\\sum_{k}A_{j,k}\\hat{e}_{k}$. Imponha que a matriz de rotação $A$ deve preservar o produto interno entre os versores que definem os referenciais para mostrar que esta deve satisfazer a relação $AA^{T}=\\mathbb{I}_{n}$. Para rotações equivalentes do vetor, temos $\\vec{r'}=A\\vec{r}$. Use esta última relação para mostrar que devemos ter $A^{T}A=\\mathbb{I}_{n}$."
   ]
  },
  {
   "cell_type": "markdown",
   "metadata": {},
   "source": [
    "_SOL._ A igualdade $AA^{T}=\\mathbb{I}_{n}$ está mostrada nas notas de aula. Para a segunda igualdade usamos\n",
    "\\begin{equation}\n",
    "\\vec{r'}\\cdot\\vec{r'} = \\vec{r'}^{T}\\vec{r'} = (A\\vec{r})^{T}A\\vec{r} = \\vec{r}^{T}A^{T}A\\vec{r} := \\vec{r}^{T}\\vec{r}.\n",
    "\\end{equation}\n",
    "Por conseguinte, devemos ter $A^{T}A=\\mathbb{I}_{n}$."
   ]
  },
  {
   "cell_type": "markdown",
   "metadata": {},
   "source": [
    "$5.$ Verifique que $Tr(A\\otimes B)=Tr(A)Tr(B)$."
   ]
  },
  {
   "cell_type": "markdown",
   "metadata": {},
   "source": [
    "_SOL._ Teremos\n",
    "\\begin{align}\n",
    "Tr(A\\otimes B) & = Tr\\begin{bmatrix}A_{1,1}B & \\cdots & \\cdots \\\\ \\cdots & A_{2,2}B & \\cdots \\\\ \\vdots & \\vdots & \\vdots \\end{bmatrix} \\\\\n",
    "& = Tr\\begin{bmatrix}\\begin{bmatrix}A_{1,1}B_{1,1} & \\cdots & \\cdots \\\\ \\cdots & A_{1,1}B_{2,2} & \\cdots \\\\ \\vdots & \\vdots & \\vdots \\end{bmatrix} & \\cdots & \\cdots \\\\ \\cdots & \\begin{bmatrix}A_{2,2}B_{1,1} & \\cdots & \\cdots \\\\ \\cdots & A_{2,2}B_{2,2} & \\cdots \\\\ \\vdots & \\vdots & \\vdots \\end{bmatrix} & \\cdots \\\\ \\vdots & \\vdots & \\vdots \\end{bmatrix} \\\\\n",
    "& = (A_{1,1}B_{1,1}+A_{1,1}B_{2,2}+\\cdots) + (A_{2,2}B_{1,1}+A_{2,2}B_{2,2}+\\cdots)+\\cdots \\\\\n",
    "& = A_{1,1}(B_{1,1}+B_{2,2}+\\cdots) + A_{2,2}(B_{1,1}+B_{2,2}+\\cdots)+\\cdots \\\\\n",
    "& = (A_{1,1} + A_{2,2}+\\cdots)(B_{1,1}+B_{2,2}+\\cdots) \\\\\n",
    "& = Tr(A)Tr(B).\n",
    "\\end{align}"
   ]
  },
  {
   "cell_type": "code",
   "execution_count": null,
   "metadata": {},
   "outputs": [],
   "source": []
  }
 ],
 "metadata": {
  "kernelspec": {
   "display_name": "Python 3",
   "language": "python",
   "name": "python3"
  },
  "language_info": {
   "codemirror_mode": {
    "name": "ipython",
    "version": 3
   },
   "file_extension": ".py",
   "mimetype": "text/x-python",
   "name": "python",
   "nbconvert_exporter": "python",
   "pygments_lexer": "ipython3",
   "version": "3.6.4"
  }
 },
 "nbformat": 4,
 "nbformat_minor": 2
}
