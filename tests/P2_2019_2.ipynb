{
 "cells": [
  {
   "cell_type": "markdown",
   "metadata": {},
   "source": [
    "### Universidade Federal de Santa Maria, Departamento de Física <br> FSC 1044 - Física Matemática II, Prof. Jonas Maziero <br> Semestre 2019/2, Data: 5 de dezembro de 2018 \n",
    "\n",
    "# Prova II"
   ]
  },
  {
   "cell_type": "markdown",
   "metadata": {},
   "source": [
    "$1.$ Considere o grupo de Pauli:\n",
    "\\begin{equation}\n",
    "G_{p} = \\{ \\sigma_{0},-\\sigma_{0},i\\sigma_{0},-i\\sigma_{0}, \\sigma_{1},-\\sigma_{1},i\\sigma_{1},-i\\sigma_{1}, \\sigma_{2},-\\sigma_{2},i\\sigma_{2},-i\\sigma_{2}, \\sigma_{3},-\\sigma_{3},i\\sigma_{3},-i\\sigma_{3} \\}.\n",
    "\\end{equation}\n",
    "Forneça um exemplo de subgrupo próprio do grupo de Pauli (faça as verificações necessárias)."
   ]
  },
  {
   "cell_type": "markdown",
   "metadata": {},
   "source": [
    "_Sol._ Consideremos $H=\\{\\sigma_{0},\\sigma_{j}\\}$ com $j=1,2,3$. A operação de composição é o produto matricial. $\\sigma_{0}$ é o elemento identidade. $\\sigma_{j}^{2}=\\sigma_{0}$, o que nos dá o fechamento do subgrupo e que o elemento inverso de $\\sigma_{j}$ é o próprio. Associatividade vem da associatividade do produto matricial."
   ]
  },
  {
   "cell_type": "markdown",
   "metadata": {},
   "source": [
    "$2.$ Use as transformações de Lorentz, $\\Lambda(V)=\\begin{bmatrix} \\gamma(V) & 0 & 0 & -\\gamma(V)V/c \\\\ 0&1&0&0 \\\\ 0&0&1&0 \\\\ -\\gamma(V)V/c&0&0&\\gamma(V) \\end{bmatrix}$, para discutir o fenômeno de contração do espaço. "
   ]
  },
  {
   "cell_type": "markdown",
   "metadata": {},
   "source": [
    "_Sol._ Podemos considerar e.g. um livro de comprimento $L'_{x}=x'_{2}-x'_{1}$, altura $L'_{y}=y'_{2}-y'_{1}$ e largura $L'_{z}=z'_{2}-z'_{1}$ em repouso em relação a um referencial inercial $O'$, que se movimenta com velocidade constante $V$, na coordenada $x$, em relação ao referencial inercial $O$. Como $\\vec{R'}=\\Lambda(V)\\vec{R}$, temos que $x'_{j}=\\gamma(x_{j}-Vt_{j})$, $y'_{j}=y_{j}$, $z'_{j}=z_{j}$, $t'_{j}=\\gamma(t-Vx_{j}/c)$. Assim $L'_{y}=L_{y}$, $L'_{z}=L_{z}$ e $L'_{x}=\\gamma(x_{2}-x_{1})-\\gamma V(t_{2}-t_{1})$. Consideremos que as medidas das coordenadas $x$ das extremidades do livro são feitas simultaneamente por $O$, i.e., $t_{2}=t_{1}$. Isso nos leva a $L'_{x}=\\gamma L_{x}$. Como $\\gamma\\ge 1$, vem que $L_{x}=L'_{x}/\\gamma\\le L'_{x}$. O comprimento próprio do livro em $x$ é $L'_{x}$. Vemos com isso que o observador $O$ em movimento em relação ao livro mede um comprimento, em $x$, menor que o comprimento próprio. "
   ]
  },
  {
   "cell_type": "markdown",
   "metadata": {},
   "source": [
    "$3.$ Cosidere o grupo de transformações de simetria do triângulo equilátero, $G_{\\triangle}\\equiv\\{R^{X}_{0}, R^{O}_{2\\pi/3}, R^{O}_{-2\\pi/3}, R^{A}_{\\pi}, R^{B}_{\\pi}, R^{C}_{\\pi}\\}$. Obtenha, em detalhes, a seguinte linha da tabela de composição desse grupo: $R^{A}_{\\pi}*G_{\\triangle}$."
   ]
  },
  {
   "cell_type": "markdown",
   "metadata": {},
   "source": [
    "_Sol._ $R^{A}_{\\pi}*G_{\\triangle}=\\{R^{A}_{\\pi}, R^{C}_{\\pi}, R^{B}_{\\pi}, R^{X}_{0}, R^{O}_{-2\\pi/3}, R^{O}_{2\\pi/3}\\}$ (foi feito em aula)."
   ]
  },
  {
   "cell_type": "markdown",
   "metadata": {},
   "source": [
    "$4.$ Verifique que se $U\\in SU(2)$ podemos escrever\n",
    "\\begin{equation}\n",
    "U=\\begin{bmatrix} e^{i\\xi}\\cos\\eta & e^{i\\zeta}\\sin\\eta  \\\\ -e^{-i\\zeta}\\sin\\eta & e^{-i\\xi}\\cos\\eta \\end{bmatrix},\n",
    "\\end{equation}\n",
    "com $\\zeta,\\xi,\\eta\\in\\mathbb{R}$."
   ]
  },
  {
   "cell_type": "markdown",
   "metadata": {},
   "source": [
    "_Sol._ Para que $U\\in SU(2)$ devemos ter $\\vec{L}_{j}\\cdot\\vec{L}_{k}=\\delta_{jk}=\\vec{C}_{j}\\cdot\\vec{C}_{k}$, com $\\vec{L}_{j}$ e $\\vec{C}_{j}$ sendo, respectivamente, os vetores linha e vetores coluna de $U$. Além disso, temos que ter $\\det(U)=1$. Começamos com $U=\\begin{bmatrix} U_{1,1} & U_{1,2} \\\\ U_{2,1} & U_{2,2}  \\end{bmatrix}$, com $U_{j,k}\\in\\mathbb{C}$. Para satisfazer $\\vec{L}_{1}\\cdot\\vec{L}_{1}=|U_{1,1}|^{2}+|U_{1,2}|^{2}=1$ podemos propor $U_{1,1}=e^{i\\xi}\\cos\\eta$ e $U_{1,2}=e^{i\\zeta}\\sin\\eta$. De $\\vec{C}_{1}\\cdot\\vec{C}_{2}=e^{-i\\xi}\\cos\\eta e^{i\\zeta}\\sin\\eta + U_{2,1}^{*}U_{2,2}=0$ podemos fazer a tentativa: $U_{2,1}=-e^{-i\\zeta}\\sin\\eta$ e $U_{2,2}=e^{-i\\xi}\\cos\\eta$. Verificamos facilmente que essa tentativa satisfaz todas as condições requeridas."
   ]
  },
  {
   "cell_type": "markdown",
   "metadata": {},
   "source": [
    "$5.$ O gerador $S$ associado ao elemento $R$ de um grupo de Lie pode ser obtido como segue: $S = -i\\lim_{\\varepsilon\\rightarrow 0}\\frac{dR(\\varepsilon)}{d\\varepsilon}$. Obtenha o gerador do grupo de Lorentz. "
   ]
  },
  {
   "cell_type": "markdown",
   "metadata": {},
   "source": [
    "_Sol._ De $\\gamma\\equiv\\gamma(V)=1/\\sqrt{1-V^{2}/c^{2}}$ temos que $\\partial_{V}\\gamma=(-1/2)(1-V^{2}/c^{2})^{-3/2}(-2V/c^{2})=\\gamma^{3}V/c^{2}$. Assim, denotando $d_{V}=d/dV$, teremos\n",
    "\\begin{align}\n",
    "S & = -i\\lim_{V\\rightarrow 0}\\frac{d\\Lambda(V)}{dV} =  -i\\lim_{V\\rightarrow 0}\\begin{bmatrix} d_{V}\\gamma & 0 & 0 & -(V/c)d_{V}\\gamma-\\gamma/c \\\\ 0&0&0&0 \\\\ 0&0&0&0 \\\\ -(V/c)d_{V}\\gamma-\\gamma/c/c&0&0& d_{V}\\gamma \\end{bmatrix} \\\\\n",
    "& =  -i\\lim_{V\\rightarrow 0}\\begin{bmatrix} \\gamma^{3}V/c^{2} & 0 & 0 & -\\gamma^{3}V/c^{2}(V/c)-\\gamma/c \\\\ 0&0&0&0 \\\\ 0&0&0&0 \\\\ -(V/c)\\gamma^{3}V/c^{2}-\\gamma/c &0&0& d_{V}\\gamma \\end{bmatrix} = (i/c)\\begin{bmatrix} 0 & 0 & 0 & 1 \\\\ 0&0&0&0 \\\\ 0&0&0&0 \\\\ 1 &0&0& 0 \\end{bmatrix}.\n",
    "\\end{align}"
   ]
  },
  {
   "cell_type": "code",
   "execution_count": null,
   "metadata": {},
   "outputs": [],
   "source": []
  }
 ],
 "metadata": {
  "kernelspec": {
   "display_name": "Python 3",
   "language": "python",
   "name": "python3"
  },
  "language_info": {
   "codemirror_mode": {
    "name": "ipython",
    "version": 3
   },
   "file_extension": ".py",
   "mimetype": "text/x-python",
   "name": "python",
   "nbconvert_exporter": "python",
   "pygments_lexer": "ipython3",
   "version": "3.6.4"
  }
 },
 "nbformat": 4,
 "nbformat_minor": 2
}
