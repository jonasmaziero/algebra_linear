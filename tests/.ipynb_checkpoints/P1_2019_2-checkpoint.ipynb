{
 "cells": [
  {
   "cell_type": "markdown",
   "metadata": {},
   "source": [
    "### Universidade Federal de Santa Maria, Departamento de Física <br> FSC 1044 - Física Matemática II, Prof. Jonas Maziero <br> Semestre 2019/2, Data: 08 de outubro de 2019 \n",
    "\n",
    "# Prova I\n"
   ]
  },
  {
   "cell_type": "markdown",
   "metadata": {},
   "source": [
    "$1.$ A _conjugada_ de uma matriz $A\\in\\mathbb{C}^{n\\text{x}n}$ é denotada $A^{*}\\in\\mathbb{C}^{n\\text{x}n}$ e é definida por $A^{*}=((A^{*})_{j,k}):=(A_{j,k}^{*})$. Usando as propriedades básicas dos números complexos, verifique que $\\det(A^{*})=(\\det(A))^{*}$. A _adjunta_ de uma matriz $A\\in\\mathbb{C}^{n\\text{x}n}$ é denotada por $A^{\\dagger}\\in\\mathbb{C}^{n\\text{x}n}$ e é definida como sua transposta conjugada, i.e., $A^{\\dagger}=((A^{\\dagger})_{j,k}):=(A_{k,j}^{*})$. Verifique que os autovalores de $A^{\\dagger}$ são iguais ao complexo conjugado dos autovalores de $A$."
   ]
  },
  {
   "cell_type": "markdown",
   "metadata": {},
   "source": [
    "_Sol._ Teremos que\n",
    "\\begin{align}\n",
    "\\det(A^{*}) & = \\sum_{j_{1},\\cdots,j_{n}}sgn(j_{1},\\cdots,j_{n})(A^{*})_{1,j_{1}}\\cdots (A^{*})_{n,j_{n}} = \\sum_{j_{1},\\cdots,j_{n}}(sgn(j_{1},\\cdots,j_{n}))^{*}(A_{1,j_{1}})^{*}\\cdots (A_{n,j_{n}})^{*} \\\\\n",
    "& = \\sum_{j_{1},\\cdots,j_{n}}(sgn(j_{1},\\cdots,j_{n})A_{1,j_{1}}\\cdots A_{n,j_{n}})^{*} = (\\sum_{j_{1},\\cdots,j_{n}}sgn(j_{1},\\cdots,j_{n})A_{1,j_{1}}\\cdots A_{n,j_{n}})^{*} \\\\\n",
    "& = (\\det(A))^{*}.\n",
    "\\end{align}\n",
    "\n",
    "Vamos olhar para a equação característica e considerar que os autovalores da transposta $A^{T}$ são iguais aos autovalores da matriz $A$, i.e., $\\det(A-a\\mathbb{I})=\\det(A^{T}-a\\mathbb{I})=0$:\n",
    "\\begin{align}\n",
    "\\det(A^{\\dagger}-\\lambda\\mathbb{I})=0=\\det((A^{T})^{*}-(\\lambda^{*})^{*}\\mathbb{I}^{*}) = \\det((A^{T}-\\lambda^{*}\\mathbb{I})^{*})= (\\det(A^{T}-\\lambda^{*}\\mathbb{I}))^{*} = (\\det(A-\\lambda^{*}\\mathbb{I}))^{*}.\n",
    "\\end{align}\n",
    "Portanto $\\lambda^{*}=a$."
   ]
  },
  {
   "cell_type": "markdown",
   "metadata": {},
   "source": [
    "$2.$ Mostre que a igualdade é obtida na desigualdade de Cauchy-Schwarz se e somente se os dois vetores forem proporcionais (i.e., se tiverem a mesma direção: $|v\\rangle=c|w\\rangle$ com $c\\in\\mathbb{F}$)."
   ]
  },
  {
   "cell_type": "markdown",
   "metadata": {},
   "source": [
    "_Sol._ A DCS lê-se: $\\langle v|v\\rangle\\langle w|w\\rangle\\ge |\\langle v|w\\rangle|^{2}$. Começamos assumindo que $|v\\rangle=c|w\\rangle$, com $c\\in\\mathbb{F}$. Assim teremos\n",
    "\\begin{align}\n",
    "& \\langle v|v\\rangle\\langle w|w\\rangle=(c|w\\rangle,c|w\\rangle)\\langle w|w\\rangle = c^{*}c\\langle w|w\\rangle^{2} = |c|^{2}\\langle w|w\\rangle^{2},\\\\\n",
    "& |\\langle v|w\\rangle|^{2}=|(c|w\\rangle,|w\\rangle)|^{2} = |c^{*}(|w\\rangle,|w\\rangle)|^{2} =|c|^{2}\\langle w|w\\rangle^{2}.\n",
    "\\end{align}\n",
    "Agora assumimos que $\\langle v|v\\rangle\\langle w|w\\rangle = |\\langle v|w\\rangle|^{2}$ e decompomos $|w\\rangle$ em uma base ortonormal $\\{|v_{j}\\rangle\\}$, tal que $|v_{1}\\rangle=|v\\rangle/||v||$, i.e., $|w\\rangle=\\sum_{j}c_{j}|v_{j}\\rangle$ com $c_{j}\\in\\mathbb{F}$. Por conseguinte\n",
    "\\begin{align}\n",
    "& \\langle v|v\\rangle\\langle w|w\\rangle = |\\langle v|w\\rangle|^{2} \\therefore \\langle v|v\\rangle(\\sum_{j}c_{j}|v_{j}\\rangle,\\sum_{k}c_{k}|v_{k}\\rangle = |(|v\\rangle,\\sum_{j}c_{j}|v_{j}\\rangle)|^{2} \\\\\n",
    "& \\therefore \\langle v|v\\rangle\\sum_{j,k}c_{j}^{*}c_{k}(|v_{j}\\rangle,|v_{k}\\rangle) = |\\sum_{j}c_{j}(||v||\\cdot|v_{1}\\rangle,|v_{j}\\rangle)|^{2} \\\\\n",
    "& \\therefore \\langle v|v\\rangle\\sum_{j,k}c_{j}^{*}c_{k}\\delta_{j,k} = |\\sum_{j}c_{j}||v||^{*}\\delta_{1,j}|^{2} \\therefore \\langle v|v\\rangle\\sum_{j}|c_{j}|^{2} = \\langle v|v\\rangle|c_{1}|^{2} \\\\\n",
    "& \\therefore \\langle v|v\\rangle(|c_{1}|^{2}-|c_{1}|^{2}-\\sum_{j>1}|c_{j}|^{2})=0 \\therefore c_{j>1}=0 \\\\\n",
    "& \\therefore |w\\rangle=c_{1}|v_{1}\\rangle=(c_{1}/||v||)|v\\rangle.\n",
    "\\end{align}"
   ]
  },
  {
   "cell_type": "markdown",
   "metadata": {},
   "source": [
    "$3.$ Verifique que a matriz $\\sigma_{y}=\\begin{bmatrix} 0 & -i \\\\ i & 0 \\end{bmatrix}$ é unitária, calcule seus autovalores e os coloque na forma polar."
   ]
  },
  {
   "cell_type": "markdown",
   "metadata": {},
   "source": [
    "_Sol._ Notemos que $\\sigma_{y}^{\\dagger}=\\sigma_{y}$. Então $\\sigma_{y}^{\\dagger}\\sigma_{y}=\\sigma_{y}\\sigma_{y}^{\\dagger}=\\sigma_{y}^{2}=\\mathbb{I}_{2}$. Para os autovalores teremos\n",
    "\\begin{equation}\n",
    "\\det(\\sigma_{y}-\\lambda\\mathbb{I})=0 \\therefore \\det\\begin{bmatrix}-\\lambda&-i\\\\i&\\lambda \\end{bmatrix}=0 = \\lambda^{2}-1 \\therefore \\lambda = \\pm 1 \\therefore (1=e^{i2\\pi} \\text{ e } -1=e^{i\\pi}).\n",
    "\\end{equation}"
   ]
  },
  {
   "cell_type": "markdown",
   "metadata": {},
   "source": [
    "$4.$ Calcule $\\sqrt{\\sigma_{y}}$."
   ]
  },
  {
   "cell_type": "markdown",
   "metadata": {},
   "source": [
    "Vamos calcular os autovetores normalizados de $\\sigma_{y}$:\n",
    "\\begin{align}\n",
    "& \\lambda=+1 \\therefore \\begin{bmatrix}0&-i\\\\i&0 \\end{bmatrix}\\begin{bmatrix}a\\\\b \\end{bmatrix}=(+1)\\begin{bmatrix}a\\\\b \\end{bmatrix} \\therefore -ib=a \\text{ e } ia=b \\therefore a = 1 \\text{ e } b = i \\\\\n",
    "& \\text{ normalizando } |+1\\rangle=\\frac{1}{\\sqrt{2}}\\begin{bmatrix}1\\\\i \\end{bmatrix}. \\\\\n",
    "& \\lambda=-1 \\therefore \\begin{bmatrix}0&-i\\\\i&0 \\end{bmatrix}\\begin{bmatrix}a\\\\b \\end{bmatrix}=(-1)\\begin{bmatrix}a\\\\b \\end{bmatrix} \\therefore -ib=-a \\text{ e } ia=-b \\therefore a = 1 \\text{ e } b = -i \\\\\n",
    "& \\text{ normalizando } |-1\\rangle=\\frac{1}{\\sqrt{2}}\\begin{bmatrix}1\\\\-i \\end{bmatrix}.\n",
    "\\end{align}\n",
    "Decomposição espectral: Temos $\\sigma_{y} = (+1)P_{+1} + (-1)P_{-1} = (+1)|+1\\rangle\\langle +1| + (-1)|-1\\rangle\\langle -1|$. Assim\n",
    "\\begin{align}\n",
    "\\sqrt{\\sigma_{y}} & = \\sqrt{+1}|+1\\rangle\\langle +1| + \\sqrt{-1}|-1\\rangle\\langle -1| = \\frac{1}{2}\\begin{bmatrix}1\\\\i \\end{bmatrix}\\begin{bmatrix}1&-i \\end{bmatrix} + \\frac{i}{2}\\begin{bmatrix}1\\\\-i \\end{bmatrix}\\begin{bmatrix}1&i \\end{bmatrix} \\\\\n",
    "& = \\frac{1}{2}\\begin{bmatrix}1&-i\\\\i&1 \\end{bmatrix} + \\frac{i}{2}\\begin{bmatrix}1&i\\\\-i&1 \\end{bmatrix} = \\frac{1}{2}\\begin{bmatrix}1&-i\\\\i&1 \\end{bmatrix} + \\frac{1}{2}\\begin{bmatrix}i&-1\\\\1&i \\end{bmatrix} = \\frac{1+i}{2}\\begin{bmatrix}1&-1\\\\1&1 \\end{bmatrix}.\n",
    "\\end{align}\n",
    "Verificação:\n",
    "\\begin{equation}\n",
    "\\sqrt{\\sigma_{y}}\\sqrt{\\sigma_{y}}=\\frac{1+i}{2}\\begin{bmatrix}1&-1\\\\1&1 \\end{bmatrix}\\frac{1+i}{2}\\begin{bmatrix}1&-1\\\\1&1 \\end{bmatrix} = \\frac{2i}{4}\\begin{bmatrix}0&-2\\\\2&0 \\end{bmatrix} = \\sigma_{y}.\n",
    "\\end{equation}"
   ]
  },
  {
   "cell_type": "code",
   "execution_count": null,
   "metadata": {},
   "outputs": [],
   "source": []
  }
 ],
 "metadata": {
  "kernelspec": {
   "display_name": "Python 3",
   "language": "python",
   "name": "python3"
  },
  "language_info": {
   "codemirror_mode": {
    "name": "ipython",
    "version": 3
   },
   "file_extension": ".py",
   "mimetype": "text/x-python",
   "name": "python",
   "nbconvert_exporter": "python",
   "pygments_lexer": "ipython3",
   "version": "3.6.4"
  }
 },
 "nbformat": 4,
 "nbformat_minor": 2
}
