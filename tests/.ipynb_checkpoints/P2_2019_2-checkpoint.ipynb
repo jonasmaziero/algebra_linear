{
 "cells": [
  {
   "cell_type": "markdown",
   "metadata": {},
   "source": [
    "### Universidade Federal de Santa Maria, Departamento de Física <br> FSC 1044 - Física Matemática II, Prof. Jonas Maziero <br> Semestre 2019/2, Data: 5 de dezembro de 2018 \n",
    "\n",
    "# Prova II"
   ]
  },
  {
   "cell_type": "markdown",
   "metadata": {},
   "source": [
    "$1.$ Considere o grupo de Pauli:\n",
    "\\begin{equation}\n",
    "G_{p} = \\{ \\sigma_{0},-\\sigma_{0},i\\sigma_{0},-i\\sigma_{0}, \\sigma_{1},-\\sigma_{1},i\\sigma_{1},-i\\sigma_{1}, \\sigma_{2},-\\sigma_{2},i\\sigma_{2},-i\\sigma_{2}, \\sigma_{3},-\\sigma_{3},i\\sigma_{3},-i\\sigma_{3} \\}\n",
    "\\end{equation}\n",
    "Forneça um exemplo de subgrupo próprio do grupo de Pauli (faça as verificações necessárias)."
   ]
  },
  {
   "cell_type": "markdown",
   "metadata": {},
   "source": [
    "_Sol._ Consideremos $H=\\{\\sigma_{0},\\sigma_{j}\\}$ com $j=1,2,3$. A operação de composição é o produto matricial. $\\sigma_{0}$ é o elemento identidade. $\\sigma_{j}^{2}=\\sigma_{0}$, o que nos dá o fechamento do subgrupo e que o elemento inverso de $\\sigma_{j}$ é o próprio. Associatividade vem da associatividade do produto matricial."
   ]
  },
  {
   "cell_type": "markdown",
   "metadata": {},
   "source": [
    "$2.$ Use as transformações de Lorentz para discutir os fenômenos de _contração do espaço_ e _dilatação do tempo_. "
   ]
  },
  {
   "cell_type": "markdown",
   "metadata": {},
   "source": [
    "_Sol._"
   ]
  },
  {
   "cell_type": "markdown",
   "metadata": {},
   "source": [
    "$3.$ Cosidere o grupo de transformações de simetria do triângulo equilátero, $G_{\\triangle}\\equiv\\{R^{X}_{0}, R^{O}_{2\\pi/3}, R^{O}_{-2\\pi/3}, R^{A}_{\\pi}, R^{B}_{\\pi}, R^{C}_{\\pi}\\}$. Obtenha a seguinte linha da tabela de composição desse grupo: $R^{A}_{\\pi}*G_{\\triangle}$."
   ]
  },
  {
   "cell_type": "markdown",
   "metadata": {},
   "source": [
    "_Sol._ $R^{A}_{\\pi}*G_{\\triangle}=\\{R^{A}_{\\pi}, R^{C}_{\\pi}, R^{B}_{\\pi}, R^{X}_{0}, R^{O}_{-2\\pi/3}, R^{O}_{2\\pi/3}\\}$."
   ]
  },
  {
   "cell_type": "markdown",
   "metadata": {},
   "source": [
    "$4.$ Verifique que se $U\\in SU(2)$ podemos escrever\n",
    "\\begin{equation}\n",
    "U=\\begin{bmatrix} e^{i\\xi}\\cos\\eta & e^{i\\zeta}\\sin\\eta  \\\\ -e^{-i\\zeta}\\sin\\eta & e^{-i\\xi}\\cos\\eta \\end{bmatrix},\n",
    "\\end{equation}\n",
    "com $\\zeta,\\xi,\\eta\\in\\mathbb{R}$."
   ]
  },
  {
   "cell_type": "markdown",
   "metadata": {},
   "source": [
    "_Sol._"
   ]
  },
  {
   "cell_type": "markdown",
   "metadata": {},
   "source": [
    "$5.$ Lie"
   ]
  },
  {
   "cell_type": "markdown",
   "metadata": {},
   "source": [
    "_Sol._"
   ]
  },
  {
   "cell_type": "code",
   "execution_count": null,
   "metadata": {},
   "outputs": [],
   "source": []
  }
 ],
 "metadata": {
  "kernelspec": {
   "display_name": "Python 3",
   "language": "python",
   "name": "python3"
  },
  "language_info": {
   "codemirror_mode": {
    "name": "ipython",
    "version": 3
   },
   "file_extension": ".py",
   "mimetype": "text/x-python",
   "name": "python",
   "nbconvert_exporter": "python",
   "pygments_lexer": "ipython3",
   "version": "3.6.4"
  }
 },
 "nbformat": 4,
 "nbformat_minor": 2
}
