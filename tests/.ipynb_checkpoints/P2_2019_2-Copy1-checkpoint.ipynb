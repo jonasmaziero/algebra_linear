{
 "cells": [
  {
   "cell_type": "markdown",
   "metadata": {},
   "source": [
    "### Universidade Federal de Santa Maria, Departamento de Física <br> FSC 1044 - Física Matemática II, Prof. Jonas Maziero <br> Semestre 2019/2, Data: 5 de dezembro de 2018 \n",
    "\n",
    "# Prova II"
   ]
  },
  {
   "cell_type": "markdown",
   "metadata": {},
   "source": [
    "$1.$ Considere o grupo de Pauli:\n",
    "\\begin{equation}\n",
    "G_{p} = \\{ \\sigma_{0},-\\sigma_{0},i\\sigma_{0},-i\\sigma_{0}, \\sigma_{1},-\\sigma_{1},i\\sigma_{1},-i\\sigma_{1}, \\sigma_{2},-\\sigma_{2},i\\sigma_{2},-i\\sigma_{2}, \\sigma_{3},-\\sigma_{3},i\\sigma_{3},-i\\sigma_{3} \\}.\n",
    "\\end{equation}\n",
    "Forneça um exemplo de subgrupo próprio do grupo de Pauli (faça as verificações necessárias)."
   ]
  },
  {
   "cell_type": "markdown",
   "metadata": {},
   "source": [
    "$2.$ Use as transformações de Lorentz, $\\Lambda(V)=\\begin{bmatrix} \\gamma(V) & 0 & 0 & -\\gamma(V)V/c \\\\ 0&1&0&0 \\\\ 0&0&1&0 \\\\ -\\gamma(V)V/c&0&0&\\gamma(V) \\end{bmatrix}$, para discutir o fenômeno de contração do espaço. "
   ]
  },
  {
   "cell_type": "markdown",
   "metadata": {},
   "source": [
    "$3.$ Cosidere o grupo de transformações de simetria do triângulo equilátero, $G_{\\triangle}\\equiv\\{R^{X}_{0}, R^{O}_{2\\pi/3}, R^{O}_{-2\\pi/3}, R^{A}_{\\pi}, R^{B}_{\\pi}, R^{C}_{\\pi}\\}$. Obtenha, em detalhes, a seguinte linha da tabela de composição desse grupo: $R^{A}_{\\pi}*G_{\\triangle}$."
   ]
  },
  {
   "cell_type": "markdown",
   "metadata": {},
   "source": [
    "$4.$ Verifique que se $U\\in SU(2)$ podemos escrever\n",
    "\\begin{equation}\n",
    "U=\\begin{bmatrix} e^{i\\xi}\\cos\\eta & e^{i\\zeta}\\sin\\eta  \\\\ -e^{-i\\zeta}\\sin\\eta & e^{-i\\xi}\\cos\\eta \\end{bmatrix},\n",
    "\\end{equation}\n",
    "com $\\zeta,\\xi,\\eta\\in\\mathbb{R}$."
   ]
  },
  {
   "cell_type": "markdown",
   "metadata": {},
   "source": [
    "$5.$ O gerador $S$ associado ao elemento $R$ de um grupo de Lie pode ser obtido como segue: $S = -i\\lim_{\\varepsilon\\rightarrow 0}\\frac{dR(\\varepsilon)}{d\\varepsilon}$. Obtenha o gerador do grupo de Lorentz. "
   ]
  }
 ],
 "metadata": {
  "kernelspec": {
   "display_name": "Python 3",
   "language": "python",
   "name": "python3"
  },
  "language_info": {
   "codemirror_mode": {
    "name": "ipython",
    "version": 3
   },
   "file_extension": ".py",
   "mimetype": "text/x-python",
   "name": "python",
   "nbconvert_exporter": "python",
   "pygments_lexer": "ipython3",
   "version": "3.6.4"
  }
 },
 "nbformat": 4,
 "nbformat_minor": 2
}
