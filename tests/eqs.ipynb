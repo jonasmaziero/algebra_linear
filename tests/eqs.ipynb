{
 "cells": [
  {
   "cell_type": "markdown",
   "metadata": {},
   "source": [
    "\n",
    "\\begin{align}\n",
    "& \\text{Determinantes:} \\\\\n",
    "& sgn_{n}(\\cdots,j_{p-1},j_{p},j_{p+1},\\cdots) := (-1)^{n-p}sgn_{n-1}(\\cdots,j_{p-1},j_{p+1},\\cdots); \\\\\n",
    "& \\det(A) := \\sum_{(j_{1},j_{2},\\cdots,j_{n})}sgn(j_{1},j_{2},\\cdots,j_{n})A_{1,j_{1}}A_{2,j_{2}}\\cdots A_{n,j_{n}}; \\det(AB) = \\det(A)\\det(B); \\\\\n",
    "& \\det(A(k_{1},k_{2},\\cdots,k_{n})) := \\sum_{(j_{1},j_{2},\\cdots,j_{n})}sgn(j_{1},j_{2},\\cdots,j_{n})A_{k_{1},j_{1}}A_{k_{2},j_{2}}\\cdots A_{k_{n},j_{n}}; \\\\\n",
    "& \\det(A(\\cdots,k_{p},\\cdots,k_{q},\\cdots)) = -\\det(A(\\cdots,k_{q},\\cdots,k_{p},\\cdots)); \\\\\n",
    "& \\det(A(k_{1},k_{2},\\cdots,k_{n})) = sgn(k_{1},k_{2},\\cdots,k_{n})\\det(A); \\\\\n",
    "& \\det(A) = \\frac{1}{n!}\\sum_{(k_{1},k_{2},\\cdots,k_{n})}\\sum_{(j_{1},j_{2},\\cdots,j_{n})}sgn(k_{1},k_{2},\\cdots,k_{n})sgn(j_{1},j_{2},\\cdots,j_{n})A_{k_{1},j_{1}}A_{k_{2},j_{2}}\\cdots A_{k_{n},j_{n}}; \\\\\n",
    "& \\det(A^{T})=\\det(A); C_{k,j_{k}} = \\alpha A_{k,j_{k}}+\\beta B_{k,j_{k}}\\Rightarrow \\det(C)=\\alpha\\det(A)+\\beta\\det(B); \\\\\n",
    "& A = \\begin{bmatrix} B & * \\\\ \\mathbb{O} & b  \\end{bmatrix} \\Rightarrow \\det(A)=b\\det(B); \\det(A) = \\sum_{k=1}^{n}A_{j,k}cof(A)_{j,k}=\\sum_{j=1}^{n}A_{j,k}cof(A)_{j,k}; \\\\\n",
    "& cof(A) = \\left(cof(A)_{j,k}\\right) = \\left((-1)^{j+k}\\det(A^{(j,k)})\\right); (A^{-1})_{j,k} = \\frac{cof(A)_{k,j}}{\\det(A)}; \\\\\n",
    "& A|x\\rangle = |y\\rangle, |y\\rangle\\ne|\\oslash\\rangle, |x\\rangle_{j}=\\frac{\\det(K^{(j)})}{\\det{A}}, K^{(j)} = \\begin{bmatrix} \\vdots & \\vdots & \\vdots & \\vdots & \\vdots \\\\  \\cdots & A_{k-1,j-1} & |y\\rangle_{k-1} & A_{k-1,j+1} & \\cdots \\\\  \\cdots & A_{k,j-1} & |y\\rangle_{k} & A_{k,j+1} & \\cdots \\\\  \\cdots & A_{k+1,j-1} & |y\\rangle_{k+1} & A_{k+1,j+1} & \\cdots \\\\ \\vdots & \\vdots & \\vdots & \\vdots & \\vdots  \\end{bmatrix}; \\\\\n",
    "& \\langle L_{j}^{A}| \\rightarrow \\langle L_{j}^{A}| + c\\langle L_{l}^{A}|\\Rightarrow \\det(A')=\\det(A); |L_{j}^{A}\\rangle \\rightarrow |L_{j}^{A}\\rangle-(A_{j,k}/A_{k,k})|L_{k}^{A}\\rangle, j=k+1,\\cdots,n; \\\\\n",
    "& \\det\\begin{bmatrix}\n",
    "T_{1,1} & T_{1,2} & T_{1,3} & \\cdots & T_{1,n} \\\\\n",
    "0 & T_{2,2} & T_{2,3} & \\cdots & T_{2,n} \\\\\n",
    "0 & 0 & T_{3,3} & \\cdots & T_{3,n} \\\\\n",
    "\\vdots & \\vdots & \\vdots & \\ddots & \\vdots \\\\\n",
    "0 & 0 & 0 & \\cdots & T_{n,n} \\\\\n",
    "\\end{bmatrix}=\\Pi_{j=1}^{n}T_{j,j}.\n",
    "\\end{align}"
   ]
  },
  {
   "cell_type": "markdown",
   "metadata": {},
   "source": [
    "\\begin{align}\n",
    "& \\text{Vetores:} \\\\\n",
    "& \\sum_{j}a_{j}|w_{j}\\rangle=|\\oslash\\rangle\\Rightarrow a_{j}=0\\forall j\\Rightarrow |w_{j}\\rangle \\text{ são LI}; \\\\\n",
    "& ext(\\{|v_{j}\\rangle\\}_{j=1}^{n}) := \\left\\{\\sum_{j=1}^{n}a_{j}|v_{j}\\rangle \\text{ para } a_{j}\\in\\mathbb{F}\\right\\}; \\hspace{0.3cm} \\text{ base = } LI + ext(\\{|v_{j}\\rangle\\}_{j=1}^{n}) = V; \\\\\n",
    "& \\langle v|\\left(\\sum_{j}a_{j}|w_{j}\\rangle\\right) = \\sum_{j}a_{j}\\langle v|w_{j}\\rangle; \\langle v|w\\rangle = (\\langle w|v\\rangle)^{*}; \\langle v|v\\rangle\\ge 0\\text{ e }\\langle v|v\\rangle=0\\Rightarrow |v\\rangle=|\\oslash\\rangle; \\\\\n",
    "& \\langle v|w\\rangle  := |v\\rangle^{\\dagger}|w\\rangle; \\langle A|B\\rangle_{hs} := Tr(A^{\\dagger}B); ||v|| := \\sqrt{\\langle v|v\\rangle}; |w_{j}\\rangle := \\frac{|v_{j}\\rangle-\\sum_{k=1}^{j-1}\\langle w_{k}|v_{j}\\rangle|w_{k}\\rangle}{||(|v_{j}\\rangle-\\sum_{k=1}^{j-1}\\langle w_{k}|v_{j}\\rangle|w_{k}\\rangle)||}; \\\\\n",
    "& |v\\rangle = \\sum_{j=1}^{\\dim V}\\langle b_{j}|v\\rangle|b_{j}\\rangle; \\mathcal{H}=\\left(\\mathbb{C}^{n},\\langle\\psi|\\phi\\rangle=|\\psi\\rangle^{\\dagger}|\\phi\\rangle\\right); \\langle v|v\\rangle\\langle w|w\\rangle \\ge \\langle v|w\\rangle\\langle w|v\\rangle \\\\\n",
    "\\end{align}"
   ]
  },
  {
   "cell_type": "markdown",
   "metadata": {},
   "source": [
    "\\begin{align}\n",
    "& \\text{Operadores:} \\\\\n",
    "& A(\\sum_{j}c_{j}|v_{j}\\rangle) = \\sum_{j}c_{j}A(|v_{j}\\rangle); (\\alpha A+\\beta B)(|v\\rangle) = \\alpha A(|v\\rangle)+\\beta B(|v\\rangle); \\\\ \n",
    "& A:V\\rightarrow W, A(|v_{j}\\rangle) = \\sum_{k=1}^{\\dim W}A_{k,j}|w_{k}\\rangle, \\text{ para } j=1,\\cdots,\\dim V; \\\\\n",
    "& A|a\\rangle\\propto |a\\rangle =: \\alpha_{a}|a\\rangle; \\det(A-\\alpha_{a}\\mathbb{I}) = 0; c_{n}\\alpha_{a}^{n}+c_{n-1}\\alpha_{a}^{n-1}+\\cdots+c_{2}\\alpha_{a}^{2}+c_{1}\\alpha_{a}+c_{0}=0; \\\\\n",
    "& (|v\\rangle,A|w\\rangle) = (A^{\\dagger}|v\\rangle,|w\\rangle)\\text{, }\\forall|v\\rangle,|w\\rangle\\in V \\\\\n",
    "& P_{W}(|v\\rangle) := \\sum_{j=1}^{\\dim W}\\langle w_{j}|v\\rangle|w_{j}\\rangle; P_{W} = \\sum_{j=1}^{\\dim W}|w_{j}\\rangle\\langle w_{j}|; P_{W}^{\\dagger}=P_{W}; P_{W}+P_{W^{\\perp}}=\\mathbb{I}_{V}; \\\\\n",
    "& A\\circ A^{\\dagger} = A^{\\dagger}\\circ A; A = \\sum_{a} \\alpha_{a}P_{a}; \\sum_{a}P_{a}=\\mathbb{I}_{\\mathcal{H}}; AP_{a}=\\alpha_{a}P_{a}; \\\\\n",
    "& \\langle A\\rangle_{\\psi} := \\langle\\psi|A|\\psi\\rangle; [A,B] := A\\circ B - B\\circ A; \\{A,B\\} := A\\circ B+B\\circ A; \\\\\n",
    "& A=\\sum_{j}a_{j}P_{j}\\text{ e }B=\\sum_{j}b_{j}P_{j}\\Leftrightarrow [A,B]=\\mathbb{0}_{\\mathcal{H}}; \\\\\n",
    "& A^{\\dagger}\\circ A = A\\circ A^{\\dagger}=\\mathbb{I}_{\\mathcal{H}} \\Rightarrow (A|v\\rangle,A|w\\rangle) =(|v\\rangle,|w\\rangle); \\\\\n",
    "& Tr(AB)=Tr(BA); Tr(UAU^{\\dagger})=Tr(A); \\sum_{j=1}^{d}\\langle a_{j}|A|a_{j}\\rangle=\\sum_{k,l=1}^{d}\\delta_{l,k}\\langle b_{k}|A|b_{l}\\rangle; Tr(|\\eta\\rangle\\langle\\xi|) = \\langle\\xi|\\eta\\rangle; \\\\\n",
    "& \\langle \\psi|A|\\psi\\rangle\\ge0\\text{, }\\forall|\\psi\\rangle\\in\\mathcal{H}\\therefore A\\ge\\mathbb{0}_{\\mathcal{H}}\\Rightarrow A=A^{\\dagger}; \\alpha_{a}\\ge 0; B^{\\dagger}\\circ B\\ge\\mathbb{0}_{\\mathcal{H}}; X\\ge Y\\Rightarrow \\langle X\\rangle_{\\psi} \\ge \\langle Y\\rangle_{\\psi}\n",
    "\\end{align}"
   ]
  },
  {
   "cell_type": "markdown",
   "metadata": {},
   "source": [
    "\\begin{align}\n",
    "& \\text{Funções matriciais:} \\\\\n",
    "& f(A)\\ne(f(A_{j,k})); f(x)=\\sum_{j=0}^{\\infty}\\left(\\frac{1}{j!}\\frac{d^{j}f(x)}{dx^{j}}\\right)x^{j}; e^{A}=\\mathbb{I}_{\\mathcal{H}}+A+\\frac{A^{2}}{2}+\\frac{A^{3}}{3!}+\\cdots; \\\\\n",
    "& e^{cB}Ae^{-cB} = A + c[B,A] + \\frac{c^{2}}{2!}[B,[B,A]] + \\frac{c^{3}}{3!}[B,[B,[B,A]]] + \\cdots; \\\\\n",
    "& (\\vec{n}\\cdot\\vec{\\sigma})^{2}=||\\vec{n}||^{2}\\sigma_{0}; e^{i\\theta\\vec{n}\\cdot\\vec{\\sigma}}=\\sigma_{0}\\cos\\theta+i\\vec{n}\\cdot\\vec{\\sigma}\\sin\\theta; e^{c\\sigma_{z}}\\sigma_{x}e^{-c\\sigma_{z}}=\\sigma_{x}\\cos(2ic) + \\sigma_{y}\\sin(2ic);\\\\\n",
    "& [A,A^{\\dagger}]=\\mathbb{O}_{\\mathcal{H}}\\Rightarrow A=\\sum_{a}aP_{a} \\Rightarrow f(A):=\\sum_{a}f(a)P_{a}; \\\\\n",
    "& \\rho=\\sum_{r}rP_{r} \\Rightarrow S(\\rho) = -Tr(\\rho\\log_{2}(\\rho))=-\\sum_{r}r\\log_{2}(r); \\\\\n",
    "& H^{\\dagger}=H, \\theta\\in\\mathbb{R}, U := e^{i\\theta H} \\Rightarrow U^{\\dagger}=U^{-1}.\n",
    "\\end{align}"
   ]
  },
  {
   "cell_type": "markdown",
   "metadata": {},
   "source": [
    "\\begin{align}\n",
    "& \\text{Espaços compostos:} \\\\\n",
    "& \\mathcal{H}_{ab}=\\mathcal{H}_{a}\\otimes\\mathcal{H}_{b}\\rightarrow |c_{jk}\\rangle:=|a_{j}\\rangle\\otimes|b_{k}\\rangle, j=1,\\cdots,\\dim\\mathcal{H}_{a}, k=1,\\cdots,\\dim\\mathcal{H}_{b}; \\\\\n",
    "& A\\otimes B = \\begin{bmatrix}A_{1,1}B & \\cdots & A_{1,d_{a}}B \\\\ \\vdots & \\cdots & \\vdots \\\\ A_{d_{a},1}B & \\cdots & A_{d_{a},d_{a}}B \\end{bmatrix}; (A\\otimes B)(C\\otimes D) = AC\\otimes BD; \\\\\n",
    "& A = \\sum_{j,k=1}^{n}\\langle\\beta_{j}|A|\\beta_{k}\\rangle|\\beta_{j}\\rangle\\langle\\beta_{k}|; C = \\sum_{j,p=1}^{n}\\sum_{k,q=1}^{m}C_{jk,pq}(|\\alpha_{j}\\rangle\\otimes|\\beta_{k}\\rangle)(\\langle\\alpha_{p}|\\otimes\\langle\\beta_{q}|); \\\\\n",
    "& Tr_{\\mathcal{H}_{b}}(C) := \\sum_{l=1}^{d_{b}}(\\mathbb{I}_{a}\\otimes\\langle\\beta_{l}|)C(\\mathbb{I}_{a}\\otimes|\\beta_{l}\\rangle) = \\sum_{j,p=1}^{n}\\left(\\sum_{l=1}^{m}C_{jl,pl}\\right)|\\alpha_{j}\\rangle\\langle\\alpha_{p}| =: \\sum_{j,p=1}^{n}A_{j,p}|\\alpha_{j}\\rangle\\langle\\alpha_{p}|; \\\\\n",
    "& A=UJ=KV, J=\\sqrt{A^{\\dagger}A}, K=\\sqrt{AA^{\\dagger}}, U^{\\dagger}=U^{-1}, V^{\\dagger}=V^{-1}; \\\\\n",
    "& A = UDW, U^{\\dagger}=U^{-1}, W^{\\dagger}=W^{-1}, D=diag(d_{1},\\cdots,d_{n})\\ge\\mathbb{O}_{\\mathbb{C}^{n}}; \\\\\n",
    "& |\\Psi\\rangle = \\sum_{j=1}^{\\dim\\mathcal{H}_{a}}\\sum_{k=1}^{\\dim\\mathcal{H}_{b}}c_{j,k}|\\alpha_{j}\\rangle\\otimes|=\\sum_{j=1}^{\\min(\\dim\\mathcal{H}_{a},\\dim\\mathcal{H}_{b})}d_{j}|\\tilde{\\alpha}_{j}\\rangle\\otimes|\\tilde{\\beta}_{j}\\rangle; \\\\\n",
    "& A:=Tr_{\\mathcal{H}_{b}}(P_{\\Psi}) = \\sum_{j}d_{j}^{2}|\\tilde{\\alpha}_{j}\\rangle\\langle\\tilde{\\alpha}_{j}|; B:=Tr_{\\mathcal{H}_{a}}(P_{\\Psi})=\\sum_{j}d_{j}^{2}|\\tilde{\\beta}_{j}\\rangle\\langle\\tilde{\\beta}_{j}|\n",
    "\\end{align}"
   ]
  },
  {
   "cell_type": "code",
   "execution_count": null,
   "metadata": {},
   "outputs": [],
   "source": []
  }
 ],
 "metadata": {
  "kernelspec": {
   "display_name": "Python 3",
   "language": "python",
   "name": "python3"
  },
  "language_info": {
   "codemirror_mode": {
    "name": "ipython",
    "version": 3
   },
   "file_extension": ".py",
   "mimetype": "text/x-python",
   "name": "python",
   "nbconvert_exporter": "python",
   "pygments_lexer": "ipython3",
   "version": "3.6.4"
  }
 },
 "nbformat": 4,
 "nbformat_minor": 2
}
