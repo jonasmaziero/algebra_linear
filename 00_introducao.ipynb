{
 "cells": [
  {
   "cell_type": "markdown",
   "metadata": {},
   "source": [
    "# Introdução\n",
    "\n",
    "Álgebra Linear (AL) é um ramo da Matemática frequentemente usado em muitas áreas da Ciência, tais como Física, Engenharia e Ciência Computação. Em particular, AL é essencial para a Mecânica Quântica (MQ). A MQ é a teoria desenvolvidada originalmente para explicar fenômenos físicos microscópicos, mas que tem sido fundamental para o desenvolvimento de muitas das principais tecnologias utilizadas atualmente pela humanidade e que tem o potencial para a realização de mais um salto tecnológico com a Ciência da Informação Quântica.\n",
    "\n",
    "A MQ é usualmente tida como uma teoria de difícil assimilação pelos estudantes. No entanto, nossa visão é que essa dificuldade está bastante envolvida à mescla de AL, equações diferenciais e física quântica que se faz frequentemente nos livros texto de MQ mais utilizados nas instituições de ensino. Para remover essa má impressão dos estudantes, e para prepará-los para entender a teoria quântica em sua plenitude, acreditamos que é essencial que, antes de estudar MQ, eles tenham uma formação sólida sobre as principais definições e provas de AL que serão necessárias para o entendimento do formalismo quântico.\n",
    "\n",
    "Nossa intenção com este texto é oferecer aos estudantes, e a quem mais estiver interessdo no assunto, um exposição sucinta mas formal das provas dos principais resultados de AL necessários para o entendimento do formalismo básico da MQ. Começamos discutindo determinantes ..."
   ]
  },
  {
   "cell_type": "code",
   "execution_count": null,
   "metadata": {},
   "outputs": [],
   "source": []
  }
 ],
 "metadata": {
  "kernelspec": {
   "display_name": "Python 3",
   "language": "python",
   "name": "python3"
  },
  "language_info": {
   "codemirror_mode": {
    "name": "ipython",
    "version": 3
   },
   "file_extension": ".py",
   "mimetype": "text/x-python",
   "name": "python",
   "nbconvert_exporter": "python",
   "pygments_lexer": "ipython3",
   "version": "3.6.6"
  }
 },
 "nbformat": 4,
 "nbformat_minor": 4
}
