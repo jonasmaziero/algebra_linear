{
 "cells": [
  {
   "cell_type": "markdown",
   "metadata": {},
   "source": [
    "### Notas de aula de Álgebra Linear <br> Autor: Jonas Maziero"
   ]
  },
  {
   "cell_type": "markdown",
   "metadata": {},
   "source": [
    "# Exercícios"
   ]
  },
  {
   "cell_type": "markdown",
   "metadata": {},
   "source": [
    "---\n",
    "$1.$ Considere a base $\\{|e_{1}\\rangle,|e_{2}\\rangle\\}$ e $B:V\\rightarrow V$ que atua como segue: $B(|e_{1}\\rangle)=(|e_{1}\\rangle+|e_{2}\\rangle)/\\sqrt{2}$ e $B(|e_{2}\\rangle)=(|e_{1}\\rangle-|e_{2}\\rangle)/\\sqrt{2}$. Forneça a representação matricial de $B$ nesse caso."
   ]
  },
  {
   "cell_type": "markdown",
   "metadata": {},
   "source": [
    "_SOL._ Pela definição de representação matricial $B|e_{j}\\rangle=\\sum_{k}B_{k,j}|e_{k}\\rangle$, ou seja, $B|e_{1}\\rangle=B_{1,1}|e_{1}\\rangle+B_{2,1}|e_{2}\\rangle$ e $B|e_{2}\\rangle=B_{1,2}|e_{1}\\rangle+B_{2,2}|e_{2}\\rangle$. Comparando com a definição teremos\n",
    "\\begin{equation}\n",
    "B\\doteq\\begin{bmatrix}1/\\sqrt{2}&1/\\sqrt{2} \\\\ 1/\\sqrt{2}&-1/\\sqrt{2}\\end{bmatrix}.\n",
    "\\end{equation}"
   ]
  },
  {
   "cell_type": "markdown",
   "metadata": {},
   "source": [
    "---\n",
    "$2.$ Forneça a representação matricial dos vetores da base $\\{|e_{1}\\rangle,|e_{2}\\rangle\\}$ na base base $\\{|e_{1}\\rangle,|e_{2}\\rangle\\}$."
   ]
  },
  {
   "cell_type": "markdown",
   "metadata": {},
   "source": [
    "_SOL._ Temos que $|e_{1}\\rangle\\doteq\\begin{bmatrix}\\langle e_{1}|e_{1}\\rangle \\\\ \\langle e_{2}|e_{1}\\rangle\\end{bmatrix} = \\begin{bmatrix}1\\\\0\\end{bmatrix}$ e $|e_{2}\\rangle\\doteq\\begin{bmatrix}\\langle e_{1}|e_{2}\\rangle \\\\ \\langle e_{2}|e_{2}\\rangle\\end{bmatrix} = \\begin{bmatrix}0\\\\1\\end{bmatrix}$."
   ]
  },
  {
   "cell_type": "markdown",
   "metadata": {},
   "source": [
    "---\n",
    "$3.$ Forneça a representação matricial para a composição de operadores lineares $C=B\\circ A$, com $A$ definido por $A(|e_{1}\\rangle):=|e_{2}\\rangle\\text{, } A(|e_{2}\\rangle):=|e_{1}\\rangle$ e $B$ definido no 1º exercício."
   ]
  },
  {
   "cell_type": "markdown",
   "metadata": {},
   "source": [
    "_SOL._ Como mostrado nas notas de aula, a representação matricial para a composição é obtida de\n",
    "\\begin{equation}\n",
    "B\\circ A \\doteq \\begin{bmatrix}1/\\sqrt{2}&1/\\sqrt{2} \\\\ 1/\\sqrt{2}&-1/\\sqrt{2}\\end{bmatrix}\\begin{bmatrix}0&1\\\\1&0\\end{bmatrix} = \\begin{bmatrix}1/\\sqrt{2}&1/\\sqrt{2} \\\\ -1/\\sqrt{2}&1/\\sqrt{2}\\end{bmatrix}.\n",
    "\\end{equation}"
   ]
  },
  {
   "cell_type": "markdown",
   "metadata": {},
   "source": [
    "---\n",
    "$4.$ Para um escalar qualquer $c\\in\\mathbb{F}$ e para um vetor qualquer $|a\\rangle$ do espaço vetorial $V$, verifique que $||c*|a\\rangle||=|c|*||a||$."
   ]
  },
  {
   "cell_type": "markdown",
   "metadata": {},
   "source": [
    "_SOL._ Aplicando a definição, vem que $||c*|a\\rangle||=\\sqrt{(c*|a\\rangle,c*|a\\rangle)}=\\sqrt{cc^{*}(|a\\rangle,|a\\rangle)}=\\sqrt{|c|^{2}||a||^{2}}=|c|*||a||$."
   ]
  },
  {
   "cell_type": "markdown",
   "metadata": {},
   "source": [
    "---\n",
    "$5.$ Calcule os autovalores e autovetores da matriz $H=\\frac{1}{\\sqrt{2}}\\begin{bmatrix}1 & 1 \\\\ 1 & -1 \\end{bmatrix}$."
   ]
  },
  {
   "cell_type": "markdown",
   "metadata": {},
   "source": [
    "_SOL._ Autovalores\n",
    "\\begin{align}\n",
    "0&=\\det(H-\\lambda\\mathbb{I})=\\det\\begin{bmatrix}1/\\sqrt{2}-\\lambda & 1/\\sqrt{2} \\\\ 1/\\sqrt{2} & -1/\\sqrt{2}-\\lambda\\end{bmatrix} = -(1/\\sqrt{2}-\\lambda)(1/\\sqrt{2}+\\lambda)-1/2 \\\\\n",
    "& = -1/2+\\lambda^{2}-1/2, \\\\\n",
    "& \\therefore \\lambda = \\pm 1.\n",
    "\\end{align}\n",
    "\n",
    "Autovetores ($H|v\\rangle=\\lambda|v\\rangle$):\n",
    "* $\\lambda=1$:\n",
    "\\begin{align}\n",
    "\\frac{1}{\\sqrt{2}}\\begin{bmatrix}1 & 1 \\\\ 1 & -1 \\end{bmatrix}\\begin{bmatrix}a\\\\b\\end{bmatrix}=(1)\\begin{bmatrix}a\\\\b\\end{bmatrix} \\therefore \\begin{cases} a+b=\\sqrt{2}a \\\\ a-b=\\sqrt{2}b\\end{cases} \\therefore \\begin{cases} b=(\\sqrt{2}-1)a \\\\ a=(\\sqrt{2}+1)b\\end{cases}, \\\\\n",
    "\\end{align}\n",
    "Assim, $a=(\\sqrt{2}+1)(\\sqrt{2}-1)a=(2-1)a$. Pela indeterminação, fazemos $a=1$, obtendo assim\n",
    "\\begin{equation}\n",
    "|+\\rangle=\\begin{bmatrix}1\\\\\\sqrt{2}-1\\end{bmatrix}.\n",
    "\\end{equation}\n",
    "A verificação está feita abaixo.\n",
    "\n",
    "* $\\lambda=-1$:\n",
    "\\begin{align}\n",
    "\\frac{1}{\\sqrt{2}}\\begin{bmatrix}1 & 1 \\\\ 1 & -1 \\end{bmatrix}\\begin{bmatrix}a\\\\b\\end{bmatrix}=(-1)\\begin{bmatrix}a\\\\b\\end{bmatrix} \\therefore \\begin{cases} a+b=-\\sqrt{2}a \\\\ a-b=-\\sqrt{2}b\\end{cases} \\therefore \\begin{cases} b=(-\\sqrt{2}-1)a \\\\ a=(-\\sqrt{2}+1)b\\end{cases}, \\\\\n",
    "\\end{align}\n",
    "Assim, $a=(-\\sqrt{2}+1)(-\\sqrt{2}-1)a=(2-1)a$. Pela indeterminação, fazemos $a=-1$, obtendo assim\n",
    "\\begin{equation}\n",
    "|-\\rangle=\\begin{bmatrix}1\\\\\\sqrt{2}+1\\end{bmatrix}\n",
    "\\end{equation}"
   ]
  },
  {
   "cell_type": "code",
   "execution_count": 6,
   "metadata": {},
   "outputs": [
    {
     "data": {
      "image/png": "[encoded data removed]",
      "text/latex": [
       "$\\displaystyle \\left[ \\left( -1, \\  1, \\  \\left[ \\left[\\begin{matrix}1 - \\sqrt{2}\\\\1\\end{matrix}\\right]\\right]\\right), \\  \\left( 1, \\  1, \\  \\left[ \\left[\\begin{matrix}1 + \\sqrt{2}\\\\1\\end{matrix}\\right]\\right]\\right)\\right]$"
      ],
      "text/plain": [
       "⎡⎛       ⎡⎡1 - √2⎤⎤⎞  ⎛      ⎡⎡1 + √2⎤⎤⎞⎤\n",
       "⎢⎜-1, 1, ⎢⎢      ⎥⎥⎟, ⎜1, 1, ⎢⎢      ⎥⎥⎟⎥\n",
       "⎣⎝       ⎣⎣  1   ⎦⎦⎠  ⎝      ⎣⎣  1   ⎦⎦⎠⎦"
      ]
     },
     "execution_count": 6,
     "metadata": {},
     "output_type": "execute_result"
    }
   ],
   "source": [
    "from sympy import Matrix, sqrt, simplify, init_printing\n",
    "init_printing(use_unicode=True)\n",
    "\n",
    "H = (1/sqrt(2))*Matrix([[1,1],[1,-1]])\n",
    "H.eigenvects()"
   ]
  },
  {
   "cell_type": "code",
   "execution_count": 7,
   "metadata": {},
   "outputs": [
    {
     "data": {
      "image/png": "[encoded data removed]",
      "text/latex": [
       "$\\displaystyle \\left( \\left[\\begin{matrix}1\\\\-1 + \\sqrt{2}\\end{matrix}\\right], \\  \\left[\\begin{matrix}1\\\\- \\sqrt{2} - 1\\end{matrix}\\right]\\right)$"
      ],
      "text/plain": [
       "⎛⎡   1   ⎤  ⎡   1   ⎤⎞\n",
       "⎜⎢       ⎥, ⎢       ⎥⎟\n",
       "⎝⎣-1 + √2⎦  ⎣-√2 - 1⎦⎠"
      ]
     },
     "execution_count": 7,
     "metadata": {},
     "output_type": "execute_result"
    }
   ],
   "source": [
    "p = Matrix([[1],[sqrt(2)-1]]); m = Matrix([[-1],[sqrt(2)+1]])\n",
    "simplify(H*p), simplify(H*m) # ok"
   ]
  },
  {
   "cell_type": "markdown",
   "metadata": {},
   "source": [
    "---\n",
    "$6.$ Verifique que se $|a\\rangle$ é autovetor do operador linear correspondente ao autovalor $\\alpha$, então, para $c\\in\\mathbb{F}$, o vetor $c|a\\rangle$ também é autovetor de $A$ correspondente ao autovalor $\\alpha$."
   ]
  },
  {
   "cell_type": "markdown",
   "metadata": {},
   "source": [
    "_SOL._ Pelo enunciado, temos que $A|a\\rangle=\\alpha|a\\rangle$. Podemos escrever assim $A(c|a\\rangle)=cA|a\\rangle=ca|a\\rangle=a(c|a\\rangle)$, cqd."
   ]
  },
  {
   "cell_type": "markdown",
   "metadata": {},
   "source": [
    "---\n",
    "$7.$ Verifique que se $A,B:\\mathcal{H}\\rightarrow\\mathcal{H}$ então $(A+B)^{\\dagger}=A^{\\dagger}+B^{\\dagger}$."
   ]
  },
  {
   "cell_type": "markdown",
   "metadata": {},
   "source": [
    "_SOL._ Aplicando as propriedades do produto interno e a existência do adjunto, teremos\n",
    "\\begin{align}\n",
    "& ((A+B)|v\\rangle,|w\\rangle) = (|v\\rangle,(A+B)^{\\dagger}|w\\rangle) \\\\\n",
    "& = ((A|v\\rangle+B|v\\rangle),|w\\rangle) =: ((|a\\rangle+|b\\rangle),|w\\rangle) = (|a\\rangle,|w\\rangle)+(|b\\rangle,|w\\rangle) \\\\\n",
    "& = (A|v\\rangle,|w\\rangle)+(B|v\\rangle,|w\\rangle) = (|v\\rangle,A^{\\dagger}|w\\rangle)+(|v\\rangle,B^{\\dagger}|w\\rangle) \\\\\n",
    "& =: (|v\\rangle,|\\alpha\\rangle)+(|v\\rangle,|\\beta\\rangle) = (|v\\rangle,(|\\alpha\\rangle+|\\beta\\rangle)) = (|v\\rangle,(A^{\\dagger}|w\\rangle+B^{\\dagger}|w\\rangle)) \\\\\n",
    "& = (|v\\rangle,(A^{\\dagger}+B^{\\dagger})|w\\rangle).\n",
    "\\end{align}"
   ]
  },
  {
   "cell_type": "markdown",
   "metadata": {},
   "source": [
    "---\n",
    "$8.$ Verifique que se $c\\in\\mathbb{F}$ e $A:\\mathcal{H}\\rightarrow\\mathcal{H}$ então $(c A)^{\\dagger}=c^{*}A^{\\dagger}$."
   ]
  },
  {
   "cell_type": "markdown",
   "metadata": {},
   "source": [
    "_SOL._ Aplicando a definição de operador adjunto e as propriedades do produto interno, teremos\n",
    "\\begin{align}\n",
    "& ((cA)|v\\rangle,|w\\rangle) = (|v\\rangle,(cA)^{\\dagger}|w\\rangle) \\\\\n",
    "& = (|w\\rangle,(cA)|v\\rangle)^{*} = (|w\\rangle,c(A|v\\rangle))^{*} = c^{*}(|w\\rangle,A|v\\rangle)^{*} \\\\\n",
    "& = c^{*}(A|v\\rangle,|w\\rangle) = c^{*}(|v\\rangle,A^{\\dagger}|w\\rangle) = (|v\\rangle,c^{*}A^{\\dagger}|w\\rangle), \\\\\n",
    "& \\therefore (cA)^{\\dagger}=c^{*}A^{\\dagger}.\n",
    "\\end{align}"
   ]
  },
  {
   "cell_type": "markdown",
   "metadata": {},
   "source": [
    "--- \n",
    "$9.$ Usando as propriedades da adjunta de matrizes, verifique que para projetores  em $\\mathbb{C}^{n}$ temos $P^{\\dagger}_{\\mathbb{C}^{n}}=P_{\\mathbb{C}^{n}}$."
   ]
  },
  {
   "cell_type": "markdown",
   "metadata": {},
   "source": [
    "_SOL._ Usando $(A+B)^{\\dagger}=A^{\\dagger}+B^{\\dagger}$, $(AB)^{\\dagger}=B^{\\dagger}A^{\\dagger}$, $|v\\rangle^{\\dagger}=\\langle v|$ e $\\langle v|^{\\dagger}=|v\\rangle$ teremos\n",
    "\\begin{align}\n",
    "P^{\\dagger}_{\\mathbb{C}^{n}} &= \\left(\\sum_{j=1}^{n}|w_{j}\\rangle\\langle w_{j}|\\right)^{\\dagger} = \\sum_{j=1}^{n}\\left(|w_{j}\\rangle\\langle w_{j}|\\right)^{\\dagger} = \\sum_{j=1}^{n}\\langle w_{j}|^{\\dagger}|w_{j}\\rangle^{\\dagger} \\\\\n",
    "&= \\sum_{j=1}^{n}|w_{j}\\rangle\\langle w_{j}| = P_{\\mathbb{C}^{n}}.\n",
    "\\end{align}"
   ]
  },
  {
   "cell_type": "markdown",
   "metadata": {},
   "source": [
    "---\n",
    "$10.$ Para $\\mathbb{C}^{3}$, considere o projetor $P_{1}=|1\\rangle\\langle 1|$ com $|1\\rangle=\\begin{bmatrix} 1 & 0 & 0 \\end{bmatrix}^{T}$. Forneça um complemento ortonormal de $P_{1}$? Verifique que $P_{1}\\circ P_{1^{\\perp}}=\\mathbb{O}_{\\mathbb{C}^{3}}$."
   ]
  },
  {
   "cell_type": "markdown",
   "metadata": {},
   "source": [
    "_SOL._ Na forma matricial temos $P_{1}=\\begin{bmatrix}1&0&0\\\\0&0&0\\\\0&0&0\\end{bmatrix}$. Um complemento ortonormal desse projetor é\n",
    "\\begin{equation}\n",
    "P_{1^{\\perp}} = \\mathbb{I}-P_{1} = \\begin{bmatrix}0&0&0\\\\0&1&0\\\\0&0&1\\end{bmatrix}.\n",
    "\\end{equation}\n",
    "Teremos assim que\n",
    "\\begin{equation}\n",
    "(P_{1}\\circ P_{1^{\\perp}})|v\\rangle = \\begin{bmatrix}1&0&0\\\\0&0&0\\\\0&0&0\\end{bmatrix}\\begin{bmatrix}0&0&0\\\\0&1&0\\\\0&0&1\\end{bmatrix}\\begin{bmatrix}v_{1}\\\\v_{2}\\\\v_{3}\\end{bmatrix} = \\begin{bmatrix}1&0&0\\\\0&0&0\\\\0&0&0\\end{bmatrix}\\begin{bmatrix}0\\\\v_{2}\\\\v_{3}\\end{bmatrix} = \\begin{bmatrix}0\\\\0\\\\0\\end{bmatrix}.\n",
    "\\end{equation}"
   ]
  },
  {
   "cell_type": "markdown",
   "metadata": {},
   "source": [
    "---\n",
    "$11.$ Operadores anti-Hermitianos são definidos por $A^{\\dagger}=-A$. Mostre que esses operadores possuem uma decomposição espectral e que os autovalores desse tipo de operador são números imaginários puros e que seus autovetores correspondentes a autovalores diferentes são ortogonais."
   ]
  },
  {
   "cell_type": "markdown",
   "metadata": {},
   "source": [
    "_SOL._ Usando $A|a\\rangle=a|a\\rangle$, teremos\n",
    "\\begin{align}\n",
    "& (|a\\rangle,A^{\\dagger}|a'\\rangle) = (|a\\rangle,(-A)|a'\\rangle) = - (|a\\rangle,a'|a'\\rangle) =-a'(|a\\rangle,|a'\\rangle) \\\\\n",
    "& = (A|a\\rangle,|a'\\rangle) = (a|a\\rangle,|a'\\rangle) = a^{*}(|a\\rangle,|a'\\rangle), \\\\\n",
    "& \\therefore (a'+a^{*})\\langle a|a'\\rangle = 0.\n",
    "\\end{align}\n",
    "Então se $a=a'$ temos que ter $(a+a^{*})\\langle a|a\\rangle = 0 \\therefore \\Re(a)+i\\Im(a)+\\Re(a)-i\\Im(a)=2\\Re(a)=0$. Portando $a$ é puramente imagniário. Agora se $a\\ne a'$ temos que ter ter $(a'+a^{*})\\langle a|a'\\rangle = 0 \\therefore i(\\Im(a')-\\Im(a))\\langle a|a'\\rangle = 0 \\therefore \\langle a|a'\\rangle=0$."
   ]
  },
  {
   "cell_type": "markdown",
   "metadata": {},
   "source": [
    "---\n",
    "$12.$ Verifique que o valor médio $\\langle A\\rangle = \\langle\\psi|A|\\psi\\rangle$ de um operador anti-Hermitiano $A^{\\dagger}=-A$ é um número imaginário puro."
   ]
  },
  {
   "cell_type": "markdown",
   "metadata": {},
   "source": [
    "_SOL._ Usando a decomposição espectral $A=\\sum_{a}aP_{a}$ teremos\n",
    "\\begin{align}\n",
    "\\langle A\\rangle &= \\langle\\psi|\\sum_{a}aP_{a}|\\psi\\rangle = \\sum_{a}a\\langle\\psi|\\langle a|\\psi\\rangle|a\\rangle = \\sum_{a}a|\\langle\\psi|a\\rangle|^{2},\n",
    "\\end{align}\n",
    "que é uma número imaginário puro, pois $|\\langle\\psi|a\\rangle|^{2}\\in\\mathbb{R}$ e $a$ são números imaginários puros (pelo último exercício)."
   ]
  },
  {
   "cell_type": "markdown",
   "metadata": {},
   "source": [
    "---\n",
    "$13.$ Para $X,Y,Z:\\mathcal{H}\\rightarrow\\mathcal{H}$, verifique que $[X+Y,Z] = [X,Z]+[Y,Z]$ e  $[X\\circ Y,Z] = X\\circ[Y,Z] + [X,Z]\\circ Y$."
   ]
  },
  {
   "cell_type": "markdown",
   "metadata": {},
   "source": [
    "_SOL._ $\\forall|v\\rangle\\in\\mathcal{H}$, teremos\n",
    "\\begin{align}\n",
    "[X+Y,Z]|v\\rangle &= ((X+Y)\\circ Z-Z\\circ(X+Y)]|v\\rangle = (X+Y)(Z|v\\rangle) - Z((X+Y)|v\\rangle) \\\\\n",
    " &= X(Z|v\\rangle) + Y(Z|v\\rangle) - Z(X|v\\rangle+Y|v\\rangle)) \\\\\n",
    " &= (X\\circ Z - Z\\circ X)|v\\rangle + (Y\\circ Z - Z\\circ Y)|v\\rangle \\\\\n",
    " &= ([X,Z]+[Y,Z])|v\\rangle.\n",
    "\\end{align}\n",
    "Ademais\n",
    "\\begin{align}\n",
    "X\\circ[Y,Z] + [X,Z]\\circ Y &= X\\circ(Y\\circ Z-Z\\circ Y) + (X\\circ Z-Z\\circ X)\\circ Y \\\\\n",
    "&= X\\circ(Y\\circ Z) - X\\circ(Z\\circ Y) + (X\\circ Z)\\circ Y - (Z\\circ X)\\circ Y \\\\\n",
    "&= (X\\circ Y)\\circ Z - X\\circ(Z\\circ Y) + X\\circ(Z\\circ Y) - Z\\circ(X\\circ Y) \\\\\n",
    "&= [X\\circ Y,Z].\n",
    "\\end{align}"
   ]
  },
  {
   "cell_type": "markdown",
   "metadata": {},
   "source": [
    "---\n",
    "$14.$ Para $A|a_{j}^{(k)}\\rangle=a_{j}|a_{j}^{(k)}\\rangle$, verifique que se $|v_{j}\\rangle=\\sum_{k=1}^{\\dim\\mathcal{H}_{k}}c_{k}|a_{j}^{(k)}\\rangle$ então $A|v_{j}\\rangle=a_{j}|v_{j}\\rangle$, com $c_{k}\\in\\mathbb{F}$."
   ]
  },
  {
   "cell_type": "markdown",
   "metadata": {},
   "source": [
    "_SOL._ Teremos que $A|v_{j}\\rangle=A\\left(\\sum_{k=1}^{\\dim\\mathcal{H}_{k}}c_{k}|a_{j}^{(k)}\\rangle\\right)=\\sum_{k=1}^{\\dim\\mathcal{H}_{k}}c_{k}A|a_{j}^{(k)}\\rangle =\\sum_{k=1}^{\\dim\\mathcal{H}_{k}}c_{k}a_{j}|a_{j}^{(k)}\\rangle = a_{j}\\sum_{k=1}^{\\dim\\mathcal{H}_{k}}c_{k}|a_{j}^{(k)}\\rangle = a_{j}|v_{j}\\rangle$."
   ]
  },
  {
   "cell_type": "markdown",
   "metadata": {},
   "source": [
    "---\n",
    "$15.$ Verifique que o conjunto de vetores coluna $|C_{j}^{A}\\rangle=\\begin{bmatrix}A_{1,j}&\\cdots&A_{n,j}\\end{bmatrix}^{T}$ de uma matriz unitária formam um conjunto ortonormal."
   ]
  },
  {
   "cell_type": "markdown",
   "metadata": {},
   "source": [
    "_SOL._ Tomando o produto interno, vem que\n",
    "\\begin{align}\n",
    "\\langle C_{j}^{A}|C_{k}^{A}\\rangle &= |C_{j}^{A}\\rangle^{\\dagger}|C_{k}^{A}\\rangle = \\begin{bmatrix}A^{*}_{1,j}&\\cdots&A^{*}_{n,j}\\end{bmatrix}\\begin{bmatrix}A_{1,k} \\\\ \\vdots \\\\ A_{n,k}\\end{bmatrix} \\\\\n",
    "&= A^{*}_{1,j}A_{1,k}+\\cdots+A^{*}_{n,j}A_{n,k} = (A^{\\dagger})_{j,1}A_{1,k}+\\cdots+(A^{\\dagger})_{j,n}A_{n,k} \\\\\n",
    "& = (A^{\\dagger}A)_{j,k} = \\delta_{j,k}.\n",
    "\\end{align}"
   ]
  },
  {
   "cell_type": "markdown",
   "metadata": {},
   "source": [
    "---\n",
    "$16.$ Verifique que se $J$ é uma matriz positiva e $U$ é uma matriz unitária, então $UJU^{\\dagger}$ também é uma matriz positiva."
   ]
  },
  {
   "cell_type": "markdown",
   "metadata": {},
   "source": [
    "_SOL._ Temos que $J\\ge\\mathbb{O}\\Rightarrow \\langle\\psi|J|\\psi\\rangle\\ge 0\\ \\forall|\\psi\\rangle\\in\\mathcal{H}$. Assim, para $U^{\\dagger}|\\psi\\rangle=:|\\phi\\rangle\\in\\mathcal{H}$ teremos $\\langle\\psi|UJU^{\\dagger}|\\psi\\rangle=\\langle\\phi|J|\\phi\\rangle\\ge 0$."
   ]
  },
  {
   "cell_type": "markdown",
   "metadata": {},
   "source": [
    "---\n",
    "$17.$ Considere $B$ um operador linear inversível, ou seja, considere que existe $B^{-1}$ tal que $B^{-1}B=BB^{-1}=\\mathbb{I}$. Mostre que um operador linear $BAB^{-1}$ tem os mesmos autovalores que o operador linear $A.$"
   ]
  },
  {
   "cell_type": "markdown",
   "metadata": {},
   "source": [
    "_SOL._ Seja $\\det(A-\\lambda I)=0$ a equação característica para o operador linear (matriz) $A$, com $I$ denotando a matriz identidade. Para a matriz $BAB^{-1}$ teremos a seguinte equação característica\n",
    "\\begin{align}\n",
    "& \\det(BAB^{-1}-\\xi I) = 0 \\\\\n",
    "& = \\det(BAB^{-1}-\\xi BB^{-1}) = \\det(B(AB^{-1}-\\xi I B^{-1})) = \\det(B(A-\\xi I) B^{-1}) \\\\\n",
    "& = \\det(B)\\det(A-\\xi I)\\det(B^{-1}) = \\det(B)\\det(B^{-1})\\det(A-\\xi I) \\\\\n",
    "& = \\det(BB^{-1})\\det(A-\\xi I) = \\det(I)\\det(A-\\xi I) = (1)\\det(A-\\xi I) \\\\\n",
    "& = \\det(A-\\xi I).\n",
    "\\end{align}\n",
    "Portanto $$\\xi=\\lambda,$$\n",
    "cqd.\n"
   ]
  },
  {
   "cell_type": "markdown",
   "metadata": {},
   "source": [
    "---\n",
    "$18.$ Dados dois operadores lineares quaisquer $A$ e $B$, verifique que o spectro (os autovalores) de $AB$, denotado por $\\sigma(AB)$, é igual ao espectro de $BA$, denotado por $\\sigma(BA)$. "
   ]
  },
  {
   "cell_type": "markdown",
   "metadata": {},
   "source": [
    "_SOL._ Considera a equação de autovalores de autovetores\n",
    "$$(AB)|v\\rangle = \\lambda|v\\rangle.$$\n",
    "Qualquer autovetor deve ser diferente do vetor nulo, ou seja, $|v\\rangle\\ne |\\oslash\\rangle$. Além do mais, somente o operador nulo leva um vetor qualquer para o vetor nulo. Então \n",
    "$$B|v\\rangle\\ne|\\oslash\\rangle.$$\n",
    "Com isso, podemos escrever\n",
    "\\begin{align}\n",
    "B((AB)|v\\rangle) = B(\\lambda|v\\rangle) \\\\\n",
    "\\therefore\\ (BA)(B|v\\rangle) = \\lambda(B|v\\rangle).\n",
    "\\end{align}\n",
    "Por conseguinte, $B|v\\rangle$ é autovetor de $BA$ com autovalores $\\lambda$, que é o autovalor correspondente de $AB$.\n",
    "\n",
    "No caso de um autovalor nulor, $\\lambda=0$, temos que\n",
    "\\begin{align}\n",
    "& \\det(AB-0I) = 0 = \\det(AB) \\\\\n",
    "& = \\det(A)\\det(B) = \\det(B)\\det(A) \\\\\n",
    "& = \\det(BA) = \\det(BA-0I).\n",
    "\\end{align}\n",
    "Concluímos assim que\n",
    "$$\\sigma(AB)=\\sigma(BA).$$"
   ]
  },
  {
   "cell_type": "code",
   "execution_count": null,
   "metadata": {},
   "outputs": [],
   "source": []
  }
 ],
 "metadata": {
  "kernelspec": {
   "display_name": "Python 3 (ipykernel)",
   "language": "python",
   "name": "python3"
  },
  "language_info": {
   "codemirror_mode": {
    "name": "ipython",
    "version": 3
   },
   "file_extension": ".py",
   "mimetype": "text/x-python",
   "name": "python",
   "nbconvert_exporter": "python",
   "pygments_lexer": "ipython3",
   "version": "3.11.1"
  }
 },
 "nbformat": 4,
 "nbformat_minor": 4
}
