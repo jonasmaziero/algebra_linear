{
 "cells": [
  {
   "cell_type": "markdown",
   "metadata": {},
   "source": [
    "### Notas de aula de Álgebra Linear <br> Autor: Jonas Maziero"
   ]
  },
  {
   "cell_type": "markdown",
   "metadata": {},
   "source": [
    "# Exercícios"
   ]
  },
  {
   "cell_type": "markdown",
   "metadata": {},
   "source": [
    "---\n",
    "$1.$ Calcule o produto tensorial $\\sigma_{x}\\otimes\\sigma_{y}=\\begin{bmatrix}0&1\\\\1&0\\end{bmatrix}\\otimes\\begin{bmatrix}0&-i\\\\i&0\\end{bmatrix}$."
   ]
  },
  {
   "cell_type": "markdown",
   "metadata": {},
   "source": [
    "_SOL._ Aplicando a definição, teremos $\\sigma_{x}\\otimes\\sigma_{y}=\\begin{bmatrix}0&0&0&-i \\\\ 0&0&i&0\\\\0&-i&0&0 \\\\ i&0&0&0\\end{bmatrix}.$"
   ]
  },
  {
   "cell_type": "markdown",
   "metadata": {},
   "source": [
    "---\n",
    "$2.$ Uma base ortonormal para $\\mathbb{C}^{2\\mathrm{x}2}$ é\n",
    "\\begin{equation}\n",
    "A_{1}=\\begin{bmatrix}1&0\\\\0&0\\end{bmatrix}\\text{, }A_{2}=\\begin{bmatrix}0&1\\\\0&0\\end{bmatrix}\\text{, }A_{3}=\\begin{bmatrix}0&0\\\\1&0\\end{bmatrix}\\text{, }A_{4}=\\begin{bmatrix}0&0\\\\0&1\\end{bmatrix}.\n",
    "\\end{equation}\n",
    "Obtenha uma base ortonormal para $\\mathbb{C}^{4\\mathrm{x}4}$."
   ]
  },
  {
   "cell_type": "markdown",
   "metadata": {},
   "source": [
    "_SOL._ Uma base ortonormal para $\\mathbb{C}^{4\\mathrm{x}4}=\\mathbb{C}^{2\\mathrm{x}2}\\otimes\\mathbb{C}^{2\\mathrm{x}2}$ é $\\{A_{j}\\otimes A_{k}\\}_{j,k=1}^{4}$. Os elementos dessa bases estão mostrados abaixo."
   ]
  },
  {
   "cell_type": "code",
   "execution_count": 7,
   "metadata": {},
   "outputs": [
    {
     "data": {
      "image/png": "[encoded data removed]",
      "text/latex": [
       "$\\displaystyle \\left( \\left[\\begin{matrix}1 & 0\\\\0 & 0\\end{matrix}\\right], \\  \\left[\\begin{matrix}0 & 1\\\\0 & 0\\end{matrix}\\right], \\  \\left[\\begin{matrix}0 & 0\\\\1 & 0\\end{matrix}\\right], \\  \\left[\\begin{matrix}0 & 0\\\\0 & 1\\end{matrix}\\right]\\right)$"
      ],
      "text/plain": [
       "⎛⎡1  0⎤  ⎡0  1⎤  ⎡0  0⎤  ⎡0  0⎤⎞\n",
       "⎜⎢    ⎥, ⎢    ⎥, ⎢    ⎥, ⎢    ⎥⎟\n",
       "⎝⎣0  0⎦  ⎣0  0⎦  ⎣1  0⎦  ⎣0  1⎦⎠"
      ]
     },
     "execution_count": 7,
     "metadata": {},
     "output_type": "execute_result"
    }
   ],
   "source": [
    "from sympy import Matrix, init_printing\n",
    "init_printing(use_unicode=True)\n",
    "A1=Matrix([[1,0],[0,0]]); A2=Matrix([[0,1],[0,0]]); A3=Matrix([[0,0],[1,0]]); A4=Matrix([[0,0],[0,1]])\n",
    "A1,A2,A3,A4"
   ]
  },
  {
   "cell_type": "code",
   "execution_count": 8,
   "metadata": {},
   "outputs": [
    {
     "data": {
      "image/png": "[encoded data removed]",
      "text/latex": [
       "$\\displaystyle \\left( \\left[\\begin{matrix}1 & 0 & 0 & 0\\\\0 & 0 & 0 & 0\\\\0 & 0 & 0 & 0\\\\0 & 0 & 0 & 0\\end{matrix}\\right], \\  \\left[\\begin{matrix}0 & 1 & 0 & 0\\\\0 & 0 & 0 & 0\\\\0 & 0 & 0 & 0\\\\0 & 0 & 0 & 0\\end{matrix}\\right], \\  \\left[\\begin{matrix}0 & 0 & 0 & 0\\\\1 & 0 & 0 & 0\\\\0 & 0 & 0 & 0\\\\0 & 0 & 0 & 0\\end{matrix}\\right], \\  \\left[\\begin{matrix}0 & 0 & 0 & 0\\\\0 & 1 & 0 & 0\\\\0 & 0 & 0 & 0\\\\0 & 0 & 0 & 0\\end{matrix}\\right]\\right)$"
      ],
      "text/plain": [
       "⎛⎡1  0  0  0⎤  ⎡0  1  0  0⎤  ⎡0  0  0  0⎤  ⎡0  0  0  0⎤⎞\n",
       "⎜⎢          ⎥  ⎢          ⎥  ⎢          ⎥  ⎢          ⎥⎟\n",
       "⎜⎢0  0  0  0⎥  ⎢0  0  0  0⎥  ⎢1  0  0  0⎥  ⎢0  1  0  0⎥⎟\n",
       "⎜⎢          ⎥, ⎢          ⎥, ⎢          ⎥, ⎢          ⎥⎟\n",
       "⎜⎢0  0  0  0⎥  ⎢0  0  0  0⎥  ⎢0  0  0  0⎥  ⎢0  0  0  0⎥⎟\n",
       "⎜⎢          ⎥  ⎢          ⎥  ⎢          ⎥  ⎢          ⎥⎟\n",
       "⎝⎣0  0  0  0⎦  ⎣0  0  0  0⎦  ⎣0  0  0  0⎦  ⎣0  0  0  0⎦⎠"
      ]
     },
     "execution_count": 8,
     "metadata": {},
     "output_type": "execute_result"
    }
   ],
   "source": [
    "from sympy.physics.quantum import TensorProduct as tp\n",
    "tp(A1,A1), tp(A1,A2), tp(A1,A3), tp(A1,A4)"
   ]
  },
  {
   "cell_type": "code",
   "execution_count": 9,
   "metadata": {},
   "outputs": [
    {
     "data": {
      "image/png": "[encoded data removed]",
      "text/latex": [
       "$\\displaystyle \\left( \\left[\\begin{matrix}0 & 0 & 1 & 0\\\\0 & 0 & 0 & 0\\\\0 & 0 & 0 & 0\\\\0 & 0 & 0 & 0\\end{matrix}\\right], \\  \\left[\\begin{matrix}0 & 1 & 0 & 0\\\\0 & 0 & 0 & 0\\\\0 & 0 & 0 & 0\\\\0 & 0 & 0 & 0\\end{matrix}\\right], \\  \\left[\\begin{matrix}0 & 0 & 0 & 0\\\\0 & 0 & 1 & 0\\\\0 & 0 & 0 & 0\\\\0 & 0 & 0 & 0\\end{matrix}\\right], \\  \\left[\\begin{matrix}0 & 0 & 0 & 0\\\\0 & 0 & 0 & 1\\\\0 & 0 & 0 & 0\\\\0 & 0 & 0 & 0\\end{matrix}\\right]\\right)$"
      ],
      "text/plain": [
       "⎛⎡0  0  1  0⎤  ⎡0  1  0  0⎤  ⎡0  0  0  0⎤  ⎡0  0  0  0⎤⎞\n",
       "⎜⎢          ⎥  ⎢          ⎥  ⎢          ⎥  ⎢          ⎥⎟\n",
       "⎜⎢0  0  0  0⎥  ⎢0  0  0  0⎥  ⎢0  0  1  0⎥  ⎢0  0  0  1⎥⎟\n",
       "⎜⎢          ⎥, ⎢          ⎥, ⎢          ⎥, ⎢          ⎥⎟\n",
       "⎜⎢0  0  0  0⎥  ⎢0  0  0  0⎥  ⎢0  0  0  0⎥  ⎢0  0  0  0⎥⎟\n",
       "⎜⎢          ⎥  ⎢          ⎥  ⎢          ⎥  ⎢          ⎥⎟\n",
       "⎝⎣0  0  0  0⎦  ⎣0  0  0  0⎦  ⎣0  0  0  0⎦  ⎣0  0  0  0⎦⎠"
      ]
     },
     "execution_count": 9,
     "metadata": {},
     "output_type": "execute_result"
    }
   ],
   "source": [
    "tp(A2,A1), tp(A1,A2), tp(A2,A3), tp(A2,A4)"
   ]
  },
  {
   "cell_type": "code",
   "execution_count": 10,
   "metadata": {},
   "outputs": [
    {
     "data": {
      "image/png": "[encoded data removed]",
      "text/latex": [
       "$\\displaystyle \\left( \\left[\\begin{matrix}0 & 0 & 0 & 0\\\\0 & 0 & 0 & 0\\\\1 & 0 & 0 & 0\\\\0 & 0 & 0 & 0\\end{matrix}\\right], \\  \\left[\\begin{matrix}0 & 0 & 0 & 0\\\\0 & 0 & 0 & 0\\\\0 & 1 & 0 & 0\\\\0 & 0 & 0 & 0\\end{matrix}\\right], \\  \\left[\\begin{matrix}0 & 0 & 0 & 0\\\\0 & 0 & 0 & 0\\\\0 & 0 & 0 & 0\\\\1 & 0 & 0 & 0\\end{matrix}\\right], \\  \\left[\\begin{matrix}0 & 0 & 0 & 0\\\\0 & 0 & 0 & 0\\\\0 & 0 & 0 & 0\\\\0 & 1 & 0 & 0\\end{matrix}\\right]\\right)$"
      ],
      "text/plain": [
       "⎛⎡0  0  0  0⎤  ⎡0  0  0  0⎤  ⎡0  0  0  0⎤  ⎡0  0  0  0⎤⎞\n",
       "⎜⎢          ⎥  ⎢          ⎥  ⎢          ⎥  ⎢          ⎥⎟\n",
       "⎜⎢0  0  0  0⎥  ⎢0  0  0  0⎥  ⎢0  0  0  0⎥  ⎢0  0  0  0⎥⎟\n",
       "⎜⎢          ⎥, ⎢          ⎥, ⎢          ⎥, ⎢          ⎥⎟\n",
       "⎜⎢1  0  0  0⎥  ⎢0  1  0  0⎥  ⎢0  0  0  0⎥  ⎢0  0  0  0⎥⎟\n",
       "⎜⎢          ⎥  ⎢          ⎥  ⎢          ⎥  ⎢          ⎥⎟\n",
       "⎝⎣0  0  0  0⎦  ⎣0  0  0  0⎦  ⎣1  0  0  0⎦  ⎣0  1  0  0⎦⎠"
      ]
     },
     "execution_count": 10,
     "metadata": {},
     "output_type": "execute_result"
    }
   ],
   "source": [
    "tp(A3,A1), tp(A3,A2), tp(A3,A3), tp(A3,A4)"
   ]
  },
  {
   "cell_type": "code",
   "execution_count": 11,
   "metadata": {},
   "outputs": [
    {
     "data": {
      "image/png": "[encoded data removed]",
      "text/latex": [
       "$\\displaystyle \\left( \\left[\\begin{matrix}0 & 0 & 0 & 0\\\\0 & 0 & 0 & 0\\\\0 & 0 & 1 & 0\\\\0 & 0 & 0 & 0\\end{matrix}\\right], \\  \\left[\\begin{matrix}0 & 0 & 0 & 0\\\\0 & 0 & 0 & 0\\\\0 & 0 & 0 & 1\\\\0 & 0 & 0 & 0\\end{matrix}\\right], \\  \\left[\\begin{matrix}0 & 0 & 0 & 0\\\\0 & 0 & 0 & 0\\\\0 & 0 & 0 & 0\\\\0 & 0 & 1 & 0\\end{matrix}\\right], \\  \\left[\\begin{matrix}0 & 0 & 0 & 0\\\\0 & 0 & 0 & 0\\\\0 & 0 & 0 & 0\\\\0 & 0 & 0 & 1\\end{matrix}\\right]\\right)$"
      ],
      "text/plain": [
       "⎛⎡0  0  0  0⎤  ⎡0  0  0  0⎤  ⎡0  0  0  0⎤  ⎡0  0  0  0⎤⎞\n",
       "⎜⎢          ⎥  ⎢          ⎥  ⎢          ⎥  ⎢          ⎥⎟\n",
       "⎜⎢0  0  0  0⎥  ⎢0  0  0  0⎥  ⎢0  0  0  0⎥  ⎢0  0  0  0⎥⎟\n",
       "⎜⎢          ⎥, ⎢          ⎥, ⎢          ⎥, ⎢          ⎥⎟\n",
       "⎜⎢0  0  1  0⎥  ⎢0  0  0  1⎥  ⎢0  0  0  0⎥  ⎢0  0  0  0⎥⎟\n",
       "⎜⎢          ⎥  ⎢          ⎥  ⎢          ⎥  ⎢          ⎥⎟\n",
       "⎝⎣0  0  0  0⎦  ⎣0  0  0  0⎦  ⎣0  0  1  0⎦  ⎣0  0  0  1⎦⎠"
      ]
     },
     "execution_count": 11,
     "metadata": {},
     "output_type": "execute_result"
    }
   ],
   "source": [
    "tp(A4,A1), tp(A4,A2), tp(A4,A3), tp(A4,A4)"
   ]
  },
  {
   "cell_type": "markdown",
   "metadata": {},
   "source": [
    "---\n",
    "$3.$ Considere $\\mathcal{H}_{a}=\\mathbb{C}^{d_{a}\\mathrm{x}d_{a}}$ e $\\mathcal{H}_{b}=\\mathbb{C}^{d_{b}\\mathrm{x}d_{b}}$ e bases ortonormais, sob o produto interno de Hilbert-Schmidt, $\\{A_{j}\\}_{j=1}^{d_{a}^{2}}\\in\\mathcal{H}_{a}$ e $\\{B_{k}\\}_{k=1}^{d_{b}^{2}}\\in\\mathcal{H}_{b}$. Defina uma base de $ \\mathcal{H}_{ab}=\\mathcal{H}_{a}\\otimes\\mathcal{H}_{b}$ como $\\{C_{jk}=A_{j}\\otimes B_{k}\\}$, com $j=1,\\cdots,\\dim\\mathcal{H}_{a}$ e $k=1,\\cdots,\\dim\\mathcal{H}_{b}$, e verifique que $\\langle C_{j,k}|C_{l,m}\\rangle_{hs}=\\delta_{j,l}\\delta_{k,m},$ e portanto que nesse caso também temos $\\dim\\mathcal{H}_{ab}=(\\dim\\mathcal{H}_{a})(\\dim\\mathcal{H}_{b})$."
   ]
  },
  {
   "cell_type": "markdown",
   "metadata": {},
   "source": [
    "_SOL._ Aplicando as propriedades do produto tensorial, teremos \n",
    "\\begin{align}\n",
    "\\langle C_{j,k}|C_{l,m}\\rangle_{hs} &= Tr(C_{j,k}^{\\dagger}C_{l,m})=Tr((A_{j}\\otimes B_{k})^{\\dagger}(A_{l}\\otimes B_{m})) = Tr((A_{j}^{\\dagger}\\otimes B_{k}^{\\dagger})(A_{l}\\otimes B_{m})) \\\\ \n",
    "& = Tr(A_{j}^{\\dagger}A_{l}\\otimes B_{k}^{\\dagger}B_{m}) = Tr(A_{j}^{\\dagger}A_{l})Tr(B_{k}^{\\dagger}B_{m}) = \\langle A_{j}|A_{l}\\rangle_{hs}\\langle B_{k}|B_{m}\\rangle_{hs} \\\\\n",
    "&= \\delta_{j,l}\\delta_{k,m}.\n",
    "\\end{align}"
   ]
  },
  {
   "cell_type": "markdown",
   "metadata": {},
   "source": [
    "---\n",
    "$4.$ Para o operador de negação, ou de inversão, definido por $A|e_{1}\\rangle=|e_{2}\\rangle$ e $A|e_{2}\\rangle=|e_{1}\\rangle$, escreva sua representação produto externo (primeiramente com todos os termos, sejam eles nulos ou não)."
   ]
  },
  {
   "cell_type": "markdown",
   "metadata": {},
   "source": [
    "_SOL._ Vemos facilmente que $A_{1,1}=A_{2,2}=0$ e $A_{1,2}=A_{2,1}=1$. Assim\n",
    "\\begin{align}\n",
    "A &= \\sum_{j,k=1}^{2}\\langle e_{j}|A|e_{k}\\rangle|e_{j}\\rangle\\langle e_{k}| \\\\\n",
    "&= A_{1,1}|e_{1}\\rangle\\langle e_{1}| + A_{1,2}|e_{1}\\rangle\\langle e_{2}| + A_{2,1}|e_{2}\\rangle\\langle e_{1}| + A_{2,2}|e_{2}\\rangle\\langle e_{2}| \\\\\n",
    "&= |e_{1}\\rangle\\langle e_{2}| + |e_{2}\\rangle\\langle e_{1}|.\n",
    "\\end{align}"
   ]
  },
  {
   "cell_type": "markdown",
   "metadata": {},
   "source": [
    "---\n",
    "$5.$ Obtenha a representação produto externo de $\\sigma_{z}\\otimes\\sigma_{z}$, com $\\sigma_{z}\\doteq\\begin{bmatrix}1&0\\\\0&-1\\end{bmatrix}$ quando representado na base padrão de $\\mathbb{C}^{2}$: $\\left\\{|e_{1}\\rangle=\\begin{bmatrix}1&0\\end{bmatrix}^{T},|e_{2}\\rangle=\\begin{bmatrix}0&1\\end{bmatrix}^{T}\\right\\}$."
   ]
  },
  {
   "cell_type": "markdown",
   "metadata": {},
   "source": [
    "_SOL._ Essa representação é $\\sigma_{z}\\otimes\\sigma_{z}=\\sum_{j,k,l,m}(\\langle e_{j}|\\otimes\\langle e_{k}|)(\\sigma_{z}\\otimes\\sigma_{z})(|e_{l}\\rangle\\otimes|e_{m}\\rangle)(|e_{j}\\rangle\\otimes|e_{k}\\rangle)(\\langle e_{l}|\\otimes\\langle e_{m}|)$. Para facilitar, usamos os elementos de matriz não nulos, obtidos com o código abaixo, para escrever \n",
    "\\begin{align}\n",
    "\\sigma_{z}\\otimes\\sigma_{z} &= (|e_{1}\\rangle\\otimes|e_{1}\\rangle)(\\langle e_{1}|\\otimes\\langle e_{1}|) - (|e_{1}\\rangle\\otimes|e_{2}\\rangle)(\\langle e_{1}|\\otimes\\langle e_{2}|) \\\\\n",
    "&-(|e_{2}\\rangle\\otimes|e_{1}\\rangle)(\\langle e_{2}|\\otimes\\langle e_{1}|) + (|e_{2}\\rangle\\otimes|e_{2}\\rangle)(\\langle e_{2}|\\otimes\\langle e_{2}|).\n",
    "\\end{align}"
   ]
  },
  {
   "cell_type": "code",
   "execution_count": 13,
   "metadata": {},
   "outputs": [
    {
     "data": {
      "image/png": "[encoded data removed]",
      "text/latex": [
       "$\\displaystyle \\left[\\begin{matrix}1 & 0 & 0 & 0\\\\0 & -1 & 0 & 0\\\\0 & 0 & -1 & 0\\\\0 & 0 & 0 & 1\\end{matrix}\\right]$"
      ],
      "text/plain": [
       "⎡1  0   0   0⎤\n",
       "⎢            ⎥\n",
       "⎢0  -1  0   0⎥\n",
       "⎢            ⎥\n",
       "⎢0  0   -1  0⎥\n",
       "⎢            ⎥\n",
       "⎣0  0   0   1⎦"
      ]
     },
     "execution_count": 13,
     "metadata": {},
     "output_type": "execute_result"
    }
   ],
   "source": [
    "def pauli(j):\n",
    "    '''retorna as matrizes de Pauli'''\n",
    "    if j == 1:\n",
    "        return Matrix([[0,1],[1,0]])\n",
    "    elif j == 2:\n",
    "        return Matrix([[0,-1j],[1j,0]])\n",
    "    elif j == 3:\n",
    "        return Matrix([[1,0],[0,-1]])\n",
    "\n",
    "tp(pauli(3),pauli(3))"
   ]
  },
  {
   "cell_type": "markdown",
   "metadata": {},
   "source": [
    "---\n",
    "$6.$ Analogamente ao que fizemos nas notas de aula, use o traço parcial para obter a representação produto externo para $C^{b}:=Tr_{a}(C)$."
   ]
  },
  {
   "cell_type": "markdown",
   "metadata": {},
   "source": [
    "_SOL._ Teremos\n",
    "\\begin{align}\n",
    "C^{b} &:=Tr_{a}(C) = \\sum_{l=1}^{d_{b}}(\\langle\\alpha_{l}|\\otimes\\mathbb{I}_{b})\\sum_{j,k,p,q}C_{j,k}^{p,q}(|\\alpha_{j}\\rangle\\langle\\alpha_{p}|\\otimes|\\beta_{k}\\rangle\\langle\\beta_{q}|)(|\\alpha_{l}\\rangle\\otimes\\mathbb{I}_{b}) \\\\\n",
    "&= \\sum_{j,k,p,q,l}C_{j,k}^{p,q}(\\langle\\alpha_{l}|\\alpha_{j}\\rangle\\langle\\alpha_{p}|\\alpha_{l}\\rangle\\otimes|\\beta_{k}\\rangle\\langle\\beta_{q}|) = \\sum_{k,q}\\sum_{l}C_{l,k}^{l,q}|\\beta_{k}\\rangle\\langle\\beta_{q}| = \\sum_{k,q}C^{b}_{k,q}|\\beta_{k}\\rangle\\langle\\beta_{q}|.\n",
    "\\end{align}"
   ]
  },
  {
   "cell_type": "markdown",
   "metadata": {},
   "source": [
    "---\n",
    "$7.$ Calcule o traço parcial sobre $\\mathcal{H}_{a}$ do projetor no vetor $|\\Phi_{+}\\rangle=(|e_{1}\\rangle\\otimes|e_{1}\\rangle+|e_{2}\\rangle\\otimes|e_{2}\\rangle)/\\sqrt{2}$ (que é um dos estados do tripleto). Calcule também $S_{vn}(P_{\\Phi_{+}})$ e $S_{vn}(\\mathrm{Tr}_{a}(P_{\\Phi_{+}}))$."
   ]
  },
  {
   "cell_type": "markdown",
   "metadata": {},
   "source": [
    "_SOL._ O projetor é $P_{\\Phi_{+}}=|\\Phi_{+}\\rangle\\langle\\Phi_{+}|=(|e_{1}\\rangle\\langle e_{1}|\\otimes|e_{1}\\rangle\\langle e_{1}| + |e_{1}\\rangle\\langle e_{2}|\\otimes|e_{1}\\rangle\\langle e_{2}| + |e_{2}\\rangle\\langle e_{1}|\\otimes|e_{2}\\rangle\\langle e_{1}| + |e_{2}\\rangle\\langle e_{2}|\\otimes|e_{2}\\rangle\\langle e_{2}|)/2$. Assim\n",
    "\\begin{align}\n",
    "Tr_{a}(P_{\\Phi_{+}}) &= \\sum_{l=1}^{2}(\\langle e_{l}|\\otimes\\mathbb{I}_{b})P_{\\Phi_{+}}(|e_{l}\\rangle\\otimes\\mathbb{I}_{b}) \\\\\n",
    "&= \\sum_{l=1}^{2}(\\langle e_{l}|e_{1}\\rangle\\langle e_{1}|e_{l}\\rangle\\otimes|e_{1}\\rangle\\langle e_{1}| + \\langle e_{l}|e_{1}\\rangle\\langle e_{2}|e_{l}\\rangle\\otimes|e_{1}\\rangle\\langle e_{2}| + \\langle e_{l}|e_{2}\\rangle\\langle e_{1}|e_{l}\\rangle\\otimes|e_{2}\\rangle\\langle e_{1}| + \\langle e_{l}|e_{2}\\rangle\\langle e_{2}|e_{l}\\rangle\\otimes|e_{2}\\rangle\\langle e_{2}|)/2 \\\\\n",
    "&= (|e_{1}\\rangle\\langle e_{1}|+|e_{2}\\rangle\\langle e_{2}|)/2 = \\mathbb{I}_{2}/2.\n",
    "\\end{align}\n",
    "Em relação à entropia, temos que $S(|\\Phi_{+}\\rangle)=0$ e $S(Tr_{a}(P_{\\Phi_{+}}))=\\log_{2}(2)=1.$"
   ]
  },
  {
   "cell_type": "markdown",
   "metadata": {},
   "source": [
    "---\n",
    "$8.$ Demonstre que o conjunto de operadores hermitianos atuando em $\\mathcal{H}_a$ forma um espaço vetoral. Demonstre também que  $\\langle A|B\\rangle := Tr(A^{\\dagger} B)$ satisfaz todas as propriedades de produto interno para o conjunto de operadores hermitianos. Em seguida, decomponha o operador hermitiano $A$ em uma dada base operadores usando o produto interno. Finalmente, argumente que a dimensão desse conjunto de operadores \\'e $d^2_a$, onde $d_a = \\dim \\mathcal{H}_a$."
   ]
  },
  {
   "cell_type": "markdown",
   "metadata": {},
   "source": [
    "_SOL._"
   ]
  },
  {
   "cell_type": "markdown",
   "metadata": {},
   "source": [
    "---\n",
    "$9.$ Prove a decomposição polar direita, i.e., mostre que uma matriz qualquer pode ser escrita como $A=KV$ com $V^{\\dagger}=V^{-1}$ e $K=\\sqrt{AA^{\\dagger}}$."
   ]
  },
  {
   "cell_type": "markdown",
   "metadata": {},
   "source": [
    "_SOL._ Para $A=KV$, com $V^{\\dagger}=V^{-1}$ e $K\\ge\\mathbb{O}$, vamos considerar a decomposição polar esquerda de $A^{\\dagger} = U\\sqrt{(A^{\\dagger})^{\\dagger}A^{\\dagger}} = U\\sqrt{AA^{\\dagger}}=UK$. Portanto $A=(A^{\\dagger})^{\\dagger}=(UK)^{\\dagger}=K^{\\dagger}U^{\\dagger} = KV$."
   ]
  },
  {
   "cell_type": "markdown",
   "metadata": {},
   "source": [
    "---\n",
    "$10.$ No contexto da decomposição de Schmidt, de forma análoga ao que fizemos nas notas de aula para obter $A:=Tr_{b}(P_{\\Psi})$, verifique que $B:=Tr_{a}(P_{\\Psi})=\\sum_{j=1}d_{j}^{2}|\\tilde{\\beta}_{j}\\rangle\\langle\\tilde{\\beta}_{j}|$."
   ]
  },
  {
   "cell_type": "markdown",
   "metadata": {},
   "source": [
    "_SOL._ Aqui\n",
    "\\begin{align}\n",
    "B &:= Tr_{a}(P_{\\Psi}) = \\sum_{l}\\langle\\tilde{\\alpha}_{l}|\\otimes\\mathbb{I}_{b}\\left(\\sum_{j,k}d_{j}d_{k}|\\tilde{\\alpha}_{j}\\rangle\\langle\\tilde{\\alpha}_{k}|\\otimes|\\tilde{\\beta}_{j}\\rangle\\langle\\tilde{\\beta}_{k}|\\right)|\\tilde{\\alpha}_{l}\\rangle\\otimes\\mathbb{I}_{b} \\\\\n",
    "&= \\sum_{l}\\sum_{j,k}d_{j}d_{k}\\langle\\tilde{\\alpha}_{l}|\\tilde{\\alpha}_{j}\\rangle\\langle\\tilde{\\alpha}_{k}|\\tilde{\\alpha}_{l}\\rangle\\otimes|\\tilde{\\beta}_{j}\\rangle\\langle\\tilde{\\beta}_{k}| = \\sum_{l}d_{l}^{2}|\\tilde{\\beta}_{l}\\rangle\\langle\\tilde{\\beta}_{l}|.\n",
    "\\end{align}"
   ]
  },
  {
   "cell_type": "code",
   "execution_count": null,
   "metadata": {},
   "outputs": [],
   "source": []
  }
 ],
 "metadata": {
  "kernelspec": {
   "display_name": "Python 3 (ipykernel)",
   "language": "python",
   "name": "python3"
  },
  "language_info": {
   "codemirror_mode": {
    "name": "ipython",
    "version": 3
   },
   "file_extension": ".py",
   "mimetype": "text/x-python",
   "name": "python",
   "nbconvert_exporter": "python",
   "pygments_lexer": "ipython3",
   "version": "3.11.1"
  }
 },
 "nbformat": 4,
 "nbformat_minor": 4
}
