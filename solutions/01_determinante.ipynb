{
 "cells": [
  {
   "cell_type": "markdown",
   "metadata": {},
   "source": [
    "### Notas de aula de Álgebra Linear <br> Autor: Jonas Maziero"
   ]
  },
  {
   "cell_type": "markdown",
   "metadata": {},
   "source": [
    "# Exercícios"
   ]
  },
  {
   "cell_type": "markdown",
   "metadata": {},
   "source": [
    "---\n",
    "$1.$ Considere a função sinal $sgn_{3}$ e escreva seus possíveis valores quando aplicada a todas as possibilidades do trio de número $j_{1},j_{2},j_{3}$ retirados do conjunto $\\{1,2,3\\}$. Por fim, diga a que função $sgn_{3}$ equivale (que vocês já usaram bastante no Curso de Física)."
   ]
  },
  {
   "cell_type": "markdown",
   "metadata": {},
   "source": [
    "_SOL._ Nesse caso teremos \n",
    "\\begin{align}\n",
    "0&=sgn_{3}(1,1,1)=sgn_{3}(2,2,2)=sgn_{3}(3,3,3) \\\\\n",
    "& =sgn_{3}(1,1,2)=sgn_{3}(1,2,1)=sgn_{3}(2,1,1)=sgn_{3}(1,1,3)=sgn_{3}(1,3,1)=sgn_{3}(3,1,1)\\\\\n",
    "& =sgn_{3}(2,2,1)=sgn_{3}(2,1,2)=sgn_{3}(1,2,2)=sgn_{3}(2,2,3)=sgn_{3}(2,3,2)=sgn_{3}(3,2,2)\\\\\n",
    "& =sgn_{3}(3,3,1)=sgn_{3}(3,1,3)=sgn_{3}(1,3,3)=sgn_{3}(3,3,2)=sgn_{3}(3,2,3)=sgn_{3}(2,3,3).\n",
    "\\end{align}\n",
    "Os casos não nulos são\n",
    "\\begin{align}\n",
    "& sgn_{3}(1,2,3)=sgn_{3}(3,1,2)=sgn_{3}(2,3,1)=1, \\\\\n",
    "& sgn_{3}(1,3,2)=sgn_{3}(3,2,1)=sgn_{3}(2,1,3)=-1.\n",
    "\\end{align}\n",
    "Vemos assim que $sgn_{3}\\equiv\\epsilon_{j,k,l}$, o tensor antissimétrico de Levi-Civita."
   ]
  },
  {
   "cell_type": "markdown",
   "metadata": {},
   "source": [
    "---\n",
    "$2.$ Escreva o produto vetorial usando $sgn_{3}$."
   ]
  },
  {
   "cell_type": "markdown",
   "metadata": {},
   "source": [
    "_SOL._ Lembrando, para o sistema de coordenadas cartesianas, $\\hat{i}\\mathrm{x}\\hat{j}=-\\hat{j}\\mathrm{x}\\hat{i}=\\hat{k}$, $\\hat{j}\\mathrm{x}\\hat{k}=-\\hat{k}\\mathrm{x}\\hat{j}=\\hat{i}$ e $\\hat{k}\\mathrm{x}\\hat{i}=-\\hat{i}\\mathrm{x}\\hat{k}=\\hat{j}$. Identificando $\\hat{e}_{1}=\\hat{i}$, $\\hat{e}_{2}=\\hat{j}$ e $\\hat{e}_{3}=\\hat{k}$, podemos reescrever essas igualdades como $\\hat{e}_{1}\\mathrm{x}\\hat{e}_{2}=\\hat{e}_{3}=sgn_{3}(1,2,3)\\hat{e}_{3}$, $\\hat{e}_{2}\\mathrm{x}\\hat{e}_{1}=-\\hat{e}_{3}=sgn_{3}(2,1,3)\\hat{e}_{3}$, $\\hat{e}_{2}\\mathrm{x}\\hat{e}_{3}=\\hat{e}_{1}=sig_{3}(2,3,1)\\hat{e}_{1}$, $\\hat{e}_{3}\\mathrm{x}\\hat{e}_{2}=-\\hat{e}_{1}=sgn_{3}(3,2,1)\\hat{e}_{1}$, $\\hat{e}_{3}\\mathrm{x}\\hat{e}_{1}=\\hat{e}_{2}=sgn_{3}(3,1,2)\\hat{e}_{2}$, $\\hat{e}_{1}\\mathrm{x}\\hat{e}_{3}=\\hat{e}_{2}=sgn_{3}(3,1,2)\\hat{e}_{2}$. Como $\\hat{e}_{j}\\mathrm{x}\\hat{e}_{j}=0$ para $j=1,2,3$, podemos escrever de forma geral\n",
    "\\begin{equation}\n",
    "\\hat{e}_{j}\\mathrm{x}\\hat{e}_{k}=sgn_{3}(j,k,l)\\hat{e}_{l} \\equiv \\sum_{l=1}^{3}sgn_{3}(j,k,l)\\hat{e}_{l} \\text{ para } j,k,l=1,2,3.\n",
    "\\end{equation}\n",
    "Dessa forma, escrevendo dois vetores quaisquer como $\\vec{a}=\\sum_{j=1}^{3}a_{j}\\hat{e}_{j}$ e $\\vec{b}=\\sum_{j=1}^{3}b_{j}\\hat{e}_{j}$ teremos\n",
    "\\begin{align}\n",
    "\\vec{a}\\mathrm{x}\\vec{b} &= \\left(\\sum_{j=1}^{3}a_{j}\\hat{e}_{j}\\right)\\mathrm{x}\\left(\\sum_{k=1}^{3}b_{k}\\hat{e}_{k}\\right) = \\sum_{j,k=1}^{3}a_{j}b_{k}\\hat{e}_{j}\\mathrm{x}\\hat{e}_{k} \\\\\n",
    "&= \\sum_{j,k=1}^{3}a_{j}b_{k}\\sum_{l=1}^{3}sgn_{3}(j,k,l)\\hat{e}_{l} = \\sum_{l=1}^{3}\\left(\\sum_{j,k=1}^{3}a_{j}b_{k}sgn_{3}(j,k,l)\\right)\\hat{e}_{l} \\\\\n",
    "&= \\sum_{l=1}^{3}(\\vec{a}\\mathrm{x}\\vec{b})_{l}\\hat{e}_{l}.\n",
    "\\end{align}\n",
    "Ou seja,\n",
    "\\begin{equation}\n",
    "(\\vec{a}\\mathrm{x}\\vec{b})_{l} = \\sum_{j,k=1}^{3}a_{j}b_{k}sgn_{3}(j,k,l).\n",
    "\\end{equation}\n",
    "Assim\n",
    "\\begin{align}\n",
    "(\\vec{a}\\mathrm{x}\\vec{b})_{1} &= \\sum_{j,k=1}^{3}a_{j}b_{k}sgn_{3}(j,k,1) = a_{2}b_{3}sgn_{3}(2,3,1)+a_{3}b_{2}sgn_{3}(3,2,1)+0 = a_{2}b_{3}-a_{3}b_{2}, \\\\\n",
    "(\\vec{a}\\mathrm{x}\\vec{b})_{2} &= \\sum_{j,k=1}^{3}a_{j}b_{k}sgn_{3}(j,k,2) = a_{1}b_{3}sgn_{3}(1,3,2)+a_{3}b_{1}sgn_{3}(3,1,2)+0 = a_{3}b_{1}-a_{1}b_{3}, \\\\\n",
    "(\\vec{a}\\mathrm{x}\\vec{b})_{3} &= \\sum_{j,k=1}^{3}a_{j}b_{k}sgn_{3}(j,k,3) = a_{1}b_{2}sgn_{3}(1,2,3)+a_{2}b_{1}sgn_{3}(2,1,3)+0 = a_{1}b_{2}-a_{2}b_{1}.\n",
    "\\end{align}"
   ]
  },
  {
   "cell_type": "markdown",
   "metadata": {},
   "source": [
    "---\n",
    "$3.$ Verifique, usando o caso particular $(⋯,4,5,6,7,8,⋯)$, que precisamos fazer $2(q−p)−1=2(8−4)−1=7$ trocas entre pares de primeiros vizinhos para trocar os números $8$ e $4$."
   ]
  },
  {
   "cell_type": "markdown",
   "metadata": {},
   "source": [
    "_SOL._ Teremos \n",
    "\\begin{align}\n",
    "&(⋯,4,5,6,7,8,⋯)\\rightarrow(⋯,5,4,6,7,8,⋯)\\rightarrow(⋯,5,6,4,7,8,⋯)\\rightarrow(⋯,5,6,7,4,8,⋯) \\rightarrow(⋯,5,6,7,8,4,⋯) \\\\\n",
    "&\\rightarrow(⋯,5,6,8,7,4,⋯)\\rightarrow(⋯,5,8,6,7,4,⋯)\\rightarrow(⋯,8,5,6,7,4,⋯),\n",
    "\\end{align}\n",
    "que são as $7$ trocas."
   ]
  },
  {
   "cell_type": "markdown",
   "metadata": {},
   "source": [
    "---\n",
    "$4.$ Escreva a expressão geral para o determinante de uma matriz $A\\in\\mathbb{C}^{3\\mathrm{x}3}$ (como fizemos em aula para uma matriz $A\\in\\mathbb{C}^{2\\mathrm{x}2}$)."
   ]
  },
  {
   "cell_type": "markdown",
   "metadata": {},
   "source": [
    "_SOL._ Aplicando a definição, teremos\n",
    "\\begin{align}\n",
    "\\det(A) &= \\sum_{(j_{1},j_{2},j_{3})}sgn(j_{1},j_{2},j_{3})A_{1j_{1}}A_{2j_{2}}A_{3j_{2}} \\\\\n",
    "& = sgn(1,2,3)A_{1,1}A_{2,2}A_{3,3} + sgn(1,3,2)A_{1,1}A_{2,3}A_{3,2} + sgn(2,1,3)A_{1,2}A_{2,1}A_{3,3}  \\\\ \n",
    "& \\hspace{0.5cm} + sgn(2,3,1)A_{1,2}A_{2,3}A_{3,1} + sgn(3,1,2)A_{1,3}A_{2,1}A_{3,2} + sgn(3,2,1)A_{1,3}A_{2,2}A_{3,1} \\\\\n",
    "& = A_{1,1}A_{2,2}A_{3,3} -A_{1,1}A_{2,3}A_{3,2} -A_{1,2}A_{2,1}A_{3,3}  \\\\ \n",
    "& \\hspace{0.5cm} + A_{1,2}A_{2,3}A_{3,1} + A_{1,3}A_{2,1}A_{3,2} -A_{1,3}A_{2,2}A_{3,1}.\n",
    "\\end{align}"
   ]
  },
  {
   "cell_type": "markdown",
   "metadata": {},
   "source": [
    "---\n",
    "$5.$ Escreva a matriz $A(3,1,2)$ em termos dos elementos da matriz $A$. Verifique que $\\det(A(3,1,2))=-\\det(A(1,3,2))$."
   ]
  },
  {
   "cell_type": "markdown",
   "metadata": {},
   "source": [
    "_SOL._ Aplicando a definição, teremos\n",
    "\\begin{equation}\n",
    "A(3,1,2) = \\begin{bmatrix} A_{3,1}&A_{3,2}&A_{3,3} \\\\ A_{1,1}&A_{1,2}&A_{1,3} \\\\ A_{2,1}&A_{2,2}&A_{2,3} \\end{bmatrix}.\n",
    "\\end{equation}\n",
    " Aplicando a definição, teremos\n",
    "\\begin{align}\n",
    "\\det(A(3,1,2)) &= \\sum_{(j_{1},j_{2},j_{3})}sgn(j_{1},j_{2},j_{3})A_{3,j_{1}}A_{1,j_{2}}A_{2,j_{3}} \\\\\n",
    "& = sgn(1,2,3)A_{3,1}A_{1,2}A_{2,3} + sgn(1,3,2)A_{3,1}A_{1,3}A_{2,2} + sgn(2,1,3)A_{3,2}A_{1,1}A_{2,3}  \\\\ \n",
    "& \\hspace{0.5cm} + sgn(2,3,1)A_{3,2}A_{1,3}A_{2,1} + sgn(3,1,2)A_{3,3}A_{1,1}A_{2,2} + sgn(3,2,1)A_{3,3}A_{1,2}A_{2,1} \\\\\n",
    "& = A_{3,1}A_{1,2}A_{2,3} -A_{3,1}A_{1,3}A_{2,2} -A_{3,2}A_{1,1}A_{2,3}  \\\\ \n",
    "& \\hspace{0.5cm} + A_{3,2}A_{1,3}A_{2,1} + A_{3,3}A_{1,1}A_{2,2} -A_{3,3}A_{1,2}A_{2,1}.\n",
    "\\end{align}\n",
    "e\n",
    "\\begin{align}\n",
    "\\det(A(1,3,2)) &= \\sum_{(j_{1},j_{2},j_{3})}sgn(j_{1},j_{2},j_{3})A_{1,j_{1}}A_{3,j_{2}}A_{2,j_{3}} \\\\\n",
    "& = sgn(1,2,3)A_{1,1}A_{3,2}A_{2,3} + sgn(1,3,2)A_{1,1}A_{3,3}A_{2,2} + sgn(2,1,3)A_{1,2}A_{3,1}A_{2,3}  \\\\ \n",
    "& \\hspace{0.5cm} + sgn(2,3,1)A_{1,2}A_{3,3}A_{2,1} + sgn(3,1,2)A_{1,3}A_{3,1}A_{2,2} + sgn(3,2,1)A_{1,3}A_{3,2}A_{2,1} \\\\\n",
    "& = A_{1,1}A_{3,2}A_{2,3} -A_{1,1}A_{3,3}A_{2,2} -A_{1,2}A_{3,1}A_{2,3}  \\\\ \n",
    "& \\hspace{0.5cm} + A_{1,2}A_{3,3}A_{2,1} + A_{1,3}A_{3,1}A_{2,2} -A_{1,3}A_{3,2}A_{2,1}.\n",
    "\\end{align}"
   ]
  },
  {
   "cell_type": "markdown",
   "metadata": {},
   "source": [
    "---\n",
    "$6.$ Mostre que se duas (ou mais) colunas de uma matriz são iguais, então seu determinante é nulo."
   ]
  },
  {
   "cell_type": "markdown",
   "metadata": {},
   "source": [
    "_SOL._ Se as colunas $p$ e $q$ da matriz $A$ são iguais, podemos escrever $A_{k_{1},p}=A_{k_{1},q}$ para $k_{1}=1,\\cdots,n$. Como as colunas de $A$ são iguais às linhas da sua transposta, então temos também que $(A^{T})_{p,k_{1}}=(A^{T})_{q,k_{1}}$. Com isso podemos usar\n",
    "\\begin{align}\n",
    "\\det(A) &= \\det(A^{T}) \\\\\n",
    "&= \\sum_{j_{1},\\cdots,j_{n}}sgn(\\cdots,j_{p},\\cdots,j_{q},\\cdots)\\cdots (A^{T})_{p,j_{p}}\\cdots (A^{T})_{q,j_{q}}\\cdots \\\\\n",
    "&= \\sum_{j_{1},\\cdots,j_{n}}sgn(\\cdots,j_{p},\\cdots,j_{q},\\cdots)\\cdots (A^{T})_{p,j_{p}}\\cdots (A^{T})_{p,j_{q}}\\cdots \\\\\n",
    "&= \\text{(det de uma matriz com duas linhas iguais)}\\\\\n",
    "&=0.\n",
    "\\end{align}"
   ]
  },
  {
   "cell_type": "markdown",
   "metadata": {},
   "source": [
    "---\n",
    "$7.$ Mostre que se uma (ou mais) colunas de uma matriz é uma combinação linear de outras de suas colunas, então seu determinante é nulo."
   ]
  },
  {
   "cell_type": "markdown",
   "metadata": {},
   "source": [
    "_SOL._ Sem perda de generalidade, vamos supor que a coluna $1$ de $A$ é combinação de outras $k=2,\\cdots,r$ de suas colunas, i.e., $A_{j_{1},1}=\\sum_{k=2}^{r}c_{k}A_{j_{1},k}$ com $c_{k}\\in\\mathbb{C}$. Como as linhas da transposta são as colunas de $A$, podemos escrever $(A^{T})_{1,j_{1}}=\\sum_{k=2}^{r}(A^{T})_{k,j_{1}}$. Com isso vem que\n",
    "\\begin{align}\n",
    "\\det(A) &= \\det(A^{T}) \\\\\n",
    "&= \\sum_{(j_{1},j_{2},\\cdots,j_{r},\\cdots)}sgn(j_{1},j_{2},\\cdots,j_{r},\\cdots)(A^{T})_{1,j_{1}}(A^{T})_{2,j_{2}}\\cdots (A^{T})_{r,j_{r}}\\cdots \\\\\n",
    "&= \\sum_{(j_{1},j_{2},\\cdots,j_{r},\\cdots)}sgn(j_{1},j_{2},\\cdots,j_{r},\\cdots)\\sum_{k=2}^{r}c_{k}(A^{T})_{k,j_{1}}(A^{T})_{2,j_{2}}\\cdots (A^{T})_{r,j_{r}}\\cdots \\\\\n",
    "&= \\sum_{k=2}^{r}c_{k}\\sum_{(j_{1},j_{2},\\cdots,j_{r},\\cdots)}sgn(j_{1},j_{2},\\cdots,j_{r},\\cdots)(A^{T})_{k,j_{1}}(A^{T})_{2,j_{2}}\\cdots (A^{T})_{r,j_{r}}\\cdots \\\\\n",
    "&= \\sum_{k=2}^{r}c_{k}\\text{(det de uma matriz com duas linhas iguais)} \\\\\n",
    "&= \\sum_{k=2}^{r}c_{k}(0) =0.\n",
    "\\end{align}"
   ]
  },
  {
   "cell_type": "markdown",
   "metadata": {},
   "source": [
    "---\n",
    "$8.$ Verifique que $(aA)^{\\dagger}=a^{*}A^{\\dagger}$, para $a\\in\\mathbb{C}$ e $A\\in\\mathbb{C}^{m\\mathrm{x}n}$) com $n,m\\in\\mathbb{N}$."
   ]
  },
  {
   "cell_type": "markdown",
   "metadata": {},
   "source": [
    "_SOL._ Usando a matriz explicitamente teremos\n",
    "\\begin{align}\n",
    "(aA)^{\\dagger} &= \\begin{bmatrix}aA_{11}&aA_{12}&\\cdots&aA_{1n}\\\\aA_{21}&aA_{22}&\\cdots&aA_{2n}\\\\\\vdots&\\vdots&\\cdots&\\vdots\\\\aA_{m1}&aA_{m2}&\\cdots&aA_{mn}\\end{bmatrix}^{\\dagger} \n",
    "= \\begin{bmatrix}(aA_{11})^{*}&(aA_{21})^{*}&\\cdots&(aA_{m1})^{*}\\\\(aA_{12})^{*}&(aA_{22})^{*}&\\cdots&(aA_{m2})^{*}\\\\\\vdots&\\vdots&\\cdots&\\vdots\\\\(aA_{1n})^{*}&(aA_{2n})^{*}&\\cdots&(aA_{mn})^{*}\\end{bmatrix} \\\\\n",
    "& = \\begin{bmatrix}(a)^{*}(A_{11})^{*}&(a)^{*}(A_{21})^{*}&\\cdots&(a)^{*}(A_{m1})^{*}\\\\(a)^{*}(A_{12})^{*}&(a)^{*}(A_{22})^{*}&\\cdots&(a)^{*}(A_{m2})^{*}\\\\\\vdots&\\vdots&\\cdots&\\vdots\\\\(a)^{*}(A_{1n})^{*}&(a)^{*}(A_{2n})^{*}&\\cdots&(a)^{*}(A_{mn})^{*}\\end{bmatrix} \n",
    "= a^{*}\\begin{bmatrix}(A_{11})^{*}&(A_{21})^{*}&\\cdots&(A_{m1})^{*}\\\\(A_{12})^{*}&(A_{22})^{*}&\\cdots&(A_{m2})^{*}\\\\\\vdots&\\vdots&\\cdots&\\vdots\\\\(A_{1n})^{*}&(A_{2n})^{*}&\\cdots&(A_{mn})^{*}\\end{bmatrix} \\\\\n",
    "&= a^{*}A^{\\dagger}.\n",
    "\\end{align}"
   ]
  },
  {
   "cell_type": "markdown",
   "metadata": {},
   "source": [
    "--- \n",
    "$9.$ Verifique que o determinante e os autovalores de $A^{\\dagger}$, a adjunta da matriz $A$, são iguais ao complexo conjugado do determinante e dos autovalores de $A$, respectivamente."
   ]
  },
  {
   "cell_type": "markdown",
   "metadata": {},
   "source": [
    "_SOL._ Para o determinante, usando que $\\det(A^{T})=\\det(A)$ e $\\det(A^{*})=(\\det(A))^{*}$, é direto ver que\n",
    "\\begin{equation}\n",
    "\\det(A^{\\dagger}) = \\det((A^{T})^{*}) = (\\det(A^{T}))^{*}= (\\det(A))^{*}.\n",
    "\\end{equation}\n",
    "Para os autovalores, usando que $\\mathbb{I}_{n}^{\\dagger}=\\mathbb{I}_{n}$, que a adjunta da soma é a soma das adjuntas, que para $a\\in\\mathbb{C}$ temos $(aA)^{\\dagger}=a^{*}A^{\\dagger}$, obteremos\n",
    "\\begin{align}\n",
    "0 &= \\det(A^{\\dagger}-a\\mathbb{I}_{n}) = \\det(A^{\\dagger}+(-a^{*}\\mathbb{I}_{n})^{\\dagger}) = \\det((A-a^{*}\\mathbb{I}_{n})^{\\dagger}) = \\left(\\det(A-a^{*}\\mathbb{I}_{n})\\right)^{*}, \\\\\n",
    "&\\therefore \\det(A-a^{*}\\mathbb{I}_{n})=0.\n",
    "\\end{align}"
   ]
  },
  {
   "cell_type": "markdown",
   "metadata": {},
   "source": [
    "---\n",
    "$10.$ Para $A=\\begin{bmatrix}A_{1,1}&A_{1,2}\\\\A_{2,1}&A_{2,2}\\end{bmatrix}$ e $B=\\begin{bmatrix}B_{1,1}&B_{1,2}\\\\B_{2,1}&B_{2,2}\\end{bmatrix}$, obtenha expressões para $\\det(AB)$ e $\\det(A+B)$ em termos dos elementos de matriz de $A$ e de $B$."
   ]
  },
  {
   "cell_type": "markdown",
   "metadata": {},
   "source": [
    "_SOL._ Para o produto, usando o resultado obtido em aula, teremos\n",
    "\\begin{align}\n",
    "\\det(AB) &= \\det(A)\\det(B) \\\\\n",
    "&= (A_{11}A_{22}-A_{12}A_{21})(B_{11}B_{22}-B_{12}B_{21}) \\\\\n",
    "&= A_{11}A_{22}B_{11}B_{22} - A_{11}A_{22}B_{12}B_{21} - A_{12}A_{21}B_{11}B_{22} + A_{12}A_{21}B_{12}B_{21}.\n",
    "\\end{align}\n",
    "Para a soma temos\n",
    "\\begin{align}\n",
    "\\det(A+B) &= \\sum_{(j_{1},j_{2})}sgn(j_{1},j_{2})(A+B)_{1,j_{1}}(A+B)_{2,j_{2}} \\\\\n",
    "&= \\sum_{(j_{1},j_{2})}sgn(j_{1},j_{2})(A_{1,j_{1}}+B_{1,j_{1}})(A_{2,j_{2}}+B_{2,j_{2}}) \\\\\n",
    "&= \\sum_{(j_{1},j_{2})}sgn(j_{1},j_{2})A_{1,j_{1}}A_{2,j_{2}} + \\sum_{(j_{1},j_{2})}sgn(j_{1},j_{2})B_{1,j_{1}}B_{2,j_{2}} + \\sum_{(j_{1},j_{2})}sgn(j_{1},j_{2})A_{1,j_{1}}B_{2,j_{2}} + \\sum_{(j_{1},j_{2})}sgn(j_{1},j_{2})B_{1,j_{1}}A_{2,j_{2}} \\\\\n",
    "&= \\det(A)+\\det(B) + A_{1,1}B_{2,2} - A_{1,2}B_{2,1} + B_{1,1}A_{2,2} - B_{1,2}A_{2,1}.\n",
    "\\end{align}"
   ]
  },
  {
   "cell_type": "markdown",
   "metadata": {},
   "source": [
    "---\n",
    "$11.$ Verifique que se $A,B,C\\in\\mathbb{C}^{n\\mathrm{x}n}$ são matrizes iguais a menos da $k$-ésima coluna e essa coluna de $C$ é uma combinação linear das colunas correspondentes de $A$ e $B$, i.e., $C_{j_{k},k} = \\alpha A_{j_{k},k}+\\beta B_{j_{k},k}$ com $\\alpha,\\beta\\in\\mathbb{C}$, então $\\det(C)=\\alpha\\det(A)+\\beta\\det(B).$"
   ]
  },
  {
   "cell_type": "markdown",
   "metadata": {},
   "source": [
    "_SOL._ Como as colunas de $A,B,C$ são iguais as linhas de $A^{T},B^{T},C^{T}$, estas últimas matrizes são iguais a menos da $k$-ésima linha, para a qual temos que $$(C^{T})_{k,j_{k}}=\\alpha(A^{T})_{k,j_{k}}+\\beta(B^{T})_{k,j_{k}}.$$ Do lema provado nas notas de aula, segue que \n",
    "$$\\det(C^{T})=\\alpha\\det(A^{T})+\\beta\\det(B^{T}).$$ Mas como o determinante de uma matriz qualquer é igual ao determinante da sua matriz transposta, i.e., $\\det(X)=\\det(X^{T})\\forall X$, obtemos que \n",
    "$$\\det(C)=\\alpha\\det(A)+\\beta\\det(B).$$"
   ]
  },
  {
   "cell_type": "markdown",
   "metadata": {},
   "source": [
    "---\n",
    "$12.$ Prove que para $A = \\begin{bmatrix} B & \\mathbb{O} \\\\ * & b  \\end{bmatrix}$\n",
    "uma matriz $n\\text{x}n$, com $B$ é uma matriz $(n-1)\\text{x}(n-1)$, $\\mathbb{O}$ é uma matriz coluna nula $(n-1)\\text{x}1$, e $*$ é uma matriz linha qualquer $1\\text{x}(n-1))$, teremos $\\det(A)=b\\det(B).$"
   ]
  },
  {
   "cell_type": "markdown",
   "metadata": {},
   "source": [
    "_SOL._ Temos que $A^{T} = \\begin{bmatrix} B^{T} & *^{T} \\\\ \\mathbb{O}^{T} & b  \\end{bmatrix}$. Usando o Lema relacionado provado nas notas de aula, podemos escrever\n",
    "\\begin{align}\n",
    "\\det(A)=\\det(A^{T}) &= \\det\\begin{bmatrix} B^{T} & *^{T} \\\\ \\mathbb{O}^{T} & b  \\end{bmatrix} = b\\det(B^{T}) = b\\det(B).\n",
    "\\end{align}"
   ]
  },
  {
   "cell_type": "markdown",
   "metadata": {},
   "source": [
    "---\n",
    "$13.$ Para $A = \\begin{bmatrix} 2 & 3 & 5 \\\\ 7 & 11 & 13 \\\\ 17 & 19 & 23  \\end{bmatrix}$, calcule o menor $A^{(2,3)}$."
   ]
  },
  {
   "cell_type": "markdown",
   "metadata": {},
   "source": [
    "_SOL._ Esse menor é obtido excluíndo-se a linha $2$ e coluna $3$ de $A$: \n",
    "\\begin{equation}\n",
    "A^{(2,3)}=\\begin{bmatrix} 2 & 3 \\\\ 17 & 19  \\end{bmatrix}.\n",
    "\\end{equation}"
   ]
  },
  {
   "cell_type": "markdown",
   "metadata": {},
   "source": [
    "---\n",
    "$14.$ Para a matriz $A$ do último exercício, calcule o elemento de matriz $cof(A)_{2,3}$ da matriz de cofatores associada."
   ]
  },
  {
   "cell_type": "markdown",
   "metadata": {},
   "source": [
    "_SOL._ Usando a definição teremos que\n",
    "\\begin{equation}\n",
    "cof(A)_{2,3}=(-1)^{2+3}\\det(A^{(2,3)}) = (-1)((2)(19)-(3)(17)) = 13.\n",
    "\\end{equation}"
   ]
  },
  {
   "cell_type": "code",
   "execution_count": 12,
   "metadata": {},
   "outputs": [
    {
     "data": {
      "image/png": "[encoded data removed]",
      "text/latex": [
       "$\\displaystyle -13$"
      ],
      "text/plain": [
       "-13"
      ]
     },
     "execution_count": 12,
     "metadata": {},
     "output_type": "execute_result"
    }
   ],
   "source": [
    "2*19-3*17"
   ]
  },
  {
   "cell_type": "markdown",
   "metadata": {},
   "source": [
    "---\n",
    "$15.$ Prove a expansão em cofatores na coluna $k$: $\\det(A) = \\sum_{j=1}^{n}A_{j,k}cof(A)_{j,k}$."
   ]
  },
  {
   "cell_type": "markdown",
   "metadata": {},
   "source": [
    "_SOL._ Nas notas de aula provamos a expansão em cofatores na linha $j$: $\\det(A) = \\sum_{k=1}^{n}A_{j,k}cof(A)_{j,k}$. Vamos aplicar essa expansão para a transposta de $A$: \n",
    "\\begin{align}\n",
    "\\det(A^{T}) & = \\sum_{k=1}^{n}(A^{T})_{j,k}cof(A^{T})_{j,k} = \\sum_{k=1}^{n}A_{k,j}(-1)^{j+k}\\det((A^{T})^{(j,k)}) = \\sum_{k=1}^{n}A_{k,j}(-1)^{j+k}\\det((A^{(k,j)})^{T}) \\\\\n",
    "&= \\sum_{k=1}^{n}A_{k,j}(-1)^{k+j}\\det(A^{(k,j)}) = \\sum_{k=1}^{n}A_{k,j}cof(A)_{k,j},\n",
    "\\end{align}\n",
    "em que usamos que $(A^{(k,j)})^{T}=(A^{T})^{(j,k)}$ pois tirarmos a linha $j$ e coluna $k$ de $A^{T}$ é equivalente a tirarmos a linha $k$ e coluna $j$ de $A$."
   ]
  },
  {
   "cell_type": "markdown",
   "metadata": {},
   "source": [
    "---\n",
    "$16.$ Verifique que $(A^{-1}A)_{j,j}=1$ para $j=1,\\cdots,n$ (analogamente ao que fizemos nas notas de aula)."
   ]
  },
  {
   "cell_type": "markdown",
   "metadata": {},
   "source": [
    "_SOL._ Teremos\n",
    "\\begin{align}\n",
    "1 &= \\frac{\\det(A)}{\\det(A)} = \\frac{\\sum_{j}A_{j,k}cof(A)_{j,k}}{\\det(A)} = \\sum_{j}\\frac{cof(A)_{j,k}}{\\det(A)}A_{j,k} \\\\\n",
    "&= \\sum_{j}(A^{-1})_{k,j}A_{j,k} = (A^{-1}A)_{k,k}.\n",
    "\\end{align}"
   ]
  },
  {
   "cell_type": "markdown",
   "metadata": {},
   "source": [
    "---\n",
    "$17.$ Verifique que $(AA^{-1})_{j,k}=0\\space\\forall j\\ne k$ (analogamente ao que fizemos nas notas de aula)."
   ]
  },
  {
   "cell_type": "markdown",
   "metadata": {},
   "source": [
    "_SOL._ ****"
   ]
  },
  {
   "cell_type": "markdown",
   "metadata": {},
   "source": [
    "---\n",
    "$18.$ Usando a relação com a matriz de cofatores, calcule a inversa da matriz: $A=\\begin{bmatrix} 2 & 3 & 5 \\\\ 7 & 11 & 13 \\\\ 17 & 19 & 23  \\end{bmatrix}$."
   ]
  },
  {
   "cell_type": "markdown",
   "metadata": {},
   "source": [
    "_SOL._ Determinante de A:\n",
    "\\begin{align}\n",
    "\\det(A) &= \\sum_{k=1}^{3}A_{j,k}cof(A)_{j,k} = \\sum_{k=1}^{3}A_{1,k}(-1)^{1+k}\\det(A^{(1,k)} \\\\\n",
    "&= A_{1,1}(-1)^{1+1}\\det(A^{(1,1)}) + A_{1,2}(-1)^{1+2}\\det(A^{(1,2)}) + A_{1,3}(-1)^{1+3}\\det(A^{(1,3)}) \\\\\n",
    "&= 2\\det\\begin{bmatrix}11&13\\\\19&23\\end{bmatrix} - 3\\det\\begin{bmatrix}7&13\\\\17&23\\end{bmatrix} + 5\\det\\begin{bmatrix}7&11\\\\17&19\\end{bmatrix} \\\\\n",
    "& = -78.\n",
    "\\end{align}"
   ]
  },
  {
   "cell_type": "code",
   "execution_count": 4,
   "metadata": {},
   "outputs": [
    {
     "data": {
      "image/png": "[encoded data removed]",
      "text/latex": [
       "$\\displaystyle -78$"
      ],
      "text/plain": [
       "-78"
      ]
     },
     "execution_count": 4,
     "metadata": {},
     "output_type": "execute_result"
    }
   ],
   "source": [
    "from sympy import Matrix, init_printing\n",
    "init_printing(use_unicode=True)\n",
    "A = Matrix([[2,3,5],[7,11,13],[17,19,23]]); A.det()"
   ]
  },
  {
   "cell_type": "code",
   "execution_count": 5,
   "metadata": {},
   "outputs": [
    {
     "data": {
      "image/png": "[encoded data removed]",
      "text/latex": [
       "$\\displaystyle \\left( 6, \\  -60, \\  -54, \\  -78\\right)$"
      ],
      "text/plain": [
       "(6, -60, -54, -78)"
      ]
     },
     "execution_count": 5,
     "metadata": {},
     "output_type": "execute_result"
    }
   ],
   "source": [
    "11*23-13*19, 7*23-13*17, 7*19-11*17, 2*6-3*(-60)+5*(-54)"
   ]
  },
  {
   "cell_type": "markdown",
   "metadata": {},
   "source": [
    "Já a matriz de cofatores é obtida de\n",
    "\\begin{align}\n",
    "cof(A)_{1,1} &= (-1)^{1+1}\\det(A^{(1,1)}) = \\det\\begin{bmatrix}11&13\\\\19&23\\end{bmatrix} = 6, \\\\\n",
    "cof(A)_{1,2} &= (-1)^{1+2}\\det(A^{(1,2)}) = -\\det\\begin{bmatrix}7&13\\\\17&23\\end{bmatrix} = 60, \\\\\n",
    "cof(A)_{1,3} &= (-1)^{1+3}\\det(A^{(1,3)}) = \\det\\begin{bmatrix}7&11\\\\17&19\\end{bmatrix} = -54, \\\\\n",
    "cof(A)_{2,1} &= (-1)^{2+1}\\det(A^{(2,1)}) = -\\det\\begin{bmatrix}3&5\\\\19&23\\end{bmatrix} = 26, \\\\\n",
    "cof(A)_{2,2} &= (-1)^{2+2}\\det(A^{(2,2)}) = \\det\\begin{bmatrix}2&5\\\\17&23\\end{bmatrix} = -39, \\\\\n",
    "cof(A)_{2,3} &= (-1)^{2+3}\\det(A^{(2,3)}) = -\\det\\begin{bmatrix}2&3\\\\17&19\\end{bmatrix} = 13, \\\\\n",
    "cof(A)_{3,1} &= (-1)^{3+1}\\det(A^{(3,1)}) = \\det\\begin{bmatrix}3&5\\\\11&13\\end{bmatrix} = -16, \\\\\n",
    "cof(A)_{3,2} &= (-1)^{3+2}\\det(A^{(3,2)}) = -\\det\\begin{bmatrix}2&5\\\\7&13\\end{bmatrix} = 9, \\\\\n",
    "cof(A)_{3,3} &= (-1)^{3+3}\\det(A^{(3,3)}) = \\det\\begin{bmatrix}7&11\\\\17&19\\end{bmatrix} = -54, \\\\\n",
    "cof(A) &= \\begin{bmatrix}6&60&-54\\\\26&-39&13\\\\-16&9&-54\\end{bmatrix}.\n",
    "\\end{align}"
   ]
  },
  {
   "cell_type": "code",
   "execution_count": 6,
   "metadata": {},
   "outputs": [
    {
     "data": {
      "image/png": "[encoded data removed]",
      "text/latex": [
       "$\\displaystyle \\left( 6, \\  -60, \\  -54, \\  -26, \\  -39, \\  -13, \\  -16, \\  -9, \\  -54\\right)$"
      ],
      "text/plain": [
       "(6, -60, -54, -26, -39, -13, -16, -9, -54)"
      ]
     },
     "execution_count": 6,
     "metadata": {},
     "output_type": "execute_result"
    }
   ],
   "source": [
    "11*23-13*19, 7*23-13*17, 7*19-11*17, 3*23-5*19, 2*23-5*17, 2*19-3*17, 3*13-5*11, 2*13-5*7, 7*19-11*17"
   ]
  },
  {
   "cell_type": "markdown",
   "metadata": {},
   "source": [
    "A inversa é então\n",
    "\\begin{equation}\n",
    "A^{-1} = \\left((A^{-1})_{j,k}\\right)= \\left(\\frac{cof(A)_{k,j}}{\\det(A)}\\right).\n",
    "\\end{equation}\n",
    "Os elementos de matriz da inversa estão mostrados abaixo."
   ]
  },
  {
   "cell_type": "code",
   "execution_count": 7,
   "metadata": {},
   "outputs": [
    {
     "data": {
      "image/png": "[encoded data removed]",
      "text/latex": [
       "$\\displaystyle \\left( \\left[\\begin{matrix}6 & 60 & -54\\\\26 & -39 & 13\\\\-16 & 9 & -54\\end{matrix}\\right], \\  \\left[\\begin{matrix}- \\frac{1}{13} & - \\frac{1}{3} & \\frac{8}{39}\\\\- \\frac{10}{13} & \\frac{1}{2} & - \\frac{3}{26}\\\\\\frac{9}{13} & - \\frac{1}{6} & \\frac{9}{13}\\end{matrix}\\right], \\  \\left[\\begin{matrix}- \\frac{1}{13} & - \\frac{1}{3} & \\frac{8}{39}\\\\- \\frac{10}{13} & \\frac{1}{2} & - \\frac{3}{26}\\\\\\frac{9}{13} & - \\frac{1}{6} & - \\frac{1}{78}\\end{matrix}\\right]\\right)$"
      ],
      "text/plain": [
       "⎛                 ⎡-1/13  -1/3  8/39 ⎤  ⎡-1/13  -1/3  8/39 ⎤⎞\n",
       "⎜⎡ 6   60   -54⎤  ⎢                  ⎥  ⎢                  ⎥⎟\n",
       "⎜⎢             ⎥  ⎢-10               ⎥  ⎢-10               ⎥⎟\n",
       "⎜⎢26   -39  13 ⎥, ⎢────   1/2   -3/26⎥, ⎢────   1/2   -3/26⎥⎟\n",
       "⎜⎢             ⎥  ⎢ 13               ⎥  ⎢ 13               ⎥⎟\n",
       "⎜⎣-16   9   -54⎦  ⎢                  ⎥  ⎢                  ⎥⎟\n",
       "⎝                 ⎣9/13   -1/6  9/13 ⎦  ⎣9/13   -1/6  -1/78⎦⎠"
      ]
     },
     "execution_count": 7,
     "metadata": {},
     "output_type": "execute_result"
    }
   ],
   "source": [
    "cofA = Matrix([[6,60,-54],[26,-39,13],[-16,9,-54]]); invA = cofA.T/(-78); cofA, invA, A.inv() # ok"
   ]
  },
  {
   "cell_type": "markdown",
   "metadata": {},
   "source": [
    "---\n",
    "$19.$ Obtenha a solução, via regra de Kramer, de um SELNH especificado pela matrix de coeficientes $A=\\begin{bmatrix} 2 & 3 & 5 \\\\ 7 & 11 & 13 \\\\ 17 & 19 & 23  \\end{bmatrix}$ e pelo vetor de não homogeneidade $|y\\rangle = \\begin{bmatrix} 29 \\\\ 31 \\\\ 37 \\end{bmatrix}$."
   ]
  },
  {
   "cell_type": "markdown",
   "metadata": {},
   "source": [
    "_SOL._ Teremos\n",
    "\\begin{align}\n",
    "x_{1} &= \\frac{\\det(K^{(1)})}{\\det(A)} = \\det\\begin{bmatrix}29&3&5\\\\31&11&13\\\\37&19&23\\end{bmatrix}/(-78)=\\frac{388}{-78}\\approx -4,97, \\\\\n",
    "x_{2} &= \\frac{\\det(K^{(2)})}{\\det(A)} = \\det\\begin{bmatrix}2&29&5\\\\7&31&13\\\\17&37&23\\end{bmatrix}/(-78)=\\frac{864}{-78}\\approx -11,08, \\\\\n",
    "x_{3} &= \\frac{\\det(K^{(3)})}{\\det(A)} = \\det\\begin{bmatrix}2&3&29\\\\7&11&31\\\\17&19&37\\end{bmatrix}/(-78)=\\frac{-1126}{-78}\\approx 14,44.\n",
    "\\end{align}"
   ]
  },
  {
   "cell_type": "code",
   "execution_count": 8,
   "metadata": {},
   "outputs": [
    {
     "data": {
      "image/png": "[encoded data removed]",
      "text/latex": [
       "$\\displaystyle \\left( -1126, \\  14.4358974358974\\right)$"
      ],
      "text/plain": [
       "(-1126, 14.435897435897436)"
      ]
     },
     "execution_count": 8,
     "metadata": {},
     "output_type": "execute_result"
    }
   ],
   "source": [
    "A = Matrix([[2,3,5],[7,11,13],[17,19,23]]); A.det() # = -78\n",
    "K1 = Matrix([[29,3,5],[31,11,13],[37,19,23]]); K1.det(), float(K1.det()/(-78)) # = 388, -4.97\n",
    "K2 = Matrix([[2,29,5],[7,31,13],[17,37,23]]); K2.det(), float(K2.det()/(-78)) # = 864, -11.08\n",
    "K3 = Matrix([[2,3,29],[7,11,31],[17,19,37]]); K3.det(), float(K3.det()/(-78)) # = -1126, 14.44"
   ]
  },
  {
   "cell_type": "code",
   "execution_count": 9,
   "metadata": {},
   "outputs": [
    {
     "data": {
      "image/png": "[encoded data removed]",
      "text/latex": [
       "$\\displaystyle \\left[\\begin{matrix}29.0\\\\31.0\\\\37.0000000000001\\end{matrix}\\right]$"
      ],
      "text/plain": [
       "⎡      29.0      ⎤\n",
       "⎢                ⎥\n",
       "⎢      31.0      ⎥\n",
       "⎢                ⎥\n",
       "⎣37.0000000000001⎦"
      ]
     },
     "execution_count": 9,
     "metadata": {},
     "output_type": "execute_result"
    }
   ],
   "source": [
    "# verificação\n",
    "x = Matrix([[388/(-78)],[864/(-78)],[(-1126)/(-78)]]); A*x # ok"
   ]
  },
  {
   "cell_type": "markdown",
   "metadata": {},
   "source": [
    "---\n",
    "$20.$ Verifique que se trocamos uma coluna de uma matriz quadrada $A$ pela combinação linear dessa coluna com uma de suas outras colunas, i.e.,\n",
    "\\begin{equation}\n",
    "|A_{j}\\rangle \\rightarrow |A'_{j}\\rangle=|A_{j}\\rangle + c|A_{l}\\rangle,\n",
    "\\end{equation}\n",
    "com $c\\in\\mathbb{C}$, não mudamos o determinante da matriz."
   ]
  },
  {
   "cell_type": "markdown",
   "metadata": {},
   "source": [
    "_SOL._ Essa operação na coluna $j$ da matriz $A$ é equivalente a fazermos a seguinte operação na linha $j$ da transposta de $A$: $\\langle A^{T}_{j}| \\rightarrow \\langle (A^{T})'_{j}|=\\langle A_{j}| + c\\langle A_{l}|$. Mostramos nas notas de aula que essa operação nas linhas de uma matriz não muda seu determinante, i.e., $\\det(A^{T})=\\det((A^{T})')$. Como $\\det(A^{T})=\\det(A)$, temos que $\\det(A')=\\det(A)$. "
   ]
  },
  {
   "cell_type": "markdown",
   "metadata": {},
   "source": [
    "---\n",
    "$21.$ Usando o método de Gauss, coloque a matriz $A=\\begin{bmatrix} 2 & 3 & 5 \\\\ 7 & 11 & 13 \\\\ 17 & 19 & 23  \\end{bmatrix}$ na forma triangular e calcule seu determinante."
   ]
  },
  {
   "cell_type": "markdown",
   "metadata": {},
   "source": [
    "_SOL._ Como $A_{11}\\ne 0$ fazemos $\\langle A_{j}|\\rightarrow \\langle A_{j}|-(A_{j1}/A_{11})\\langle A_{1}|$ para j=2,3:\n",
    "\\begin{align}\n",
    "A &\\rightarrow \\begin{bmatrix} 2 & 3 & 5 \\\\ 7-(7/2)2 & 11-(7/2)3 & 13-(7/2)5 \\\\ 17-(17/2)2 & 19-(17/2)3 & 23-(17/2)5  \\end{bmatrix} = \\begin{bmatrix} 2 & 3 & 5 \\\\ 0 & 0.5 & -4.5 \\\\ 0 & -6.5 & -19.5 \\end{bmatrix} =:A_{1}.\n",
    "\\end{align}\n",
    "Como $A_{22}\\ne0$ fazemos $\\langle A_{3}|\\rightarrow \\langle A_{3}|-(A_{32}/A_{22})\\langle A_{2}|$:\n",
    "\\begin{align}\n",
    "A_{1} &\\rightarrow \\begin{bmatrix} 2 & 3 & 5 \\\\ 0 & 0.5 & -4.5 \\\\ 0-(-6.5/0.5)0 & -6.5-(-6.5/0.5)0.5 & -19.5-(-6.5/0.5)(-4.5) \\end{bmatrix} = \\begin{bmatrix} 2 & 3 & 5 \\\\ 0 & 0.5 & -4.5 \\\\ 0 & 0 & -78 \\end{bmatrix}.\n",
    "\\end{align}"
   ]
  },
  {
   "cell_type": "code",
   "execution_count": 10,
   "metadata": {},
   "outputs": [
    {
     "data": {
      "image/png": "[encoded data removed]",
      "text/latex": [
       "$\\displaystyle \\left( 0.0, \\  0.5, \\  -4.5, \\  0.0, \\  -6.5, \\  -19.5\\right)$"
      ],
      "text/plain": [
       "(0.0, 0.5, -4.5, 0.0, -6.5, -19.5)"
      ]
     },
     "execution_count": 10,
     "metadata": {},
     "output_type": "execute_result"
    }
   ],
   "source": [
    "7-(7/2)*2, 11-(7/2)*3, 13-(7/2)*5, 17-(17/2)*2, 19-(17/2)*3, 23-(17/2)*5"
   ]
  },
  {
   "cell_type": "code",
   "execution_count": 11,
   "metadata": {},
   "outputs": [
    {
     "data": {
      "image/png": "[encoded data removed]",
      "text/latex": [
       "$\\displaystyle -78.0$"
      ],
      "text/plain": [
       "-78.0"
      ]
     },
     "execution_count": 11,
     "metadata": {},
     "output_type": "execute_result"
    }
   ],
   "source": [
    "-19.5-(-6.5/0.5)*(-4.5)"
   ]
  },
  {
   "cell_type": "code",
   "execution_count": null,
   "metadata": {},
   "outputs": [],
   "source": []
  }
 ],
 "metadata": {
  "kernelspec": {
   "display_name": "Python 3 (ipykernel)",
   "language": "python",
   "name": "python3"
  },
  "language_info": {
   "codemirror_mode": {
    "name": "ipython",
    "version": 3
   },
   "file_extension": ".py",
   "mimetype": "text/x-python",
   "name": "python",
   "nbconvert_exporter": "python",
   "pygments_lexer": "ipython3",
   "version": "3.11.1"
  }
 },
 "nbformat": 4,
 "nbformat_minor": 4
}
