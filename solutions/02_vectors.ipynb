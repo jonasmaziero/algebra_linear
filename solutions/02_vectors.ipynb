{
 "cells": [
  {
   "cell_type": "markdown",
   "metadata": {},
   "source": [
    "### Notas de aula de Álgebra Linear <br> Autor: Jonas Maziero"
   ]
  },
  {
   "cell_type": "markdown",
   "metadata": {},
   "source": [
    "# Exercícios"
   ]
  },
  {
   "cell_type": "markdown",
   "metadata": {},
   "source": [
    "--- \n",
    "$1.$ Considerando o corpo escalar  $\\mathbb{C}$, obtenha o elemento inverso da multiplicação de um elemento qualquer $z\\in\\mathbb{C}$."
   ]
  },
  {
   "cell_type": "markdown",
   "metadata": {},
   "source": [
    "_SOL._ O elemento inverso da multiplicação de um corpo escalar é, por definição, tal que $z*z^{-1}=1_{\\mathbb{C}}=1$. Ou seja, devemos ter que\n",
    "\\begin{align}\n",
    "& (z_{r}+iz_{i})(z^{-1}_{r}+iz^{-1}_{i}) = (z_{r}z^{-1}_{r}-z_{i}z^{-1}_{i})+i(z_{r}z^{-1}_{i}+z_{i}z^{-1}_{r}) = 1+i0, \\\\\n",
    "& \\therefore \\begin{cases}z_{r}z^{-1}_{r}-z_{i}z^{-1}_{i}=1, \\\\ z_{r}z^{-1}_{i}+z_{i}z^{-1}_{r} = 0\\end{cases} \\therefore \\begin{bmatrix}z_{r}&-z_{i}\\\\z_{i}&z_{r}\\end{bmatrix}\\begin{bmatrix}z^{-1}_{r}\\\\z^{-1}_{i}\\end{bmatrix}=\\begin{bmatrix}1\\\\0\\end{bmatrix}, \\\\\n",
    "& \\therefore \\begin{bmatrix}z^{-1}_{r}\\\\z^{-1}_{i}\\end{bmatrix} = \\begin{bmatrix}z_{r}&-z_{i}\\\\z_{i}&z_{r}\\end{bmatrix}^{-1}\\begin{bmatrix}1\\\\0\\end{bmatrix} = \\begin{bmatrix}z_{r}/|z|^{2}&z_{i}/|z|^{2}\\\\-z_{i}/|z|^{2}&z_{r}/|z|^{2}\\end{bmatrix}\\begin{bmatrix}1\\\\0\\end{bmatrix} = \\begin{bmatrix}z_{r}/|z|^{2}\\\\-z_{i}/|z|^{2}\\end{bmatrix}.\n",
    "\\end{align}\n",
    "Ou seja,\n",
    "\\begin{equation}\n",
    "z^{-1} = z^{*}/|z|^{2}.\n",
    "\\end{equation}"
   ]
  },
  {
   "cell_type": "code",
   "execution_count": 2,
   "metadata": {},
   "outputs": [
    {
     "data": {
      "image/png": "[encoded data removed]",
      "text/latex": [
       "$\\displaystyle \\left( \\left[\\begin{matrix}z_{r} & - z_{i}\\\\z_{i} & z_{r}\\end{matrix}\\right], \\  \\left[\\begin{matrix}\\frac{z_{r}}{z_{i}^{2} + z_{r}^{2}} & \\frac{z_{i}}{z_{i}^{2} + z_{r}^{2}}\\\\- \\frac{z_{i}}{z_{i}^{2} + z_{r}^{2}} & \\frac{z_{r}}{z_{i}^{2} + z_{r}^{2}}\\end{matrix}\\right]\\right)$"
      ],
      "text/plain": [
       "⎛                 ⎡     z_{r}            z_{i}     ⎤⎞\n",
       "⎜                 ⎢───────────────  ───────────────⎥⎟\n",
       "⎜                 ⎢     2        2       2        2⎥⎟\n",
       "⎜⎡z_{r}  -z_{i}⎤  ⎢z_{i}  + z_{r}   z_{i}  + z_{r} ⎥⎟\n",
       "⎜⎢             ⎥, ⎢                                ⎥⎟\n",
       "⎜⎣z_{i}  z_{r} ⎦  ⎢    -z_{i}            z_{r}     ⎥⎟\n",
       "⎜                 ⎢───────────────  ───────────────⎥⎟\n",
       "⎜                 ⎢     2        2       2        2⎥⎟\n",
       "⎝                 ⎣z_{i}  + z_{r}   z_{i}  + z_{r} ⎦⎠"
      ]
     },
     "execution_count": 2,
     "metadata": {},
     "output_type": "execute_result"
    }
   ],
   "source": [
    "from sympy import symbols, Matrix, init_printing\n",
    "init_printing(use_unicode=True)\n",
    "zr,zi=symbols('z_{r} z_{i}'); Z = Matrix([[zr,-zi],[zi,zr]]); Z, Z.inv()"
   ]
  },
  {
   "cell_type": "markdown",
   "metadata": {},
   "source": [
    "---\n",
    "$2.$ Forneça as definições de soma e de multiplicação por escalar que fazem de $\\mathbb{C}^{m\\text{x}n}$, o conjunto de matrizes complexas $m\\text{x}n$, um espaço vetorial."
   ]
  },
  {
   "cell_type": "markdown",
   "metadata": {},
   "source": [
    "_SOL._ Para $A,B\\in\\mathbb{C}^{m\\text{x}n}$ e $c\\in\\mathbb{C}$ temos as definições\n",
    "\\begin{align}\n",
    "& A+B = \\begin{bmatrix}A_{1,1}&\\cdots&A_{1,n}\\\\\\vdots&\\cdots&\\vdots\\\\A_{m,1}&\\cdots&A_{m,n}\\end{bmatrix} + \\begin{bmatrix}B_{1,1}&\\cdots&B_{1,n}\\\\\\vdots&\\cdots&\\vdots\\\\B_{m,1}&\\cdots&B_{m,n}\\end{bmatrix} := \\begin{bmatrix}A_{1,1}+B_{1,1}&\\cdots&A_{1,n}+B_{1,n}\\\\\\vdots&\\cdots&\\vdots\\\\A_{m,1}+B_{m,1}&\\cdots&A_{m,n}+B_{m,n}\\end{bmatrix}, \\\\\n",
    "& c*A = c*\\begin{bmatrix}A_{1,1}&\\cdots&A_{1,n}\\\\\\vdots&\\cdots&\\vdots\\\\A_{m,1}&\\cdots&A_{m,n}\\end{bmatrix} := \\begin{bmatrix}c*A_{1,1}&\\cdots&c*A_{1,n}\\\\\\vdots&\\cdots&\\vdots\\\\c*A_{m,1}&\\cdots&c*A_{m,n}\\end{bmatrix}.\n",
    "\\end{align}"
   ]
  },
  {
   "cell_type": "markdown",
   "metadata": {},
   "source": [
    "---\n",
    "$3.$ Para as operações fornecidas no último exercício,  verifique que $\\mathbb{C}^{m\\text{x}n}$ satisfaz as propriedades requeridas para que seja um espaço vetorial."
   ]
  },
  {
   "cell_type": "markdown",
   "metadata": {},
   "source": [
    "_SOL._ A verificação de que essas operações satisfazem as propriedades requeridas para que $\\mathbb{C}^{m\\text{x}n}$ seja um espaço vetorial são muito paracidas com aquelas feitas nas notas de aula para $\\mathbb{C}^{n}$."
   ]
  },
  {
   "cell_type": "markdown",
   "metadata": {},
   "source": [
    "---\n",
    "$4.$ Verifique que o conjunto de vetores $\\left\\{|w_{1}\\rangle=\\begin{bmatrix} 17 & 19 \\end{bmatrix}^{T},|w_{2}\\rangle=\\begin{bmatrix} 23 & 29 \\end{bmatrix}^{T}\\right\\}$ é LI enquanto que o conjunto de vetores $\\left\\{|w_{1}\\rangle=\\begin{bmatrix} 17 & 19 \\end{bmatrix}^{T},|w_{2}\\rangle=\\begin{bmatrix} 23 & 29 \\end{bmatrix}^{T},|w_{3}\\rangle=\\begin{bmatrix} 31 & 37 \\end{bmatrix}^{T}\\right\\}$ é LD."
   ]
  },
  {
   "cell_type": "markdown",
   "metadata": {},
   "source": [
    "_SOL._ Para verificar que o 1º conjunto é LI, usamos os vetores como as colunas de uma matriz, cojo determinante é $=56\\ne0$, como mostrado abaixo. Já o segundo conjunto de vetores é LD pois é unicamente mapeado em um conjunto de vetores com 3 componentes e com a 3ª componente nula, e assim o determinante da matriz obtida é $=0$."
   ]
  },
  {
   "cell_type": "code",
   "execution_count": 3,
   "metadata": {},
   "outputs": [
    {
     "data": {
      "image/png": "[encoded data removed]",
      "text/latex": [
       "$\\displaystyle 56$"
      ],
      "text/plain": [
       "56"
      ]
     },
     "execution_count": 3,
     "metadata": {},
     "output_type": "execute_result"
    }
   ],
   "source": [
    "M = Matrix([[17,19],[23,29]]); M.det()"
   ]
  },
  {
   "cell_type": "markdown",
   "metadata": {},
   "source": [
    "---\n",
    "$5.$ Qual é a extensão do conjunto de vetores $\\left\\{|w_{1}\\rangle=\\begin{bmatrix} 17 & 19 \\end{bmatrix}^{T},|w_{2}\\rangle=\\begin{bmatrix} 23 & 29 \\end{bmatrix}^{T}\\right\\}$?"
   ]
  },
  {
   "cell_type": "markdown",
   "metadata": {},
   "source": [
    "_SOL._ A extensão desses dois vetores é o conjunto de todos os vetores que podem ser escritos como combinação linear deles. Então, para $c_{1},c_{2}\\in\\mathbb{C}$, teremos que\n",
    "\\begin{align}\n",
    "ext(\\{|w_{1}\\rangle,|w_{2}\\rangle\\}) &= \\left\\{c_{1}|w_{1}\\rangle+c_{2}|w_{2}\\rangle\\right\\} = \\left\\{c_{1}\\begin{bmatrix} 17 \\\\ 19 \\end{bmatrix}+c_{2}\\begin{bmatrix} 23 \\\\ 29 \\end{bmatrix}\\right\\} = \\left\\{\\begin{bmatrix} 17c_{1}+23c_{2} \\\\ 19c_{1}+29c_{2} \\end{bmatrix}\\right\\} \\\\\n",
    "&= \\left\\{\\begin{bmatrix} 17&23 \\\\ 19&29\\end{bmatrix}\\begin{bmatrix}c_{1}\\\\c_{2}\\end{bmatrix}\\right\\} \\stackrel{?}{=} \\left\\{\\begin{bmatrix}\\alpha\\\\\\beta\\end{bmatrix}\\right\\}\\forall\\alpha,\\beta\\in\\mathbb{C}.\n",
    "\\end{align}\n",
    "Para que isso ocorra, a matriz de coeficientes deve possuir inverse, que é o caso pois os vetores são LI, como verificado no exercício anterior. Podemos escrever assim\n",
    "\\begin{align}\n",
    "\\begin{bmatrix}c_{1}\\\\c_{2}\\end{bmatrix} &= \\begin{bmatrix} 17&23 \\\\ 19&29\\end{bmatrix}^{-1}\\begin{bmatrix}\\alpha\\\\\\beta\\end{bmatrix} = \\begin{bmatrix}29/56&-19/56\\\\-23/56&17/56\\end{bmatrix}\\begin{bmatrix}\\alpha\\\\\\beta\\end{bmatrix} \\\\\n",
    "& = \\begin{bmatrix}(29\\alpha-19\\beta)/56\\\\(-23\\alpha+17\\beta)/56\\end{bmatrix}.\n",
    "\\end{align}"
   ]
  },
  {
   "cell_type": "code",
   "execution_count": 4,
   "metadata": {},
   "outputs": [
    {
     "data": {
      "image/png": "[encoded data removed]",
      "text/latex": [
       "$\\displaystyle \\left( \\left[\\begin{matrix}\\frac{29}{56} & - \\frac{19}{56}\\\\- \\frac{23}{56} & \\frac{17}{56}\\end{matrix}\\right], \\  \\left[\\begin{matrix}\\frac{29 \\alpha}{56} - \\frac{19 \\beta}{56}\\\\- \\frac{23 \\alpha}{56} + \\frac{17 \\beta}{56}\\end{matrix}\\right]\\right)$"
      ],
      "text/plain": [
       "⎛⎡ 29   -19 ⎤  ⎡ 29⋅α   19⋅β ⎤⎞\n",
       "⎜⎢ ──   ────⎥  ⎢ ──── - ──── ⎥⎟\n",
       "⎜⎢ 56    56 ⎥  ⎢  56     56  ⎥⎟\n",
       "⎜⎢          ⎥, ⎢             ⎥⎟\n",
       "⎜⎢-23    17 ⎥  ⎢  23⋅α   17⋅β⎥⎟\n",
       "⎜⎢────   ── ⎥  ⎢- ──── + ────⎥⎟\n",
       "⎝⎣ 56    56 ⎦  ⎣   56     56 ⎦⎠"
      ]
     },
     "execution_count": 4,
     "metadata": {},
     "output_type": "execute_result"
    }
   ],
   "source": [
    "al,be=symbols('alpha beta'); M.inv(), M.inv()*Matrix([[al],[be]])"
   ]
  },
  {
   "cell_type": "markdown",
   "metadata": {},
   "source": [
    "---\n",
    "$6.$ O conjunto de vetores $\\left\\{|w_{1}\\rangle=\\begin{bmatrix} 17 & 19 \\end{bmatrix}^{T},|w_{2}\\rangle=\\begin{bmatrix} 23 & 29 \\end{bmatrix}^{T}\\right\\}$ forma uma base para o espaço vetorial $\\mathbb{C}^{2}$?"
   ]
  },
  {
   "cell_type": "markdown",
   "metadata": {},
   "source": [
    "_SOL._ Como este conjunto é LI e sua estenção é todo o espaço vetorial $\\mathbb{C}^{2}$, esse conjunto de vetores é uma base para este espaço vetorial."
   ]
  },
  {
   "cell_type": "markdown",
   "metadata": {},
   "source": [
    "---\n",
    "$7.$ A partir das propriedades básicas da função produto interno, prove que esta é anti-linear no primeiro argumento, ou seja, verifique que se $|w\\rangle=\\sum_{j}a_{j}|w_{j}\\rangle$ então $\\langle w|v\\rangle = \\sum_{j}a_{j}^{*}\\langle w_{j}|v\\rangle$."
   ]
  },
  {
   "cell_type": "markdown",
   "metadata": {},
   "source": [
    "_SOL._ Usando a asimetria por troca de ordem e linearidade no 2º argumento, teremos\n",
    "\\begin{align}\n",
    "\\langle w|v\\rangle &= \\left(\\sum_{j}a_{j}|w_{j}\\rangle,|v\\rangle\\right) = \\left(|v\\rangle,\\sum_{j}a_{j}|w_{j}\\rangle\\right)^{*} = \\left(\\sum_{j}a_{j}(|v\\rangle,|w_{j}\\rangle)\\right)^{*} \\\\\n",
    "&= \\sum_{j}a_{j}^{*}(|v\\rangle,|w_{j}\\rangle)^{*} = \\sum_{j}a_{j}^{*}(|w_{j}\\rangle,|v\\rangle).\n",
    "\\end{align}"
   ]
  },
  {
   "cell_type": "markdown",
   "metadata": {},
   "source": [
    "---\n",
    "$8.$ Calcule o produto interno entre os vetores de $\\mathbb{C}^{2}$: $|v_{1}\\rangle=\\begin{bmatrix} 1 & i \\end{bmatrix}^{T}$ e $|v_{2}\\rangle=\\begin{bmatrix} 1 & -i \\end{bmatrix}^{T}$."
   ]
  },
  {
   "cell_type": "markdown",
   "metadata": {},
   "source": [
    "_SOL._ Pela definição, teremos\n",
    "\\begin{equation}\n",
    "\\langle v_{1}|v_{2}\\rangle = |v_{1}\\rangle^{\\dagger}|v_{2}\\rangle=\\begin{bmatrix}1\\\\i\\end{bmatrix}^{\\dagger}\\begin{bmatrix}1\\\\-i\\end{bmatrix}=\\begin{bmatrix}1&-i\\end{bmatrix}\\begin{bmatrix}1\\\\-i\\end{bmatrix}=1+i^{2}=1-1=0.\n",
    "\\end{equation}"
   ]
  },
  {
   "cell_type": "markdown",
   "metadata": {},
   "source": [
    "---\n",
    "$9.$ Verificar que o produto interno de Hilbert-Schmidt satisfaz as propriedades necessárias para uma função ser um produto interno."
   ]
  },
  {
   "cell_type": "markdown",
   "metadata": {},
   "source": [
    "_SOL._ Lembrando, esse produto interno é definido como $\\langle A|B\\rangle=Tr(A^{\\dagger}B)$. Consideremos uma matriz B que é combinação linear de matrizes $B_{j}$, i.e., $B=\\sum_{j}c_{j}B_{j}$ com $c_{j}\\in\\mathbb{C}$. Usando a distributividade do produto matricial e a linearidade da função traço ($Tr(xX+yY)=Tr(xX)+Tr(yY)$ para quaisquer duas matrizes $X$ e $Y$ e escalares $x,y$) teremos linearidade do produto interno no 2º argumento:\n",
    "\\begin{align}\n",
    "\\langle A|B\\rangle &= \\left(A,\\sum_{j}c_{j}B_{j}\\right) = Tr\\left(A^{\\dagger}\\sum_{j}c_{j}B_{j}\\right) = \\sum_{j}c_{j}Tr\\left(A^{\\dagger}B_{j}\\right) \\\\\n",
    "&= \\sum_{j}c_{j}Tr\\langle A|B_{j}\\rangle.\n",
    "\\end{align}\n",
    "A assimetria por troca de ordem segue de\n",
    "\\begin{align}\n",
    "\\langle B|A\\rangle &= Tr(B^{\\dagger}A) = \\sum_{j}(B^{\\dagger}A)_{j,j} = \\sum_{j}\\sum_{k}(B^{\\dagger})_{j,k}A_{k,j} = \\sum_{j,k}B^{*}_{k,j}A_{k,j} \\\\\n",
    "&= \\sum_{j,k}(A_{k,j}^{*})^{*}B^{*}_{k,j} = \\left(\\sum_{j,k}A_{k,j}^{*}B_{k,j}\\right)^{*} = \\left(\\sum_{j}\\sum_{k}(A^{\\dagger})_{j,k}B_{k,j}\\right)^{*} \\\\\n",
    "& = \\left(\\sum_{j}(A^{\\dagger}B)_{j,j}\\right)^{*} = \\left(Tr(A^{\\dagger}B)\\right)^{*} = \\langle B|A\\rangle^{*}.\n",
    "\\end{align}\n",
    "Usando essa última equação, podemos verificar positividade pelo seguinte\n",
    "\\begin{align}\n",
    "\\langle A|A\\rangle &= Tr(A^{\\dagger}A) = \\sum_{j}(A^{\\dagger}A)_{j,j} = \\sum_{j}\\sum_{k}(A^{\\dagger})_{j,k}A_{k,j} = \\sum_{j,k}A^{*}_{k,j}A_{k,j} \\\\\n",
    "&= \\sum_{j,k}|A_{k,j}|^{2} \\ge0.\n",
    "\\end{align}"
   ]
  },
  {
   "cell_type": "markdown",
   "metadata": {},
   "source": [
    "---\n",
    "$10.$ Calcule a norma do vetor $|v\\rangle=\\begin{bmatrix} 1/\\sqrt{2} & -i/\\sqrt{2} \\end{bmatrix}^{T}$."
   ]
  },
  {
   "cell_type": "markdown",
   "metadata": {},
   "source": [
    "_SOL._ Aplicando a definição,\n",
    "\\begin{align}\n",
    "||v||&= \\sqrt{\\langle v|v\\rangle} = \\sqrt{\\sum_{j}|v_{j}|^{2}} = \\sqrt{|1/\\sqrt{2}|^{2}+|(-i)/\\sqrt{2}|^{2}} = \\sqrt{1/2+1/2} \\\\\n",
    "&=1.\n",
    "\\end{align}"
   ]
  },
  {
   "cell_type": "markdown",
   "metadata": {},
   "source": [
    "---\n",
    "$11.$ Calcule a norma de Hilbert-Schmidt da matriz $B=\\frac{1}{\\sqrt{2}}\\begin{bmatrix} 1 & 1 \\\\ 1 & -1 \\end{bmatrix}$."
   ]
  },
  {
   "cell_type": "markdown",
   "metadata": {},
   "source": [
    "_SOL._ Aplicando a definição,\n",
    "\\begin{align}\n",
    "||B||_{hs} &= \\sqrt{\\langle B|B\\rangle_{hs}} = \\sqrt{\\sum_{j,k}|B_{j,k}|^{2}} = \\sqrt{3|1/\\sqrt{2}|^{2}+|(-1)/\\sqrt{2}|^{2}} \\\\\n",
    "&=\\sqrt{2}.\n",
    "\\end{align}"
   ]
  },
  {
   "cell_type": "markdown",
   "metadata": {},
   "source": [
    "---\n",
    "$12.$ Use o procedimento de Gram-Schmidt para ortonormalizar $|v_{1}\\rangle = \\begin{bmatrix} 1 & 0\\end{bmatrix}^{T}$ e $|v_{2}\\rangle = \\begin{bmatrix} 1 & -1\\end{bmatrix}^{T}$."
   ]
  },
  {
   "cell_type": "markdown",
   "metadata": {},
   "source": [
    "_SOL._ O primeiro vetor já está normalizado ($||v_{1}||=1$), e com isso podemos definir $|w_{1}\\rangle:=|v_{1}\\rangle$. O segundo vetor é obtido normalizando\n",
    "\\begin{align}\n",
    "|w'_{2}\\rangle &= |v_{2}\\rangle - \\langle w_{1}|v_{2}\\rangle|w_{1}\\rangle = \\begin{bmatrix} 1 \\\\ -1\\end{bmatrix} - \\begin{bmatrix} 1 & 0\\end{bmatrix}\\begin{bmatrix} 1 \\\\ -1\\end{bmatrix}\\begin{bmatrix} 1 \\\\ 0\\end{bmatrix} \\\\\n",
    "& =\\begin{bmatrix} 1 \\\\ -1\\end{bmatrix} - \\begin{bmatrix} 1 \\\\ 0\\end{bmatrix} = \\begin{bmatrix} 0 \\\\ -1\\end{bmatrix}.\n",
    "\\end{align}\n",
    "Como este vetor também está normalizado, fazemos $|w_{2}\\rangle:=|w'_{2}\\rangle$."
   ]
  },
  {
   "cell_type": "markdown",
   "metadata": {},
   "source": [
    "---\n",
    "$13.$ Quais são os coeficientes da expansão do vetor (da matriz) $A=\\begin{bmatrix} a & b \\\\ c & d \\end{bmatrix}$ na base ortonormal $\\left\\{\\Gamma_{0}=\\frac{1}{\\sqrt{2}}\\begin{bmatrix} 1 & 0 \\\\ 0 & 1 \\end{bmatrix},\\Gamma_{1}=\\frac{1}{\\sqrt{2}}\\begin{bmatrix} 0 & 1 \\\\ 1 & 0 \\end{bmatrix}, \\Gamma_{2}=\\frac{1}{\\sqrt{2}}\\begin{bmatrix} 0 & -i \\\\ i & 0 \\end{bmatrix}, \\Gamma_{3}=\\frac{1}{\\sqrt{2}}\\begin{bmatrix} 1 & 0 \\\\ 0 & -1 \\end{bmatrix}\\right\\}$?"
   ]
  },
  {
   "cell_type": "markdown",
   "metadata": {},
   "source": [
    "_SOL._ Como a base é ortonormal, os coeficientes da expansão $A=\\sum_{j}c_{j}\\Gamma_{j}$ são $c_{j}=\\langle\\Gamma_{j}|A\\rangle$. Assim\n",
    "\\begin{align}\n",
    "c_{0} &= \\langle\\Gamma_{0}|A\\rangle = Tr(\\Gamma_{0}^{\\dagger}A) = Tr\\left(\\frac{1}{\\sqrt{2}}\\begin{bmatrix} 1 & 0 \\\\ 0 & 1 \\end{bmatrix}\\begin{bmatrix} a & b \\\\ c & d \\end{bmatrix}\\right) = Tr\\left(\\frac{1}{\\sqrt{2}}\\begin{bmatrix} a & b \\\\ c & d \\end{bmatrix}\\right) = \\frac{a+d}{\\sqrt{2}}, \\\\\n",
    "c_{1} &= \\langle\\Gamma_{1}|A\\rangle = Tr(\\Gamma_{1}^{\\dagger}A) = Tr\\left(\\frac{1}{\\sqrt{2}}\\begin{bmatrix} 0 & 1 \\\\ 1 & 0 \\end{bmatrix}\\begin{bmatrix} a & b \\\\ c & d \\end{bmatrix}\\right) = Tr\\left(\\frac{1}{\\sqrt{2}}\\begin{bmatrix} c & d \\\\ a & b \\end{bmatrix}\\right) = \\frac{c+b}{\\sqrt{2}}, \\\\\n",
    "c_{2} &= \\langle\\Gamma_{2}|A\\rangle = Tr(\\Gamma_{2}^{\\dagger}A) = Tr\\left(\\frac{1}{\\sqrt{2}}\\begin{bmatrix} 0 & -i \\\\ i & 0 \\end{bmatrix}\\begin{bmatrix} a & b \\\\ c & d \\end{bmatrix}\\right) = Tr\\left(\\frac{1}{\\sqrt{2}}\\begin{bmatrix} -ic & -id \\\\ ia & ib \\end{bmatrix}\\right) = \\frac{-i(c-b)}{\\sqrt{2}}, \\\\\n",
    "c_{3} &= \\langle\\Gamma_{3}|A\\rangle = Tr(\\Gamma_{3}^{\\dagger}A) = Tr\\left(\\frac{1}{\\sqrt{2}}\\begin{bmatrix} 1 & 0 \\\\ 0 & -1 \\end{bmatrix}\\begin{bmatrix} a & b \\\\ c & d \\end{bmatrix}\\right) = Tr\\left(\\frac{1}{\\sqrt{2}}\\begin{bmatrix} a & b \\\\ -c & -d \\end{bmatrix}\\right) = \\frac{a-d}{\\sqrt{2}}.\n",
    "\\end{align}"
   ]
  },
  {
   "cell_type": "markdown",
   "metadata": {},
   "source": [
    "---\n",
    "$14.$ Mostre que a igualdade é obtida na desigualdade de Cauchy-Schwarz se e somente se os dois vetores forem proporcionais (i.e., se tiverem a mesma direção: $|v\\rangle=\\beta|w\\rangle$ com $\\beta\\in\\mathbb{C}$)."
   ]
  },
  {
   "cell_type": "markdown",
   "metadata": {},
   "source": [
    "_SOL._ A DCS diz que $\\langle v|v\\rangle\\langle w|w\\rangle\\ge|\\langle v|w\\rangle|^{2}$. Se os vetores forem proporcionais, i.e., se $|v\\rangle=c|w\\rangle$ com $c\\in\\mathbb{C}$, teremos igualdade:\n",
    "\\begin{align}\n",
    "& \\text{le} = \\langle v|v\\rangle\\langle w|w\\rangle = (c|w\\rangle,c|w\\rangle)\\langle w|w\\rangle = |c|^{2}\\langle w|w\\rangle^{2}, \\\\\n",
    "& \\text{ld} = |\\langle v|w\\rangle|^{2} = |(c|w\\rangle,|w\\rangle)|^{2} = |c(|w\\rangle,|w\\rangle)|^{2} = |c|^{2}\\langle w|w\\rangle^{2}.\n",
    "\\end{align}\n",
    "Agora assumiremos a igualdade. Lembrando, para provar a DCS usamos a positividade do produto interno para o vetor $|x\\rangle=|v\\rangle+c|w\\rangle$, i.e., usamos $\\langle x|x\\rangle\\ge0$. Se temos igualdade nesse produto interno, e na DCS, então temos também que $|x\\rangle=|\\oslash\\rangle$, que implica que os vetores são proporcionais: $|v\\rangle=-c|w\\rangle$."
   ]
  },
  {
   "cell_type": "markdown",
   "metadata": {},
   "source": [
    "---\n",
    "$15.$ Forneça um exemplo de subespaço para o espaço vetorial $\\mathbb{C}^{4\\text{x}4}$. Qual é a dimensão desse espaço vetorial? Qual é dimensão do subespaço que você escolheu como exemplo?"
   ]
  },
  {
   "cell_type": "markdown",
   "metadata": {},
   "source": [
    "_SOL._ Uma base ortonormal para $\\mathbb{C}^{4\\text{x}4}$ é a seguinte:\n",
    "\\begin{align}\n",
    "& \\begin{bmatrix}1&0&0&0\\\\0&0&0&0\\\\0&0&0&0\\\\0&0&0&0\\end{bmatrix}\\text{, }\\begin{bmatrix}0&1&0&0\\\\0&0&0&0\\\\0&0&0&0\\\\0&0&0&0\\end{bmatrix}\\text{, }\\begin{bmatrix}0&0&1&0\\\\0&0&0&0\\\\0&0&0&0\\\\0&0&0&0\\end{bmatrix}\\text{, }\\begin{bmatrix}0&0&0&1\\\\0&0&0&0\\\\0&0&0&0\\\\0&0&0&0\\end{bmatrix}, \\\\\n",
    "& \\begin{bmatrix}0&0&0&0\\\\1&0&0&0\\\\0&0&0&0\\\\0&0&0&0\\end{bmatrix}\\text{, }\\begin{bmatrix}0&0&0&0\\\\0&1&0&0\\\\0&0&0&0\\\\0&0&0&0\\end{bmatrix}\\text{, }\\begin{bmatrix}0&0&0&0\\\\0&0&1&0\\\\0&0&0&0\\\\0&0&0&0\\end{bmatrix}\\text{, }\\begin{bmatrix}0&0&0&0\\\\0&0&0&1\\\\0&0&0&0\\\\0&0&0&0\\end{bmatrix}, \\\\\n",
    "& \\begin{bmatrix}0&0&0&0\\\\0&0&0&0\\\\1&0&0&0\\\\0&0&0&0\\end{bmatrix}\\text{, }\\begin{bmatrix}0&0&0&0\\\\0&0&0&0\\\\0&1&0&0\\\\0&0&0&0\\end{bmatrix}\\text{, }\\begin{bmatrix}0&0&0&0\\\\0&0&0&0\\\\0&0&1&0\\\\0&0&0&0\\end{bmatrix}\\text{, }\\begin{bmatrix}0&0&0&0\\\\0&0&0&0\\\\0&0&0&1\\\\0&0&0&0\\end{bmatrix}, \\\\\n",
    "&\\begin{bmatrix}0&0&0&0\\\\0&0&0&0\\\\0&0&0&0\\\\1&0&0&0\\end{bmatrix}\\text{, }\\begin{bmatrix}0&0&0&0\\\\0&0&0&0\\\\0&0&0&0\\\\0&1&0&0\\end{bmatrix}\\text{, }\\begin{bmatrix}0&0&0&0\\\\0&0&0&0\\\\0&0&0&0\\\\0&0&1&0\\end{bmatrix}\\text{, }\\begin{bmatrix}0&0&0&0\\\\0&0&0&0\\\\0&0&0&0\\\\0&0&0&1\\end{bmatrix}.\n",
    "\\end{align}\n",
    "Como essa, e todas as bases de $\\mathbb{C}^{4\\text{x}4}$ possuem $4^{2}=16$ elementos, sua dimensão é $\\dim(\\mathbb{C}^{4\\text{x}4})=16$. \n",
    "\n",
    "Um subespaço de $\\mathbb{C}^{4\\text{x}4}$ é $\\mathbb{C}^{2\\text{x}2}$, que é o conjunto de todas as matrizes complexas $\\begin{bmatrix}a&b\\\\c&d\\end{bmatrix}$, que são mapeadas univocamente em matrizes do tipo $\\begin{bmatrix}a&b&0&0\\\\c&d&0&0\\\\0&0&0&0\\\\0&0&0&0\\end{bmatrix}\\in\\mathbb{C}^{4\\text{x}4}$. Escolhendo uma base pra $\\mathbb{C}^{4\\text{x}4}$ de forma similar ao feito acima, veremos que $\\dim(\\mathbb{C}^{4\\text{x}4})=4=2^{2}$."
   ]
  },
  {
   "cell_type": "code",
   "execution_count": null,
   "metadata": {},
   "outputs": [],
   "source": []
  }
 ],
 "metadata": {
  "kernelspec": {
   "display_name": "Python 3 (ipykernel)",
   "language": "python",
   "name": "python3"
  },
  "language_info": {
   "codemirror_mode": {
    "name": "ipython",
    "version": 3
   },
   "file_extension": ".py",
   "mimetype": "text/x-python",
   "name": "python",
   "nbconvert_exporter": "python",
   "pygments_lexer": "ipython3",
   "version": "3.11.1"
  }
 },
 "nbformat": 4,
 "nbformat_minor": 4
}
