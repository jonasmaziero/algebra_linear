{
 "cells": [
  {
   "cell_type": "markdown",
   "metadata": {},
   "source": [
    "### Notas de aula de Álgebra Linear <br> Autor: Jonas Maziero"
   ]
  },
  {
   "cell_type": "markdown",
   "metadata": {},
   "source": [
    "# Exercícios"
   ]
  },
  {
   "cell_type": "markdown",
   "metadata": {},
   "source": [
    "---\n",
    "$1.$ Verifique que o produto interno de Hilbert-Schmidt é invariante sob transformações unitárias, i.e., verifique que $\\langle UAU^{\\dagger}|UBU^{\\dagger}\\rangle_{hs} = \\langle A|B\\rangle_{hs}$."
   ]
  },
  {
   "cell_type": "markdown",
   "metadata": {},
   "source": [
    "_SOL._ Aplicando a definição $\\langle X|Y\\rangle_{hs}=Tr(X^{\\dagger}Y)$ e usando a propriedade cíclica do traço $Tr(XY)=Tr(YX)$, teremos que\n",
    "\\begin{align}\n",
    "\\langle UAU^{\\dagger}|UBU^{\\dagger}\\rangle_{hs} &= Tr((UAU^{\\dagger})^{\\dagger}UBU^{\\dagger}) =Tr((U^{\\dagger})^{\\dagger}A^{\\dagger}U^{\\dagger}UBU^{\\dagger}) \\\\\n",
    "& =Tr(U^{\\dagger}UA^{\\dagger}\\mathbb{I}B) =Tr(\\mathbb{I}A^{\\dagger}B) =Tr(A^{\\dagger}B) \\\\\n",
    "&=\\langle A|B\\rangle_{hs}.\n",
    "\\end{align}"
   ]
  },
  {
   "cell_type": "markdown",
   "metadata": {},
   "source": [
    "---\n",
    "$2.$ Como podemos escrever a função $\\sin(A)$ de um operador linear $A$ em termos de suas potências?"
   ]
  },
  {
   "cell_type": "markdown",
   "metadata": {},
   "source": [
    "_SOL._ Como para um escalar $x$ a série de Taylor para a função seno é $\\sin(x) = x-x^{3}/3!+x^{5}/5!-x^{7}/7!+\\cdots$, para um operador linear $A$ teremos que $\\sin(A) = A-A^{3}/3!+A^{5}/5!-A^{7}/7!+\\cdots.$"
   ]
  },
  {
   "cell_type": "markdown",
   "metadata": {},
   "source": [
    "---\n",
    "$3.$ Utilize a fórmula de Baker-Campbell-Hausdorff para escrever $e^{c\\sigma_{x}}\\sigma_{y}e^{-c\\sigma_{x}}$ em termos de $\\sigma_{y}$ e $\\sigma_{z}$."
   ]
  },
  {
   "cell_type": "markdown",
   "metadata": {},
   "source": [
    "_SOL._ Aplicando a fórmula de BCH  e usando $[\\sigma_{x},\\sigma_{y}]=2i\\sigma_{z}$ e $[\\sigma_{x},\\sigma_{z}]=-2i\\sigma_{y}$ teremos\n",
    "\\begin{align}\n",
    "e^{c\\sigma_{x}}\\sigma_{y}e^{-c\\sigma_{x}} &= \\sigma_{y} + c[\\sigma_{x},\\sigma_{y}] + \\frac{c^{2}}{2!}[\\sigma_{x},[\\sigma_{x},\\sigma_{y}]] + \\frac{c^{3}}{3!}[\\sigma_{x},[\\sigma_{x},[\\sigma_{x},\\sigma_{y}]]]+\\cdots \\\\\n",
    "&= \\sigma_{y} + c2i\\sigma_{z} + \\frac{c^{2}}{2!}[\\sigma_{x},2i\\sigma_{z}]] + \\frac{c^{3}}{3!}[\\sigma_{x},[\\sigma_{x},2i\\sigma_{z}]]+\\cdots \\\\\n",
    "&= \\sigma_{y} + c2i\\sigma_{z} - \\frac{(2ic)^{2}}{2!}\\sigma_{y} - \\frac{(2ic)^{3}}{3!}\\sigma_{z}+\\cdots \\\\\n",
    "&= \\sigma_{y}\\left(1-\\frac{(2ic)^{2}}{2!}+\\cdots\\right) + \\sigma_{z}\\left(2ic-\\frac{(2ic)^{3}}{3!}+\\cdots\\right) \\\\\n",
    "&= \\sigma_{y}\\cos(2ic) + \\sigma_{z}\\sin(2ic).\n",
    "\\end{align}"
   ]
  },
  {
   "cell_type": "code",
   "execution_count": 2,
   "metadata": {},
   "outputs": [
    {
     "data": {
      "image/png": "[encoded data removed]",
      "text/latex": [
       "$\\displaystyle \\left( \\left[\\begin{matrix}2.0 i & 0\\\\0 & - 2.0 i\\end{matrix}\\right], \\  \\left[\\begin{matrix}0 & -2\\\\2 & 0\\end{matrix}\\right]\\right)$"
      ],
      "text/plain": [
       "⎛⎡2.0⋅ⅈ    0   ⎤  ⎡0  -2⎤⎞\n",
       "⎜⎢             ⎥, ⎢     ⎥⎟\n",
       "⎝⎣  0    -2.0⋅ⅈ⎦  ⎣2  0 ⎦⎠"
      ]
     },
     "execution_count": 2,
     "metadata": {},
     "output_type": "execute_result"
    }
   ],
   "source": [
    "from sympy import Matrix, init_printing\n",
    "init_printing(use_unicode=True)\n",
    "\n",
    "def pauli(j):\n",
    "    '''retorna as matrizes de Pauli'''\n",
    "    if j == 1:\n",
    "        return Matrix([[0,1],[1,0]])\n",
    "    elif j == 2:\n",
    "        return Matrix([[0,-1j],[1j,0]])\n",
    "    elif j == 3:\n",
    "        return Matrix([[1,0],[0,-1]])\n",
    "    \n",
    "def comm(A,B):\n",
    "    '''retorna a função comutador'''\n",
    "    return A*B-B*A\n",
    "\n",
    "comm(pauli(1),pauli(2)), comm(pauli(1),pauli(3))"
   ]
  },
  {
   "cell_type": "markdown",
   "metadata": {},
   "source": [
    "---\n",
    "$4.$ Calcule $\\sqrt{\\sigma_{x}}$."
   ]
  },
  {
   "cell_type": "markdown",
   "metadata": {},
   "source": [
    "_SOL._ Os autovalores de $\\sigma_{x}$ são $\\pm 1$ com autovetores correspondentes $|\\pm\\rangle=\\begin{bmatrix}1&\\pm1\\end{bmatrix}^{T}/\\sqrt{2}$. Com isso, vem que \n",
    "\\begin{align}\n",
    "\\sqrt{\\sigma_{x}} &= \\sqrt{1}|+\\rangle\\langle +|+\\sqrt{-1}|-\\rangle\\langle -| = (1/2)\\begin{bmatrix}1\\\\1\\end{bmatrix}\\begin{bmatrix}1&1\\end{bmatrix}+ (i/2)\\begin{bmatrix}1\\\\-1\\end{bmatrix}\\begin{bmatrix}1&-1\\end{bmatrix} \\\\ \n",
    "&= (1/2)\\begin{bmatrix}1&1\\\\1&1\\end{bmatrix}+(i/2)\\begin{bmatrix}1&-1\\\\-1&1\\end{bmatrix} = \\begin{bmatrix}(1+i)/2&(1-i)/2\\\\(1-i)/2&(1+i)/2\\end{bmatrix}.\n",
    "\\end{align}"
   ]
  },
  {
   "cell_type": "markdown",
   "metadata": {},
   "source": [
    "---\n",
    "$5.$ Verifique que a entropia de von Neumann de $\\rho=|\\psi\\rangle\\langle\\psi|$ é nula. Dica: Considere que a base de autovetores de $\\rho$ é constituída por $|\\psi\\rangle$ e por estados ortogonais e este vetor. Use também o fato que $\\lim_{x\\rightarrow 0}\\left(x\\log_{2}(x)\\right)=0$ para fazer $0\\log_{2}(0)=0$."
   ]
  },
  {
   "cell_type": "markdown",
   "metadata": {},
   "source": [
    "_SOL._ $\\log(x)$ está indefinido para $x=0$. Mas \n",
    "\\begin{align}\n",
    "\\lim_{x\\rightarrow 0}x\\log(x) &= \\lim_{x\\rightarrow 0}\\frac{\\log(x)}{1/x} = \\lim_{x\\rightarrow 0}\\frac{\\partial_{x}(\\log(x))}{\\partial_{x}(1/x)} = \\lim_{x\\rightarrow 0}\\frac{1/x}{(-1/x^{2})} \\\\\n",
    "&= -\\lim_{x\\rightarrow 0}x=0.\n",
    "\\end{align}\n",
    "Para a decomposição espectral $\\rho=\\sum_{j=1}^{d}r_{j}|r_{j}\\rangle\\langle r_{j}|=|\\psi\\rangle\\langle \\psi|+\\sum_{j=2}^{d}0|r_{j}\\rangle\\langle r_{j}|$, teremos $S(|\\psi\\rangle)=-\\sum_{j=1}^{d}r_{j}\\log_{2}(r_{j})=1\\log_{2}(1)+\\sum_{j=1}^{d}(0\\log_{2}(0))=0.$"
   ]
  },
  {
   "cell_type": "markdown",
   "metadata": {},
   "source": [
    "---\n",
    "$6.$ Verifique que a entropia de von Neumann de $\\rho=d^{-1}\\mathbb{I}_{d}$ é $\\log_{2}(d)$."
   ]
  },
  {
   "cell_type": "markdown",
   "metadata": {},
   "source": [
    "_SOL._ Aqui temos que $r_{j}=1/d\\ \\forall j$. Assim $S(d^{-1}\\mathbb{I}_{d})=-\\sum_{j=1}^{d}(1/d)\\log_{2}(1/d) = -d(1/d)(\\log_{2}(1)-\\log_{2}(d))=\\log_{2}(d).$"
   ]
  },
  {
   "cell_type": "markdown",
   "metadata": {},
   "source": [
    "---\n",
    "$7.$ Para $H:\\mathcal{H}\\rightarrow\\mathcal{H}$ um operador Hermitiano e $\\theta\\in\\mathbb{R}$, verifique que o operador $U = e^{i\\theta H}$ é unitário."
   ]
  },
  {
   "cell_type": "markdown",
   "metadata": {},
   "source": [
    "_SOL._ Usamos a decomposição espectral $H=\\sum_{h}hP_{h}$ para escrever $U=e^{\\sum_{h}i\\theta hP_{h}}=\\sum_{h}e^{i\\theta h}P_{h}$. Assim $UU^{\\dagger}=\\sum_{h}e^{i\\theta h}P_{h}\\sum_{h'}e^{-i\\theta h'}P_{h'} = \\sum_{h,h'}e^{i\\theta(h-h')}P_{h}P_{h'} = \\sum_{h,h'}e^{i\\theta(h-h')}\\delta_{h,h'}P_{h} = \\sum_{h}e^{i\\theta 0}\\delta_{h,h'}P_{h} = \\sum_{h}P_{h} = \\mathbb{I}$ e $U^{\\dagger}U=\\sum_{h}e^{-i\\theta h}P_{h}\\sum_{h'}e^{i\\theta h'}P_{h'} = \\sum_{h,h'}e^{-i\\theta(h-h')}P_{h}P_{h'} = \\sum_{h,h'}e^{-i\\theta(h-h')}\\delta_{h,h'}P_{h} = \\sum_{h}e^{-i\\theta 0}\\delta_{h,h'}P_{h} = \\sum_{h}P_{h} = \\mathbb{I}.$"
   ]
  },
  {
   "cell_type": "code",
   "execution_count": null,
   "metadata": {},
   "outputs": [],
   "source": []
  }
 ],
 "metadata": {
  "kernelspec": {
   "display_name": "Python 3 (ipykernel)",
   "language": "python",
   "name": "python3"
  },
  "language_info": {
   "codemirror_mode": {
    "name": "ipython",
    "version": 3
   },
   "file_extension": ".py",
   "mimetype": "text/x-python",
   "name": "python",
   "nbconvert_exporter": "python",
   "pygments_lexer": "ipython3",
   "version": "3.11.1"
  }
 },
 "nbformat": 4,
 "nbformat_minor": 4
}
