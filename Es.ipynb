{
 "cells": [
  {
   "cell_type": "markdown",
   "metadata": {},
   "source": [
    "### Universidade Federal de Santa Maria, Departamento de Física <br> FSC 1044 - Física Matemática II, Prof. Jonas Maziero <br> Semestre 2018/2, Data: 18 de dezembro de 2018 \n",
    "\n",
    "# Exame"
   ]
  },
  {
   "cell_type": "markdown",
   "metadata": {},
   "source": [
    "$1.$ A matriz $H=\\frac{1}{\\sqrt{2}}\\begin{bmatrix}1&1\\\\1&-1\\end{bmatrix}$ possui inversa? Se sim, escreva os elementos de $H^{-1}$ em termos daqueles da matriz de cofatores de $H$ e obtenha $H^{-1}$."
   ]
  },
  {
   "cell_type": "markdown",
   "metadata": {},
   "source": [
    "_Sol._ Uma matriz possui inversa se e somente se seu determinante é não nulo. Nesse caso $\\det(H)=-1\\ne0$. Os elementos da inversa são $(H^{-1})_{j,k}=cof(H)_{k,j}/\\det(H)=(-1)^{k+j}\\det(A^{(k,j)})/\\det(H)$. Explicitamente\n",
    "\\begin{align}\n",
    "(H^{-1})_{1,1} & = \\frac{(-1)^{1+1}\\det(A^{(1,1)})}{-1} = -\\det(-1/\\sqrt{2})=\\frac{1}{\\sqrt{2}}, \\\\\n",
    "(H^{-1})_{1,2} & = \\frac{(-1)^{2+1}\\det(A^{(2,1)})}{-1} = -(-1)\\det(1/\\sqrt{2})=\\frac{1}{\\sqrt{2}}, \\\\\n",
    "(H^{-1})_{2,1} & = \\frac{(-1)^{1+2}\\det(A^{(1,2)})}{-1} = -(-1)\\det(1/\\sqrt{2})=\\frac{1}{\\sqrt{2}}, \\\\\n",
    "(H^{-1})_{2,2} & = \\frac{(-1)^{2+2}\\det(A^{(2,2)})}{-1} = -\\det(1/\\sqrt{2})=-\\frac{1}{\\sqrt{2}}.\n",
    "\\end{align}\n",
    "Então $H^{-1}=H$."
   ]
  },
  {
   "cell_type": "markdown",
   "metadata": {},
   "source": [
    "$2.$ Considere o espaço vetorial formado por matrizes quadradas sobre os números complexos, i.e., $\\mathbb{C}^{d\\mathrm{x}d}$. Se $\\{B_{j}\\}_{j=1}^{d^{2}}$ é uma base ortonormal para $\\mathbb{C}^{d\\mathrm{x}d}$ e decompomos uma matriz qualquer $A\\in\\mathbb{C}^{d\\mathrm{x}d}$ nessa base, i.e., $A=\\sum_{j=1}^{d^{2}}c_{j}B_{j}$, use as propriedades do produto interno e a definição de base ortonormal para escrever os coeficientes $c_{j}$ em termos de $A$ e de $B_{j}$."
   ]
  },
  {
   "cell_type": "markdown",
   "metadata": {},
   "source": [
    "_Sol._ Como a base $\\{B_{j}\\}_{j=1}^{d^{2}}$ é ortonormal sob um produto interno $\\langle\\cdot|\\cdot\\rangle$, então $\\langle B_{j}|B_{k}\\rangle=\\delta_{j,k}$. Usando a linearidade do produto interno no segundo argumento teremos que:\n",
    "\\begin{equation}\n",
    "\\langle B_{k}|A\\rangle = (B_{k},\\sum_{j=1}^{d^{2}}c_{j}B_{j}) = \\sum_{j=1}^{d^{2}}c_{j}(B_{k},B_{j}) = \\sum_{j=1}^{d^{2}}c_{j}\\delta_{k,j} = c_{k}.\n",
    "\\end{equation}\n",
    "Então $A=\\sum_{j=1}^{d^{2}}\\langle B_{j}|A\\rangle B_{j}$."
   ]
  },
  {
   "cell_type": "markdown",
   "metadata": {},
   "source": [
    "$3.$ Mostre que dois operadores lineares Hermitianos não degenerados $A$ e $B$ comutam se e somente se eles compartilham a mesma base de autovetores, i.e.,\n",
    "\\begin{equation}\n",
    "[A,B]=\\mathbb{0}\\Leftrightarrow A=\\sum_{j}a_{j}P_{j}\\text{ e }B=\\sum_{j}b_{j}P_{j}.\n",
    "\\end{equation}\n",
    "_OBS._ Para projetores em vetores de uma base ortonormal, pode-se usar $P_{j}P_{k}=\\delta_{j,k}P_{k}$."
   ]
  },
  {
   "cell_type": "markdown",
   "metadata": {},
   "source": [
    "_Sol._ Começamos assumindo que a base de autovetores é comum, i.e., $A=\\sum_{j}a_{j}P_{j}$ e $B=\\sum_{j}b_{j}P_{j}$. Assim\n",
    "\\begin{align}\n",
    "[A,B] & = AB-BA = \\sum_{j}a_{j}P_{j}\\sum_{k}b_{k}P_{k}-\\sum_{k}b_{k}P_{k}\\sum_{j}a_{j}P_{j} \\\\\n",
    "& = \\sum_{j,k}a_{j}b_{k}P_{j}P_{k}-\\sum_{k,j}b_{k}a_{j}P_{k}P_{j} = \\sum_{j,k}a_{j}b_{k}\\delta_{j,k}P_{j}-\\sum_{k,j}b_{k}a_{j}\\delta_{j,k}P_{k} \\\\\n",
    "& = \\sum_{j}a_{j}b_{j}P_{j}-\\sum_{j}b_{j}a_{j}P_{j} \\\\\n",
    "& = \\mathbb{0}.\n",
    "\\end{align}\n",
    "Seguindo, assumimos que $[A,B]=\\mathbb{0}$. Podemos usar $A|a_{j}\\rangle=a_{j}|a_{j}\\rangle$. Teremos assim que\n",
    "\\begin{align}\n",
    "A(B|a_{j}\\rangle)&=(AB)(|a_{j}\\rangle) = (BA)(|a_{j}\\rangle) = B(A|a_{j}\\rangle) = B(a_{j}|a_{j}\\rangle) \\\\\n",
    "& = a_{j}(B|a_{j}\\rangle).\n",
    "\\end{align}\n",
    "Ou seja, $B|a_{j}\\rangle$ e $|a_{j}\\rangle$ são autovetores de $A$ correspondentes ao mesmo autovalor $a_{j}$. Como $A$ é não degenerado, devemos ter que $B|a_{j}\\rangle\\propto |a_{j}\\rangle$. Ou seja, $|a_{j}\\rangle$ são também autovetores de $B$."
   ]
  },
  {
   "cell_type": "markdown",
   "metadata": {},
   "source": [
    "$4.$ Seja $G=\\{g_{1},g_{2},\\cdots,g_{|G|}\\}$ um grupo sob a operação $*$. Para um elemento qualquer $g_{j}\\in G$, prove que\n",
    "\\begin{equation}\n",
    "g_{j}*G := \\{g_{j}*g_{1},g_{j}*g_{2},\\cdots,g_{j}*g_{|G|}\\}\\equiv G.\n",
    "\\end{equation}"
   ]
  },
  {
   "cell_type": "markdown",
   "metadata": {},
   "source": [
    "_Sol._ Primeiro, notemos que todos os elementos do conjunto $\\{g_{j}*g_{k}\\}_{k=1}^{|G|}$ estão em $G$. Então, se verificarmos que não há repetição de elementos naquele conjunto, teremos que ele deve ser igual a $G$. Vamos provar isso por contradição. Consideremos dois elementos diferentes $g_{k},g_{l}\\in G$ (i.e. $g_{k}\\ne g_{l}$). Se $g_{j}*g_{k}=g_{j}*g_{l}$, pela existência do elemento inverso, teremos\n",
    "\\begin{align}\n",
    "& g_{j}^{-1}*g_{j}*g_{k}=g_{j}^{-1}*g_{j}*g_{l} \\\\\n",
    "& \\Rightarrow e*g_{k}=e*g_{l}\\Rightarrow g_{k}=g_{l},\n",
    "\\end{align}\n",
    "o que contradiz nossa suposição inicial. Portanto, se $g_{k}\\ne g_{l}$ devemos ter $g_{j}*g_{k}\\ne g_{j}*g_{l}$, concluindo assim a prova do teorema."
   ]
  },
  {
   "cell_type": "code",
   "execution_count": 1,
   "metadata": {},
   "outputs": [
    {
     "data": {
      "text/plain": [
       "6.425"
      ]
     },
     "execution_count": 1,
     "metadata": {},
     "output_type": "execute_result"
    }
   ],
   "source": [
    "(6.6+6.25)/2"
   ]
  },
  {
   "cell_type": "code",
   "execution_count": null,
   "metadata": {},
   "outputs": [],
   "source": []
  }
 ],
 "metadata": {
  "kernelspec": {
   "display_name": "Python 3",
   "language": "python",
   "name": "python3"
  },
  "language_info": {
   "codemirror_mode": {
    "name": "ipython",
    "version": 3
   },
   "file_extension": ".py",
   "mimetype": "text/x-python",
   "name": "python",
   "nbconvert_exporter": "python",
   "pygments_lexer": "ipython3",
   "version": "3.6.4"
  }
 },
 "nbformat": 4,
 "nbformat_minor": 2
}
