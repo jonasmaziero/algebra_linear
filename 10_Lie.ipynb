{
 "cells": [
  {
   "cell_type": "markdown",
   "metadata": {},
   "source": [
    "## Notas de aula: Teoria de Grupos, Autor: Jonas Maziero, Departamento de Física, UFSM"
   ]
  },
  {
   "cell_type": "code",
   "execution_count": 2,
   "metadata": {},
   "outputs": [],
   "source": [
    "%run /Users/jonasmaziero/Dropbox/GitHub/algebra_linear/init.ipynb"
   ]
  },
  {
   "cell_type": "markdown",
   "metadata": {},
   "source": [
    "## Grupos de Lie\n",
    "O grupo de Lorentz é um exemplo de grupo contínuo, cujos elementos são parametrizados por números reais (ou complexos). Grupos de Lie são grupos contínuos tais que os parâmetros que determinam o elemento composto são funções analíticas dos parâmetros que determinam os elementos sendo compostos. Nesses casos podemos descrever todo o grupo \"olhando\" para elementos infinitesimalmente próximos ao elemento identidade.\n",
    "\n",
    "#### Exemplo: $SO(2)$\n",
    "Esse grupo contínuo é formado pelas matrizes de rotação em $\\mathbb{R}^{2}$, i.e., matrizes ortogonais ($OO^{T}=O^{T}O=\\sigma_{0}$) com determinante igual a um (para garantir permanência no sistema de coordenadas destrógiro). Os Elementos desse grupo podem ser parametrizados e escritos como segue (__exercício__):\n",
    "\\begin{equation}\n",
    "O_{\\phi} = \\begin{bmatrix} \\cos\\phi & \\sin\\phi \\\\ -\\sin\\phi & \\cos\\phi \\end{bmatrix} = \\sigma_{0}\\cos\\phi + i\\sigma_{2}\\sin\\phi = e^{i\\sigma_{2}\\phi}.\n",
    "\\end{equation}\n",
    "Aqui é direto ver que $O_{\\phi}O_{\\phi'}=O_{\\phi+\\phi'}$ pois, pela comutatividade, $e^{i\\sigma_{2}\\phi}e^{i\\sigma_{2}\\phi'}=e^{i\\sigma_{2}(\\phi+\\phi')}$. Claro, para rotações infinitesimais $O_{\\phi\\rightarrow0}\\approx\\sigma_{0}+i\\phi\\sigma_{2}$."
   ]
  },
  {
   "cell_type": "markdown",
   "metadata": {},
   "source": [
    "#### Exemplo: $SU(2)$\n",
    "Esse grupo contínuo é formado pelas matrizes de rotação em $\\mathbb{C}^{2}$, i.e., matrizes ortogonais ($UU^{\\dagger}=U^{\\dagger}U=\\sigma_{0}$) com determinante igual a um (para garantir permanência no sistema de coordenadas destrógiro). Qualquer matriz desse tipo pode ser escrita como\n",
    "\\begin{equation}\n",
    "U_{\\alpha,\\theta,\\hat{n}}=e^{i\\alpha}R_{\\hat{n}}(\\theta),\n",
    "\\end{equation}\n",
    "com\n",
    "\\begin{equation}\n",
    "R_{\\hat{n}}(\\theta)=e^{i\\hat{n}\\cdot\\vec{\\sigma}\\theta}=\\sigma_{0}\\cos\\theta+i\\hat{n}\\cdot\\vec{\\sigma}\\sin\\theta.\n",
    "\\end{equation}\n",
    "\n",
    "Aqui a transformação infinitesimal ($\\epsilon\\rightarrow 0$) fica:\n",
    "\\begin{align}\n",
    "R_{\\hat{n}}(\\epsilon) & = e^{i\\hat{n}\\cdot\\vec{\\sigma}\\epsilon} = \\sigma_{0} + i\\hat{n}\\cdot\\vec{\\sigma}\\epsilon + O(\\epsilon^{2}) \\\\\n",
    "& \\approx \\sigma_{0} + i\\hat{n}\\cdot\\vec{\\sigma}\\epsilon.\n",
    "\\end{align}"
   ]
  },
  {
   "cell_type": "markdown",
   "metadata": {},
   "source": [
    "### Geradores do grupo de Lie\n",
    "Os exemplos acima indicam uma representação infinitesimal geral ($\\epsilon\\rightarrow0$):\n",
    "\\begin{equation}\n",
    "R(\\epsilon) = e^{i\\epsilon S} \\approx e + i\\epsilon S,\n",
    "\\end{equation}\n",
    "em que as transformações $S$ são os ditos _geradores_ do grupo de Lie.\n",
    "\n",
    "Algumas observações:\n",
    "* Elemento inverso\n",
    "\\begin{equation}\n",
    "R^{-1}(\\epsilon)= e^{-i\\epsilon S} \\approx e - i\\epsilon S.\n",
    "\\end{equation}\n",
    "\n",
    "* Se $R$ é unitário, $S$ é Hermitiano:\n",
    "\\begin{equation}\n",
    "R^{\\dagger}(\\epsilon)R(\\epsilon) = e \\approx e + i\\epsilon(S-S^{\\dagger}).\n",
    "\\end{equation}\n",
    "\n",
    "* Se R é normal e $\\det(R)=1$, então $Tr(S)=0$:\n",
    "\\begin{equation}\n",
    "\\det(R(\\epsilon)) = \\det(e^{i\\epsilon S}) = e^{i\\epsilon Tr(S)}.\n",
    "\\end{equation}\n",
    "\n",
    "* Transformação finita é obtida de ($\\varepsilon=N\\epsilon=\\epsilon+\\cdots+\\epsilon$ para $N\\rightarrow\\infty$):\n",
    "\\begin{equation}\n",
    "R(\\varepsilon)=\\lim_{N\\rightarrow\\infty}\\left(e+i(\\varepsilon/N)S\\right)^{N}=e^{i\\varepsilon S}.\n",
    "\\end{equation}\n",
    "\n",
    "* Geradores a partir das transformações finitas:\n",
    "\\begin{equation}\n",
    "S = -i\\left[\\frac{dR}{d\\varepsilon}\\right]_{\\varepsilon\\rightarrow0}.\n",
    "\\end{equation}\n",
    "Por exemplo, \n",
    "\\begin{equation}\n",
    "-i\\left[\\frac{dO_{\\phi}}{d\\phi}\\right]_{\\phi\\rightarrow0} = -i\\lim_{\\phi\\rightarrow0}\\begin{bmatrix} -\\sin\\phi & \\cos\\phi \\\\ -\\cos\\phi & -\\sin\\phi \\end{bmatrix} = \\sigma_{2}.\n",
    "\\end{equation}\n",
    "__Exercício:__ Obtenha o gerador do grupo de Lorentz."
   ]
  },
  {
   "cell_type": "markdown",
   "metadata": {},
   "source": [
    "### Álgebra de Lie\n",
    "Notemos que o produto de duas transformações de Lie é equivalente a uma outra transformação infinitesimal com gerador dado pela soma dos geradores:\n",
    "\\begin{align}\n",
    "R(\\epsilon)*R'(\\epsilon) & \\approx (e + i\\epsilon S)*(e + i\\epsilon S') \\approx e + i\\epsilon(S+S') \\\\\n",
    "& =:  e + i\\epsilon S'' \\equiv R''(\\epsilon).\n",
    "\\end{align}\n",
    "Note, como a soma $+$ de dois geradores é um gerador, temos uma estrutura parecida com aquela de um espaço vetorial, que é a primeira estrutura de grupo de uma álgebra de Lie. A outra estrutura, de multiplicação, é dada pelos comutadores:\n",
    "\\begin{equation}\n",
    "[S_{j},S_{k}]=c_{j,k}^{l}S_{l},\n",
    "\\end{equation}\n",
    "em que $c_{j,k}^{l}$ são as chamadas constantes de estrutura do grupo de Lie."
   ]
  },
  {
   "cell_type": "markdown",
   "metadata": {},
   "source": [
    "## $SO(3)$\n",
    "Consideremos as matrizes de rotação em torno de três eixos ortogonais de $\\mathbb{R}^{3}$ (__exercício__):\n",
    "\\begin{align}\n",
    "& R_{1}(\\phi) = \\begin{bmatrix} 1&0&0 \\\\ 0&\\cos\\phi&\\sin\\phi \\\\ 0&-\\sin\\phi&\\cos\\phi \\end{bmatrix}, \\\\\n",
    "& R_{2}(\\phi) = \\begin{bmatrix} \\cos\\phi&0&-\\sin\\phi \\\\ 0&1&0 \\\\ \\sin\\phi&0&\\cos\\phi \\end{bmatrix}, \\\\\n",
    "& R_{3}(\\phi) = \\begin{bmatrix} \\cos\\phi&\\sin\\phi&0 \\\\  -\\sin\\phi&\\cos\\phi&0 \\\\ 0&0&1 \\end{bmatrix}.\n",
    "\\end{align}"
   ]
  },
  {
   "cell_type": "markdown",
   "metadata": {},
   "source": [
    "Para esses elementos de $SO(3)$, os geradores são obtidos de\n",
    "\\begin{align}\n",
    "S_{1}=-i\\left[\\frac{dR_{1}}{d\\phi}\\right]_{\\phi\\rightarrow0} = -i\\begin{bmatrix} 0&0&0 \\\\ 0&-\\sin\\phi&\\cos\\phi \\\\ 0&-\\cos\\phi&-\\sin\\phi \\end{bmatrix}_{\\phi\\rightarrow0} = -i\\begin{bmatrix} 0&0&0 \\\\ 0&0&1 \\\\ 0&-1&0 \\end{bmatrix} = \\begin{bmatrix} 0&0&0 \\\\ 0&0&-i \\\\ 0&i&0 \\end{bmatrix}, \\\\\n",
    "S_{2}=-i\\left[\\frac{dR_{2}}{d\\phi}\\right]_{\\phi\\rightarrow0} = -i\\begin{bmatrix} -\\sin\\phi&0&-\\cos\\phi \\\\ 0&0&0 \\\\ \\cos\\phi&0&-\\sin\\phi \\end{bmatrix}_{\\phi\\rightarrow0} = -i\\begin{bmatrix} 0&0&-1 \\\\ 0&0&0 \\\\ 1&0&0 \\end{bmatrix} = \\begin{bmatrix} 0&0&i \\\\ 0&0&0 \\\\ -i&0&0 \\end{bmatrix}, \\\\\n",
    "S_{3}=-i\\left[\\frac{dR_{3}}{d\\phi}\\right]_{\\phi\\rightarrow0} = -i\\begin{bmatrix} -\\sin\\phi&\\cos\\phi&0 \\\\  -\\cos\\phi&-\\sin\\phi&0 \\\\ 0&0&0 \\end{bmatrix}_{\\phi\\rightarrow0} = -i\\begin{bmatrix} 0&1&0 \\\\  -1&0&0 \\\\ 0&0&0 \\end{bmatrix} = \\begin{bmatrix} 0&-i&0 \\\\  i&0&0 \\\\ 0&0&0 \\end{bmatrix}. \\\\\n",
    "\\end{align}"
   ]
  },
  {
   "cell_type": "code",
   "execution_count": 3,
   "metadata": {},
   "outputs": [
    {
     "data": {
      "image/png": "[encoded data removed]",
      "text/latex": [
       "$$\\left[\\begin{matrix}0 & 1.0 & 0\\\\-1.0 & 0 & 0\\\\0 & 0 & 0\\end{matrix}\\right]$$"
      ],
      "text/plain": [
       "⎡ 0    1.0  0⎤\n",
       "⎢            ⎥\n",
       "⎢-1.0   0   0⎥\n",
       "⎢            ⎥\n",
       "⎣ 0     0   0⎦"
      ]
     },
     "execution_count": 3,
     "metadata": {},
     "output_type": "execute_result"
    }
   ],
   "source": [
    "s1,s2,s2 = symbols('S_1 S_2 S_3')\n",
    "s1 = Matrix([[0,0,0],[0,0,-1j],[0,1j,0]])\n",
    "s2 = Matrix([[0,0,1j],[0,0,0],[-1j,0,0]])\n",
    "s3 = Matrix([[0,-1j,0],[1j,0,0],[0,0,0]])\n",
    "def comm(x,y):\n",
    "    return x*y-y*x\n",
    "comm(s1,s2)"
   ]
  },
  {
   "cell_type": "markdown",
   "metadata": {},
   "source": [
    "Com o código acima, pode-se verificar que as constantes de estrutura para esses geradores são dadas como segue:\n",
    "\\begin{equation}\n",
    "[S_{j},S_{k}]=i\\epsilon_{jkl}S_{l}.\n",
    "\\end{equation}"
   ]
  },
  {
   "cell_type": "markdown",
   "metadata": {},
   "source": [
    "### Relação de comutação para as componentes do mometo angular\n",
    "Em MQ, na base de posição, o momento angular é $\\vec{L}=\\vec{r}\\mathrm{x}\\vec{p}$ com $\\vec{p}=-i\\hbar\\vec{\\nabla}$. Podemos escrever, por exemplo,\n",
    "\\begin{align}\n",
    "L_{1} & =  (\\vec{r}\\mathrm{x}\\vec{p})_{1} = \\sum_{k,l}\\epsilon_{1kl}r_{k}p_{l}=\\hbar(-ir_{2}\\partial_{3}+ir_{3}\\partial_{2}) \\\\\n",
    "& = \\hbar\\begin{bmatrix}r_{1}&r_{2}&r_{3}\\end{bmatrix}\\begin{bmatrix} 0&0&0 \\\\ 0&0&-i \\\\ 0&i&0 \\end{bmatrix}\\begin{bmatrix}\\partial_{1}\\\\\\partial_{2}\\\\\\partial_{3}\\end{bmatrix} \\\\\n",
    "& = \\hbar\\vec{r}^{T}S_{1}\\vec{\\nabla}.\n",
    "\\end{align}\n",
    "Pode-se verificar, da mesma forma, que (__exercício__):\n",
    "\\begin{equation}\n",
    "L_{j}=\\hbar\\vec{r}^{T}S_{j}\\vec{\\nabla} \\text{ para }j=2,3.\n",
    "\\end{equation}\n",
    "\n",
    "Usando\n",
    "\\begin{align}\n",
    "\\vec{\\nabla}(\\vec{r}^{T}) & = \\begin{bmatrix} \\partial_{1} \\\\ \\partial_{2} \\\\ \\partial_{3} \\end{bmatrix}\\begin{bmatrix} r_{1} & r_{2} & r_{3} \\end{bmatrix} = \\begin{bmatrix} \\partial_{1}r_{1} & \\partial_{1}r_{2} & \\partial_{1}r_{3} \\\\ \\partial_{2}r_{1} & \\partial_{2}r_{2} & \\partial_{2}r_{3} \\\\ \\partial_{3}r_{1} & \\partial_{3}r_{2} & \\partial_{3}r_{3} \\end{bmatrix} \\\\\n",
    "& = \\begin{bmatrix} 1 & 0 & 0 \\\\ 0 & 1 & 0 \\\\ 0 & 0 & 1 \\end{bmatrix} = \\mathbb{I}_{3}, \n",
    "\\end{align}\n",
    "obtemos as relações gerais de comutação entre as componentes do momento angular (em MQ):\n",
    "\\begin{align}\n",
    "[L_{j},L_{k}] & = L_{j}L_{k}-L_{k}L_{j} = \\hbar\\vec{r}^{T}S_{j}\\vec{\\nabla}\\hbar\\vec{r}^{T}S_{k}\\vec{\\nabla} - \\hbar\\vec{r}^{T}S_{k}\\vec{\\nabla}\\hbar\\vec{r}^{T}S_{j}\\vec{\\nabla} \\\\\n",
    "& = \\hbar^{2}\\vec{r}^{T}S_{j}(\\vec{\\nabla}\\vec{r}^{T})S_{k}\\vec{\\nabla} - \\hbar^{2}\\vec{r}^{T}S_{k}(\\vec{\\nabla}\\vec{r}^{T})S_{j}\\vec{\\nabla} \\\\\n",
    "& = \\hbar^{2}\\vec{r}^{T}S_{j}\\mathbb{I}_{3}S_{k}\\vec{\\nabla} - \\hbar^{2}\\vec{r}^{T}S_{k}\\mathbb{I}_{3}S_{j}\\vec{\\nabla} \\\\\n",
    "& = \\hbar^{2}\\vec{r}^{T}(S_{j}S_{k}-S_{k}S_{j})\\vec{\\nabla} = i\\epsilon_{jkl}\\hbar^{2}\\vec{r}^{T}S_{l}\\vec{\\nabla} \\\\\n",
    "& = i\\hbar\\epsilon_{jkl}L_{l}.\n",
    "\\end{align}"
   ]
  },
  {
   "cell_type": "markdown",
   "metadata": {},
   "source": [
    "### $\\{L_{j}\\}$ como geradores do grupo de Lie $SO(3)$\n",
    "Considere uma rotação do vetor posição de uma partícula em $\\mathbb{R}^{3}$:\n",
    "\\begin{equation}\n",
    "\\vec{r}'=R\\vec{r}.\n",
    "\\end{equation}\n",
    "A transformação equivalente no espaço das funções de onda pode ser esrita como\n",
    "\\begin{equation}\n",
    "R(\\psi(\\vec{r}))=\\psi'(\\vec{r})=:\\psi(\\vec{r}').\n",
    "\\end{equation}\n",
    "Para uma rotação infinitesimal em torno de $z$:\n",
    "\\begin{equation}\n",
    "R_{3}(\\delta\\phi)\\psi(\\vec{r}) = \\psi(R_{3}(\\delta\\phi)\\vec{r}) = \\psi(\\vec{r}').\n",
    "\\end{equation}\n",
    "Agora,\n",
    "\\begin{equation}\n",
    "\\vec{r}' \\approx (\\mathbb{I}+i\\delta\\phi S_{3})\\vec{r}=\\vec{r}+i\\delta\\phi\\begin{bmatrix} 0&-i&0 \\\\  i&0&0 \\\\ 0&0&0 \\end{bmatrix}\\begin{bmatrix}r_{1}\\\\r_{2}\\\\r_{3}\\end{bmatrix} = \\begin{bmatrix}r_{1}+\\delta\\phi r_{2}\\\\r_{2}-\\delta\\phi r_{1}\\\\r_{3}\\end{bmatrix}.\n",
    "\\end{equation}\n",
    "Assim, usando expansão em série de Taylor,\n",
    "\\begin{align}\n",
    "R_{3}(\\delta\\phi)\\psi(r_{1},r_{2},r_{3}) & = \\psi(r_{1}+\\delta\\phi r_{2},r_{2}-\\delta\\phi r_{1},r_{3}) \\\\\n",
    "& = \\psi(r_{1},r_{2},r_{3}) + \\delta\\phi r_{2} \\partial_{1}\\psi(r_{1},r_{2},r_{3}) - \\delta\\phi r_{1}\\partial_{2}\\psi(r_{1},r_{2},r_{3}) \\\\\n",
    "& = \\psi(r_{1},r_{2},r_{3}) - (i/\\hbar)\\delta\\phi(i\\hbar r_{2} \\partial_{1} - i\\hbar r_{1}\\partial_{2})\\psi(r_{1},r_{2},r_{3}) \\\\\n",
    "& = \\psi(r_{1},r_{2},r_{3}) - (i/\\hbar)\\delta\\phi L_{3}\\psi(r_{1},r_{2},r_{3}).\n",
    "\\end{align}\n",
    "Ou seja,\n",
    "\\begin{equation}\n",
    "R_{3}(\\delta\\phi)\\psi=\\psi-i(L_{3}/\\hbar)\\psi.\n",
    "\\end{equation}\n",
    "Seguindo, trocamos $\\psi$ por $R_{3}(\\phi)\\psi$:\n",
    "\\begin{align}\n",
    "& R_{3}(\\delta\\phi)R_{3}(\\phi)\\psi-R_{3}(\\phi)\\psi=-i(L_{3}/\\hbar)R_{3}(\\phi)\\psi \\\\\n",
    "& \\therefore R_{3}(\\phi+\\delta\\phi)\\psi-R_{3}(\\phi)\\psi=-i(L_{3}/\\hbar)R_{3}(\\phi)\\psi \\\\\n",
    "& \\therefore \\frac{R_{3}(\\phi+\\delta\\phi)-R_{3}(\\phi)}{\\delta\\phi}=\\frac{dR_{3}(\\phi)}{d\\phi}=-i(L_{3}/\\hbar)R_{3}(\\phi) \\\\\n",
    "& \\therefore R_{3}(\\phi) = e^{-iL_{3}\\phi/\\hbar}.\n",
    "\\end{align}\n",
    "\n",
    "__Exercício:__ Faça a verificação análoga para $R_{1}$ e $R_{2}$."
   ]
  },
  {
   "cell_type": "markdown",
   "metadata": {},
   "source": [
    "### Geradores e quebra de degenerescência\n",
    "Consideremos a equação característica para o Hamiltoniano de algum sistema físico:\n",
    "\\begin{equation}\n",
    "H|E\\rangle=E|E\\rangle.\n",
    "\\end{equation}\n",
    "Vamos supor que $H$ é invariante por transformações de similaridade através dos elementos $R$ de um certo grupo $G$:\n",
    "\\begin{equation}\n",
    "RHR^{-1}=H\\therefore RH=HR \\therefore [H,R]=\\mathbb{0}.\n",
    "\\end{equation}\n",
    "Agora, aplicamos $R$ na equação de autovalores e autovetores\n",
    "\\begin{equation}\n",
    "RH|E\\rangle=RE|E\\rangle\\Rightarrow H(R|E\\rangle)=E(R|E\\rangle).\n",
    "\\end{equation}\n",
    "Ou seja, se $H$ comuta com os elementos $R\\in G$, então $R|E\\rangle$ também são autovetores de $H$ correspondentes ao mesmo autovalor $E$. Por isso dizemos que os autovetores $R|E\\rangle$ são degenerados.\n",
    "\n",
    "Consideremos agora que $G$ é um grupo de Lie, i.e., $R=e^{i\\epsilon S}$. Se usarmos a fórmula de Baker-Campbell-Hausdorff,\n",
    "\\begin{align}\n",
    "H & = RHR^{-1} = e^{i\\epsilon S}He^{-i\\epsilon S} \\\\\n",
    "& = H + i\\epsilon[S,H] - \\epsilon^{2}[S,[S,H]] + \\cdots,\n",
    "\\end{align}\n",
    "vemos que, como $\\epsilon\\rightarrow0$, devemos ter\n",
    "\\begin{equation}\n",
    "[S,H]=\\mathbb{0}.\n",
    "\\end{equation}\n",
    "Ou seja, se $H$ é invariante sob a ação dos elementos de um grupo de Lie, então $H$ comuta com os geradores desse grupo, e vice-versa. E isso implica que $H$ e $S$ possuem a mesma base de autovetores. Com isso, podemos quebrar a degenerescência (identificar diferentes autovetores) de $H$ através dos autovalores de $S$."
   ]
  },
  {
   "cell_type": "code",
   "execution_count": null,
   "metadata": {},
   "outputs": [],
   "source": []
  }
 ],
 "metadata": {
  "kernelspec": {
   "display_name": "Python 3",
   "language": "python",
   "name": "python3"
  },
  "language_info": {
   "codemirror_mode": {
    "name": "ipython",
    "version": 3
   },
   "file_extension": ".py",
   "mimetype": "text/x-python",
   "name": "python",
   "nbconvert_exporter": "python",
   "pygments_lexer": "ipython3",
   "version": "3.6.4"
  }
 },
 "nbformat": 4,
 "nbformat_minor": 2
}
