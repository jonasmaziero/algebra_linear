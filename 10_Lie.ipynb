{
 "cells": [
  {
   "cell_type": "markdown",
   "metadata": {},
   "source": [
    "## Notas de aula: Teoria de Grupos, Autor: Jonas Maziero, Departamento de Física, UFSM"
   ]
  },
  {
   "cell_type": "code",
   "execution_count": 69,
   "metadata": {},
   "outputs": [],
   "source": [
    "%run /Users/jonasmaziero/Dropbox/GitHub/algebra_linear/init.ipynb"
   ]
  },
  {
   "cell_type": "markdown",
   "metadata": {},
   "source": [
    "# Grupos de Lie\n",
    "O grupo de Lorentz é um exemplo de grupo contínuo, cujos elementos são parametrizados por números reais (ou complexos). Grupos de Lie são grupos contínuos tais que os parâmetros que determinam o elemento composto são funções analíticas dos parâmetros que determinam os elementos sendo compostos. Nesses casos podemos descrever todo o grupo \"olhando\" para elementos infinitesimalmente próximos ao elemento identidade.\n",
    "\n",
    "#### Exemplo: $SO(2)$\n",
    "Os Elementos desse grupo podem ser parametrizados e escritos como segue (__exercício__):\n",
    "\\begin{equation}\n",
    "O_{\\phi} = \\begin{bmatrix} \\cos\\phi & \\sin\\phi \\\\ -\\sin\\phi & \\cos\\phi \\end{bmatrix} = \\sigma_{0}\\cos\\phi + i\\sigma_{2}\\sin\\phi = e^{i\\sigma_{2}\\phi}.\n",
    "\\end{equation}\n",
    "Aqui é direto ver que $O_{\\phi}O_{\\phi'}=O_{\\phi+\\phi'}$ pois, pela comutatividade, $e^{i\\sigma_{2}\\phi}e^{i\\sigma_{2}\\phi'}=e^{i\\sigma_{2}(\\phi+\\phi')}$. Claro, para rotações infinitesimais $O_{\\phi\\rightarrow0}\\approx\\sigma_{0}+i\\phi\\sigma_{2}$."
   ]
  },
  {
   "cell_type": "markdown",
   "metadata": {},
   "source": [
    "#### Exemplo: $SU(2)$\n",
    "Qualquer matriz desse tipo pode ser escrita como\n",
    "\\begin{equation}\n",
    "U_{\\alpha,\\theta,\\hat{n}}=e^{i\\alpha}R_{\\hat{n}}(\\theta),\n",
    "\\end{equation}\n",
    "com\n",
    "\\begin{equation}\n",
    "R_{\\hat{n}}(\\theta)=e^{i\\hat{n}\\cdot\\vec{\\sigma}\\theta}=\\sigma_{0}\\cos\\theta+i\\hat{n}\\cdot\\vec{\\sigma}\\sin\\theta.\n",
    "\\end{equation}\n",
    "\n",
    "Aqui a transformação infinitesimal ($\\epsilon\\rightarrow 0$) fica:\n",
    "\\begin{equation}\n",
    "R_{\\hat{n}}(\\epsilon) = e^{i\\hat{n}\\cdot\\vec{\\sigma}\\epsilon} = \\sigma_{0} + i\\hat{n}\\cdot\\vec{\\sigma}\\epsilon + \\mathcal{O}(\\epsilon^{2}) \\approx \\sigma_{0} + i\\hat{n}\\cdot\\vec{\\sigma}\\epsilon.\n",
    "\\end{equation}"
   ]
  },
  {
   "cell_type": "markdown",
   "metadata": {},
   "source": [
    "## Geradores do grupo de Lie\n",
    "Os exemplos acima indicam uma representação infinitesimal geral para grupos de Lie ($\\epsilon\\rightarrow0$):\n",
    "\\begin{equation}\n",
    "R(\\epsilon) = e^{i\\epsilon S} \\approx e + i\\epsilon S,\n",
    "\\end{equation}\n",
    "em que as transformações $S$ são os ditos _geradores_ do grupo de Lie.\n",
    "\n",
    "Algumas observações (__exercício:__ verificar):\n",
    "* Elemento inverso\n",
    "\\begin{equation}\n",
    "R^{-1}(\\epsilon)= e^{-i\\epsilon S} \\approx e - i\\epsilon S.\n",
    "\\end{equation}\n",
    "\n",
    "* Se $R$ é unitário, $S$ é Hermitiano:\n",
    "\\begin{equation}\n",
    "R^{\\dagger}(\\epsilon)R(\\epsilon) = e \\approx e + i\\epsilon(S-S^{\\dagger}).\n",
    "\\end{equation}\n",
    "\n",
    "* Se R é normal e $\\det(R)=1$, então $Tr(S)=0$:\n",
    "\\begin{equation}\n",
    "\\det(R(\\epsilon)) = \\det(e^{i\\epsilon S}) = e^{i\\epsilon Tr(S)}.\n",
    "\\end{equation}\n",
    "\n",
    "* Transformação finita é obtida compondo-se rotações infinitesimais ($\\varepsilon=N\\epsilon=\\epsilon+\\cdots+\\epsilon$ para $N\\rightarrow\\infty$):\n",
    "\\begin{equation}\n",
    "R(\\varepsilon)=\\lim_{N\\rightarrow\\infty}\\left(e+i(\\varepsilon/N)S\\right)^{N}=e^{i\\varepsilon S}.\n",
    "\\end{equation}\n",
    "\n",
    "Geradores a partir das transformações finitas:\n",
    "\\begin{equation}\n",
    "S = -i\\left[\\frac{dR}{d\\varepsilon}\\right]_{\\varepsilon\\rightarrow0}.\n",
    "\\end{equation}\n",
    "Por exemplo, \n",
    "\\begin{equation}\n",
    "-i\\left[\\frac{dO_{\\phi}}{d\\phi}\\right]_{\\phi\\rightarrow0} = -i\\lim_{\\phi\\rightarrow0}\\begin{bmatrix} -\\sin\\phi & \\cos\\phi \\\\ -\\cos\\phi & -\\sin\\phi \\end{bmatrix} = \\sigma_{2}.\n",
    "\\end{equation}\n",
    "__Exercício:__ Obtenha o gerador do grupo de Lorentz."
   ]
  },
  {
   "cell_type": "markdown",
   "metadata": {},
   "source": [
    "## Álgebra de Lie\n",
    "Notemos que o produto de duas transformações de Lie é equivalente a uma outra transformação infinitesimal com gerador dado pela soma dos geradores:\n",
    "\\begin{align}\n",
    "R(\\epsilon)*R'(\\epsilon) & \\approx (e + i\\epsilon S)*(e + i\\epsilon S') \\approx e + i\\epsilon(S+S') \\\\\n",
    "& =:  e + i\\epsilon S'' \\equiv R''(\\epsilon).\n",
    "\\end{align}\n",
    "Note, como a soma $+$ de dois geradores é um gerador, temos uma estrutura parecida com aquela de um espaço vetorial, que é a primeira estrutura de grupo de uma álgebra de Lie. A outra estrutura, multiplicativa, é dada pelos comutadores:\n",
    "\\begin{equation}\n",
    "[S_{j},S_{k}]=\\sum_{l}c_{j,k}^{l}S_{l},\n",
    "\\end{equation}\n",
    "em que $c_{j,k}^{l}$ são as chamadas _constantes de estrutura_ do grupo de Lie."
   ]
  },
  {
   "cell_type": "markdown",
   "metadata": {},
   "source": [
    "### Vínculos para as constantes de estrutura\n",
    "Como $[S_{j},S_{k}]=-[S_{k},S_{j}]$, as constantes de estrutura devem ser antisimétricas nos subíndices: \n",
    "\\begin{equation}\n",
    "c_{j,k}^{l}=-c_{k,j}^{l}.\n",
    "\\end{equation}\n",
    "\n",
    "__Exercício:__ Verifique a identidade de Jacobi (está verificada usando IPython abaixo):\n",
    "\\begin{equation}\n",
    "[[A,B],C]+[[B,C],A]+[[C,A],B]=0,\n",
    "\\end{equation}\n",
    "com $A,B,C$ sendo operadores lineares quaisquer.\n",
    "\n",
    "Um segundo vínculo é obtido aplicando a identidade de Jacobi:\n",
    "\\begin{align}\n",
    "& [[S_{j},S_{k}],S_{l}]+[[S_{k},S_{l}],S_{j}]+[[S_{l},S_{j}],S_{k}]=0, \\\\\n",
    "& \\left[\\sum_{m}c_{j,k}^{m}S_{m},S_{l}\\right]+\\left[\\sum_{m}c_{k,l}^{j}S_{m},S_{j}\\right]+\\left[\\sum_{m}c_{l,j}^{k}S_{m},S_{k}\\right]=0, \\\\\n",
    "& \\sum_{m,n}\\left(c_{j,k}^{m}c_{m,l}^{n}+c_{k,l}^{j}c_{m,j}^{n}+c_{l,j}^{k}c_{m,k}^{n}\\right)=0,\n",
    "\\end{align}"
   ]
  },
  {
   "cell_type": "code",
   "execution_count": 85,
   "metadata": {},
   "outputs": [
    {
     "name": "stdout",
     "output_type": "stream",
     "text": [
      "0\n"
     ]
    }
   ],
   "source": [
    "A, B, C = symbols(\"A B C\", commutative=False)\n",
    "#print(comm(A,B))\n",
    "jacobi=comm(comm(A,B),C)+comm(comm(B,C),A)+comm(comm(C,A),B)\n",
    "print(simplify(jacobi))"
   ]
  },
  {
   "cell_type": "markdown",
   "metadata": {},
   "source": [
    "#### Exemplo: $SU(2)$\n",
    "Sabemos que os geradores de transformações infinitesimais de $SU(2)$ são matrizes Hermitianas de traço nulo, que podem ser escritas como\n",
    "\\begin{equation}\n",
    "S = \\begin{bmatrix} z & x-iy \\\\ x+iy & -z \\end{bmatrix} = x\\sigma_{1}+y\\sigma_{2}+z\\sigma_{3},\n",
    "\\end{equation}\n",
    "com $x,y,z\\in\\mathbb{R}$. Para $y=z=0$ temos $S_{1}=\\sigma_{1}$, para $x=z=0$ temos $S_{2}=\\sigma_{2}$ e para $x=y=0$ temos $S_{3}=\\sigma_{3}$. Note que $\\{\\sigma_{j}\\}$ são LI e que forma uma base para o subespaço de $\\mathbb{C}^{2\\mathrm{x}2}$ formado por matrizes Hermitianas de traço nulo. Para esses geradores, sabemos que $c_{j,k}^{l}=2i\\epsilon_{jkl}$. Pelas propriedades do tensor de Levi-Civita, vemos que a primeira restrição é satisfeita pois $\\epsilon_{jkl}=-\\epsilon_{kjl}$.\n",
    "\n",
    "__Exercício:__ Verifique que a segunda restrição também é satisfeita nesse exemplo."
   ]
  },
  {
   "cell_type": "markdown",
   "metadata": {},
   "source": [
    "## $SO(3)$ e momento angular quântico\n",
    "Consideremos as matrizes de rotação em torno de três eixos ortogonais de $\\mathbb{R}^{3}$. Para esses elementos de $SO(3)$, os geradores são obtidos de\n",
    "\\begin{align}\n",
    "S_{1}=-i\\left[\\frac{dR_{1}(\\phi)}{d\\phi}\\right]_{\\phi\\rightarrow0} = -i\\begin{bmatrix} 0&0&0 \\\\ 0&-\\sin\\phi&\\cos\\phi \\\\ 0&-\\cos\\phi&-\\sin\\phi \\end{bmatrix}_{\\phi\\rightarrow0} = -i\\begin{bmatrix} 0&0&0 \\\\ 0&0&1 \\\\ 0&-1&0 \\end{bmatrix} = \\begin{bmatrix} 0&0&0 \\\\ 0&0&-i \\\\ 0&i&0 \\end{bmatrix}, \\\\\n",
    "S_{2}=-i\\left[\\frac{dR_{2}(\\phi)}{d\\phi}\\right]_{\\phi\\rightarrow0} = -i\\begin{bmatrix} -\\sin\\phi&0&-\\cos\\phi \\\\ 0&0&0 \\\\ \\cos\\phi&0&-\\sin\\phi \\end{bmatrix}_{\\phi\\rightarrow0} = -i\\begin{bmatrix} 0&0&-1 \\\\ 0&0&0 \\\\ 1&0&0 \\end{bmatrix} = \\begin{bmatrix} 0&0&i \\\\ 0&0&0 \\\\ -i&0&0 \\end{bmatrix}, \\\\\n",
    "S_{3}=-i\\left[\\frac{dR_{3}(\\phi)}{d\\phi}\\right]_{\\phi\\rightarrow0} = -i\\begin{bmatrix} -\\sin\\phi&\\cos\\phi&0 \\\\  -\\cos\\phi&-\\sin\\phi&0 \\\\ 0&0&0 \\end{bmatrix}_{\\phi\\rightarrow0} = -i\\begin{bmatrix} 0&1&0 \\\\  -1&0&0 \\\\ 0&0&0 \\end{bmatrix} = \\begin{bmatrix} 0&-i&0 \\\\  i&0&0 \\\\ 0&0&0 \\end{bmatrix}. \\\\\n",
    "\\end{align}"
   ]
  },
  {
   "cell_type": "code",
   "execution_count": 54,
   "metadata": {},
   "outputs": [
    {
     "data": {
      "image/png": "[encoded data removed]",
      "text/latex": [
       "$$\\left[\\begin{matrix}0 & 1.0 & 0\\\\-1.0 & 0 & 0\\\\0 & 0 & 0\\end{matrix}\\right]$$"
      ],
      "text/plain": [
       "⎡ 0    1.0  0⎤\n",
       "⎢            ⎥\n",
       "⎢-1.0   0   0⎥\n",
       "⎢            ⎥\n",
       "⎣ 0     0   0⎦"
      ]
     },
     "execution_count": 54,
     "metadata": {},
     "output_type": "execute_result"
    }
   ],
   "source": [
    "s1,s2,s2 = symbols('S_1 S_2 S_3')\n",
    "s1 = Matrix([[0,0,0],[0,0,-1j],[0,1j,0]])\n",
    "s2 = Matrix([[0,0,1j],[0,0,0],[-1j,0,0]])\n",
    "s3 = Matrix([[0,-1j,0],[1j,0,0],[0,0,0]])\n",
    "comm(s1,s2)"
   ]
  },
  {
   "cell_type": "markdown",
   "metadata": {},
   "source": [
    "Com o código acima, pode-se verificar que as constantes de estrutura para esses geradores são dadas como segue:\n",
    "\\begin{equation}\n",
    "[S_{j},S_{k}]=i\\epsilon_{jkl}S_{l}.\n",
    "\\end{equation}"
   ]
  },
  {
   "cell_type": "markdown",
   "metadata": {},
   "source": [
    "### Relação de comutação para as componentes do mometo angular\n",
    "Em MQ, na base de posição, o momento angular é\n",
    "\\begin{equation}\n",
    "\\vec{L}=\\vec{r}\\mathrm{x}\\vec{p} \\text{ com } \\vec{p}=-i\\hbar\\vec{\\nabla}_{\\vec{r}}.\n",
    "\\end{equation}\n",
    "Podemos escrever as componentes do memento angular em termos dos geradores $S_{j}$:\n",
    "\\begin{align}\n",
    "L_{1} & =  (\\vec{r}\\mathrm{x}\\vec{p})_{1} = \\sum_{k,l}\\epsilon_{1kl}r_{k}p_{l}=\\hbar(-ir_{2}\\partial_{3}+ir_{3}\\partial_{2}) \\\\\n",
    "& = \\hbar\\begin{bmatrix}r_{1}&r_{2}&r_{3}\\end{bmatrix}\\begin{bmatrix} 0&0&0 \\\\ 0&0&-i \\\\ 0&i&0 \\end{bmatrix}\\begin{bmatrix}\\partial_{1}\\\\\\partial_{2}\\\\\\partial_{3}\\end{bmatrix} \\\\\n",
    "& = \\hbar\\vec{r}^{T}S_{1}\\vec{\\nabla}.\n",
    "\\end{align}\n",
    "Pode-se verificar, da mesma forma, que (__exercício__):\n",
    "\\begin{equation}\n",
    "L_{j}=\\hbar\\vec{r}^{T}S_{j}\\vec{\\nabla}_{\\vec{r}} \\text{ para }j=2,3.\n",
    "\\end{equation}\n",
    "\n",
    "Usando\n",
    "\\begin{align}\n",
    "\\vec{\\nabla}_{\\vec{r}}(\\vec{r}^{T}) & = \\begin{bmatrix} \\partial_{1} \\\\ \\partial_{2} \\\\ \\partial_{3} \\end{bmatrix}\\begin{bmatrix} r_{1} & r_{2} & r_{3} \\end{bmatrix} = \\begin{bmatrix} \\partial_{1}r_{1} & \\partial_{1}r_{2} & \\partial_{1}r_{3} \\\\ \\partial_{2}r_{1} & \\partial_{2}r_{2} & \\partial_{2}r_{3} \\\\ \\partial_{3}r_{1} & \\partial_{3}r_{2} & \\partial_{3}r_{3} \\end{bmatrix} \\\\\n",
    "& = \\begin{bmatrix} 1 & 0 & 0 \\\\ 0 & 1 & 0 \\\\ 0 & 0 & 1 \\end{bmatrix} = \\mathbb{I}_{3}, \n",
    "\\end{align}\n",
    "obtemos as relações gerais de comutação entre as componentes do momento angular (em MQ):\n",
    "\\begin{align}\n",
    "[L_{j},L_{k}] & = L_{j}L_{k}-L_{k}L_{j} = \\hbar\\vec{r}^{T}S_{j}\\vec{\\nabla}_{\\vec{r}}\\hbar\\vec{r}^{T}S_{k}\\vec{\\nabla}_{\\vec{r}} - \\hbar\\vec{r}^{T}S_{k}\\vec{\\nabla}\\hbar\\vec{r}^{T}S_{j}\\vec{\\nabla}_{\\vec{r}} \\\\\n",
    "& = \\hbar^{2}\\vec{r}^{T}S_{j}(\\vec{\\nabla}_{\\vec{r}}\\vec{r}^{T})S_{k}\\vec{\\nabla}_{\\vec{r}} - \\hbar^{2}\\vec{r}^{T}S_{k}(\\vec{\\nabla}\\vec{r}^{T})S_{j}\\vec{\\nabla}_{\\vec{r}} \\\\\n",
    "& = \\hbar^{2}\\vec{r}^{T}S_{j}\\mathbb{I}_{3}S_{k}\\vec{\\nabla}_{\\vec{r}} - \\hbar^{2}\\vec{r}^{T}S_{k}\\mathbb{I}_{3}S_{j}\\vec{\\nabla}_{\\vec{r}} \\\\\n",
    "& = \\hbar^{2}\\vec{r}^{T}(S_{j}S_{k}-S_{k}S_{j})\\vec{\\nabla}_{\\vec{r}} = i\\epsilon_{jkl}\\hbar^{2}\\vec{r}^{T}S_{l}\\vec{\\nabla}_{\\vec{r}} \\\\\n",
    "& = i\\hbar\\epsilon_{jkl}L_{l}.\n",
    "\\end{align}"
   ]
  },
  {
   "cell_type": "markdown",
   "metadata": {},
   "source": [
    "### $\\{L_{j}\\}$ como geradores do grupo de Lie $SO(3)$\n",
    "Considere uma rotação do vetor posição de uma partícula em $\\mathbb{R}^{3}$:\n",
    "\\begin{equation}\n",
    "\\vec{r}'=R\\vec{r}.\n",
    "\\end{equation}\n",
    "A transformação equivalente no espaço das funções de onda (funções escalares) pode ser esrita como\n",
    "\\begin{equation}\n",
    "R(\\psi(\\vec{r})):=\\psi(\\vec{r}').\n",
    "\\end{equation}\n",
    "Para uma rotação infinitesimal em torno de $z$:\n",
    "\\begin{equation}\n",
    "R_{3}(\\delta\\phi)\\psi(\\vec{r}) = \\psi(R_{3}(\\delta\\phi)\\vec{r}) = \\psi(\\vec{r}').\n",
    "\\end{equation}\n",
    "Agora,\n",
    "\\begin{equation}\n",
    "\\vec{r}' \\approx (\\mathbb{I}+i\\delta\\phi S_{3})\\vec{r}=\\vec{r}+i\\delta\\phi\\begin{bmatrix} 0&-i&0 \\\\  i&0&0 \\\\ 0&0&0 \\end{bmatrix}\\begin{bmatrix}r_{1}\\\\r_{2}\\\\r_{3}\\end{bmatrix} = \\begin{bmatrix}r_{1}+\\delta\\phi r_{2}\\\\r_{2}-\\delta\\phi r_{1}\\\\r_{3}\\end{bmatrix}.\n",
    "\\end{equation}"
   ]
  },
  {
   "cell_type": "markdown",
   "metadata": {},
   "source": [
    "Assim, usando expansão em série de Taylor,\n",
    "\\begin{align}\n",
    "R_{3}(\\delta\\phi)\\psi(r_{1},r_{2},r_{3}) & = \\psi(r_{1}+\\delta\\phi r_{2},r_{2}-\\delta\\phi r_{1},r_{3}) \\\\\n",
    "& = \\psi(r_{1},r_{2},r_{3}) + \\delta\\phi r_{2} \\partial_{1}\\psi(r_{1},r_{2},r_{3}) - \\delta\\phi r_{1}\\partial_{2}\\psi(r_{1},r_{2},r_{3}) \\\\\n",
    "& = \\psi(r_{1},r_{2},r_{3}) - (i/\\hbar)\\delta\\phi(i\\hbar r_{2} \\partial_{1} - i\\hbar r_{1}\\partial_{2})\\psi(r_{1},r_{2},r_{3}) \\\\\n",
    "& = \\psi(r_{1},r_{2},r_{3}) - (i/\\hbar)\\delta\\phi L_{3}\\psi(r_{1},r_{2},r_{3}).\n",
    "\\end{align}\n",
    "Ou seja,\n",
    "\\begin{equation}\n",
    "R_{3}(\\delta\\phi)\\psi=\\psi-i\\delta\\phi(L_{3}/\\hbar)\\psi.\n",
    "\\end{equation}\n",
    "Seguindo, trocamos $\\psi$ por $R_{3}(\\phi)\\psi$:\n",
    "\\begin{align}\n",
    "& R_{3}(\\delta\\phi)R_{3}(\\phi)\\psi-R_{3}(\\phi)\\psi=-i\\delta\\phi(L_{3}/\\hbar)R_{3}(\\phi)\\psi \\\\\n",
    "& \\therefore R_{3}(\\phi+\\delta\\phi)\\psi-R_{3}(\\phi)\\psi=-i\\delta\\phi(L_{3}/\\hbar)R_{3}(\\phi)\\psi \\\\\n",
    "& \\therefore \\frac{R_{3}(\\phi+\\delta\\phi)-R_{3}(\\phi)}{\\delta\\phi}=\\frac{dR_{3}(\\phi)}{d\\phi}=-i(L_{3}/\\hbar)R_{3}(\\phi) \\\\\n",
    "& \\therefore R_{3}(\\phi) = e^{-iL_{3}\\phi/\\hbar}.\n",
    "\\end{align}\n",
    "\n",
    "__Exercício:__ Faça a verificação análoga para $R_{1}$ e $R_{2}$."
   ]
  },
  {
   "cell_type": "markdown",
   "metadata": {},
   "source": [
    "## Geradores e quebra de degenerescência\n",
    "Consideremos a equação característica para o Hamiltoniano de algum sistema físico:\n",
    "\\begin{equation}\n",
    "H|E\\rangle=E|E\\rangle.\n",
    "\\end{equation}\n",
    "Vamos supor que $H$ é invariante por transformações de similaridade através dos elementos $R$ de um certo grupo $G$:\n",
    "\\begin{equation}\n",
    "RHR^{-1}=H\\therefore RH=HR \\therefore [H,R]=\\mathbb{0}.\n",
    "\\end{equation}\n",
    "Agora, aplicamos $R$ na equação de autovalores e autovetores\n",
    "\\begin{equation}\n",
    "RH|E\\rangle=RE|E\\rangle\\Rightarrow H(R|E\\rangle)=E(R|E\\rangle).\n",
    "\\end{equation}\n",
    "Ou seja, se $H$ comuta com os elementos $R\\in G$, então $R|E\\rangle$ também são autovetores de $H$ correspondentes ao mesmo autovalor $E$. Por isso dizemos que os autovetores $R|E\\rangle$ são degenerados.\n",
    "\n",
    "Consideremos agora que $G$ é um grupo de Lie, i.e., $R=e^{i\\epsilon S}$. Se usarmos a fórmula de Baker-Campbell-Hausdorff,\n",
    "\\begin{align}\n",
    "H & = RHR^{-1} = e^{i\\epsilon S}He^{-i\\epsilon S} \\\\\n",
    "& = H + i\\epsilon[S,H] - \\epsilon^{2}[S,[S,H]] + \\cdots,\n",
    "\\end{align}\n",
    "vemos que, como $\\epsilon\\rightarrow0$, devemos ter\n",
    "\\begin{equation}\n",
    "[S,H]=\\mathbb{0}.\n",
    "\\end{equation}\n",
    "Ou seja, se $H$ é invariante sob a ação dos elementos de um grupo de Lie, então $H$ comuta com os geradores desse grupo, e vice-versa. E isso implica que $H$ e $S$ possuem a mesma base de autovetores. Com isso, podemos quebrar a degenerescência (identificar diferentes autovetores) de $H$ através dos autovalores de $S$."
   ]
  },
  {
   "cell_type": "markdown",
   "metadata": {},
   "source": [
    "## Álgebra de Pauli\n",
    "Matrizes de Pauli:"
   ]
  },
  {
   "cell_type": "code",
   "execution_count": 10,
   "metadata": {},
   "outputs": [
    {
     "data": {
      "image/png": "[encoded data removed]",
      "text/latex": [
       "$$\\left ( \\left[\\begin{matrix}0 & 1\\\\1 & 0\\end{matrix}\\right], \\quad \\left[\\begin{matrix}0 & - 1.0 i\\\\1.0 i & 0\\end{matrix}\\right], \\quad \\left[\\begin{matrix}1 & 0\\\\0 & -1\\end{matrix}\\right]\\right )$$"
      ],
      "text/plain": [
       "⎛⎡0  1⎤  ⎡  0    -1.0⋅ⅈ⎤  ⎡1  0 ⎤⎞\n",
       "⎜⎢    ⎥, ⎢             ⎥, ⎢     ⎥⎟\n",
       "⎝⎣1  0⎦  ⎣1.0⋅ⅈ    0   ⎦  ⎣0  -1⎦⎠"
      ]
     },
     "execution_count": 10,
     "metadata": {},
     "output_type": "execute_result"
    }
   ],
   "source": [
    "#s1, s2, s3 = symbols(\"sigma_1 sigma_2 sigma_3\")\n",
    "pauli(1),pauli(2),pauli(3)"
   ]
  },
  {
   "cell_type": "code",
   "execution_count": 8,
   "metadata": {},
   "outputs": [
    {
     "data": {
      "image/png": "[encoded data removed]",
      "text/latex": [
       "$$\\left ( 0, \\quad 0, \\quad 0\\right )$$"
      ],
      "text/plain": [
       "(0, 0, 0)"
      ]
     },
     "execution_count": 8,
     "metadata": {},
     "output_type": "execute_result"
    }
   ],
   "source": [
    "tr(pauli(1)),tr(pauli(2)),tr(pauli(3))"
   ]
  },
  {
   "cell_type": "markdown",
   "metadata": {},
   "source": [
    "Essas matrizes são Hermitianas e tem traço nulo, tal como os geradores de um grupo unitário. A relação de comutação entre elas é $[\\sigma_{j},\\sigma_{k}] = 2i\\epsilon_{jkl}\\sigma_{l}$. Portanto as constante de estrutura da álgebra de Lie correspondente são $c_{j,k}^{l}=2i\\epsilon_{jkl}$. \n",
    "\n",
    "Qualquer matriz pode ser decomposta em termos da identidade e das matrizes de Pauli\n",
    "\\begin{equation}\n",
    "A=\\sum_{j=0}^{3}S_{j}\\sigma_{j}/\\sqrt{2},\n",
    "\\end{equation}\n",
    "com $S_{j} = \\langle \\sigma_{j}/\\sqrt{2}|A\\rangle_{hs}=Tr(\\sigma_{j}A)/\\sqrt{2}$."
   ]
  },
  {
   "cell_type": "code",
   "execution_count": 25,
   "metadata": {},
   "outputs": [
    {
     "data": {
      "image/png": "[encoded data removed]",
      "text/latex": [
       "$$\\left ( \\left[\\begin{matrix}\\frac{\\sqrt{2}}{2} \\left(S_{0} + S_{3}\\right) & \\frac{\\sqrt{2}}{2} \\left(S_{1} - 1.0 i S_{2}\\right)\\\\\\frac{\\sqrt{2}}{2} \\left(S_{1} + 1.0 i S_{2}\\right) & \\frac{\\sqrt{2}}{2} \\left(S_{0} - S_{3}\\right)\\end{matrix}\\right], \\quad S_{0}, \\quad S_{1}, \\quad S_{2}, \\quad S_{3}\\right )$$"
      ],
      "text/plain": [
       "⎛⎡   √2⋅(S₀ + S₃)     √2⋅(S₁ - 1.0⋅ⅈ⋅S₂)⎤                ⎞\n",
       "⎜⎢   ────────────     ──────────────────⎥                ⎟\n",
       "⎜⎢        2                   2         ⎥                ⎟\n",
       "⎜⎢                                      ⎥, S₀, S₁, S₂, S₃⎟\n",
       "⎜⎢√2⋅(S₁ + 1.0⋅ⅈ⋅S₂)     √2⋅(S₀ - S₃)   ⎥                ⎟\n",
       "⎜⎢──────────────────     ────────────   ⎥                ⎟\n",
       "⎝⎣        2                   2         ⎦                ⎠"
      ]
     },
     "execution_count": 25,
     "metadata": {},
     "output_type": "execute_result"
    }
   ],
   "source": [
    "a, b, c, d, S0, S1, S2, S3 = symbols(\"a b c d S_0 S_1 S_2 S_3\")\n",
    "Ad = (S0*pauli(0) + S1*pauli(1) + S2*pauli(2) + S3*pauli(3))/sqrt(2)\n",
    "Ad, simplify(tr(pauli(0)*Ad)/sqrt(2)), simplify(tr(pauli(1)*Ad)/sqrt(2)), simplify(tr(pauli(2)*Ad)/sqrt(2)), simplify(tr(pauli(3)*Ad)/sqrt(2))"
   ]
  },
  {
   "cell_type": "code",
   "execution_count": 26,
   "metadata": {},
   "outputs": [
    {
     "data": {
      "image/png": "[encoded data removed]",
      "text/latex": [
       "$$\\left ( \\left[\\begin{matrix}a & b\\\\c & d\\end{matrix}\\right], \\quad \\frac{\\sqrt{2}}{2} \\left(a + d\\right), \\quad \\frac{\\sqrt{2}}{2} \\left(b + c\\right), \\quad \\frac{\\sqrt{2}}{2} \\left(1.0 i b - 1.0 i c\\right), \\quad \\frac{\\sqrt{2}}{2} \\left(a - d\\right)\\right )$$"
      ],
      "text/plain": [
       "⎛⎡a  b⎤  √2⋅(a + d)  √2⋅(b + c)  √2⋅(1.0⋅ⅈ⋅b - 1.0⋅ⅈ⋅c)  √2⋅(a - d)⎞\n",
       "⎜⎢    ⎥, ──────────, ──────────, ──────────────────────, ──────────⎟\n",
       "⎝⎣c  d⎦      2           2                 2                 2     ⎠"
      ]
     },
     "execution_count": 26,
     "metadata": {},
     "output_type": "execute_result"
    }
   ],
   "source": [
    "A = Matrix([[a,b],[c,d]])\n",
    "A, tr(pauli(0)*A)/sqrt(2), tr(pauli(1)*A)/sqrt(2), tr(pauli(2)*A)/sqrt(2), tr(pauli(3)*A)/sqrt(2)"
   ]
  },
  {
   "cell_type": "markdown",
   "metadata": {},
   "source": [
    "## Matrizes de Dirac\n",
    "Essas matrizes são escritas como segue:\n",
    "\\begin{align}\n",
    "& \\gamma^{0} = \\sigma_{3}\\otimes\\sigma_{0}=\\begin{bmatrix}\\sigma_{0}&\\mathbb{O} \\\\\\mathbb{O}&-\\sigma_{0}\\end{bmatrix} \\text{, } \\gamma^{1} = -i\\sigma_{2}\\otimes\\sigma_{1}=\\begin{bmatrix}\\mathbb{O}&\\sigma_{1} \\\\-\\sigma_{1}&\\mathbb{O}\\end{bmatrix}, \\\\\n",
    "& \\gamma^{2} = -i\\sigma_{2}\\otimes\\sigma_{2}=\\begin{bmatrix}\\mathbb{O}&\\sigma_{2} \\\\-\\sigma_{2}&\\mathbb{O}\\end{bmatrix} \\text{, } \\gamma^{3} = -i\\sigma_{2}\\otimes\\sigma_{3}=\\begin{bmatrix}\\mathbb{O}&\\sigma_{3} \\\\-\\sigma_{3}&\\mathbb{O}\\end{bmatrix}.\n",
    "\\end{align}"
   ]
  },
  {
   "cell_type": "code",
   "execution_count": 36,
   "metadata": {},
   "outputs": [],
   "source": [
    "def dirac(j):\n",
    "    if j == 0:\n",
    "        return tp(pauli(3),pauli(0)) # g0\n",
    "    elif j == 1:\n",
    "        return tp(-1j*pauli(2),pauli(1)) # g1\n",
    "    elif j == 2:\n",
    "        return tp(-1j*pauli(2),pauli(2)) # g2\n",
    "    elif j == 3:\n",
    "        return tp(-1j*pauli(2),pauli(3)) # g3"
   ]
  },
  {
   "cell_type": "code",
   "execution_count": 56,
   "metadata": {},
   "outputs": [
    {
     "name": "stdout",
     "output_type": "stream",
     "text": [
      "g0 g1 g2 g3\n"
     ]
    },
    {
     "data": {
      "image/png": "[encoded data removed]",
      "text/latex": [
       "$$\\left ( \\left[\\begin{matrix}1 & 0 & 0 & 0\\\\0 & 1 & 0 & 0\\\\0 & 0 & -1 & 0\\\\0 & 0 & 0 & -1\\end{matrix}\\right], \\quad \\left[\\begin{matrix}0 & 0 & 0 & -1.0\\\\0 & 0 & -1.0 & 0\\\\0 & 1.0 & 0 & 0\\\\1.0 & 0 & 0 & 0\\end{matrix}\\right], \\quad \\left[\\begin{matrix}0 & 0 & 0 & 1.0 i\\\\0 & 0 & - 1.0 i & 0\\\\0 & - 1.0 i & 0 & 0\\\\1.0 i & 0 & 0 & 0\\end{matrix}\\right], \\quad \\left[\\begin{matrix}0 & 0 & -1.0 & 0\\\\0 & 0 & 0 & 1.0\\\\1.0 & 0 & 0 & 0\\\\0 & -1.0 & 0 & 0\\end{matrix}\\right]\\right )$$"
      ],
      "text/plain": [
       "⎛⎡1  0  0   0 ⎤  ⎡ 0    0    0    -1.0⎤  ⎡  0      0       0     1.0⋅ⅈ⎤  ⎡ 0  \n",
       "⎜⎢            ⎥  ⎢                    ⎥  ⎢                            ⎥  ⎢    \n",
       "⎜⎢0  1  0   0 ⎥  ⎢ 0    0   -1.0   0  ⎥  ⎢  0      0     -1.0⋅ⅈ    0  ⎥  ⎢ 0  \n",
       "⎜⎢            ⎥, ⎢                    ⎥, ⎢                            ⎥, ⎢    \n",
       "⎜⎢0  0  -1  0 ⎥  ⎢ 0   1.0   0     0  ⎥  ⎢  0    -1.0⋅ⅈ    0       0  ⎥  ⎢1.0 \n",
       "⎜⎢            ⎥  ⎢                    ⎥  ⎢                            ⎥  ⎢    \n",
       "⎝⎣0  0  0   -1⎦  ⎣1.0   0    0     0  ⎦  ⎣1.0⋅ⅈ    0       0       0  ⎦  ⎣ 0  \n",
       "\n",
       "  0    -1.0   0 ⎤⎞\n",
       "                ⎥⎟\n",
       "  0     0    1.0⎥⎟\n",
       "                ⎥⎟\n",
       "  0     0     0 ⎥⎟\n",
       "                ⎥⎟\n",
       " -1.0   0     0 ⎦⎠"
      ]
     },
     "execution_count": 56,
     "metadata": {},
     "output_type": "execute_result"
    }
   ],
   "source": [
    "g0, g1, g2, g3 = symbols(\"gamma^1 gamma^2 gamma^3 gamma^4\")\n",
    "print(\"g0 g1 g2 g3\")\n",
    "dirac(0), dirac(1), dirac(2),dirac(3)"
   ]
  },
  {
   "cell_type": "markdown",
   "metadata": {},
   "source": [
    "### Álgebra de Clifford"
   ]
  },
  {
   "cell_type": "markdown",
   "metadata": {},
   "source": [
    "Uma base para matrizes $4\\mathrm{x}4$ (tem 16 elementos):\n",
    "\\begin{align}\n",
    "\\left\\{\\mathbb{I}_{4} \\text{, } \\gamma^{\\mu=0,1,2,3} \\text{, } \\gamma^{4}=i\\gamma^{0}\\gamma^{1}\\gamma^{2}\\gamma^{3}=\\begin{bmatrix}  \\mathbb{O} & \\sigma_{0} \\\\ \\sigma_{0} & \\mathbb{O} \\end{bmatrix} \\text{, } \\gamma^{4}\\gamma^{\\mu=0,1,2,3} \\text{, } \\sigma^{\\mu\\nu}=i[\\gamma^{\\mu},\\gamma^{\\nu}]/2 \\text{ com }0\\le\\mu\\le\\nu\\le3 \\right\\}.\n",
    "\\end{align}\n",
    "Abaixo verificamos que essas matrizes são Hermitianas e tem traço nulo, com exceção da primeira que tem traço igual a 4."
   ]
  },
  {
   "cell_type": "code",
   "execution_count": 73,
   "metadata": {},
   "outputs": [],
   "source": [
    "def sig(mu,nu):\n",
    "    return 1j*comm(dirac(mu),dirac(nu))/2"
   ]
  },
  {
   "cell_type": "code",
   "execution_count": 76,
   "metadata": {},
   "outputs": [
    {
     "name": "stdout",
     "output_type": "stream",
     "text": [
      "I4 g0 g1 g2 g3 g4  g4*g0 g4*g1 g4*g2 g4*g3 s01 s02 s03 s12 s13 s23 \n"
     ]
    },
    {
     "data": {
      "image/png": "[encoded data removed]",
      "text/latex": [
       "$$\\left ( \\left[\\begin{matrix}1 & 0 & 0 & 0\\\\0 & 1 & 0 & 0\\\\0 & 0 & 1 & 0\\\\0 & 0 & 0 & 1\\end{matrix}\\right], \\quad \\left[\\begin{matrix}1 & 0 & 0 & 0\\\\0 & 1 & 0 & 0\\\\0 & 0 & -1 & 0\\\\0 & 0 & 0 & -1\\end{matrix}\\right], \\quad \\left[\\begin{matrix}0 & 0 & 0 & -1.0\\\\0 & 0 & -1.0 & 0\\\\0 & 1.0 & 0 & 0\\\\1.0 & 0 & 0 & 0\\end{matrix}\\right], \\quad \\left[\\begin{matrix}0 & 0 & 0 & 1.0 i\\\\0 & 0 & - 1.0 i & 0\\\\0 & - 1.0 i & 0 & 0\\\\1.0 i & 0 & 0 & 0\\end{matrix}\\right], \\quad \\left[\\begin{matrix}0 & 0 & -1.0 & 0\\\\0 & 0 & 0 & 1.0\\\\1.0 & 0 & 0 & 0\\\\0 & -1.0 & 0 & 0\\end{matrix}\\right], \\quad \\left[\\begin{matrix}0 & 0 & -1.0 & 0\\\\0 & 0 & 0 & -1.0\\\\-1.0 & 0 & 0 & 0\\\\0 & -1.0 & 0 & 0\\end{matrix}\\right], \\quad \\left[\\begin{matrix}0 & 0 & 1.0 & 0\\\\0 & 0 & 0 & 1.0\\\\-1.0 & 0 & 0 & 0\\\\0 & -1.0 & 0 & 0\\end{matrix}\\right], \\quad \\left[\\begin{matrix}0 & -1.0 & 0 & 0\\\\-1.0 & 0 & 0 & 0\\\\0 & 0 & 0 & 1.0\\\\0 & 0 & 1.0 & 0\\end{matrix}\\right], \\quad \\left[\\begin{matrix}0 & 1.0 i & 0 & 0\\\\- 1.0 i & 0 & 0 & 0\\\\0 & 0 & 0 & - 1.0 i\\\\0 & 0 & 1.0 i & 0\\end{matrix}\\right], \\quad \\left[\\begin{matrix}-1.0 & 0 & 0 & 0\\\\0 & 1.0 & 0 & 0\\\\0 & 0 & 1.0 & 0\\\\0 & 0 & 0 & -1.0\\end{matrix}\\right], \\quad \\left[\\begin{matrix}0 & 0 & 0 & - 1.0 i\\\\0 & 0 & - 1.0 i & 0\\\\0 & - 1.0 i & 0 & 0\\\\- 1.0 i & 0 & 0 & 0\\end{matrix}\\right], \\quad \\left[\\begin{matrix}0 & 0 & 0 & -1.0\\\\0 & 0 & 1.0 & 0\\\\0 & -1.0 & 0 & 0\\\\1.0 & 0 & 0 & 0\\end{matrix}\\right], \\quad \\left[\\begin{matrix}0 & 0 & - 1.0 i & 0\\\\0 & 0 & 0 & 1.0 i\\\\- 1.0 i & 0 & 0 & 0\\\\0 & 1.0 i & 0 & 0\\end{matrix}\\right], \\quad \\left[\\begin{matrix}1.0 & 0 & 0 & 0\\\\0 & -1.0 & 0 & 0\\\\0 & 0 & 1.0 & 0\\\\0 & 0 & 0 & -1.0\\end{matrix}\\right], \\quad \\left[\\begin{matrix}0 & 1.0 i & 0 & 0\\\\- 1.0 i & 0 & 0 & 0\\\\0 & 0 & 0 & 1.0 i\\\\0 & 0 & - 1.0 i & 0\\end{matrix}\\right], \\quad \\left[\\begin{matrix}0 & 1.0 & 0 & 0\\\\1.0 & 0 & 0 & 0\\\\0 & 0 & 0 & 1.0\\\\0 & 0 & 1.0 & 0\\end{matrix}\\right]\\right )$$"
      ],
      "text/plain": [
       "⎛⎡1  0  0  0⎤  ⎡1  0  0   0 ⎤  ⎡ 0    0    0    -1.0⎤  ⎡  0      0       0    \n",
       "⎜⎢          ⎥  ⎢            ⎥  ⎢                    ⎥  ⎢                      \n",
       "⎜⎢0  1  0  0⎥  ⎢0  1  0   0 ⎥  ⎢ 0    0   -1.0   0  ⎥  ⎢  0      0     -1.0⋅ⅈ \n",
       "⎜⎢          ⎥, ⎢            ⎥, ⎢                    ⎥, ⎢                      \n",
       "⎜⎢0  0  1  0⎥  ⎢0  0  -1  0 ⎥  ⎢ 0   1.0   0     0  ⎥  ⎢  0    -1.0⋅ⅈ    0    \n",
       "⎜⎢          ⎥  ⎢            ⎥  ⎢                    ⎥  ⎢                      \n",
       "⎝⎣0  0  0  1⎦  ⎣0  0  0   -1⎦  ⎣1.0   0    0     0  ⎦  ⎣1.0⋅ⅈ    0       0    \n",
       "\n",
       " 1.0⋅ⅈ⎤  ⎡ 0    0    -1.0   0 ⎤  ⎡ 0     0    -1.0   0  ⎤  ⎡ 0     0    1.0   \n",
       "      ⎥  ⎢                    ⎥  ⎢                      ⎥  ⎢                  \n",
       "   0  ⎥  ⎢ 0    0     0    1.0⎥  ⎢ 0     0     0    -1.0⎥  ⎢ 0     0     0   1\n",
       "      ⎥, ⎢                    ⎥, ⎢                      ⎥, ⎢                  \n",
       "   0  ⎥  ⎢1.0   0     0     0 ⎥  ⎢-1.0   0     0     0  ⎥  ⎢-1.0   0     0    \n",
       "      ⎥  ⎢                    ⎥  ⎢                      ⎥  ⎢                  \n",
       "   0  ⎦  ⎣ 0   -1.0   0     0 ⎦  ⎣ 0    -1.0   0     0  ⎦  ⎣ 0    -1.0   0    \n",
       "\n",
       "0 ⎤  ⎡ 0    -1.0   0    0 ⎤  ⎡  0     1.0⋅ⅈ    0      0   ⎤  ⎡-1.0   0    0   \n",
       "  ⎥  ⎢                    ⎥  ⎢                            ⎥  ⎢                \n",
       ".0⎥  ⎢-1.0   0     0    0 ⎥  ⎢-1.0⋅ⅈ    0      0      0   ⎥  ⎢ 0    1.0   0   \n",
       "  ⎥, ⎢                    ⎥, ⎢                            ⎥, ⎢                \n",
       "0 ⎥  ⎢ 0     0     0   1.0⎥  ⎢  0       0      0    -1.0⋅ⅈ⎥  ⎢ 0     0   1.0  \n",
       "  ⎥  ⎢                    ⎥  ⎢                            ⎥  ⎢                \n",
       "0 ⎦  ⎣ 0     0    1.0   0 ⎦  ⎣  0       0    1.0⋅ⅈ    0   ⎦  ⎣ 0     0    0   \n",
       "\n",
       " 0  ⎤  ⎡  0       0       0     -1.0⋅ⅈ⎤  ⎡ 0    0     0   -1.0⎤  ⎡  0       0 \n",
       "    ⎥  ⎢                              ⎥  ⎢                    ⎥  ⎢            \n",
       " 0  ⎥  ⎢  0       0     -1.0⋅ⅈ    0   ⎥  ⎢ 0    0    1.0   0  ⎥  ⎢  0       0 \n",
       "    ⎥, ⎢                              ⎥, ⎢                    ⎥, ⎢            \n",
       " 0  ⎥  ⎢  0     -1.0⋅ⅈ    0       0   ⎥  ⎢ 0   -1.0   0    0  ⎥  ⎢-1.0⋅ⅈ    0 \n",
       "    ⎥  ⎢                              ⎥  ⎢                    ⎥  ⎢            \n",
       "-1.0⎦  ⎣-1.0⋅ⅈ    0       0       0   ⎦  ⎣1.0   0     0    0  ⎦  ⎣  0     1.0⋅\n",
       "\n",
       "   -1.0⋅ⅈ    0  ⎤  ⎡1.0   0     0    0  ⎤  ⎡  0     1.0⋅ⅈ    0       0  ⎤  ⎡ 0\n",
       "                ⎥  ⎢                    ⎥  ⎢                            ⎥  ⎢  \n",
       "     0     1.0⋅ⅈ⎥  ⎢ 0   -1.0   0    0  ⎥  ⎢-1.0⋅ⅈ    0      0       0  ⎥  ⎢1.\n",
       "                ⎥, ⎢                    ⎥, ⎢                            ⎥, ⎢  \n",
       "     0       0  ⎥  ⎢ 0    0    1.0   0  ⎥  ⎢  0       0      0     1.0⋅ⅈ⎥  ⎢ 0\n",
       "                ⎥  ⎢                    ⎥  ⎢                            ⎥  ⎢  \n",
       "ⅈ    0       0  ⎦  ⎣ 0    0     0   -1.0⎦  ⎣  0       0    -1.0⋅ⅈ    0  ⎦  ⎣ 0\n",
       "\n",
       "   1.0   0    0 ⎤⎞\n",
       "                ⎥⎟\n",
       "0   0    0    0 ⎥⎟\n",
       "                ⎥⎟\n",
       "    0    0   1.0⎥⎟\n",
       "                ⎥⎟\n",
       "    0   1.0   0 ⎦⎠"
      ]
     },
     "execution_count": 76,
     "metadata": {},
     "output_type": "execute_result"
    }
   ],
   "source": [
    "g0 = dirac(0); g1 = dirac(1); g2 = dirac(2); g3 = dirac(3)\n",
    "g4 = 1j*g0*g1*g2*g3;\n",
    "print(\"I4 g0 g1 g2 g3 g4  g4*g0 g4*g1 g4*g2 g4*g3 s01 s02 s03 s12 s13 s23 \")\n",
    "id(4),g0,g1,g2,g3,g4,g4*g0,g4*g1,g4*g2,g4*g3,sig(0,1),sig(0,2),sig(0,3),sig(1,2),sig(1,3),sig(2,3)"
   ]
  },
  {
   "cell_type": "code",
   "execution_count": 77,
   "metadata": {},
   "outputs": [
    {
     "data": {
      "image/png": "[encoded data removed]",
      "text/latex": [
       "$$\\left ( 0, \\quad 0, \\quad 0, \\quad 0, \\quad 0, \\quad 0, \\quad 0, \\quad 0, \\quad 0, \\quad 0, \\quad 0, \\quad 0, \\quad 0, \\quad 0, \\quad 0\\right )$$"
      ],
      "text/plain": [
       "(0, 0, 0, 0, 0, 0, 0, 0, 0, 0, 0, 0, 0, 0, 0)"
      ]
     },
     "execution_count": 77,
     "metadata": {},
     "output_type": "execute_result"
    }
   ],
   "source": [
    "tr(g0),tr(g1),tr(g2),tr(g3),tr(g4),tr(g4*g0),tr(g4*g1),tr(g4*g2),tr(g4*g3),tr(sig(0,1)),tr(sig(0,2)),tr(sig(0,3)),tr(sig(1,2)),tr(sig(1,3)),tr(sig(2,3))"
   ]
  },
  {
   "cell_type": "markdown",
   "metadata": {},
   "source": [
    "## Matrizes de Gell-Mann generalizadas\n",
    "\\begin{align}\n",
    "& \\Gamma_{j}^{d} = \\sqrt{\\frac{2}{j(j+1)}}\\sum_{k=1}^{j+1}(-1)^{\\delta_{k,j+1}}|k\\rangle\\langle k|\\text{, } j=1,\\cdots,d-1, \\\\\n",
    "& \\Gamma_{k,l}^{s} = |k\\rangle\\langle l|+|l\\rangle\\langle k|\\text{, }1\\le k<l\\le d, \\\\\n",
    "& \\Gamma_{k,l}^{a} = -i(|k\\rangle\\langle l|-|l\\rangle\\langle k|)\\text{, }1\\le k<l\\le d.\n",
    "\\end{align}\n",
    "OBS. Os dois últimos grupos de matrizes possuem $d(d-1)/2$ elementos cada. \n",
    "\n",
    "Pode-se verificar que para essas matrizes:\n",
    "\\begin{align}\n",
    "& \\mathrm{Tr}(\\Gamma_{g}) = 0, \\\\\n",
    "& \\Gamma_{g}=\\Gamma_{g}^{\\dagger}, \\\\\n",
    "& \\mathrm{Tr}(\\Gamma_{g}\\Gamma_{g'}) = 2\\delta_{gg'}.\n",
    "\\end{align}\n",
    "\n",
    "Base ortonormal a partir das matrizes de Gell-Mann generalizadas:\n",
    "\\begin{equation}\n",
    "\\left\\{\\frac{\\Gamma_{0}}{\\sqrt{d}},\\frac{\\Gamma_{j}^{d}}{\\sqrt{2}},\\frac{\\Gamma_{k,l}^{s}}{\\sqrt{2}},\\frac{\\Gamma_{k,l}^{a}}{\\sqrt{2}}\\right\\},\n",
    "\\end{equation}\n",
    "com $1\\le j < d-1$ e $1\\le k<l\\le d$."
   ]
  },
  {
   "cell_type": "code",
   "execution_count": 45,
   "metadata": {},
   "outputs": [],
   "source": [
    "def gell_mann(d,g,j,k):\n",
    "    \"Retorna as matrizes de Gell-Mann generalizadas\"\n",
    "    \"d = dimensão, g = 'i', 'd', 's', 'a' refere-se ao subconjunto:\"\n",
    "    \"'i'= identidade, 'd' = diagonal, 's' = simétrico, 'a' = antisimétrico\"\n",
    "    gm = zeros(d,d)\n",
    "    if g == 'i':  # identity\n",
    "        for j in range(0,d):\n",
    "            gm[j,j] = 1\n",
    "    elif g == 'd':  # diagonal\n",
    "        nt = sqrt(2/(j*(j+1)))\n",
    "        for m in range(0,j):\n",
    "            gm[m,m] = nt\n",
    "        gm[j,j] = -j*nt\n",
    "    elif g == 's':  # symmetric\n",
    "        gm[j-1,k-1] = 1;  gm[k-1,j-1] = 1\n",
    "    elif g == 'a':  # anti-symmetric\n",
    "        gm[j-1,k-1] = -1j;  gm[k-1,j-1] = 1j\n",
    "    return gm"
   ]
  },
  {
   "cell_type": "markdown",
   "metadata": {},
   "source": [
    "### Matrizes de Pauli"
   ]
  },
  {
   "cell_type": "code",
   "execution_count": 47,
   "metadata": {},
   "outputs": [
    {
     "data": {
      "image/png": "[encoded data removed]",
      "text/latex": [
       "$$\\left ( \\left[\\begin{matrix}1 & 0\\\\0 & 1\\end{matrix}\\right], \\quad \\left[\\begin{matrix}1.0 & 0\\\\0 & -1.0\\end{matrix}\\right], \\quad \\left[\\begin{matrix}0 & 1\\\\1 & 0\\end{matrix}\\right], \\quad \\left[\\begin{matrix}0 & - 1.0 i\\\\1.0 i & 0\\end{matrix}\\right]\\right )$$"
      ],
      "text/plain": [
       "⎛⎡1  0⎤  ⎡1.0   0  ⎤  ⎡0  1⎤  ⎡  0    -1.0⋅ⅈ⎤⎞\n",
       "⎜⎢    ⎥, ⎢         ⎥, ⎢    ⎥, ⎢             ⎥⎟\n",
       "⎝⎣0  1⎦  ⎣ 0   -1.0⎦  ⎣1  0⎦  ⎣1.0⋅ⅈ    0   ⎦⎠"
      ]
     },
     "execution_count": 47,
     "metadata": {},
     "output_type": "execute_result"
    }
   ],
   "source": [
    "gell_mann(2,'i',1,1), gell_mann(2,'d',1,1), gell_mann(2,'s',1,2), gell_mann(2,'a',1,2)"
   ]
  },
  {
   "cell_type": "markdown",
   "metadata": {},
   "source": [
    "### Matrizes de Gell-Mann"
   ]
  },
  {
   "cell_type": "code",
   "execution_count": 61,
   "metadata": {},
   "outputs": [
    {
     "data": {
      "image/png": "[encoded data removed]",
      "text/latex": [
       "$$\\left ( \\left[\\begin{matrix}1 & 0 & 0\\\\0 & 1 & 0\\\\0 & 0 & 1\\end{matrix}\\right], \\quad \\left[\\begin{matrix}1.0 & 0 & 0\\\\0 & -1.0 & 0\\\\0 & 0 & 0\\end{matrix}\\right], \\quad \\left[\\begin{matrix}0.577350269189626 & 0 & 0\\\\0 & 0.577350269189626 & 0\\\\0 & 0 & -1.15470053837925\\end{matrix}\\right], \\quad \\left[\\begin{matrix}0 & 1 & 0\\\\1 & 0 & 0\\\\0 & 0 & 0\\end{matrix}\\right]\\right )$$"
      ],
      "text/plain": [
       "⎛⎡1  0  0⎤  ⎡1.0   0    0⎤  ⎡0.577350269189626          0                  0  \n",
       "⎜⎢       ⎥  ⎢            ⎥  ⎢                                                 \n",
       "⎜⎢0  1  0⎥, ⎢ 0   -1.0  0⎥, ⎢        0          0.577350269189626          0  \n",
       "⎜⎢       ⎥  ⎢            ⎥  ⎢                                                 \n",
       "⎝⎣0  0  1⎦  ⎣ 0    0    0⎦  ⎣        0                  0          -1.15470053\n",
       "\n",
       "      ⎤  ⎡0  1  0⎤⎞\n",
       "      ⎥  ⎢       ⎥⎟\n",
       "      ⎥, ⎢1  0  0⎥⎟\n",
       "      ⎥  ⎢       ⎥⎟\n",
       "837925⎦  ⎣0  0  0⎦⎠"
      ]
     },
     "execution_count": 61,
     "metadata": {},
     "output_type": "execute_result"
    }
   ],
   "source": [
    "gell_mann(3,'i',1,1), gell_mann(3,'d',1,1), gell_mann(3,'d',2,2),gell_mann(3,'s',1,2)"
   ]
  },
  {
   "cell_type": "code",
   "execution_count": 62,
   "metadata": {},
   "outputs": [
    {
     "data": {
      "image/png": "[encoded data removed]",
      "text/latex": [
       "$$\\left ( \\left[\\begin{matrix}0 & 0 & 1\\\\0 & 0 & 0\\\\1 & 0 & 0\\end{matrix}\\right], \\quad \\left[\\begin{matrix}0 & 0 & 0\\\\0 & 0 & 1\\\\0 & 1 & 0\\end{matrix}\\right], \\quad \\left[\\begin{matrix}0 & - 1.0 i & 0\\\\1.0 i & 0 & 0\\\\0 & 0 & 0\\end{matrix}\\right], \\quad \\left[\\begin{matrix}0 & 0 & - 1.0 i\\\\0 & 0 & 0\\\\1.0 i & 0 & 0\\end{matrix}\\right], \\quad \\left[\\begin{matrix}0 & 0 & 0\\\\0 & 0 & - 1.0 i\\\\0 & 1.0 i & 0\\end{matrix}\\right]\\right )$$"
      ],
      "text/plain": [
       "⎛⎡0  0  1⎤  ⎡0  0  0⎤  ⎡  0    -1.0⋅ⅈ  0⎤  ⎡  0    0  -1.0⋅ⅈ⎤  ⎡0    0      0 \n",
       "⎜⎢       ⎥  ⎢       ⎥  ⎢                ⎥  ⎢                ⎥  ⎢              \n",
       "⎜⎢0  0  0⎥, ⎢0  0  1⎥, ⎢1.0⋅ⅈ    0     0⎥, ⎢  0    0    0   ⎥, ⎢0    0    -1.0\n",
       "⎜⎢       ⎥  ⎢       ⎥  ⎢                ⎥  ⎢                ⎥  ⎢              \n",
       "⎝⎣1  0  0⎦  ⎣0  1  0⎦  ⎣  0      0     0⎦  ⎣1.0⋅ⅈ  0    0   ⎦  ⎣0  1.0⋅ⅈ    0 \n",
       "\n",
       "  ⎤⎞\n",
       "  ⎥⎟\n",
       "⋅ⅈ⎥⎟\n",
       "  ⎥⎟\n",
       "  ⎦⎠"
      ]
     },
     "execution_count": 62,
     "metadata": {},
     "output_type": "execute_result"
    }
   ],
   "source": [
    "gell_mann(3,'s',1,3),gell_mann(3,'s',2,3), gell_mann(3,'a',1,2), gell_mann(3,'a',1,3), gell_mann(3,'a',2,3)"
   ]
  },
  {
   "cell_type": "markdown",
   "metadata": {},
   "source": [
    "### Base alternativa à base de Dirac para $d=4$"
   ]
  },
  {
   "cell_type": "code",
   "execution_count": 64,
   "metadata": {},
   "outputs": [
    {
     "data": {
      "image/png": "[encoded data removed]",
      "text/latex": [
       "$$\\left ( \\left[\\begin{matrix}1 & 0 & 0 & 0\\\\0 & 1 & 0 & 0\\\\0 & 0 & 1 & 0\\\\0 & 0 & 0 & 1\\end{matrix}\\right], \\quad \\left[\\begin{matrix}1.0 & 0 & 0 & 0\\\\0 & -1.0 & 0 & 0\\\\0 & 0 & 0 & 0\\\\0 & 0 & 0 & 0\\end{matrix}\\right], \\quad \\left[\\begin{matrix}0.577350269189626 & 0 & 0 & 0\\\\0 & 0.577350269189626 & 0 & 0\\\\0 & 0 & -1.15470053837925 & 0\\\\0 & 0 & 0 & 0\\end{matrix}\\right], \\quad \\left[\\begin{matrix}0.408248290463863 & 0 & 0 & 0\\\\0 & 0.408248290463863 & 0 & 0\\\\0 & 0 & 0.408248290463863 & 0\\\\0 & 0 & 0 & -1.22474487139159\\end{matrix}\\right]\\right )$$"
      ],
      "text/plain": [
       "⎛⎡1  0  0  0⎤  ⎡1.0   0    0  0⎤  ⎡0.577350269189626          0               \n",
       "⎜⎢          ⎥  ⎢               ⎥  ⎢                                           \n",
       "⎜⎢0  1  0  0⎥  ⎢ 0   -1.0  0  0⎥  ⎢        0          0.577350269189626       \n",
       "⎜⎢          ⎥, ⎢               ⎥, ⎢                                           \n",
       "⎜⎢0  0  1  0⎥  ⎢ 0    0    0  0⎥  ⎢        0                  0          -1.15\n",
       "⎜⎢          ⎥  ⎢               ⎥  ⎢                                           \n",
       "⎝⎣0  0  0  1⎦  ⎣ 0    0    0  0⎦  ⎣        0                  0               \n",
       "\n",
       "   0          0⎤  ⎡0.408248290463863          0                  0            \n",
       "               ⎥  ⎢                                                           \n",
       "   0          0⎥  ⎢        0          0.408248290463863          0            \n",
       "               ⎥, ⎢                                                           \n",
       "470053837925  0⎥  ⎢        0                  0          0.408248290463863    \n",
       "               ⎥  ⎢                                                           \n",
       "   0          0⎦  ⎣        0                  0                  0          -1\n",
       "\n",
       "      0        ⎤⎞\n",
       "               ⎥⎟\n",
       "      0        ⎥⎟\n",
       "               ⎥⎟\n",
       "      0        ⎥⎟\n",
       "               ⎥⎟\n",
       ".22474487139159⎦⎠"
      ]
     },
     "execution_count": 64,
     "metadata": {},
     "output_type": "execute_result"
    }
   ],
   "source": [
    "gell_mann(4,'i',1,1), gell_mann(4,'d',1,1), gell_mann(4,'d',2,2), gell_mann(4,'d',3,3)"
   ]
  },
  {
   "cell_type": "code",
   "execution_count": 66,
   "metadata": {},
   "outputs": [
    {
     "data": {
      "image/png": "[encoded data removed]",
      "text/latex": [
       "$$\\left ( \\left[\\begin{matrix}0 & 1 & 0 & 0\\\\1 & 0 & 0 & 0\\\\0 & 0 & 0 & 0\\\\0 & 0 & 0 & 0\\end{matrix}\\right], \\quad \\left[\\begin{matrix}0 & 0 & 1 & 0\\\\0 & 0 & 0 & 0\\\\1 & 0 & 0 & 0\\\\0 & 0 & 0 & 0\\end{matrix}\\right], \\quad \\left[\\begin{matrix}0 & 0 & 0 & 1\\\\0 & 0 & 0 & 0\\\\0 & 0 & 0 & 0\\\\1 & 0 & 0 & 0\\end{matrix}\\right], \\quad \\left[\\begin{matrix}0 & 0 & 0 & 0\\\\0 & 0 & 1 & 0\\\\0 & 1 & 0 & 0\\\\0 & 0 & 0 & 0\\end{matrix}\\right], \\quad \\left[\\begin{matrix}0 & 0 & 0 & 0\\\\0 & 0 & 0 & 1\\\\0 & 0 & 0 & 0\\\\0 & 1 & 0 & 0\\end{matrix}\\right], \\quad \\left[\\begin{matrix}0 & 0 & 0 & 0\\\\0 & 0 & 0 & 0\\\\0 & 0 & 0 & 1\\\\0 & 0 & 1 & 0\\end{matrix}\\right]\\right )$$"
      ],
      "text/plain": [
       "⎛⎡0  1  0  0⎤  ⎡0  0  1  0⎤  ⎡0  0  0  1⎤  ⎡0  0  0  0⎤  ⎡0  0  0  0⎤  ⎡0  0  \n",
       "⎜⎢          ⎥  ⎢          ⎥  ⎢          ⎥  ⎢          ⎥  ⎢          ⎥  ⎢      \n",
       "⎜⎢1  0  0  0⎥  ⎢0  0  0  0⎥  ⎢0  0  0  0⎥  ⎢0  0  1  0⎥  ⎢0  0  0  1⎥  ⎢0  0  \n",
       "⎜⎢          ⎥, ⎢          ⎥, ⎢          ⎥, ⎢          ⎥, ⎢          ⎥, ⎢      \n",
       "⎜⎢0  0  0  0⎥  ⎢1  0  0  0⎥  ⎢0  0  0  0⎥  ⎢0  1  0  0⎥  ⎢0  0  0  0⎥  ⎢0  0  \n",
       "⎜⎢          ⎥  ⎢          ⎥  ⎢          ⎥  ⎢          ⎥  ⎢          ⎥  ⎢      \n",
       "⎝⎣0  0  0  0⎦  ⎣0  0  0  0⎦  ⎣1  0  0  0⎦  ⎣0  0  0  0⎦  ⎣0  1  0  0⎦  ⎣0  0  \n",
       "\n",
       "0  0⎤⎞\n",
       "    ⎥⎟\n",
       "0  0⎥⎟\n",
       "    ⎥⎟\n",
       "0  1⎥⎟\n",
       "    ⎥⎟\n",
       "1  0⎦⎠"
      ]
     },
     "execution_count": 66,
     "metadata": {},
     "output_type": "execute_result"
    }
   ],
   "source": [
    "gell_mann(4,'s',1,2),gell_mann(4,'s',1,3),gell_mann(4,'s',1,4),gell_mann(4,'s',2,3),gell_mann(4,'s',2,4),gell_mann(4,'s',3,4)"
   ]
  },
  {
   "cell_type": "code",
   "execution_count": 67,
   "metadata": {},
   "outputs": [
    {
     "data": {
      "image/png": "[encoded data removed]",
      "text/latex": [
       "$$\\left ( \\left[\\begin{matrix}0 & - 1.0 i & 0 & 0\\\\1.0 i & 0 & 0 & 0\\\\0 & 0 & 0 & 0\\\\0 & 0 & 0 & 0\\end{matrix}\\right], \\quad \\left[\\begin{matrix}0 & 0 & - 1.0 i & 0\\\\0 & 0 & 0 & 0\\\\1.0 i & 0 & 0 & 0\\\\0 & 0 & 0 & 0\\end{matrix}\\right], \\quad \\left[\\begin{matrix}0 & 0 & 0 & - 1.0 i\\\\0 & 0 & 0 & 0\\\\0 & 0 & 0 & 0\\\\1.0 i & 0 & 0 & 0\\end{matrix}\\right], \\quad \\left[\\begin{matrix}0 & 0 & 0 & 0\\\\0 & 0 & - 1.0 i & 0\\\\0 & 1.0 i & 0 & 0\\\\0 & 0 & 0 & 0\\end{matrix}\\right], \\quad \\left[\\begin{matrix}0 & 0 & 0 & 0\\\\0 & 0 & 0 & - 1.0 i\\\\0 & 0 & 0 & 0\\\\0 & 1.0 i & 0 & 0\\end{matrix}\\right], \\quad \\left[\\begin{matrix}0 & 0 & 0 & 0\\\\0 & 0 & 0 & 0\\\\0 & 0 & 0 & - 1.0 i\\\\0 & 0 & 1.0 i & 0\\end{matrix}\\right]\\right )$$"
      ],
      "text/plain": [
       "⎛⎡  0    -1.0⋅ⅈ  0  0⎤  ⎡  0    0  -1.0⋅ⅈ  0⎤  ⎡  0    0  0  -1.0⋅ⅈ⎤  ⎡0    0 \n",
       "⎜⎢                   ⎥  ⎢                   ⎥  ⎢                   ⎥  ⎢       \n",
       "⎜⎢1.0⋅ⅈ    0     0  0⎥  ⎢  0    0    0     0⎥  ⎢  0    0  0    0   ⎥  ⎢0    0 \n",
       "⎜⎢                   ⎥, ⎢                   ⎥, ⎢                   ⎥, ⎢       \n",
       "⎜⎢  0      0     0  0⎥  ⎢1.0⋅ⅈ  0    0     0⎥  ⎢  0    0  0    0   ⎥  ⎢0  1.0⋅\n",
       "⎜⎢                   ⎥  ⎢                   ⎥  ⎢                   ⎥  ⎢       \n",
       "⎝⎣  0      0     0  0⎦  ⎣  0    0    0     0⎦  ⎣1.0⋅ⅈ  0  0    0   ⎦  ⎣0    0 \n",
       "\n",
       "     0     0⎤  ⎡0    0    0    0   ⎤  ⎡0  0    0      0   ⎤⎞\n",
       "            ⎥  ⎢                   ⎥  ⎢                   ⎥⎟\n",
       "   -1.0⋅ⅈ  0⎥  ⎢0    0    0  -1.0⋅ⅈ⎥  ⎢0  0    0      0   ⎥⎟\n",
       "            ⎥, ⎢                   ⎥, ⎢                   ⎥⎟\n",
       "ⅈ    0     0⎥  ⎢0    0    0    0   ⎥  ⎢0  0    0    -1.0⋅ⅈ⎥⎟\n",
       "            ⎥  ⎢                   ⎥  ⎢                   ⎥⎟\n",
       "     0     0⎦  ⎣0  1.0⋅ⅈ  0    0   ⎦  ⎣0  0  1.0⋅ⅈ    0   ⎦⎠"
      ]
     },
     "execution_count": 67,
     "metadata": {},
     "output_type": "execute_result"
    }
   ],
   "source": [
    "gell_mann(4,'a',1,2),gell_mann(4,'a',1,3),gell_mann(4,'a',1,4),gell_mann(4,'a',2,3),gell_mann(4,'a',2,4),gell_mann(4,'a',3,4)"
   ]
  },
  {
   "cell_type": "code",
   "execution_count": null,
   "metadata": {},
   "outputs": [],
   "source": []
  }
 ],
 "metadata": {
  "kernelspec": {
   "display_name": "Python 3",
   "language": "python",
   "name": "python3"
  },
  "language_info": {
   "codemirror_mode": {
    "name": "ipython",
    "version": 3
   },
   "file_extension": ".py",
   "mimetype": "text/x-python",
   "name": "python",
   "nbconvert_exporter": "python",
   "pygments_lexer": "ipython3",
   "version": "3.6.4"
  }
 },
 "nbformat": 4,
 "nbformat_minor": 2
}
