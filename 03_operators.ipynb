{
 "cells": [
  {
   "cell_type": "markdown",
   "metadata": {},
   "source": [
    "## Notas de aula: Álgebra Linear, Autor: Jonas Maziero, Departamento de Física, UFSM"
   ]
  },
  {
   "cell_type": "code",
   "execution_count": 47,
   "metadata": {},
   "outputs": [],
   "source": [
    "%run /Users/jonasmaziero/Dropbox/GitHub/algebra_linear/init.ipynb"
   ]
  },
  {
   "cell_type": "markdown",
   "metadata": {},
   "source": [
    "# Operadores lineares"
   ]
  },
  {
   "cell_type": "markdown",
   "metadata": {},
   "source": [
    "Um _operador linear_ é qualquer função $A:V\\rightarrow W$ (leva vetores do espaço vetorial $V$ para o espaço vetorial $W$) que é linear no seu domínio. Ou seja, para $c_{j}\\in\\mathbb{F}$ e $|v_{j}\\rangle\\in V$ devemos ter\n",
    "\\begin{equation}\n",
    "A(\\sum_{j}c_{j}|v_{j}\\rangle) = \\sum_{j}c_{j}A(|v_{j}\\rangle).\n",
    "\\end{equation}\n",
    "Além disso, exigiremos que se $A,B:V\\rightarrow W$ são operadores lineares, então $\\forall|v\\rangle\\in V$ e $\\alpha,\\beta\\in\\mathbb{F}$ devemos ter\n",
    "\\begin{equation}\n",
    "(\\alpha A+\\beta B)(|v\\rangle) = \\alpha A(|v\\rangle)+\\beta B(|v\\rangle).\n",
    "\\end{equation}\n",
    "\n",
    "_OBS:_ Quando $A:V\\rightarrow V$ dizemos que $A$ está definido em $V$. <br>\n",
    "_OBS:_ Dois operadores lineares particularmente importantes são o operdor identidade, definido por\n",
    "\\begin{equation}\n",
    "\\mathbb{I}_{V}|v\\rangle=|v\\rangle\\text{, }\\forall |v\\rangle\\in V,\n",
    "\\end{equation}\n",
    "e o operador nulo, definido por\n",
    "\\begin{equation}\n",
    "\\mathbb{O}_{V}|v\\rangle=|\\oslash\\rangle\\text{, }\\forall |v\\rangle\\in V.\n",
    "\\end{equation}\n",
    "\n",
    "__OBS:__ Como qualquer vetor $|v\\rangle\\in V$ pode ser escrito como uma combinação linear dos vetores de uma certa base $\\{|w_{j}\\rangle\\}_{j=1}^{\\dim V}$, i.e., $|v\\rangle=\\sum_{j}c_{j}|w_{j}\\rangle$ com $c_{j}\\in\\mathbb{F}$, se sabemos como um certo operador linear atua em uma base qualquer de $V$, sabemos como ele atua em todos os vetores de $V$ pois\n",
    "\\begin{equation}\n",
    "A(|v\\rangle) = A\\left(\\sum_{j}c_{j}|w_{j}\\rangle\\right)=\\sum_{j}c_{j}A(|w_{j}\\rangle). \n",
    "\\end{equation}"
   ]
  },
  {
   "cell_type": "markdown",
   "metadata": {},
   "source": [
    "### Matrizes são operadores lineares\n",
    "Considere matrizes retangulares $A\\in\\mathbb{C}^{m\\text{x}n}$. Não é difícil ver que para $|v\\rangle\\in\\mathbb{C}^{n}$ e $|v'\\rangle\\in\\mathbb{C}^{m}$ teremos\n",
    "\\begin{align}\n",
    "& \\begin{bmatrix} |v'\\rangle_{1} \\\\ |v'\\rangle_{2} \\\\ \\vdots \\\\ |v'\\rangle_{m} \\end{bmatrix} = \\begin{bmatrix} A_{1,1} & A_{1,2} & \\cdots & A_{1,n} \\\\ A_{2,1} & A_{2,2} & \\cdots & A_{2,n} \\\\ \\vdots & \\vdots & \\vdots & \\vdots \\\\ A_{m,1} & A_{m,2} & \\cdots & A_{m,n} \\end{bmatrix} \\begin{bmatrix} |v\\rangle_{1} \\\\ |v\\rangle_{2} \\\\ \\vdots \\\\ |v\\rangle_{n} \\end{bmatrix} \\Rightarrow |v'\\rangle_{j} = \\sum_{k=1}^{n}A_{j,k}|v\\rangle_{k}\\text{ para }j=1,\\cdots,m \\\\\n",
    "& \\text{ou, equivalentemente, } |v'\\rangle=A|v\\rangle.\n",
    "\\end{align}\n",
    "Ou seja, $A:\\mathbb{C}^{n}\\rightarrow\\mathbb{C}^{m}$. Para verificar linearidade consideremos $|w\\rangle,|w_{j}\\rangle\\in\\mathbb{C}^{n}$, $c_{j}\\in\\mathbb{C}$ e $|w\\rangle=\\sum_{j}c_{j}|w_{j}\\rangle$ e olhemos para\n",
    "\\begin{equation}\n",
    "\\left(A\\sum_{j}c_{j}|w_{j}\\rangle\\right)_{k} = (A|w\\rangle)_{k} = \\sum_{l}A_{k,l}|w\\rangle_{l} = \\sum_{l}A_{k,l}\\sum_{j}c_{j}|w_{j}\\rangle_{l} = \\sum_{j}c_{j}\\sum_{l}A_{k,l}|w_{j}\\rangle_{l} = \\sum_{j}c_{j}(A|w_{j}\\rangle)_{k},\n",
    "\\end{equation}\n",
    "o que implica que $A\\left(\\sum_{j}c_{j}|w_{j}\\rangle\\right)=\\sum_{j}c_{j}A(|w_{j}\\rangle)$ e portanto que matrizes são operadores lineares. \n",
    "\n",
    "Ademais, como $(\\alpha A+\\beta B)_{j,k}=\\alpha A_{j,k}+\\beta B_{j,k}$, teremos que\n",
    "\\begin{align}\n",
    "((\\alpha A+\\beta B)(|v\\rangle))_{j} &= \\sum_{k}(\\alpha A+\\beta B)_{j,k}|v\\rangle_{k} = \\sum_{k}(\\alpha A_{j,k}+\\beta B_{j,k})|v\\rangle_{k} = \\alpha\\sum_{k}A_{j,k}|v\\rangle_{k} + \\beta\\sum_{k}B_{j,k}|v\\rangle_{k} \\\\ \n",
    "& = \\alpha(A|v\\rangle)_{j}+ \\beta(B|v\\rangle)_{j}\n",
    "\\end{align}\n",
    "e portanto $(\\alpha A+\\beta B)(|v\\rangle)= \\alpha A(|v\\rangle) + \\beta B(|v\\rangle)$.\n",
    "\n",
    "\n",
    "Os operadores identidade e nulo são identificados, respectivamente, com\n",
    "\\begin{equation}\n",
    "\\mathbb{I}=\\begin{bmatrix} 1 & 0 & \\cdots & 0 \\\\ 0 & 1 & \\cdots & 0 \\\\ \\vdots & \\vdots & \\vdots & \\vdots \\\\ 0 & 0 & \\cdots & 1 \\end{bmatrix} \\text{ e } \\mathbb{0}=\\begin{bmatrix} 0 & 0 & \\cdots & 0 \\\\ 0 & 0 & \\cdots & 0 \\\\ \\vdots & \\vdots & \\vdots & \\vdots \\\\ 0 & 0 & \\cdots & 0 \\end{bmatrix}.\n",
    "\\end{equation}"
   ]
  },
  {
   "cell_type": "markdown",
   "metadata": {},
   "source": [
    "### Representação matricial de operadores lineares\n",
    "Consideremos $A:V\\rightarrow W$ e duas bases $\\{|v_{j}\\rangle\\}_{j=1}^{\\dim V}$ de $V$ e $\\{|w_{k}\\rangle\\}_{k=1}^{\\dim W}$ de $W$. Sabemos que $A$ atuando em um vetor de $V$ retorna um vetor de $W$, i.e., $A(|v_{j}\\rangle)\\in W$, que por sua vez pode ser escrito como uma combinação linear dos vetores de qualquer uma das bases de $W$. Então podemos escrever\n",
    "\\begin{equation}\n",
    "A(|v_{j}\\rangle) = \\sum_{k=1}^{\\dim W}A_{k,j}|w_{k}\\rangle, \\text{ para } j=1,\\cdots,\\dim V,\n",
    "\\end{equation}\n",
    "onde os coeficientes da combinação linear, $A_{k,j}\\in\\mathbb{F}$, fornecem a representação matricial de $A$:\n",
    "\\begin{equation}\n",
    "A \\doteq \\begin{bmatrix} A_{1,1} & A_{1,2} & \\cdots & A_{1,\\dim V} \\\\ \n",
    "A_{2,1} & A_{2,2} & \\cdots & A_{2,\\dim V} \\\\ \n",
    "\\vdots & \\vdots & \\vdots & \\vdots \n",
    "\\\\ A_{\\dim W,1} & A_{\\dim W,2} & \\cdots & A_{\\dim W,\\dim V} \\end{bmatrix}.\n",
    "\\end{equation}\n",
    " \n",
    "_OBS:_ Note que fizemos o mesmo para vetores. Ou seja, se na base $\\{|w_{k}\\rangle\\}_{k=1}^{\\dim W}$ o vetor $|w\\rangle\\in W$ é escrito como $|w\\rangle=\\sum_{j=1}^{\\dim W}c_{j}|w_{j}\\rangle$ dizemos que os coeficientes $c_{j}\\in\\mathbb{F}$ fornecem a representação matricial de $|w\\rangle$ naquela base:\n",
    "\\begin{equation}\n",
    "|w\\rangle \\doteq \\begin{bmatrix} c_{1} \\\\ c_{2} \\\\ \\vdots \\\\ c_{\\dim W} \\end{bmatrix}.\n",
    "\\end{equation}\n",
    "\n",
    "#### Exemplo\n",
    "Considere a base $\\{|e_{1}\\rangle,|e_{2}\\rangle\\}$ e $A:V\\rightarrow V$ que atua como segue:\n",
    "\\begin{equation}\n",
    "A(|e_{1}\\rangle):=|e_{2}\\rangle \\text{ e } A(|e_{2}\\rangle):=|e_{1}\\rangle.\n",
    "\\end{equation}\n",
    "Teremos assim que\n",
    "\\begin{equation}\n",
    "A(|e_{1}\\rangle)=\\sum_{k=1}^{2}A_{k,1}|e_{k}\\rangle = A_{1,1}|e_{1}\\rangle+ A_{2,1}|e_{2}\\rangle \\text{ e } A(|e_{2}\\rangle)=\\sum_{k=1}^{2}A_{k,2}|e_{k}\\rangle = A_{1,2}|e_{1}\\rangle+ A_{2,2}|e_{k}\\rangle.\n",
    "\\end{equation}\n",
    "Então, comparando a definição com estas últimas relações teremos \n",
    "\\begin{equation}\n",
    "A \\doteq \\begin{bmatrix} A_{1,1} & A_{1,2} \\\\ A_{2,1} & A_{2,2} \\end{bmatrix} = \\begin{bmatrix} 0 & 1 \\\\ 1 & 0 \\end{bmatrix}.\n",
    "\\end{equation}\n",
    "\n",
    "__Exercício:__ Considere a base $\\{|e_{1}\\rangle,|e_{2}\\rangle\\}$ e $B:V\\rightarrow V$ que atua como segue: $B(|e_{1}\\rangle)=(|e_{1}\\rangle+|e_{2}\\rangle)/\\sqrt{2}$ e $B(|e_{2}\\rangle)=(|e_{1}\\rangle-|e_{2}\\rangle)/\\sqrt{2}$. Forneça a representação matricial de $B$ nesse caso.\n",
    "\n",
    "__Exercício:__ Forneça a representação matricial dos vetores da base $\\{|e_{1}\\rangle,|e_{2}\\rangle\\}$ na base base $\\{|e_{1}\\rangle,|e_{2}\\rangle\\}$."
   ]
  },
  {
   "cell_type": "markdown",
   "metadata": {},
   "source": [
    "### Composição de operadores lineares\n",
    "Consideremos operadores lineares $A:V\\rightarrow W$ e $B:W\\rightarrow X$ e as seguintes bases para estes espaços vetoriais:  $\\{|v_{j}\\rangle\\}_{j=1}^{\\dim V}\\in V$,  $\\{|w_{j}\\rangle\\}_{j=1}^{\\dim W}\\in W$ e  $\\{|x_{j}\\rangle\\}_{j=1}^{\\dim X}\\in X$. Quando atuamos primeiro $A$ e depois $B$ (notação: $B\\circ A$) veremos que isso é equivalente a aplicar um único operador linear $C:V\\rightarrow X$, cuja representação matricial pode ser obtida daquelas de $A$ e  de $B$. Explicitando, para $j=1,\\cdots,\\dim V$ temos\n",
    "\\begin{equation}\n",
    "A(|v_{j}\\rangle) = \\sum_{k=1}^{\\dim W} A_{k,j}|w_{k}\\rangle.\n",
    "\\end{equation}\n",
    "Seguindo,\n",
    "\\begin{align}\n",
    "(B\\circ A)(|v_{j}\\rangle) & \\equiv B(A(|v_{j}\\rangle)) = B(\\sum_{k=1}^{\\dim W} A_{k,j}|w_{k}\\rangle) = \\sum_{k=1}^{\\dim W} A_{k,j}B(|w_{k}\\rangle) = \\sum_{k=1}^{\\dim W} A_{k,j}\\sum_{l=1}^{\\dim X}B_{l,k}|x_{l}\\rangle \\\\\n",
    "& = \\sum_{l=1}^{\\dim X}\\left(\\sum_{k=1}^{\\dim W} B_{l,k}A_{k,j}\\right)|x_{l}\\rangle =: \\sum_{l=1}^{\\dim X}C_{l,j}|x_{l}\\rangle =: C(|v_{j}\\rangle).\n",
    "\\end{align}\n",
    "\n",
    "__Exercício:__ Forneça a representação matricial para $C=B\\circ A$, com $A$ e $B$ sendo os operadores definidos no último exemplo e exercício, respectivamente."
   ]
  },
  {
   "cell_type": "markdown",
   "metadata": {},
   "source": [
    "## Autovalores e autovetores\n",
    "Se a ação de um operador linear $A:V\\rightarrow V$ não muda a \"direção\" de um vetor $|a\\rangle\\in V$, i.e., se \n",
    "\\begin{equation}\n",
    "A|a\\rangle\\propto |a\\rangle =: \\alpha_{a}|a\\rangle,\n",
    "\\end{equation}\n",
    "dizemos que $|a\\rangle$ é um autovetor de $A$ e $\\alpha_{a}$ é o autovalor $A$ correpondente ao autovetor $|a\\rangle$. Note que $\\alpha_{a}$ nos indica quanto o tamanho do autovetor muda e se esse muda ou não de sentido sob a ação de $A$.\n",
    "\n",
    "__Exercício:__ Verifique que $||\\alpha_{a}*|a\\rangle||=|\\alpha_{a}|*||a||$.\n",
    "\n",
    "#### Exemplo\n",
    "Considere o operador definido por $A(|e_{1}\\rangle)=|e_{2}\\rangle \\text{ e } A(|e_{2}\\rangle)=|e_{1}\\rangle$. Notamos que para $|a_{\\pm}\\rangle=|e_{1}\\rangle\\pm|e_{2}\\rangle$ teremos\n",
    "\\begin{equation}\n",
    "A|a_{\\pm}\\rangle = A(|e_{1}\\rangle\\pm|e_{2}\\rangle) = A|e_{1}\\rangle\\pm A|e_{2}\\rangle = |e_{2}\\rangle\\pm |e_{1}\\rangle = \\pm(|e_{1}\\rangle \\pm |e_{2}\\rangle) = (\\pm1)|a_{\\pm}\\rangle = \\alpha_{\\pm}|a_{\\pm}\\rangle.\n",
    "\\end{equation}\n",
    "\n",
    "### Equação característica\n",
    "Vamos reescrever a equação de autovalores e autovetores acima da seguinte forma:\n",
    "\\begin{equation}\n",
    "A|a\\rangle=\\alpha_{a}\\mathbb{I}|a\\rangle \\hspace{0.3cm} \\therefore(A-\\alpha_{a}\\mathbb{I})|a\\rangle=|\\oslash\\rangle.\n",
    "\\end{equation}\n",
    "Note que se $A-\\alpha_{a}\\mathbb{I}$ possuir inversa, então $|a\\rangle=|\\oslash\\rangle$. Para ter uma _solução não trivial_ devemos ter a chamada equação secular ou equação característica:\n",
    "\\begin{equation}\n",
    "\\det(A-\\alpha_{a}\\mathbb{I})=\\det\\begin{bmatrix} A_{1,1}-\\alpha_{a} & A_{1,2} & \\cdots & A_{1,\\dim V} \\\\ \n",
    "A_{2,1} & A_{2,2}-\\alpha_{a} & \\cdots & A_{2,\\dim V} \\\\ \n",
    "\\vdots & \\vdots & \\vdots & \\vdots \n",
    "\\\\ A_{\\dim V,1} & A_{\\dim V,2} & \\cdots & A_{\\dim V,\\dim V}-\\alpha_{a} \\end{bmatrix}=0.\n",
    "\\end{equation}\n",
    "Para um espaço vetorial de dimenção $n$, essa equação resulta em um polinômio de ordem $n$, \n",
    "\\begin{equation}\n",
    "c_{n}\\alpha_{a}^{n}+c_{n-1}\\alpha_{a}^{n-1}+\\cdots+c_{2}\\alpha_{a}^{2}+c_{1}\\alpha_{a}+c_{0}=0,\n",
    "\\end{equation}\n",
    "que possui $n$ raízes complexas, que são os autovalores de $A$."
   ]
  },
  {
   "cell_type": "code",
   "execution_count": 15,
   "metadata": {},
   "outputs": [
    {
     "data": {
      "image/png": "[encoded data removed]",
      "text/latex": [
       "$$\\left [ \\left ( -1.0, \\quad 1, \\quad \\left [ \\left[\\begin{matrix}1.0 i\\\\1.0\\end{matrix}\\right]\\right ]\\right ), \\quad \\left ( 1.0, \\quad 1, \\quad \\left [ \\left[\\begin{matrix}- 1.0 i\\\\1.0\\end{matrix}\\right]\\right ]\\right )\\right ]$$"
      ],
      "text/plain": [
       "⎡⎛         ⎡⎡1.0⋅ⅈ⎤⎤⎞  ⎛        ⎡⎡-1.0⋅ⅈ⎤⎤⎞⎤\n",
       "⎢⎜-1.0, 1, ⎢⎢     ⎥⎥⎟, ⎜1.0, 1, ⎢⎢      ⎥⎥⎟⎥\n",
       "⎣⎝         ⎣⎣ 1.0 ⎦⎦⎠  ⎝        ⎣⎣ 1.0  ⎦⎦⎠⎦"
      ]
     },
     "execution_count": 15,
     "metadata": {},
     "output_type": "execute_result"
    }
   ],
   "source": [
    "a,b,c,d = symbols(\"a b c d\")\n",
    "#A = Matrix([[a,b],[c,d]])\n",
    "A = Matrix([[0,-1j],[1j,0]])\n",
    "#A\n",
    "A.eigenvects()\n",
    "# Na lista abaixo aparecem (autovalor, multiplicidade, autovetor)"
   ]
  },
  {
   "cell_type": "markdown",
   "metadata": {},
   "source": [
    "__Exemplo:__ Vamos calcular os autovalores e autovetores da matriz $\\sigma_{y}=\\begin{bmatrix}0&1\\\\1&0\\end{bmatrix}$. Para os autovalores:\n",
    "\\begin{equation}\n",
    "\\det(\\sigma_{y}-\\alpha_{a}\\mathbb{I}_{2}) = \\det\\begin{bmatrix}-\\alpha_{a}&1\\\\1&-\\alpha_{a}\\end{bmatrix}=\\alpha_{a}^{2}-1=0\\Rightarrow \\alpha_{a}=\\pm 1.\n",
    "\\end{equation}\n",
    "Para os autovetores, se $\\alpha_{a}=1$ teremos\n",
    "\\begin{equation}\n",
    "\\begin{bmatrix}0&1\\\\1&0\\end{bmatrix}\\begin{bmatrix}x\\\\y\\end{bmatrix}=(1)\\begin{bmatrix}x\\\\y\\end{bmatrix}\\Rightarrow y=x=1\\Rightarrow |\\alpha_{a}=1\\rangle = \\begin{bmatrix}1\\\\1\\end{bmatrix}.\n",
    "\\end{equation}\n",
    "Para $\\alpha_{a}=-1$ teremos\n",
    "\\begin{equation}\n",
    "\\begin{bmatrix}0&1\\\\1&0\\end{bmatrix}\\begin{bmatrix}x\\\\y\\end{bmatrix}=(-1)\\begin{bmatrix}x\\\\y\\end{bmatrix}\\Rightarrow y=-x=1\\Rightarrow |\\alpha_{a}=1\\rangle = \\begin{bmatrix}1\\\\-1\\end{bmatrix}.\n",
    "\\end{equation}\n",
    "__Exercício:__ Calcule os autovalores e autovetores da matriz $\\begin{bmatrix}1 & 1 \\\\ 1 & -1 \\end{bmatrix}$."
   ]
  },
  {
   "cell_type": "markdown",
   "metadata": {},
   "source": [
    "### Adjunto de um operador linear\n",
    "Seja $V$ um espaço de Hilbert. Então, por definição, para qualquer operador linear $A:V\\rightarrow V$ existe o operador adjunto a $A$, denotado por $A^{\\dagger}:V\\rightarrow V$, tal que\n",
    "\\begin{equation}\n",
    "(|v\\rangle,A|w\\rangle) = (A^{\\dagger}|v\\rangle,|w\\rangle)\\text{, }\\forall|v\\rangle,|w\\rangle\\in V.\n",
    "\\end{equation}\n",
    "Por conveniência, aqui usamos $(|a\\rangle,|b\\rangle)$ para o produto interno de $|a\\rangle$ e $|b\\rangle$.\n",
    "\n",
    "Vamos verificar que a representação matricial de $A^{\\dagger}$ é dada pela transposta conjugada da representação matricial de $A$. Para isso vamos considerar uma base ortonormal  $\\{|b_{j}\\rangle\\}_{j=1}^{\\dim V}\\in V$ e escrever $|v\\rangle = \\sum_{j=1}^{\\dim V}v_{j}|b_{j}\\rangle$ e $|w\\rangle = \\sum_{j=1}^{\\dim V}w_{j}|b_{j}\\rangle$. Assim\n",
    "\\begin{align}\n",
    "(|v\\rangle,A|w\\rangle) & = (\\sum_{j=1}^{\\dim V}v_{j}|b_{j}\\rangle,A\\sum_{k=1}^{\\dim V}w_{k}|b_{k}\\rangle) = (\\sum_{j=1}^{\\dim V}v_{j}|b_{j}\\rangle,\\sum_{k=1}^{\\dim V}w_{k}A|b_{k}\\rangle) \\\\ \n",
    "& = \\sum_{j,k=1}^{\\dim V}v^{*}_{j}w_{k}(|b_{j}\\rangle,\\sum_{l=1}^{\\dim V}A_{l,k}|b_{l}\\rangle) = \\sum_{j,k,l=1}^{\\dim V}v^{*}_{j}w_{k}A_{l,k}(|b_{j}\\rangle,|b_{l}\\rangle) = \\sum_{j,k,l=1}^{\\dim V}v^{*}_{j}w_{k}A_{l,k}\\delta_{j,l} \\\\ \n",
    "& = \\sum_{j,k=1}^{\\dim V}v^{*}_{j}w_{k}A_{j,k}\n",
    "\\end{align}\n",
    "e\n",
    "\\begin{align}\n",
    "(A^{\\dagger}|v\\rangle,|w\\rangle) & = (A^{\\dagger}\\sum_{j=1}^{\\dim V}v_{j}|b_{j}\\rangle,\\sum_{k=1}^{\\dim V}w_{k}|b_{k}\\rangle) = (\\sum_{j=1}^{\\dim V}v_{j}A^{\\dagger}|b_{j}\\rangle,\\sum_{k=1}^{\\dim V}w_{k}|b_{k}\\rangle) \\\\ \n",
    "& = \\sum_{j,k=1}^{\\dim V}v^{*}_{j}w_{k}(\\sum_{l=1}^{\\dim V}(A^{\\dagger})_{l,j}|b_{l}\\rangle,|b_{k}\\rangle)  = \\sum_{j,k,l=1}^{\\dim V}v^{*}_{j}w_{k}(A^{\\dagger}_{l,j})^{*}(|b_{l}\\rangle,|b_{k}\\rangle) = \\sum_{j,k,l=1}^{\\dim V}v^{*}_{j}w_{k}(A^{\\dagger}_{l,j})^{*}\\delta_{l,k} \\\\ \n",
    "& = \\sum_{j,k=1}^{\\dim V}v^{*}_{j}w_{k}(A^{\\dagger}_{k,j})^{*}.\n",
    "\\end{align}\n",
    "Ou seja,\n",
    "\\begin{equation}\n",
    "(|v\\rangle,A|w\\rangle) = (A^{\\dagger}|v\\rangle,|w\\rangle)\\Rightarrow (A^{\\dagger})_{j,k} = A_{k,j}^{*}\n",
    "\\end{equation}\n",
    "para a representação matricial desses operadores em uma base ortonormal."
   ]
  },
  {
   "cell_type": "markdown",
   "metadata": {},
   "source": [
    "__Exercício:__ Verique que $(A^{\\dagger})^{\\dagger}=A$.\n",
    "\n",
    "__Exercício:__ Verifique que se $c$ é um escalar então $(c A)^{\\dagger}=c^{*}A^{\\dagger}$.\n",
    "\n",
    "__Exercício:__ Verifique que para $A,B:\\mathcal{H}\\rightarrow\\mathcal{H}$, temos $(A\\circ B)^{\\dagger} = B^{\\dagger}\\circ A^{\\dagger}$."
   ]
  },
  {
   "cell_type": "markdown",
   "metadata": {},
   "source": [
    "## Projetores\n",
    "Seja $\\{|w_{j}\\rangle\\}_{j=1}^{\\dim W}$ uma base ortonormal de $W$. O _projetor no subespaço $W$_ é um operador $P_{W}:V\\rightarrow W$ definido por\n",
    "\\begin{equation}\n",
    "P_{W}(|v\\rangle) := \\sum_{j=1}^{\\dim W}\\langle w_{j}|v\\rangle|w_{j}\\rangle,\n",
    "\\end{equation}\n",
    "com $|v\\rangle\\in V$.\n",
    "\n",
    "__Exemplo:__ Para $\\mathbb{C}^{n}$ temos $\\langle v|w\\rangle = |v\\rangle^{\\dagger}|w\\rangle$. Nesse caso usamos\n",
    "\\begin{equation}\n",
    "|v\\rangle^{\\dagger} = \\langle v|\n",
    "\\end{equation}\n",
    "para qualquer vetor. Assim, teremos $P_{W}(|v\\rangle) = \\sum_{j=1}^{\\dim W}|w_{j}\\rangle|w_{j}\\rangle^{\\dagger}|v\\rangle = (\\sum_{j=1}^{\\dim W}|w_{j}\\rangle\\langle w_{j}|)|v\\rangle$. Por conseguinte, para este espaço vetorial, teremos\n",
    "\\begin{equation}\n",
    "P_{W} = \\sum_{j=1}^{\\dim W}|w_{j}\\rangle\\langle w_{j}|.\n",
    "\\end{equation}\n",
    "\n",
    "__Exercício:__ Escreva explicitamento a expressão acima para um projetor em um subespaço do espaço de Hilbert $\\mathcal{H}=\\left(\\mathbb{C}^{n\\mathrm{x}n},\\langle A|B\\rangle_{hs}=Tr(A^{\\dagger}B)\\right)$."
   ]
  },
  {
   "cell_type": "markdown",
   "metadata": {},
   "source": [
    "_OBS:_ $P_{W}$ atua como $\\mathbb{I}_{W}$ nos vetores de $W$. <br>\n",
    "Consideremos um vetor qualquer $|w\\rangle\\in W$ decomposto na base ortonormal  $\\{|w_{j}\\rangle\\}_{j=1}^{\\dim W}$ como (veja as notas sobre vetores): $|w\\rangle=\\sum_{j=1}^{\\dim W}\\langle w_{j}|w\\rangle|w_{j}\\rangle$. É facil ver assim que\n",
    "\\begin{equation}\n",
    "P_{W}(|w\\rangle) := \\sum_{j=1}^{\\dim W}\\langle w_{j}|v\\rangle|w_{j}\\rangle = |w\\rangle = \\mathbb{I}_{W}(|w\\rangle).\n",
    "\\end{equation}\n",
    "Sempre que $P_{W}= \\mathbb{I}_{W}$ dizemos que a base usada para definir o projetor é uma _base completa_."
   ]
  },
  {
   "cell_type": "markdown",
   "metadata": {},
   "source": [
    "__Verificação:__ $P_{W}:V\\rightarrow W$. <br>\n",
    "Consideremos uma base ortonormal para o espaço vetorial $V\\supseteq W$: $\\{\\{|w_{j}\\rangle\\}_{j=1}^{\\dim W},\\{|w^{\\perp}_{k}\\rangle\\}_{k=\\dim W+1}^{\\dim V}\\}$. Assim, para um vetor qualquer $|v\\rangle\\in V$ teremos\n",
    "\\begin{equation}\n",
    "|v\\rangle = \\sum_{j=1}^{\\dim W}\\langle w_{j}|v\\rangle|w_{j}\\rangle + \\sum_{k=\\dim W+1}^{\\dim V}\\langle w^{\\perp}_{k}|v\\rangle|w^{\\perp}_{k}\\rangle.\n",
    "\\end{equation}\n",
    "Então\n",
    "\\begin{align}\n",
    "P_{W}(|v\\rangle) & = \\sum_{l=1}^{\\dim W}\\langle w_{l}|v\\rangle|w_{l}\\rangle = \\sum_{l=1}^{\\dim W}\\sum_{j=1}^{\\dim W}\\langle w_{j}|v\\rangle\\langle w_{l}|w_{j}\\rangle|w_{l}\\rangle + \\sum_{l=1}^{\\dim W}\\sum_{k=\\dim W+1}^{\\dim V}\\langle w^{\\perp}_{k}|v\\rangle\\langle w_{l}|w^{\\perp}_{k}\\rangle|w_{l}\\rangle \\\\\n",
    "& = \\sum_{l=1}^{\\dim W}\\sum_{j=1}^{\\dim W}\\langle w_{j}|v\\rangle\\delta_{l,j}|w_{l}\\rangle + \\sum_{l=1}^{\\dim W}\\sum_{k=\\dim W+1}^{\\dim V}\\langle w^{\\perp}_{k}|v\\rangle 0|w_{l}\\rangle = \\sum_{l=1}^{\\dim W}\\langle w_{l}|v\\rangle|w_{l}\\rangle \\in W.\n",
    "\\end{align}"
   ]
  },
  {
   "cell_type": "markdown",
   "metadata": {},
   "source": [
    "__Exercício:__ Verifique que qualquer projetor tem a propriedade de idempotência, i.e., $P_{W}\\circ P_{W}=P_{W}$. <br>\n",
    "__Exercício:__ Verifique que um projetor possui somente dois autovalores, 0 ou 1. Discorra sobre quais são os \"autovetores\" correspondentes. <br>\n",
    "__Exercício:__ Verifique que se $P_{W}(|v\\rangle) = \\sum_{l=1}^{\\dim W}\\langle w_{l}|v\\rangle|w_{l}\\rangle$ e $P_{X}(|v\\rangle) = \\sum_{l=1}^{\\dim X}\\langle x_{l}|v\\rangle|x_{l}\\rangle$ com $\\langle x_{j}|w_{k}\\rangle=0\\text{ } \\forall j,k$, então\n",
    "\\begin{equation}\n",
    "P_{W}\\circ P_{X} = P_{X}\\circ P_{W} = \\mathbb{O}_{V}.\n",
    "\\end{equation}\n",
    "\n",
    "### Adjunto de projetores\n",
    "Vamos verificar que o operador adjunto de um projetor é ele mesmo. Considera $\\forall|a\\rangle,|b\\rangle\\in\\mathcal{H}$\n",
    "\\begin{align}\n",
    "& (P_{W}^{\\dagger}|a\\rangle,|b\\rangle)=(|a\\rangle,P_{w}(|b\\rangle)) = (|a\\rangle,\\sum_{j}\\langle w_{j}|b\\rangle|w_{j}\\rangle)  = \\sum_{j}\\langle w_{j}|b\\rangle(|a\\rangle,|w_{j}\\rangle) = \\sum_{j}\\langle w_{j}|b\\rangle\\langle w_{j}|a\\rangle^{*} \\\\\n",
    "& = \\sum_{j}\\langle w_{j}|a\\rangle^{*}(|w_{j}\\rangle,|b\\rangle) = (\\sum_{j}\\langle w_{j}|a\\rangle|w_{j}\\rangle,|b\\rangle) = (P_{W}|a\\rangle,|b\\rangle).\n",
    "\\end{align}\n",
    "\n",
    "__Exercício:__ Verifique essa propriedade explicitamente considerando os projetores de $\\mathbb{C}^{n}$.\n",
    "\n",
    "### Complemento ortonormal\n",
    "O complemento ortonormal de um projetor $P_{W}$ no subespaço $W\\subseteq V$ é definido como o projetor $P_{W^{\\perp}}$ tal que\n",
    "\\begin{equation}\n",
    "P_{W}+P_{W^{\\perp}}=\\mathbb{I}_{V}.\n",
    "\\end{equation}\n",
    "Para esses projetores, teremos\n",
    "\\begin{align}\n",
    "P_{W}\\circ P_{W^{\\perp}}(|v\\rangle) & = P_{W}\\circ(\\mathbb{I}_{V}-P_{W})(|v\\rangle) = P_{W}\\circ\\mathbb{I}_{V}(|v\\rangle)-P_{W}\\circ P_{W}(|v\\rangle) = P_{W}(|v\\rangle)-P_{W}(|v\\rangle) \\\\ \n",
    "& = \\mathbb{O}_{V}(|v\\rangle).\n",
    "\\end{align}\n",
    "\n",
    "__Exercício:__ Para $\\mathbb{C}^{3}$, considere o projetor $P_{1}=|1\\rangle\\langle 1|$ com $|1\\rangle=\\begin{bmatrix} 1 & 0 & 0 \\end{bmatrix}^{T}$. Forneça dois complementos ortonormais para $P_{1}$?"
   ]
  },
  {
   "cell_type": "code",
   "execution_count": 36,
   "metadata": {},
   "outputs": [],
   "source": [
    "# Retorna o projetor em um vetor de C^n\n",
    "def proj(ket):\n",
    "    return ket*Dagger(ket)"
   ]
  },
  {
   "cell_type": "code",
   "execution_count": 41,
   "metadata": {},
   "outputs": [
    {
     "data": {
      "image/png": "[encoded data removed]",
      "text/latex": [
       "$$\\left[\\begin{matrix}0 & 0\\\\0 & 1\\end{matrix}\\right]$$"
      ],
      "text/plain": [
       "⎡0  0⎤\n",
       "⎢    ⎥\n",
       "⎣0  1⎦"
      ]
     },
     "execution_count": 41,
     "metadata": {},
     "output_type": "execute_result"
    }
   ],
   "source": [
    "v = Matrix([[0],[1]])\n",
    "proj(v)"
   ]
  },
  {
   "cell_type": "markdown",
   "metadata": {},
   "source": [
    "# Operadores normais\n",
    "Um operador $A$ definido no espaço de Hilbert $\\mathcal{H}$ é dito normal se\n",
    "\\begin{equation}\n",
    "A\\circ A^{\\dagger} = A^{\\dagger}\\circ A.\n",
    "\\end{equation}\n",
    "\n",
    "# Teorema da decomposição espectral\n",
    "Existe uma base ortonormal de $\\mathcal{H}$ constituída por autovetores do operador linear $A:\\mathcal{H}\\rightarrow\\mathcal{H}$ se e somente se este for normal.\n",
    "\n",
    "## Prova\n",
    "Vamos começar assumindo a existência de uma base ortonormal $\\{|a\\rangle\\}\\in\\mathcal{H}$ de autovetores de $A$, i.e., $A|a\\rangle := \\alpha_{a}|a\\rangle$ (note que aqui usamos $a$ também para os autovalores). Consideremos o _projetor unidimensional_ aplicado a um vetor qualquer $|v\\rangle\\in\\mathcal{H}$:\n",
    "\\begin{equation}\n",
    "P_{a}(|v\\rangle)=\\langle a|v\\rangle |a\\rangle.\n",
    "\\end{equation}\n",
    "Ademais, podemos escrever $|v\\rangle=\\sum_{a}\\langle a|v\\rangle|a\\rangle$. Assim\n",
    "\\begin{equation}\n",
    "A(|v\\rangle) = A(\\sum_{a}\\langle a|v\\rangle|a\\rangle) = \\sum_{a}\\langle a|v\\rangle A(|a\\rangle) = \\sum_{a}\\langle a|v\\rangle \\alpha_{a}(|a\\rangle) = \\sum_{a} \\alpha_{a}\\langle a|v\\rangle(|a\\rangle) = \\sum_{a} \\alpha_{a}P_{a}(|v\\rangle).\n",
    "\\end{equation}\n",
    "Essa é a chamada _decomposição espectral_:\n",
    "\\begin{equation}\n",
    "A = \\sum_{a} \\alpha_{a}P_{a}.\n",
    "\\end{equation}\n",
    "\n",
    "Notemos que como $\\forall|v\\rangle\\in\\mathcal{H}$ podemos escrever $|v\\rangle=\\sum_{a}\\langle a|v\\rangle|a\\rangle$, teremos que\n",
    "\\begin{equation}\n",
    "(\\sum_{a}P_{a})(|v\\rangle)=\\sum_{a}P_{a}(|v\\rangle)=\\sum_{a}\\langle a|v\\rangle|a\\rangle =|v\\rangle=\\mathbb{I}_{\\mathcal{H}}|v\\rangle.\n",
    "\\end{equation}\n",
    "Portanto, nesse caso,\n",
    "\\begin{equation}\n",
    "\\sum_{a}P_{a}=\\mathbb{I}_{\\mathcal{H}}.\n",
    "\\end{equation}"
   ]
  },
  {
   "cell_type": "markdown",
   "metadata": {},
   "source": [
    "##### Autovetores da adjunta\n",
    "Para uma matriz normal, pela decomposição espectral $A=\\sum_{a}\\alpha_{a}P_{a}$ teremos que\n",
    "\\begin{equation}\n",
    "A^{\\dagger}=\\left(\\sum_{a}\\alpha_{a}P_{a}\\right)^{\\dagger}=\\sum_{a}\\alpha_{a}^{*}P_{a}^{\\dagger}=\\sum_{a}\\alpha_{a}^{*}P_{a}.\n",
    "\\end{equation}\n",
    "Portanto os autovetores de $A$ e de $A^{\\dagger}$ são os mesmos. No entanto, isso não é necessariamente o caso para operadores que não são normais. Como exemplo considere a matriz $A=\\begin{bmatrix}i&0\\\\1&-1\\end{bmatrix}$. Veja os autovalores e autovetores dessa matriz e de sua adjunta mostrados abaixo."
   ]
  },
  {
   "cell_type": "markdown",
   "metadata": {},
   "source": [
    "Com isso podemos escrever\n",
    "\\begin{align}\n",
    "A\\circ A^{\\dagger}(|v\\rangle) & = (\\sum_{a} \\alpha_{a}P_{a})\\circ(\\sum_{a'} \\alpha_{a}'^{*}P_{a'})(|v\\rangle) = (\\sum_{a} \\alpha_{a}P_{a})\\circ(\\sum_{a'} \\alpha_{a'}^{*}P_{a'}(|v\\rangle)) = \\sum_{a,a'} \\alpha_{a} \\alpha_{a'}^{*}P_{a}(P_{a'}(|v\\rangle)) \\\\\n",
    "& = \\sum_{a,a'} \\alpha_{a} \\alpha_{a'}^{*}(P_{a}\\circ P_{a'})(|v\\rangle) = \\sum_{a,a'} \\alpha_{a} \\alpha_{a'}^{*}(\\delta_{\\alpha_{a},\\alpha_{a'}}P_{a})(|v\\rangle) = \\sum_{a}|\\alpha_{a}|^{2}P_{a}(|v\\rangle).\n",
    "\\end{align}\n",
    "\n",
    "__Exercício:__ Verifique que $(A^{\\dagger}\\circ A)(|v\\rangle) = \\sum_{a}|\\alpha_{a}|^{2}P_{a}(|v\\rangle)$.\n",
    "\n",
    "Por conseguinte,\n",
    "\\begin{equation}\n",
    "\\exists\\{|a\\rangle\\}\\mid A=\\sum_{a}\\alpha_{a}P_{a}\\text{ com }P_{a}P_{a'}=\\delta_{\\alpha_{a},\\alpha_{a'}}P_{a}\\text{ e }\\sum_{a}P_{a}=\\mathbb{I}_{\\mathcal{H}}\\Rightarrow A\\circ A^{\\dagger}=A^{\\dagger}\\circ A.\n",
    "\\end{equation}"
   ]
  },
  {
   "cell_type": "markdown",
   "metadata": {},
   "source": [
    "Passemos para a segunda parte da prova, onde assumimos que $A$ é normal, i.e. que $A\\circ A^{\\dagger}=A^{\\dagger}\\circ A$, e mostramos que existe uma base ortonormal que o diagonaliza. Começamos considerando o autovalor $\\alpha_{a}$ de $A$ e o projetor $P_{a}$ no subespaço $\\mathcal{H}_{a}$ de $\\mathcal{H}$ gerado pelos autovetores de $A$ correspondentes ao autovalor $\\alpha_{a}$. Seja $P_{a^{\\perp}}$ o complemento ortonormal de  $P_{a}$. Segue assim que\n",
    "\\begin{align}\n",
    "A & = \\mathbb{I}_{\\mathcal{H}}\\circ A\\circ \\mathbb{I}_{\\mathcal{H}} = (P_{a}+P_{a^{\\perp}})\\circ A\\circ(P_{a}+P_{a^{\\perp}}) \\\\\n",
    "& = P_{a}\\circ A\\circ P_{a} + P_{a}\\circ A\\circ P_{a^{\\perp}} + P_{a^{\\perp}}\\circ A\\circ P_{a} + P_{a^{\\perp}}\\circ A\\circ P_{a^{\\perp}}.\n",
    "\\end{align}\n",
    "Agora, $\\forall|v\\rangle\\in\\mathcal{H}$,\n",
    "\\begin{align}\n",
    "(A\\circ P_{a})(|v\\rangle) & = A(P_{a}(|v\\rangle)) = A\\left(\\sum_{a}\\langle a|v\\rangle|a\\rangle\\right) = \\sum_{a}\\langle a|v\\rangle A(|a\\rangle) = \\sum_{a}\\langle a|v\\rangle \\alpha_{a}|a\\rangle \\\\ \n",
    "& = \\sum_{a}\\alpha_{a}\\langle a|v\\rangle|a\\rangle = \\alpha_{a}P_{a}(|v\\rangle).\n",
    "\\end{align}\n",
    "__Exercício:__ Verifique que $A^{\\dagger}\\circ P_{a}=\\alpha_{a}^{*}P_{a}$.\n",
    "\n",
    "Assim\n",
    "\\begin{align}\n",
    "& P_{a}\\circ A\\circ P_{a} = P_{a}\\circ \\alpha_{a}P_{a} = \\alpha_{a} P_{a}\\circ P_{a} = \\alpha_{a}P_{a}, \\\\\n",
    "& P_{a^{\\perp}}\\circ A\\circ P_{a} = P_{a^{\\perp}}\\circ \\alpha_{a}P_{a}=\\alpha_{a}P_{a^{\\perp}}\\circ P_{a}=\\mathbb{O}_{\\mathcal{H}}.\n",
    "\\end{align}\n",
    "\n",
    "Com isso teremos que\n",
    "\\begin{align}\n",
    "(P_{a}\\circ A\\circ P_{a^{\\perp}})^{\\dagger} & = P_{a^{\\perp}}^{\\dagger}\\circ A^{\\dagger}\\circ P_{a}^{\\dagger} = P_{a^{\\perp}}\\circ A^{\\dagger}\\circ P_{a} = P_{a^{\\perp}}\\circ \\alpha_{a}^{*}P_{a} = \\alpha_{a}^{*}P_{a^{\\perp}}\\circ P_{a} = \\alpha_{a}^{*}\\mathbb{O}_{\\mathcal{H}} = \\mathbb{O}_{\\mathcal{H}}.\n",
    "\\end{align}"
   ]
  },
  {
   "cell_type": "markdown",
   "metadata": {},
   "source": [
    "Juntando esses resultados obtemos\n",
    "\\begin{equation}\n",
    "A = \\alpha_{a}P_{a} + \\mathbb{O}_{\\mathcal{H}} + \\mathbb{O}_{\\mathcal{H}} + P_{a^{\\perp}}\\circ A\\circ P_{a^{\\perp}} = \\alpha_{a}P_{a} + P_{a^{\\perp}}\\circ A\\circ P_{a^{\\perp}}.\n",
    "\\end{equation}\n",
    "Seguindo, verifiquemos que o operador $\\tilde{A}:=P_{a^{\\perp}}\\circ A\\circ P_{a^{\\perp}}$ também é normal se $A$ é normal\n",
    "\\begin{align}\n",
    "& (P_{a^{\\perp}}\\circ A\\circ P_{a^{\\perp}})^{\\dagger}\\circ(P_{a^{\\perp}}\\circ A\\circ P_{a^{\\perp}}) \\\\\n",
    "& = P_{a^{\\perp}}\\circ A^{\\dagger}\\circ P_{a^{\\perp}}\\circ P_{a^{\\perp}}\\circ A\\circ P_{a^{\\perp}} = P_{a^{\\perp}}\\circ A^{\\dagger}\\circ P_{a^{\\perp}}\\circ A\\circ P_{a^{\\perp}} \\\\ \n",
    "& = P_{a^{\\perp}}\\circ A^{\\dagger}\\circ(\\mathbb{0}_{\\mathcal{H}}+ P_{a^{\\perp}}\\circ A\\circ P_{a^{\\perp}}) = P_{a^{\\perp}}\\circ A^{\\dagger}\\circ(P_{a}\\circ A\\circ P_{a^{\\perp}} + P_{a^{\\perp}}\\circ A\\circ P_{a^{\\perp}}) \\\\ \n",
    "& = P_{a^{\\perp}}\\circ A^{\\dagger}\\circ((P_{a}+P_{a^{\\perp}})\\circ A\\circ P_{a^{\\perp}}) = P_{a^{\\perp}}\\circ A^{\\dagger}\\circ (\\mathbb{I}_{\\mathcal{H}}\\circ A\\circ P_{a^{\\perp}}) = P_{a^{\\perp}}\\circ A^{\\dagger}\\circ A\\circ P_{a^{\\perp}} \\\\\n",
    "& = P_{a^{\\perp}}\\circ A\\circ A^{\\dagger}\\circ P_{a^{\\perp}} = P_{a^{\\perp}}\\circ A\\circ\\mathbb{I}_{\\mathcal{H}}\\circ A^{\\dagger}\\circ P_{a^{\\perp}} = P_{a^{\\perp}}\\circ A\\circ(P_{a}+P_{a^{\\perp}})\\circ A^{\\dagger}\\circ P_{a^{\\perp}} \\\\\n",
    "& = (P_{a^{\\perp}}\\circ A\\circ P_{a}+P_{a^{\\perp}}\\circ A\\circ P_{a^{\\perp}})\\circ A^{\\dagger}\\circ P_{a^{\\perp}} =  (\\mathbb{O}_{\\mathcal{H}}+P_{a^{\\perp}}\\circ A\\circ P_{a^{\\perp}})\\circ A^{\\dagger}\\circ P_{a^{\\perp}} \\\\\n",
    "& = (P_{a^{\\perp}}\\circ A\\circ P_{a^{\\perp}})\\circ(P_{a^{\\perp}}\\circ A^{\\dagger}\\circ P_{a^{\\perp}})= (P_{a^{\\perp}}\\circ A\\circ P_{a^{\\perp}})\\circ(P_{a^{\\perp}}\\circ A\\circ P_{a^{\\perp}})^{\\dagger}.\n",
    "\\end{align}\n",
    "\n",
    "Assim, se repetimos o procedimento feito inicialmete para $A$ no caso de $\\tilde{A}$ teremos\n",
    "\\begin{equation}\n",
    "A = \\alpha_{a}P_{a} + \\alpha_{\\tilde{a}}P_{\\tilde{a}} + P_{\\tilde{a}^{\\perp}}\\circ \\tilde{A}\\circ P_{\\tilde{a}^{\\perp}},\n",
    "\\end{equation}\n",
    "com $P_{\\tilde{\\tilde{a}}}:=P_{\\tilde{a}^{\\perp}}\\circ \\tilde{A}\\circ P_{\\tilde{a}^{\\perp}}$ sendo também um operador normal. Então, se repetimos esse processo até completarmos o espaço, i.e., até que $P_{a}+P_{\\tilde{a}}+P_{\\tilde{\\tilde{a}}}+\\cdots=\\mathbb{I}_{\\mathcal{H}}$, teremos obtido a decomposição espectral de $A$. Com isso completamos a prova do teorema\n",
    "\\begin{equation}\n",
    "A\\circ A^{\\dagger}=A^{\\dagger}\\circ A\\Rightarrow \\exists{\\{P_{a}\\}}\\mid \\sum_{a}P_{a}=\\mathbb{I}_{\\mathcal{H}}, P_{a}P_{a'}=\\delta_{\\alpha_{a},\\alpha_{a'}}P_{a} \\text{ e }A=\\sum_{a}\\alpha_{a}P_{a}.\n",
    "\\end{equation}\n",
    "\n",
    "__Exercício:__ Verifique que a matriz $A = \\begin{bmatrix} 0 & 1 & 0 \\\\ 1 & 0 & 1 \\\\ 0 & 1 & 0 \\end{bmatrix}$ é normal e obtenha sua decomposição espectral."
   ]
  },
  {
   "cell_type": "code",
   "execution_count": 43,
   "metadata": {},
   "outputs": [
    {
     "data": {
      "image/png": "[encoded data removed]",
      "text/latex": [
       "$$\\left [ \\left ( -1.0, \\quad 1, \\quad \\left [ \\left[\\begin{matrix}0\\\\1.0\\end{matrix}\\right]\\right ]\\right ), \\quad \\left ( 1.0 i, \\quad 1, \\quad \\left [ \\left[\\begin{matrix}1.0 + 1.0 i\\\\1.0\\end{matrix}\\right]\\right ]\\right )\\right ]$$"
      ],
      "text/plain": [
       "⎡⎛         ⎡⎡ 0 ⎤⎤⎞  ⎛          ⎡⎡1.0 + 1.0⋅ⅈ⎤⎤⎞⎤\n",
       "⎢⎜-1.0, 1, ⎢⎢   ⎥⎥⎟, ⎜1.0⋅ⅈ, 1, ⎢⎢           ⎥⎥⎟⎥\n",
       "⎣⎝         ⎣⎣1.0⎦⎦⎠  ⎝          ⎣⎣    1.0    ⎦⎦⎠⎦"
      ]
     },
     "execution_count": 43,
     "metadata": {},
     "output_type": "execute_result"
    }
   ],
   "source": [
    "A = Matrix([[1j, 0],[1,-1]])\n",
    "A\n",
    "A.eigenvects()"
   ]
  },
  {
   "cell_type": "code",
   "execution_count": 45,
   "metadata": {},
   "outputs": [
    {
     "data": {
      "image/png": "[encoded data removed]",
      "text/latex": [
       "$$\\left [ \\left ( -1.0, \\quad 1, \\quad \\left [ \\left[\\begin{matrix}-0.5 - 0.5 i\\\\1.0\\end{matrix}\\right]\\right ]\\right ), \\quad \\left ( - 1.0 i, \\quad 1, \\quad \\left [ \\left[\\begin{matrix}1.0\\\\0\\end{matrix}\\right]\\right ]\\right )\\right ]$$"
      ],
      "text/plain": [
       "⎡⎛         ⎡⎡-0.5 - 0.5⋅ⅈ⎤⎤⎞  ⎛           ⎡⎡1.0⎤⎤⎞⎤\n",
       "⎢⎜-1.0, 1, ⎢⎢            ⎥⎥⎟, ⎜-1.0⋅ⅈ, 1, ⎢⎢   ⎥⎥⎟⎥\n",
       "⎣⎝         ⎣⎣    1.0     ⎦⎦⎠  ⎝           ⎣⎣ 0 ⎦⎦⎠⎦"
      ]
     },
     "execution_count": 45,
     "metadata": {},
     "output_type": "execute_result"
    }
   ],
   "source": [
    "# Adjunta\n",
    "Ad = Dagger(A)\n",
    "Ad.eigenvects()"
   ]
  },
  {
   "cell_type": "code",
   "execution_count": 46,
   "metadata": {},
   "outputs": [
    {
     "data": {
      "image/png": "[encoded data removed]",
      "text/latex": [
       "$$\\left[\\begin{matrix}-1.0 & 1 + 1.0 i\\\\1 - 1.0 i & 1\\end{matrix}\\right]$$"
      ],
      "text/plain": [
       "⎡  -1.0     1 + 1.0⋅ⅈ⎤\n",
       "⎢                    ⎥\n",
       "⎣1 - 1.0⋅ⅈ      1    ⎦"
      ]
     },
     "execution_count": 46,
     "metadata": {},
     "output_type": "execute_result"
    }
   ],
   "source": [
    "# Verificação de que A não é normal\n",
    "A*Ad-Ad*A"
   ]
  },
  {
   "cell_type": "markdown",
   "metadata": {},
   "source": [
    "# Operadores Hermitianos\n",
    "Esses são os operadores usados em Mecânica Quântica para descrever quantidades observáveis experimentalmente. Um operador linear $A:\\mathcal{H}\\rightarrow\\mathcal{H}$ é dito Hermitiano se seu adjunto for ele próprio, i.e.,\n",
    "\\begin{equation}\n",
    "A^{\\dagger}=A.\n",
    "\\end{equation}\n",
    "\n",
    "_OBS:_ Se um operador linear $A:\\mathcal{H}\\rightarrow\\mathcal{H}$ é Hermitiano, ele também é normal e por conseguinte possui uma decomposição espectral em uma base ortonormal. Então, se $A|a\\rangle=a|a\\rangle$ e $A|a'\\rangle=a'|a'\\rangle$ com $a\\ne a'$, devemos ter $\\langle a|a'\\rangle=0$, i.e., os autovetores correspondentes são ortogonais.\n",
    "\n",
    "## Teorema\n",
    "Operdores Hermitianos possuem autovalores reais e seus autovetores correspondentes a autovalores diferentes são ortogonais.\n",
    "\n",
    "### Prova\n",
    "Considera um par qualquer de autovalores de $A$, i.e., considera $A|a\\rangle=a|a\\rangle$ e $A|a'\\rangle=a'|a'\\rangle$. Temos assim que\n",
    "\\begin{align}\n",
    "& (|a'\\rangle,A|a\\rangle) = (|a'\\rangle,a|a\\rangle) = a(|a'\\rangle,|a\\rangle) \\\\\n",
    "& (A^{\\dagger}|a'\\rangle,|a\\rangle)=(A|a'\\rangle,|a\\rangle) = (a'|a'\\rangle,|a\\rangle) = a'^{*}(|a'\\rangle,|a\\rangle).\n",
    "\\end{align}\n",
    "Portanto\n",
    "\\begin{equation}\n",
    "(a-a'^{*})\\langle a'|a\\rangle=0.\n",
    "\\end{equation}\n",
    "Vemos assim que se $a=a'$, como $\\langle a|a\\rangle\\ne 0$, devemos ter $a-a^{*}=0\\Rightarrow \\Im(a)=0\\Rightarrow a\\in\\mathbb{R}$. \\\\\n",
    "\n",
    "__Exercício:__ Verifique que a matriz $\\begin{bmatrix} 0&-i\\\\i&0 \\end{bmatrix}$ é Hermitiana. Obtenha seus autovalores e autovetores e verifique que estes estão de acordo com o último teorema.\n",
    "\n",
    "__Exercício:__ Operadores __anti-Hermitianos__ são definidos por $A^{\\dagger}=-A$. Mostre que esses operadores possuem uma decomposição espectral e que os autovalores desse tipo de operador são números imaginários puros e que seus autovetores correspondentes a autovalores diferentes são ortogonais."
   ]
  },
  {
   "cell_type": "markdown",
   "metadata": {},
   "source": [
    "### Valor médio\n",
    "Em Mecânica Quântica, em algumas situações, o valor médio de um operador linear $A$ é escrito como:\n",
    "\\begin{equation}\n",
    "\\langle A\\rangle_{\\psi} := \\langle\\psi|A|\\psi\\rangle,\n",
    "\\end{equation}\n",
    "com $|\\psi\\rangle$ sendo um vetor do espaço no qual $A$ atua.\n",
    "\n",
    "### Teorema\n",
    "O valor médio de um operador Hermitiano é um número real: $A=A^{\\dagger}\\Rightarrow\\langle A\\rangle_{\\psi}\\in\\mathbb{R}$.\n",
    "#### Prova\n",
    "Consideramos $A=A^{\\dagger}=\\sum_{j}a_{j}P_{j}$, com os projetores 1D definidos como usual ($P_{j}|v\\rangle=\\langle a_{j}|v\\rangle|a_{j}\\rangle$) e $a_{j}\\in\\mathbb{R}$. Vamos expandir o vetor qualquer $|\\psi\\rangle$ na base de autovetores de $A$: $|\\psi\\rangle=\\sum_{j}c_{j}|a_{j}\\rangle$. Como isso vem que\n",
    "\\begin{align}\n",
    "\\langle A\\rangle_{\\psi} &= \\langle\\psi|A|\\psi\\rangle = \\sum_{j} c_{j}^{*}\\langle a_{j}|\\sum_{k}a_{k}P_{k}\\sum_{l}c_{l}|a_{l}\\rangle \\\\\n",
    "& = \\sum_{j,k,l} c_{j}^{*}c_{l}a_{k}\\langle a_{j}|P_{k}|a_{l}\\rangle = \\sum_{j,k,l} c_{j}^{*}c_{l}a_{k}\\langle a_{j}|\\langle a_{k}|a_{l}\\rangle|a_{k}\\rangle \\\\\n",
    "& = \\sum_{j}|c_{j}|^{2}a_{j} \\in \\mathbb{R}.\n",
    "\\end{align}"
   ]
  },
  {
   "cell_type": "markdown",
   "metadata": {},
   "source": [
    "## Comutador e anti-comutador\n",
    "O comutador entre dois operadores lineares $A,B:\\mathcal{H}\\rightarrow\\mathcal{H}$ é um operado em $\\mathcal{H}$ deinido por\n",
    "\\begin{equation}\n",
    "[A,B] := A\\circ B - B\\circ A.\n",
    "\\end{equation}\n",
    "A importância desse operador é que se $[A,B]=\\mathbb{0}$, então a ordem com que esses operadores são aplicados não faz diferença. Caso contrário, obteremos diferentes vetores mudando a ordem de aplicação dos operadores.\n",
    "\n",
    "Vemos assim que poderíamos ter definido _operadores normais_ como sendo aqueles operadores que comutam com seu adjunto:\n",
    "\\begin{equation}\n",
    "[A,A^{\\dagger}] = \\mathbb{O}.\n",
    "\\end{equation}\n",
    "\n",
    "__Exercício:__ Verifique que para $X,Y,Z:\\mathcal{H}\\rightarrow\\mathcal{H}$ temos\n",
    "\\begin{align}\n",
    "& [X,Y+Z] = [X,Y]+[X,Z], \\\\\n",
    "& [X+Y,Z] = [X,Z]+[Y,Z], \\\\\n",
    "& [X,Y\\circ Z] = Y\\circ[X,Z]+[X,Y]\\circ Z, \\\\\n",
    "& [X\\circ Y,Z] = X\\circ[Y,Z] + [X,Z]\\circ Y.\n",
    "\\end{align}\n",
    "\n",
    "A matriz identidade $2\\mathrm{x}2$ e as matrizes de Pauli são definidas por:\n",
    "\\begin{equation}\n",
    "\\mathbb{I}_{2} \\equiv \\sigma_{0} := \\begin{bmatrix} 1&0\\\\0&1 \\end{bmatrix}\\text{, }\n",
    "\\sigma_{x} \\equiv \\sigma_{1} := \\begin{bmatrix} 0&1\\\\1&0 \\end{bmatrix}\\text{, }\n",
    "\\sigma_{y} \\equiv \\sigma_{2} := \\begin{bmatrix} 0&-i\\\\i&0 \\end{bmatrix}\\text{, }\n",
    "\\sigma_{z} \\equiv \\sigma_{3} := \\begin{bmatrix} 1&0\\\\0&-1 \\end{bmatrix}\\text{, }\n",
    "\\end{equation}\n",
    "\n",
    "__Exercício:__ Verifique que para as matrizes de Pauli teremos (use o código abaixo para facilitar a resolução desses três exercícios)\n",
    "\\begin{equation}\n",
    "\\sigma_{j}\\sigma_{k}=\\delta_{j,k}\\sigma_{0}+sgn(j,k,l)i\\sigma_{l},  \\hspace{0.2cm}  j,k=1,2,3.\n",
    "\\end{equation}\n",
    "\n",
    "__Exercício:__ verifique que as matrizes de Pauli satisfazem a relação de comutação a seguir:\n",
    "\\begin{equation}\n",
    "[\\sigma_{j},\\sigma_{k}]= sgn(j,k,l)2i\\sigma_{l},  \\hspace{0.2cm}  j,k=1,2,3.\n",
    "\\end{equation}\n",
    "\n",
    "O anti-comutador entre dois operadores lineares $A,B:\\mathcal{H}\\rightarrow\\mathcal{H}$ é o operador linear definido como\n",
    "\\begin{equation}\n",
    "\\{A,B\\} := A\\circ B+B\\circ A.\n",
    "\\end{equation}\n",
    "\n",
    "__Exercício:__ Verifique que as matrizes de Pauli anti-comutam:\n",
    "\\begin{equation}\n",
    "\\{\\sigma_{j},\\sigma_{k}\\} := \\mathbb{O}_{\\mathbb{C}^{2}}, \\hspace{0.2cm} \\forall j\\ne k \\text{ e } j,k=1,2,3.\n",
    "\\end{equation}"
   ]
  },
  {
   "cell_type": "code",
   "execution_count": 53,
   "metadata": {},
   "outputs": [],
   "source": [
    "def comm(A,B):\n",
    "    return A*B-B*A"
   ]
  },
  {
   "cell_type": "code",
   "execution_count": 54,
   "metadata": {},
   "outputs": [],
   "source": [
    "def acomm(A,B):\n",
    "    return A*B+B*A"
   ]
  },
  {
   "cell_type": "code",
   "execution_count": 55,
   "metadata": {},
   "outputs": [],
   "source": [
    "def pauli(j):\n",
    "    if j == 0:\n",
    "        return Matrix([[1,0],[0,1]])\n",
    "    elif j == 1:\n",
    "        return Matrix([[0,1],[1,0]])\n",
    "    elif j == 2:\n",
    "        return Matrix([[0,-1j],[1j,0]])\n",
    "    elif j == 3:\n",
    "        return Matrix([[1,0],[0,-1]])"
   ]
  },
  {
   "cell_type": "code",
   "execution_count": 56,
   "metadata": {},
   "outputs": [
    {
     "data": {
      "image/png": "[encoded data removed]",
      "text/latex": [
       "$$\\left[\\begin{matrix}2.0 i & 0\\\\0 & - 2.0 i\\end{matrix}\\right]$$"
      ],
      "text/plain": [
       "⎡2.0⋅ⅈ    0   ⎤\n",
       "⎢             ⎥\n",
       "⎣  0    -2.0⋅ⅈ⎦"
      ]
     },
     "execution_count": 56,
     "metadata": {},
     "output_type": "execute_result"
    }
   ],
   "source": [
    "comm(pauli(1),pauli(2))"
   ]
  },
  {
   "cell_type": "code",
   "execution_count": 57,
   "metadata": {},
   "outputs": [
    {
     "data": {
      "image/png": "[encoded data removed]",
      "text/latex": [
       "$$\\left[\\begin{matrix}0 & 0\\\\0 & 0\\end{matrix}\\right]$$"
      ],
      "text/plain": [
       "⎡0  0⎤\n",
       "⎢    ⎥\n",
       "⎣0  0⎦"
      ]
     },
     "execution_count": 57,
     "metadata": {},
     "output_type": "execute_result"
    }
   ],
   "source": [
    "acomm(pauli(1),pauli(2))"
   ]
  },
  {
   "cell_type": "code",
   "execution_count": 58,
   "metadata": {},
   "outputs": [
    {
     "data": {
      "image/png": "[encoded data removed]",
      "text/latex": [
       "$$A B - B A$$"
      ],
      "text/plain": [
       "A⋅B - B⋅A"
      ]
     },
     "execution_count": 58,
     "metadata": {},
     "output_type": "execute_result"
    }
   ],
   "source": [
    "A = Symbol(\"A\", commutative = False)\n",
    "B = Symbol(\"B\", commutative = False)\n",
    "comm(A,B)"
   ]
  },
  {
   "cell_type": "markdown",
   "metadata": {},
   "source": [
    "# Teorema (diagonalização simultânea)\n",
    "Dois operadores lineares Hermitianos $A,B:\\mathcal{H}\\rightarrow\\mathcal{H}$ compartilham a mesma base de autovetores se e somente se comutarem, i.e.,\n",
    "\\begin{equation}\n",
    "A=\\sum_{j}a_{j}P_{j}\\text{ e }B=\\sum_{j}b_{j}P_{j}\\Leftrightarrow [A,B]=\\mathbb{0}_{\\mathcal{H}}.\n",
    "\\end{equation}\n",
    "\n",
    "## Prova\n",
    "Começamos assumindo que $A$ e $B$ são diagonalizados na mesma base ortonormal. Assim\n",
    "\\begin{align}\n",
    "[A,B] & = \\left[\\sum_{j}a_{j}P_{j},\\sum_{k}b_{k}P_{k}\\right] = \\sum_{j,k}a_{j}b_{k}[P_{j},P_{k}] \\\\\n",
    "& = \\sum_{j,k}a_{j}b_{k}(P_{j}\\circ P_{k} -P_{k}\\circ P_{j}) = \\sum_{j,k}a_{j}b_{k}(\\delta_{j,k}P_{j} - \\delta_{k,j}P_{k}) \\\\\n",
    "& = \\sum_{j}a_{j}b_{j}(P_{j} - P_{j}) = \\mathbb{0}_{\\mathcal{H}}.\n",
    "\\end{align}\n",
    "Seguindo, assumimos que $A\\circ B=B\\circ A$. Assim, considerando que a decomposição espectral de $A$ é $A=\\sum_{j}a_{j}P_{j}$, teremos\n",
    "\\begin{equation}\n",
    "A\\circ B\\circ P_{j} =  B\\circ A\\circ P_{j} = B\\circ A\\circ P_{j} = B\\circ a_{j}P_{j} = a_{j}B\\circ P_{j}.\n",
    "\\end{equation}\n",
    "Para que essa relação seja verdaderia, $B$ deve levar vetores do subespaço gerado pelos autovetores de $A$ correspondentes ao autovalor $a_{j}$ em vetores desse mesmo subespaço. Mas se isso ocorre, como $B$ é Herminiano, deve existir uma base ortonormal desse subespaço que é constituída por autovetores de $B$. E isso implica que existe uma base comum de autovetores de $A$ e $B$, completando assim a prova do teorema. \n",
    "\n",
    "Uma maneira mais fácil de entender esta última parte da prova é a seguinte. Considera a eq. de autovalores e autovetores: $A|a_{j}^{(k)}\\rangle=a_{j}|a_{j}^{(k)}\\rangle$ com $k=1,\\cdots,\\dim\\mathcal{H}_{j}$. Note que $\\mathcal{H}_{j}\\subseteq\\mathcal{H}$ é o subespaço gerado pelo autovetores de $A$ correspondentes ao autovalor $a_{j}$. Agora,\n",
    "\\begin{align}\n",
    "A(B|a_{j}^{(k)}\\rangle) & = (A\\circ B)(|a_{j}^{(k)}\\rangle) = (B\\circ A)(|a_{j}^{(k)}\\rangle) =B(A(|a_{j}^{(k)}\\rangle)) = B(a_{j}(|a_{j}^{(k)}\\rangle)) \\\\\n",
    "& = a_{j}(B|a_{j}^{(k)}\\rangle).\n",
    "\\end{align}\n",
    "Ou seja $B|a_{j}^{(k)}\\rangle$ também é autovetor de $A$ com autovalor $a_{j}$. Portanto $B|a_{j}^{(k)}\\rangle\\in \\mathcal{H}_{j}$. Como $B$ é Hermitiano, existe uma base de $\\mathcal{H}_{j}$ que o diagonaliza, e que também diagonaliza $A$.\n",
    "\n",
    "__Exercício:__ Para $A|a_{j}^{(k)}\\rangle=a_{j}|a_{j}^{(k)}\\rangle$, verifique que se $|v_{j}\\rangle=\\sum_{k=1}^{\\dim\\mathcal{H}_{k}}c_{k}|a_{j}^{(k)}\\rangle$ então $A|v_{j}\\rangle=a_{j}|v_{j}\\rangle$, com $c_{k}\\in\\mathbb{F}$. Ou seja, qualquer combinação linear dos autovetores de um operador linear também é um autovetor desse operador, correspondente ao mesmo autovalor.\n",
    "\n",
    "__Exercício:__ Determine se $\\sigma_{x}$ e $\\sigma_{y}$ compartilham ou não a mesma base de autovetores. Obtenha essas bases. "
   ]
  },
  {
   "cell_type": "markdown",
   "metadata": {},
   "source": [
    "# Operadores unitários\n",
    "São utilizados para descrever a dinâmica de sistemas quânticos. Um operador (ou matriz) $A:\\mathcal{H}\\rightarrow\\mathcal{H}$ é dito unitário se\n",
    "\\begin{equation}\n",
    "A^{\\dagger}\\circ A = A\\circ A^{\\dagger}=\\mathbb{I}_{\\mathcal{H}}.\n",
    "\\end{equation}\n",
    "Ou seja, o adjunto de um operador unitário é igual a sua inversa: $A^{\\dagger}=A^{-1}$.\n",
    "\n",
    "__Exercício:__ Verifique que se $A$ for uma matriz unitária então $|\\det(A)|=\\pm1$. <br>\n",
    "__Exercício:__ Verifique que o adjunto de uma matriz unitária é uma matriz unitária. <br>\n",
    "__Exercício:__ Verifique que o produto de duas matrizes unitárias é uma matriz unitária.\n",
    "\n",
    "Algumas outras propriedades importantes de operadores unitários são as seguintes:<br>\n",
    "1. Operadores unitários preservam o produto interno. Ou seja, para  $\\forall|v\\rangle,|w\\rangle\\in\\mathcal{H}$ teremos\n",
    "\\begin{equation}\n",
    "(A|v\\rangle,A|w\\rangle) = (A^{\\dagger}\\circ A|v\\rangle,|w\\rangle) = (\\mathbb{I}_{\\mathcal{H}}|v\\rangle,|w\\rangle) = (|v\\rangle,|w\\rangle).\n",
    "\\end{equation}\n",
    "__Exercício:__ Seja $|\\psi\\rangle$ um vetor qualquer de $\\mathcal{H}$ e $U:\\mathcal{H}\\rightarrow\\mathcal{H}$ um operador unitário, verifique que $|||\\psi\\rangle||=||U|\\psi\\rangle||$ <br>\n",
    "\n",
    "2. Os autovalores de um operador unitário são números complexos com módulo igual a 1:<br>\n",
    "Considera $A|a\\rangle=a|a\\rangle$. Teremos\n",
    "\\begin{align}\n",
    "& (A|a\\rangle,A|a\\rangle) = (a|a\\rangle,a|a\\rangle) = a^{*}a(|a\\rangle,|a\\rangle) = |a|^{2}\\langle a|a\\rangle \\\\ \n",
    "& (A^{\\dagger}\\circ A|a\\rangle,|a\\rangle) = (\\mathbb{I}_{\\mathcal{H}}|a\\rangle,|a\\rangle) = \\langle a|a\\rangle.\n",
    "\\end{align}\n",
    "Portando $|a|=1$ e os autovalores da matriz unitária devem ter a forma $a=e^{i\\theta_{a}}$.<br>\n",
    "__Exercício:__ Verifique que a matriz $\\begin{bmatrix} 0 & -i \\\\ i & 0 \\end{bmatrix}$ é unitária, calcule seus autovalores e os coloque na forma polar.\n",
    "\n",
    "3. O conjunto de vetores linha de uma matriz unitária $A\\in\\mathbb{C}^{n\\text{x}n}$ é um conjunto ortonormal:\n",
    "\\begin{align}\n",
    "\\langle L_{j}^{A}|L_{k}^{A}\\rangle & = |L_{j}^{A}\\rangle^{\\dagger}L_{k}^{A}\\rangle  = \\begin{bmatrix}A_{j,1}^{*} & A_{j,2}^{*} & \\cdots & A_{j,n}^{*}\\end{bmatrix}\\begin{bmatrix}A_{k,1} \\\\ A_{k,2} \\\\ \\vdots \\\\ A_{k,n}\\end{bmatrix} \\\\\n",
    "& = A_{j,1}^{*}A_{k,1}+A_{j,2}^{*}A_{k,2}+\\cdots+A_{j,n}^{*}A_{k,n} = \\sum_{l=1}^{n}A_{k,l}(A^{\\dagger})_{l,j} = (AA^{\\dagger})_{k,j} = (\\mathbb{I}_{n})_{k,j} \\\\ \n",
    "& = \\delta_{k,j}.\n",
    "\\end{align}\n",
    "__Exercício:__ Faça a verificação análoga para o conjunto de vetores coluna de uma matriz unitária.\n",
    "\n",
    "__Exercício:__ Se lhes é fornecida uma matriz $A$ cujos vetores coluna formam uma base LI, qual procedimento podemos utilizar para obter uma matriz unitária a partir de $A$.\n",
    "\n",
    "__Exercício:__ Verifique que se $\\{|\\alpha_{j}\\rangle\\}$ e $\\{|\\beta_{j}\\rangle\\}$ são bases ortonormais de $\\mathbb{C}^{n}$, então $U:=\\sum_{j=1}^{n}|\\alpha_{j}\\rangle\\langle\\beta_{j}|$ é uma matriz unitária."
   ]
  },
  {
   "cell_type": "markdown",
   "metadata": {},
   "source": [
    "## Função traço (propriedades)\n",
    "O traço de um operador linear $A:\\mathcal{H}\\rightarrow\\mathcal{H}$, com $d=\\dim\\mathcal{H}$, é a soma dos elementos na diagonal principal da matriz correspondente. Se a representação matricial é feita na base $\\{|b_{j}\\rangle\\}_{j=1}^{d}$, então\n",
    "\\begin{equation}\n",
    "Tr(A)=\\sum_{j=1}^{d}A_{j,j}\\equiv \\sum_{j=1}^{d}\\langle b{j}|A|b_{j}\\rangle.\n",
    "\\end{equation}\n",
    "Algumas propriedades importantes do traço são:<br>\n",
    "1. Propriedade cíclica: $Tr(AB)=Tr(BA)$ <br>\n",
    "Para quaisquer duas matrizes $A\\in\\mathbb{C}^{m\\mathrm{x}n}$ e $B\\in\\mathbb{C}^{n\\mathrm{x}m}$ teremos\n",
    "\\begin{equation}\n",
    "Tr(AB) = \\sum_{j=1}^{m}(AB)_{j,j} = \\sum_{j=1}^{m}\\sum_{k=n}^{n}A_{j,k}B_{k,j} = \\sum_{k=1}^{n}\\sum_{j=1}^{m}B_{k,j}A_{j,k} = \\sum_{k=1}^{n}(BA)_{k,k} = Tr(BA).\n",
    "\\end{equation}\n",
    "\n",
    "2. Invariância por transformação de similaridade<br>\n",
    "Ou seja, para $U$ unitária (ou ortogonal) teremos $Tr(UAU^{\\dagger})=Tr(A)$:\n",
    "\\begin{equation}\n",
    "Tr(UAU^{\\dagger}) = Tr(U^{\\dagger}UA) = Tr(\\mathbb{I}A) = Tr(A).\n",
    "\\end{equation}\n",
    "__Exercício:__ Considere operadores lineares $A,B:\\mathcal{H}\\rightarrow\\mathcal{H}$ e verifique que $\\langle A|B\\rangle_{hs}=\\langle UAU^{\\dagger}|UBU^{\\dagger}\\rangle_{hs}$. <br>\n",
    "\n",
    "3. Invariância por escolha da base<br>\n",
    "Ou seja, se $\\{|b_{j}\\rangle\\}_{j=1}^{d}$ e $\\{|a_{j}\\rangle\\}_{j=1}^{d}$ são duas bases ortonormais do espaço vetorial considerado, então $Tr(A)= \\sum_{j=1}^{d}\\langle b{j}|A|b_{j}\\rangle = \\sum_{j=1}^{d}\\langle a_{j}|A|a_{j}\\rangle$. Para fazer essa prova escrevemos $|a_{j}\\rangle=\\sum_{k=1}^{d}\\langle b_{k}|a_{j}\\rangle|b_{k}\\rangle$:\n",
    "\\begin{align}\n",
    "\\sum_{j=1}^{d}\\langle a_{j}|A|a_{j}\\rangle & = \\sum_{j=1}^{d}\\left(\\sum_{k=1}^{d}\\langle b_{k}|a_{j}\\rangle|b_{k}\\rangle\\right)^{\\dagger}A\\sum_{l=1}^{d}\\langle b_{l}|a_{j}\\rangle|b_{l}\\rangle = \\sum_{j,k,l=1}^{d}\\langle b_{l}|a_{j}\\rangle\\langle b_{k}|a_{j}\\rangle^{*}\\langle b_{k}|A|b_{l}\\rangle \\\\ \n",
    "&= \\sum_{k,l=1}^{d}\\langle b_{l}|(\\sum_{j=1}^{d}|a_{j}\\rangle\\langle a_{j}|)|b_{k}\\rangle\\langle b_{k}|A|b_{l}\\rangle = \\sum_{k,l=1}^{d}\\langle b_{l}|\\mathbb{I}|b_{k}\\rangle\\langle b_{k}|A|b_{l}\\rangle = \\sum_{k,l=1}^{d}\\delta_{l,k}\\langle b_{k}|A|b_{l}\\rangle \\\\\n",
    "& = \\sum_{k=1}^{d}\\langle b_{k}|A|b_{k}\\rangle.\n",
    "\\end{align}\n",
    "\n",
    "4. Traço do produto externo<br>\n",
    "Vamos mostrar que para quaisquer dois vetores $|\\eta\\rangle,|\\xi\\rangle$ teremos $Tr(|\\eta\\rangle\\langle\\xi|)=\\langle\\xi|\\eta\\rangle$. Para isso usamos a invariância do traço por mudança de base para escolher uma base ortonormal que contenha um desses vetores. Por exemplo, usemos a base $\\{|b_{j}\\rangle\\}_{j=1}^{d}$ com $|b_{1}\\rangle=|\\eta\\rangle$. Assim\n",
    "\\begin{equation}\n",
    "Tr(|\\eta\\rangle\\langle\\xi|) =  \\sum_{j=1}^{d}\\langle b{j}|\\eta\\rangle\\langle\\xi|b_{j}\\rangle = \\sum_{j=1}^{d}\\langle b{j}|b_{1}\\rangle\\langle\\xi|b_{j}\\rangle = \\sum_{j=1}^{d}\\delta_{j,1}\\langle\\xi|b_{j}\\rangle = \\langle\\xi|b_{1}\\rangle = \\langle\\xi|\\eta\\rangle.\n",
    "\\end{equation}"
   ]
  },
  {
   "cell_type": "markdown",
   "metadata": {},
   "source": [
    "# Operadores positivos\n",
    "Um operador linear $A:\\mathcal{H}\\rightarrow\\mathcal{H}$ é dito positivo (positivo semidefinido, formalmente) se\n",
    "\\begin{equation}\n",
    "\\langle \\psi|A|\\psi\\rangle\\ge0\\text{, }\\forall|\\psi\\rangle\\in\\mathcal{H}.\n",
    "\\end{equation}\n",
    "Quando essa condição é satisfeita, usamos a notação $A\\ge\\mathbb{0}_{\\mathcal{H}}$.\n",
    "\n",
    "Alguns resultados relevantes relacionados:\n",
    "* Se o operador $A$ for positivo e normal, seus __autovalores__ são não negativos pois\n",
    "\\begin{align}\n",
    "\\langle \\psi|A|\\psi\\rangle & = \\langle \\psi|\\sum_{a}aP_{a}|\\psi\\rangle = \\sum_{a}a\\langle \\psi|P_{a}|\\psi\\rangle = \\sum_{a}a\\langle \\psi|\\langle a|\\psi\\rangle|a\\rangle \\\\\n",
    "& = \\sum_{a}a|\\langle a|\\psi\\rangle|^{2} \\ge 0.\n",
    "\\end{align}\n",
    "E para garantir a não negatividade do \"sanduíche\", devemos ter $a\\ge0\\text{, }\\forall a$."
   ]
  },
  {
   "cell_type": "markdown",
   "metadata": {},
   "source": [
    "* ### Teorema:\n",
    "Se um operador linear é positivo semidefinido ($A\\ge\\mathbb{0}_{\\mathcal{H}}$), então ele é Hermitiano ($A=A^{\\dagger}$). <br>\n",
    "#### Prova:\n",
    "Primeiro notemos que podemos escrever qualquer operador linear $A$ como:\n",
    "\\begin{equation}\n",
    "A=B+iC,\n",
    "\\end{equation}\n",
    "com $B=B^{\\dagger}$ e $C=C^{\\dagger}$. Uma possibilidade para esses operadores Hermitianos é: \n",
    "\\begin{equation}\n",
    "B=(A+A^{\\dagger})/2 \\text{ e } C=(A-A^{\\dagger})/2i.\n",
    "\\end{equation}\n",
    "__Exercício:__ Verifique que esses operadores são de fato Hermitianos e que quando subsituídos na expressão acima retornam $A$, como esperado. <br>\n",
    "Como $\\langle \\psi|A|\\psi\\rangle=\\langle A\\rangle_{\\psi}\\ge0$ teremos\n",
    "\\begin{equation}\n",
    "\\langle A\\rangle_{\\psi} = \\langle B\\rangle_{\\psi}+i\\langle C\\rangle_{\\psi}\\ge 0,\n",
    "\\end{equation}\n",
    "que implica que $\\langle C\\rangle_{\\psi}$ deve ser um número imaginário puro. Mas como $C=C^{\\dagger}$, sabemos que $\\langle C\\rangle_{\\psi}$ é real. A única maneira de satisfazer essas duas condições é com $\\langle C\\rangle_{\\psi}=0$. Mas assim vem que $\\langle (A-A^{\\dagger})\\rangle_{\\psi}=0$, que será satisfeita para um $|\\psi\\rangle$ qualquer somente de $A=A^{\\dagger}$, completando assim a prova do teorema."
   ]
  },
  {
   "cell_type": "markdown",
   "metadata": {},
   "source": [
    "* Para um operador linear qualquer $B:\\mathcal{H}\\rightarrow\\mathcal{H}$, temos que $A:=B^{\\dagger}\\circ B$ é um operador positivo pois\n",
    "\\begin{align}\n",
    "& \\langle \\psi|A|\\psi\\rangle = (|\\psi\\rangle,|A|\\psi\\rangle) = (|\\psi\\rangle,B^{\\dagger}\\circ B|\\psi\\rangle) = (B|\\psi\\rangle,B|\\psi\\rangle) \\\\\n",
    "& \\equiv (|\\phi\\rangle,|\\phi\\rangle) \\ge0.\n",
    "\\end{align}\n",
    "__Exercício:__ Da mesma forma, verifique que $B\\circ B^{\\dagger}\\ge\\mathbb{0}_{\\mathcal{H}}$. \n",
    "\n",
    "* Para $X,Y:\\mathcal{H}\\rightarrow\\mathcal{H}$, ao escrevermos $X\\ge Y$ queremos dizer que $A:=X-Y\\ge\\mathbb{0}_{\\mathcal{H}}$. Vamos verificar que $X\\ge Y\\Rightarrow \\langle X\\rangle_{\\psi} \\ge \\langle Y\\rangle_{\\psi}$. Teremos\n",
    "\\begin{align}\n",
    "\\langle (X- Y)\\rangle_{\\psi} & = \\langle\\psi|( X- Y)|\\psi\\rangle \\ge 0 \\\\\n",
    "& = \\langle\\psi|X|\\psi\\rangle - \\langle\\psi|Y|\\psi\\rangle = \\langle X\\rangle_{\\psi} - \\langle Y\\rangle_{\\psi}.\n",
    "\\end{align}\n",
    "Portanto $\\langle X\\rangle_{\\psi} - \\langle Y\\rangle_{\\psi}\\ge 0\\Rightarrow\\langle X\\rangle_{\\psi} \\ge \\langle Y\\rangle_{\\psi}$.\n",
    "\n",
    "* Qualquer menor principal de uma matriz Hermitiana positiva semidefinida também é positivo semidefinido. Em particular   $A\\ge\\mathbb{O}\\Rightarrow \\begin{bmatrix} A_{j,j} & A_{j,k} \\\\ A_{k,j} & A_{k,k} \\end{bmatrix} \\ge \\mathbb{O}\\forall j,k$. Os interessados podem encontrar a prova em [R.A. Horn e C.R. Johnson, Matrix Analysis (Cambridge University Press, 2013)].\n",
    "\n",
    "__Exercício:__ Verificar que se $J$ é uma matriz positiva e $U$ é uma matriz unitária, então $UJU^{\\dagger}$ também é uma matriz positiva.<br>"
   ]
  },
  {
   "cell_type": "code",
   "execution_count": null,
   "metadata": {},
   "outputs": [],
   "source": []
  }
 ],
 "metadata": {
  "kernelspec": {
   "display_name": "Python 3",
   "language": "python",
   "name": "python3"
  },
  "language_info": {
   "codemirror_mode": {
    "name": "ipython",
    "version": 3
   },
   "file_extension": ".py",
   "mimetype": "text/x-python",
   "name": "python",
   "nbconvert_exporter": "python",
   "pygments_lexer": "ipython3",
   "version": "3.6.4"
  }
 },
 "nbformat": 4,
 "nbformat_minor": 2
}
