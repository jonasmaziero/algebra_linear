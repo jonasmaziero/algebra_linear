{
 "cells": [
  {
   "cell_type": "markdown",
   "metadata": {},
   "source": [
    "## Notas de aula de Álgebra Linear <br> Autor: Jonas Maziero\n",
    "Link para os vídeos das aulas sobre este tópico: https://youtu.be/-lfIpROgC60, https://youtu.be/9lDYLldBhiE, https://youtu.be/U6yHPWciNjY, ."
   ]
  },
  {
   "cell_type": "code",
   "execution_count": 40,
   "metadata": {},
   "outputs": [],
   "source": [
    "%run init.ipynb"
   ]
  },
  {
   "cell_type": "markdown",
   "metadata": {},
   "source": [
    "# Operadores lineares\n",
    "Um operador linear é qualquer função $A:V\\rightarrow W$ que leva vetores do espaço vetorial $V$ em vetores do espaço vetorial $W$ e que é linear no seu domínio. Ou seja, para $c_{j}\\in\\mathbb{F}$ e $|v_{j}\\rangle\\in V$ devemos ter\n",
    "\\begin{equation}\n",
    "A\\left(\\sum_{j}c_{j}|v_{j}\\rangle\\right) := \\sum_{j}c_{j}A(|v_{j}\\rangle).\n",
    "\\end{equation}\n",
    "Além disso, exigiremos que se $A,B:V\\rightarrow W$ são operadores lineares, então $\\forall|v\\rangle\\in V$ e $\\alpha,\\beta\\in\\mathbb{F}$ devemos ter\n",
    "\\begin{equation}\n",
    "(\\alpha A+\\beta B)(|v\\rangle) := \\alpha A(|v\\rangle)+\\beta B(|v\\rangle).\n",
    "\\end{equation}\n",
    "\n",
    "_OBS:_ Quando $A:V\\rightarrow V$ dizemos que $A$ está definido em $V$. <br>\n",
    "_OBS:_ Dois operadores lineares particularmente importantes são o operador identidade, definido por\n",
    "\\begin{equation}\n",
    "\\mathbb{I}_{V}|v\\rangle=|v\\rangle\\text{, }\\forall |v\\rangle\\in V,\n",
    "\\end{equation}\n",
    "e o operador nulo, definido por\n",
    "\\begin{equation}\n",
    "\\mathbb{O}_{V}|v\\rangle=|\\oslash\\rangle\\text{, }\\forall |v\\rangle\\in V.\n",
    "\\end{equation}\n",
    "\n",
    "Como qualquer vetor $|v\\rangle\\in V$ pode ser escrito como uma combinação linear dos vetores de uma certa base $\\{|w_{j}\\rangle\\}_{j=1}^{\\dim V}$, i.e., $|v\\rangle=\\sum_{j}c_{j}|w_{j}\\rangle$ com $c_{j}\\in\\mathbb{F}$, se sabemos como um certo operador linear atua em uma base qualquer de $V$, sabemos como ele atua em todos os vetores de $V$ pois\n",
    "\\begin{equation}\n",
    "A(|v\\rangle) = A\\left(\\sum_{j}c_{j}|w_{j}\\rangle\\right)=\\sum_{j}c_{j}A(|w_{j}\\rangle). \n",
    "\\end{equation}"
   ]
  },
  {
   "cell_type": "markdown",
   "metadata": {},
   "source": [
    "## Matrizes são operadores lineares\n",
    "Considere matrizes retangulares $A\\in\\mathbb{C}^{m\\text{x}n}$. Não é difícil ver que para $|v\\rangle\\in\\mathbb{C}^{n}$ e $|v'\\rangle\\in\\mathbb{C}^{m}$ teremos\n",
    "\\begin{align}\n",
    "& \\begin{bmatrix} |v'\\rangle_{1} \\\\ |v'\\rangle_{2} \\\\ \\vdots \\\\ |v'\\rangle_{m} \\end{bmatrix} = \\begin{bmatrix} A_{1,1} & A_{1,2} & \\cdots & A_{1,n} \\\\ A_{2,1} & A_{2,2} & \\cdots & A_{2,n} \\\\ \\vdots & \\vdots & \\vdots & \\vdots \\\\ A_{m,1} & A_{m,2} & \\cdots & A_{m,n} \\end{bmatrix} \\begin{bmatrix} |v\\rangle_{1} \\\\ |v\\rangle_{2} \\\\ \\vdots \\\\ |v\\rangle_{n} \\end{bmatrix} \\Rightarrow |v'\\rangle_{j} = \\sum_{k=1}^{n}A_{j,k}|v\\rangle_{k}\\text{ para }j=1,\\cdots,m \\\\\n",
    "& \\text{ou, equivalentemente, } |v'\\rangle=A|v\\rangle.\n",
    "\\end{align}\n",
    "Ou seja, $A:\\mathbb{C}^{n}\\rightarrow\\mathbb{C}^{m}$. Para verificar linearidade consideremos $|w\\rangle,|w_{j}\\rangle\\in\\mathbb{C}^{n}$, $c_{j}\\in\\mathbb{C}$ e $|w\\rangle=\\sum_{j}c_{j}|w_{j}\\rangle$ e olhemos para\n",
    "\\begin{align}\n",
    "\\left(A\\sum_{j}c_{j}|w_{j}\\rangle\\right)_{k} &= (A|w\\rangle)_{k} = \\sum_{l}A_{k,l}|w\\rangle_{l} = \\sum_{l}A_{k,l}\\sum_{j}c_{j}|w_{j}\\rangle_{l} = \\sum_{j}c_{j}\\sum_{l}A_{k,l}|w_{j}\\rangle_{l} \\\\ \n",
    "&= \\sum_{j}c_{j}(A|w_{j}\\rangle)_{k},\n",
    "\\end{align}\n",
    "o que implica que $A\\left(\\sum_{j}c_{j}|w_{j}\\rangle\\right)=\\sum_{j}c_{j}A(|w_{j}\\rangle)$ e portanto que matrizes são operadores lineares. \n",
    "\n",
    "Ademais, como $(\\alpha A+\\beta B)_{j,k}=\\alpha A_{j,k}+\\beta B_{j,k}$, teremos que\n",
    "\\begin{align}\n",
    "((\\alpha A+\\beta B)(|v\\rangle))_{j} &= \\sum_{k}(\\alpha A+\\beta B)_{j,k}|v\\rangle_{k} = \\sum_{k}(\\alpha A_{j,k}+\\beta B_{j,k})|v\\rangle_{k} = \\alpha\\sum_{k}A_{j,k}|v\\rangle_{k} + \\beta\\sum_{k}B_{j,k}|v\\rangle_{k} \\\\ \n",
    "& = \\alpha(A|v\\rangle)_{j}+ \\beta(B|v\\rangle)_{j}\n",
    "\\end{align}\n",
    "e portanto $(\\alpha A+\\beta B)(|v\\rangle)= \\alpha A(|v\\rangle) + \\beta B(|v\\rangle)$.\n",
    "\n",
    "\n",
    "Os operadores identidade e nulo são identificados, respectivamente, com\n",
    "\\begin{equation}\n",
    "\\mathbb{I}=\\begin{bmatrix} 1 & 0 & \\cdots & 0 \\\\ 0 & 1 & \\cdots & 0 \\\\ \\vdots & \\vdots & \\vdots & \\vdots \\\\ 0 & 0 & \\cdots & 1 \\end{bmatrix} \\text{ e } \\mathbb{0}=\\begin{bmatrix} 0 & 0 & \\cdots & 0 \\\\ 0 & 0 & \\cdots & 0 \\\\ \\vdots & \\vdots & \\vdots & \\vdots \\\\ 0 & 0 & \\cdots & 0 \\end{bmatrix}.\n",
    "\\end{equation}"
   ]
  },
  {
   "cell_type": "markdown",
   "metadata": {},
   "source": [
    "## Representação matricial de operadores lineares\n",
    "Consideremos $A:V\\rightarrow W$ e duas bases $\\{|v_{j}\\rangle\\}_{j=1}^{\\dim V}$ de $V$ e $\\{|w_{k}\\rangle\\}_{k=1}^{\\dim W}$ de $W$. Sabemos que $A$ atuando em um vetor de $V$ retorna um vetor de $W$, i.e., $A(|v_{j}\\rangle)\\in W$, que por sua vez pode ser escrito como uma combinação linear dos vetores de qualquer uma das bases de $W$. Então podemos escrever\n",
    "\\begin{equation}\n",
    "A(|v_{j}\\rangle) = \\sum_{k=1}^{\\dim W}A_{k,j}|w_{k}\\rangle, \\text{ para } j=1,\\cdots,\\dim V,\n",
    "\\end{equation}\n",
    "onde os coeficientes da combinação linear, $A_{k,j}\\in\\mathbb{F}$, fornecem a representação matricial de $A$:\n",
    "\\begin{equation}\n",
    "A \\doteq \\begin{bmatrix} A_{1,1} & A_{1,2} & \\cdots & A_{1,\\dim V} \\\\ \n",
    "A_{2,1} & A_{2,2} & \\cdots & A_{2,\\dim V} \\\\ \n",
    "\\vdots & \\vdots & \\vdots & \\vdots \n",
    "\\\\ A_{\\dim W,1} & A_{\\dim W,2} & \\cdots & A_{\\dim W,\\dim V} \\end{bmatrix}.\n",
    "\\end{equation}\n",
    "\n",
    "##### Exemplo\n",
    "Considere a base $\\{|e_{1}\\rangle,|e_{2}\\rangle\\}$ e $A:V\\rightarrow V$ que atua como segue:\n",
    "\\begin{equation}\n",
    "A(|e_{1}\\rangle):=|e_{2}\\rangle \\text{ e } A(|e_{2}\\rangle):=|e_{1}\\rangle.\n",
    "\\end{equation}\n",
    "Teremos assim que\n",
    "\\begin{equation}\n",
    "A(|e_{1}\\rangle)=\\sum_{k=1}^{2}A_{k,1}|e_{k}\\rangle = A_{1,1}|e_{1}\\rangle+ A_{2,1}|e_{2}\\rangle \\text{ e } A(|e_{2}\\rangle)=\\sum_{k=1}^{2}A_{k,2}|e_{k}\\rangle = A_{1,2}|e_{1}\\rangle+ A_{2,2}|e_{k}\\rangle.\n",
    "\\end{equation}\n",
    "Então, comparando a definição com estas últimas relações teremos \n",
    "\\begin{equation}\n",
    "A \\doteq \\begin{bmatrix} A_{1,1} & A_{1,2} \\\\ A_{2,1} & A_{2,2} \\end{bmatrix} = \\begin{bmatrix} 0 & 1 \\\\ 1 & 0 \\end{bmatrix}.\n",
    "\\end{equation}\n",
    "\n",
    "### Representação matricial de vetores\n",
    "Note que fizemos o mesmo para vetores. Ou seja, se na base $\\{|w_{k}\\rangle\\}_{k=1}^{\\dim W}$ o vetor $|w\\rangle\\in W$ ($W$ é um espaço vetorial) é escrito como $|w\\rangle=\\sum_{j=1}^{\\dim W}c_{j}|w_{j}\\rangle$ dizemos que os coeficientes $c_{j}\\in\\mathbb{F}$ fornecem a representação matricial de $|w\\rangle$ naquela base:\n",
    "\\begin{equation}\n",
    "|w\\rangle \\doteq \\begin{bmatrix} c_{1} \\\\ c_{2} \\\\ \\vdots \\\\ c_{\\dim W} \\end{bmatrix}.\n",
    "\\end{equation}\n",
    "\n",
    "##### Exemplo\n",
    "Para uma base qualquer $\\{|v_{1}\\rangle,|v_{2}\\rangle\\}\\in\\mathbb{C}^{2}$, um vetor qualquer desse espaço é representado por\n",
    "\\begin{equation}\n",
    "|w\\rangle = 3|v_{1}\\rangle + 5|v_{2}\\rangle \\doteq \\begin{bmatrix}3\\\\5\\end{bmatrix}.\n",
    "\\end{equation}\n",
    "\n",
    "### Representação em bases ortonormais"
   ]
  },
  {
   "cell_type": "markdown",
   "metadata": {},
   "source": [
    "## Composição de operadores lineares\n",
    "Consideremos operadores lineares $A:V\\rightarrow W$ e $B:W\\rightarrow X$ e as seguintes bases para estes espaços vetoriais:  $\\{|v_{j}\\rangle\\}_{j=1}^{\\dim V}\\in V$,  $\\{|w_{j}\\rangle\\}_{j=1}^{\\dim W}\\in W$ e  $\\{|x_{j}\\rangle\\}_{j=1}^{\\dim X}\\in X$. Quando atuamos primeiro $A$ e depois $B$ (notação: $B\\circ A$) veremos que isso é equivalente a aplicar um único operador linear $C:V\\rightarrow X$, cuja representação matricial pode ser obtida daquelas de $A$ e  de $B$. Explicitando, para $j=1,\\cdots,\\dim V$ temos\n",
    "\\begin{equation}\n",
    "A(|v_{j}\\rangle) = \\sum_{k=1}^{\\dim W} A_{k,j}|w_{k}\\rangle.\n",
    "\\end{equation}\n",
    "Seguindo,\n",
    "\\begin{align}\n",
    "(B\\circ A)(|v_{j}\\rangle) & \\equiv B(A(|v_{j}\\rangle)) = B(\\sum_{k=1}^{\\dim W} A_{k,j}|w_{k}\\rangle) = \\sum_{k=1}^{\\dim W} A_{k,j}B(|w_{k}\\rangle) = \\sum_{k=1}^{\\dim W} A_{k,j}\\sum_{l=1}^{\\dim X}B_{l,k}|x_{l}\\rangle \\\\\n",
    "& = \\sum_{l=1}^{\\dim X}\\left(\\sum_{k=1}^{\\dim W} B_{l,k}A_{k,j}\\right)|x_{l}\\rangle =: \\sum_{l=1}^{\\dim X}C_{l,j}|x_{l}\\rangle =: C(|v_{j}\\rangle).\n",
    "\\end{align}"
   ]
  },
  {
   "cell_type": "markdown",
   "metadata": {},
   "source": [
    "# Autovalores e autovetores\n",
    "Se a ação de um operador linear $A:V\\rightarrow V$ não muda a \"direção\" de um vetor $|a\\rangle\\in V$, i.e., se \n",
    "\\begin{equation}\n",
    "A|a\\rangle\\propto |a\\rangle =: \\alpha_{a}|a\\rangle,\n",
    "\\end{equation}\n",
    "dizemos que $|a\\rangle$ é um autovetor de $A$ e que $\\alpha_{a}$ é o autovalor $A$ correpondente a esse autovetor. Note que $\\alpha_{a}$ nos indica quanto o tamanho do autovetor muda e se esse muda ou não de sentido sob a ação de $A$, pois $||\\alpha_{a}*|a\\rangle||=|\\alpha_{a}|*||a||$.\n",
    "\n",
    "#### Exemplo\n",
    "Considere o operador definido por $A(|e_{1}\\rangle)=|e_{2}\\rangle \\text{ e } A(|e_{2}\\rangle)=|e_{1}\\rangle$. Notamos que para $|a_{\\pm}\\rangle=|e_{1}\\rangle\\pm|e_{2}\\rangle$ teremos\n",
    "\\begin{equation}\n",
    "A|a_{\\pm}\\rangle = A(|e_{1}\\rangle\\pm|e_{2}\\rangle) = A|e_{1}\\rangle\\pm A|e_{2}\\rangle = |e_{2}\\rangle\\pm |e_{1}\\rangle = \\pm(|e_{1}\\rangle \\pm |e_{2}\\rangle) = (\\pm1)|a_{\\pm}\\rangle = \\alpha_{\\pm}|a_{\\pm}\\rangle.\n",
    "\\end{equation}\n",
    "Portanto $|a_{\\pm}\\rangle$ são autovetores de $A$ com autovalores correspondentes $\\alpha_{\\pm}=\\pm 1$.\n",
    "\n",
    "## Equação característica\n",
    "Vamos reescrever a equação de autovalores e autovetores acima da seguinte forma:\n",
    "\\begin{equation}\n",
    "A|a\\rangle=\\alpha_{a}\\mathbb{I}|a\\rangle \\hspace{0.3cm} \\therefore(A-\\alpha_{a}\\mathbb{I})|a\\rangle=|\\oslash\\rangle.\n",
    "\\end{equation}\n",
    "Note que se $A-\\alpha_{a}\\mathbb{I}$ possuir inversa, i.e., se $\\det(A-\\alpha_{a}\\mathbb{I})\\ne0$, então $|a\\rangle=|\\oslash\\rangle$. Para ter uma _solução não trivial_ devemos ter a chamada equação secular ou equação característica:\n",
    "\\begin{equation}\n",
    "\\det(A-\\alpha_{a}\\mathbb{I})=\\det\\begin{bmatrix} A_{1,1}-\\alpha_{a} & A_{1,2} & \\cdots & A_{1,\\dim V} \\\\ \n",
    "A_{2,1} & A_{2,2}-\\alpha_{a} & \\cdots & A_{2,\\dim V} \\\\ \n",
    "\\vdots & \\vdots & \\vdots & \\vdots \n",
    "\\\\ A_{\\dim V,1} & A_{\\dim V,2} & \\cdots & A_{\\dim V,\\dim V}-\\alpha_{a} \\end{bmatrix}=0.\n",
    "\\end{equation}\n",
    "Para um espaço vetorial de dimenção $n$, essa equação resulta em um polinômio de ordem $n$, chamado de polinômio característico:\n",
    "\\begin{equation}\n",
    "c_{n}\\alpha_{a}^{n}+c_{n-1}\\alpha_{a}^{n-1}+\\cdots+c_{2}\\alpha_{a}^{2}+c_{1}\\alpha_{a}+c_{0}=0,\n",
    "\\end{equation}\n",
    "que possui $n$ raízes complexas, que são os autovalores de $A$."
   ]
  },
  {
   "cell_type": "markdown",
   "metadata": {},
   "source": [
    "##### Exemplo\n",
    "Vamos calcular os autovalores e autovetores da matriz $\\sigma_{x}=\\begin{bmatrix}0&1\\\\1&0\\end{bmatrix}$. Para os autovalores:\n",
    "\\begin{equation}\n",
    "\\det(\\sigma_{y}-\\alpha_{a}\\mathbb{I}_{2}) = \\det\\begin{bmatrix}-\\alpha_{a}&1\\\\1&-\\alpha_{a}\\end{bmatrix}=\\alpha_{a}^{2}-1=0\\therefore \\alpha_{a}^{2}=1\\therefore \\alpha_{a}=\\pm 1.\n",
    "\\end{equation}\n",
    "Para os autovetores, se $\\alpha_{a}=1$ teremos\n",
    "\\begin{equation}\n",
    "\\begin{bmatrix}0&1\\\\1&0\\end{bmatrix}\\begin{bmatrix}x\\\\y\\end{bmatrix}=(1)\\begin{bmatrix}x\\\\y\\end{bmatrix}\\Rightarrow y=x:=1\\Rightarrow |\\alpha_{a}=1\\rangle = \\begin{bmatrix}1\\\\1\\end{bmatrix}.\n",
    "\\end{equation}\n",
    "Verificação\n",
    "\\begin{equation}\n",
    "\\begin{bmatrix}0&1\\\\1&0\\end{bmatrix}\\begin{bmatrix}1\\\\1\\end{bmatrix}=\\begin{bmatrix}1\\\\1\\end{bmatrix}=(1)\\begin{bmatrix}1\\\\1\\end{bmatrix}.\n",
    "\\end{equation}\n",
    "Para $\\alpha_{a}=-1$ teremos\n",
    "\\begin{equation}\n",
    "\\begin{bmatrix}0&1\\\\1&0\\end{bmatrix}\\begin{bmatrix}x\\\\y\\end{bmatrix}=(-1)\\begin{bmatrix}x\\\\y\\end{bmatrix}\\Rightarrow y=-x:=1\\Rightarrow |\\alpha_{a}=1\\rangle = \\begin{bmatrix}1\\\\-1\\end{bmatrix}.\n",
    "\\end{equation}\n",
    "Verificação\n",
    "\\begin{equation}\n",
    "\\begin{bmatrix}0&1\\\\1&0\\end{bmatrix}\\begin{bmatrix}1\\\\-1\\end{bmatrix}=\\begin{bmatrix}-1\\\\1\\end{bmatrix}=(-1)\\begin{bmatrix}1\\\\-1\\end{bmatrix}.\n",
    "\\end{equation}"
   ]
  },
  {
   "cell_type": "code",
   "execution_count": 5,
   "metadata": {},
   "outputs": [
    {
     "data": {
      "image/png": "[encoded data removed]",
      "text/latex": [
       "$$\\left [ \\left ( -1, \\quad 1, \\quad \\left [ \\left[\\begin{matrix}-1\\\\1\\end{matrix}\\right]\\right ]\\right ), \\quad \\left ( 1, \\quad 1, \\quad \\left [ \\left[\\begin{matrix}1\\\\1\\end{matrix}\\right]\\right ]\\right )\\right ]$$"
      ],
      "text/plain": [
       "⎡⎛       ⎡⎡-1⎤⎤⎞  ⎛      ⎡⎡1⎤⎤⎞⎤\n",
       "⎢⎜-1, 1, ⎢⎢  ⎥⎥⎟, ⎜1, 1, ⎢⎢ ⎥⎥⎟⎥\n",
       "⎣⎝       ⎣⎣1 ⎦⎦⎠  ⎝      ⎣⎣1⎦⎦⎠⎦"
      ]
     },
     "execution_count": 5,
     "metadata": {},
     "output_type": "execute_result"
    }
   ],
   "source": [
    "# Na lista abaixo aparecem (autovalor, multiplicidade, autovetor)\n",
    "a,b,c,d = symbols(\"a b c d\"); #A = Matrix([[a,b],[c,d]]); A.eigenvects()\n",
    "A = Matrix([[0,1],[1,0]]); A.eigenvects()"
   ]
  },
  {
   "cell_type": "markdown",
   "metadata": {},
   "source": [
    "---\n",
    "# Adjunto\n",
    "Seja $V$ um espaço de Hilbert. Então, por definição, para qualquer operador linear $A:\\mathcal{H}\\rightarrow \\mathcal{H}$ existe o operador adjunto a $A$, denotado por $A^{\\dagger}:\\mathcal{H}\\rightarrow \\mathcal{H}$, tal que\n",
    "\\begin{equation}\n",
    "(|v\\rangle,A|w\\rangle) = (A^{\\dagger}|v\\rangle,|w\\rangle)\\text{, }\\forall|v\\rangle,|w\\rangle\\in \\mathcal{H}.\n",
    "\\end{equation}\n",
    "\n",
    "Por conveniência, aqui usamos $(|x\\rangle,|y\\rangle)$ para o produto interno entre $|x\\rangle$ e $|y\\rangle$. Também usaremos a notação $A(|x\\rangle)\\equiv A|x\\rangle$ para o operador linear $A$ atuando no vetor $|x\\rangle$.\n",
    "\n",
    "Aplicando a definição de operador adjunto e as propriedades do produto interno, podemos verificar que o adjunto do adjunto, é o próprio operador:\n",
    "\\begin{align}\n",
    "& (A^{\\dagger}|v\\rangle,|w\\rangle) = (|v\\rangle,(A^{\\dagger})^{\\dagger}|w\\rangle) \\\\\n",
    "& = (|w\\rangle,A^{\\dagger}|v\\rangle)^{*} = (A|w\\rangle,|v\\rangle)^{*} = (|v\\rangle,A|w\\rangle), \\\\\n",
    "& \\therefore (A^{\\dagger})^{\\dagger}=A.\n",
    "\\end{align}\n",
    "Pode-se verificar também que $(c A)^{\\dagger}=c^{*}A^{\\dagger}$ e que $(A+B)^{\\dagger}=A^{\\dagger}+B^{\\dagger}$ para $c\\in\\mathbb{F}$ e $A,B:\\mathcal{H}\\rightarrow\\mathcal{H}$."
   ]
  },
  {
   "cell_type": "markdown",
   "metadata": {},
   "source": [
    "## A representação matricial de $A^{\\dagger}$ é a transposta conjugada daquela de $A$\n",
    "Para isso vamos considerar uma base ortonormal  $\\{|b_{j}\\rangle\\}_{j=1}^{\\dim V}\\in \\mathcal{H}$ e escrever $|v\\rangle = \\sum_{j=1}^{\\dim V}v_{j}|b_{j}\\rangle$ e $|w\\rangle = \\sum_{j=1}^{\\dim V}w_{j}|b_{j}\\rangle$. Assim\n",
    "\\begin{align}\n",
    "(|v\\rangle,A|w\\rangle) & = \\left(\\sum_{j=1}^{\\dim V}v_{j}|b_{j}\\rangle,A\\sum_{k=1}^{\\dim V}w_{k}|b_{k}\\rangle\\right) = \\left(\\sum_{j=1}^{\\dim V}v_{j}|b_{j}\\rangle,\\sum_{k=1}^{\\dim V}w_{k}A|b_{k}\\rangle\\right) \\\\ \n",
    "& = \\sum_{j,k=1}^{\\dim V}v^{*}_{j}w_{k}\\left(|b_{j}\\rangle,\\sum_{l=1}^{\\dim V}A_{l,k}|b_{l}\\rangle\\right) = \\sum_{j,k,l=1}^{\\dim V}v^{*}_{j}w_{k}A_{l,k}(|b_{j}\\rangle,|b_{l}\\rangle) = \\sum_{j,k,l=1}^{\\dim V}v^{*}_{j}w_{k}A_{l,k}\\delta_{j,l} \\\\ \n",
    "& = \\sum_{j,k=1}^{\\dim V}v^{*}_{j}w_{k}A_{j,k}\n",
    "\\end{align}\n",
    "e\n",
    "\\begin{align}\n",
    "(A^{\\dagger}|v\\rangle,|w\\rangle) & = \\left(A^{\\dagger}\\sum_{j=1}^{\\dim V}v_{j}|b_{j}\\rangle,\\sum_{k=1}^{\\dim V}w_{k}|b_{k}\\rangle\\right) = \\left(\\sum_{j=1}^{\\dim V}v_{j}A^{\\dagger}|b_{j}\\rangle,\\sum_{k=1}^{\\dim V}w_{k}|b_{k}\\rangle\\right) \\\\ \n",
    "& = \\sum_{j,k=1}^{\\dim V}v^{*}_{j}w_{k}\\left(\\sum_{l=1}^{\\dim V}(A^{\\dagger})_{l,j}|b_{l}\\rangle,|b_{k}\\rangle\\right)  = \\sum_{j,k,l=1}^{\\dim V}v^{*}_{j}w_{k}(A^{\\dagger})_{l,j}^{*}(|b_{l}\\rangle,|b_{k}\\rangle) = \\sum_{j,k,l=1}^{\\dim V}v^{*}_{j}w_{k}(A^{\\dagger})_{l,j}^{*}\\delta_{l,k} \\\\ \n",
    "& = \\sum_{j,k=1}^{\\dim V}v^{*}_{j}w_{k}(A^{\\dagger})_{k,j}^{*}.\n",
    "\\end{align}\n",
    "Ou seja,\n",
    "\\begin{equation}\n",
    "(|v\\rangle,A|w\\rangle) = (A^{\\dagger}|v\\rangle,|w\\rangle)\\Rightarrow (A^{\\dagger})_{j,k} = A_{k,j}^{*}\n",
    "\\end{equation}\n",
    "para a representação matricial desses operadores em uma base ortonormal."
   ]
  },
  {
   "cell_type": "markdown",
   "metadata": {},
   "source": [
    "## Adjunto da composição\n",
    "Para $A,B:\\mathcal{H}\\rightarrow\\mathcal{H}$, temos que \n",
    "\\begin{equation}\n",
    "(A\\circ B)^{\\dagger} = B^{\\dagger}\\circ A^{\\dagger},\n",
    "\\end{equation}\n",
    "o que pode ser verificado como segue:\n",
    "\\begin{align}\n",
    "& ((A\\circ B)|v\\rangle,|w\\rangle) = (|v\\rangle,(A\\circ B)^{\\dagger}|w\\rangle) \\\\\n",
    "& = (A(B|v\\rangle),|w\\rangle) = (B|v\\rangle,A^{\\dagger}|w\\rangle) = (|v\\rangle,B^{\\dagger}(A^{\\dagger}|w\\rangle)) \\\\\n",
    "& = (|v\\rangle,(B^{\\dagger}\\circ A^{\\dagger})|w\\rangle).\n",
    "\\end{align}"
   ]
  },
  {
   "cell_type": "markdown",
   "metadata": {},
   "source": [
    "# Projetores\n",
    "Seja $\\{|w_{j}\\rangle\\}_{j=1}^{\\dim W}$ uma __base ortonormal__ do subespaço de Hilbert $\\mathcal{W}$, que é subespaço do espaço de Hilbert $\\mathcal{V}$. O _projetor no subespaço $\\mathcal{W}$_ é um operador $P_{\\mathcal{W}}:\\mathcal{V}\\rightarrow \\mathcal{W}$ definido por\n",
    "\\begin{equation}\n",
    "P_{\\mathcal{W}}(|v\\rangle) := \\sum_{j=1}^{\\dim \\mathcal{W}}\\langle w_{j}|v\\rangle|w_{j}\\rangle,\n",
    "\\end{equation}\n",
    "com $|v\\rangle\\in \\mathcal{V}$.\n",
    "\n",
    "## Projetor em $\\mathbb{C}^{n}$\n",
    "Para $\\mathbb{C}^{n}$ temos $\\langle v|w\\rangle = |v\\rangle^{\\dagger}|w\\rangle$. Nesse caso usamos a notação\n",
    "\\begin{equation}\n",
    "|v\\rangle^{\\dagger} = \\langle v|\n",
    "\\end{equation}\n",
    "para qualquer vetor. Assim, teremos $P_{\\mathbb{C}^{n}}(|v\\rangle) = \\sum_{j=1}^{n}|w_{j}\\rangle|w_{j}\\rangle^{\\dagger}|v\\rangle = (\\sum_{j=1}^{n}|w_{j}\\rangle\\langle w_{j}|)|v\\rangle$. Por conseguinte, para este espaço vetorial, teremos\n",
    "\\begin{equation}\n",
    "P_{\\mathbb{C}^{n}} = \\sum_{j=1}^{n}|w_{j}\\rangle\\langle w_{j}|.\n",
    "\\end{equation}"
   ]
  },
  {
   "cell_type": "markdown",
   "metadata": {},
   "source": [
    "##### Exemplo\n",
    "Consideremos $\\mathcal{V}=\\mathbb{C}^{3}$, ou seja, todas as listas com 3 números complexos $\\left\\{\\begin{bmatrix}a&b&c\\end{bmatrix}^{T}\\right\\}$. Consideremos um subespaço $\\mathcal{W}\\subset\\mathcal{V}$ constituído por todas as listas com dois números complexos nas primeiras duas posições e o número zero na 3ª posição, i.e., $\\left\\{\\begin{bmatrix}a&b&0\\end{bmatrix}^{T}\\right\\}$, que é unicamente mapeado em $\\mathbb{C}^{2}$. Uma base para $\\mathcal{W}$ é \n",
    "\\begin{equation}\n",
    "\\{|w_{1}\\rangle,|w_{2}\\rangle\\}=\\left\\{\\begin{bmatrix}1&0&0\\end{bmatrix}^{T},\\begin{bmatrix}0&1&0\\end{bmatrix}^{T}\\right\\}.\n",
    "\\end{equation}\n",
    "Podemos escrever um projetor nesse subespaço como\n",
    "\\begin{align}\n",
    "P_{\\mathcal{W}} &= \\sum_{j=1}^{2}|w_{j}\\rangle\\langle w_{j}| = |w_{1}\\rangle|w_{1}\\rangle^{\\dagger}+|w_{2}\\rangle|w_{2}\\rangle^{\\dagger} \\\\\n",
    "&= \\begin{bmatrix}1\\\\0\\\\0\\end{bmatrix}\\begin{bmatrix}1&0&0\\end{bmatrix} + \\begin{bmatrix}0\\\\1\\\\0\\end{bmatrix}\\begin{bmatrix}0&1&0\\end{bmatrix} = \\begin{bmatrix}1&0&0\\\\0&0&0\\\\0&0&0\\end{bmatrix} + \\begin{bmatrix}0&0&0\\\\0&1&0\\\\0&0&0\\end{bmatrix} \\\\\n",
    "& = \\begin{bmatrix}1&0&0\\\\0&1&0\\\\0&0&0\\end{bmatrix}.\n",
    "\\end{align}\n",
    "\n",
    "Se atuamos este projetor em um vetor qualquer do espaço $\\mathcal{V}$ teremos\n",
    "\\begin{equation}\n",
    "P_{\\mathcal{W}}|v\\rangle = \\begin{bmatrix}1&0&0\\\\0&1&0\\\\0&0&0\\end{bmatrix}\\begin{bmatrix}v_{1}\\\\v_{2}\\\\v_{3}\\end{bmatrix} = \\begin{bmatrix}v_{1}\\\\v_{2}\\\\0\\end{bmatrix} \\in \\mathcal{W}.\n",
    "\\end{equation}"
   ]
  },
  {
   "cell_type": "markdown",
   "metadata": {},
   "source": [
    "## $P_{\\mathcal{W}}$ atua como $\\mathbb{I}_{\\mathcal{W}}$ nos vetores de $\\mathcal{W}$\n",
    "Consideremos um vetor qualquer $|w\\rangle\\in \\mathcal{W}$ decomposto na base ortonormal  $\\{|w_{j}\\rangle\\}_{j=1}^{\\dim \\mathcal{W}}$ como:\n",
    "\\begin{equation}\n",
    "|w\\rangle=\\sum_{j=1}^{\\dim W}\\langle w_{j}|w\\rangle|w_{j}\\rangle.\n",
    "\\end{equation}\n",
    "É facil ver assim que\n",
    "\\begin{equation}\n",
    "P_{\\mathcal{W}}(|w\\rangle) := \\sum_{j=1}^{\\dim W}\\langle w_{j}|v\\rangle|w_{j}\\rangle = |w\\rangle = \\mathbb{I}_{\\mathcal{W}}(|w\\rangle).\n",
    "\\end{equation}\n",
    "\n",
    "Sempre que $P_{\\mathcal{W}}= \\mathbb{I}_{\\mathcal{W}}$ dizemos que a base usada para definir o projetor é uma __base completa__.\n",
    "\n",
    "## Idempotência\n",
    "Podemos verificar que ao aplicar um projetor várias vezes obtemos o mesmo vetor:\n",
    "\\begin{align}\n",
    "(P_{\\mathcal{W}}\\circ P_{\\mathcal{W}})(|v\\rangle) &= P_{\\mathcal{W}}(P_{\\mathcal{W}}(|v\\rangle)) = P_{\\mathcal{W}}\\left(\\sum_{j=1}^{\\dim\\mathcal{W}}\\langle w_{j}|v\\rangle|w_{j}\\rangle\\right) \\\\\n",
    "& = \\sum_{k=1}^{\\dim\\mathcal{W}}\\left(|w_{k}\\rangle,\\left(\\sum_{j=1}^{\\dim\\mathcal{W}}\\langle w_{j}|v\\rangle|w_{j}\\rangle\\right)\\right)|w_{k}\\rangle = \\sum_{k,j=1}^{\\dim\\mathcal{W}}\\langle w_{j}|v\\rangle(|w_{k}\\rangle,|w_{j}\\rangle)|w_{k}\\rangle \\\\\n",
    "& = \\sum_{k,j=1}^{\\dim\\mathcal{W}}\\langle w_{j}|v\\rangle\\delta_{k,j}|w_{k}\\rangle = \\sum_{j=1}^{\\dim\\mathcal{W}}\\langle w_{j}|v\\rangle|w_{j}\\rangle \\\\\n",
    "& = P_{\\mathcal{W}}(|v\\rangle).\n",
    "\\end{align}"
   ]
  },
  {
   "cell_type": "markdown",
   "metadata": {},
   "source": [
    "## Projetores em subespaços ortogonais\n",
    "Para \n",
    "\\begin{align}\n",
    "& P_{\\mathcal{W}}(|v\\rangle) = \\sum_{j=1}^{\\dim \\mathcal{W}}\\langle w_{j}|v\\rangle|w_{j}\\rangle \\text{ e } P_{\\mathcal{X}}(|v\\rangle) = \\sum_{k=1}^{\\dim \\mathcal{X}}\\langle x_{k}|v\\rangle|x_{k}\\rangle, \\\\\n",
    "& \\text{com } \\langle x_{j}|w_{k}\\rangle=0\\ \\forall j,k, \n",
    "\\end{align}\n",
    "teremos\n",
    "\\begin{align}\n",
    "(P_{\\mathcal{W}}\\circ P_{\\mathcal{X}})|v\\rangle &= P_{\\mathcal{W}}(P_{\\mathcal{X}}|v\\rangle) = P_{\\mathcal{W}}\\left(\\sum_{k=1}^{\\dim \\mathcal{X}}\\langle x_{k}|v\\rangle|x_{k}\\rangle\\right) = \\sum_{k=1}^{\\dim \\mathcal{X}}\\langle x_{k}|v\\rangle P_{\\mathcal{W}}(|x_{k}\\rangle) \\\\\n",
    "& = \\sum_{k=1}^{\\dim \\mathcal{X}}\\langle x_{k}|v\\rangle\\sum_{j=1}^{\\dim \\mathcal{W}}\\langle w_{j}|x_{k}\\rangle|w_{j}\\rangle = \\sum_{k=1}^{\\dim \\mathcal{X}}\\langle x_{k}|v\\rangle\\sum_{j=1}^{\\dim \\mathcal{W}}0|w_{j}\\rangle =|\\oslash\\rangle \\\\\n",
    "&= \\mathbb{O}_{\\mathcal{V}}|v\\rangle.\n",
    "\\end{align}"
   ]
  },
  {
   "cell_type": "markdown",
   "metadata": {},
   "source": [
    "## Autovalores e autovetores de projetores\n",
    "Os autovalores de um projetor são iguais a $0$ ou $1$. \n",
    "\n",
    "Para isso consideremos a equação de autovalores e autovetores $P_{\\mathcal{W}}|p\\rangle=\\lambda_{p}|p\\rangle$. Agora consideramos\n",
    "\\begin{align}\n",
    "(P_{\\mathcal{W}}\\circ P_{\\mathcal{W}})|p\\rangle &= P_{\\mathcal{W}}(P_{\\mathcal{W}}|p\\rangle) = P_{\\mathcal{W}}(\\lambda_{p}|p\\rangle) = \\lambda_{p}P_{\\mathcal{W}}(|p\\rangle) = \\lambda_{p}^{2}|p\\rangle \\\\\n",
    "& = (P_{\\mathcal{W}})|p\\rangle =  P_{\\mathcal{W}}|p\\rangle = \\lambda_{p}|p\\rangle.\n",
    "\\end{align}\n",
    "Devemos ter portanto que $\\lambda_{p}^{2}=\\lambda_{p}$, que é satisfeito somente para $\\lambda_{p}=0$ ou $\\lambda_{p}=1$.\n",
    "\n",
    "Com relação aos autovetores, como para qualquer vetor do espaço de Hilbert $\\mathcal{V}$ que só possui componentes não nulas no subespaço $\\mathcal{W}$, ou seja, para vetores que podem ser escritos como $|\\lambda_{1}\\rangle=\\sum_{j=1}^{\\dim\\mathcal{W}}\\langle w_{j}|\\lambda_{1}\\rangle|w_{j}\\rangle$, temos \n",
    "\\begin{equation}\n",
    "P_{\\mathcal{W}}|\\lambda_{1}\\rangle=|\\lambda_{1}\\rangle=(1)|\\lambda_{1}\\rangle.\n",
    "\\end{equation}\n",
    "Por conseguinte, esses autovetores correspondem ao autovalores $\\lambda_{p}=1$. \n",
    "\n",
    "Por outro lado, consideremos a seguinte base ortonormal para $\\mathcal{V}$:\n",
    "\\begin{equation}\n",
    "\\left\\{\\left\\{|w_{j}\\rangle\\right\\}_{j=1}^{\\dim\\mathcal{W}},\\left\\{|w^{\\perp}_{k}\\rangle\\right\\}_{k=\\dim\\mathcal{W}+1}^{\\dim\\mathcal{V}}\\right\\} \\text{ com } \\langle w_{j}|w^{\\perp}_{k}\\rangle=0\\forall j,k.\n",
    "\\end{equation}\n",
    "Consideremos vetores que estão \"fora\" do subespaço $\\mathcal{W}$, i.e., vetores que podem ser escritos como $|\\lambda_{0}\\rangle=\\sum_{k=\\dim\\mathcal{W}+1}^{\\dim\\mathcal{V}}\\langle w^{\\perp}_{k}|\\lambda_{0}\\rangle|w^{\\perp}_{k}\\rangle $. Nesse caso é fácil ver que\n",
    "\\begin{equation}\n",
    "P_{\\mathcal{W}}|\\lambda_{0}\\rangle=\\mathbb{O}_{\\mathcal{V}}|\\lambda_{0}\\rangle=|\\oslash\\rangle=0|\\lambda_{0}\\rangle.\n",
    "\\end{equation}\n",
    "\n",
    "Vetores que possuem componentes não nulas tanto em $\\mathcal{W}$ como fora desse subespaço não são autovetores de $P_{\\mathcal{W}}$."
   ]
  },
  {
   "cell_type": "markdown",
   "metadata": {},
   "source": [
    "## Adjunto de projetores\n",
    "Vamos verificar que o operador adjunto de um projetor é ele mesmo. Considera $\\forall|a\\rangle,|b\\rangle\\in\\mathcal{H}$:\n",
    "\\begin{align}\n",
    "(P_{\\mathcal{W}}^{\\dagger}|a\\rangle,|b\\rangle) &= (|a\\rangle,P_{\\mathcal{W}}(|b\\rangle)) = \\left(|a\\rangle,\\sum_{j}\\langle w_{j}|b\\rangle|w_{j}\\rangle\\right)  \\\\\n",
    "&= \\sum_{j}\\langle w_{j}|b\\rangle(|a\\rangle,|w_{j}\\rangle) = \\sum_{j}\\langle w_{j}|b\\rangle\\langle w_{j}|a\\rangle^{*} \\\\\n",
    "& = \\sum_{j}\\langle w_{j}|a\\rangle^{*}(|w_{j}\\rangle,|b\\rangle) = \\left(\\sum_{j}\\langle w_{j}|a\\rangle|w_{j}\\rangle,|b\\rangle\\right) \\\\\n",
    "&= \\left(P_{\\mathcal{W}}|a\\rangle,|b\\rangle\\right).\n",
    "\\end{align}\n",
    "Ou seja,\n",
    "\\begin{equation}\n",
    "P_{\\mathcal{W}}^{\\dagger} \\equiv P_{\\mathcal{W}}.\n",
    "\\end{equation}"
   ]
  },
  {
   "cell_type": "markdown",
   "metadata": {},
   "source": [
    "## Complemento ortonormal\n",
    "O complemento ortonormal de um projetor $P_{\\mathcal{W}}$ no subespaço $\\mathcal{W}\\subseteq \\mathcal{V}$ é definido como o projetor $P_{\\mathcal{W}^{\\perp}}$ tal que\n",
    "\\begin{equation}\n",
    "P_{\\mathcal{W}}+P_{\\mathcal{W}^{\\perp}}=\\mathbb{I}_{\\mathcal{W}}.\n",
    "\\end{equation}\n",
    "Para esses projetores, teremos $\\forall |v\\rangle\\in\\mathcal{V}$\n",
    "\\begin{align}\n",
    "P_{\\mathcal{W}}\\circ P_{\\mathcal{W}^{\\perp}}(|v\\rangle) & = P_{\\mathcal{W}}\\circ(\\mathbb{I}_{V}-P_{\\mathcal{W}})(|v\\rangle) = P_{\\mathcal{W}}\\circ\\mathbb{I}_{\\mathcal{W}}(|v\\rangle)-P_{\\mathcal{W}}\\circ P_{\\mathcal{W}}(|v\\rangle) \\\\\n",
    "&= P_{\\mathcal{W}}(|v\\rangle)-P_{\\mathcal{W}}(|v\\rangle) = \\mathbb{O}_{\\mathcal{W}}(|v\\rangle).\n",
    "\\end{align}\n",
    "\n",
    "##### Exemplo\n",
    "Para o vetor $|e_{1}\\rangle=\\begin{bmatrix} 1 & 1 & 0 \\end{bmatrix}^{T}/\\sqrt{2}\\in\\mathbb{C}^{3}$, consideremos o projetor $P_{e_{1}}=|e_{1}\\rangle\\langle e_{1}|=\\frac{1}{2}\\begin{bmatrix} 1 \\\\ 1 \\\\ 0 \\end{bmatrix}\\begin{bmatrix} 1 & 1 & 0 \\end{bmatrix}=\\frac{1}{2}\\begin{bmatrix} 1 & 1 & 0 \\\\ 1 & 1 & 0 \\\\ 0 & 0 & 0 \\end{bmatrix}$. O complemento ortonormal desse projetor é\n",
    "\\begin{equation}\n",
    "P_{e_{1}^{\\perp}} = \\mathbb{I}_{3}-P_{e_{1}} = \\begin{bmatrix} 1 & 0 & 0 \\\\ 0 & 1 & 0 \\\\ 0 & 0 & 1 \\end{bmatrix}-\\frac{1}{2}\\begin{bmatrix} 1 & 1 & 0 \\\\ 1 & 1 & 0 \\\\ 0 & 0 & 0 \\end{bmatrix} = \\begin{bmatrix} 1/2 & -1/2 & 0 \\\\ -1/2 & 1/2 & 0 \\\\ 0 & 0 & 1 \\end{bmatrix}.\n",
    "\\end{equation}\n",
    "Claro,\n",
    "\\begin{align}\n",
    "P_{e_{1}}\\circ P_{e_{1}^{\\perp}}|v\\rangle &= \\begin{bmatrix} 1 & 1 & 0 \\\\ 1 & 1 & 0 \\\\ 0 & 0 & 0 \\end{bmatrix}\\begin{bmatrix} 1/2 & -1/2 & 0 \\\\ -1/2 & 1/2 & 0 \\\\ 0 & 0 & 1 \\end{bmatrix}\\begin{bmatrix} v_{1} \\\\ v_{2} \\\\ v_{3} \\end{bmatrix} \\\\ \n",
    "& =  \\begin{bmatrix} 1 & 1 & 0 \\\\ 1 & 1 & 0 \\\\ 0 & 0 & 0 \\end{bmatrix}\\begin{bmatrix} (v_{1}-v_{2})/2 \\\\ -(v_{1}-v_{2})/2 \\\\ v_{3} \\end{bmatrix} = \\begin{bmatrix} 0 \\\\ 0 \\\\ 0 \\end{bmatrix}.\n",
    "\\end{align}"
   ]
  },
  {
   "cell_type": "markdown",
   "metadata": {},
   "source": [
    "---\n",
    "# Operadores normais\n",
    "Um operador $A$ definido no espaço de Hilbert $\\mathcal{H}$ é dito normal se\n",
    "\\begin{equation}\n",
    "A\\circ A^{\\dagger} = A^{\\dagger}\\circ A.\n",
    "\\end{equation}\n",
    "\n",
    "## Teorema da decomposição espectral\n",
    "Existe uma base ortonormal de $\\mathcal{H}$ constituída por autovetores do operador linear $A:\\mathcal{H}\\rightarrow\\mathcal{H}$ se e somente se este for normal.\n",
    "\n",
    "### Prova"
   ]
  },
  {
   "cell_type": "markdown",
   "metadata": {},
   "source": [
    "#### 1ª parte\n",
    "Vamos começar assumindo a _existência de uma base ortonormal_ $\\{|a\\rangle\\}\\in\\mathcal{H}$ de autovetores de $A$, i.e.,\n",
    "\\begin{equation}\n",
    "A|a\\rangle := \\alpha_{a}|a\\rangle.\n",
    "\\end{equation}\n",
    "Consideremos o _projetor unidimensional_ aplicado a um vetor qualquer $|v\\rangle\\in\\mathcal{H}$:\n",
    "\\begin{equation}\n",
    "P_{a}(|v\\rangle)=\\langle a|v\\rangle |a\\rangle.\n",
    "\\end{equation}\n",
    "Ademais, podemos escrever $|v\\rangle=\\sum_{a}\\langle a|v\\rangle|a\\rangle$. Assim\n",
    "\\begin{align}\n",
    "A(|v\\rangle) &= A\\left(\\sum_{a}\\langle a|v\\rangle|a\\rangle\\right) = \\sum_{a}\\langle a|v\\rangle A(|a\\rangle) = \\sum_{a}\\langle a|v\\rangle \\alpha_{a}(|a\\rangle) \\\\ \n",
    "& = \\sum_{a} \\alpha_{a}\\langle a|v\\rangle(|a\\rangle) = \\sum_{a} \\alpha_{a}P_{a}(|v\\rangle).\n",
    "\\end{align}\n",
    "Essa é a chamada __decomposição espectral__ do operador linear $A$:\n",
    "\\begin{equation}\n",
    "A = \\sum_{a} \\alpha_{a}P_{a}.\n",
    "\\end{equation}\n",
    "\n",
    "Notemos que como $\\forall|v\\rangle\\in\\mathcal{H}$ podemos escrever $|v\\rangle=\\sum_{a}\\langle a|v\\rangle|a\\rangle$, teremos que\n",
    "\\begin{equation}\n",
    "\\left(\\sum_{a}P_{a}\\right)(|v\\rangle) = \\sum_{a}P_{a}(|v\\rangle) = \\sum_{a}\\langle a|v\\rangle|a\\rangle = |v\\rangle = \\mathbb{I}_{\\mathcal{H}}|v\\rangle.\n",
    "\\end{equation}\n",
    "Portanto, nesse caso, temos a chamada __relação de completeza__ ou resolução da unidade:\n",
    "\\begin{equation}\n",
    "\\sum_{a}P_{a}=\\mathbb{I}_{\\mathcal{H}}.\n",
    "\\end{equation}"
   ]
  },
  {
   "cell_type": "markdown",
   "metadata": {},
   "source": [
    "Se existe a base ortonormal $\\{|a\\rangle\\}$ de autovetores de $A$, pela decomposição espectral $A=\\sum_{a}\\alpha_{a}P_{a}$ teremos que\n",
    "\\begin{equation}\n",
    "A^{\\dagger}=\\left(\\sum_{a}\\alpha_{a}P_{a}\\right)^{\\dagger}=\\sum_{a}\\alpha_{a}^{*}P_{a}^{\\dagger}=\\sum_{a}\\alpha_{a}^{*}P_{a}.\n",
    "\\end{equation}\n",
    "Portanto os autovalores $A^{\\dagger}$ são obtidos tomando-se o complexo conjugado dos autovalores de $A$, e os autovetores desses operadores são os mesmos, pois\n",
    "\\begin{align}\n",
    "A^{\\dagger}|a\\rangle &= \\sum_{a'}\\alpha_{a'}^{*}P_{a'}|a\\rangle = \\sum_{a'}\\alpha_{a'}^{*}\\langle a'|a\\rangle|a'\\rangle \\\\\n",
    "&= \\sum_{a'}\\alpha_{a'}^{*}\\delta_{a,a'}|a'\\rangle = \\alpha_{a}^{*}|a\\rangle.\n",
    "\\end{align}\n",
    "\n",
    "OBS. Isso não é necessariamente o caso para operadores que não são normais. Como exemplo considere a matriz $A=\\begin{bmatrix}i&0\\\\1&-1\\end{bmatrix}$. Veja os autovalores e autovetores dessa matriz e de sua adjunta mostrados abaixo."
   ]
  },
  {
   "cell_type": "code",
   "execution_count": 39,
   "metadata": {},
   "outputs": [
    {
     "data": {
      "image/png": "[encoded data removed]",
      "text/latex": [
       "$$\\left ( \\left[\\begin{matrix}1.0 i & 0\\\\1 & -1\\end{matrix}\\right], \\quad \\left[\\begin{matrix}- 1.0 i & 1\\\\0 & -1\\end{matrix}\\right], \\quad \\left[\\begin{matrix}1.0 & 1.0 i\\\\- 1.0 i & 2\\end{matrix}\\right], \\quad \\left[\\begin{matrix}2.0 & -1\\\\-1 & 1\\end{matrix}\\right]\\right )$$"
      ],
      "text/plain": [
       "⎛⎡1.0⋅ⅈ  0 ⎤  ⎡-1.0⋅ⅈ  1 ⎤  ⎡ 1.0    1.0⋅ⅈ⎤  ⎡2.0  -1⎤⎞\n",
       "⎜⎢         ⎥, ⎢          ⎥, ⎢             ⎥, ⎢       ⎥⎟\n",
       "⎝⎣  1    -1⎦  ⎣  0     -1⎦  ⎣-1.0⋅ⅈ    2  ⎦  ⎣-1   1 ⎦⎠"
      ]
     },
     "execution_count": 39,
     "metadata": {},
     "output_type": "execute_result"
    }
   ],
   "source": [
    "A = Matrix([[1j,0],[1,-1]]); Ad = Dagger(A); A, Ad, A*Ad, Ad*A"
   ]
  },
  {
   "cell_type": "code",
   "execution_count": 10,
   "metadata": {},
   "outputs": [
    {
     "data": {
      "image/png": "[encoded data removed]",
      "text/latex": [
       "$$\\left ( \\left [ \\left ( -1.0, \\quad 1, \\quad \\left [ \\left[\\begin{matrix}0\\\\1.0\\end{matrix}\\right]\\right ]\\right ), \\quad \\left ( 1.0 i, \\quad 1, \\quad \\left [ \\left[\\begin{matrix}1.0 + 1.0 i\\\\1.0\\end{matrix}\\right]\\right ]\\right )\\right ], \\quad \\left [ \\left ( -1.0, \\quad 1, \\quad \\left [ \\left[\\begin{matrix}-0.5 - 0.5 i\\\\1.0\\end{matrix}\\right]\\right ]\\right ), \\quad \\left ( - 1.0 i, \\quad 1, \\quad \\left [ \\left[\\begin{matrix}1.0\\\\0\\end{matrix}\\right]\\right ]\\right )\\right ]\\right )$$"
      ],
      "text/plain": [
       "⎛⎡⎛         ⎡⎡ 0 ⎤⎤⎞  ⎛          ⎡⎡1.0 + 1.0⋅ⅈ⎤⎤⎞⎤  ⎡⎛         ⎡⎡-0.5 - 0.5⋅ⅈ⎤\n",
       "⎜⎢⎜-1.0, 1, ⎢⎢   ⎥⎥⎟, ⎜1.0⋅ⅈ, 1, ⎢⎢           ⎥⎥⎟⎥, ⎢⎜-1.0, 1, ⎢⎢            ⎥\n",
       "⎝⎣⎝         ⎣⎣1.0⎦⎦⎠  ⎝          ⎣⎣    1.0    ⎦⎦⎠⎦  ⎣⎝         ⎣⎣    1.0     ⎦\n",
       "\n",
       "⎤⎞  ⎛           ⎡⎡1.0⎤⎤⎞⎤⎞\n",
       "⎥⎟, ⎜-1.0⋅ⅈ, 1, ⎢⎢   ⎥⎥⎟⎥⎟\n",
       "⎦⎠  ⎝           ⎣⎣ 0 ⎦⎦⎠⎦⎠"
      ]
     },
     "execution_count": 10,
     "metadata": {},
     "output_type": "execute_result"
    }
   ],
   "source": [
    "A.eigenvects(), Ad.eigenvects()"
   ]
  },
  {
   "cell_type": "markdown",
   "metadata": {},
   "source": [
    "Com isso podemos escrever\n",
    "\\begin{align}\n",
    "(A\\circ A^{\\dagger})(|v\\rangle) & = \\left(\\sum_{a} \\alpha_{a}P_{a}\\right)\\circ\\left(\\sum_{a'} \\alpha_{a'}^{*}P_{a'}\\right)(|v\\rangle) = \\left(\\sum_{a} \\alpha_{a}P_{a}\\right)\\circ\\left(\\sum_{a'} \\alpha_{a'}^{*}P_{a'}(|v\\rangle)\\right) \\\\\n",
    "& = \\sum_{a,a'} \\alpha_{a} \\alpha_{a'}^{*}P_{a}(P_{a'}(|v\\rangle)) = \\sum_{a,a'} \\alpha_{a} \\alpha_{a'}^{*}(P_{a}\\circ P_{a'})(|v\\rangle) = \\sum_{a,a'} \\alpha_{a} \\alpha_{a'}^{*}(\\delta_{\\alpha_{a},\\alpha_{a'}}P_{a})(|v\\rangle) \\\\ \n",
    "& = \\sum_{a}|\\alpha_{a}|^{2}P_{a}(|v\\rangle).\n",
    "\\end{align}\n",
    "Pode-se verificar também que \n",
    "\\begin{align}\n",
    "(A^{\\dagger}\\circ A)(|v\\rangle) &=\\left(\\left(\\sum_{a}\\alpha_{a}^{*}P_{a}\\right)\\circ\\left(\\sum_{a'} \\alpha_{a'}P_{a'}\\right)\\right)|v\\rangle = \\sum_{a,a'}\\alpha_{a}^{*}\\alpha_{a'}(P_{a}\\circ P_{a'})|v\\rangle \\\\\n",
    "& = \\sum_{a,a'}\\alpha_{a}^{*}\\alpha_{a'}(\\delta_{a,a'}P_{a})|v\\rangle = \\sum_{a}|\\alpha_{a}|^{2}P_{a}(|v\\rangle).\n",
    "\\end{align}\n",
    "Por conseguinte,\n",
    "\\begin{equation}\n",
    "\\left(\\exists\\{|a\\rangle\\}\\mid A=\\sum_{a}\\alpha_{a}P_{a}\\text{ com }P_{a}P_{a'}=\\delta_{\\alpha_{a},\\alpha_{a'}}P_{a}\\text{ e }\\sum_{a}P_{a}=\\mathbb{I}_{\\mathcal{H}}\\right)\\Rightarrow A\\circ A^{\\dagger}=A^{\\dagger}\\circ A.\n",
    "\\end{equation}"
   ]
  },
  {
   "cell_type": "markdown",
   "metadata": {},
   "source": [
    "#### 2ª parte\n",
    "Aqui assumiremos que __$A$ é normal__, i.e. que $A\\circ A^{\\dagger}=A^{\\dagger}\\circ A$, e mostraremos que existe uma base ortonormal que o diagonaliza. Começamos considerando o autovalor $\\alpha_{a}$ de $A$ e o projetor $P_{a}$ no subespaço $\\mathcal{H}_{a}$ de $\\mathcal{H}$ gerado pelos autovetores de $A$ correspondentes ao autovalor $\\alpha_{a}$. Note que aqui estamos assumindo a existência desses autovetores, e estamos considerando a possibilidade da existência de degerescência dos autovalores (que é quando existe 2 ou mais autovetores correspondentes ao mesmo autovalor). Seja $P_{a^{\\perp}}$ o complemento ortonormal de  $P_{a}$. Segue assim que\n",
    "\\begin{align}\n",
    "A & = \\mathbb{I}_{\\mathcal{H}}\\circ A\\circ \\mathbb{I}_{\\mathcal{H}} = (P_{a}+P_{a^{\\perp}})\\circ A\\circ(P_{a}+P_{a^{\\perp}}) \\\\\n",
    "& = P_{a}\\circ A\\circ P_{a} + P_{a}\\circ A\\circ P_{a^{\\perp}} + P_{a^{\\perp}}\\circ A\\circ P_{a} + P_{a^{\\perp}}\\circ A\\circ P_{a^{\\perp}}.\n",
    "\\end{align}\n",
    "Agora, $\\forall|v\\rangle\\in\\mathcal{H}$, temos que\n",
    "\\begin{align}\n",
    "(A\\circ P_{a})(|v\\rangle) & = A(P_{a}(|v\\rangle)) = A\\left(\\sum_{a}\\langle a|v\\rangle|a\\rangle\\right) = \\sum_{a}\\langle a|v\\rangle A(|a\\rangle) \\\\ \n",
    "& = \\sum_{a}\\langle a|v\\rangle \\alpha_{a}|a\\rangle = \\alpha_{a}\\sum_{a}\\langle a|v\\rangle|a\\rangle \\\\ \n",
    "& = \\alpha_{a}P_{a}(|v\\rangle),\n",
    "\\end{align}\n",
    "em que colocamos $\\alpha_{a}$ em evidência pois este é o mesmo para todos os autovetores $|a\\rangle$ em $\\mathcal{H}_{a}$. Pode-se mostrar de forma análoga que \n",
    "\\begin{equation}\n",
    "P_{a}\\circ A=\\alpha_{a}P_{a}.\n",
    "\\end{equation}\n",
    "\n",
    "Assim\n",
    "\\begin{align}\n",
    "& P_{a}\\circ A\\circ P_{a} = P_{a}\\circ \\alpha_{a}P_{a} = \\alpha_{a} P_{a}\\circ P_{a} = \\alpha_{a}P_{a}, \\\\\n",
    "& P_{a^{\\perp}}\\circ A\\circ P_{a} = P_{a^{\\perp}}\\circ \\alpha_{a}P_{a}=\\alpha_{a}P_{a^{\\perp}}\\circ P_{a}=\\mathbb{O}_{\\mathcal{H}}, \\\\\n",
    "& P_{a}\\circ A\\circ P_{a^{\\perp}} = \\alpha_{a}P_{a}\\circ P_{a^{\\perp}} = \\mathbb{O}_{\\mathcal{H}}.\n",
    "\\end{align}"
   ]
  },
  {
   "cell_type": "markdown",
   "metadata": {},
   "source": [
    "Juntando esses resultados obtemos\n",
    "\\begin{equation}\n",
    "A = \\alpha_{a}P_{a} + \\mathbb{O}_{\\mathcal{H}} + \\mathbb{O}_{\\mathcal{H}} + P_{a^{\\perp}}\\circ A\\circ P_{a^{\\perp}} = \\alpha_{a}P_{a} + P_{a^{\\perp}}\\circ A\\circ P_{a^{\\perp}}.\n",
    "\\end{equation}\n",
    "Seguindo, verifiquemos que o operador $\\tilde{A}:=P_{a^{\\perp}}\\circ A\\circ P_{a^{\\perp}}$ também é normal se $A$ é normal\n",
    "\\begin{align}\n",
    "& (P_{a^{\\perp}}\\circ A\\circ P_{a^{\\perp}})^{\\dagger}\\circ(P_{a^{\\perp}}\\circ A\\circ P_{a^{\\perp}}) \\\\\n",
    "& = P_{a^{\\perp}}\\circ A^{\\dagger}\\circ P_{a^{\\perp}}\\circ P_{a^{\\perp}}\\circ A\\circ P_{a^{\\perp}} = P_{a^{\\perp}}\\circ A^{\\dagger}\\circ P_{a^{\\perp}}\\circ A\\circ P_{a^{\\perp}} \\\\ \n",
    "& = P_{a^{\\perp}}\\circ A^{\\dagger}\\circ(\\mathbb{0}_{\\mathcal{H}}+ P_{a^{\\perp}}\\circ A\\circ P_{a^{\\perp}}) = P_{a^{\\perp}}\\circ A^{\\dagger}\\circ(P_{a}\\circ A\\circ P_{a^{\\perp}} + P_{a^{\\perp}}\\circ A\\circ P_{a^{\\perp}}) \\\\ \n",
    "& = P_{a^{\\perp}}\\circ A^{\\dagger}\\circ((P_{a}+P_{a^{\\perp}})\\circ A\\circ P_{a^{\\perp}}) = P_{a^{\\perp}}\\circ A^{\\dagger}\\circ (\\mathbb{I}_{\\mathcal{H}}\\circ A\\circ P_{a^{\\perp}}) = P_{a^{\\perp}}\\circ A^{\\dagger}\\circ A\\circ P_{a^{\\perp}} \\\\\n",
    "& = P_{a^{\\perp}}\\circ A\\circ A^{\\dagger}\\circ P_{a^{\\perp}} = P_{a^{\\perp}}\\circ A\\circ\\mathbb{I}_{\\mathcal{H}}\\circ A^{\\dagger}\\circ P_{a^{\\perp}} = P_{a^{\\perp}}\\circ A\\circ(P_{a}+P_{a^{\\perp}})\\circ A^{\\dagger}\\circ P_{a^{\\perp}} \\\\\n",
    "& = (P_{a^{\\perp}}\\circ A\\circ P_{a}+P_{a^{\\perp}}\\circ A\\circ P_{a^{\\perp}})\\circ A^{\\dagger}\\circ P_{a^{\\perp}} =  (\\mathbb{O}_{\\mathcal{H}}+P_{a^{\\perp}}\\circ A\\circ P_{a^{\\perp}})\\circ A^{\\dagger}\\circ P_{a^{\\perp}} \\\\\n",
    "& = (P_{a^{\\perp}}\\circ A\\circ P_{a^{\\perp}})\\circ(P_{a^{\\perp}}\\circ A^{\\dagger}\\circ P_{a^{\\perp}})= (P_{a^{\\perp}}\\circ A\\circ P_{a^{\\perp}})\\circ(P_{a^{\\perp}}\\circ A\\circ P_{a^{\\perp}})^{\\dagger}.\n",
    "\\end{align}\n",
    "\n",
    "Assim, se repetimos o procedimento feito anteriormente para $A$ no caso de $\\tilde{A}$ teremos\n",
    "\\begin{equation}\n",
    "A = \\alpha_{a}P_{a} + \\alpha_{\\tilde{a}}P_{\\tilde{a}} + P_{\\tilde{a}^{\\perp}}\\circ \\tilde{A}\\circ P_{\\tilde{a}^{\\perp}},\n",
    "\\end{equation}\n",
    "com $\\tilde{\\tilde{A}}:=P_{\\tilde{a}^{\\perp}}\\circ \\tilde{A}\\circ P_{\\tilde{a}^{\\perp}}$ sendo também um operador normal. Então, se repetimos esse processo até completarmos o espaço, i.e., até que $P_{a}+P_{\\tilde{a}}+P_{\\tilde{\\tilde{a}}}+\\cdots=\\mathbb{I}_{\\mathcal{H}}$, teremos obtido a decomposição espectral de $A$. Com isso completamos a prova do teorema\n",
    "\\begin{equation}\n",
    "A\\circ A^{\\dagger}=A^{\\dagger}\\circ A\\Rightarrow \\left(\\exists{\\{P_{a}\\}}\\mid \\sum_{a}P_{a}=\\mathbb{I}_{\\mathcal{H}}, P_{a}P_{a'}=\\delta_{\\alpha_{a},\\alpha_{a'}}P_{a} \\text{ e }A=\\sum_{a}\\alpha_{a}P_{a}\\right).\n",
    "\\end{equation}"
   ]
  },
  {
   "cell_type": "markdown",
   "metadata": {},
   "source": [
    "# Operadores Hermitianos\n",
    "Esses são os operadores usados em Mecânica Quântica para descrever quantidades observáveis experimentalmente. Um operador linear $A:\\mathcal{H}\\rightarrow\\mathcal{H}$ é dito Hermitiano se seu adjunto for ele próprio, i.e.,\n",
    "\\begin{equation}\n",
    "A^{\\dagger}=A.\n",
    "\\end{equation}\n",
    "_OBS:_ Se um operador linear $A:\\mathcal{H}\\rightarrow\\mathcal{H}$ é Hermitiano, ele também é normal e por conseguinte possui uma decomposição espectral em uma base ortonormal. Então, se $A|a\\rangle=a|a\\rangle$ e $A|a'\\rangle=a'|a'\\rangle$ com $a\\ne a'$, devemos ter $\\langle a|a'\\rangle=0$, i.e., os autovetores correspondentes são ortogonais.\n",
    "\n",
    "### Teorema\n",
    "Operadores Hermitianos possuem autovalores reais e seus autovetores correspondentes a autovalores diferentes são ortogonais.\n",
    "\n",
    "#### Prova\n",
    "Consideremos um par qualquer de autovalores de $A$, i.e., consideremos $A|a\\rangle=a|a\\rangle$ e $A|a'\\rangle=a'|a'\\rangle$. Temos assim que\n",
    "\\begin{align}\n",
    "& (|a\\rangle,A^{\\dagger}|a'\\rangle) = (|a\\rangle,A|a'\\rangle) = (|a\\rangle,a'|a'\\rangle) = a'(|a\\rangle,|a'\\rangle) \\\\\n",
    "& = (A|a\\rangle,|a'\\rangle) = (a|a\\rangle,|a'\\rangle) = a^{*}(|a\\rangle,|a'\\rangle).\n",
    "\\end{align}\n",
    "Portanto $(a^{*}-a')\\langle a|a'\\rangle=0$. Vemos assim que se $a=a'$, como $\\langle a|a\\rangle\\ne 0$, devemos ter $a^{*}-a=\\Re(a)-i\\Im(a)-\\Re(a)-i\\Im(a)=-2i\\Im(a)=0\\therefore a\\in\\mathbb{R}$. Agora, se $a\\ne a'$  devemos ter $(\\Re(a)-\\Re(a'))\\langle a|a'\\rangle=0 \\therefore \\langle a|a'\\rangle=0$."
   ]
  },
  {
   "cell_type": "markdown",
   "metadata": {},
   "source": [
    "## Valor médio\n",
    "Em Mecânica Quântica, em algumas situações, o valor médio de um operador linear $A$ é escrito como:\n",
    "\\begin{equation}\n",
    "\\langle A\\rangle_{\\psi} := \\langle\\psi|A|\\psi\\rangle,\n",
    "\\end{equation}\n",
    "com $|\\psi\\rangle$ sendo um vetor do espaço no qual $A$ atua.\n",
    "\n",
    "### Teorema\n",
    "O valor médio de um operador Hermitiano é um número real: $A=A^{\\dagger}\\Rightarrow\\langle A\\rangle_{\\psi}\\in\\mathbb{R}$.\n",
    "#### Prova\n",
    "Consideramos $A=A^{\\dagger}=\\sum_{j}a_{j}P_{j}$, com os projetores 1D definidos como usual ($P_{j}|v\\rangle=\\langle a_{j}|v\\rangle|a_{j}\\rangle$) e $a_{j}\\in\\mathbb{R}$. Vamos expandir o vetor qualquer $|\\psi\\rangle$ na base de autovetores de $A$: $|\\psi\\rangle=\\sum_{j}c_{j}|a_{j}\\rangle$. Como isso vem que\n",
    "\\begin{align}\n",
    "\\langle A\\rangle_{\\psi} &= \\langle\\psi|A|\\psi\\rangle = \\sum_{j} c_{j}^{*}\\langle a_{j}|\\sum_{k}a_{k}P_{k}\\sum_{l}c_{l}|a_{l}\\rangle \\\\\n",
    "& = \\sum_{j,k,l} c_{j}^{*}c_{l}a_{k}\\langle a_{j}|P_{k}|a_{l}\\rangle = \\sum_{j,k,l} c_{j}^{*}c_{l}a_{k}\\langle a_{j}|\\langle a_{k}|a_{l}\\rangle|a_{k}\\rangle \\\\\n",
    "& = \\sum_{j}|c_{j}|^{2}a_{j} \\in \\mathbb{R}.\n",
    "\\end{align}"
   ]
  },
  {
   "cell_type": "markdown",
   "metadata": {},
   "source": [
    "## Operadores anti-Hermitianos\n",
    "Pode-se verificar que operadores anti-Hermitianos, que são definidos por \n",
    "\\begin{equation}\n",
    "A^{\\dagger}=-A,\n",
    "\\end{equation}\n",
    "possuem autovalores que são números imaginários puros e que seus autovetores correspondentes a autovalores diferentes são ortogonais. Pode-se verificar também que o valor médio de um operador anti-Hermitiano é um número imaginário puro. Ou seja, se $A^{\\dagger}|\\alpha\\rangle=\\alpha|\\alpha\\rangle$ então $\\Re(\\alpha)=0$ and $\\Re(\\langle\\psi|A|\\psi\\rangle)=0\\ \\forall|\\psi\\rangle\\in\\mathcal{H}$."
   ]
  },
  {
   "cell_type": "markdown",
   "metadata": {},
   "source": [
    "---\n",
    "# Comutador e anti-comutador\n",
    "O __comutador__ entre dois operadores lineares $A,B:\\mathcal{H}\\rightarrow\\mathcal{H}$ é um operador em $\\mathcal{H}$ deinido por\n",
    "\\begin{equation}\n",
    "[A,B] := A\\circ B - B\\circ A.\n",
    "\\end{equation}\n",
    "É direto ver que $[B,A]=B\\circ A-A\\circ B=-(-B\\circ A+A\\circ B)=-[A,B]$. \n",
    "\n",
    "A importância do comutador é que se $[A,B]=\\mathbb{0}$, então $A\\circ B=B\\circ A$ e a ordem com que esses operadores são aplicados não faz diferença. Caso contrário, obteremos diferentes vetores mudando a ordem de aplicação dos operadores. \n",
    "\n",
    "OBS. Poderíamos ter definido _operadores normais_ como sendo aqueles operadores que comutam com seu adjunto:\n",
    "\\begin{equation}\n",
    "[A,A^{\\dagger}] = \\mathbb{O}\\Rightarrow A\\text{ é normal}.\n",
    "\\end{equation}\n",
    "\n",
    "O __anti-comutador__ entre dois operadores lineares $A,B:\\mathcal{H}\\rightarrow\\mathcal{H}$ é o operador linear definido como\n",
    "\\begin{equation}\n",
    "[A,B]_{+}\\equiv\\{A,B\\} := A\\circ B+B\\circ A.\n",
    "\\end{equation}\n",
    "É direto ver que $\\{B,A\\}=B\\circ A+A\\circ B=A\\circ B+B\\circ A=\\{A,B\\}$."
   ]
  },
  {
   "cell_type": "markdown",
   "metadata": {},
   "source": [
    "### Algumas propriedades:\n",
    "Para $X,Y,Z:\\mathcal{H}\\rightarrow\\mathcal{H}$ e $\\forall|v\\rangle\\in\\mathcal{H}$ teremos\n",
    "\\begin{align}\n",
    "[X,Y+Z]|v\\rangle &= ((X\\circ(Y+Z)-(Y+Z)\\circ X)|v\\rangle = ((X\\circ(Y+Z))|v\\rangle-((Y+Z)\\circ X)|v\\rangle \\\\\n",
    "&= X((Y+Z)|v\\rangle)-(Y+Z)(X|v\\rangle) = X(Y|v\\rangle+Z|v\\rangle)-(Y(X|v\\rangle)+Z(X|v\\rangle)) \\\\\n",
    "&= X(Y|v\\rangle)+X(Z|v\\rangle)-Y(X|v\\rangle)-Z(X|v\\rangle) = (X\\circ Y-Y\\circ X)|v\\rangle)+(X\\circ Z-Z\\circ X)|v\\rangle \\\\\n",
    "&= ([X,Y]+[X,Z])|v\\rangle.\n",
    "\\end{align}\n",
    "Pode-se verificar também que $[X+Y,Z] = [X,Z]+[Y,Z]$. \n",
    "\n",
    "Teremos também que\n",
    "\\begin{align}\n",
    "Y\\circ[X,Z]+[X,Y]\\circ Z &= (Y\\circ(X\\circ Z)-Y\\circ(Z\\circ X)+((X\\circ Y)\\circ Z-(Y\\circ X)\\circ Z) \\\\\n",
    "&= X\\circ (Y\\circ Z) - (Y\\circ Z)\\circ X \\\\ \n",
    "&= [X,Y\\circ Z].\n",
    "\\end{align}\n",
    "Pode-se verificar de forma análoga que $[X\\circ Y,Z] = X\\circ[Y,Z] + [X,Z]\\circ Y$."
   ]
  },
  {
   "cell_type": "markdown",
   "metadata": {},
   "source": [
    "##### Exemplo\n",
    "A matriz identidade $2\\mathrm{x}2$ e as matrizes de Pauli são definidas por:\n",
    "\\begin{equation}\n",
    "\\mathbb{I}_{2} \\equiv \\sigma_{0} := \\begin{bmatrix} 1&0\\\\0&1 \\end{bmatrix}\\text{, }\n",
    "\\sigma_{x} \\equiv \\sigma_{1} := \\begin{bmatrix} 0&1\\\\1&0 \\end{bmatrix}\\text{, }\n",
    "\\sigma_{y} \\equiv \\sigma_{2} := \\begin{bmatrix} 0&-i\\\\i&0 \\end{bmatrix}\\text{, }\n",
    "\\sigma_{z} \\equiv \\sigma_{3} := \\begin{bmatrix} 1&0\\\\0&-1 \\end{bmatrix}\\text{, }\n",
    "\\end{equation}\n",
    "\n",
    "Verifica-se, usando os códigos abaixo, que o produto de duas matrizes de Pauli pode ser escrito de forma geral como\n",
    "\\begin{equation}\n",
    "\\sigma_{j}\\sigma_{k}=\\delta_{j,k}\\sigma_{0}+sgn(j,k,l)i\\sigma_{l},  \\hspace{0.2cm}  j,k=1,2,3.\n",
    "\\end{equation}\n",
    "Portanto as matrizes de Pauli satisfazem a relação de comutação\n",
    "\\begin{equation}\n",
    "[\\sigma_{j},\\sigma_{k}]= 2sgn(j,k,l)i\\sigma_{l},  \\hspace{0.2cm}  j,k=1,2,3,\n",
    "\\end{equation}\n",
    "Ademais, vemos que as matrizes de Pauli anticomutam:\n",
    "\\begin{equation}\n",
    "\\{\\sigma_{j},\\sigma_{k}\\} := \\mathbb{O}_{\\mathbb{C}^{2}}, \\hspace{0.2cm} \\forall j\\ne k \\text{ e } j,k=1,2,3.\n",
    "\\end{equation}\n",
    "Já \n",
    "\\begin{equation}\n",
    "\\{\\sigma_{j},\\sigma_{j}\\}=2\\sigma_{0} \\text{ para}j=1,2,3.\n",
    "\\end{equation}"
   ]
  },
  {
   "cell_type": "code",
   "execution_count": 52,
   "metadata": {},
   "outputs": [
    {
     "data": {
      "image/png": "[encoded data removed]",
      "text/latex": [
       "$$\\left ( \\left[\\begin{matrix}1 & 0\\\\0 & 1\\end{matrix}\\right], \\quad \\left[\\begin{matrix}0 & 1\\\\1 & 0\\end{matrix}\\right], \\quad \\left[\\begin{matrix}0 & - 1.0 i\\\\1.0 i & 0\\end{matrix}\\right], \\quad \\left[\\begin{matrix}1 & 0\\\\0 & -1\\end{matrix}\\right]\\right )$$"
      ],
      "text/plain": [
       "⎛⎡1  0⎤  ⎡0  1⎤  ⎡  0    -1.0⋅ⅈ⎤  ⎡1  0 ⎤⎞\n",
       "⎜⎢    ⎥, ⎢    ⎥, ⎢             ⎥, ⎢     ⎥⎟\n",
       "⎝⎣0  1⎦  ⎣1  0⎦  ⎣1.0⋅ⅈ    0   ⎦  ⎣0  -1⎦⎠"
      ]
     },
     "execution_count": 52,
     "metadata": {},
     "output_type": "execute_result"
    }
   ],
   "source": [
    "s0=id(2); s1=pauli(1); s2=pauli(2); s3=pauli(3); s0,s1,s2,s3"
   ]
  },
  {
   "cell_type": "code",
   "execution_count": 53,
   "metadata": {},
   "outputs": [
    {
     "data": {
      "image/png": "[encoded data removed]",
      "text/latex": [
       "$$\\left ( \\left[\\begin{matrix}1 & 0\\\\0 & 1\\end{matrix}\\right], \\quad \\left[\\begin{matrix}1.0 & 0\\\\0 & 1.0\\end{matrix}\\right], \\quad \\left[\\begin{matrix}1 & 0\\\\0 & 1\\end{matrix}\\right], \\quad \\left[\\begin{matrix}1.0 i & 0\\\\0 & - 1.0 i\\end{matrix}\\right], \\quad \\left[\\begin{matrix}- 1.0 i & 0\\\\0 & 1.0 i\\end{matrix}\\right], \\quad \\left[\\begin{matrix}0 & -1\\\\1 & 0\\end{matrix}\\right], \\quad \\left[\\begin{matrix}0 & 1\\\\-1 & 0\\end{matrix}\\right], \\quad \\left[\\begin{matrix}0 & 1.0 i\\\\1.0 i & 0\\end{matrix}\\right], \\quad \\left[\\begin{matrix}0 & - 1.0 i\\\\- 1.0 i & 0\\end{matrix}\\right]\\right )$$"
      ],
      "text/plain": [
       "⎛⎡1  0⎤  ⎡1.0   0 ⎤  ⎡1  0⎤  ⎡1.0⋅ⅈ    0   ⎤  ⎡-1.0⋅ⅈ    0  ⎤  ⎡0  -1⎤  ⎡0   1\n",
       "⎜⎢    ⎥, ⎢        ⎥, ⎢    ⎥, ⎢             ⎥, ⎢             ⎥, ⎢     ⎥, ⎢     \n",
       "⎝⎣0  1⎦  ⎣ 0   1.0⎦  ⎣0  1⎦  ⎣  0    -1.0⋅ⅈ⎦  ⎣  0     1.0⋅ⅈ⎦  ⎣1  0 ⎦  ⎣-1  0\n",
       "\n",
       "⎤  ⎡  0    1.0⋅ⅈ⎤  ⎡  0     -1.0⋅ⅈ⎤⎞\n",
       "⎥, ⎢            ⎥, ⎢              ⎥⎟\n",
       "⎦  ⎣1.0⋅ⅈ    0  ⎦  ⎣-1.0⋅ⅈ    0   ⎦⎠"
      ]
     },
     "execution_count": 53,
     "metadata": {},
     "output_type": "execute_result"
    }
   ],
   "source": [
    "s1*s1, s2*s2, s3*s3, s1*s2, s2*s1, s1*s3, s3*s1, s2*s3, s3*s2 "
   ]
  },
  {
   "cell_type": "code",
   "execution_count": 41,
   "metadata": {},
   "outputs": [
    {
     "data": {
      "image/png": "[encoded data removed]",
      "text/latex": [
       "$$A B - B A$$"
      ],
      "text/plain": [
       "A⋅B - B⋅A"
      ]
     },
     "execution_count": 41,
     "metadata": {},
     "output_type": "execute_result"
    }
   ],
   "source": [
    "# Para cálculos simbólicos envolvendo comutadores usar:\n",
    "A = Symbol(\"A\", commutative = False); B = Symbol(\"B\", commutative = False); comm(A,B)"
   ]
  },
  {
   "cell_type": "markdown",
   "metadata": {},
   "source": [
    "# Teorema (diagonalização simultânea)\n",
    "Dois operadores lineares Hermitianos $A,B:\\mathcal{H}\\rightarrow\\mathcal{H}$ compartilham a mesma base de autovetores se e somente se comutarem, i.e.,\n",
    "\\begin{equation}\n",
    "A=\\sum_{j}a_{j}P_{j}\\text{ e }B=\\sum_{j}b_{j}P_{j}\\Leftrightarrow [A,B]=\\mathbb{0}_{\\mathcal{H}}.\n",
    "\\end{equation}\n",
    "\n",
    "## Prova\n",
    "Começamos assumindo que $A$ e $B$ são diagonalizados na mesma base ortonormal. Assim\n",
    "\\begin{align}\n",
    "[A,B] & = \\left[\\sum_{j}a_{j}P_{j},\\sum_{k}b_{k}P_{k}\\right] = \\sum_{j,k}a_{j}b_{k}[P_{j},P_{k}] \\\\\n",
    "& = \\sum_{j,k}a_{j}b_{k}(P_{j}\\circ P_{k} -P_{k}\\circ P_{j}) = \\sum_{j,k}a_{j}b_{k}(\\delta_{j,k}P_{j} - \\delta_{k,j}P_{k}) \\\\\n",
    "& = \\sum_{j}a_{j}b_{j}(P_{j} - P_{j}) = \\mathbb{0}_{\\mathcal{H}}.\n",
    "\\end{align}\n",
    "Seguindo, assumimos que $A\\circ B=B\\circ A$. Assim, considerando que a decomposição espectral de $A$ é $A=\\sum_{j}a_{j}P_{j}$, teremos\n",
    "\\begin{equation}\n",
    "A\\circ B\\circ P_{j} =  B\\circ A\\circ P_{j} = B\\circ A\\circ P_{j} = B\\circ a_{j}P_{j} = a_{j}B\\circ P_{j}.\n",
    "\\end{equation}\n",
    "Para que essa relação seja verdaderia, $B$ deve levar vetores do subespaço gerado pelos autovetores de $A$ correspondentes ao autovalor $a_{j}$ em vetores desse mesmo subespaço. Mas se isso ocorre, como $B$ é Herminiano, deve existir uma base ortonormal desse subespaço que é constituída por autovetores de $B$. E isso implica que existe uma base comum de autovetores de $A$ e $B$, completando assim a prova do teorema. \n",
    "\n",
    "Uma maneira mais fácil de entender esta última parte da prova é a seguinte. Consideremos a eq. de autovalores e autovetores: $A|a_{j}^{(k)}\\rangle=a_{j}|a_{j}^{(k)}\\rangle$ com $k=1,\\cdots,\\dim\\mathcal{H}_{j}$. Note que $\\mathcal{H}_{j}\\subseteq\\mathcal{H}$ é o subespaço gerado pelo autovetores de $A$ correspondentes ao autovalor $a_{j}$. Agora,\n",
    "\\begin{align}\n",
    "A(B|a_{j}^{(k)}\\rangle) & = (A\\circ B)(|a_{j}^{(k)}\\rangle) = (B\\circ A)(|a_{j}^{(k)}\\rangle) =B(A(|a_{j}^{(k)}\\rangle)) = B(a_{j}(|a_{j}^{(k)}\\rangle)) \\\\\n",
    "& = a_{j}(B|a_{j}^{(k)}\\rangle).\n",
    "\\end{align}\n",
    "Ou seja $B|a_{j}^{(k)}\\rangle$ também é autovetor de $A$ com autovalor $a_{j}$. Portanto $B|a_{j}^{(k)}\\rangle\\in \\mathcal{H}_{j}$. Como $B$ é Hermitiano, existe uma base de $\\mathcal{H}_{j}$ que o diagonaliza, e que também diagonaliza $A$. $\\hspace{2cm} \\square$\n",
    "\n",
    "OBS. Pode-se verificar que para $A|a_{j}^{(k)}\\rangle=a_{j}|a_{j}^{(k)}\\rangle$, verifique que se $|v_{j}\\rangle=\\sum_{k=1}^{\\dim\\mathcal{H}_{k}}c_{k}|a_{j}^{(k)}\\rangle$ então $A|v_{j}\\rangle=a_{j}|v_{j}\\rangle$, com $c_{k}\\in\\mathbb{F}$. Ou seja, qualquer combinação linear dos autovetores de um operador linear também é um autovetor desse operador, correspondente ao mesmo autovalor."
   ]
  },
  {
   "cell_type": "markdown",
   "metadata": {},
   "source": [
    "# Operadores unitários\n",
    "São utilizados para descrever a dinâmica de sistemas quânticos. Um operador (ou matriz) $A:\\mathcal{H}\\rightarrow\\mathcal{H}$ é dito unitário se\n",
    "\\begin{equation}\n",
    "A^{\\dagger}\\circ A = A\\circ A^{\\dagger}=\\mathbb{I}_{\\mathcal{H}}.\n",
    "\\end{equation}\n",
    "Ou seja, o adjunto de um operador unitário é igual a sua inversa: $A^{\\dagger}=A^{-1}$.\n",
    "\n",
    "Na sequência apresentamos várias propriedades importantes de operadores unitários:\n",
    "\n",
    "* Se $A$ for um operador unitário então\n",
    "\\begin{align}\n",
    "&\\det(AA^{\\dagger}) = \\det(A)\\det(A^{\\dagger})= \\det(A)\\det(A)^{*} = |\\det(A)|^{2} \\\\\n",
    "&=\\det(\\mathbb{I})=1,\\\\\n",
    "& \\therefore |\\det(A)|=\\pm1.\n",
    "\\end{align}\n",
    "\n",
    "* O adjunto de um operador unitário é um operador unitário:\n",
    "\\begin{equation}\n",
    "A^{\\dagger}(A^{\\dagger})^{\\dagger}=A^{\\dagger}A=\\mathbb{I} = AA^{\\dagger} =(A^{\\dagger})^{\\dagger}A^{\\dagger}.\n",
    "\\end{equation}\n",
    "\n",
    "* O produto de dois operadores unitários é um operador unitário:\n",
    "\\begin{equation}\n",
    "(AB)^{\\dagger}(AB)=B^{\\dagger}A^{\\dagger}AB = B^{\\dagger}\\mathbb{I}B = \\mathbb{I} = A\\mathbb{I}A^{\\dagger} = ABB^{\\dagger}A^{\\dagger} = AB(AB)^{\\dagger}.\n",
    "\\end{equation}"
   ]
  },
  {
   "cell_type": "markdown",
   "metadata": {},
   "source": [
    "* Operadores unitários preservam o produto interno. Ou seja, para  $\\forall|v\\rangle,|w\\rangle\\in\\mathcal{H}$ teremos\n",
    "\\begin{equation}\n",
    "(A|v\\rangle,A|w\\rangle) = (A^{\\dagger}\\circ A|v\\rangle,|w\\rangle) = (\\mathbb{I}_{\\mathcal{H}}|v\\rangle,|w\\rangle) = (|v\\rangle,|w\\rangle).\n",
    "\\end{equation}\n",
    "Claro, se operadores unitários preservam o produto interno, também preservam a norma: $||v||=||U|v\\rangle||$.\n",
    "\n",
    "* Os autovalores de um operador unitário são números complexos com módulo igual a 1. Para ver isso onsideramos $A|a\\rangle=a|a\\rangle$ para ver que\n",
    "\\begin{align}\n",
    "& (A|a\\rangle,A|a\\rangle) = (a|a\\rangle,a|a\\rangle) = a^{*}a(|a\\rangle,|a\\rangle) = |a|^{2}\\langle a|a\\rangle \\\\ \n",
    "& (A^{\\dagger}\\circ A|a\\rangle,|a\\rangle) = (\\mathbb{I}_{\\mathcal{H}}|a\\rangle,|a\\rangle) = \\langle a|a\\rangle.\n",
    "\\end{align}\n",
    "Portando $|a|=1$ e os autovalores da matriz unitária devem ter a forma $a=e^{i\\theta_{a}}\\therefore |a|=1$.\n",
    "\n",
    "* O conjunto de vetores linha de uma matriz unitária $A\\in\\mathbb{C}^{n\\text{x}n}$ é um conjunto ortonormal:\n",
    "\\begin{align}\n",
    "\\langle L_{j}^{A}|L_{k}^{A}\\rangle & = |L_{j}^{A}\\rangle^{\\dagger}L_{k}^{A}\\rangle  = \\begin{bmatrix}A_{j,1}^{*} & A_{j,2}^{*} & \\cdots & A_{j,n}^{*}\\end{bmatrix}\\begin{bmatrix}A_{k,1} \\\\ A_{k,2} \\\\ \\vdots \\\\ A_{k,n}\\end{bmatrix} \\\\\n",
    "& = A_{j,1}^{*}A_{k,1}+A_{j,2}^{*}A_{k,2}+\\cdots+A_{j,n}^{*}A_{k,n} = \\sum_{l=1}^{n}A_{k,l}(A^{\\dagger})_{l,j} = (AA^{\\dagger})_{k,j} = (\\mathbb{I}_{n})_{k,j} \\\\ \n",
    "& = \\delta_{k,j}.\n",
    "\\end{align}\n",
    "De forma análoga, pode-se verificar que os vetores coluna de uma matriz unitária também formam um conjunto de vetores ortonormais.\n",
    "\n",
    "* Se $\\{|\\alpha_{j}\\rangle\\}$ e $\\{|\\beta_{j}\\rangle\\}$ são bases ortonormais, então $U:=\\sum_{j=1}^{n}|\\alpha_{j}\\rangle\\langle\\beta_{j}|$ é um operador unitário:\n",
    "\\begin{align}\n",
    "UU^{\\dagger} &= \\sum_{j=1}^{n}|\\alpha_{j}\\rangle\\langle\\beta_{j}|\\left(\\sum_{k=1}^{n}|\\alpha_{k}\\rangle\\langle\\beta_{k}|\\right)^{\\dagger} = \\sum_{j,k=1}^{n}|\\alpha_{j}\\rangle\\langle\\beta_{j}|\\beta_{k}\\rangle\\langle\\alpha_{k}| \\\\\n",
    "&= \\sum_{j,k=1}^{n}|\\alpha_{j}\\rangle\\delta_{j,k}\\langle\\alpha_{k}| = \\sum_{j=1}^{n}|\\alpha_{j}\\rangle\\langle\\alpha_{k}|=\\mathbb{I} = \\cdots=U^{\\dagger}U.\n",
    "\\end{align}"
   ]
  },
  {
   "cell_type": "markdown",
   "metadata": {},
   "source": [
    "# Operadores positivos\n",
    "Um operador linear $A:\\mathcal{H}\\rightarrow\\mathcal{H}$ é dito positivo semidefinido se\n",
    "\\begin{equation}\n",
    "\\langle \\psi|A|\\psi\\rangle\\ge0\\ \\forall|\\psi\\rangle\\in\\mathcal{H}.\n",
    "\\end{equation}\n",
    "Quando essa condição é satisfeita, usamos a notação $A\\ge\\mathbb{0}_{\\mathcal{H}}$.\n",
    "\n",
    "A seguir apresentamos alguns resultados relevantes relacionados a operadores positivos:\n",
    "* Se o operador $A$ for positivo e normal, seus autovalores são não negativos pois\n",
    "\\begin{align}\n",
    "\\langle \\psi|A|\\psi\\rangle & = \\langle \\psi|\\sum_{a}aP_{a}|\\psi\\rangle = \\sum_{a}a\\langle \\psi|P_{a}|\\psi\\rangle = \\sum_{a}a\\langle \\psi|\\langle a|\\psi\\rangle|a\\rangle \\\\\n",
    "& = \\sum_{a}a|\\langle a|\\psi\\rangle|^{2} \\ge 0.\n",
    "\\end{align}\n",
    "E para garantir a não negatividade do \"sanduíche\", devemos ter $a\\ge0\\ \\forall a$."
   ]
  },
  {
   "cell_type": "markdown",
   "metadata": {},
   "source": [
    "* Se um operador linear é positivo semidefinido ($A\\ge\\mathbb{0}_{\\mathcal{H}}$), então ele é Hermitiano ($A=A^{\\dagger}$). Para obter esse resultado, primeiro notemos que podemos escrever qualquer operador linear $A$ como:\n",
    "\\begin{equation}\n",
    "A=B+iC,\n",
    "\\end{equation}\n",
    "com $B=B^{\\dagger}$ e $C=C^{\\dagger}$. Uma possibilidade para esses operadores Hermitianos é: \n",
    "\\begin{equation}\n",
    "B=(A+A^{\\dagger})/2 \\text{ e } C=(A-A^{\\dagger})/2i.\n",
    "\\end{equation}\n",
    "Como $\\langle \\psi|A|\\psi\\rangle=\\langle A\\rangle\\ge0$ teremos\n",
    "\\begin{equation}\n",
    "\\langle A\\rangle = \\langle B\\rangle+i\\langle C\\rangle\\ge 0,\n",
    "\\end{equation}\n",
    "que implica que $\\langle C\\rangle$ deve ser um número imaginário puro. Mas como $C=C^{\\dagger}$, sabemos que $\\langle C\\rangle$ é real. A única maneira de satisfazer essas duas condições é com $\\langle C\\rangle=0$. Mas assim vem que $\\langle (A-A^{\\dagger})\\rangle=0$, que será satisfeita para um $|\\psi\\rangle$ qualquer somente se $A=A^{\\dagger}$, completando assim a prova do teorema. $\\hspace{2cm} \\square$"
   ]
  },
  {
   "cell_type": "markdown",
   "metadata": {},
   "source": [
    "* Para um operador linear qualquer $B:\\mathcal{H}\\rightarrow\\mathcal{H}$, temos que $A:=B^{\\dagger}\\circ B$ é um operador positivo pois\n",
    "\\begin{align}\n",
    "& \\langle \\psi|A|\\psi\\rangle = (|\\psi\\rangle,|A|\\psi\\rangle) = (|\\psi\\rangle,B^{\\dagger}\\circ B|\\psi\\rangle) = (B|\\psi\\rangle,B|\\psi\\rangle) \\\\\n",
    "& \\equiv (|\\phi\\rangle,|\\phi\\rangle) \\ge0.\n",
    "\\end{align}\n",
    "Da mesma forma, pode-se verificar que $B\\circ B^{\\dagger}\\ge\\mathbb{0}_{\\mathcal{H}}$. \n",
    "\n",
    "* Para $X,Y:\\mathcal{H}\\rightarrow\\mathcal{H}$, ao escrevermos $X\\ge Y$ queremos dizer que $A:=X-Y\\ge\\mathbb{0}_{\\mathcal{H}}$. Vamos verificar que $X\\ge Y\\therefore\\langle X\\rangle \\ge \\langle Y\\rangle$. Aplicando as propriedades dos operadores lineares, teremos que\n",
    "\\begin{align}\n",
    "\\langle (X- Y)\\rangle & = \\langle\\psi|( X- Y)|\\psi\\rangle \\ge 0 \\\\\n",
    "& = \\langle\\psi|X|\\psi\\rangle - \\langle\\psi|Y|\\psi\\rangle = \\langle X\\rangle - \\langle Y\\rangle.\n",
    "\\end{align}\n",
    "Portanto $\\langle X\\rangle-\\langle Y\\rangle\\ge 0\\therefore\\langle X\\rangle\\ge\\langle Y\\rangle$.\n",
    "\n",
    "* Qualquer menor principal de uma matriz Hermitiana positiva semidefinida também é positivo semidefinido. Em particular   $A\\ge\\mathbb{O}\\Leftrightarrow \\begin{bmatrix} A_{j,j} & A_{j,k} \\\\ A_{k,j} & A_{k,k} \\end{bmatrix} \\ge \\mathbb{O}\\forall j,k$. Os interessados podem encontrar a prova em [R.A. Horn e C.R. Johnson, Matrix Analysis (Cambridge University Press, 2013)].\n",
    "\n",
    "* Pode-se verificar que se $J\\ge\\mathbb{O}$ e $UU^{\\dagger}=U^{\\dagger}U=\\mathbb{I}$, então $UJU^{\\dagger}\\ge\\mathbb{O}$."
   ]
  },
  {
   "cell_type": "markdown",
   "metadata": {},
   "source": [
    "---\n",
    "# Exercícios\n",
    "\n",
    "1. Considere a base $\\{|e_{1}\\rangle,|e_{2}\\rangle\\}$ e $B:V\\rightarrow V$ que atua como segue: $B(|e_{1}\\rangle)=(|e_{1}\\rangle+|e_{2}\\rangle)/\\sqrt{2}$ e $B(|e_{2}\\rangle)=(|e_{1}\\rangle-|e_{2}\\rangle)/\\sqrt{2}$. Forneça a representação matricial de $B$ nesse caso.\n",
    "\n",
    "1. Forneça a representação matricial dos vetores da base $\\{|e_{1}\\rangle,|e_{2}\\rangle\\}$ na base base $\\{|e_{1}\\rangle,|e_{2}\\rangle\\}$.\n",
    "\n",
    "1. Forneça a representação matricial para a composição de operadores lineares $C=B\\circ A$, com $A$ definido por $A(|e_{1}\\rangle):=|e_{2}\\rangle\\text{, } A(|e_{2}\\rangle):=|e_{1}\\rangle$ e $B$ definido no 1º exercício.\n",
    "\n",
    "1. Para um escalar qualquer $c\\in\\mathbb{F}$ e para um vetor qualquer $|a\\rangle$ do espaço vetorial $V$, verifique que $||c*|a\\rangle||=|c|*||a||$.\n",
    "\n",
    "1. Calcule os autovalores e autovetores da matriz $H=\\frac{1}{\\sqrt{2}}\\begin{bmatrix}1 & 1 \\\\ 1 & -1 \\end{bmatrix}$.\n",
    "\n",
    "1. Verifique que se $|a\\rangle$ é autovetor do operador linear correspondente ao autovalor $\\alpha$, então, para $c\\in\\mathbb{F}$, o vetor $c|a\\rangle$ também é autovetor de $A$ correspondente ao autovalor $\\alpha$.\n",
    "\n",
    "1. Verifique que se $A,B:\\mathcal{H}\\rightarrow\\mathcal{H}$ então $(A+B)^{\\dagger}=A^{\\dagger}+B^{\\dagger}$.\n",
    "\n",
    "1. Verifique que se $c\\in\\mathbb{F}$ e $A:\\mathcal{H}\\rightarrow\\mathcal{H}$ então $(c A)^{\\dagger}=c^{*}A^{\\dagger}$.\n",
    "\n",
    "1. Usando as propriedades da adjunta de matrizes, verifique que para projetores  em $\\mathbb{C}^{n}$ temos $P^{\\dagger}_{\\mathbb{C}^{n}}=P_{\\mathbb{C}^{n}}$.\n",
    "\n",
    "1. Para $\\mathbb{C}^{3}$, considere o projetor $P_{1}=|1\\rangle\\langle 1|$ com $|1\\rangle=\\begin{bmatrix} 1 & 0 & 0 \\end{bmatrix}^{T}$. Forneça um complemento ortonormal de $P_{1}$? Verifique que $P_{1}\\circ P_{1^{\\perp}}=\\mathbb{O}_{\\mathbb{C}^{3}}$.\n",
    "\n",
    "1. Para $P_{a}$ sendo o projetor no subespaço gerado pelos autovetores $|a\\rangle$ correspondentes ao autovalor $\\alpha_{a}$ do operador linear $A$, verifique que $P_{a}\\circ A=\\alpha_{a}P_{a}$.\n",
    "\n",
    "1. Operadores anti-Hermitianos são definidos por $A^{\\dagger}=-A$. Mostre que esses operadores possuem uma decomposição espectral e que os autovalores desse tipo de operador são números imaginários puros e que seus autovetores correspondentes a autovalores diferentes são ortogonais.\n",
    "\n",
    "1. Verifique que o valor médio $\\langle A\\rangle = \\langle\\psi|A|\\psi\\rangle$ de um operador anti-Hermitiano $A^{\\dagger}=-A$ é um número imaginário puro.\n",
    "\n",
    "1. Para $X,Y,Z:\\mathcal{H}\\rightarrow\\mathcal{H}$, verifique que $[X+Y,Z] = [X,Z]+[Y,Z]$ e  $[X\\circ Y,Z] = X\\circ[Y,Z] + [X,Z]\\circ Y$.\n",
    "\n",
    "1. Para $A|a_{j}^{(k)}\\rangle=a_{j}|a_{j}^{(k)}\\rangle$, verifique que se $|v_{j}\\rangle=\\sum_{k=1}^{\\dim\\mathcal{H}_{k}}c_{k}|a_{j}^{(k)}\\rangle$ então $A|v_{j}\\rangle=a_{j}|v_{j}\\rangle$, com $c_{k}\\in\\mathbb{F}$.\n",
    "\n",
    "1. Verifique que o conjunto de vetores coluna $|C_{j}^{A}\\rangle=\\begin{bmatrix}A_{1,j}&\\cdots&A_{n,j}\\end{bmatrix}^{T}$ de uma matriz unitária formam um conjunto ortonormal.\n",
    "\n",
    "1. Verifique que se $J$ é uma matriz positiva e $U$ é uma matriz unitária, então $UJU^{\\dagger}$ também é uma matriz positiva."
   ]
  },
  {
   "cell_type": "code",
   "execution_count": null,
   "metadata": {},
   "outputs": [],
   "source": []
  }
 ],
 "metadata": {
  "kernelspec": {
   "display_name": "Python 3",
   "language": "python",
   "name": "python3"
  },
  "language_info": {
   "codemirror_mode": {
    "name": "ipython",
    "version": 3
   },
   "file_extension": ".py",
   "mimetype": "text/x-python",
   "name": "python",
   "nbconvert_exporter": "python",
   "pygments_lexer": "ipython3",
   "version": "3.6.4"
  }
 },
 "nbformat": 4,
 "nbformat_minor": 2
}
