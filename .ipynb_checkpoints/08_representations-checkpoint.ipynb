{
 "cells": [
  {
   "cell_type": "markdown",
   "metadata": {},
   "source": [
    "## Notas de aula: Teoria de Grupos, Autor: Jonas Maziero, Departamento de Física, UFSM"
   ]
  },
  {
   "cell_type": "code",
   "execution_count": 1,
   "metadata": {},
   "outputs": [],
   "source": [
    "%run /Users/jonasmaziero/Dropbox/GitHub/algebra_linear/init.ipynb"
   ]
  },
  {
   "cell_type": "markdown",
   "metadata": {},
   "source": [
    "# Isomorfismo\n",
    "\n",
    "Um mapa (função ou correspondência) entre dois grupos $G$ e $G'$ é dito isomórfico se para todos os pares $g_{j},g_{k}\\in G$ e $g'_{j},g'_{k}\\in G'$ com correspondência um pra um\n",
    "\\begin{equation}\n",
    "g_{j} \\mapsto g'_{j}\\text{ e } g_{k}\\mapsto g'_{k},\n",
    "\\end{equation}\n",
    "temos que a composição é preservada, i.e.,\n",
    "\\begin{equation}\n",
    "g_{j}*g_{k}\\mapsto g'_{j}*g'_{k}.\n",
    "\\end{equation}\n",
    "\n",
    "__Exemplo:__ Consideremos o grupo de simetria de um _triângulo equilátero_ (GSTE).\n",
    "\n",
    "<img src=\"triangle.png\" width=\"200\">"
   ]
  },
  {
   "cell_type": "markdown",
   "metadata": {},
   "source": [
    "Denotemos $R^{X}_{\\theta}$ uma rotação em torno de $X$ por um ângulo $\\theta$ (usa a \"regra da mão direita\"). Os elementos do GSTE são:\n",
    "\\begin{equation}\n",
    "G_{\\triangle}\\equiv\\{R^{X}_{0}, R^{O}_{2\\pi/3}, R^{O}_{-2\\pi/3}, R^{A}_{\\pi}, R^{B}_{\\pi}, R^{C}_{\\pi}\\}\n",
    "\\end{equation}\n",
    "Denotemos por $(1,2,3)$ a disposição atual do triângulo. Então\n",
    "\\begin{align}\n",
    "& R^{X}_{0}(1,2,3)=(1,2,3), \\\\\n",
    "& R^{O}_{2\\pi/3}(1,2,3)=(2,3,1), \\\\\n",
    "& R^{O}_{-2\\pi/3}(1,2,3)=(3,2,1), \\\\\n",
    "& R^{A}_{\\pi}(1,j,k)=(1,k,j), \\\\\n",
    "& R^{B}_{\\pi}(j,2,k)=(k,2,j), \\\\ \n",
    "& R^{C}_{\\pi}(j,k,3)=(k,j,3).\n",
    "\\end{align}\n",
    "A tabela de composição das transformações de simetria do triângulo é (__verificar__):\n",
    "\\begin{equation}\n",
    "\\begin{bmatrix}\n",
    "& R^{X}_{0} & R^{O}_{2\\pi/3} & R^{O}_{-2\\pi/3} & R^{A}_{\\pi} & R^{B}_{\\pi} & R^{C}_{\\pi}  \\\\\n",
    "R^{X}_{0} & R^{X}_{0} & R^{O}_{2\\pi/3} & R^{O}_{-2\\pi/3} & R^{A}_{\\pi} & R^{B}_{\\pi} & R^{C}_{\\pi} \\\\\n",
    "R^{O}_{2\\pi/3} & R^{O}_{2\\pi/3} & R^{O}_{-2\\pi/3} & R^{X}_{0} & R^{C}_{\\pi} & R^{A}_{\\pi} & R^{B}_{\\pi} \\\\\n",
    "R^{O}_{-2\\pi/3} & R^{O}_{-2\\pi/3} & R^{X}_{0} & R^{O}_{3\\pi/4} & R^{C}_{\\pi} & R^{B}_{\\pi} & R^{A}_{\\pi} \\\\\n",
    "R^{A}_{\\pi} & R^{A}_{\\pi} & R^{C}_{\\pi} & R^{B}_{\\pi} & R^{X}_{0} & R^{O}_{-2\\pi/3} & R^{O}_{2\\pi/3} \\\\\n",
    "R^{B}_{\\pi} & R^{B}_{\\pi} & R^{A}_{\\pi} & R^{C}_{\\pi} & R^{O}_{-2\\pi/3} & R^{X}_{0} & R^{O}_{2\\pi/3} \\\\\n",
    "R^{C}_{\\pi} & R^{C}_{\\pi} & R^{B}_{\\pi} & R^{A}_{\\pi} & R^{O}_{-2\\pi/3} & R^{O}_{2\\pi/3} & R^{X}_{0}\n",
    "\\end{bmatrix}\n",
    "\\end{equation}"
   ]
  },
  {
   "cell_type": "markdown",
   "metadata": {},
   "source": [
    "A maneira como escrevemos as tranformações de simetria e disposições do triângulo acima indicam uma correspondência isomórfica entre esse grupo e o grupo de permutações de três índices, denotado por $S_{3}$. Nesse caso os elementos são denotados por\n",
    "\\begin{equation}\n",
    "P_{jkl}.\n",
    "\\end{equation}\n",
    "A ação desses elementos é a seguinte. Quando atuamos $P_{jkl}$ em um trio de índices $(m,n,o)$, $m$ vai pra posição $j$, $n$ pra posição $k$ e $o$ para a posição $l$. Por exemplo $P_{123}(m,n,o)=(m,n,o)$ e $P_{321}(m,n,o)=(o,n,m)$. Podemos identificar o isomorfismo:\n",
    "\\begin{align}\n",
    "&P_{123}\\mapsto R_{X}^{O},\\\\\n",
    "&P_{132}\\mapsto R_{\\pi}^{A}, \\\\\n",
    "&P_{213}\\mapsto R_{\\pi}^{C}, \\\\\n",
    "&P_{231}\\mapsto R_{\\pi}^{B}, \\\\\n",
    "&P_{312}\\mapsto R_{3\\pi/4}^{O}, \\\\\n",
    "&P_{321}\\mapsto R_{-3\\pi/4}^{O}.\n",
    "\\end{align}\n",
    "\n",
    "__Exercício:__ Construa a tabela de composição de $S_{3}$, compondo permutações. Verifique assim a equivalência isomórfica entre $S_{3}$ e $G_{\\triangle}$ (esses grupos possuem a mesma tabela de composição)."
   ]
  },
  {
   "cell_type": "markdown",
   "metadata": {},
   "source": [
    "# Homomorfismo\n",
    "Um mapa entre dois grupos $G$ e $G'$ é dito homomórfico se para $\\{g^{(j)}_{m}\\}_{m=1}^{N_{j}},\\{g^{(k)}_{n}\\}_{n=1}^{N_{k}}\\in G$ e $g'_{j},g'_{k}\\in G'$ com correspondência vários pra um\n",
    "\\begin{equation}\n",
    "g^{(j)}_{m} \\mapsto g'_{j}\\text{ e } g^{(k)}_{n}\\mapsto g'_{k},\n",
    "\\end{equation}\n",
    "temos que a composição é preservada, i.e.,\n",
    "\\begin{equation}\n",
    "g^{(j)}_{m}*g^{(k)}_{n}\\mapsto g'_{j}*g'_{k} \\text{ }\\forall m,n.\n",
    "\\end{equation}\n",
    "\n",
    "__Exemplo:__ Os números complexos não nulos, $G=\\mathbb{C}_{\\ne 0}$, e os números reais não nulos, $G'=\\mathbb{R}_{\\ne 0}$, formam grupos sob multiplicação. Podemos definir um mapa $\\infty$ pra um entre esses dois grupos como segue. Para $z\\in\\mathbb{C}_{\\ne 0}$ definimos\n",
    "\\begin{equation}\n",
    "z\\mapsto |z|=\\sqrt{z^{*}z}\\in\\mathbb{R}_{\\ne 0}.\n",
    "\\end{equation}\n",
    "Usando as propriedades da multiplicação de números complexos vemos prontamente que esse mapa preserva composição, i.e., para $w\\in\\mathbb{C}_{\\ne 0}$ teremos\n",
    "\\begin{align}\n",
    "& z*w\\mapsto |z|*|w|=\\sqrt{z^{*}z}\\sqrt{w^{*}w}=\\sqrt{z^{*}zw^{*}w} \\\\\n",
    "& = \\sqrt{(zw)^{*}(zw)} = |z*w|.\n",
    "\\end{align}"
   ]
  },
  {
   "cell_type": "markdown",
   "metadata": {},
   "source": [
    "## Algumas consequências da correspondência homomórfica\n",
    "* O elemento identidade de $G$ é mapeado no elemento identidade de $G'$:\n",
    "\\begin{align}\n",
    "&g_{m}^{(j)}*e=g_{m}^{(j)}\\forall m,j \\\\\n",
    "& \\Rightarrow (g_{m}^{(j)}*e)'=(g_{m}^{(j)})'*(e)'=g'_{j}*(e)'=g'_{j}=g'_{j}*e'\\forall j \\\\\n",
    "&\\Rightarrow e\\mapsto e'.\n",
    "\\end{align}\n",
    "\n",
    "* Se $g_{m}^{(j)}\\mapsto g'_{j}$ então $(g_{m}^{(j)})^{-1}\\mapsto (g'_{j})^{-1}$:\n",
    "\\begin{align}\n",
    "& g_{m}^{(j)}*(g_{m}^{(j)})^{-1}=e \\\\\n",
    "& \\Rightarrow (e)'=(g_{m}^{(j)}*(g_{m}^{(j)})^{-1})'=(g_{m}^{(j)})'*((g_{m}^{(j)})^{-1})' \\\\\n",
    "& \\Rightarrow g'_{j}*((g_{m}^{(j)})^{-1})'=e'\\Rightarrow (g'_{j})^{-1}*g'_{j}*((g_{m}^{(j)})^{-1})'=(g'_{j})^{-1}*e' \\\\\n",
    "&\\Rightarrow ((g_{m}^{(j)})^{-1})'=(g'_{j})^{-1}.\n",
    "\\end{align}\n",
    "\n",
    "* O conjunto de elementos de $G$ mapeados em $e'$, que denotamos por $H_{e'}$, é um subgrupo invariante de $G$:<br>\n",
    "Usando a notação $g'_{0}=e'$ teremos composição\n",
    "\\begin{equation}\n",
    "(g_{m}^{(0)}*g_{n}^{(0)})' = g'_{0}*g'_{0} = e'*e'=e'.\n",
    "\\end{equation}\n",
    "Associatividade vem daquela de $G$. Ademais $e\\mapsto e'$ e $(g_{m}^{(0)})^{-1}\\mapsto(g'_{(0)})^{-1}=e'$. Portanto $H_{e'}$ é um subgrupo de $G$. Verificamos invariância por\n",
    "\\begin{align}\n",
    "& (g_{n}^{(k)}*g_{n}^{(0)}*(g_{n}^{(k)})^{-1})'=(g_{n}^{(k)})'*(g_{n}^{(0)})'*((g_{n}^{(k)})^{-1})' = g'_{k}*e'*(g'_{k})^{-1} \\\\\n",
    "& = g'_{k}*(g'_{k})^{-1}=e'\\text{, }\\forall n,k.\n",
    "\\end{align}\n",
    "\n",
    "* $G'$ é isomórfico ao grupo fator $G/H_{e'}=\\{g_{1}*H_{e'},\\cdots,g_{|G|}*H_{e'}\\}$:<br>\n",
    "Aqui a verificação é feita notando-se que $\\forall n,k$\n",
    "\\begin{equation}\n",
    "(g_{n}^{(k)}*H_{e'})'=(g_{n}^{(k)})'*(H_{e'})'=g'_{k}*\\{e'\\}=g'_{k}.\n",
    "\\end{equation}"
   ]
  },
  {
   "cell_type": "markdown",
   "metadata": {},
   "source": [
    "# Representações de um grupo\n",
    "A representação linear de um grupo $G$ é um homomorfismo entre este grupo e o grupo de operadores lineares inversíveis $A:\\mathcal{H}\\rightarrow\\mathcal{H}$. Como $A$ é isomórfico ao grupo de matrizes inversíveis que representam esses operadores lineares numa base $\\{|\\psi\\rangle\\}$, que denotaremos por $A_{\\psi}$, podemos nos referir a essas representações de forma indiferente:\n",
    "\\begin{equation}\n",
    "G\\mapsto A \\text{ ou } G\\mapsto A_{\\psi}.\n",
    "\\end{equation}\n",
    "\n",
    "## Equivalência entre representações\n",
    "Se operadores lineares das representações lineares $G\\mapsto A=\\{A_{j}\\}$ e $G\\mapsto B=\\{B_{j}\\}$, com $B:\\mathcal{H}\\rightarrow\\mathcal{H}$, são relacionados através de uma transformação de similaridade\n",
    "\\begin{equation}\n",
    "A_{j}=C*B_{j}*C^{-1},\n",
    "\\end{equation}\n",
    "onde $C:\\mathcal{H}\\rightarrow\\mathcal{H}$, dizemos que as duas representações são equivalentes. Essa equivalência é vista olhando para as tabelas de composição:\n",
    "\\begin{align}\n",
    "A_{j}*A_{k} &= C*B_{j}*C^{-1}*C*B_{k}*C^{-1} = C*B_{j}*\\mathbb{I}*B_{k}*C^{-1} \\\\ \n",
    "& = C*B_{j}*B_{k}*C^{-1} = C*B_{l}*C^{-1} = A_{l}.\n",
    "\\end{align}\n",
    "\n",
    "## Teorema (representações unitárias)\n",
    "Qualquer representação linear de um grupo finito é equivalente a uma representação unitária $G\\mapsto U=\\{U_{j}\\}$, com $U_{j}*U_{j}^{-1}=\\mathbb{I}$.\n",
    "### Prova"
   ]
  },
  {
   "cell_type": "code",
   "execution_count": null,
   "metadata": {},
   "outputs": [],
   "source": []
  }
 ],
 "metadata": {
  "kernelspec": {
   "display_name": "Python 3",
   "language": "python",
   "name": "python3"
  },
  "language_info": {
   "codemirror_mode": {
    "name": "ipython",
    "version": 3
   },
   "file_extension": ".py",
   "mimetype": "text/x-python",
   "name": "python",
   "nbconvert_exporter": "python",
   "pygments_lexer": "ipython3",
   "version": "3.6.4"
  }
 },
 "nbformat": 4,
 "nbformat_minor": 2
}
