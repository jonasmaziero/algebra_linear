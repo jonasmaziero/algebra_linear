{
 "cells": [
  {
   "cell_type": "code",
   "execution_count": 1,
   "metadata": {},
   "outputs": [],
   "source": [
    "import platform\n",
    "if platform.system() == 'Linux':\n",
    "    %run '/home/jonasmaziero/Dropbox/GitHub/algebra_linear/init.ipynb'\n",
    "else:\n",
    "    %run '/Users/jonasmaziero/Dropbox/GitHub/algebra_linear/init.ipynb'"
   ]
  },
  {
   "cell_type": "markdown",
   "metadata": {},
   "source": [
    "# Função sinal\n",
    "A função sinal, $sgn$, tem como domínio listas $j_{1},j_{2},\\cdots,j_{n}$ de números naturais e como imagem $-1,0,1$. Para uma lista com $n$ números, por definição temos\n",
    "\\begin{equation}\n",
    "sgn_{n}(1,2,\\cdots,n) := 1. \n",
    "\\end{equation}\n",
    "Se quaisquer pares de índices são iguais, a função sinal é nula\n",
    "\\begin{equation}\n",
    "sgn_{n}(j_{1},j_{2},\\cdots,j_{n}) := 0 \\text{ se }j_{p}=j_{q} \\text{ para algum par }(p,q). \n",
    "\\end{equation}\n",
    "Se precisamos fazer um número par de trocas entre pares de índices de $j_{1},j_{2},\\cdots,j_{n}$ para obter $1,2,\\cdots,n$ então\n",
    "\\begin{equation}\n",
    "sgn_{n}(j_{1},j_{2},\\cdots,j_{n}) := +1 \\text{ (No. par de permutações) }. \n",
    "\\end{equation}\n",
    "Se precisamos fazer um número ímpar de trocas entre pares de índices de $j_{1},j_{2},\\cdots,j_{n}$ para obter $1,2,\\cdots,n$ então\n",
    "\\begin{equation}\n",
    "sgn_{n}(j_{1},j_{2},\\cdots,j_{n}) := -1 \\text{ (No. ímpar de permutações) }. \n",
    "\\end{equation}\n",
    "Outra propriedade que define a função sinal é\n",
    "\\begin{equation}\n",
    "sgn_{n}(\\cdots,j_{p-1},j_{p},j_{p+1},\\cdots) := (-1)^{n-p}sgn_{n-1}(\\cdots,j_{p-1},j_{p+1},\\cdots) \n",
    "\\end{equation}\n",
    "e relaciona a função sinal aplicada a listas com $n$ e $n-1$ números. Note que $p$ é a posição onde sacamos o número da lista original."
   ]
  },
  {
   "cell_type": "markdown",
   "metadata": {},
   "source": [
    "### Antisimetria da função sinal\n",
    "Em vistas das propriedades acima não é difícil notar que ao trocarmos dois índices quaisquer do argumento da função sinal torcamos o seu sinal, se esta não for nula, i.e.,\n",
    "\\begin{equation}\n",
    "sgn_{n}(\\cdots,j_{p},\\cdots,j_{q},\\cdots) = -sgn_{n}(\\cdots,j_{q},\\cdots,j_{p},\\cdots). \n",
    "\\end{equation}"
   ]
  },
  {
   "cell_type": "markdown",
   "metadata": {},
   "source": [
    "__Exercício:__\n",
    "Considere a função sinal $sgn_{3}$ e escreva seus valores aplicados a todas as possibilidades de trios $j_{1},j_{2},j_{3}$. Por fim diga a que função, que vocês usaram bastante no curso de física, $sgn_{3}$ coincide.\n",
    "\n",
    "__Exercício:__\n",
    "Escreva o produto vetorial usando $sgn_{3}$.\n",
    "\n",
    "__Problema:__ Obtenha um algoritmo (não trivial) para retornar a função sinal de uma permutação qualquer, e faça o código para testá-lo. Quem conseguir terá 0.5 pontos a mais na P1. Um caso mais simples desse problema é obter um algoritmo para calcular o determinante (via definição \"original\" com a função sinal), e fazer um programa para testá-lo. Quem conseguir somente este último terá 0.3 para a P1."
   ]
  },
  {
   "cell_type": "markdown",
   "metadata": {},
   "source": [
    "### Vizinhos distantes vs primeiros vizinhos\n",
    "Vamos verificar que a função sinal calculada com a restrição de trocas entre primeiros vizinhos é equivalente ao cálculo com troca entre vizinhos distantes. Ou seja, vamos verificar que $sgn_{n}(\\cdots,j_{p},\\cdots,j_{q},\\cdots) = -sgn_{n}(\\cdots,j_{q},\\cdots,j_{p},\\cdots)$ é obtido também quando nos restringimos a trocas entre primeiros vizinhos. Para isso notemos que são precisas $2(q-p)-1$ trocas entre primeiros vizinhos para obter $(\\cdots,j_{p},\\cdots,j_{q},\\cdots)$ de $(\\cdots,j_{q},\\cdots,j_{p},\\cdots)$, ou vice versa. Para isso, usamos um caso particular: $(\\cdots,3,4,5,6,\\cdots)\\rightarrow(\\cdots,3,4,6,5,\\cdots)\\rightarrow(\\cdots,3,6,4,5,\\cdots)\\rightarrow(\\cdots,6,3,4,5,\\cdots)$. Até aqui usamos $q-p=6-3=3$ trocas. Seguindo, $(\\cdots,6,3,4,5,\\cdots)\\rightarrow(\\cdots,6,4,3,5,\\cdots)\\rightarrow(\\cdots,6,4,5,3,\\cdots)$, ou seja, usamos mais $q-p-1=6-3-1=2$ trocas. Isso nos dá um total de $2(q-p)-1=2(6-3)-1=5$ trocas entre primeiros vizinhos. Mas\n",
    "\\begin{equation}\n",
    "(-1)^{2(q-p)-1}=(-1)^{2(q-p)}(-1)^{-1}=(1)(1/(-1)^{1})=-1,\n",
    "\\end{equation}\n",
    "que é o resultado que queríamos demonstrar."
   ]
  },
  {
   "cell_type": "markdown",
   "metadata": {},
   "source": [
    "# Determinante\n",
    "Seja $A=(A_{j,k})$ uma matriz $n\\mathrm{x}n$. Aqui consideraremos como campo escalar $A_{j,k}\\in\\mathbb{C}$. Nesse caso o determinante da matriz $A$ é uma mapa $\\det:\\mathbb{C}^{n\\mathrm{x}n}\\rightarrow \\mathbb{C}$ definido por\n",
    "\\begin{equation}\n",
    "\\det(A) := \\sum_{(j_{1},j_{2},\\cdots,j_{n})}sgn(j_{1},j_{2},\\cdots,j_{n})A_{1,j_{1}}A_{2,j_{2}}\\cdots A_{n,j_{n}}.\n",
    "\\end{equation}\n",
    "Note que usamos as chamadas __permutações__ de $n$ índices, $(j_{1},j_{2},\\cdots,j_{n})$, que são sequências com os números _todos diferentes_. Isso porque se houver dois ou mais índices iguais, a função sinal é nula. Claro, se usarmos $\\sum_{j_{1},j_{2},\\cdots,j_{n}}$, o resultado final para o determinante será o mesmo. Outra observação relevante aqui é que o determinante é calculado considerando-se o produto de elementos de matriz de linhas e colunas diferentes, somando ou subtraindo esses produtos para todas as combinações de colunas com base no sinal na permutação correspondente. \n",
    "\n",
    "_OBS:_ Doravante não uso o sub-índice que indica o número de números no argumento de $sgn$, a menos que realmente necessário."
   ]
  },
  {
   "cell_type": "markdown",
   "metadata": {},
   "source": [
    "_Exemplo:_ Para um escalar, o determinante é o próprio escalar. Para uma matriz de dimensão $2$ teremos\n",
    "\\begin{align}\n",
    "\\det(A) & = \\sum_{(j_{1},j_{2})}sgn(j_{1},j_{2})A_{1j_{1}}A_{2j_{2}} \\\\\n",
    "& = sgn(1,2)A_{1,1}A_{2,2} + sgn(2,1)A_{1,2}A_{2,1} \\\\\n",
    "& = A_{1,1}A_{2,2} - A_{1,2}A_{2,1}.\n",
    "\\end{align}\n",
    "\n",
    "__Exercício:__ Escreva a expressão geral para o determinante de uma matriz de dimensão $3$. <br>\n",
    "__Exercício:__ Para $c\\in\\mathbb{C}$ e $A\\in\\mathbb{C}^{n\\mathrm{x}n}$, mostre que $\\det(cA)=c^{n}\\det(A).$"
   ]
  },
  {
   "cell_type": "markdown",
   "metadata": {},
   "source": [
    "## Propriedades do determinante\n",
    "Seja $k_{1},k_{2},\\cdots,k_{n}$ uma lista qualquer de números do conjunto $1,2,\\cdots,3$. Denotaremos\n",
    "\\begin{equation}\n",
    "A(k_{1},k_{2},\\cdots,k_{n})\n",
    "\\end{equation}\n",
    "para a matriz cuja $l$-ésima linha é a $k_{l}$-ésima linha da matriz $A$. <br>\n",
    "_Exemplo:_ Claro, $A(1,2,\\cdots,n)=A$. Um outro exemplo seria\n",
    "\\begin{equation}\n",
    "A(2,3,2) = \\begin{bmatrix} A_{2,1} & A_{2,2} & A_{2,3} \\\\ A_{3,1} & A_{3,2} & A_{3,3} \\\\ A_{2,1} & A_{2,2} & A_{2,3} \\end{bmatrix}.\n",
    "\\end{equation}\n",
    "__Exercício:__ Escreva a matriz $A(3,1,2,4)$.\n",
    "\n",
    "Para essas matrizes modificadas, notemos que, em relação a $A$, substituímos as linhas $1,2,\\cdots,n$ pelas $k_{1},k_{2},\\cdots,k_{n}$. Então o determinante fica\n",
    "\\begin{equation}\n",
    "\\det(A(k_{1},k_{2},\\cdots,k_{n})) := \\sum_{(j_{1},j_{2},\\cdots,j_{n})}sgn(j_{1},j_{2},\\cdots,j_{n})A_{k_{1},j_{1}}A_{k_{2},j_{2}}\\cdots A_{k_{n},j_{n}}.\n",
    "\\end{equation}"
   ]
  },
  {
   "cell_type": "markdown",
   "metadata": {},
   "source": [
    "### Efeito da troca de linhas no determinante\n",
    "Podemos utilizar o determinante escrito como na última equação para verificar que ao trocarmos duas linhas de uma matriz, trocaremos o sinal do seu determinante:\n",
    "\\begin{align}\n",
    "\\det(A(\\cdots,k_{p},\\cdots,k_{q},\\cdots)) & =  \\sum_{(\\cdots,j_{p},\\cdots,j_{q},\\cdots)}sgn(\\cdots,j_{p},\\cdots,j_{q},\\cdots)\\cdots A_{k_{p},j_{p}}\\cdots A_{k_{q},j_{q}}\\cdots \\\\\n",
    "& =  \\sum_{(\\cdots,j_{p},\\cdots,j_{q},\\cdots)}sgn(\\cdots,j_{p},\\cdots,j_{q},\\cdots)\\cdots A_{k_{q},j_{q}}\\cdots A_{k_{p},j_{p}}\\cdots \\\\\n",
    "& =  \\sum_{(\\cdots,j_{p},\\cdots,j_{q},\\cdots)}-sgn(\\cdots,j_{q},\\cdots,j_{p},\\cdots)\\cdots A_{k_{q},j_{q}}\\cdots A_{k_{p},j_{p}}\\cdots \\\\\n",
    "& = -\\det(A(\\cdots,k_{q},\\cdots,k_{p},\\cdots)).\n",
    "\\end{align}\n",
    "_Exemplo:_ Considera $A(1,2)=A$ e $A(2,1)$. Temos que\n",
    "\\begin{align}\n",
    "\\det(A(2,1)) & = \\sum_{(j_{1},j_{2})}sgn(j_{1},j_{2})A_{k_{1},j_{1}}A_{k_{2},j_{2}} \\\\\n",
    "& = \\sum_{(j_{1},j_{2})}sgn(j_{1},j_{2})A_{2,j_{1}}A_{1,j_{2}} \\\\\n",
    "& = sgn(1,2)A_{2,1}A_{1,2} + sgn(2,1)A_{2,2}A_{1,1} \\\\\n",
    "& = A_{2,1}A_{1,2} - A_{2,2}A_{1,1} \\\\\n",
    "& = -\\det(A).\n",
    "\\end{align}\n",
    "__Exercício:__ Verifique que $\\det(A(2,1,3))=-\\det(A(1,2,3))$."
   ]
  },
  {
   "cell_type": "markdown",
   "metadata": {},
   "source": [
    "#### Consequências de $\\det(A(\\cdots,k_{p},\\cdots,k_{q},\\cdots))=-\\det(A(\\cdots,k_{q},\\cdots,k_{p},\\cdots))$\n",
    "1. Essa relação implica que\n",
    "\\begin{equation}\n",
    "\\det(A(k_{1},k_{2},\\cdots,k_{n})) = sgn(k_{1},k_{2},\\cdots,k_{n})\\det(A).\n",
    "\\end{equation}\n",
    "Para verificar essa afirmação, assuma que precisamos fazer $N$ permutações de pares índices para obter $1,2,\\cdots,n$ a partir de $k_{1},k_{2},\\cdots,k_{n}$. Lembre que trocas de pares de índices trocam o sinal da função sinal, i.e., \\begin{equation}\n",
    "sgn(k_{1},k_{2},\\cdots,k_{n})=(-1)^{N}sgn(1,2,\\cdots,n).\n",
    "\\end{equation}\n",
    "Como em cada uma dessas trocas, trocamos duas linhas da matriz correspondente, e assim trocamos o sinal do determinante, teremos também que\n",
    "\\begin{equation}\n",
    "\\det(A(k_{1},k_{2},\\cdots,k_{n})) = (-1)^{N}\\det(A(1,2,\\cdots,n)) = (-1)^{N}\\det(A),\n",
    "\\end{equation}\n",
    "com o sinal que estabelece a relação entre os determinantes dependendo somente se $N$ é par ou ímpar. Com isso fica verificada nossa afirmação inicial.<br>\n",
    "__Exercício:__ Verifique que $\\det(A(2,1)) = sgn(2,1)\\det(A)$.\n",
    "\n",
    "2. Outra consequência do resultado anterior é que o determinante de uma matriz com __duas linhas iguais__ é igual a zero. Para isso considere que as linhas $k_{p}$ e $k_{q}$ da matriz $A$ são iguais. Assim\n",
    "\\begin{align}\n",
    "\\det(A(\\cdots,k_{p},\\cdots,k_{q},\\cdots)) & = \\det(A(\\cdots,k_{q},\\cdots,k_{p},\\cdots)) \\\\\n",
    "& = - \\det(A(\\cdots,k_{p},\\cdots,k_{q},\\cdots)),\n",
    "\\end{align}\n",
    "onde a primeira igualdade se deve ao fato das duas matrizes serem iguais e a segunda segue pela troca de linhas. Como para que $x=-x$ devemos ter $x=0$, está demonstrada nossa segunda afirmação.<br>\n",
    "__Exercício:__ Verifique que $\\det(A(2,2))=0$.\n",
    "\n",
    "3. Se uma (ou mais) linha(s) de uma matriz pode ser escrita como uma __combinação linear__ de outras de suas linhas, então o determinante dessa matriz é nulo. <br>\n",
    "Na prática, como a troca de linhas só troca o sinal do determinante, podemos assumir, sem perda de generalidade, que a linha aquela é a primeira linha e que é combinação linear das próximas $r<n$ linhas, i.e., $A_{1,j_{1}}=\\sum_{k=2}^{r}c_{k}A_{k,j_{1}}$ com $c_{k}\\in\\mathbb{C}$. Assim\n",
    "\\begin{align}\n",
    "\\det(A) & \\propto \\sum_{(j_{1},j_{2},\\cdots,j_{n})}sgn(j_{1},j_{2},\\cdots,j_{n})\\sum_{k=2}^{r}c_{k}A_{k,j_{1}}A_{2,j_{2}}\\cdots A_{n,j_{n}} \\\\\n",
    "& = \\sum_{k=2}^{r}c_{k}\\sum_{(j_{1},j_{2},\\cdots,j_{n})}sgn(j_{1},j_{2},\\cdots,j_{n})A_{k,j_{1}}A_{2,j_{2}}\\cdots A_{n,j_{n}} \\\\\n",
    "& = \\sum_{k=2}^{r}c_{k}(\\det\\text{ de uma matriz com duas linhas iguais)} \\\\\n",
    "& = 0.\n",
    "\\end{align}"
   ]
  },
  {
   "cell_type": "markdown",
   "metadata": {},
   "source": [
    "## Forma simétrica para o determinante\n",
    "Vamos verificar que o determinante de uma matriz $A$ pode ser escrito como\n",
    "\\begin{equation}\n",
    "\\det(A) = \\frac{1}{n!}\\sum_{(k_{1},k_{2},\\cdots,k_{n})}\\sum_{(j_{1},j_{2},\\cdots,j_{n})}sgn(k_{1},k_{2},\\cdots,k_{n})sgn(j_{1},j_{2},\\cdots,j_{n})A_{k_{1},j_{1}}A_{k_{2},j_{2}}\\cdots A_{k_{n},j_{n}}.\n",
    "\\end{equation}\n",
    "Começamos notando que para qualquer permutação $(k_{1},k_{2},\\cdots,k_{n})$ teremos\n",
    "\\begin{equation}\n",
    "sgn(k_{1},k_{2},\\cdots,k_{n})sgn(k_{1},k_{2},\\cdots,k_{n}) = 1.\n",
    "\\end{equation}\n",
    "Teremos assim que\n",
    "\\begin{equation}\n",
    "sgn(k_{1},k_{2},\\cdots,k_{n})\\det(A(k_{1},k_{2},\\cdots,k_{n})) = sgn(k_{1},k_{2},\\cdots,k_{n})sgn(k_{1},k_{2},\\cdots,k_{n})\\det(A) = \\det(A).\n",
    "\\end{equation}\n",
    "\n",
    "Seguindo, notamos que existem $n!$ permutações de $n$ símbolos. Um exemplo utilizado com frequência para chegar nesse resultado é aquele de arranjar $n$ bolinhas numeradas em $n$ caixas. Para a primeira caixar temos $n$ possibilidade para qual bolinha colocaremos aí. Um vez feita esta escolha, sobram $n-1$ possibilidades para a segunda caixa. Seguindo com essa ideia vemos que o número total de arranjos é $n(n-1)(n-2)\\cdots(2)(1)=n!$.\n",
    "\n",
    "Dito isto, reescrevemos a equação acima como\n",
    "\\begin{align}\n",
    "\\det(A) & = \\frac{1}{n!}\\sum_{i=1}^{n!}\\det(A) \\\\\n",
    "& = \\frac{1}{n!}\\sum_{(k_{1},k_{2},\\cdots,k_{n})}sgn(k_{1},k_{2},\\cdots,k_{n})\\det(A(k_{1},k_{2},\\cdots,k_{n})) \\\\\n",
    "& = \\frac{1}{n!}\\sum_{(k_{1},k_{2},\\cdots,k_{n})}sgn(k_{1},k_{2},\\cdots,k_{n})\\sum_{(j_{1},j_{2},\\cdots,j_{n})}sgn(j_{1},j_{2},\\cdots,j_{n})A_{k_{1},j_{1}}A_{k_{2},j_{2}}\\cdots A_{k_{n},j_{n}},\n",
    "\\end{align}\n",
    "como queríamos demonstrar.\n",
    "\n",
    "__Exercício:__ Usando a forma simétrica, escreva explicitamente o determinante de uma matriz de dimensão 2."
   ]
  },
  {
   "cell_type": "markdown",
   "metadata": {},
   "source": [
    "## Determinante da transposta\n",
    "A transposta de uma matriz $A=(A_{j,k})$ é denotada e definida por\n",
    "\\begin{equation}\n",
    "A^{T}=((A^{T})_{j,k}) := (A_{k,j}).\n",
    "\\end{equation}\n",
    "Ou seja, obtemos $A^{T}$ de $A$ trocando suas linhas por suas colunas. Vamos verificar o importante resultado de que o determinante da transposta de uma matriz qualquer é igual ao seu determinante:\n",
    "\\begin{equation}\n",
    "\\det(A^{T}) = \\det(A).\n",
    "\\end{equation}\n",
    "Para verificar esse resultado, usamos a forma simétrica do determinante\n",
    "\\begin{align}\n",
    "\\det(A^{T}) & = \\frac{1}{n!}\\sum_{(k_{1},k_{2},\\cdots,k_{n})}\\sum_{(j_{1},j_{2},\\cdots,j_{n})}sgn(k_{1},k_{2},\\cdots,k_{n})sgn(j_{1},j_{2},\\cdots,j_{n})(A^{T})_{k_{1},j_{1}}(A^{T})_{k_{2},j_{2}}\\cdots (A^{T})_{k_{n},j_{n}} \\\\\n",
    "& = \\frac{1}{n!}\\sum_{(k_{1},k_{2},\\cdots,k_{n})}\\sum_{(j_{1},j_{2},\\cdots,j_{n})}sgn(k_{1},k_{2},\\cdots,k_{n})sgn(j_{1},j_{2},\\cdots,j_{n})A_{j_{1},k_{1}}A_{j_{2},k_{2}}\\cdots A_{j_{n},k_{n}} \\\\\n",
    "& = \\frac{1}{n!}\\sum_{(j_{1},j_{2},\\cdots,j_{n})}\\sum_{(k_{1},k_{2},\\cdots,k_{n})}sgn(j_{1},j_{2},\\cdots,j_{n})sgn(k_{1},k_{2},\\cdots,k_{n})A_{j_{1},k_{1}}A_{j_{2},k_{2}}\\cdots A_{j_{n},k_{n}} \\\\\n",
    "& = \\det(A).\n",
    "\\end{align}\n",
    "\n",
    "__Exercício:__ Mostre que se trocamos duas colunas de uma matriz, trocamos o sinal do seu determinante.<br>\n",
    "__Exercício:__ Mostre que se duas (ou mais) colunas de uma matriz são iguais, então seu determinante é nulo. <br>\n",
    "__Exercício:__ Mostre que se uma (ou mais) colunas de uma matriz é uma combinação linear de outras de suas colunas, então seu determinante é nulo. <br>"
   ]
  },
  {
   "cell_type": "markdown",
   "metadata": {},
   "source": [
    "## Autovalores da transposta\n",
    "Autovalores serão discutidos em mais profundidade mais adiante. Aqui basta saber que obtemos os autovalores $a$ de uma matriz $A$ resolvendo a equação característica\n",
    "\\begin{equation}\n",
    "\\det(A-a\\mathbb{I}_{n})=0,\n",
    "\\end{equation}\n",
    "em que $\\mathbb{I}_{n}=(\\delta_{j,k})$ é a matriz identidade $n\\mathrm{x}n.$ Para a transposta da matrix $A$ teremos que resolver $\\det(A^{T}-\\alpha\\mathbb{I}_{n})=0.$ Como a transposta da soma de matrizes é a soma das transpostas (__exercício__) e a transposta da matriz identidade é a própria, podemos escrever\n",
    "\\begin{equation}\n",
    "0=\\det(A^{T}-\\alpha\\mathbb{I}_{n})=\\det(A^{T}-\\alpha\\mathbb{I}_{n}^{T})=\\det((A-\\alpha\\mathbb{I}_{n})^{T})=\\det(A-\\alpha\\mathbb{I}_{n}),\n",
    "\\end{equation}\n",
    "o que implica que $\\alpha=a$, cqd. Note que na última igualdade usamos o fato de que $\\det(X)=\\det(X^{T})$ pra qualquer matriz $X$.\n",
    "\n",
    "__Exercício:__ A _conjugada_ de uma matriz $A\\in\\mathbb{C}^{n\\text{x}n}$ é denotada $A^{*}\\in\\mathbb{C}^{n\\text{x}n}$ e é definida por $A^{*}=((A^{*})_{j,k}):=(A_{j,k}^{*})$. Usando as propriedades básicas dos números complexos, Verifique que $\\det(A^{*})=(\\det(A))^{*}$. \n",
    "\n",
    "__Exercício:__ A _adjunta_ de uma matriz $A\\in\\mathbb{C}^{n\\text{x}n}$ é denotada por $A^{\\dagger}\\in\\mathbb{C}^{n\\text{x}n}$ e é definida como sua transposta conjugada, i.e., $A^{\\dagger}=((A^{\\dagger})_{j,k}):=(A_{k,j}^{*})$. Verifique que os autovalores de $A^{\\dagger}$ são iguais ao complexo conjugado dos autovalores de $A$."
   ]
  },
  {
   "cell_type": "markdown",
   "metadata": {},
   "source": [
    "## Determinante do produto = produto dos determinantes\n",
    "Vamos verifivar que para $A,B\\in\\mathbb{C}^{n\\mathrm{x}n}$ temos\n",
    "\\begin{equation}\n",
    "\\det(AB)=\\det(A)\\det(B).\n",
    "\\end{equation}\n",
    "\n",
    "__Exercício:__ Verifique que o produto de duas matrizes $X\\in\\mathbb{C}^{n\\mathrm{x}m}$ e $Y\\in\\mathbb{C}^{m\\mathrm{x}p}$ é uma matriz $Z\\in\\mathbb{C}^{n\\mathrm{x}p}$ com elementos\n",
    "\\begin{equation}\n",
    "Z_{j,k} = (XY)_{j,k} = \\sum_{l=1}^{m}X_{j,l}Y_{l,k}.\n",
    "\\end{equation}\n",
    "\n",
    "Aplicando esse resultado para nosso caso especial, teremos\n",
    "\\begin{align}\n",
    "\\det(AB) & = \\sum_{(j_{1},j_{2},\\cdots,j_{n})}sgn(j_{1},j_{2},\\cdots,j_{n})(AB)_{1,j_{1}}(AB)_{2,j_{2}}\\cdots (AB)_{n,j_{n}} \\\\\n",
    "& = \\sum_{(j_{1},j_{2},\\cdots,j_{n})}sgn(j_{1},j_{2},\\cdots,j_{n})\\sum_{k_{1}}A_{1,k_{1}}B_{k_{1},j_{1}}\\sum_{k_{2}}A_{2,k_{2}}B_{k_{2},j_{2}}\\cdots \\sum_{k_{n}}A_{n,k_{n}}B_{k_{n},j_{n}} \\\\\n",
    "& = \\sum_{k_{1},k_{2},\\cdots,k_{n}}A_{1,k_{1}}A_{2,k_{2}}\\cdots A_{n,k_{n}}\\sum_{(j_{1},j_{2},\\cdots,j_{n})}sgn(j_{1},j_{2},\\cdots,j_{n})B_{k_{1},j_{1}}B_{k_{2},j_{2}}\\cdots B_{k_{n},j_{n}} \\\\\n",
    "& = \\sum_{k_{1},k_{2},\\cdots,k_{n}}A_{1,k_{1}}A_{2,k_{2}}\\cdots A_{n,k_{n}}\\det(B(k_{1},k_{2},\\cdots,k_{n})) \\\\\n",
    "& = \\sum_{k_{1},k_{2},\\cdots,k_{n}}A_{1,k_{1}}A_{2,k_{2}}\\cdots A_{n,k_{n}}sgn(k_{1},k_{2},\\cdots,k_{n})\\det(B) \\\\\n",
    "& = \\sum_{(k_{1},k_{2},\\cdots,k_{n})}sgn(k_{1},k_{2},\\cdots,k_{n})A_{1,k_{1}}A_{2,k_{2}}\\cdots A_{n,k_{n}}\\det(B) \\\\\n",
    "& = \\det(A)\\det(B).\n",
    "\\end{align}\n",
    "\n",
    "__Exercício:__ Escreva explicitamente o determinante do produto de duas matrizes de dimensão 2 e verifique que este coincide com o produto de seus determinantes."
   ]
  },
  {
   "cell_type": "markdown",
   "metadata": {},
   "source": [
    "## Determinante da soma $\\ne$ soma dos determinantes\n",
    "\\begin{align}\n",
    "\\det(A+B) & = \\sum_{(j_{1},j_{2},\\cdots,j_{n})}sgn(j_{1},j_{2},\\cdots,j_{n})(A+B)_{1,j_{1}}(A+B)_{2,j_{2}}\\cdots (A+B)_{n,j_{n}} \\\\\n",
    "& = \\sum_{(j_{1},j_{2},\\cdots,j_{n})}sgn(j_{1},j_{2},\\cdots,j_{n})(A_{1,j_{1}}+B_{1,j_{1}})(A_{2,j_{2}}+B_{2,j_{2}})\\cdots (A_{n,j_{n}}+B_{n,j_{n}}) \\\\\n",
    "& = \\sum_{(j_{1},j_{2},\\cdots,j_{n})}sgn(j_{1},j_{2},\\cdots,j_{n})A_{1,j_{1}}A_{2,j_{2}}\\cdots A_{n,j_{n}} \\\\\n",
    "& + \\sum_{(j_{1},j_{2},\\cdots,j_{n})}sgn(j_{1},j_{2},\\cdots,j_{n})B_{1,j_{1}}B_{2,j_{2}}\\cdots B_{n,j_{n}} \\\\\n",
    "& + \\sum_{(j_{1},j_{2},\\cdots,j_{n})}sgn(j_{1},j_{2},\\cdots,j_{n})(\\text{termos com produtos de A's e B's})\\\\\n",
    "& = \\det(A) + \\det(B) + (\\text{termo, em geral, não nulo}).\n",
    "\\end{align}\n",
    "\n",
    "Se esse resultado não fosse assim, ele teria uma __implicação__ séria sobre os autovalores da soma de matrizes. Considere que $\\det(A-a\\mathbb{I})=0$ e $\\det(B-b\\mathbb{I})=0$. Se $\\det(X+Y)=\\det(X)+\\det(Y)$ teríamos que o autovalor da soma seria a soma dos autovalores, pois\n",
    "\\begin{align}\n",
    "0 & = \\det(A-a\\mathbb{I})+\\det(B-b\\mathbb{I}) = \\det(A-a\\mathbb{I} + B-b\\mathbb{I}) \\\\\n",
    "& =  \\det((A+B) -(a+b)\\mathbb{I}).\n",
    "\\end{align}\n",
    "\n",
    "__Exercício:__ Encontre um exemplo de matrizes de dimensão 2 tais que $\\det(A+B)=\\det(A)+\\det(B)$ e outro exemplo para o qual $\\det(A+B)\\ne\\det(A)+\\det(B)$."
   ]
  },
  {
   "cell_type": "markdown",
   "metadata": {},
   "source": [
    "## Expansão em cofatores para o determinante\n",
    "### Lema\n",
    "Sejam $A,B,C\\in\\mathbb{C}^{n\\text{x}n}$ matrizes que são iguais a menos da $k$-ésima linha. Essa linha de $C$ é uma combinação linear das linhas correspondentes de $A$ e $B$, i.e., $C_{k,j_{k}} = \\alpha A_{k,j_{k}}+\\beta B_{k,j_{k}}$ com $\\alpha,\\beta\\in\\mathbb{C}$. Para estas matrizes, temos\n",
    "\\begin{equation}\n",
    "\\det(C)=\\alpha\\det(A)+\\beta\\det(B).\n",
    "\\end{equation}\n",
    "#### Prova\n",
    "No te que concentramos na linha $k$, mas fazemos aparecer outras linhas que são comuns a todas as matrizes:\n",
    "\\begin{align}\n",
    "\\det(C) & = \\sum_{(\\cdots,j_{p},\\cdots,j_{k},\\cdots,j_{q},\\cdots)}sgn(\\cdots,j_{p},\\cdots,j_{k},\\cdots,j_{q},\\cdots)\\cdots C_{p,j_{p}}\\cdots C_{k,j_{k}}\\cdots C_{q,j_{q}}\\cdots \\\\\n",
    "& = \\sum_{(\\cdots,j_{p},\\cdots,j_{k},\\cdots,j_{q},\\cdots)}sgn(\\cdots,j_{p},\\cdots,j_{k},\\cdots,j_{q},\\cdots)\\cdots C_{p,j_{p}}\\cdots (\\alpha A_{k,j_{k}}+\\beta B_{k,j_{k}})\\cdots C_{q,j_{q}}\\cdots \\\\\n",
    "& = \\alpha\\sum_{(\\cdots,j_{p},\\cdots,j_{k},\\cdots,j_{q},\\cdots)}sgn(\\cdots,j_{p},\\cdots,j_{k},\\cdots,j_{q},\\cdots)\\cdots C_{p,j_{p}}\\cdots A_{k,j_{k}}\\cdots C_{q,j_{q}}\\cdots \\\\\n",
    "& + \\beta\\sum_{(\\cdots,j_{p},\\cdots,j_{k},\\cdots,j_{q},\\cdots)}sgn(\\cdots,j_{p},\\cdots,j_{k},\\cdots,j_{q},\\cdots)\\cdots C_{p,j_{p}}\\cdots B_{k,j_{k}}\\cdots C_{q,j_{q}}\\cdots \\\\\n",
    "& = \\alpha\\sum_{(\\cdots,j_{p},\\cdots,j_{k},\\cdots,j_{q},\\cdots)}sgn(\\cdots,j_{p},\\cdots,j_{k},\\cdots,j_{q},\\cdots)\\cdots A_{p,j_{p}}\\cdots A_{k,j_{k}}\\cdots A_{q,j_{q}}\\cdots \\\\\n",
    "& + \\beta\\sum_{(\\cdots,j_{p},\\cdots,j_{k},\\cdots,j_{q},\\cdots)}sgn(\\cdots,j_{p},\\cdots,j_{k},\\cdots,j_{q},\\cdots)\\cdots B_{p,j_{p}}\\cdots B_{k,j_{k}}\\cdots B_{q,j_{q}}\\cdots \\\\\n",
    "& = \\alpha\\det(A)+\\beta\\det(B).\n",
    "\\end{align}\n",
    "\n",
    "__Exercício:__ Verifique que se $A,B,C$ são matrizes iguais a menos da $k$-ésima coluna. E essa coluna de $C$ é uma combinação linear das linhas correspondentes de $A$ e $B$, i.e., $C_{j_{k},k} = \\alpha A_{j_{k},k}+\\beta B_{j_{k},k}$ com $\\alpha,\\beta\\in\\mathbb{C}$. Para estas matrizes, temos $\\det(C)=\\alpha\\det(A)+\\beta\\det(B).$"
   ]
  },
  {
   "cell_type": "markdown",
   "metadata": {},
   "source": [
    "### Lema\n",
    "Seja\n",
    "\\begin{equation}\n",
    "A = \\begin{bmatrix} B & * \\\\ \\mathbb{0} & b  \\end{bmatrix}\n",
    "\\end{equation}\n",
    "uma matriz $n\\text{x}n$, onde $B$ é uma matriz $(n-1)\\text{x}(n-1)$, $\\mathbb{0}$ é uma matriz linha nula, $1\\text{x}(n-1)$, e $*$ é uma matriz coluna qualquer, $(n-1)\\text{x}1$. Segue que\n",
    "\\begin{equation}\n",
    "\\det(A)=b\\det(B).\n",
    "\\end{equation}\n",
    "#### Prova\n",
    "Começamos usando o determinante em sua forma \"usual\"\n",
    "\\begin{align}\n",
    "\\det(A) & = \\sum_{(j_{1},j_{2},\\cdots,j_{n-1},j_{n})}sgn_{n}(j_{1},j_{2},\\cdots,j_{n-1},j_{n})A_{1,j_{1}}A_{2,j_{2}}\\cdots A_{n-1,j_{n-1}}A_{n,j_{n}} \\\\\n",
    "& = \\sum_{(j_{1},j_{2},\\cdots,j_{n-1},j_{n})}sgn_{n}(j_{1},j_{2},\\cdots,j_{n-1},j_{n})B_{1,j_{1}}B_{2,j_{2}}\\cdots B_{n-1,j_{n-1}}b\\delta_{n,j_{n}} \\\\\n",
    "& = b\\sum_{(j_{1},j_{2},\\cdots,j_{n-1}}sgn_{n}(j_{1},j_{2},\\cdots,j_{n-1},n)B_{1,j_{1}}B_{2,j_{2}}\\cdots B_{n-1,j_{n-1}} \\\\\n",
    "& = b\\sum_{(j_{1},j_{2},\\cdots,j_{n-1}}(-1)^{n-n}sgn_{n-1}(j_{1},j_{2},\\cdots,j_{n-1})B_{1,j_{1}}B_{2,j_{2}}\\cdots B_{n-1,j_{n-1}} \\\\\n",
    "& = b\\det(B).\n",
    "\\end{align}\n",
    "\n",
    "__Exercício:__ Prove que para $A = \\begin{bmatrix} B & \\mathbb{0} \\\\ * & b  \\end{bmatrix}$\n",
    "uma matriz $n\\text{x}n$, com $B$ é uma matriz $(n-1)\\text{x}(n-1)$, $\\mathbb{0}$ é uma matriz coluna nula, $(n-1)\\text{x}1$, e $*$ é uma matriz linha qualquer, $1\\text{x}(n-1))$, teremos $\\det(A)=b\\det(B).$\n",
    "\n",
    "__Exercício:__ Utilize o resultado deste último lema para verificar que o determinante de uma matrix triangular superior,\n",
    "\\begin{equation}\n",
    "T = \n",
    "\\begin{bmatrix}\n",
    "T_{1,1} & T_{1,2} & T_{1,3} & \\cdots & T_{1,n} \\\\\n",
    "0 & T_{2,2} & T_{2,3} & \\cdots & T_{2,n} \\\\\n",
    "0 & 0 & T_{3,3} & \\cdots & T_{3,n} \\\\\n",
    "\\vdots & \\vdots & \\vdots & \\ddots & \\vdots \\\\\n",
    "0 & 0 & 0 & \\cdots & T_{n,n} \\\\\n",
    "\\end{bmatrix},\n",
    "\\end{equation}\n",
    "é dado pelo produtos dos elementos na diagonal principal:\n",
    "\\begin{equation}\n",
    "\\det(T) = T_{1,1}T_{2,2}T_{3,3}\\cdots T_{n,n} =: \\Pi_{j=1}^{n}T_{j,j}.\n",
    "\\end{equation}"
   ]
  },
  {
   "cell_type": "markdown",
   "metadata": {},
   "source": [
    "### Menor de uma matriz\n",
    "Por definição, o menor $A^{(j,k)}\\in\\mathbb{C}^{(n-1)\\text{x}(n-1)}$ de uma matriz $A\\in\\mathbb{C}^{n\\text{x}n}$ é obtido excluíndo-se a $j$-ésima linha e $k$-ésima coluna de $A$. <br>\n",
    "_Exemplo:_\n",
    "\\begin{equation}\n",
    "A = \\begin{bmatrix} 2 & 3 & 5 \\\\ 7 & 11 & 13 \\\\ 17 & 19 & 23  \\end{bmatrix} \\Rightarrow A^{(1,2)} = \\begin{bmatrix} 7 & 13 \\\\ 17 & 23  \\end{bmatrix}.\n",
    "\\end{equation}\n",
    "__Exercício:__ Para essa matriz, obtenha o menor $A^{(2,3)}$."
   ]
  },
  {
   "cell_type": "markdown",
   "metadata": {},
   "source": [
    "### Matriz cofator\n",
    "Por definição, a matriz cofator $cof(A)\\in\\mathbb{C}^{n\\text{x}n}$ de uma matriz $A\\in\\mathbb{C}^{n\\text{x}n}$ é obtida como segue\n",
    "\\begin{equation}\n",
    "cof(A) = \\left(cof(A)_{j,k}\\right) = \\left((-1)^{j+k}\\det(A^{(j,k)})\\right).\n",
    "\\end{equation}\n",
    "_Exemplo:_ Para a matriz do último exemplo, termos e.g. que\n",
    "\\begin{align}\n",
    "cof(A)_{1,3} & = (-1)^{1+3}\\det\\begin{bmatrix}7 & 11 \\\\ 17 & 19 \\end{bmatrix} \\\\\n",
    "& = (1)(7*19-11*17) = -54.\n",
    "\\end{align}\n",
    "\n",
    "__Exercício:__ Calcule $cof(A)_{2,1}$."
   ]
  },
  {
   "cell_type": "markdown",
   "metadata": {},
   "source": [
    "## Teorema (expansão em cofatores)\n",
    "Seja $A\\in\\mathbb{C}^{n\\text{x}n}$ com $n\\ge2$. Podemos escrever o determinante dessa matriz como\n",
    "\\begin{equation}\n",
    "\\det(A) = \\sum_{k=1}^{n}A_{j,k}cof(A)_{j,k}=\\sum_{j=1}^{n}A_{j,k}cof(A)_{j,k},\n",
    "\\end{equation}\n",
    "com a primeira sendo chamada de expansão na linha $j$ e a segunda é denominada expansão na coluna $k$.\n"
   ]
  },
  {
   "cell_type": "markdown",
   "metadata": {},
   "source": [
    "#### Prova\n",
    "Considera um conjunto de $n$ matrizes $B^{(k)}\\in\\mathbb{C}^{n\\text{x}n}$ que são iguais a $A$ a menos da $j$-ésima linha, cujos elementos são todos nulos a menos daquele na coluna $k$, que é igual a $A_{j,k}$. Então, se donotamos a $j$-ésima linha de $A$ por $\\langle A_{j}|$ e similarmente para a $j$-ésima linha de $B^{(k)}$, $\\langle B^{(k)}_{j}|$, teremos que\n",
    "\\begin{align}\n",
    "\\langle A_{j}| & = \\begin{bmatrix} A_{j,1} & A_{j,2} & \\cdots & A_{j,n} \\end{bmatrix} \\\\\n",
    "& = (1)\\begin{bmatrix} A_{j,1} & 0 & \\cdots & 0 \\end{bmatrix} + (1)\\begin{bmatrix} 0 & A_{j,2} & \\cdots & 0 \\end{bmatrix} +\\cdots+ (1)\\begin{bmatrix} 0 & 0 & \\cdots & A_{j,n} \\end{bmatrix} \\\\\n",
    "& = (1)\\langle B^{(1)}_{j}| + (1)\\langle B^{(2)}_{j}|+\\cdots+(1)\\langle B^{(n)}_{j}| \\\\\n",
    "& = \\sum_{k=1}^{n}(1)\\langle B^{(k)}_{j}|.\n",
    "\\end{align}\n",
    "Mas, em vistas do penúltimo lema que provamos, teremos que o determinante de $A$ é a combinação linear dos determinantes das matrizes $B^{(k)}$, com todos os coeficientes iguais a um:\n",
    "\\begin{equation}\n",
    "\\det(A) = \\sum_{k=1}^{n}\\det(B^{(k)}).\n",
    "\\end{equation}"
   ]
  },
  {
   "cell_type": "markdown",
   "metadata": {},
   "source": [
    "Para continuar com a prova faremos uso último lema que provamos. Lembrando, lá tínhamos uma matriz cuja $n$-ésima linha era nula a menos do elemento na $n$-ésima coluna. Precisamos colocar todas as matrizes $B^{(k)}$ nessa forma:\n",
    "\\begin{align}\n",
    "& B^{(k)} = \\begin{bmatrix} \n",
    "A_{1,1} & \\cdots & A_{1,k-1} & A_{1,k} & A_{1,k+1} & \\cdots & A_{1,n}  \\\\ \\vdots & \\vdots & \\vdots & \\vdots & \\vdots & \\vdots & \\vdots \\\\ A_{j-1,1} & \\cdots & A_{j-1,k-1} & A_{j-1,k} & A_{j-1,k+1} & \\cdots & A_{j-1,n} \\\\ 0 & \\cdots & 0 & A_{j,k} & 0 & \\cdots & 0  \\\\ A_{j+1,1} & \\cdots & A_{j+1,k-1} & A_{j+1,k} & A_{j+1,k+1} & \\cdots & A_{j+1,n} \\\\ \\vdots & \\vdots & \\vdots & \\vdots & \\vdots & \\vdots & \\vdots  \\\\ A_{n,1} & \\cdots & A_{n,k-1} & A_{n,k} & A_{n,k+1} & \\cdots & A_{n,n} \\end{bmatrix} \\\\\n",
    "& \\longrightarrow\n",
    "\\begin{bmatrix} \n",
    "A_{1,1} & \\cdots & A_{1,k-1} & A_{1,k} & A_{1,k+1} & \\cdots & A_{1,n}  \\\\ \\vdots & \\vdots & \\vdots & \\vdots & \\vdots & \\vdots & \\vdots \\\\ A_{j-1,1} & \\cdots & A_{j-1,k-1} & A_{j-1,k} & A_{j-1,k+1} & \\cdots & A_{j-1,n}  \\\\ A_{j+1,1} & \\cdots & A_{j+1,k-1} & A_{j+1,k} & A_{j+1,k+1} & \\cdots & A_{j+1,n} \\\\ \\vdots & \\vdots & \\vdots & \\vdots & \\vdots & \\vdots & \\vdots  \\\\ A_{n,1} & \\cdots & A_{n,k-1} & A_{n,k} & A_{n,k+1} & \\cdots & A_{n,n} \\\\ 0 & \\cdots & 0 & A_{j,k} & 0 & \\cdots & 0 \\end{bmatrix} \\\\\n",
    "& \\longrightarrow\n",
    "\\begin{bmatrix} \n",
    "A_{1,1} & \\cdots & A_{1,k-1} & A_{1,k+1} & \\cdots & A_{1,n} & A_{1,k}  \\\\ \\vdots & \\vdots & \\vdots & \\vdots & \\vdots & \\vdots & \\vdots \\\\ A_{j-1,1} & \\cdots & A_{j-1,k-1} & A_{j-1,k+1} & \\cdots & A_{j-1,n} & A_{j-1,k}  \\\\ A_{j+1,1} & \\cdots & A_{j+1,k-1} & A_{j+1,k+1} & \\cdots & A_{j+1,n} & A_{j+1,k} \\\\ \\vdots & \\vdots & \\vdots & \\vdots & \\vdots & \\vdots & \\vdots  \\\\ A_{n,1} & \\cdots & A_{n,k-1} & A_{n,k+1} & \\cdots & A_{n,n} & A_{n,k} \\\\ 0 & \\cdots & 0 & 0 & \\cdots & 0 & A_{j,k} \\end{bmatrix},\n",
    "\\end{align}\n",
    "onde para a primeira passagem fizemos $n-j$ trocas de linhas e para a segunda passagem fizemos $n-k$ trocas de colunas. "
   ]
  },
  {
   "cell_type": "markdown",
   "metadata": {},
   "source": [
    "Como para cada troca entre linhas ou colunas trocamos o sinal do determinante, teremos\n",
    "\\begin{align}\n",
    "\\det(B^{(k)} & = (-1)^{n-k}(-1)^{n-j}\\det\n",
    "\\begin{bmatrix} \n",
    "A_{1,1} & \\cdots & A_{1,k-1} & A_{1,k+1} & \\cdots & A_{1,n} & A_{1,k}  \\\\ \\vdots & \\vdots & \\vdots & \\vdots & \\vdots & \\vdots & \\vdots \\\\ A_{j-1,1} & \\cdots & A_{j-1,k-1} & A_{j-1,k+1} & \\cdots & A_{j-1,n} & A_{j-1,k}  \\\\ A_{j+1,1} & \\cdots & A_{j+1,k-1} & A_{j+1,k+1} & \\cdots & A_{j+1,n} & A_{j+1,k} \\\\ \\vdots & \\vdots & \\vdots & \\vdots & \\vdots & \\vdots & \\vdots  \\\\ A_{n,1} & \\cdots & A_{n,k-1} & A_{n,k+1} & \\cdots & A_{n,n} & A_{n,k} \\\\ 0 & \\cdots & 0 & 0 & \\cdots & 0 & A_{j,k} \\end{bmatrix} \\\\\n",
    "& = (-1)^{2n}(-1)^{-(j+k)}A_{j,k}\\det\n",
    "\\begin{bmatrix} \n",
    "A_{1,1} & \\cdots & A_{1,k-1} & A_{1,k+1} & \\cdots & A_{1,n}  \\\\ \\vdots & \\vdots & \\vdots & \\vdots & \\vdots & \\vdots \\\\ A_{j-1,1} & \\cdots & A_{j-1,k-1} & A_{j-1,k+1} & \\cdots & A_{j-1,n}  \\\\ A_{j+1,1} & \\cdots & A_{j+1,k-1} & A_{j+1,k+1} & \\cdots & A_{j+1,n} \\\\ \\vdots & \\vdots & \\vdots & \\vdots & \\vdots & \\vdots  \\\\ A_{n,1} & \\cdots & A_{n,k-1} & A_{n,k+1} & \\cdots & A_{n,n} \\end{bmatrix} \\\\\n",
    "& = \\frac{1}{(-1)^{j+k}}A_{j,k}\\det(A^{(j,k)}) \\\\\n",
    "& = (-1)^{j+k}A_{j,k}\\det(A^{(j,k)}) \\\\\n",
    "& = A_{j,k}cof(A)_{j,k}.\n",
    "\\end{align}\n",
    "Com isso concluímos a verificação de que $\\det(A) = \\sum_{k=1}^{n}A_{j,k}cof(A)_{j,k}$.\n",
    "\n",
    "__Exercício:__ Prove que $\\det(A) = \\sum_{j=1}^{n}A_{j,k}cof(A)_{j,k}$."
   ]
  },
  {
   "cell_type": "markdown",
   "metadata": {},
   "source": [
    "_Exemplo:_ Determinante de uma matriz triangular inferior\n",
    "\\begin{equation}\n",
    "T = \\begin{bmatrix}\n",
    "T_{1,1} & 0 & 0 & \\cdots & 0 \\\\\n",
    "T_{2,1} & T_{2,2} & 0 & \\cdots & 0 \\\\\n",
    "T_{3,1} & T_{3,2} & T_{3,3} & \\cdots &0 \\\\\n",
    "\\vdots & \\vdots & \\vdots & \\ddots & \\vdots \\\\\n",
    "T_{n-1,1} & T_{n-1,2} & T_{n-1,3} & \\cdots & 0 \\\\\n",
    "T_{n,1} & T_{n,2} & T_{n,3} & \\cdots & T_{n,n}\n",
    "\\end{bmatrix}\n",
    "\\end{equation}\n",
    "Expande em cofatores na primeira linha\n",
    "\\begin{align}\n",
    "\\det(T) & = T_{1,1}cof(T)_{1,1}+\\sum_{k=2}^{n}0cof(T)_{1,k} \\\\\n",
    "& = T_{1,1}(-1)^{1+1}\\det(T^{(1,1)}) \\\\\n",
    "& = T_{1,1}\\det\n",
    "\\begin{bmatrix}\n",
    "T_{2,2} & 0 & \\cdots & 0 \\\\\n",
    "T_{3,2} & T_{3,3} & \\cdots &0 \\\\\n",
    "\\vdots & \\vdots & \\ddots & \\vdots \\\\\n",
    "T_{n-1,2} & T_{n-1,3} & \\cdots & 0\\\\\n",
    "T_{n,2} & T_{n,3} & \\cdots & T_{n,n}\n",
    "\\end{bmatrix} \\\\\n",
    "& = T_{1,1}T_{2,2}(-1)^{1+1}\\det\\begin{bmatrix}\n",
    "T_{3,3} & \\cdots &0 \\\\\n",
    "\\vdots & \\ddots & \\vdots \\\\\n",
    "T_{n-1,3} & \\cdots & 0\\\\\n",
    "T_{n,3} & \\cdots & T_{n,n}\n",
    "\\end{bmatrix} \\\\\n",
    "& \\vdots \\\\\n",
    "& =\\Pi_{j=1}^{n}T_{j,j}.\n",
    "\\end{align}"
   ]
  },
  {
   "cell_type": "markdown",
   "metadata": {},
   "source": [
    "## Fórmula para a inversa\n",
    "A _inversa_ de uma matrix $A\\in\\mathbb{C}^{n\\text{x}n}$ é denotada por $A^{-1}$ e é definida pelas igualdades:\n",
    "\\begin{equation}\n",
    "A^{-1}A = AA^{-1} = \\mathbb{I}_{n},\n",
    "\\end{equation}\n",
    "com $\\mathbb{I}_{n}$ sendo a matriz identidade $n\\text{x}n$.\n",
    "\n",
    "### Teorema\n",
    "$A^{-1}$ existe se e somente se $\\det(A)\\ne 0$. Se $\\det(A)\\ne0$, os elementos de matriz da inversa podem ser escritos como:\n",
    "\\begin{equation}\n",
    "(A^{-1})_{j,k} = \\frac{cof(A)_{k,j}}{\\det(A)},\n",
    "\\end{equation}\n",
    "ou seja, identificamos a inversa de uma matriz com a transposta da sua matriz de cofatores dividida pelo seu determinante."
   ]
  },
  {
   "cell_type": "markdown",
   "metadata": {},
   "source": [
    "#### Prova\n",
    "Começamos assumindo que a inversa existe. Então teremos que\n",
    "\\begin{align}\n",
    "& \\det(A^{-1}A) = \\det(A^{-1})\\det(A) \\\\\n",
    "& = \\det(\\mathbb{I}_{n}) = 1,\n",
    "\\end{align}\n",
    "o que implica que o determinante da matriz $A$ não pode ser nulo, i.e., $\\exists A^{-1}\\Rightarrow \\det(A)\\ne0$.\n",
    "\n",
    "Agora assuminos que $\\det(A)\\ne0$. Usando a expansão em cofatores podemos escrever\n",
    "\\begin{align}\n",
    "1 & = \\frac{\\det(A)}{\\det(A)} = \\frac{\\sum_{k=1}^{n}A_{j,k}cof(A)_{j,k}}{\\det(A)} \\\\\n",
    "& =: \\sum_{k=1}^{n}A_{j,k}(A^{-1})_{k,j}=(AA^{-1})_{j,j}.\n",
    "\\end{align}\n",
    "\n",
    "__Exercício:__ Use a definição $(A^{-1})_{j,k}=cof(A)_{k,j}/\\det(A)$ e o mesmo tipo de argumento para mostrar que $(A^{-1}A)_{j,j}=1$."
   ]
  },
  {
   "cell_type": "markdown",
   "metadata": {},
   "source": [
    "Para provar que essa definição realmente fornece a inversa, falta ainda verificarmos que $(A^{-1}A)_{j,k}=0$ se $j\\ne k$. Pra isso, vamos encontrar uma matriz cujo determinante possa ser escrito como nessa expressão mas que sabemos ser nulo. Consideremos uma matriz $B$ que é igual a $A$ a menos da coluna $k>l,$ que é igual à coluna $l$ de $A$. Olhando para\n",
    "\\begin{align}\n",
    "B & = \\begin{bmatrix} \\vdots&\\vdots&\\vdots&\\vdots&\\vdots&\\vdots&\\vdots&\\vdots&\\vdots \\\\ \\cdots&B_{j-1,l-1}&B_{j-1,l}&B_{j-1,l+1}&\\cdots&B_{j-1,k-1}&B_{j-1,k}&B_{j-1,k+1}&\\cdots \\\\ \\cdots&B_{j,l-1}&B_{j,l}&B_{j,l+1}&\\cdots&B_{j,k-1}&B_{j,k}&B_{j,k+1}&\\cdots \\\\ \\cdots&B_{j+1,l-1}&B_{j+1,l}&B_{j+1,l+1}&\\cdots&B_{j+1,k-1}&B_{j+1,k}&B_{j+1,k+1}&\\cdots \\\\ \\vdots&\\vdots&\\vdots&\\vdots&\\vdots&\\vdots&\\vdots&\\vdots&\\vdots  \\end{bmatrix} \n",
    "\\\\\n",
    "& = \\begin{bmatrix} \\vdots&\\vdots&\\vdots&\\vdots&\\vdots&\\vdots&\\vdots&\\vdots&\\vdots \\\\ \\cdots&A_{j-1,l-1}&A_{j-1,l}&A_{j-1,l+1}&\\cdots&A_{j-1,k-1}&A_{j-1,l}&A_{j-1,k+1}&\\cdots \\\\ \\cdots&A_{j,l-1}&A_{j,l}&A_{j,l+1}&\\cdots&A_{j,k-1}&A_{j,l}&A_{j,k+1}&\\cdots \\\\ \\cdots&A_{j+1,l-1}&A_{j+1,l}&A_{j+1,l+1}&\\cdots&A_{j+1,k-1}&A_{j+1,l}&A_{j+1,k+1}&\\cdots \\\\ \\vdots&\\vdots&\\vdots&\\vdots&\\vdots&\\vdots&\\vdots&\\vdots&\\vdots  \\end{bmatrix}\n",
    "\\end{align}\n",
    "vemos que os menores\n",
    "\\begin{equation}\n",
    "B^{(j,k)} = \\begin{bmatrix} \\vdots&\\vdots&\\vdots&\\vdots&\\vdots&\\vdots&\\vdots&\\vdots \\\\ \\cdots&A_{j-1,l-1}&A_{j-1,l}&A_{j-1,l+1}&\\cdots&A_{j-1,k-1}&A_{j-1,k+1}&\\cdots \\\\ \\cdots&A_{j+1,l-1}&A_{j+1,l}&A_{j+1,l+1}&\\cdots&A_{j+1,k-1}&A_{j+1,k+1}&\\cdots \\\\ \\vdots&\\vdots&\\vdots&\\vdots&\\vdots&\\vdots&\\vdots&\\vdots  \\end{bmatrix} \n",
    "\\end{equation}\n",
    "e\n",
    "\\begin{equation}\n",
    "B^{(j,l)} = \\begin{bmatrix} \\vdots&\\vdots&\\vdots&\\vdots&\\vdots&\\vdots&\\vdots&\\vdots \\\\ \\cdots&A_{j-1,l-1}&A_{j-1,l+1}&\\cdots&A_{j-1,k-1}&A_{j-1,l}&A_{j-1,k+1}&\\cdots \\\\ \\cdots&A_{j+1,l-1}&A_{j+1,l+1}&\\cdots&A_{j+1,k-1}&A_{j+1,l}&A_{j+1,k+1}&\\cdots \\\\ \\vdots&\\vdots&\\vdots&\\vdots&\\vdots&\\vdots&\\vdots&\\vdots  \\end{bmatrix} \n",
    "\\end{equation}\n",
    "são iguais a menos de $k-l$ trocas de colunas. Como cada troca entre colunas troca o sinal do determinante, teremos a seguinte expansão em cofatores na coluna $l$ de $B$:\n",
    "\\begin{align}\n",
    "0 & = \\det(B) = \\sum_{j}B_{j,l}cof(B)_{j,l} = \\sum_{j}B_{j,l}(-1)^{j+l}\\det(B^{(j,l)}) \\\\\n",
    "& = \\sum_{j}A_{j,l}(-1)^{j+l}(-1)^{k-l}\\det(B^{(j,k)}) \\\\\n",
    "& = \\sum_{j}A_{j,l}(-1)^{j+k}\\det(A^{(j,k)}) = \\sum_{j}A_{j,l}cof(A)_{j,k} \\\\\n",
    "& = \\det(A)\\sum_{j}A_{j,l}cof(A)_{j,k}/\\det(A) =  \\det(A)\\sum_{j}A_{j,l}(A^{-1})_{k,j} \\\\\n",
    "& = \\det(A)\\sum_{j}(A^{-1})_{k,j}A_{j,l} \\\\\n",
    "& = (A^{-1}A)_{k,l}.\n",
    "\\end{align}\n",
    "Vemos assim que $\\det(A)\\ne0\\Rightarrow \\exists A^{-1}$, completando a prova do teorema."
   ]
  },
  {
   "cell_type": "markdown",
   "metadata": {},
   "source": [
    "__Exercício:__ Usando o mesmo tipo de procedimento, verifique que $(AA^{-1})_{k,l}=0$ para $k\\ne l$.\n",
    "\n",
    "#### Exemplo\n",
    "Consideremos como exemplo a matriz $A=\\begin{bmatrix} 2 & 3 \\\\ 5 & 7 \\end{bmatrix}$, para a qual $\\det(A)=-1$. Nesse caso\n",
    "\\begin{align}\n",
    "& (A^{-1})_{1,1} = cof(A)_{1,1}/det(A) = -(-1)^{1+1}\\det(A^{1,1})=-7, \\\\\n",
    "& (A^{-1})_{1,2} = cof(A)_{2,1}/det(A) = -(-1)^{2+1}\\det(A^{2,1})=3, \\\\\n",
    "& (A^{-1})_{2,1} = cof(A)_{1,2}/det(A) = -(-1)^{1+2}\\det(A^{1,2})=5, \\\\\n",
    "& (A^{-1})_{2,2} = cof(A)_{2,2}/det(A) = -(-1)^{2+2}\\det(A^{2,2})=-2.\n",
    "\\end{align}\n",
    "Então $A^{-1}=\\begin{bmatrix} -7 & 3 \\\\ 5 & -2 \\end{bmatrix}$. Para verificação considera\n",
    "\\begin{equation}\n",
    "AA^{-1} = \\begin{bmatrix} 2 & 3 \\\\ 5 & 7 \\end{bmatrix}\\begin{bmatrix} -7 & 3 \\\\ 5 & -2 \\end{bmatrix}=\\begin{bmatrix} 1 & 0 \\\\ 0 & 1 \\end{bmatrix}.\n",
    "\\end{equation}\n",
    "\n",
    "__Exercício:__ Usando a relação com a matriz de cofatores, calcule a inversa da matriz: $A=\\begin{bmatrix} 2 & 3 & 5 \\\\ 7 & 11 & 13 \\\\ 17 & 19 & 23  \\end{bmatrix}$."
   ]
  },
  {
   "cell_type": "markdown",
   "metadata": {},
   "source": [
    "## Sistemas de equações lineares não homogêneas (SELNH)\n",
    "Considere um SELNH\n",
    "\\begin{equation}\n",
    "A|x\\rangle = |y\\rangle,\n",
    "\\end{equation}\n",
    "com $A\\in\\mathbb{C}^{n\\text{x}n}$ e $|x\\rangle,|y\\rangle\\in\\mathbb{C}^{n}$ com $|y\\rangle\\ne|\\oslash\\rangle$, onde $|\\oslash\\rangle$ é o vetor nulo. Determinar a solução desse SELNH é obter  $|x\\rangle$ dada a matriz de coeficientes $A$ e o vetor de não homogeneidade $|y\\rangle$. Um caso especial onde podemos obter essa solução, é quando a matriz de coeficientes possui inversa. Nesse caso\n",
    "\\begin{equation}\n",
    "|x\\rangle=A^{-1}A|x\\rangle = A^{-1}|y\\rangle.\n",
    "\\end{equation}\n",
    "Uma regra mnemônica bem conhecida nesse contexto é a __regra de Kramer__, que é obtida como segue. Considere\n",
    "\\begin{align}\n",
    "|x\\rangle_{j} & =  (A^{-1}|y\\rangle)_{j} = \\sum_{k=1}^{n}(A^{-1})_{j,k}|y\\rangle_{k} \\\\\n",
    "& = \\sum_{k=1}^{n}\\frac{cof(A)_{k,j}}{\\det(A)}|y\\rangle_{k} = \\frac{\\sum_{k=1}^{n}|y\\rangle_{k} (-1)^{k+j}\\det(A^{(k,j)})}{\\det(A)} \\\\\n",
    "& =: \\frac{\\sum_{k=1}^{n}K^{(j)}_{k,j} cof(K^{(j)})_{k,j}}{\\det(A)} \\\\\n",
    "& = \\frac{\\det(K^{(j)})}{\\det{A}},\n",
    "\\end{align}\n",
    "onde definimos as _matrizes de Kramer_\n",
    "\\begin{align}\n",
    "K^{(j)} & = \\begin{bmatrix} \\cdots & K^{(j)}_{1,j-1} & K^{(j)}_{1,j} & K^{(j)}_{1,j+1} & \\cdots \\\\  \\cdots & K^{(j)}_{2,j-1} & K^{(j)}_{2,j} & K^{(j)}_{2,j+1} & \\cdots \\\\ \\vdots & \\vdots & \\vdots & \\vdots & \\cdots \\\\ \\cdots & K^{(j)}_{n,j-1} & K^{(j)}_{n,j} & K^{(j)}_{n,j+1} & \\cdots \\\\  \\end{bmatrix} \\\\ \n",
    "& := \\begin{bmatrix} \\cdots & A^{(j)}_{1,j-1} & |y\\rangle_{1} & A^{(j)}_{1,j+1} & \\cdots \\\\  \\cdots & A^{(j)}_{2,j-1} & |y\\rangle_{2} & A^{(j)}_{2,j+1} & \\cdots \\\\ \\vdots & \\vdots & \\vdots & \\vdots & \\cdots \\\\ \\cdots & A^{(j)}_{n,j-1} & |y\\rangle_{n} & A^{(j)}_{n,j+1} & \\cdots \\\\  \\end{bmatrix},\n",
    "\\end{align}\n",
    "que são obtidas substituindo-se a $j$-ésima coluna de $A$ por $|y\\rangle$."
   ]
  },
  {
   "cell_type": "markdown",
   "metadata": {},
   "source": [
    "#### Exemplo\n",
    "Considere seguinte SELNH:\n",
    "\\begin{align}\n",
    "& 2|x\\rangle_{1}+3|x\\rangle_{2} = 5 \\\\\n",
    "& 7|x\\rangle_{1}+11|x\\rangle_{2} = 13.\n",
    "\\end{align}\n",
    "Notemos primeiro que $\\det(A)=\\det\\begin{bmatrix}2 & 3 \\\\ 7 & 11\\end{bmatrix}=1$. A solução desse SELNH é\n",
    "\\begin{align}\n",
    "& |x\\rangle_{1} = \\frac{\\det(K^{(1)})}{\\det(A)} = \\frac{\\det\\begin{bmatrix}5 & 3 \\\\ 13 & 11\\end{bmatrix}}{1} = 16 \\\\\n",
    "& |x\\rangle_{2} = \\frac{\\det(K^{(2)})}{\\det(A)} = \\frac{\\det\\begin{bmatrix}2 & 5 \\\\ 7 & 13 \\end{bmatrix}}{1} = -9.\n",
    "\\end{align}\n",
    "Verificação: $2(16)+3(-9)=5$ e $7(16)+11(-9)=13$.\n",
    "\n",
    "__Exercício:__ Obtenha a solução, via regra de Kramer, de um SELNH especificado pela matrix de coeficientes $A=\\begin{bmatrix} 2 & 3 & 5 \\\\ 7 & 11 & 13 \\\\ 17 & 19 & 23  \\end{bmatrix}$ e pelo vetor de não homogeneidade $|y\\rangle = \\begin{bmatrix} 29 \\\\ 31 \\\\ 37 \\end{bmatrix}$."
   ]
  },
  {
   "cell_type": "markdown",
   "metadata": {},
   "source": [
    "## Método de eliminação de Gauss\n",
    "Esse método é utilizado para colocar uma matriz na forma triangular através de operações que não alteram seu determinante. Note que depois de feito isso, precisamos de somente um produto de $n$ números para calcular o determinante, em lugar dos $n!$ produtos na definição original. <br>\n",
    "Vamos denotar a $j$-ésima linha de uma matriz $A\\in\\mathbb{C}^{n\\text{x}m}$ por $|L_{j}^{A}\\rangle$. Consideremos que substituímos em uma linha de $A$ a combinação linear dessa linha com uma ou mais das suas outras linhas, i.e.,\n",
    "\\begin{equation}\n",
    "|L_{j}^{A}\\rangle \\rightarrow |L_{j}^{A}\\rangle+c|L_{l}^{A}\\rangle\n",
    "\\end{equation}\n",
    "com $c\\in\\mathbb{C}$. O determinante de $A$ não muda por esse tipo de operação pois\n",
    "\\begin{align}\n",
    "& \\sum_{(\\cdots,k_{j-1},k_{j},k_{j+1},\\cdots,k_{l},\\cdots)}sgn(\\cdots,k_{j-1},k_{j},k_{j+1},\\cdots,k_{l},\\cdots)\\cdots A_{j-1,k_{j-1}}(A_{j,k_{j}}+cA_{l,k_{j}})A_{j+1,k_{j+1}}\\cdots A_{l,k_{l}}\\cdots \\\\\n",
    "& = \\sum_{(\\cdots,k_{j-1},k_{j},k_{j+1},\\cdots,k_{l},\\cdots)}sgn(\\cdots,k_{j-1},k_{j},k_{j+1},\\cdots)\\cdots A_{j-1,k_{j-1}}A_{j,k_{j}}A_{j+1,k_{j+1}}\\cdots A_{l,k_{l}}\\cdots \\\\\n",
    "& +c\\sum_{(\\cdots,k_{j-1},k_{j},k_{j+1},\\cdots,k_{l},\\cdots)}sgn(\\cdots,k_{j-1},k_{j},k_{j+1},\\cdots)\\cdots A_{j-1,k_{j-1}}A_{l,k_{j}}A_{j+1,k_{j+1}}\\cdots A_{l,k_{l}}\\cdots \\\\\n",
    "& = \\det(A) + \\text{ (det de uma matriz com 2 linhas iguais)} \\\\\n",
    "& = \\det(A).\n",
    "\\end{align}"
   ]
  },
  {
   "cell_type": "markdown",
   "metadata": {},
   "source": [
    "### Algoritmo\n",
    "Considera\n",
    "\\begin{equation}\n",
    "A = \\begin{bmatrix} A_{1,1} & A_{1,2} & A_{1,3} & \\cdots & A_{1,n} \\\\ A_{2,1} & A_{2,2} & A_{2,3} & \\cdots & A_{2,n} \\\\ A_{3,1} & A_{3,2} & A_{3,3} & \\cdots & A_{3,n} \\\\ \\vdots & \\vdots & \\vdots & \\ddots & \\vdots \\\\ A_{n-1,1} & A_{n-1,2} & A_{n-1,3} & \\cdots & A_{n-1,n} \\\\ A_{n,1} & A_{n,2} & A_{n,3} & \\cdots & A_{n,n} \\end{bmatrix}.\n",
    "\\end{equation}"
   ]
  },
  {
   "cell_type": "markdown",
   "metadata": {},
   "source": [
    "Vamos deixar essa matriz na forma triangular superior sem mudar seu determinante. Se $A_{1,1}=0$, verifica se há $A_{j,1}\\ne0$ para algum $j=2,\\cdots,n$. Se não há, então $\\det(A)=0$. Se há, troca $|L_{1}^{A}\\rangle\\leftrightarrow|L_{j}^{A}\\rangle.$ Tendo $A_{1,1}\\ne 0$, zeramos todos os elementos abaixo de $A_{1,1}$ fazendo as substituições:\n",
    "\\begin{equation}\n",
    "|L_{j}^{A}\\rangle \\rightarrow |L_{j}^{A}\\rangle-(A_{j,1}/A_{1,1})|L_{1}^{A}\\rangle\n",
    "\\end{equation}\n",
    "para $j=2,\\cdots,n$. Seguindo, se $A_{2,2}\\ne 0$, zeramos os elementos abaixo de $A_{2,2}$ fazendo $|L_{j}^{A}\\rangle \\rightarrow |L_{j}^{A}\\rangle-(A_{j,2}/A_{2,2})|L_{2}^{A}\\rangle$ para $j=3,\\cdots,n$. E seguimos assim até $A_{n-1,n-1}$. Por fim, o produto dos elementos na diagonal principal nos fornecerão o determinante. <br>\n",
    "Tem dito que para entender realmente algum cálculo, etc, precimos programá-lo. Seguindo esse dito, o algoritmo de Gauss está implementado no código Sympy da função det_gauss."
   ]
  },
  {
   "cell_type": "code",
   "execution_count": 5,
   "metadata": {},
   "outputs": [],
   "source": [
    "def det_gauss(n,A):\n",
    "    det = 1\n",
    "    T = zeros(n,n)\n",
    "    for k in range(0,n-1):\n",
    "        if A[k,k] == 0:\n",
    "            for l in range(k+1,n):\n",
    "                if A[l,k] != 0:\n",
    "                    T[n-1,:] = A[k,:]\n",
    "                    A[k,:] = A[l,:]\n",
    "                    A[l,:] = T[n-1,:]\n",
    "                    det *= -1\n",
    "                    break\n",
    "        if A[k,k] == 0:\n",
    "            return 0\n",
    "        T[k,:] = A[k,:]\n",
    "        for j in range(k+1,n):\n",
    "            T[j,:] = A[j,:] - (A[j,k]/A[k,k])*A[k,:]\n",
    "    for j in range(0,n):\n",
    "        det *= T[j,j]\n",
    "    return det\n",
    "#det_gauss(2,Matrix([[2,3],[5,7]]))"
   ]
  },
  {
   "cell_type": "code",
   "execution_count": 8,
   "metadata": {},
   "outputs": [],
   "source": [
    "def triangular(n,A):\n",
    "    T = zeros(n,n)\n",
    "    for k in range(0,n-1):\n",
    "        if A[k,k] == 0:\n",
    "            for l in range(k+1,n):\n",
    "                if A[l,k] != 0:\n",
    "                    T[n-1,:] = A[k,:]\n",
    "                    A[k,:] = A[l,:]\n",
    "                    A[l,:] = T[n-1,:]\n",
    "                    break\n",
    "        T[k,:] = A[k,:]\n",
    "        for j in range(k+1,n):\n",
    "            T[j,:] = A[j,:] - (A[j,k]/A[k,k])*A[k,:]\n",
    "    return T\n",
    "#triangular(2,Matrix([[2,3],[5,7]]))"
   ]
  },
  {
   "cell_type": "markdown",
   "metadata": {},
   "source": [
    "__Exercício:__ Usando o método de Gauss, coloque a matriz $A=\\begin{bmatrix} 2 & 3 & 5 \\\\ 7 & 11 & 13 \\\\ 17 & 19 & 23  \\end{bmatrix}$ na forma triangular e calcule seu determinante. Use os códigos relacionados para verificar seus cálculos."
   ]
  },
  {
   "cell_type": "code",
   "execution_count": null,
   "metadata": {},
   "outputs": [],
   "source": []
  }
 ],
 "metadata": {
  "kernelspec": {
   "display_name": "Python 3",
   "language": "python",
   "name": "python3"
  },
  "language_info": {
   "codemirror_mode": {
    "name": "ipython",
    "version": 3
   },
   "file_extension": ".py",
   "mimetype": "text/x-python",
   "name": "python",
   "nbconvert_exporter": "python",
   "pygments_lexer": "ipython3",
   "version": "3.6.4"
  }
 },
 "nbformat": 4,
 "nbformat_minor": 2
}
