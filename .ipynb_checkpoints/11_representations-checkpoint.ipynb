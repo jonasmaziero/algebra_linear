{
 "cells": [
  {
   "cell_type": "markdown",
   "metadata": {},
   "source": [
    "## Notas de aula: Teoria de Grupos, Autor: Jonas Maziero, Departamento de Física, UFSM"
   ]
  },
  {
   "cell_type": "code",
   "execution_count": 1,
   "metadata": {},
   "outputs": [],
   "source": [
    "%run /Users/jonasmaziero/Dropbox/GitHub/algebra_linear/init.ipynb"
   ]
  },
  {
   "cell_type": "markdown",
   "metadata": {},
   "source": [
    "# Representações de um grupo\n",
    "A representação linear de um grupo $G$ é um homomorfismo entre este grupo e o grupo de operadores lineares inversíveis $A:\\mathcal{H}\\rightarrow\\mathcal{H}$. Como $A$ é isomórfico ao grupo de matrizes inversíveis que representam esses operadores lineares numa base $\\{|\\psi\\rangle\\}$, que denotaremos por $A_{\\psi}$, podemos nos referir a essas representações de forma indiferente:\n",
    "\\begin{equation}\n",
    "G\\mapsto A \\text{ ou } G\\mapsto A_{\\psi}.\n",
    "\\end{equation}\n",
    "\n",
    "## Equivalência entre representações\n",
    "Se operadores lineares das representações lineares $G\\mapsto A=\\{A_{j}\\}$ e $G\\mapsto B=\\{B_{j}\\}$, com $B:\\mathcal{H}\\rightarrow\\mathcal{H}$, são relacionados através de uma transformação de similaridade\n",
    "\\begin{equation}\n",
    "A_{j}=C*B_{j}*C^{-1},\n",
    "\\end{equation}\n",
    "onde $C:\\mathcal{H}\\rightarrow\\mathcal{H}$, dizemos que as duas representações são equivalentes. Essa equivalência é vista olhando para as tabelas de composição:\n",
    "\\begin{align}\n",
    "A_{j}*A_{k} &= C*B_{j}*C^{-1}*C*B_{k}*C^{-1} = C*B_{j}*\\mathbb{I}*B_{k}*C^{-1} \\\\ \n",
    "& = C*B_{j}*B_{k}*C^{-1} = C*B_{l}*C^{-1} = A_{l}.\n",
    "\\end{align}\n",
    "\n",
    "## Teorema (representações unitárias)\n",
    "Qualquer representação linear de um grupo finito é equivalente a uma representação unitária $G\\mapsto U=\\{U_{j}\\}$, com $U_{j}*U_{j}^{-1}=\\mathbb{I}$.\n",
    "### Prova"
   ]
  },
  {
   "cell_type": "code",
   "execution_count": null,
   "metadata": {},
   "outputs": [],
   "source": []
  }
 ],
 "metadata": {
  "kernelspec": {
   "display_name": "Python 3",
   "language": "python",
   "name": "python3"
  },
  "language_info": {
   "codemirror_mode": {
    "name": "ipython",
    "version": 3
   },
   "file_extension": ".py",
   "mimetype": "text/x-python",
   "name": "python",
   "nbconvert_exporter": "python",
   "pygments_lexer": "ipython3",
   "version": "3.6.4"
  }
 },
 "nbformat": 4,
 "nbformat_minor": 2
}
