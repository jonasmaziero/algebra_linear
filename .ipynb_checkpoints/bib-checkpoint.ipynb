{
 "cells": [
  {
   "cell_type": "markdown",
   "metadata": {},
   "source": [
    "# Bibliografia\n",
    "1. ARFKEN, G. B., WEBER, H. J.. Mathematical Methods for Physicists. 6ª ed. Academic Press, 2005.\n",
    "1. KUTTLER, K. Elementary Linear Algebra. Disponível em http://math.byu.edu/%7Eklkuttle/0000ElemLinearalgebratoprint.pdf.\n",
    "1. HAMERMESH, M.. Group Theory and its Application to Physical Problems. Dover, 1962.\n",
    "1. MESSIAH, A. Quantum Mechanics. Dover, Mineola: 1999.\n",
    "1. NIELSEN, M. A., CHUANG, I. L.. Quantum Computation and Quantum Information. Cambridge University Press, 2000.\n",
    "1. PIZA, A. F. R. T. Mecânica Quântica. Edusp, São Paulo: 2003.\n",
    "1. AMARAL, B., BARAVIERA, A. T., TERRA CUNHA, M. O.. Mecânica Quântica para Matemáticos em Formação. IMPA, Rio de Janeiro: 2011. Disponível em https://impa.br/wp-content/uploads/2017/04/28CBM_12.pdf.\n",
    "1. TUNG, W.-K.. Group Theory in Physics. World Scientific Publishing, 2003.\n",
    "1. LEMOS, N. A.. Mecânica Analítica. Editora Livraria da Física, São Paulo: 2007."
   ]
  },
  {
   "cell_type": "code",
   "execution_count": null,
   "metadata": {},
   "outputs": [],
   "source": []
  }
 ],
 "metadata": {
  "kernelspec": {
   "display_name": "Python 3",
   "language": "python",
   "name": "python3"
  },
  "language_info": {
   "codemirror_mode": {
    "name": "ipython",
    "version": 3
   },
   "file_extension": ".py",
   "mimetype": "text/x-python",
   "name": "python",
   "nbconvert_exporter": "python",
   "pygments_lexer": "ipython3",
   "version": "3.6.4"
  }
 },
 "nbformat": 4,
 "nbformat_minor": 2
}
