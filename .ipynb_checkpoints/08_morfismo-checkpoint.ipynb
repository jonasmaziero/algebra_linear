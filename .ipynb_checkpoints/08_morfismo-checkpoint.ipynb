{
 "cells": [
  {
   "cell_type": "markdown",
   "metadata": {},
   "source": [
    "## Notas de aula: Teoria de Grupos, Autor: Jonas Maziero, Departamento de Física, UFSM"
   ]
  },
  {
   "cell_type": "code",
   "execution_count": 1,
   "metadata": {},
   "outputs": [],
   "source": [
    "%run /Users/jonasmaziero/Dropbox/GitHub/algebra_linear/init.ipynb"
   ]
  },
  {
   "cell_type": "markdown",
   "metadata": {},
   "source": [
    "# Isomorfismo\n",
    "\n",
    "Um mapa entre dois grupos $G$ e $G'$ é dito isomórfico se para todos os pares $g_{j},g_{k}\\in G$ e $g'_{j},g'_{k}\\in G'$ com correspondência um pra um\n",
    "\\begin{equation}\n",
    "g_{j} \\mapsto g'_{j}\\text{ e } g_{k}\\mapsto g'_{k},\n",
    "\\end{equation}\n",
    "temos que a composição é preservada, i.e.,\n",
    "\\begin{equation}\n",
    "g_{j}*g_{k}\\mapsto g'_{j}*g'_{k}.\n",
    "\\end{equation}\n",
    "\n",
    "__Exemplo:__ Consideremos o grupo de simetria de um _triângulo equilátero_ (GSTE).\n",
    "\n",
    "<img src=\"triangle.png\" width=\"200\">"
   ]
  },
  {
   "cell_type": "markdown",
   "metadata": {},
   "source": [
    "Denotemos $R^{X}_{\\theta}$ uma rotação em torno de $X$ por um ângulo $\\theta$ (usa a \"regra da mão direita\"). Os elementos do GSTE são:\n",
    "\\begin{equation}\n",
    "G_{\\triangle}\\equiv\\{R^{X}_{0}, R^{O}_{2\\pi/3}, R^{O}_{-2\\pi/3}, R^{A}_{\\pi}, R^{B}_{\\pi}, R^{C}_{\\pi}\\}\n",
    "\\end{equation}\n",
    "Denotemos por $(1,2,3)$ a disposição atual do triângulo. Então\n",
    "\\begin{align}\n",
    "& R^{X}_{0}(1,2,3)=(1,2,3), \\\\\n",
    "& R^{O}_{2\\pi/3}(1,2,3)=(3,1,2), \\\\\n",
    "& R^{O}_{-2\\pi/3}(1,2,3)=(2,3,1), \\\\\n",
    "& R^{A}_{\\pi}(1,j,k)=(1,k,j), \\\\\n",
    "& R^{B}_{\\pi}(j,2,k)=(k,2,j), \\\\ \n",
    "& R^{C}_{\\pi}(j,k,3)=(k,j,3).\n",
    "\\end{align}\n",
    "A tabela de composição das transformações de simetria do triângulo é (__verificar__):\n",
    "\\begin{equation}\n",
    "\\begin{bmatrix}\n",
    "& R^{X}_{0} & R^{O}_{2\\pi/3} & R^{O}_{-2\\pi/3} & R^{A}_{\\pi} & R^{B}_{\\pi} & R^{C}_{\\pi}  \\\\\n",
    "R^{X}_{0} & R^{X}_{0} & R^{O}_{2\\pi/3} & R^{O}_{-2\\pi/3} & R^{A}_{\\pi} & R^{B}_{\\pi} & R^{C}_{\\pi} \\\\\n",
    "R^{O}_{2\\pi/3} & R^{O}_{2\\pi/3} & R^{O}_{-2\\pi/3} & R^{X}_{0} & R^{C}_{\\pi} & R^{A}_{\\pi} & R^{B}_{\\pi} \\\\\n",
    "R^{O}_{-2\\pi/3} & R^{O}_{-2\\pi/3} & R^{X}_{0} & R^{O}_{3\\pi/4} & R^{C}_{\\pi} & R^{B}_{\\pi} & R^{A}_{\\pi} \\\\\n",
    "R^{A}_{\\pi} & R^{A}_{\\pi} & R^{C}_{\\pi} & R^{B}_{\\pi} & R^{X}_{0} & R^{O}_{-2\\pi/3} & R^{O}_{2\\pi/3} \\\\\n",
    "R^{B}_{\\pi} & R^{B}_{\\pi} & R^{A}_{\\pi} & R^{C}_{\\pi} & R^{O}_{-2\\pi/3} & R^{X}_{0} & R^{O}_{2\\pi/3} \\\\\n",
    "R^{C}_{\\pi} & R^{C}_{\\pi} & R^{B}_{\\pi} & R^{A}_{\\pi} & R^{O}_{-2\\pi/3} & R^{O}_{2\\pi/3} & R^{X}_{0}\n",
    "\\end{bmatrix}\n",
    "\\end{equation}"
   ]
  },
  {
   "cell_type": "markdown",
   "metadata": {},
   "source": [
    "A maneira como escrevemos as tranformações de simetria e disposições do triângulo acima indicam uma correspondência isomórfica entre esse grupo e o grupo de permutações de três índices, denotado por $S_{3}$. Nesse caso os elementos são denotados por\n",
    "\\begin{equation}\n",
    "P_{jkl}.\n",
    "\\end{equation}\n",
    "A ação desses elementos é a seguinte. Quando atuamos $P_{jkl}$ em um trio de índices $(m,n,o)$, $m$ vai pra posição $j$, $n$ pra posição $k$ e $o$ para a posição $l$. Por exemplo $P_{123}(m,n,o)=(m,n,o)$ e $P_{321}(m,n,o)=(o,n,m)$. Podemos identificar o isomorfismo:\n",
    "\\begin{align}\n",
    "&P_{123}\\mapsto R_{X}^{O},\\\\\n",
    "&P_{132}\\mapsto R_{\\pi}^{A}, \\\\\n",
    "&P_{213}\\mapsto R_{\\pi}^{C}, \\\\\n",
    "&P_{321}\\mapsto R_{\\pi}^{B}, \\\\\n",
    "&P_{312}\\mapsto R_{3\\pi/4}^{O}, \\\\\n",
    "&P_{231}\\mapsto R_{-3\\pi/4}^{O}.\n",
    "\\end{align}\n",
    "\n",
    "__Exercício:__ Construa a tabela de composição de $S_{3}$, compondo permutações. Verifique assim a equivalência isomórfica entre $S_{3}$ e $G_{\\triangle}$ (esses grupos possuem a mesma tabela de composição).\n",
    "\n",
    "__Exercício:__ Verifique a correspondência isomórfica entre o grupo de transformações de simetria do tetraedro regular e o grupo de permutações de quatro índices $S_{4}$ (que possui $4!=12$ elementos).<br>\n",
    "<img src=\"tetraedro_regular.png\" width=\"300\">\n"
   ]
  },
  {
   "cell_type": "markdown",
   "metadata": {},
   "source": [
    "# Homomorfismo\n",
    "Um mapa entre dois grupos $G$ e $G'$ é dito homomórfico se para $\\{g^{(j)}_{m}\\}_{m=1}^{N_{j}},\\{g^{(k)}_{n}\\}_{n=1}^{N_{k}}\\in G$ e $g'_{j},g'_{k}\\in G'$ com correspondência vários pra um\n",
    "\\begin{equation}\n",
    "g^{(j)}_{m} \\mapsto g'_{j}\\text{ e } g^{(k)}_{n}\\mapsto g'_{k},\n",
    "\\end{equation}\n",
    "temos que a composição é preservada, i.e.,\n",
    "\\begin{equation}\n",
    "g^{(j)}_{m}*g^{(k)}_{n}\\mapsto g'_{j}*g'_{k} \\text{ }\\forall m,n.\n",
    "\\end{equation}\n",
    "\n",
    "__Exemplo:__ Os números complexos não nulos, $G=\\mathbb{C}_{\\ne 0}$, e os números reais não nulos, $G'=\\mathbb{R}_{\\ne 0}$, formam grupos sob multiplicação. Podemos definir um mapa $\\infty$ pra um entre esses dois grupos como segue. Para $z\\in\\mathbb{C}_{\\ne 0}$ definimos\n",
    "\\begin{equation}\n",
    "z\\mapsto |z|=\\sqrt{z^{*}z}\\in\\mathbb{R}_{\\ne 0}.\n",
    "\\end{equation}\n",
    "Usando as propriedades da multiplicação de números complexos vemos prontamente que esse mapa preserva composição, i.e., para $w\\in\\mathbb{C}_{\\ne 0}$ teremos\n",
    "\\begin{align}\n",
    "& z*w\\mapsto |z|*|w|=\\sqrt{z^{*}z}\\sqrt{w^{*}w}=\\sqrt{z^{*}zw^{*}w} \\\\\n",
    "& = \\sqrt{(zw)^{*}(zw)} = |z*w|.\n",
    "\\end{align}"
   ]
  },
  {
   "cell_type": "markdown",
   "metadata": {},
   "source": [
    "## Algumas consequências da correspondência homomórfica\n",
    "* O elemento identidade de $G$ é mapeado no elemento identidade de $G'$:\n",
    "\\begin{align}\n",
    "&g_{m}^{(j)}*e=g_{m}^{(j)}\\forall m,j \\\\\n",
    "& \\Rightarrow (g_{m}^{(j)}*e)'=(g_{m}^{(j)})'*(e)'=g'_{j}*(e)' \\\\ \n",
    "&=g'_{j}=g'_{j}*e'\\forall j \\\\\n",
    "&\\Rightarrow e\\mapsto e'.\n",
    "\\end{align}\n",
    "\n",
    "* Se $g_{m}^{(j)}\\mapsto g'_{j}$ então $(g_{m}^{(j)})^{-1}\\mapsto (g'_{j})^{-1}$:\n",
    "\\begin{align}\n",
    "& g_{m}^{(j)}*(g_{m}^{(j)})^{-1}=e \\\\\n",
    "& \\Rightarrow (e)'=(g_{m}^{(j)}*(g_{m}^{(j)})^{-1})'=(g_{m}^{(j)})'*((g_{m}^{(j)})^{-1})' \\\\\n",
    "& \\Rightarrow g'_{j}*((g_{m}^{(j)})^{-1})'=e'\\Rightarrow (g'_{j})^{-1}*g'_{j}*((g_{m}^{(j)})^{-1})'=(g'_{j})^{-1}*e' \\\\\n",
    "&\\Rightarrow ((g_{m}^{(j)})^{-1})'=(g'_{j})^{-1}.\n",
    "\\end{align}\n",
    "\n",
    "* O conjunto de elementos de $G$ mapeados em $e'$, que denotamos por $H_{e'}$, é um subgrupo invariante de $G$:<br>\n",
    "Usando a notação $g'_{0}=e'$ teremos composição\n",
    "\\begin{equation}\n",
    "(g_{m}^{(0)}*g_{n}^{(0)})' = g'_{0}*g'_{0} = e'*e'=e'.\n",
    "\\end{equation}\n",
    "Associatividade vem daquela de $G$. Ademais $e\\mapsto e'$ e $(g_{m}^{(0)})^{-1}\\mapsto(g'_{(0)})^{-1}=e'$. Portanto $H_{e'}$ é um subgrupo de $G$. Verificamos invariância por\n",
    "\\begin{align}\n",
    "& (g_{n}^{(k)}*g_{n}^{(0)}*(g_{n}^{(k)})^{-1})'=(g_{n}^{(k)})'*(g_{n}^{(0)})'*((g_{n}^{(k)})^{-1})' = g'_{k}*e'*(g'_{k})^{-1} \\\\\n",
    "& = g'_{k}*(g'_{k})^{-1}=e'\\text{, }\\forall n,k.\n",
    "\\end{align}\n",
    "\n",
    "* $G'$ é isomórfico ao grupo fator $G/H_{e'}=\\{g_{1}*H_{e'},\\cdots,g_{|G|}*H_{e'}\\}$:<br>\n",
    "Aqui a verificação é feita notando-se que $\\forall n,k$\n",
    "\\begin{equation}\n",
    "(g_{n}^{(k)}*H_{e'})'=(g_{n}^{(k)})'*(H_{e'})'=g'_{k}*\\{e'\\}=g'_{k}.\n",
    "\\end{equation}"
   ]
  },
  {
   "cell_type": "markdown",
   "metadata": {},
   "source": [
    "Podemos ilustrar essas consequências usando o exemplo $G\\equiv\\mathbb{C}_{\\ne0}$ e $G'\\equiv\\mathbb{R}_{\\ne0}$ com correspondência $z\\mapsto|z|$: \n",
    "* Como $e=1$ e $e'=1$ temos que $e\\mapsto e'$.\n",
    "* Para o inverso, temos que $z^{-1}=z^{*}/|z|^{2}\\mapsto|z^{*}/|z|^{2}|=1/|z|$, que é o elemento inverso de $|z|$.\n",
    "* Os elementos de $\\mathbb{C}_{\\ne0}$ mapeados em $e'=1$ tem a forma $z=|z|e^{i\\phi}=e^{i\\phi}$, e formam um grupo, $H_{e'}$, pois $e^{i\\phi}e^{i\\phi'}=e^{i\\phi''}$. Este é um subgrupo invariante pois\n",
    "\\begin{equation}\n",
    "z\\{e^{i\\phi}\\}z^{-1}=\\{ze^{i\\phi}z^{-1}\\}=\\{e^{i\\phi}zz^{-1}\\}=\\{e^{i\\phi}e\\}=\\{e^{i\\phi}\\}=H_{e'}\\forall z\\in\\mathbb{C}_{\\ne0}.\n",
    "\\end{equation}\n",
    "* Sejam $\\{z_{|z|}\\}$ os números complexos com mesmo módulo $|z|$. O grupo fator de $H_{e'}$ em $\\mathbb{C}_{\\ne0}$ é \n",
    "\\begin{align}\n",
    "\\mathbb{C}_{\\ne0}/H_{e'}& = \\{z_{|z|}H_{e'}\\} = \\{z_{|z|}\\{e^{i\\phi}\\}\\} = \\{\\{z_{|z|}e^{i\\phi}\\}\\} = \\{\\{|z_{|z|}|e^{i\\phi'}e^{i\\phi}\\}\\} \\\\\n",
    "& = \\{\\{|z_{|z|}|e^{i\\phi''}\\}\\}.\n",
    "\\end{align}\n",
    "Cada elemento do grupo fator é mapeado isomorficamente em um elemento de $\\mathbb{R}_\\ne0$, $|z_{|z|}|$."
   ]
  },
  {
   "cell_type": "markdown",
   "metadata": {},
   "source": [
    "# Grupos finitos e o grupo de permutações\n",
    "\n",
    "## Teorema de Cayley\n",
    "Todo grupo de ordem finita é isomorfo ao grupo de permutações de $n$ índices, $S_{n}$.\n",
    "\n",
    "### Prova\n",
    "Considere um grupo finito $G=\\{g_{1},g_{2},\\cdots,g_{n}\\}$. Pelo teorema do rearranjamento sabemos que para qualquer $g_{j}\\in G$ vem que $g_{j}*G=\\{g_{j}*g_{1},g_{j}*g_{2},\\cdots,g_{j}*g_{n}\\}\\equiv G$. Ou seja, a composição com um elemento de $G$ rearranja a sequência de índices dos elementos de $G$. Baseados nessas observações, definimos a seguinte correspondência isomórfica entre $G$ e $S_{n}$:\n",
    "\\begin{equation}\n",
    "g_{j} \\mapsto P_{g_{j}}\\equiv P_{g_{j}*g_{1},g_{j}*g_{2},\\cdots,g_{j}*g_{n}} \\equiv P_{j1,j2,\\cdots,jn},\n",
    "\\end{equation}\n",
    "onde $jk\\equiv l$ com $l$ obtido de $g_{j}*g_{k}=g_{l}$. \n",
    "\n",
    "Como $e*g_{k}=g_{k}\\Rightarrow l=k$, temos que\n",
    "\\begin{equation}\n",
    "e\\mapsto P_{1,2,\\cdots,n}.\n",
    "\\end{equation}\n",
    "\n",
    "Com relação à composição, pela associatividade em $G$, teremos $g_{j}*g_{k} \\mapsto P_{g_{j}*g_{k}}$ com\n",
    "\\begin{align}\n",
    "P_{g_{j}*g_{k}}(1,\\cdots,n) & \\equiv P_{(g_{j}*g_{k})*g_{1},\\cdots,(g_{j}*g_{k})*g_{n}} = P_{g_{j}*(g_{k}*g_{1}),\\cdots,g_{j}*(g_{k}*g_{n})} = P_{g_{j}}(k1,\\cdots,kn) \\\\\n",
    "& = P_{g_{j}}(P_{g_{k}}(1,\\cdots,n))=(P_{g_{j}}*P_{g_{k}})(1,\\cdots,n).\n",
    "\\end{align}\n",
    "\n",
    "Além disso, $g_{j}^{-1}\\mapsto P_{g_{j}^{-1}}$ e\n",
    "\\begin{align}\n",
    "P_{g_{j}^{-1}}*P_{g_{j}}(1,\\cdots,n) & = P_{g_{j}^{-1}*g_{j}}(1,\\cdots,n) = P_{(g_{j}^{-1}*g_{j})*g_{1},\\cdots,(g_{j}^{-1}*g_{j})*g_{n}} = P_{e*g_{1},\\cdots,e*g_{n}} \\\\ \n",
    "& = P_{e}(1,\\cdots,n).\n",
    "\\end{align}\n",
    "\n",
    "Como o mapa definido acima é claramnte um pra um, a correspondência é vista como sendo isomórfica. $\\hspace{2cm}\\square$"
   ]
  }
 ],
 "metadata": {
  "kernelspec": {
   "display_name": "Python 3",
   "language": "python",
   "name": "python3"
  },
  "language_info": {
   "codemirror_mode": {
    "name": "ipython",
    "version": 3
   },
   "file_extension": ".py",
   "mimetype": "text/x-python",
   "name": "python",
   "nbconvert_exporter": "python",
   "pygments_lexer": "ipython3",
   "version": "3.6.4"
  }
 },
 "nbformat": 4,
 "nbformat_minor": 2
}
