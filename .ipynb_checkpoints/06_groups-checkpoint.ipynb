{
 "cells": [
  {
   "cell_type": "markdown",
   "metadata": {},
   "source": [
    "## Notas de aula: Teoria de Grupos, Autor: Jonas Maziero, Departamento de Física, UFSM"
   ]
  },
  {
   "cell_type": "code",
   "execution_count": 2,
   "metadata": {},
   "outputs": [],
   "source": [
    "%run /Users/jonasmaziero/Dropbox/GitHub/algebra_linear/init.ipynb"
   ]
  },
  {
   "cell_type": "markdown",
   "metadata": {},
   "source": [
    "# Teoria de grupos\n",
    "Motivação: https://youtu.be/IP7nW_hKB7I (vídeo da Socratica sobre teoria de grupos/Álgebra Abstrata)"
   ]
  },
  {
   "cell_type": "markdown",
   "metadata": {},
   "source": [
    "## Grupo\n",
    "Um conjunto de objetos $G=\\{g_{1},g_{2},\\cdots,g_{|G|}\\}$ forma um grupo sob a operação de composição $*$ se:\n",
    "* A composição de quaisquer dois elementos do cojunto é um elemento do conjunto (__fechamento__):\n",
    "\\begin{equation}\n",
    "g_{j}*g_{k}\\in G\\text{, }\\forall g_{j},g_{k}\\in G.\n",
    "\\end{equation}\n",
    "\n",
    "* A composição de elementos do grupo é associativa (__associatividade__):\n",
    "\\begin{equation}\n",
    "g_{j}*(g_{k}*g_{l})=(g_{j}*g_{k})*g_{l}\\text{, }\\forall g_{j},g_{k},g_{l}\\in G.\n",
    "\\end{equation}\n",
    "\n",
    "* Existe o __elemento identidade__ $e$ tal que\n",
    "\\begin{equation}\n",
    "g_{j}*e=e*g_{j}=g_{j}\\text{, }\\forall g_{j}\\in G.\n",
    "\\end{equation}\n",
    "\n",
    "* Para qualquer elemento $g_{j}\\in G$ existe o __elemento inverso__ $g_{j}^{-1}\\in G$ tal que\n",
    "\\begin{equation}\n",
    "g_{j}*g_{j}^{-1}=g_{j}^{-1}*g_{j}=e.\n",
    "\\end{equation}\n",
    "\n",
    "A __ordem__ de um grupo $(G,*)$, denotada por $|G|$, é igual ao número de seus elementos distintos.\n",
    "\n",
    "__Exercício:__ Verifique que para quaisquer dois elementos $g_{j},g_{k}$ de um grupo $(G,*)$,\n",
    "\\begin{equation}\n",
    "(g_{j}*g_{k})^{-1}=g_{k}^{-1}*g_{j}^{-1}.\n",
    "\\end{equation}\n",
    "\n",
    "_OBS:_ Grupos comutativos, i.e., grupos tais que\n",
    "\\begin{equation}\n",
    "g_{j}*g_{k}=g_{k}*g_{j}\\text{ }\\forall g_{j},g_{k}\\in G,\n",
    "\\end{equation}\n",
    "são chamados de _grupos Abelianos_."
   ]
  },
  {
   "cell_type": "markdown",
   "metadata": {},
   "source": [
    "#### Proposição\n",
    "O elemento inverso é unicamente definido.\n",
    "##### Prova\n",
    "Para $g_{j}^{-1}*g_{j}=e$, assume que existe outro elemento de $G$, o denotemos por $\\tilde{g}_{j}^{-1}$, que é também elemento inverso de $g_{j}$. Teríamos nesse caso que $\\tilde{g}_{j}^{-1}*g_{j}=e$. Mas assim\n",
    "\\begin{equation}\n",
    "\\tilde{g}_{j}^{-1}*g_{j}*g_{j}^{-1}=e*g_{j}^{-1}\\therefore \\tilde{g}_{j}^{-1}*e=\\tilde{g}_{j}^{-1}=g_{j}^{-1}. \\hspace{3cm} \\square\n",
    "\\end{equation}"
   ]
  },
  {
   "cell_type": "markdown",
   "metadata": {},
   "source": [
    "### Exemplo: Grupo de Pauli\n",
    "Sejam\n",
    "\\begin{equation}\n",
    "\\sigma_{1} = \\begin{bmatrix} 0 & 1 \\\\ 1&0\\end{bmatrix}\\text{, }\\sigma_{2} = \\begin{bmatrix} 0 & -i \\\\ i&0\\end{bmatrix}\\text{ e }\\sigma_{3} = \\begin{bmatrix} 1 & 0 \\\\ 0 & -1\\end{bmatrix}\n",
    "\\end{equation}\n",
    "as matrizes de Pauli e $\\sigma_{0} = \\begin{bmatrix} 1 & 0 \\\\ 0 & 1\\end{bmatrix}$ a matriz identidade. Podemos verificar que o conjunto \n",
    "\\begin{equation}\n",
    "G_{p} = \\{ \\sigma_{0},-\\sigma_{0},i\\sigma_{0},-i\\sigma_{0}, \\sigma_{1},-\\sigma_{1},i\\sigma_{1},-i\\sigma_{1}, \\sigma_{2},-\\sigma_{2},i\\sigma_{2},-i\\sigma_{2}, \\sigma_{3},-\\sigma_{3},i\\sigma_{3},-i\\sigma_{3} \\}\n",
    "\\end{equation}\n",
    "forma um grupo sob a operação de multiplicação matricial. Nesse caso $e=\\sigma_{0}$ e a verificação do fechamento está mostrada na __tabela de composição__ abaixo. Associatividade vem da associatividade do produto matricial. Para os elementos inversos obtemos (lembre, $\\sigma_{j}\\sigma_{k}=\\delta_{j,k}\\sigma_{0}+sgn(j,k,l)i\\sigma_{l}$)\n",
    "\\begin{equation}\n",
    "G_{p}^{-1}=\\{ \\sigma_{0},-\\sigma_{0},-i\\sigma_{0},i\\sigma_{0}, \\sigma_{1},-\\sigma_{1},-i\\sigma_{1},i\\sigma_{1}, \\sigma_{2},-\\sigma_{2},-i\\sigma_{2},i\\sigma_{2}, \\sigma_{3},-\\sigma_{3},-i\\sigma_{3},i\\sigma_{3} \\}.\n",
    "\\end{equation}\n",
    "\n",
    "Tabela de composição (usamos o código abaixo para obter essa tabela):\n",
    "\\begin{align}\n",
    "TC & = \\begin{bmatrix} \n",
    "g_{1}*g_{1} & g_{1}*g_{2} & g_{1}*g_{3} & \\cdots \\\\ g_{2}*g_{1} & g_{2}*g_{2} & g_{2}*g_{3} & \\cdots \\\\ g_{3}*g_{1} & g_{3}*g_{2} & g_{3}*g_{3} & \\cdots \\\\ \\vdots & \\vdots & \\cdots \\\\ \\end{bmatrix} \\\\\n",
    "& = \\begin{bmatrix} \n",
    "\\sigma_{0} & -\\sigma_{0} & i\\sigma_{0} & -i\\sigma_{0} & \\sigma_{1} & -\\sigma_{1} & i\\sigma_{1} & -i\\sigma_{1} & \\sigma_{2} & -\\sigma_{2} & i\\sigma_{2} & -i\\sigma_{2} & \\sigma_{3} & -\\sigma_{3} & i\\sigma_{3} & -i\\sigma_{3} \\\\\n",
    "-\\sigma_{0} & \\sigma_{0} & -i\\sigma_{0} & i\\sigma_{0} & -\\sigma_{1} & \\sigma_{1} & -i\\sigma_{1} & i\\sigma_{1} & -\\sigma_{2} & \\sigma_{2} & -i\\sigma_{2} & i\\sigma_{2} & -\\sigma_{3} & \\sigma_{3} & -i\\sigma_{3} & i\\sigma_{3} \\\\\n",
    "i\\sigma_{0} & -i\\sigma_{0} & -\\sigma_{0} & \\sigma_{0} & i\\sigma_{1} & -i\\sigma_{1} & -\\sigma_{1} & \\sigma_{1} & i\\sigma_{2} & -i\\sigma_{2} & -\\sigma_{2} & \\sigma_{2} & i\\sigma_{3} & -i\\sigma_{3} & -\\sigma_{3} & \\sigma_{3} \\\\\n",
    "-i\\sigma_{0} & i\\sigma_{0} & \\sigma_{0} & -\\sigma_{0} & -i\\sigma_{1} & i\\sigma_{1} & \\sigma_{1} & -\\sigma_{1} & -i\\sigma_{2} & i\\sigma_{2} & \\sigma_{2} & -\\sigma_{2} & -i\\sigma_{3} & i\\sigma_{3} & \\sigma_{3} & -\\sigma_{3} \\\\\n",
    "\\sigma_{1} & -\\sigma_{1} & i\\sigma_{1} & -i\\sigma_{1} & \\sigma_{0} & -\\sigma_{0} & i\\sigma_{0} & -i\\sigma_{0} & i\\sigma_{3} & -i\\sigma_{3} & -\\sigma_{3} & \\sigma_{3} & -i\\sigma_{2} & i\\sigma_{2} & \\sigma_{2} & -\\sigma_{2} \\\\\n",
    "-\\sigma_{1} & \\sigma_{1} & -i\\sigma_{1} & i\\sigma_{1} & -\\sigma_{0} & \\sigma_{0} & -i\\sigma_{0} & i\\sigma_{0} & -i\\sigma_{3} & i\\sigma_{3} & \\sigma_{3} & -\\sigma_{3} & i\\sigma_{2} & -i\\sigma_{2} & -\\sigma_{2} & \\sigma_{2} \\\\\n",
    "i\\sigma_{1} & -i\\sigma_{1} & -\\sigma_{1} & \\sigma_{1} & i\\sigma_{0} & -i\\sigma_{0} & -\\sigma_{0} & \\sigma_{0} & -\\sigma_{3} & \\sigma_{3} & -i\\sigma_{3} & i\\sigma_{3} & \\sigma_{2} & -\\sigma_{2} & i\\sigma_{2} & -i\\sigma_{2} \\\\\n",
    "-i\\sigma_{1} & i\\sigma_{1} & \\sigma_{1} & -\\sigma_{1} & -i\\sigma_{0} & i\\sigma_{0} & \\sigma_{0} & -\\sigma_{0} & \\sigma_{3} & -\\sigma_{3} & i\\sigma_{3} & -i\\sigma_{3} & -\\sigma_{2} & \\sigma_{2} & -i\\sigma_{2} & i\\sigma_{2} \\\\\n",
    "\\vdots\n",
    "\\end{bmatrix}\n",
    "\\end{align}"
   ]
  },
  {
   "cell_type": "code",
   "execution_count": 4,
   "metadata": {},
   "outputs": [
    {
     "data": {
      "image/png": "[encoded data removed]",
      "text/latex": [
       "$$\\left [ \\left[\\begin{matrix}-1 & 0\\\\0 & -1\\end{matrix}\\right], \\quad \\left[\\begin{matrix}1 & 0\\\\0 & 1\\end{matrix}\\right], \\quad \\left[\\begin{matrix}- 1.0 i & 0\\\\0 & - 1.0 i\\end{matrix}\\right], \\quad \\left[\\begin{matrix}1.0 i & 0\\\\0 & 1.0 i\\end{matrix}\\right], \\quad \\left[\\begin{matrix}0 & -1\\\\-1 & 0\\end{matrix}\\right], \\quad \\left[\\begin{matrix}0 & 1\\\\1 & 0\\end{matrix}\\right], \\quad \\left[\\begin{matrix}0 & - 1.0 i\\\\- 1.0 i & 0\\end{matrix}\\right], \\quad \\left[\\begin{matrix}0 & 1.0 i\\\\1.0 i & 0\\end{matrix}\\right], \\quad \\left[\\begin{matrix}0 & 1.0 i\\\\- 1.0 i & 0\\end{matrix}\\right], \\quad \\left[\\begin{matrix}0 & - 1.0 i\\\\1.0 i & 0\\end{matrix}\\right], \\quad \\left[\\begin{matrix}0 & -1.0\\\\1.0 & 0\\end{matrix}\\right], \\quad \\left[\\begin{matrix}0 & 1.0\\\\-1.0 & 0\\end{matrix}\\right], \\quad \\left[\\begin{matrix}-1 & 0\\\\0 & 1\\end{matrix}\\right], \\quad \\left[\\begin{matrix}1 & 0\\\\0 & -1\\end{matrix}\\right], \\quad \\left[\\begin{matrix}- 1.0 i & 0\\\\0 & 1.0 i\\end{matrix}\\right], \\quad \\left[\\begin{matrix}1.0 i & 0\\\\0 & - 1.0 i\\end{matrix}\\right]\\right ]$$"
      ],
      "text/plain": [
       "⎡⎡-1  0 ⎤  ⎡1  0⎤  ⎡-1.0⋅ⅈ    0   ⎤  ⎡1.0⋅ⅈ    0  ⎤  ⎡0   -1⎤  ⎡0  1⎤  ⎡  0   \n",
       "⎢⎢      ⎥, ⎢    ⎥, ⎢              ⎥, ⎢            ⎥, ⎢      ⎥, ⎢    ⎥, ⎢      \n",
       "⎣⎣0   -1⎦  ⎣0  1⎦  ⎣  0     -1.0⋅ⅈ⎦  ⎣  0    1.0⋅ⅈ⎦  ⎣-1  0 ⎦  ⎣1  0⎦  ⎣-1.0⋅ⅈ\n",
       "\n",
       "  -1.0⋅ⅈ⎤  ⎡  0    1.0⋅ⅈ⎤  ⎡  0     1.0⋅ⅈ⎤  ⎡  0    -1.0⋅ⅈ⎤  ⎡ 0   -1.0⎤  ⎡ 0 \n",
       "        ⎥, ⎢            ⎥, ⎢             ⎥, ⎢             ⎥, ⎢         ⎥, ⎢   \n",
       "    0   ⎦  ⎣1.0⋅ⅈ    0  ⎦  ⎣-1.0⋅ⅈ    0  ⎦  ⎣1.0⋅ⅈ    0   ⎦  ⎣1.0   0  ⎦  ⎣-1.\n",
       "\n",
       "   1.0⎤  ⎡-1  0⎤  ⎡1  0 ⎤  ⎡-1.0⋅ⅈ    0  ⎤  ⎡1.0⋅ⅈ    0   ⎤⎤\n",
       "      ⎥, ⎢     ⎥, ⎢     ⎥, ⎢             ⎥, ⎢             ⎥⎥\n",
       "0   0 ⎦  ⎣0   1⎦  ⎣0  -1⎦  ⎣  0     1.0⋅ⅈ⎦  ⎣  0    -1.0⋅ⅈ⎦⎦"
      ]
     },
     "execution_count": 4,
     "metadata": {},
     "output_type": "execute_result"
    }
   ],
   "source": [
    "s0,s1,s2,s3,Gp = symbols('sigma_0 sigma_1 sigma_2 sigma_3 G_p') # define os símbolos a serem usados\n",
    "s0 = Matrix([[1,0],[0,1]]);  s1 = Matrix([[0,1],[1,0]]);  s2 = Matrix([[0,-1j],[1j,0]]);  s3 = Matrix([[1,0],[0,-1]])\n",
    "Gp = [s0,-s0,1j*s0,-1j*s0,s1,-s1,1j*s1,-1j*s1,s2,-s2,1j*s2,-1j*s2,s3,-s3,1j*s3,-1j*s3] # lista para o grupo\n",
    "TC = [Matrix([[0,0],[0,0]])]*16  # inicialização da lista com 16 elementos\n",
    "j = 1\n",
    "for k in range(0,16):\n",
    "    TC[k] = Gp[j]*Gp[k]\n",
    "TC"
   ]
  },
  {
   "cell_type": "markdown",
   "metadata": {},
   "source": [
    "## Teorema do rearranjamento\n",
    "Seja $G=\\{g_{1},g_{2},\\cdots,g_{|G|}\\}$ um grupo sob a operação $*$. Para um elemento qualquer $g_{j}\\in G$ teremos\n",
    "\\begin{equation}\n",
    "g_{j}*G := \\{g_{j}*g_{1},g_{j}*g_{2},\\cdots,g_{j}*g_{|G|}\\}\\equiv G.\n",
    "\\end{equation}\n",
    "_OBS:_ O símbolo $\\equiv$ é usado para denotar que dois conjuntos são formados pelos mesmos elementos, indiferentemente da ordem com que estão arranjados.\n",
    "### Prova\n",
    "Primeiro, notemos que todos os elementos do conjunto $\\{g_{j}*g_{k}\\}_{k=1}^{|G|}$ estão em $G$. Então, se verificarmos que não há repetição de elementos naquele conjunto, teremos que ele deve ser igual a $G$. Vamos provar isso por contradição. Consideremos dois elementos diferentes $g_{k},g_{l}\\in G$ (i.e. $g_{k}\\ne g_{l}$). Se $g_{j}*g_{k}=g_{j}*g_{l}$, pela existência do elemento inverso, teremos\n",
    "\\begin{align}\n",
    "& g_{j}^{-1}*g_{j}*g_{k}=g_{j}^{-1}*g_{j}*g_{l} \\\\\n",
    "& \\Rightarrow e*g_{k}=e*g_{l}\\Rightarrow g_{k}=g_{l},\n",
    "\\end{align}\n",
    "o que contradiz nossa suposição inicial. Portanto, se $g_{k}\\ne g_{l}$ devemos ter $g_{j}*g_{k}\\ne g_{j}*g_{l}$, concluindo assim a prova do teorema. $\\square$\n",
    "\n",
    "__Exemplos__ de implementação desse teorema podem ser vistos na abela de composição acima.\n",
    "\n",
    "__Exercício:__ Prove esse teorema cosiderando composição pela direita, i.e., $\\{g_{k}*g_{j}\\}_{k=1}^{|G|}$ ."
   ]
  },
  {
   "cell_type": "markdown",
   "metadata": {},
   "source": [
    "## Subgrupo\n",
    "Seja $(G,*)$ um grupo. Se um subconjunto $H$ de $G$ forma um grupo sob a mesma operação $*$, então dizemos que $H$ é um subgrupo de $G$.\n",
    "\n",
    "_OBS:_ Para verificar se um certo $H$ é um subgrupo de $G$, alguns requerimentos são satisfeitos automaticamente (elemento identidade e associatividade). \n",
    "\n",
    "#### Subgrupos triviais e próprios\n",
    "Os conjuntos $\\{e\\}$ e $\\{G\\}$ são, obviamente subgrupos de $G$, mas são ditos subgrupos _triviais_. Um subgrupo $H\\subset G$ e $H\\supset e$ é dito um subgrupo _próprio_.\n",
    "\n",
    "Como __exemplos__, podemos considerar os seguintes subgrupos do grupo de Pauli (__verifique__):\n",
    "\\begin{align}\n",
    "H_{1} & := \\{ \\sigma_{0} \\}, \\\\\n",
    "H_{2} & := \\{ \\sigma_{0},\\sigma_{1} \\}, \\\\\n",
    "H_{3} & := \\{ \\sigma_{0},-\\sigma_{0},\\sigma_{1},-\\sigma_{1} \\}, \\\\\n",
    "H_{4} & := \\{\\sigma_{0},-\\sigma_{0},i\\sigma_{1},-i\\sigma_{1},i\\sigma_{2},-i\\sigma_{2},i\\sigma_{3},-i\\sigma_{3}\\} \\\\\n",
    "H_{5} & := G_{p}. \\\\\n",
    "\\end{align}\n",
    "\n",
    "__Exercício:__ Forneça mais exemplos de subgrupos próprios do grupo de Pauli."
   ]
  },
  {
   "cell_type": "markdown",
   "metadata": {},
   "source": [
    "## Cosets\n",
    "Se $H$ é um subgrupo de $G$, então para um certo $g_{j}\\in G$ o conjunto\n",
    "\\begin{align}\n",
    "g_{j}*H & = g_{j}*\\{h_{1},h_{2},\\cdots,h_{|H|}\\} \\\\\n",
    "& := \\{g_{j}*h_{1},g_{j}*h_{2},\\cdots,g_{j}*h_{|H|}\\}\n",
    "\\end{align}\n",
    "é denominado coset à esquerda de $H$ em $G$ por $g_{j}$. A definição análoga segue para cosets à direita de $H$ em $G$.\n",
    "\n",
    "_OBS:_ Os elementos de um coset são todos distintos e estão em $G$. Se $g_{j}\\in H$ então $g_{j}*H\\equiv H$ (pelo teorema do rearranjamento). Se $g_{j}\\notin H$ então $g_{j}*H$ não é um grupo. Se $g_{j}*H$ é um grupo, então $g_{j}*h_{k}=e$ para algum $k$, o que implica em $h_{k}=g_{j}^{-1}\\in H$. Como $H$ é um grupo, a inversa de $g_{j}^{-1}$, que é $g_{j}$, deve estar em $H$, o que contradiz nossa suposição inicial. Por conseguinte, $g_{j}*H$ não pode formar um grupo se $g_{j}\\notin H$. \n",
    "\n",
    "Um __exemplo__ de coset do subgrupo $H_{3}$ acima é:\n",
    "\\begin{align}\n",
    "\\sigma_{3}*H_{3} & \\equiv \\{ \\sigma_{3}*\\sigma_{0},\\sigma_{3}*(-\\sigma_{0}),\\sigma_{3}*\\sigma_{1},\\sigma_{3}*(-\\sigma_{1}) \\} \\\\\n",
    "& \\equiv \\{ \\sigma_{3},-\\sigma_{3},sgn(3,1,2)i\\sigma_{2},sgn(3,1,2)i\\sigma_{2} \\} \\\\\n",
    "& \\equiv \\{ \\sigma_{3},-\\sigma_{3},i\\sigma_{2},-i\\sigma_{2} \\},\n",
    "\\end{align}\n",
    "que, obviamente, não é um grupo.\n",
    "\n",
    "__Exercício:__ Forneça mais exemplos de cosets de subgrupos próprios do grupo de Pauli."
   ]
  },
  {
   "cell_type": "markdown",
   "metadata": {},
   "source": [
    "## Teorema de Lagrange\n",
    "A ordem de um subgrupo divide a ordem de grupo, i.e., $|G|/|H|\\in\\mathbb{N}_{>0}$.<br>\n",
    "Um enunciado equivalente, mas com mais pistas para a prova, é que se $H$ é um subgrupo de $G$, então pode-se escolher apropriadamente elementos $g_{j},g_{k},\\cdots\\in G$ tais que \n",
    "\\begin{equation}\n",
    "G=H\\cup(g_{j}*H)\\cup(g_{k}*H)\\cup\\cdots,\n",
    "\\end{equation}\n",
    "onde $\\cup$ denota a união de dois subconjuntos ($A\\cup B$ é o conjunto formado por todos os elementos que estão em $A$ _ou_ em $B$)."
   ]
  },
  {
   "cell_type": "markdown",
   "metadata": {},
   "source": [
    "### Prova\n",
    "No caso não trivial $H\\subset G$, começamos considerando um elemento $g_{j}\\in G$ que não está em $H$ ($g_{j}\\notin H$). Provemos por contradição que $H\\cap(g_{j}*H)\\equiv \\emptyset$, em que $\\emptyset$ é o conjunto vazio e $\\cap$ é a interseção entre dois conjuntos ($A\\cap B$ é o conjunto formado por todos os elementos que estão em $A$ _e_ em $B$). Se $g_{j}*H$ e $H$ possuem algum elemento em comum, então existem $h_{l},h_{m}\\in H$ tais que\n",
    "\\begin{align}\n",
    "& g_{j}*h_{l}=h_{m}\\Rightarrow g_{j}*h_{l}*h_{l}^{-1}=h_{m}*h_{l}^{-1} \\\\\n",
    "& \\Rightarrow g_{j}*e=g_{j}=h_{m}*h_{l}^{-1}\\in H \\Rightarrow g_{j}\\in H,\n",
    "\\end{align}\n",
    "pois $h_{l}^{-1}\\in H$. Mas esse resultado contradiz o que assumimos inicialmente, i.e., que $g_{j}\\notin H$. Portanto $H$ e $g_{j}*H$ não podem compartilhar nenhum elemento, ou seja, $H\\cap(g_{j}*H)\\equiv\\emptyset$ se $g_{j}\\notin H$. Com isso vemos que\n",
    "\\begin{equation}\n",
    "G\\supseteq H\\cup(g_{j}*H).\n",
    "\\end{equation}\n",
    "Agora, se $G\\supset H\\cup(g_{j}*H)$, consideremos um coset $g_{k}*H$ obtido usando um outro elemento $g_{k}\\in G$ tal que $g_{k}\\notin H$ e $g_{k}\\notin g_{j}*H$. Já mostramos que $g_{k}* H\\cap H\\equiv \\emptyset$. Vamos mostrar, por contradição, que $(g_{j}*H)\\cap(g_{k}*H)\\equiv\\emptyset$. Se $g_{j}*H$ e $g_{k}*H$ possuem algum elemento em comum, então existem $l$, $m$ e $n$ tais que\n",
    "\\begin{align}\n",
    "& g_{j}*h_{l}=g_{k}*h_{m}\\Rightarrow g_{j}*h_{l}h_{m}^{-1}=g_{k}*h_{m}*h_{m}^{-1} \\\\\n",
    "& \\Rightarrow g_{k}*e = g_{j}*h_{n} \\Rightarrow g_{k} = g_{j}*h_{n} \\in g_{j}*H \\\\\n",
    "& \\Rightarrow g_{k}\\in g_{j}*H,\n",
    "\\end{align}\n",
    "que contradiz nossa suposição inicial. Portanto $g_{j}*H$ e $g_{k}*H$ não compartilham nenhum elemento se $g_{k}\\notin g_{j}*H$. Com isso vem que\n",
    "\\begin{equation}\n",
    "G\\supseteq H\\cup(g_{j}*H)\\cup(g_{k}*H).\n",
    "\\end{equation}\n",
    "Se $G\\supset H\\cup(g_{j}*H)\\cup(g_{k}*H)$ seguimos com a mesma ideia, até completar $G$. Como o número de elementos dos cosets $g_{j}*H$ é $|H|\\text{ }\\forall j$, deve existir algum $r\\in\\mathbb{N}_{>0}$ tal que $|G|=r|H|$, completando assim a prova do teorema.  $\\square$"
   ]
  },
  {
   "cell_type": "markdown",
   "metadata": {},
   "source": [
    "__Exemplo__ de implementação do teorema de Lagrange <br>\n",
    "Usemos os exemplos acima. Para o subgrupo $H_{3} = \\{ \\sigma_{0},-\\sigma_{0},\\sigma_{1},-\\sigma_{1} \\}$ temos $\\sigma_{3}*H_{3} = \\{ \\sigma_{3},-\\sigma_{3},i\\sigma_{2},-i\\sigma_{2} \\}$. Ademais (__verifique__) $\\sigma_{2}*H_{3} = \\{ \\sigma_{2},-\\sigma_{2},-i\\sigma_{3},i\\sigma_{3} \\}$ e $i\\sigma_{1}*H_{3} = \\{ i\\sigma_{1},-i\\sigma_{1},i\\sigma_{0},-i\\sigma_{0} \\}$. Por conseguinte\n",
    "\\begin{equation}\n",
    "G_{p} \\equiv H_{3}\\cup (\\sigma_{3}*H_{3})\\cup (\\sigma_{2}*H_{3})\\cup (i\\sigma_{1}*H_{3}).\n",
    "\\end{equation}\n",
    "\n",
    "__Exercício:__ Forneça outra decomposição do grupo de Pauli em termos de cosets de algum de seus subgrupos.\n",
    "\n",
    "_OBS:_ Note que para os subgrupos indentificados acima, temos as seguintes razões entre as ordens:\n",
    "\\begin{equation}\n",
    "\\frac{|G_{p}|}{|H_{1}|}=\\frac{16}{1}=16\\text{, }\\frac{|G_{p}|}{|H_{2}|}=\\frac{16}{2}=8\\text{, }\\frac{|G_{p}|}{|H_{3}|}=\\frac{16}{4}=4\\text{, }\\frac{|G_{p}|}{|H_{4}|}=\\frac{16}{8}=2\\text{, }\\frac{|G_{p}|}{|H_{5}|}=\\frac{16}{16}=1.\n",
    "\\end{equation}"
   ]
  },
  {
   "cell_type": "markdown",
   "metadata": {},
   "source": [
    "### Elementos conjugados\n",
    "Dois elementos $g_{j}$ e $g_{k}$ de um grupo $(G,*)$ são ditos conjugados se existir um elemento $g_{l}\\in G$ tal que\n",
    "\\begin{equation}\n",
    "g_{j}=g_{l}*g_{k}*g_{l}^{-1}\\therefore g_{j}*g_{l}=g_{l}*g_{k}\\therefore g_{k}=g_{l}^{-1}*g_{j}*g_{l}.\n",
    "\\end{equation}\n",
    "\n",
    "## Classe conjugada\n",
    "A classe conjugada de um elemento $g_{j}$ de um grupo $(G,*)$ é o conjunto de todos os elementos desse grupo que são equivalentes a $g_{j}$:\n",
    "\\begin{equation}\n",
    "G_{g_{j}} := \\{g_{m}*g_{j}*g_{m}^{-1}\\}_{m=1}^{|G|}. \n",
    "\\end{equation}\n",
    "\n",
    "Com o código abaixo podemos obter facilmente as classes conjugadas para o grupo de Pauli. Por __exemplo__\n",
    "\\begin{equation}\n",
    "G_{\\sigma_{1}} = \\{ \\sigma_{1},-\\sigma_{1} \\}.\n",
    "\\end{equation}\n",
    "\n",
    "_OBS:_ Note que o elemento sob consideração sempre está em sua classe conjugada, pois $e*g_{j}*e=g_{j}$.\n",
    "\n",
    "__Exercício:__ Forneça exemplos de classes conjugadas para alguns elementos do grupo de Pauli. "
   ]
  },
  {
   "cell_type": "code",
   "execution_count": 8,
   "metadata": {},
   "outputs": [
    {
     "data": {
      "image/png": "[encoded data removed]",
      "text/latex": [
       "$$\\left [ \\left[\\begin{matrix}0 & -1\\\\-1 & 0\\end{matrix}\\right], \\quad \\left[\\begin{matrix}0 & -1\\\\-1 & 0\\end{matrix}\\right], \\quad \\left[\\begin{matrix}0 & -1.0\\\\-1.0 & 0\\end{matrix}\\right], \\quad \\left[\\begin{matrix}0 & -1.0\\\\-1.0 & 0\\end{matrix}\\right], \\quad \\left[\\begin{matrix}0 & -1\\\\-1 & 0\\end{matrix}\\right], \\quad \\left[\\begin{matrix}0 & -1\\\\-1 & 0\\end{matrix}\\right], \\quad \\left[\\begin{matrix}0 & -1.0\\\\-1.0 & 0\\end{matrix}\\right], \\quad \\left[\\begin{matrix}0 & -1.0\\\\-1.0 & 0\\end{matrix}\\right], \\quad \\left[\\begin{matrix}0 & 1.0\\\\1.0 & 0\\end{matrix}\\right], \\quad \\left[\\begin{matrix}0 & 1.0\\\\1.0 & 0\\end{matrix}\\right], \\quad \\left[\\begin{matrix}0 & 1.0\\\\1.0 & 0\\end{matrix}\\right], \\quad \\left[\\begin{matrix}0 & 1.0\\\\1.0 & 0\\end{matrix}\\right], \\quad \\left[\\begin{matrix}0 & 1\\\\1 & 0\\end{matrix}\\right], \\quad \\left[\\begin{matrix}0 & 1\\\\1 & 0\\end{matrix}\\right], \\quad \\left[\\begin{matrix}0 & 1.0\\\\1.0 & 0\\end{matrix}\\right], \\quad \\left[\\begin{matrix}0 & 1.0\\\\1.0 & 0\\end{matrix}\\right]\\right ]$$"
      ],
      "text/plain": [
       "⎡⎡0   -1⎤  ⎡0   -1⎤  ⎡ 0    -1.0⎤  ⎡ 0    -1.0⎤  ⎡0   -1⎤  ⎡0   -1⎤  ⎡ 0    -1\n",
       "⎢⎢      ⎥, ⎢      ⎥, ⎢          ⎥, ⎢          ⎥, ⎢      ⎥, ⎢      ⎥, ⎢        \n",
       "⎣⎣-1  0 ⎦  ⎣-1  0 ⎦  ⎣-1.0   0  ⎦  ⎣-1.0   0  ⎦  ⎣-1  0 ⎦  ⎣-1  0 ⎦  ⎣-1.0   0\n",
       "\n",
       ".0⎤  ⎡ 0    -1.0⎤  ⎡ 0   1.0⎤  ⎡ 0   1.0⎤  ⎡ 0   1.0⎤  ⎡ 0   1.0⎤  ⎡0  1⎤  ⎡0 \n",
       "  ⎥, ⎢          ⎥, ⎢        ⎥, ⎢        ⎥, ⎢        ⎥, ⎢        ⎥, ⎢    ⎥, ⎢  \n",
       "  ⎦  ⎣-1.0   0  ⎦  ⎣1.0   0 ⎦  ⎣1.0   0 ⎦  ⎣1.0   0 ⎦  ⎣1.0   0 ⎦  ⎣1  0⎦  ⎣1 \n",
       "\n",
       " 1⎤  ⎡ 0   1.0⎤  ⎡ 0   1.0⎤⎤\n",
       "  ⎥, ⎢        ⎥, ⎢        ⎥⎥\n",
       " 0⎦  ⎣1.0   0 ⎦  ⎣1.0   0 ⎦⎦"
      ]
     },
     "execution_count": 8,
     "metadata": {},
     "output_type": "execute_result"
    }
   ],
   "source": [
    "Gp = [s0,-s0,1j*s0,-1j*s0,s1,-s1,1j*s1,-1j*s1,s2,-s2,1j*s2,-1j*s2,s3,-s3,1j*s3,-1j*s3]\n",
    "Gpi = [s0,-s0,-1j*s0,1j*s0,s1,-s1,-1j*s1,1j*s1,s2,-s2,-1j*s2,1j*s2,s3,-s3,-1j*s3,1j*s3] # elementos inversos\n",
    "GpGpi = [Matrix([[0,0],[0,0]])]*16 # inicialização\n",
    "#for k in range(0,16): # verifica os inversos\n",
    "#    GpGpi[k] = Gp[k]*Gpi[k]\n",
    "Ggj = [Matrix([[0,0],[0,0]])]*16 # inicialização\n",
    "j = 5\n",
    "for k in range(0,16):\n",
    "    Ggj[k] = Gpi[k]*Gp[j]*Gp[k]\n",
    "#GpGpi\n",
    "Ggj"
   ]
  },
  {
   "cell_type": "markdown",
   "metadata": {},
   "source": [
    "## Teorema\n",
    "Considere dois elementos $g_{j}$ e $g_{k}$ do grupo $(G,*)$. Se esses elementos são conjugados, então suas classes conjugadas são iguais.\n",
    "\n",
    "### Prova\n",
    "Assumimos que $g_{k}=g_{l}*g_{j}*g_{l}^{-1}$ para algum $g_{l}\\in G$. Então\n",
    "\\begin{align}\n",
    "G_{g_{k}} & = \\{g_{m}*g_{k}*g_{m}^{-1}\\}_{m=1}^{|G|} = \\{g_{m}*g_{l}*g_{j}*g_{l}^{-1}*g_{m}^{-1}\\}_{m=1}^{|G|} \\\\\n",
    "& = \\{(g_{m}*g_{l})*g_{j}*(g_{m}*g_{l})^{-1}\\}_{m=1}^{|G|} = \\{g_{n}*g_{j}*g_{n}^{-1}\\}_{n=1}^{|G|} = G_{g_{j}}.\n",
    "\\end{align}\n",
    "Na passagem da 4ª igualdade usamos o teorema do rearranjamento. $\\square$\n",
    "\n",
    "_OBS:_ Note que esse teorema implica que as classes conjugadas de todos os elementos dentro de uma certa classe conjugada é a própria. Ou seja, todos os elementos conjugados estão dentro de uma mesma classe conjugada.\n",
    "\n",
    "__Exercício:__ Com o código acima podemos verificar que $G_{-\\sigma_{1}}=G_{\\sigma_{1}}$. Forneça outro exemplo onde esse teorema se verifique."
   ]
  },
  {
   "cell_type": "markdown",
   "metadata": {},
   "source": [
    "## Decompondo um grupo em termos de classes conjugadas\n",
    "Começamos notando que a classe conjugada do elemento identidade é ele mesmo:\n",
    "\\begin{equation}\n",
    "G_{e} = \\{g_{m}*e*g_{m}^{-1}\\}_{m=1}^{|G|} = \\{g_{m}*g_{m}^{-1}\\}_{m=1}^{|G|} = \\{e\\}_{m=1}^{|G|} = e.\n",
    "\\end{equation}\n",
    "_OBS:_ A classe conjugada de qualquer elemento proporcinal a $e$ é composta somente por aquele elemento. <br>\n",
    "Agora, se $G\\supset G_{e}$ escolhemos $g_{j}\\in G$ com $g_{j}\\ne e$. Como $e$ não está em $G_{g_{j}}$ vemos que\n",
    "\\begin{equation}\n",
    "G\\supseteq G_{e}\\cup G_{g_{j}}.\n",
    "\\end{equation}\n",
    "Se $G\\supset G_{e}\\cup G_{g_{j}}$ consideramos $g_{k}\\ne e$ com $g_{k}\\notin G_{g_{j}}$. Como $G_{g_{j}}\\cap G_{g_{k}}\\equiv\\emptyset$ teremos\n",
    "\\begin{equation}\n",
    "G\\supseteq G_{e}\\cup G_{g_{j}}\\cup G_{g_{k}}.\n",
    "\\end{equation}\n",
    "Se $G\\supset G_{e}\\cup G_{g_{j}}\\cup G_{g_{k}}$, continuamos com o mesmo baile até que:\n",
    "\\begin{equation}\n",
    "G\\equiv G_{e}\\cup G_{g_{j}}\\cup G_{g_{k}}\\cup\\cdots.\n",
    "\\end{equation}\n",
    "_OBS:_ Note que o número de elementos das diferentes classes pode ser diferente (em contraste com os cosets).\n",
    "\n",
    "__Exemplo:__ Consideremos a decomposição do grupo de Pauli em termos de classes conjugadas. Com o código acima verificamos que $G_{\\sigma_{j}}=\\{\\sigma_{j},-\\sigma_{j}\\}$ e $G_{i\\sigma_{j}}=\\{i\\sigma_{j},-i\\sigma_{j}\\}$ para $j=1,2,3$. Com isso vemos que\n",
    "\\begin{equation}\n",
    "G_{p} \\equiv G_{\\sigma_{0}}\\cup G_{-\\sigma_{0}}\\cup G_{i\\sigma_{0}}\\cup G_{-i\\sigma_{0}}\\cup G_{\\sigma_{1}}\\cup G_{i\\sigma_{1}}\\cup G_{\\sigma_{2}}\\cup G_{i\\sigma_{2}}\\cup G_{\\sigma_{3}}\\cup G_{i\\sigma_{3}}.\n",
    "\\end{equation}\n",
    "\n",
    "__Exercício:__ Forneça outra decomposição do grupo de Pauli em termos de classes conjugadas."
   ]
  },
  {
   "cell_type": "markdown",
   "metadata": {},
   "source": [
    "## Subgrupo invariante\n",
    "Seja $H$ um subgrupo do grupo $G$ tal que\n",
    "\\begin{equation}\n",
    "g_{j}*H*g_{j}^{-1}\\equiv H \\therefore g_{j}*H = H*g_{j} \\text{ } \\forall g_{j}\\in G.\n",
    "\\end{equation}\n",
    "Dizemos nesse caso que $H$ é um subgrupo invariante de $G$ ($H$, visto como um único objeto, comuta com todos elementos de G).\n",
    "\n",
    "_OBS:_ Note que não exigimos que $g_{j}*h_{k}*g_{j}^{-1}=h_{k}\\text{ }\\forall h_{k}\\in H$, exigimos somente que os dois conjuntos contenham os mesmos elementos, independente da ordem com que estão arranjados:\n",
    "\\begin{equation}\n",
    "\\{g_{j}*h_{1}*g_{j}^{-1},\\cdots,g_{j}*h_{|H|}*g_{j}^{-1}\\}\\equiv\\{h_{1},\\cdots,h_{|H|}\\}.\n",
    "\\end{equation}"
   ]
  },
  {
   "cell_type": "markdown",
   "metadata": {},
   "source": [
    "__Exemplo__ de subgrupo invariante<br>\n",
    "Com as contas que fizemos ao discutir classes conjugadas, inferimos, por exemplo, que $H_{2}=\\{\\sigma_{0},\\sigma_{1}\\}$ não é um subgrupo invariante pois e.g. $\\sigma_{2}*H_{2}=\\{\\sigma_{2},-i\\sigma_{3}\\}$ e $H_{2}*\\sigma_{2}=\\{\\sigma_{2},i\\sigma_{3}\\}$. <br>\n",
    "No entanto, $H_{3}=\\{\\sigma_{0},-\\sigma_{0},\\sigma_{1},-\\sigma_{1}\\}$ é um subgrupo invariante pois (__exercício__): $(\\pm\\sigma_{j})*H_{3}\\equiv H_{3}*(\\pm\\sigma_{j})$ para $j=2,3$ e $(\\pm i\\sigma_{j})*H_{3}\\equiv H_{3}*(\\pm i\\sigma_{j})$ para $j=0,1,2,3$.\n",
    "\n",
    "__Exercício:__ Forneça outro exemplo de subgrupo invariante do grupo de Pauli."
   ]
  },
  {
   "cell_type": "markdown",
   "metadata": {},
   "source": [
    "## Teorema\n",
    "Um subgrupo invariante $H$ contém todos os elementos de uma certa classe conjugada $G_{g_{j}}$ ou nenhum.\n",
    "### Prova\n",
    "Se um certo elemento de uma classe conjugada $G_{g_{j}}$ pertence a um subgrupo invariante $H$, então existem $g_{k}\\in G$ e $h_{l}\\in H$ tais que\n",
    "\\begin{equation}\n",
    "g_{k}*g_{j}*g_{k}^{-1}=h_{l}.\n",
    "\\end{equation}\n",
    "Vamos considerar\n",
    "\\begin{align}\n",
    "& \\{g_{m}*g_{k}*g_{j}*g_{k}^{-1}*g_{m}^{-1}\\}_{m=1}^{|G|} = \\{g_{n}*g_{j}*g_{n}^{-1}\\}_{n=1}^{|G|} = G_{g{j}} \\\\\n",
    "& = \\{g_{m}*h_{l}*g_{m}^{-1}\\}_{m=1}^{|G|}\\equiv H.\n",
    "\\end{align}\n",
    "Como $H$ é um subgrupo invariante de $G$, teremos que todos os elementos $g_{m}*h_{l}*g_{m}^{-1}\\in H$. Portanto\n",
    "\\begin{equation}\n",
    "G_{g_{j}}\\subseteq H. \\hspace{3cm}\\square\n",
    "\\end{equation}\n",
    "\n",
    "__Exemplo:__ Vemos que $G_{\\sigma_{1}}\\subset H_{3}$ e e.g. para $G_{\\sigma_{2}}=\\{\\sigma_{2},-\\sigma_{2}\\}$ temos $G_{\\sigma_{2}}\\cap H_{3}\\equiv\\emptyset$.<br>\n",
    "__Exercício:__ Forneça exemplos similares a este considerando outro subgrupo invariante.\n"
   ]
  },
  {
   "cell_type": "markdown",
   "metadata": {},
   "source": [
    "### Composição de subconjuntos\n",
    "Sejam $A=\\{a_{1},a_{2},\\cdots,a_{N}\\}$ e $B=\\{b_{1},b_{2},\\cdots,b_{M}\\}$ dois subconjuntos de um grupo $(G,*)$. Definimos a composição desses subconjuntos como\n",
    "\\begin{equation}\n",
    "A*B := (a_{1}*B)\\cup(a_{2}*B)\\cup\\cdots\\cup(a_{N}*B),\n",
    "\\end{equation}\n",
    "e já vimos a definição de composição de um elemento de $G$ com um subconjunto de $G$: e.g. $a_{j}*B := \\{a_{j}*b_{1},\\cdots,a_{j}*b_{M}\\}$. Na sequência provaremos alguns resultados que serão úteis para a discussão do grupo fator, que é o grupo formado por cosets de um subgrupo invariante."
   ]
  },
  {
   "cell_type": "markdown",
   "metadata": {},
   "source": [
    "### Proposição\n",
    "Se $H=\\{h_{1},\\cdots,h_{|H|}\\}$ é um subgrupo de $G$, então $H*H\\equiv H$.\n",
    "\n",
    "#### Verificação\n",
    "Usando o teorema do rearranjamento,\n",
    "\\begin{align}\n",
    "H*H & = (h_{1}*H)\\cup(h_{2}*H)\\cup\\cdots\\cup(h_{|H|}*H) \\\\\n",
    "&\\equiv H\\cup H\\cup\\cdots\\cup H \\\\\n",
    "& \\equiv H. \\hspace{3cm}\\square\n",
    "\\end{align}"
   ]
  },
  {
   "cell_type": "markdown",
   "metadata": {},
   "source": [
    "### Proposição\n",
    "Sejam $A=\\{a_{1},a_{2},\\cdots,a_{N}\\}$ e $B=\\{b_{1},b_{2},\\cdots,b_{M}\\}$ subconjuntos e $c$ um elemento qualquer de um grupo $G$. Segue que\n",
    "\\begin{equation}\n",
    "(c*A)*B\\equiv c*(A*B).\n",
    "\\end{equation}\n",
    "#### Verificação\n",
    "\\begin{align}\n",
    "(c*A)*B & = \\{c*a_{1},\\cdots,c*a_{N}\\}*B \\\\\n",
    "& = ((c*a_{1})*B)\\cup\\cdots\\cup((c*a_{N})*B) \\\\\n",
    "& = \\{(c*a_{1})*b_{1},\\cdots,(c*a_{1})*b_{M}\\}\\cup\\cdots\\cup\\{(c*a_{N})*b_{1},\\cdots,(c*a_{N})*b_{M}\\} \\\\\n",
    "& = \\{c*(a_{1}*b_{1}),\\cdots,c*(a_{1}*b_{M}))\\}\\cup\\cdots\\cup\\{c*(a_{N}*b_{1}),\\cdots,c*(a_{N}*b_{M})\\} \\\\\n",
    "& = c*\\{a_{1}*b_{1},\\cdots,a_{1}*b_{M}\\}\\cup\\cdots\\cup c*\\{a_{N}*b_{1},\\cdots,a_{N}*b_{M}\\} \\\\\n",
    "& \\equiv c*(\\{a_{1}*b_{1},\\cdots,a_{1}*b_{M}\\}\\cup\\cdots\\cup \\{a_{N}*b_{1},\\cdots,a_{N}*b_{M}\\}) \\\\\n",
    "& = c*(a_{1}*\\{b_{1},\\cdots,b_{M}\\}\\cup\\cdots\\cup a_{N}*\\{b_{1},\\cdots,b_{M}\\}) \\\\\n",
    "& = c*(\\{a_{1},\\cdots,a_{N}\\}*\\{b_{1},\\cdots,b_{M}\\}) \\\\\n",
    "& = c*(A*B). \\hspace{3cm}\\square\n",
    "\\end{align}\n",
    "\n",
    "__Exercício:__ Verifique que $(A*c)*B=A*(c*B)$ e que $A*(B*c)=(A*B)*c$."
   ]
  },
  {
   "cell_type": "markdown",
   "metadata": {},
   "source": [
    "### Proposição\n",
    "Para $G$ um grupo e para quaisquer $c,d\\in G$ e $A,B\\subset G$, segue que\n",
    "\\begin{equation}\n",
    "(c*A)*(d*B) = c*(A*d)*B.\n",
    "\\end{equation}\n",
    "\n",
    "#### Verificação\n",
    "Pela proposição anterior, e associatividade, vem que\n",
    "\\begin{align}\n",
    "(c*A)*(d*B) & = c*(A*(d*B)) \\\\\n",
    "& = c*(\\{a_{1},\\cdots,a_{N}\\}*\\{d*b_{1},\\cdots,d*b_{M}\\}) \\\\\n",
    "& = c*(a_{1}*\\{d*b_{1},\\cdots,d*b_{M}\\}\\cup\\cdots\\cup a_{N}*\\{d*b_{1},\\cdots,d*b_{M}\\}) \\\\\n",
    "& = c*(\\{(a_{1}*d)*b_{1},\\cdots,(a_{1}*d)*b_{M}\\}\\cup\\cdots\\cup \\{(a_{N}*d)*b_{1},\\cdots,(a_{N}*d)*b_{M}\\}) \\\\\n",
    "& = c*((a_{1}*d)*\\{b_{1},\\cdots,b_{M}\\}\\cup\\cdots\\cup (a_{N}*d)*\\{b_{1},\\cdots,b_{M}\\}) \\\\\n",
    "& = c*((a_{1}*d)*B\\cup\\cdots\\cup (a_{N}*d)*B) \\\\\n",
    "& = c*(\\{a_{1}*d,\\cdots,a_{N}*d\\}*B) \\\\\n",
    "& = c*(\\{a_{1},\\cdots,a_{N}\\}*d)*B \\\\\n",
    "& = c*(A*d)*B. \\hspace{3cm}\\square\n",
    "\\end{align}"
   ]
  },
  {
   "cell_type": "markdown",
   "metadata": {},
   "source": [
    "## Teorema (grupo fator ou grupo quociente)\n",
    "Segundo a operação de composição de sub-conjuntos de um grupo $G$, os cosets de um subgrupo invariante $H$ de $G$ formam um grupo, que é denominado grupo fator e denotado por\n",
    "\\begin{equation}\n",
    "G/H := \\{g_{1}*H,\\cdots,g_{|G|}*H\\}.\n",
    "\\end{equation}\n",
    "\n",
    "### Prova\n",
    "Para $H$ um subgrupo invariante do grupo $G$ teremos:\n",
    "\n",
    "* A composição de dois cosets de $H$ é um coset de $H$:<br>\n",
    "\\begin{align}\n",
    "& (g_{j}*H)*(g_{k}*H) = g_{j}*(H*g_{k})*H \\\\\n",
    "& = g_{j}*(g_{k}*H)*H = g_{j}*(g_{k}*(H*H)) = (g_{j}*g_{k})*H \\\\\n",
    "& = g_{l}*H.\n",
    "\\end{align}\n",
    "__Exercício:__ Verifique que $(H*g_{j})*(H*g_{k})=(H*g_{l})$.\n",
    "\n",
    "* A composição de cosets é associativa:\n",
    "\\begin{align}\n",
    "& ((g_{j}*H)*(g_{k}*H))*(g_{l}*H) = (g_{j}*(H*g_{k})*H)*(g_{l}*H) \\\\ \n",
    "& = (g_{j}*g_{k}*H*H)*(g_{l}*H) = (g_{m}*H)*(g_{l}*H) = g_{j}*g_{k}*(H*(g_{l}*H)) \\\\ \n",
    "& = g_{j}*((g_{k}*H)*(g_{l}*H)) = g_{j}*((H*g_{k})*(g_{l}*H)) \\\\ \n",
    "& = g_{j}*((H*H*g_{k})*(g_{l}*H)) = g_{j}*(H*(H*g_{k})*(g_{l}*H)) \\\\\n",
    "& = (g_{j}*H)*((H*g_{k})*(g_{l}*H)).\n",
    "\\end{align}\n",
    "__Exercício:__ Verifique que $((H*g_{j})*(H*g_{k}))*(H*g_{l})=(H*g_{j})*((H*g_{k})*(H*g_{l}))$.\n",
    "\n",
    "* $H$ age como o elemento identidade quando composto com seus cosets:\n",
    "\\begin{align}\n",
    "(g_{j}*H)*H & = g_{j}*(H*H) \\\\\n",
    "& = g_{j}*H.\n",
    "\\end{align}\n",
    "__Exercício:__ Verifique que $H*(g_{j}*H) = g_{j}*H$.\n",
    "\n",
    "* $g_{j}^{-1}*H$ é o elemento inverso de $g_{j}*H$, $\\forall g_{j}\\in G$:\n",
    "\\begin{align}\n",
    "(g_{j}^{-1}*H)*(g_{j}*H) & = g_{j}^{-1}*(H*g_{j})*H \\\\\n",
    "& = g_{j}^{-1}*(g_{j}*H)*H = (g_{j}^{-1}*g_{j})*(H*H) \\\\\n",
    "& = e*H = H.\n",
    "\\end{align}\n",
    "__Exercício:__ Verifique que $(g_{j}*H)*(g_{j}^{-1}*H)=H$."
   ]
  },
  {
   "cell_type": "markdown",
   "metadata": {},
   "source": [
    "__Exemplo:__ Consideremos o grupo fator do subgrupo invariante $H_{3}=\\{\\sigma_{0},-\\sigma_{0},\\sigma_{1},-\\sigma_{1}\\}$. Com o código abaixo obtemos os elementos do grupo fator $G_{p}/H_{3}$:\n",
    "\\begin{align}\n",
    "G_{p}/H_{3} & = \\{H_{3},H_{3},i*H_{3},i*H_{3},H_{3},H_{3},i*H_{3},i*H_{3},C_{1},C_{1},C_{2},C_{2},C_{2},C_{2},C_{1},C_{1}\\} \\\\\n",
    "& = \\{H_{3},iH_{3},C_{1},C_{2}\\},\n",
    "\\end{align}\n",
    "onde definimos\n",
    "\\begin{align}\n",
    "C_{1} & = \\{\\sigma_{2},-\\sigma_{2},i\\sigma_{3},-i\\sigma_{3}\\}, \\\\\n",
    "C_{2} & = \\{i\\sigma_{2},-i\\sigma_{2},\\sigma_{3},-\\sigma_{3}\\}.\n",
    "\\end{align}\n",
    "OBS. A ordem do grupo fator é o número de elementos (conjuntos) diferentes em $G/H$. Aqui teremos $|G_{p}/H_{3}|=4=|G_{p}|/|H_{3}|$, que indica a origem do nome desse grupo.\n",
    "\n",
    "__Exercício:__ Obtenha o grupo fator de outro subgrupo invariante do grupo de Pauli."
   ]
  },
  {
   "cell_type": "code",
   "execution_count": 4,
   "metadata": {},
   "outputs": [
    {
     "data": {
      "image/png": "[encoded data removed]",
      "text/latex": [
       "$$\\left [ \\left[\\begin{matrix}- 1.0 i & 0\\\\0 & 1.0 i\\end{matrix}\\right], \\quad \\left[\\begin{matrix}1.0 i & 0\\\\0 & - 1.0 i\\end{matrix}\\right], \\quad \\left[\\begin{matrix}0 & - 1.0 i\\\\1.0 i & 0\\end{matrix}\\right], \\quad \\left[\\begin{matrix}0 & 1.0 i\\\\- 1.0 i & 0\\end{matrix}\\right]\\right ]$$"
      ],
      "text/plain": [
       "⎡⎡-1.0⋅ⅈ    0  ⎤  ⎡1.0⋅ⅈ    0   ⎤  ⎡  0    -1.0⋅ⅈ⎤  ⎡  0     1.0⋅ⅈ⎤⎤\n",
       "⎢⎢             ⎥, ⎢             ⎥, ⎢             ⎥, ⎢             ⎥⎥\n",
       "⎣⎣  0     1.0⋅ⅈ⎦  ⎣  0    -1.0⋅ⅈ⎦  ⎣1.0⋅ⅈ    0   ⎦  ⎣-1.0⋅ⅈ    0  ⎦⎦"
      ]
     },
     "execution_count": 4,
     "metadata": {},
     "output_type": "execute_result"
    }
   ],
   "source": [
    "H3 = [s0,-s0,s1,-s1]\n",
    "j = 15\n",
    "H3j = [Gp[j]*H3[0],Gp[j]*H3[1],Gp[j]*H3[2],Gp[j]*H3[3]]\n",
    "H3j"
   ]
  },
  {
   "cell_type": "code",
   "execution_count": null,
   "metadata": {},
   "outputs": [],
   "source": []
  }
 ],
 "metadata": {
  "kernelspec": {
   "display_name": "Python 3",
   "language": "python",
   "name": "python3"
  },
  "language_info": {
   "codemirror_mode": {
    "name": "ipython",
    "version": 3
   },
   "file_extension": ".py",
   "mimetype": "text/x-python",
   "name": "python",
   "nbconvert_exporter": "python",
   "pygments_lexer": "ipython3",
   "version": "3.6.4"
  }
 },
 "nbformat": 4,
 "nbformat_minor": 2
}
