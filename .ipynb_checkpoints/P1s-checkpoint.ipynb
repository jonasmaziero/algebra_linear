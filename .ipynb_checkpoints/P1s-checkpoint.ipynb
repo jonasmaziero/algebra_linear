{
 "cells": [
  {
   "cell_type": "markdown",
   "metadata": {},
   "source": [
    "### Universidade Federal de Santa Maria, Departamento de Física <br> FSC 1044 - Física Matemática II, Prof. Jonas Maziero <br> Semestre 2018/2, Data: 09 de outubro de 2018 \n",
    "\n",
    "# Prova I\n",
    "\n"
   ]
  },
  {
   "cell_type": "markdown",
   "metadata": {},
   "source": [
    "$1.$ Partindo da definição para os elementos de matriz da inversa em termos daqueles da matriz cofator, $(A^{-1})_{j,k}=cof(A)_{k,j}/\\det(A)$, mostrar que $(A^{-1}A)_{k,k}=1$.\n",
    "\n",
    "_Sol._ Usamos a expansão em cofatores para o determinante:\n",
    "\\begin{align}\n",
    "1 &= \\frac{\\det(A)}{\\det(A)} = \\frac{\\sum_{j}A_{j,k}cof(A)_{j,k}}{\\det(A)} = \\sum_{j}A_{j,k}\\frac{cof(A)_{j,k}}{\\det(A)} \\\\\n",
    "& = \\sum_{j}A_{j,k}(A^{-1})_{k,j} = \\sum_{j}(A^{-1})_{k,j}A_{j,k} \\\\\n",
    "& = (A^{-1}A)_{k,k}.\n",
    "\\end{align}"
   ]
  },
  {
   "cell_type": "markdown",
   "metadata": {},
   "source": [
    "$2.$ Mostre que o produto interno é anti-linear no primeiro argumento, ou seja, se $|w\\rangle=\\sum_{j}a_{j}|w_{j}\\rangle$ então\n",
    "\\begin{equation}\n",
    "\\langle w|v\\rangle = \\sum_{j}a_{j}^{*}\\langle w_{j}|v\\rangle.\n",
    "\\end{equation}\n",
    "\n",
    "_Sol._ Usaremos as propriedades de anti-simetria por troca de vetores e linearidade no segundo argumento do produto interno para escrever\n",
    "\\begin{align}\n",
    "\\langle w|v\\rangle &= \\langle v|w\\rangle^{*} = (|v\\rangle,\\sum_{j}a_{j}|w_{j}\\rangle)^{*} \\\\\n",
    "& = (\\sum_{j}a_{j}(|v\\rangle,|w_{j}\\rangle))^{*} = \\sum_{j}a_{j}^{*}(|v\\rangle,|w_{j}\\rangle)^{*} \\\\\n",
    "& = \\sum_{j}a_{j}^{*}\\langle w_{j}|v\\rangle.\n",
    "\\end{align}"
   ]
  },
  {
   "cell_type": "markdown",
   "metadata": {},
   "source": [
    "$3.$ Verifique que se $P_{W}$ é um projetor no sub-espaço $W$ contido no espaço vetorial $V$, então $P_{W}\\circ P_{W}=P_{W}$.\n",
    "\n",
    "_Sol._ Consideremos um vetor aqualquer $|v\\rangle\\in V$ e uma base ortonormal $\\{|w_{j}\\rangle\\}_{j=1}^{\\dim W}$ de $W$. Teremos assim que\n",
    "\\begin{align}\n",
    "(P_{W}\\circ P_{W})(|v\\rangle) &\\equiv P_{W}(P_{W}(|v\\rangle)) = P_{W}(\\sum_{j=1}^{\\dim W}\\langle w_{j}|v\\rangle|w_{j}\\rangle) \\\\\n",
    "& = \\sum_{j=1}^{\\dim W}\\langle w_{j}|v\\rangle P_{W}(|w_{j}\\rangle) = \\sum_{j=1}^{\\dim W}\\langle w_{j}|v\\rangle  \\sum_{k=1}^{\\dim W}\\langle w_{k}|w_{j}\\rangle|w_{k}\\rangle \\\\\n",
    "&= \\sum_{j=1}^{\\dim W}\\langle w_{j}|v\\rangle  \\sum_{k=1}^{\\dim W}\\delta_{k,j}|w_{k}\\rangle = \\sum_{j=1}^{\\dim W}\\langle w_{j}|v\\rangle|w_{j}\\rangle \\\\\n",
    "& = P_{W}(|v\\rangle).\n",
    "\\end{align}"
   ]
  },
  {
   "cell_type": "markdown",
   "metadata": {},
   "source": [
    "$4.$ Para o operador Hermitiano $H=\\sum_{h}hP_{h}$, com $P_{h}$ um projetor 1D e $\\beta\\in\\mathbb{R}$, calcule a expressão para o estado térmico de Gibbs:\n",
    "\\begin{equation}\n",
    "\\rho_{g}=\\frac{e^{-\\beta H}}{Z}.\n",
    "\\end{equation}\n",
    "Use $Tr(\\rho_{g}):=1$ para obter a expressão da função de partição, que é o escalar $Z$ nessa equação (use a invariância da função traço por mudança de base para mostrar que o traço de um projetor 1D é igual a 1).\n",
    "\n",
    "_Sol._ Primeiro notamos que $-\\beta H=\\sum_{h}(-\\beta h)P_{h}$. Assim teremos\n",
    "\\begin{align}\n",
    "\\rho_{g}&=\\frac{e^{-\\beta H}}{Z} = \\frac{\\sum_{h}e^{-\\beta h}P_{h}}{Z} \\\\\n",
    "& = \\sum_{h}\\frac{e^{-\\beta h}}{Z}P_{h}.\n",
    "\\end{align}\n",
    "Para a função partição teremos $Tr(\\rho_{g})=Tr(\\sum_{h}\\frac{e^{-\\beta h}}{Z}P_{h})=\\sum_{h}\\frac{e^{-\\beta h}}{Z}Tr(P_{h})=1$, i.e., $Z=\\sum_{h}e^{-\\beta h}Tr(P_{h})$. Vamos verificar que o traço de um projetor 1D é igual a um. Para isso, se $P_{h}(|v\\rangle)=\\langle h|v\\rangle|h\\rangle\\text{, }\\forall|v\\rangle\\in V$, como o traço é independente da base, escolhemos uma base ortonormal $\\{|h_{j}\\rangle\\}_{j=1}^{\\dim V}$ com $|h_{1}\\rangle:=|h\\rangle$. Assim\n",
    "\\begin{align}\n",
    "Tr(P_{h}) &= \\sum_{j=1}^{\\dim V}\\langle h_{j}|P_{h}|h_{j}\\rangle = \\sum_{j=1}^{\\dim V}\\langle h_{j}|\\langle h|h_{j}\\rangle|h\\rangle \\\\\n",
    "&= \\sum_{j=1}^{\\dim V}\\langle h_{j}|h_{1}\\rangle\\langle h_{1}|h_{j}\\rangle = \\sum_{j=1}^{\\dim V}\\langle h_{j}|h_{1}\\rangle\\delta_{1,j} \\\\\n",
    "&=\\langle h_{1}|h_{1}\\rangle=1.\n",
    "\\end{align}\n",
    "Ou seja,\n",
    "\\begin{equation}\n",
    "Z=\\sum_{h}e^{-\\beta h}.\n",
    "\\end{equation}"
   ]
  },
  {
   "cell_type": "code",
   "execution_count": null,
   "metadata": {},
   "outputs": [],
   "source": []
  }
 ],
 "metadata": {
  "kernelspec": {
   "display_name": "Python 3",
   "language": "python",
   "name": "python3"
  },
  "language_info": {
   "codemirror_mode": {
    "name": "ipython",
    "version": 3
   },
   "file_extension": ".py",
   "mimetype": "text/x-python",
   "name": "python",
   "nbconvert_exporter": "python",
   "pygments_lexer": "ipython3",
   "version": "3.6.4"
  }
 },
 "nbformat": 4,
 "nbformat_minor": 2
}
