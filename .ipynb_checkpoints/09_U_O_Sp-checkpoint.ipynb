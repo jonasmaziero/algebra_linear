{
 "cells": [
  {
   "cell_type": "markdown",
   "metadata": {},
   "source": [
    "## Notas de aula: Teoria de Grupos, Autor: Jonas Maziero, Departamento de Física, UFSM"
   ]
  },
  {
   "cell_type": "code",
   "execution_count": 48,
   "metadata": {},
   "outputs": [],
   "source": [
    "%run /Users/jonasmaziero/Dropbox/GitHub/algebra_linear/init.ipynb"
   ]
  },
  {
   "cell_type": "markdown",
   "metadata": {},
   "source": [
    "# $GL(n,\\mathbb{C})$, $U(n)$, $U(1)$ e $SU(n)$\n",
    "As matrizes $n\\mathrm{x}n$ sobre o campo escalar $\\mathbb{F}$ com determinante diferente de zero formam um grupo sob a operação de produto matricial, chamado de _grupo linear geral_ e denotado por $GL(n,\\mathbb{F})$. Para verificar essa afirmação, lembramos que $\\det(AB)=\\det(A)\\det(B)\\ne 0$ se $A$ e $B$ possuem inversa.\n",
    "\n",
    "As matrizes unitárias $n\\mathrm{x}n$, matrizes cuja adjunta é igual à inversa ($U^{\\dagger}=U^{-1}$) também formam um grupo sob a operação de produto matricial. Esse grupo é chamado de _grupo unitário_ e é denotado por $U(n)$, e é um subgrupo de $GL(n,\\mathbb{C})$. Aqui também verificamos prontamente a estrutura de grupo pois se $A,B\\in U(n)$ então $AB(AB)^{\\dagger}=ABB^{\\dagger}A^{\\dagger}=A\\mathbb{I}_{n}A^{\\dagger}=AA^{\\dagger}=\\mathbb{I}_{n}$.\n",
    "\n",
    "A operação de multiplicação por uma fase $e^{i\\phi}$ também forma um grupo, chamado de _grupo circular_ (pois é formado pelo círculo de números complexos com módulo igual a um) e denotado por $U(1)$.\n",
    "\n",
    "Se $A\\in U(n)$ e $A|a\\rangle=a|a\\rangle$ então $|a|=1\\therefore a = e^{i\\phi}$. Como para $B\\in U(n)$ temos \\begin{equation}\n",
    "\\det(A)=\\det(BAB^{\\dagger})=\\det(diag(e^{i\\phi_{1}},\\cdots,e^{i\\phi_{n}}))=\\Pi_{j=1}^{n}e^{i\\phi_{j}}=e^{i\\sum_{j=1}^{n}\\phi_{j}}=:e^{i\\phi}.\n",
    "\\end{equation}\n",
    "As matrizes unitárias $n\\mathrm{x}n$ com determinante igual a um (i.e., $\\phi=0$) também formam um grupo, chamado _grupo unitário especial_ e denotado por $SU(n)$, que é um subgrupo de $U(n)$. Para verificar composição notamos que $\\det(AB)=\\det(A)\\det(B)=(1)(1)=1$ se $A,B\\in SU(n)$."
   ]
  },
  {
   "cell_type": "markdown",
   "metadata": {},
   "source": [
    "## $U(3)$ como composição de $U(2)$\n",
    "Considera um elemento qualquer $U\\in U(3)$ escrito, na base padrão $\\{|e_{1}\\rangle,|e_{2}\\rangle,|e_{3}\\rangle\\}$, como:\n",
    "\\begin{equation}\n",
    "U = \\begin{bmatrix} a&d&g \\\\ b&e&h \\\\c&f&i \\end{bmatrix}.\n",
    "\\end{equation}\n",
    "Vamos construir $U_{1},U_{2},U_{3}\\in SU(2)$ tais que $U_{3}U_{2}U_{1}U=\\mathbb{I}_{3}$, i.e., \n",
    "\\begin{equation}\n",
    "U=U_{1}^{\\dagger}U_{2}^{\\dagger}U_{3}^{\\dagger}.\n",
    "\\end{equation}\n",
    "\n",
    "Se $b=0$ faz $U_{1}=\\mathbb{I}_{3}$ senão faz\n",
    "\\begin{equation}\n",
    "U_{1} = \\begin{bmatrix} a^{*}/s & b^{*}/s & 0 \\\\ b/s & -a/s & 0 \\\\ 0 & 0 & 1 \\end{bmatrix},\n",
    "\\end{equation}\n",
    "com $s:=\\sqrt{|a|^{2}+|b|^{2}}$."
   ]
  },
  {
   "cell_type": "code",
   "execution_count": 8,
   "metadata": {},
   "outputs": [
    {
     "data": {
      "image/png": "[encoded data removed]",
      "text/latex": [
       "$$\\left ( \\left[\\begin{matrix}\\frac{a \\overline{a}}{\\left|{a}\\right|^{2} + \\left|{b}\\right|^{2}} + \\frac{b \\overline{b}}{\\left|{a}\\right|^{2} + \\left|{b}\\right|^{2}} & 0 & 0\\\\0 & \\frac{a \\overline{a}}{\\left|{a}\\right|^{2} + \\left|{b}\\right|^{2}} + \\frac{b \\overline{b}}{\\left|{a}\\right|^{2} + \\left|{b}\\right|^{2}} & 0\\\\0 & 0 & 1\\end{matrix}\\right], \\quad \\left[\\begin{matrix}\\frac{a \\overline{a}}{\\left|{a}\\right|^{2} + \\left|{b}\\right|^{2}} + \\frac{b \\overline{b}}{\\left|{a}\\right|^{2} + \\left|{b}\\right|^{2}} & 0 & 0\\\\0 & \\frac{a \\overline{a}}{\\left|{a}\\right|^{2} + \\left|{b}\\right|^{2}} + \\frac{b \\overline{b}}{\\left|{a}\\right|^{2} + \\left|{b}\\right|^{2}} & 0\\\\0 & 0 & 1\\end{matrix}\\right]\\right )$$"
      ],
      "text/plain": [
       "⎛⎡      _             _                                  ⎤  ⎡      _          \n",
       "⎜⎢    a⋅a           b⋅b                                  ⎥  ⎢    a⋅a          \n",
       "⎜⎢─────────── + ───────────              0              0⎥  ⎢─────────── + ───\n",
       "⎜⎢   2      2      2      2                              ⎥  ⎢   2      2      \n",
       "⎜⎢│a│  + │b│    │a│  + │b│                               ⎥  ⎢│a│  + │b│    │a│\n",
       "⎜⎢                                                       ⎥  ⎢                 \n",
       "⎜⎢                                 _             _       ⎥, ⎢                 \n",
       "⎜⎢                               a⋅a           b⋅b       ⎥  ⎢                 \n",
       "⎜⎢            0              ─────────── + ───────────  0⎥  ⎢            0    \n",
       "⎜⎢                              2      2      2      2   ⎥  ⎢                 \n",
       "⎜⎢                           │a│  + │b│    │a│  + │b│    ⎥  ⎢                 \n",
       "⎜⎢                                                       ⎥  ⎢                 \n",
       "⎝⎣            0                          0              1⎦  ⎣            0    \n",
       "\n",
       "   _                                  ⎤⎞\n",
       " b⋅b                                  ⎥⎟\n",
       "────────              0              0⎥⎟\n",
       "2      2                              ⎥⎟\n",
       "  + │b│                               ⎥⎟\n",
       "                                      ⎥⎟\n",
       "                _             _       ⎥⎟\n",
       "              a⋅a           b⋅b       ⎥⎟\n",
       "          ─────────── + ───────────  0⎥⎟\n",
       "             2      2      2      2   ⎥⎟\n",
       "          │a│  + │b│    │a│  + │b│    ⎥⎟\n",
       "                                      ⎥⎟\n",
       "                      0              1⎦⎠"
      ]
     },
     "execution_count": 8,
     "metadata": {},
     "output_type": "execute_result"
    }
   ],
   "source": [
    "a,b,c,d,e,f,g,h,i = symbols(\"a,b,c,d,e,f,g,h,i\")\n",
    "U = Matrix([[a,d,g],[b,e,h],[c,f,i]])\n",
    "s = sqrt(abs(a)**2+abs(b)**2)\n",
    "U1 = Matrix([[conjugate(a)/s,conjugate(b)/s,0],[b/s,-a/s,0],[0,0,1]])\n",
    "# verificação que U1 é unitária (verificado!)\n",
    "U1*Dagger(U1), Dagger(U1)*U1"
   ]
  },
  {
   "cell_type": "code",
   "execution_count": 16,
   "metadata": {},
   "outputs": [
    {
     "data": {
      "image/png": "[encoded data removed]",
      "text/latex": [
       "$$\\left[\\begin{matrix}\\frac{a \\overline{a}}{\\sqrt{\\left|{a}\\right|^{2} + \\left|{b}\\right|^{2}}} + \\frac{b \\overline{b}}{\\sqrt{\\left|{a}\\right|^{2} + \\left|{b}\\right|^{2}}} & \\frac{d \\overline{a}}{\\sqrt{\\left|{a}\\right|^{2} + \\left|{b}\\right|^{2}}} + \\frac{e \\overline{b}}{\\sqrt{\\left|{a}\\right|^{2} + \\left|{b}\\right|^{2}}} & \\frac{g \\overline{a}}{\\sqrt{\\left|{a}\\right|^{2} + \\left|{b}\\right|^{2}}} + \\frac{h \\overline{b}}{\\sqrt{\\left|{a}\\right|^{2} + \\left|{b}\\right|^{2}}}\\\\0 & - \\frac{a e}{\\sqrt{\\left|{a}\\right|^{2} + \\left|{b}\\right|^{2}}} + \\frac{b d}{\\sqrt{\\left|{a}\\right|^{2} + \\left|{b}\\right|^{2}}} & - \\frac{a h}{\\sqrt{\\left|{a}\\right|^{2} + \\left|{b}\\right|^{2}}} + \\frac{b g}{\\sqrt{\\left|{a}\\right|^{2} + \\left|{b}\\right|^{2}}}\\\\c & f & i\\end{matrix}\\right]$$"
      ],
      "text/plain": [
       "⎡        _                  _                  _                  _           \n",
       "⎢      a⋅a                b⋅b                d⋅a                e⋅b           \n",
       "⎢──────────────── + ────────────────   ──────────────── + ────────────────    \n",
       "⎢   _____________      _____________      _____________      _____________    \n",
       "⎢  ╱    2      2      ╱    2      2      ╱    2      2      ╱    2      2     \n",
       "⎢╲╱  │a│  + │b│     ╲╱  │a│  + │b│     ╲╱  │a│  + │b│     ╲╱  │a│  + │b│      \n",
       "⎢                                                                             \n",
       "⎢                                             a⋅e                b⋅d          \n",
       "⎢                 0                   - ──────────────── + ────────────────  -\n",
       "⎢                                          _____________      _____________   \n",
       "⎢                                         ╱    2      2      ╱    2      2    \n",
       "⎢                                       ╲╱  │a│  + │b│     ╲╱  │a│  + │b│     \n",
       "⎢                                                                             \n",
       "⎣                 c                                     f                     \n",
       "\n",
       "        _                  _        ⎤\n",
       "      g⋅a                h⋅b        ⎥\n",
       "──────────────── + ──────────────── ⎥\n",
       "   _____________      _____________ ⎥\n",
       "  ╱    2      2      ╱    2      2  ⎥\n",
       "╲╱  │a│  + │b│     ╲╱  │a│  + │b│   ⎥\n",
       "                                    ⎥\n",
       "       a⋅h                b⋅g       ⎥\n",
       " ──────────────── + ────────────────⎥\n",
       "    _____________      _____________⎥\n",
       "   ╱    2      2      ╱    2      2 ⎥\n",
       " ╲╱  │a│  + │b│     ╲╱  │a│  + │b│  ⎥\n",
       "                                    ⎥\n",
       "                 i                  ⎦"
      ]
     },
     "execution_count": 16,
     "metadata": {},
     "output_type": "execute_result"
    }
   ],
   "source": [
    "U1*U"
   ]
  },
  {
   "cell_type": "markdown",
   "metadata": {},
   "source": [
    "Definimos assim\n",
    "\\begin{equation}\n",
    "U_{1}U =: \\begin{bmatrix} a' & d' & g' \\\\ 0 & e' & h' \\\\ c' & f' & i' \\end{bmatrix}.\n",
    "\\end{equation}"
   ]
  },
  {
   "cell_type": "markdown",
   "metadata": {},
   "source": [
    "Seguindo, se $c'=c=0$ faz $U_{2}=\\mathbb{I}_{3}$ senão faz\n",
    "\\begin{equation}\n",
    "U_{2} = \\begin{bmatrix} a'^{*}/s' & 0 & c'^{*}/s' \\\\ 0 & 1 & 0 \\\\ c'/s' & 0 & -a'/s' \\end{bmatrix},\n",
    "\\end{equation}\n",
    "com $s':=\\sqrt{|a'|^{2}+|c'|^{2}}$."
   ]
  },
  {
   "cell_type": "code",
   "execution_count": 9,
   "metadata": {},
   "outputs": [
    {
     "data": {
      "image/png": "[encoded data removed]",
      "text/latex": [
       "$$\\left ( \\left[\\begin{matrix}\\frac{a' \\overline{a'}}{\\left|{a'}\\right|^{2} + \\left|{c'}\\right|^{2}} + \\frac{c' \\overline{c'}}{\\left|{a'}\\right|^{2} + \\left|{c'}\\right|^{2}} & 0 & 0\\\\0 & 1 & 0\\\\0 & 0 & \\frac{a' \\overline{a'}}{\\left|{a'}\\right|^{2} + \\left|{c'}\\right|^{2}} + \\frac{c' \\overline{c'}}{\\left|{a'}\\right|^{2} + \\left|{c'}\\right|^{2}}\\end{matrix}\\right], \\quad \\left[\\begin{matrix}\\frac{a' \\overline{a'}}{\\left|{a'}\\right|^{2} + \\left|{c'}\\right|^{2}} + \\frac{c' \\overline{c'}}{\\left|{a'}\\right|^{2} + \\left|{c'}\\right|^{2}} & 0 & 0\\\\0 & 1 & 0\\\\0 & 0 & \\frac{a' \\overline{a'}}{\\left|{a'}\\right|^{2} + \\left|{c'}\\right|^{2}} + \\frac{c' \\overline{c'}}{\\left|{a'}\\right|^{2} + \\left|{c'}\\right|^{2}}\\end{matrix}\\right]\\right )$$"
      ],
      "text/plain": [
       "⎛⎡       __              __                                      ⎤  ⎡       __\n",
       "⎜⎢    a'⋅a'           c'⋅c'                                      ⎥  ⎢    a'⋅a'\n",
       "⎜⎢───────────── + ─────────────  0                0              ⎥  ⎢─────────\n",
       "⎜⎢    2       2       2       2                                  ⎥  ⎢    2    \n",
       "⎜⎢│a'│  + │c'│    │a'│  + │c'│                                   ⎥  ⎢│a'│  + │\n",
       "⎜⎢                                                               ⎥  ⎢         \n",
       "⎜⎢              0                1                0              ⎥, ⎢         \n",
       "⎜⎢                                                               ⎥  ⎢         \n",
       "⎜⎢                                         __              __    ⎥  ⎢         \n",
       "⎜⎢                                      a'⋅a'           c'⋅c'    ⎥  ⎢         \n",
       "⎜⎢              0                0  ───────────── + ─────────────⎥  ⎢         \n",
       "⎜⎢                                      2       2       2       2⎥  ⎢         \n",
       "⎝⎣                                  │a'│  + │c'│    │a'│  + │c'│ ⎦  ⎣         \n",
       "\n",
       "              __                                      ⎤⎞\n",
       "           c'⋅c'                                      ⎥⎟\n",
       "──── + ─────────────  0                0              ⎥⎟\n",
       "   2       2       2                                  ⎥⎟\n",
       "c'│    │a'│  + │c'│                                   ⎥⎟\n",
       "                                                      ⎥⎟\n",
       "     0                1                0              ⎥⎟\n",
       "                                                      ⎥⎟\n",
       "                                __              __    ⎥⎟\n",
       "                             a'⋅a'           c'⋅c'    ⎥⎟\n",
       "     0                0  ───────────── + ─────────────⎥⎟\n",
       "                             2       2       2       2⎥⎟\n",
       "                         │a'│  + │c'│    │a'│  + │c'│ ⎦⎠"
      ]
     },
     "execution_count": 9,
     "metadata": {},
     "output_type": "execute_result"
    }
   ],
   "source": [
    "al,bl,cl,dl,el,fl,gl,hl,il,sl = symbols(\"a',b',c',d',e',f',g',h',i',s'\")\n",
    "U1U = Matrix([[al,dl,gl],[0,el,hl],[c,f,i]])\n",
    "#U1U\n",
    "sl = sqrt(abs(al)**2+abs(cl)**2)\n",
    "U2 = Matrix([[conjugate(al)/sl,0,conjugate(cl)/sl],[0,1,0],[cl/sl,0,-al/sl]])\n",
    "#U2\n",
    "# verificação que U2 é unitária (verificado!)\n",
    "U2*Dagger(U2), Dagger(U2)*U2"
   ]
  },
  {
   "cell_type": "code",
   "execution_count": 28,
   "metadata": {},
   "outputs": [
    {
     "data": {
      "image/png": "[encoded data removed]",
      "text/latex": [
       "$$\\left[\\begin{matrix}\\frac{a' \\overline{a'}}{\\sqrt{\\left|{a'}\\right|^{2} + \\left|{c}\\right|^{2}}} + \\frac{c \\overline{c}}{\\sqrt{\\left|{a'}\\right|^{2} + \\left|{c}\\right|^{2}}} & \\frac{d' \\overline{a'}}{\\sqrt{\\left|{a'}\\right|^{2} + \\left|{c}\\right|^{2}}} + \\frac{f \\overline{c}}{\\sqrt{\\left|{a'}\\right|^{2} + \\left|{c}\\right|^{2}}} & \\frac{g' \\overline{a'}}{\\sqrt{\\left|{a'}\\right|^{2} + \\left|{c}\\right|^{2}}} + \\frac{i \\overline{c}}{\\sqrt{\\left|{a'}\\right|^{2} + \\left|{c}\\right|^{2}}}\\\\0 & e' & h'\\\\0 & - \\frac{a' f}{\\sqrt{\\left|{a'}\\right|^{2} + \\left|{c}\\right|^{2}}} + \\frac{c d'}{\\sqrt{\\left|{a'}\\right|^{2} + \\left|{c}\\right|^{2}}} & - \\frac{a' i}{\\sqrt{\\left|{a'}\\right|^{2} + \\left|{c}\\right|^{2}}} + \\frac{c g'}{\\sqrt{\\left|{a'}\\right|^{2} + \\left|{c}\\right|^{2}}}\\end{matrix}\\right]$$"
      ],
      "text/plain": [
       "⎡         __                  _                   __                  _       \n",
       "⎢      a'⋅a'                c⋅c                d'⋅a'                f⋅c       \n",
       "⎢───────────────── + ─────────────────   ───────────────── + ─────────────────\n",
       "⎢   ______________      ______________      ______________      ______________\n",
       "⎢  ╱     2      2      ╱     2      2      ╱     2      2      ╱     2      2 \n",
       "⎢╲╱  │a'│  + │c│     ╲╱  │a'│  + │c│     ╲╱  │a'│  + │c│     ╲╱  │a'│  + │c│  \n",
       "⎢                                                                             \n",
       "⎢                  0                                      e'                  \n",
       "⎢                                                                             \n",
       "⎢                                                a'⋅f                c⋅d'     \n",
       "⎢                  0                    - ───────────────── + ────────────────\n",
       "⎢                                            ______________      _____________\n",
       "⎢                                           ╱     2      2      ╱     2      2\n",
       "⎣                                         ╲╱  │a'│  + │c│     ╲╱  │a'│  + │c│ \n",
       "\n",
       "             __                  _        ⎤\n",
       "          g'⋅a'                i⋅c        ⎥\n",
       "    ───────────────── + ───────────────── ⎥\n",
       "       ______________      ______________ ⎥\n",
       "      ╱     2      2      ╱     2      2  ⎥\n",
       "    ╲╱  │a'│  + │c│     ╲╱  │a'│  + │c│   ⎥\n",
       "                                          ⎥\n",
       "                     h'                   ⎥\n",
       "                                          ⎥\n",
       "            a'⋅i                c⋅g'      ⎥\n",
       "─  - ───────────────── + ─────────────────⎥\n",
       "_       ______________      ______________⎥\n",
       "       ╱     2      2      ╱     2      2 ⎥\n",
       "     ╲╱  │a'│  + │c│     ╲╱  │a'│  + │c│  ⎦"
      ]
     },
     "execution_count": 28,
     "metadata": {},
     "output_type": "execute_result"
    }
   ],
   "source": [
    "U2*U1U"
   ]
  },
  {
   "cell_type": "markdown",
   "metadata": {},
   "source": [
    "Definimos assim\n",
    "\\begin{equation}\n",
    "U_{2}U_{1}U =: \\begin{bmatrix} a'' & d'' & g'' \\\\ 0 & e'' & h'' \\\\ 0 & f'' & i'' \\end{bmatrix}.\n",
    "\\end{equation}\n",
    "Essa matriz é unitária pois $(U_{2}U_{1}U)^{\\dagger}U_{2}U_{1}U = U^{\\dagger}U_{1}^{\\dagger}U_{2}^{\\dagger}U_{2}U_{1}U=\\mathbb{I}_{3}$. Portanto seus vetores linha e vetores coluna devem ter norma igual a um. Isso implica que $a''=1$ e que consequentemente $d''=g''=0$. Por conseguinte\n",
    "\\begin{equation}\n",
    "U_{2}U_{1}U =: \\begin{bmatrix} 1 & 0 & 0 \\\\ 0 & e'' & h'' \\\\ 0 & f'' & i'' \\end{bmatrix}.\n",
    "\\end{equation}\n",
    "Por fim definimos\n",
    "\\begin{equation}\n",
    "U_{3} = \\begin{bmatrix} 1 & 0 & 0 \\\\ 0 & e''^{*} & f''^{*} \\\\ 0 & h''^{*} & i''^{*} \\end{bmatrix}.\n",
    "\\end{equation}"
   ]
  },
  {
   "cell_type": "code",
   "execution_count": 10,
   "metadata": {},
   "outputs": [
    {
     "data": {
      "image/png": "[encoded data removed]",
      "text/latex": [
       "$$\\left ( \\left[\\begin{matrix}1 & 0 & 0\\\\0 & e'' \\overline{e''} + f'' \\overline{f''} & h'' \\overline{e''} + i'' \\overline{f''}\\\\0 & e'' \\overline{h''} + f'' \\overline{i''} & h'' \\overline{h''} + i'' \\overline{i''}\\end{matrix}\\right], \\quad \\left[\\begin{matrix}1 & 0 & 0\\\\0 & e'' \\overline{e''} + h'' \\overline{h''} & e'' \\overline{f''} + h'' \\overline{i''}\\\\0 & f'' \\overline{e''} + i'' \\overline{h''} & f'' \\overline{f''} + i'' \\overline{i''}\\end{matrix}\\right]\\right )$$"
      ],
      "text/plain": [
       "⎛⎡1          0                  0        ⎤  ⎡1          0                  0  \n",
       "⎜⎢                                       ⎥  ⎢                                 \n",
       "⎜⎢       ___       ___      ___       ___⎥  ⎢       ___       ___      ___    \n",
       "⎜⎢0  e''⋅e'' + f''⋅f''  h''⋅e'' + i''⋅f''⎥, ⎢0  e''⋅e'' + h''⋅h''  e''⋅f'' + h\n",
       "⎜⎢                                       ⎥  ⎢                                 \n",
       "⎜⎢       ___       ___      ___       ___⎥  ⎢       ___       ___      ___    \n",
       "⎝⎣0  e''⋅h'' + f''⋅i''  h''⋅h'' + i''⋅i''⎦  ⎣0  f''⋅e'' + i''⋅h''  f''⋅f'' + i\n",
       "\n",
       "      ⎤⎞\n",
       "      ⎥⎟\n",
       "   ___⎥⎟\n",
       "''⋅i''⎥⎟\n",
       "      ⎥⎟\n",
       "   ___⎥⎟\n",
       "''⋅i''⎦⎠"
      ]
     },
     "execution_count": 10,
     "metadata": {},
     "output_type": "execute_result"
    }
   ],
   "source": [
    "ell,fll,hll,ill = symbols(\"e'',f'',h'',i''\")\n",
    "U3 = Matrix([[1,0,0],[0,conjugate(ell),conjugate(fll)],[0,conjugate(hll),conjugate(ill)]])\n",
    "#U3\n",
    "# verificação que U3 é unitária (verificado!)\n",
    "U3*Dagger(U3), Dagger(U3)*U3"
   ]
  },
  {
   "cell_type": "markdown",
   "metadata": {},
   "source": [
    "Vemos que $U_{3}$ é unitária pois pela unitariedade de $U_{2}U_{1}U$ teremos\n",
    "\\begin{align}\n",
    "& \\vec{L}_{2}\\cdot\\vec{L}_{2}=1 \\Rightarrow |e''|^{2}+|f''|^{2}=1, \\\\\n",
    "& \\vec{L}_{2}\\cdot\\vec{L}_{3}=0 \\Rightarrow e''^{*}h''+f''^{*}i''=0, \\\\\n",
    "& \\vec{L}_{3}\\cdot\\vec{L}_{2}=0 \\Rightarrow h''^{*}e''+i''^{*}f''=0, \\\\\n",
    "& \\vec{L}_{3}\\cdot\\vec{L}_{3}=1 \\Rightarrow |h''|^{2}+|i''|^{2}=1.\n",
    "\\end{align}"
   ]
  },
  {
   "cell_type": "code",
   "execution_count": 36,
   "metadata": {},
   "outputs": [
    {
     "data": {
      "image/png": "[encoded data removed]",
      "text/latex": [
       "$$\\left[\\begin{matrix}1 & 0 & 0\\\\0 & e'' \\overline{e''} + f'' \\overline{f''} & h'' \\overline{e''} + i'' \\overline{f''}\\\\0 & e'' \\overline{h''} + f'' \\overline{i''} & h'' \\overline{h''} + i'' \\overline{i''}\\end{matrix}\\right]$$"
      ],
      "text/plain": [
       "⎡1          0                  0        ⎤\n",
       "⎢                                       ⎥\n",
       "⎢       ___       ___      ___       ___⎥\n",
       "⎢0  e''⋅e'' + f''⋅f''  h''⋅e'' + i''⋅f''⎥\n",
       "⎢                                       ⎥\n",
       "⎢       ___       ___      ___       ___⎥\n",
       "⎣0  e''⋅h'' + f''⋅i''  h''⋅h'' + i''⋅i''⎦"
      ]
     },
     "execution_count": 36,
     "metadata": {},
     "output_type": "execute_result"
    }
   ],
   "source": [
    "U2U1U = Matrix([[1,0,0],[0,ell,hll],[0,fll,ill]])\n",
    "#U2U1U\n",
    "U3*U2U1U"
   ]
  },
  {
   "cell_type": "markdown",
   "metadata": {},
   "source": [
    "Vemos assim que $U_{3}U_{2}U_{1}U=\\mathbb{I}_{3}$, também pela unitariedade de $U_{2}U_{1}U$. A função abaixo returna $\\{U_{j}\\}_{j=1}^{3}$ uma vez fornecido $U$."
   ]
  },
  {
   "cell_type": "code",
   "execution_count": 40,
   "metadata": {},
   "outputs": [],
   "source": [
    "def u3Fu2(U):\n",
    "    '''Returs U1d, U2d, U3d such that U = U1d*U2d*U3d'''\n",
    "    s = sqrt(abs(U[0,0])**2+abs(U[1,0])**2)\n",
    "    if U[1,0] == 0:\n",
    "        U1d = Matrix([[1,0,0],[0,1,0],[0,0,1]])\n",
    "    else:\n",
    "        U1d = Matrix([[U[0,0]/s,conjugate(U[1,0])/s,0],[U[1,0]/s,-conjugate(U[0,0])/s,0],[0,0,1]])\n",
    "    sl = sqrt(abs(U[0,0])**2+abs(U[1,0])**2+abs(U[2,0])**2)\n",
    "    if U[2,0] == 0:\n",
    "        U2d = Matrix([[1,0,0],[0,1,0],[0,0,1]])\n",
    "    else:\n",
    "        U2d = Matrix([[s/sl,0,conjugate(U[2,0])/sl],[0,1,0],[U[2,0]/sl,0,-s/sl]])\n",
    "    ell = (U[1,0]*U[0,1]-U[0,0]*U[1,1])/s\n",
    "    hll = (U[1,0]*U[0,2]-U[0,0]*U[1,2])/s\n",
    "    dl = (U[0,1]*conjugate(U[0,0])+U[1,1]*conjugate(U[1,0]))/s\n",
    "    fll = (U[2,0]*dl-s*U[2,1])/sl\n",
    "    gl = (U[0,2]*conjugate(U[0,0])+U[1,2]*conjugate(U[0,1]))/sl\n",
    "    ill = (U[2,0]*gl-s*U[2,2])/sl\n",
    "    U3d = Matrix([[1,0,0],[0,ell,hll],[0,fll,ill]])\n",
    "    return U1d, U2d, U3d"
   ]
  },
  {
   "cell_type": "code",
   "execution_count": 41,
   "metadata": {},
   "outputs": [
    {
     "data": {
      "image/png": "[encoded data removed]",
      "text/latex": [
       "$$\\left[\\begin{matrix}\\frac{\\sqrt{2}}{2} & \\frac{\\sqrt{2}}{2} & 0\\\\\\frac{\\sqrt{2}}{2} & - \\frac{\\sqrt{2}}{2} & 0\\\\0 & 0 & -1\\end{matrix}\\right]$$"
      ],
      "text/plain": [
       "⎡√2   √2     ⎤\n",
       "⎢──   ──   0 ⎥\n",
       "⎢2    2      ⎥\n",
       "⎢            ⎥\n",
       "⎢√2  -√2     ⎥\n",
       "⎢──  ────  0 ⎥\n",
       "⎢2    2      ⎥\n",
       "⎢            ⎥\n",
       "⎣0    0    -1⎦"
      ]
     },
     "execution_count": 41,
     "metadata": {},
     "output_type": "execute_result"
    }
   ],
   "source": [
    "U = (1/sqrt(2))*Matrix([[1,1,0],[1,-1,0],[0,0,sqrt(2)]])\n",
    "#U*Dagger(U) # U é unitária!\n",
    "U1d, U2d, U3d = u3Fu2(U)\n",
    "U1d*U2d*U3d"
   ]
  },
  {
   "cell_type": "markdown",
   "metadata": {},
   "source": [
    "# $O(n)$ e  $SO(n)$\n",
    "As matrizes ortogonais $n\\mathrm{x}n$, cuja transposta é igual à inversa ($O^{T}=O^{-1}$), formam um grupo sob multiplicação, que é chamado de _grupo ortogonal_ e é denotado por $O(n)$. Verificamos a estrutura de grupo notando que \n",
    "\\begin{equation}\n",
    "AB(AB)^{T}=ABB^{T}A^{T}=A\\mathbb{I}_{n}A^{T} =AA^{T}=\\mathbb{I}_{n} \\text{ se } A,B\\in O(n).\n",
    "\\end{equation}\n",
    "\n",
    "Para $A\\in O(n)$ temos $\\det(A)=\\pm 1$. As matrizes ortogonais com determinante igual a um também formam um grupo, chamado de _grupo ortogonal especial_ e denotado por $SO(n)$."
   ]
  },
  {
   "cell_type": "markdown",
   "metadata": {},
   "source": [
    "## Ângulos de Euler\n",
    "Começaremos obtendo três elementos particularmente importantes de $O_{3}$, que são as rotações em torno das três coordenadas $x,y,z$. Para rotações do referencial, o chamado ponto de vista passivo, o vetor posição pode ser escrito como: $\\vec{r} = \\sum_{j}x_{j}\\hat{e}_{j} = \\sum_{j}x'_{j}\\hat{e'}_{j}=\\vec{r'}.$ Consideremos que os versores nos diferentes referenciais são relacionados por\n",
    "\\begin{equation}\n",
    "\\hat{e'}_{j}=\\sum_{k}A_{j,k}\\hat{e}_{k}\\therefore\\begin{bmatrix}\\hat{e'}_{1}\\\\\\vdots\\\\\\hat{e'}_{n}\\end{bmatrix}=A\\begin{bmatrix}\\hat{e}_{1}\\\\\\vdots\\\\\\hat{e}_{n}\\end{bmatrix}.\n",
    "\\end{equation}\n",
    "Devemos ter (rotações devem preservar o produto interno):\n",
    "\\begin{align}\n",
    "\\delta_{j,k} & = \\hat{e'}_{j}\\cdot\\hat{e'}_{k} = \\sum_{l}A_{j,l}\\hat{e}_{l}\\cdot\\sum_{m}A_{k,m}\\hat{e}_{m} = \\sum_{l,m}A_{jl}A_{k,m}\\hat{e}_{l}\\cdot\\hat{e}_{m} = \\sum_{l,m}A_{j,l}A_{k,m}\\delta_{l,m}  \\\\\n",
    "& = \\sum_{l}A_{j,l}A_{k,l} = \\sum_{l}A_{j,l}(A^{T})_{l,k} = \\sum_{l}(AA^{T})_{j,k} \\Rightarrow AA^{T}=\\mathbb{I}_{n}.\n",
    "\\end{align}\n",
    "Ou seja, $A\\in O(n)$.\n",
    "Assim\n",
    "\\begin{align}\n",
    "\\vec{r'} & = \\sum_{j}x'_{j}\\hat{e'}_{j} = \\sum_{j}x'_{j}\\sum_{k}A_{jk}\\hat{e}_{k} = \\sum_{k}\\left(\\sum_{j}(A^{T})_{kj}x'_{j}\\right)\\hat{e}_{k} = \\sum_{k}x_{k}\\hat{e}_{k}=\\vec{r}.\n",
    "\\end{align}\n",
    "Ou seja, se giramos o vetor sem mudar o referencial, o chamado ponto de vista ativo, teremos\n",
    "\\begin{equation}\n",
    "\\vec{r}=A^{T}\\vec{r'}.\n",
    "\\end{equation}\n",
    "\n",
    "Ademais, notemos que \n",
    "\\begin{equation}\n",
    "\\hat{e}_{l}\\cdot\\hat{e'}_{j}=\\hat{e}_{l}\\cdot\\sum_{k}A_{j,k}\\hat{e}_{k}=\\sum_{k}A_{j,k}\\hat{e}_{l}\\cdot\\hat{e}_{k}=A_{j,l}=\\cos(\\text{ângulo entre } \\hat{e}_{l} \\text{ e } \\hat{e'}_{j}).\n",
    "\\end{equation}"
   ]
  },
  {
   "cell_type": "markdown",
   "metadata": {},
   "source": [
    "Para rotações do referencial em torno da direção $z$ positiva, temos as seguintes relações entre os versores (veja a figura abaixo):\n",
    "\\begin{align}\n",
    "& \\hat{i'} = \\hat{i}\\cos\\theta+\\hat{j}\\sin\\theta, \\\\\n",
    "& \\hat{j'} = -\\hat{i}\\sin\\theta+\\hat{j}\\cos\\theta, \\\\\n",
    "& \\hat{k'} = k.\n",
    "\\end{align}\n",
    "\n",
    "<table><tr>\n",
    "<td> <img src=\"O3_vec.png\" alt=\"Drawing\" style=\"width: 250px;\"/> </td>\n",
    "<td> <img src=\"O3_Rz.png\" alt=\"Drawing\" style=\"width: 250px;\"/> </td>\n",
    "</tr></table>\n",
    "\n",
    "Com isso, vem que\n",
    "\\begin{align}\n",
    "\\vec{r'} & = x'\\hat{i'}+y'\\hat{j'}+z'\\hat{k'} \\\\\n",
    "& = x'(\\hat{i}\\cos\\theta+\\hat{j}\\sin\\theta) + y'(-\\hat{i}\\sin\\theta+\\hat{j}\\cos\\theta)+z'\\hat{k'} \\\\\n",
    "& = (x'\\cos\\theta-y'\\sin\\theta)\\hat{i} + (x'\\sin\\theta+y'\\cos\\theta)\\hat{j}+z'\\hat{k'} \\\\\n",
    "& = \\vec{r} = x\\hat{i}+y\\hat{j}+z\\hat{k}.\n",
    "\\end{align}\n",
    "Na forma matricial, esta equação fica escrita como segue:\n",
    "\\begin{equation}\n",
    "\\begin{bmatrix} x \\\\ y \\\\ z \\end{bmatrix}=\\begin{bmatrix}\\cos\\theta & -\\sin\\theta & 0 \\\\ \\sin\\theta & \\cos\\theta & 0 \\\\ 0 & 0 & 1 \\end{bmatrix}\\begin{bmatrix} x' \\\\ y' \\\\ z' \\end{bmatrix}\\therefore \\vec{r}=R_{z}(\\theta)\\vec{r'}.\n",
    "\\end{equation}"
   ]
  },
  {
   "cell_type": "code",
   "execution_count": 66,
   "metadata": {},
   "outputs": [],
   "source": [
    "t = symbols(\"theta\")\n",
    "def Rz(t):\n",
    "    return Matrix([[cos(t),-sin(t),0],[sin(t),cos(t),0],[0,0,1]])"
   ]
  },
  {
   "cell_type": "code",
   "execution_count": 84,
   "metadata": {},
   "outputs": [
    {
     "data": {
      "image/png": "[encoded data removed]",
      "text/latex": [
       "$$\\left ( \\left[\\begin{matrix}\\cos{\\left (\\theta \\right )} & - \\sin{\\left (\\theta \\right )} & 0\\\\\\sin{\\left (\\theta \\right )} & \\cos{\\left (\\theta \\right )} & 0\\\\0 & 0 & 1\\end{matrix}\\right], \\quad \\left[\\begin{matrix}1 & 0 & 0\\\\0 & 1 & 0\\\\0 & 0 & 1\\end{matrix}\\right], \\quad \\left[\\begin{matrix}1 & 0 & 0\\\\0 & 1 & 0\\\\0 & 0 & 1\\end{matrix}\\right], \\quad 1\\right )$$"
      ],
      "text/plain": [
       "⎛⎡cos(θ)  -sin(θ)  0⎤  ⎡1  0  0⎤  ⎡1  0  0⎤   ⎞\n",
       "⎜⎢                  ⎥  ⎢       ⎥  ⎢       ⎥   ⎟\n",
       "⎜⎢sin(θ)  cos(θ)   0⎥, ⎢0  1  0⎥, ⎢0  1  0⎥, 1⎟\n",
       "⎜⎢                  ⎥  ⎢       ⎥  ⎢       ⎥   ⎟\n",
       "⎝⎣  0        0     1⎦  ⎣0  0  1⎦  ⎣0  0  1⎦   ⎠"
      ]
     },
     "execution_count": 84,
     "metadata": {},
     "output_type": "execute_result"
    }
   ],
   "source": [
    "Rz(t), simplify(Rz(t)*Rz(t).T), simplify(Rz(t).T*Rz(t)), simplify(det(Rz(t)))"
   ]
  },
  {
   "cell_type": "markdown",
   "metadata": {},
   "source": [
    "Como visto usando o código acima, $R_{z}(\\theta)\\in SO(3)$. Assim $\\vec{r'}=R_{z}(\\theta)^{T}\\vec{r}$."
   ]
  },
  {
   "cell_type": "markdown",
   "metadata": {},
   "source": [
    "Para rotações do referencial em torno da direção $y$ positiva, temos as seguintes relações entre os versores (veja a figura abaixo):\n",
    "\\begin{align}\n",
    "& \\hat{i'} = \\hat{i}\\cos\\theta+\\hat{k}\\sin\\theta, \\\\\n",
    "& \\hat{j'} = \\hat{j}, \\\\  \n",
    "& \\hat{k'} = \\hat{i}\\sin\\theta+\\hat{k}\\cos\\theta.\n",
    "\\end{align}\n",
    "\n",
    "<img src=\"O3_Ry.png\" width=\"250\">\n",
    "\n",
    "Com isso, vem que\n",
    "\\begin{align}\n",
    "\\vec{r'} & = x'(\\hat{i}\\cos\\theta-\\hat{k}\\sin\\theta) + y'\\hat{j'} + z'(\\hat{i}\\sin\\theta+\\hat{k}\\cos\\theta) \\\\\n",
    "& = (x'\\cos\\theta+z'\\sin\\theta)\\hat{i} + y'\\hat{j'} + (-x'\\sin\\theta+z'\\cos\\theta)\\hat{k'}=\\vec{r}.\n",
    "\\end{align}\n",
    "Na forma matricial, esta equação fica escrita como segue:\n",
    "\\begin{equation}\n",
    "\\begin{bmatrix} x \\\\ y \\\\ z \\end{bmatrix}=\\begin{bmatrix}\\cos\\theta & 0 & \\sin\\theta \\\\ 0 & 1 & 0 \\\\ -\\sin\\theta & 0 & \\cos\\theta \\end{bmatrix}\\begin{bmatrix} x' \\\\ y' \\\\ z' \\end{bmatrix}\\therefore \\vec{r}=R_{y}(\\theta)\\vec{r'}.\n",
    "\\end{equation}"
   ]
  },
  {
   "cell_type": "code",
   "execution_count": 72,
   "metadata": {},
   "outputs": [],
   "source": [
    "def Ry(t):\n",
    "    return Matrix([[cos(t),0,sin(t)],[0,1,0],[-sin(t),0,cos(t)]])"
   ]
  },
  {
   "cell_type": "code",
   "execution_count": 83,
   "metadata": {},
   "outputs": [
    {
     "data": {
      "image/png": "[encoded data removed]",
      "text/latex": [
       "$$\\left ( \\left[\\begin{matrix}\\cos{\\left (\\theta \\right )} & 0 & \\sin{\\left (\\theta \\right )}\\\\0 & 1 & 0\\\\- \\sin{\\left (\\theta \\right )} & 0 & \\cos{\\left (\\theta \\right )}\\end{matrix}\\right], \\quad \\left[\\begin{matrix}1 & 0 & 0\\\\0 & 1 & 0\\\\0 & 0 & 1\\end{matrix}\\right], \\quad \\left[\\begin{matrix}1 & 0 & 0\\\\0 & 1 & 0\\\\0 & 0 & 1\\end{matrix}\\right], \\quad 1\\right )$$"
      ],
      "text/plain": [
       "⎛⎡cos(θ)   0  sin(θ)⎤  ⎡1  0  0⎤  ⎡1  0  0⎤   ⎞\n",
       "⎜⎢                  ⎥  ⎢       ⎥  ⎢       ⎥   ⎟\n",
       "⎜⎢   0     1    0   ⎥, ⎢0  1  0⎥, ⎢0  1  0⎥, 1⎟\n",
       "⎜⎢                  ⎥  ⎢       ⎥  ⎢       ⎥   ⎟\n",
       "⎝⎣-sin(θ)  0  cos(θ)⎦  ⎣0  0  1⎦  ⎣0  0  1⎦   ⎠"
      ]
     },
     "execution_count": 83,
     "metadata": {},
     "output_type": "execute_result"
    }
   ],
   "source": [
    "Ry(t), simplify(Ry(t)*Ry(t).T), simplify(Ry(t).T*Ry(t)), simplify(det(Ry(t)))"
   ]
  },
  {
   "cell_type": "markdown",
   "metadata": {},
   "source": [
    "Como visto usando esse código, $R_{y}(\\theta)\\in SO(3)$. Portanto $\\vec{r'}=R_{y}(\\theta)^{T}\\vec{r}$."
   ]
  },
  {
   "cell_type": "markdown",
   "metadata": {},
   "source": [
    "Já para rotações do referencial em torno da direção $x$ positiva, temos as seguintes relações entre os versores (veja a figura abaixo):\n",
    "\\begin{align}\n",
    "& \\hat{i'} = \\hat{i}, \\\\\n",
    "& \\hat{j'} = \\hat{j}\\cos\\theta+\\hat{k}\\sin\\theta, \\\\  \n",
    "& \\hat{k'} = -\\hat{j}\\sin\\theta+\\hat{k}\\cos\\theta.\n",
    "\\end{align}\n",
    "\n",
    "<img src=\"O3_Rx.png\" width=\"250\">\n",
    "\n",
    "Com isso, vem que\n",
    "\\begin{align}\n",
    "\\vec{r'} & = x'\\hat{i'} + y'(\\hat{j}\\cos\\theta+\\hat{k}\\sin\\theta) +  z'(-\\hat{j}\\sin\\theta+\\hat{k}\\cos\\theta) \\\\\n",
    "& = x'\\hat{i'} + (y'\\cos\\theta-z'\\sin\\theta)\\hat{j} + (y'\\sin\\theta+z'\\cos\\theta)\\hat{k'} =\\vec{r}.\n",
    "\\end{align}\n",
    "Na forma matricial, esta equação fica escrita como segue:\n",
    "\\begin{equation}\n",
    "\\begin{bmatrix} x \\\\ y \\\\ z \\end{bmatrix}=\\begin{bmatrix} 1 & 0 & 0 \\\\ 0 & \\cos\\theta & -\\sin\\theta \\\\ 0 & \\sin\\theta & \\cos\\theta \\end{bmatrix}\\begin{bmatrix} x' \\\\ y' \\\\ z' \\end{bmatrix}\\therefore \\vec{r}=R_{x}(\\theta)\\vec{r'}.\n",
    "\\end{equation}"
   ]
  },
  {
   "cell_type": "code",
   "execution_count": 78,
   "metadata": {},
   "outputs": [],
   "source": [
    "def Rx(t):\n",
    "    return Matrix([[1,0,0],[0,cos(t),-sin(t)],[0,sin(t),cos(t)]])"
   ]
  },
  {
   "cell_type": "code",
   "execution_count": 82,
   "metadata": {},
   "outputs": [
    {
     "data": {
      "image/png": "[encoded data removed]",
      "text/latex": [
       "$$\\left ( \\left[\\begin{matrix}1 & 0 & 0\\\\0 & \\cos{\\left (\\theta \\right )} & - \\sin{\\left (\\theta \\right )}\\\\0 & \\sin{\\left (\\theta \\right )} & \\cos{\\left (\\theta \\right )}\\end{matrix}\\right], \\quad \\left[\\begin{matrix}1 & 0 & 0\\\\0 & 1 & 0\\\\0 & 0 & 1\\end{matrix}\\right], \\quad \\left[\\begin{matrix}1 & 0 & 0\\\\0 & 1 & 0\\\\0 & 0 & 1\\end{matrix}\\right], \\quad 1\\right )$$"
      ],
      "text/plain": [
       "⎛⎡1    0        0   ⎤  ⎡1  0  0⎤  ⎡1  0  0⎤   ⎞\n",
       "⎜⎢                  ⎥  ⎢       ⎥  ⎢       ⎥   ⎟\n",
       "⎜⎢0  cos(θ)  -sin(θ)⎥, ⎢0  1  0⎥, ⎢0  1  0⎥, 1⎟\n",
       "⎜⎢                  ⎥  ⎢       ⎥  ⎢       ⎥   ⎟\n",
       "⎝⎣0  sin(θ)  cos(θ) ⎦  ⎣0  0  1⎦  ⎣0  0  1⎦   ⎠"
      ]
     },
     "execution_count": 82,
     "metadata": {},
     "output_type": "execute_result"
    }
   ],
   "source": [
    "Rx(t), simplify(Rx(t)*Rx(t).T), simplify(Rx(t).T*Rx(t)),simplify(det(Rx(t)))"
   ]
  },
  {
   "cell_type": "markdown",
   "metadata": {},
   "source": [
    "__Exercício:__ Obtenha as três matrizes de rotação correpondentes a partir do ponto de vista ativo."
   ]
  },
  {
   "cell_type": "markdown",
   "metadata": {},
   "source": [
    "## Rotações de Euler\n",
    "Vimos que qualquer elemento de $U(n)$ pode ser decomposto em termos de elementos de $U(2)$. O mesmo vale para $SO(n)$ e $SO(2)$. A decomposição via rotações de Euler é frequentemente usada. Nessa decomposição, fazemos:\n",
    "* Uma rotação por um ângulo $\\phi$ em torno do eixo $z$, que será implementada através da matriz de rotação $R_{z}(\\phi)$.\n",
    "* Uma rotação por um ângulo $\\theta\\in[0,\\pi]$ em torno de $x'$, que é implementada por $R_{x'}(\\theta)$.\n",
    "* Uma rotação por um ângulo $\\psi$ em torno do eixo $z'$, que implementamos usando $R_{z'}(\\psi)$.\n",
    "Essa sequência está exemplificada na figura abaixo.\n",
    "<img src=\"euler.png\" width=\"500\">\n",
    "\n",
    "A matriz de rotação obtida via essa composição está mostrada abaixo."
   ]
  },
  {
   "cell_type": "code",
   "execution_count": 94,
   "metadata": {},
   "outputs": [
    {
     "data": {
      "image/png": "[encoded data removed]",
      "text/latex": [
       "$$\\left[\\begin{matrix}- \\sin{\\left (\\phi \\right )} \\sin{\\left (\\psi \\right )} \\cos{\\left (\\theta \\right )} + \\cos{\\left (\\phi \\right )} \\cos{\\left (\\psi \\right )} & - \\sin{\\left (\\phi \\right )} \\cos{\\left (\\psi \\right )} - \\sin{\\left (\\psi \\right )} \\cos{\\left (\\phi \\right )} \\cos{\\left (\\theta \\right )} & \\sin{\\left (\\psi \\right )} \\sin{\\left (\\theta \\right )}\\\\\\sin{\\left (\\phi \\right )} \\cos{\\left (\\psi \\right )} \\cos{\\left (\\theta \\right )} + \\sin{\\left (\\psi \\right )} \\cos{\\left (\\phi \\right )} & - \\sin{\\left (\\phi \\right )} \\sin{\\left (\\psi \\right )} + \\cos{\\left (\\phi \\right )} \\cos{\\left (\\psi \\right )} \\cos{\\left (\\theta \\right )} & - \\sin{\\left (\\theta \\right )} \\cos{\\left (\\psi \\right )}\\\\\\sin{\\left (\\phi \\right )} \\sin{\\left (\\theta \\right )} & \\sin{\\left (\\theta \\right )} \\cos{\\left (\\phi \\right )} & \\cos{\\left (\\theta \\right )}\\end{matrix}\\right]$$"
      ],
      "text/plain": [
       "⎡-sin(φ)⋅sin(ψ)⋅cos(θ) + cos(φ)⋅cos(ψ)  -sin(φ)⋅cos(ψ) - sin(ψ)⋅cos(φ)⋅cos(θ) \n",
       "⎢                                                                             \n",
       "⎢sin(φ)⋅cos(ψ)⋅cos(θ) + sin(ψ)⋅cos(φ)   -sin(φ)⋅sin(ψ) + cos(φ)⋅cos(ψ)⋅cos(θ) \n",
       "⎢                                                                             \n",
       "⎣            sin(φ)⋅sin(θ)                          sin(θ)⋅cos(φ)             \n",
       "\n",
       " sin(ψ)⋅sin(θ) ⎤\n",
       "               ⎥\n",
       " -sin(θ)⋅cos(ψ)⎥\n",
       "               ⎥\n",
       "     cos(θ)    ⎦"
      ]
     },
     "execution_count": 94,
     "metadata": {},
     "output_type": "execute_result"
    }
   ],
   "source": [
    "f, p = symbols(\"phi psi\")\n",
    "Re = Rz(p)*Rx(t)*Rz(f)\n",
    "simplify(Re)"
   ]
  },
  {
   "cell_type": "markdown",
   "metadata": {},
   "source": [
    "__Exercício:__ Dada uma matriz qualquer $A\\in SO(3)$, escreva os ângulos $\\phi,\\theta,\\psi$ em termos dos elementos de matriz de $A$."
   ]
  },
  {
   "cell_type": "code",
   "execution_count": 95,
   "metadata": {},
   "outputs": [],
   "source": [
    "def euler_angles(A): # \n",
    "    theta = asin(A[2,2])\n",
    "    # a fazer\n",
    "    return 0"
   ]
  },
  {
   "cell_type": "markdown",
   "metadata": {},
   "source": [
    "### Por que $SO(n)$ é utilizado para descrever rotações \"Físicas\"\n",
    "Notemos que $-\\mathbb{I}_{n}\\in O(n)$ pois $(-\\mathbb{I}_{n})(-\\mathbb{I}_{n})^{T}=(-\\mathbb{I}_{n})^{T}(-\\mathbb{I}_{n})=\\mathbb{I}_{n}$ e $\\det(-\\mathbb{I}_{n})=-1$ se $n$ é ímpar. Mas $-\\mathbb{I}_{n}\\begin{bmatrix}\\hat{e}_{1}\\\\\\vdots\\\\\\hat{e}_{n}\\end{bmatrix}=\\begin{bmatrix}-\\hat{e}_{1}\\\\\\vdots\\\\-\\hat{e}_{n}\\end{bmatrix}$. Ou seja, $-\\mathbb{I}_{n}$ é um operador de inversão espacial. Agora, para $n=3$, o produto vetorial \n",
    "\\begin{equation}\n",
    "\\hat{e}_{j}\\mathrm{x}\\hat{e}_{k}=\\epsilon_{jkl}\\hat{e}_{l},\n",
    "\\end{equation}\n",
    "o que caracteriza um _sistema de coordenadas destrógiro_ (SCD).\n",
    "\n",
    "Já para os versores depois da inversão espacial, teremos\n",
    "\\begin{equation}\n",
    "(-\\hat{e}_{j})\\mathrm{x}(-\\hat{e}_{k})=-\\epsilon_{jkl}(-\\hat{e}_{l}),\n",
    "\\end{equation}\n",
    "o que caracteriza um _sistema de coordenadas levógiro_. Então, uma maneira de evitar sair do SDC por rotações é usar matrizes com $\\det = 1$, as matrizes de $SO(n)$."
   ]
  },
  {
   "cell_type": "markdown",
   "metadata": {},
   "source": [
    "# Correspondência homomórfica 2 pra 1 entre $SU(2)$ e $SO(3)$ \n",
    "Qualquer matriz complexa $2\\mathrm{x}2$, Hermitiana e de traço nulo pode ser escrita em termos das matrizes de Pauli:\n",
    "\\begin{equation}\n",
    "A=\\begin{bmatrix} z & x-iy \\\\ x+iy & -z \\end{bmatrix} = x\\sigma_{x}+y\\sigma_{y}+z\\sigma_{z}.\n",
    "\\end{equation}\n",
    "Considera $U\\in U(2)$ e faz a transformação de similaridade: $A' = UAU^{\\dagger}$. Como $A'^{\\dagger}=(UAU^{\\dagger})^{\\dagger}=UA^{\\dagger}U^{\\dagger}=UAU^{\\dagger}=A'$ e $Tr(A')=Tr(UA^{\\dagger}U^{\\dagger})=Tr(A)=0$, podemos escrever\n",
    "\\begin{equation}\n",
    "A'=\\begin{bmatrix} z' & x'-iy' \\\\ x'+iy' & -z' \\end{bmatrix} = x'\\sigma_{x}+y'\\sigma_{y}+z'\\sigma_{z}.\n",
    "\\end{equation}\n",
    "Como $\\det(A')=\\det(UAU^{\\dagger})=\\det(A)$, temos uma indicação da correspondência entre $U(2)$ e $O(3)$ por\n",
    "\\begin{align}\n",
    "& \\det(A)=-z^{2}-(x-iy)(x+iy) = -z^{2}-x^{2}-y^{2}=-r^{2}, \\\\\n",
    "& \\det(A')=-z'^{2}-(x'-iy')(x'+iy') = -z'^{2}-x'^{2}-y'^{2}=-r'^{2}.\n",
    "\\end{align}"
   ]
  },
  {
   "cell_type": "markdown",
   "metadata": {},
   "source": [
    "__Exercício:__ Verifique que se $U\\in U(2)$ podemos escrever\n",
    "\\begin{equation}\n",
    "U=\\begin{bmatrix} e^{i\\xi}\\cos\\eta & e^{i\\zeta}\\sin\\eta  \\\\ -e^{-i\\zeta}\\sin\\eta & e^{-i\\xi}\\cos\\eta \\end{bmatrix}=:U(\\xi,\\eta,\\zeta),\n",
    "\\end{equation}\n",
    "com $\\zeta,\\xi,\\eta\\in\\mathbb{R}$.\n",
    "\n",
    "Continuando, vamos considerar $U(\\xi,\\eta=0,\\zeta)=\\begin{bmatrix} e^{i\\xi} & 0  \\\\ 0 & e^{-i\\xi} \\end{bmatrix}=:U_{3}=U_{3}(\\xi)$."
   ]
  },
  {
   "cell_type": "code",
   "execution_count": 89,
   "metadata": {},
   "outputs": [
    {
     "data": {
      "image/png": "[encoded data removed]",
      "text/latex": [
       "$$\\left ( \\left[\\begin{matrix}z & x - 1.0 i y\\\\x + 1.0 i y & - z\\end{matrix}\\right], \\quad \\left[\\begin{matrix}e^{1.0 i \\xi} & 0\\\\0 & e^{- 1.0 i \\xi}\\end{matrix}\\right], \\quad \\left[\\begin{matrix}z & \\left(x - 1.0 i y\\right) e^{2.0 i \\xi}\\\\\\left(x + 1.0 i y\\right) e^{- 2.0 i \\xi} & - z\\end{matrix}\\right]\\right )$$"
      ],
      "text/plain": [
       "⎛                            ⎡ 1.0⋅ⅈ⋅ξ           ⎤  ⎡                         \n",
       "⎜⎡     z       x - 1.0⋅ⅈ⋅y⎤  ⎢ℯ             0    ⎥  ⎢           z             \n",
       "⎜⎢                        ⎥, ⎢                   ⎥, ⎢                         \n",
       "⎜⎣x + 1.0⋅ⅈ⋅y      -z     ⎦  ⎢           -1.0⋅ⅈ⋅ξ⎥  ⎢               -2.0⋅ⅈ⋅ξ  \n",
       "⎝                            ⎣   0      ℯ        ⎦  ⎣(x + 1.0⋅ⅈ⋅y)⋅ℯ          \n",
       "\n",
       "               2.0⋅ⅈ⋅ξ⎤⎞\n",
       "(x - 1.0⋅ⅈ⋅y)⋅ℯ       ⎥⎟\n",
       "                      ⎥⎟\n",
       "                      ⎥⎟\n",
       "          -z          ⎦⎠"
      ]
     },
     "execution_count": 89,
     "metadata": {},
     "output_type": "execute_result"
    }
   ],
   "source": [
    "c, e, z = symbols(\"xi eta zeta\",real=True)\n",
    "U3 = Matrix([[exp(1j*c),0],[0,exp(-1j*c)]])\n",
    "x, y, z = symbols(\"x y z\")\n",
    "A = Matrix([[z,x-1j*y],[x+1j*y,-z]])\n",
    "A, U3, U3*A*Dagger(U3) # = A'"
   ]
  },
  {
   "cell_type": "markdown",
   "metadata": {},
   "source": [
    "Ou seja\n",
    "\\begin{align}\n",
    "A'&=U_{3}AU_{3}^{\\dagger} \\\\ \n",
    "& = (x\\cos(2\\xi)+y\\sin(2\\xi))\\sigma_{x} + (-x\\sin(2\\xi)+y\\cos(2\\xi))\\sigma_{y} + z\\sigma_{z} \\\\\n",
    "& = x'\\sigma_{x} + y'\\sigma_{y} + z'\\sigma_{z}.\n",
    "\\end{align}\n",
    "\n",
    "Essa mesma relação é obtida usando\n",
    "\\begin{equation}\n",
    "\\vec{r'} = \\begin{bmatrix}x'\\\\y'\\\\z'\\end{bmatrix} = R_{z}(-2\\xi)\\vec{r} = \\begin{bmatrix}\\cos(2\\xi) & \\sin(2\\xi) & 0 \\\\ -\\sin(2\\xi) & \\cos(2\\xi) & 0 \\\\ 0 &  0 & 1\\end{bmatrix}\\begin{bmatrix}x\\\\y\\\\z\\end{bmatrix}.\n",
    "\\end{equation}\n",
    "Portanto $U_{3}\\in U(2)$ é equivalente a $R_{z}\\in O_{3}$.<br>\n",
    "_OBS:_ Aqui a matriz de rotação $R_{z}$ é aquela obtida girando o referancial.\n",
    "\n",
    "Seguindo, consideremos $U(\\xi=0,\\eta,\\zeta=0)=\\begin{bmatrix}\\cos\\eta & \\sin\\eta \\\\ -\\sin\\eta & \\cos\\eta \\end{bmatrix}=:U_{2}$."
   ]
  },
  {
   "cell_type": "code",
   "execution_count": 87,
   "metadata": {},
   "outputs": [
    {
     "data": {
      "image/png": "[encoded data removed]",
      "text/latex": [
       "$$\\left ( \\left[\\begin{matrix}\\cos{\\left (\\eta \\right )} & \\sin{\\left (\\eta \\right )}\\\\- \\sin{\\left (\\eta \\right )} & \\cos{\\left (\\eta \\right )}\\end{matrix}\\right], \\quad \\left[\\begin{matrix}x \\sin{\\left (2 \\eta \\right )} + z \\cos{\\left (2 \\eta \\right )} & 1.0 x \\cos{\\left (2 \\eta \\right )} - 1.0 i y - 1.0 z \\sin{\\left (2 \\eta \\right )}\\\\1.0 x \\cos{\\left (2 \\eta \\right )} + 1.0 i y - 1.0 z \\sin{\\left (2 \\eta \\right )} & - x \\sin{\\left (2 \\eta \\right )} - z \\cos{\\left (2 \\eta \\right )}\\end{matrix}\\right]\\right )$$"
      ],
      "text/plain": [
       "⎛⎡cos(η)   sin(η)⎤  ⎡         x⋅sin(2⋅η) + z⋅cos(2⋅η)           1.0⋅x⋅cos(2⋅η)\n",
       "⎜⎢               ⎥, ⎢                                                         \n",
       "⎝⎣-sin(η)  cos(η)⎦  ⎣1.0⋅x⋅cos(2⋅η) + 1.0⋅ⅈ⋅y - 1.0⋅z⋅sin(2⋅η)          -x⋅sin\n",
       "\n",
       " - 1.0⋅ⅈ⋅y - 1.0⋅z⋅sin(2⋅η)⎤⎞\n",
       "                           ⎥⎟\n",
       "(2⋅η) - z⋅cos(2⋅η)         ⎦⎠"
      ]
     },
     "execution_count": 87,
     "metadata": {},
     "output_type": "execute_result"
    }
   ],
   "source": [
    "U2 = Matrix([[cos(e),sin(e)],[-sin(e),cos(e)]])\n",
    "U2, simplify(U2*A*Dagger(U2)) # = A'"
   ]
  },
  {
   "cell_type": "markdown",
   "metadata": {},
   "source": [
    "Por conseguinte\n",
    "\\begin{align}\n",
    "A'&=U_{2}AU_{2}^{\\dagger} \\\\ \n",
    "& = (x\\cos(2\\eta)-z\\sin(2\\eta))\\sigma_{x} + y\\sigma_{y} + (x\\sin(2\\eta)+z\\cos(2\\eta))\\sigma_{z} \\\\\n",
    "& = x'\\sigma_{x} + y'\\sigma_{y} + z'\\sigma_{z}.\n",
    "\\end{align}\n",
    "Essa transformação entre $\\vec{r'}$ e $\\vec{r}$ é a mesma dada pela matriz de rotação:\n",
    "\\begin{equation}\n",
    "R_{y}(-2\\eta) = \\begin{bmatrix}\\cos(2\\eta) & 0 & -\\sin(2\\eta) \\\\ 0 & 1 & 0 \\\\ \\sin(2\\eta) & 0 & \\cos(2\\eta)\\end{bmatrix}.\n",
    "\\end{equation}\n",
    "Ou seja, $U_{2}\\in U(2)$ é equivalente a $R_{y}\\in O_{3}$."
   ]
  },
  {
   "cell_type": "markdown",
   "metadata": {},
   "source": [
    "Por fim, consideremos $U(\\xi=0,\\eta,\\zeta=\\pi/2)=\\begin{bmatrix} \\cos\\eta & i\\sin\\eta \\\\ i\\sin\\eta & \\cos\\eta\\end{bmatrix}=: U_{1}$."
   ]
  },
  {
   "cell_type": "code",
   "execution_count": 88,
   "metadata": {},
   "outputs": [
    {
     "data": {
      "image/png": "[encoded data removed]",
      "text/latex": [
       "$$\\left ( \\left[\\begin{matrix}\\cos{\\left (\\eta \\right )} & 1.0 i \\sin{\\left (\\eta \\right )}\\\\1.0 i \\sin{\\left (\\eta \\right )} & \\cos{\\left (\\eta \\right )}\\end{matrix}\\right], \\quad \\left[\\begin{matrix}- 1.0 y \\sin{\\left (2 \\eta \\right )} + 1.0 z \\cos{\\left (2 \\eta \\right )} & 1.0 x - 1.0 i y \\cos{\\left (2 \\eta \\right )} - 1.0 i z \\sin{\\left (2 \\eta \\right )}\\\\1.0 x + 1.0 i y \\cos{\\left (2 \\eta \\right )} + 1.0 i z \\sin{\\left (2 \\eta \\right )} & 1.0 y \\sin{\\left (2 \\eta \\right )} - 1.0 z \\cos{\\left (2 \\eta \\right )}\\end{matrix}\\right]\\right )$$"
      ],
      "text/plain": [
       "⎛⎡   cos(η)     1.0⋅ⅈ⋅sin(η)⎤  ⎡     -1.0⋅y⋅sin(2⋅η) + 1.0⋅z⋅cos(2⋅η)        1\n",
       "⎜⎢                          ⎥, ⎢                                              \n",
       "⎝⎣1.0⋅ⅈ⋅sin(η)     cos(η)   ⎦  ⎣1.0⋅x + 1.0⋅ⅈ⋅y⋅cos(2⋅η) + 1.0⋅ⅈ⋅z⋅sin(2⋅η)   \n",
       "\n",
       ".0⋅x - 1.0⋅ⅈ⋅y⋅cos(2⋅η) - 1.0⋅ⅈ⋅z⋅sin(2⋅η)⎤⎞\n",
       "                                          ⎥⎟\n",
       "     1.0⋅y⋅sin(2⋅η) - 1.0⋅z⋅cos(2⋅η)      ⎦⎠"
      ]
     },
     "execution_count": 88,
     "metadata": {},
     "output_type": "execute_result"
    }
   ],
   "source": [
    "U1 = Matrix([[cos(e),1j*sin(e)],[1j*sin(e),cos(e)]])\n",
    "U1, simplify(U1*A*Dagger(U1)) # = A'"
   ]
  },
  {
   "cell_type": "markdown",
   "metadata": {},
   "source": [
    "Assim\n",
    "\\begin{align}\n",
    "A' & = U_{1}AU_{1}^{\\dagger} \\\\ \n",
    "& = x\\sigma_{x} + (y\\cos(2\\eta)+z\\sin(2\\eta))\\sigma_{y} + (-y\\sin(2\\eta)+z\\cos(2\\eta))\\sigma_{z} \\\\\n",
    "& = x'\\sigma_{x} + y'\\sigma_{y} + z'\\sigma_{z}.\n",
    "\\end{align}\n",
    "Essa transformação entre $\\vec{r'}$ e $\\vec{r}$ é a mesma dada pela matriz de rotação:\n",
    "\\begin{equation}\n",
    "R_{x}(-2\\eta) = \\begin{bmatrix} 1 & 0 & 0 \\\\ 0 & \\cos(2\\eta) & \\sin(2\\eta) \\\\ 0 & -\\sin(2\\eta) & \\cos(2\\eta) \\end{bmatrix}.\n",
    "\\end{equation}\n",
    "Ou seja, $U_{1}\\in U(2)$ é equivalente a $R_{x}\\in O_{3}$."
   ]
  },
  {
   "cell_type": "markdown",
   "metadata": {},
   "source": [
    "Agora analisamos o homomorfismo. Usamos $U_{3}$ e $R_{z}$. Para $n\\in\\mathbb{Z}$, temos que\n",
    "\\begin{align}\n",
    "& \\cos(2\\xi+n2\\pi)=\\cos(2\\xi)\\cos(n2\\pi)-\\sin(2\\xi)\\sin(n2\\pi)=\\cos(2\\xi), \\\\\n",
    "& \\sin(2\\xi+n2\\pi)=\\sin(2\\xi)\\cos(n2\\pi)+\\cos(2\\xi)\\sin(n2\\pi)=\\sin(2\\xi), \\\\\n",
    "& \\cos((2\\xi+n2\\pi)/2)=\\cos(\\xi)\\cos(n\\pi)-\\sin(\\xi)\\sin(n\\pi)=(-1)^{n}\\cos(\\xi), \\\\\n",
    "& \\sin((2\\xi+n2\\pi)/2)=\\sin(\\xi)\\cos(n\\pi)+\\cos(\\xi)\\sin(n\\pi)=(-1)^{n}\\sin(\\xi).\n",
    "\\end{align}\n",
    "Com isso vemos que $R_{z}(2\\xi+n2\\pi)=R_{z}(2\\xi)$ e que $U_{3}((2\\xi+n2\\pi)/2)=(-1)^{n}U_{3}(\\xi)$. Vemos assim que um mesmo elemento de $O(3)$ é mapeado em dois elementos de $U(2)$ ($\\pm U_{3}$). Portanto a correspondência $U_{2}\\mapsto O_{3}$ é homomórfica 2 pra 1."
   ]
  },
  {
   "cell_type": "markdown",
   "metadata": {},
   "source": [
    "# Grupo simplético\n",
    "Matrizes simpléticas são matrizes $A$ de dimensão $2n\\mathrm{x}2n$ com determinante diferente de zero que satisfazem a igualdade\n",
    "\\begin{equation}\n",
    "A^{T}\\Omega A=\\Omega \\text{ para } \\Omega=\\begin{bmatrix} \\mathbb{O}_{n} & \\mathbb{I}_{n} \\\\ -\\mathbb{I}_{n} & \\mathbb{O}_{n} \\end{bmatrix}.\n",
    "\\end{equation}\n",
    "Se $A$ e $B$ são matrizes simpléticas, então\n",
    "\\begin{equation}\n",
    "(AB)^{T}\\Omega AB=B^{T}A^{T}\\Omega AB=B^{T}\\Omega B=\\Omega.\n",
    "\\end{equation}\n",
    "Por conseguinte, matrizes simpléticas formam um grupo sob multiplicação matricial chamado de grupo simplético e denotado por $Sp(2n,\\mathbb{F})$, com $\\mathbb{F}$ sendo o campo escalar sobre o qual as matrizes simpléticas estão definidas.\n",
    "\n",
    "Alguns exemplos são:\n",
    "\\begin{equation}\n",
    "\\begin{bmatrix} 1&1\\\\0&1 \\end{bmatrix}\\in Sp(2,\\mathbb{R})\n",
    " \\text{, }  \\begin{bmatrix} \\cosh\\theta & \\sinh\\theta & 0 & \\sinh\\theta \\\\ \\sinh\\theta & \\cosh\\theta & \\sinh\\theta & 0 \\\\ 0 & 0 & \\cosh\\theta & -\\sinh\\theta \\\\ 0 & 0 & -\\sinh\\theta & \\cosh\\theta \\end{bmatrix}\\in Sp(4,\\mathbb{R}).\n",
    "\\end{equation}"
   ]
  },
  {
   "cell_type": "code",
   "execution_count": 29,
   "metadata": {},
   "outputs": [],
   "source": [
    "def Omeg(n): # retorna a matriz Omega definida acima\n",
    "    O = zeros(2*n,2*n)\n",
    "    O[0:n,n:2*n] = id(n) \n",
    "    O[n:2*n,0:n] = -id(n)\n",
    "    return O"
   ]
  },
  {
   "cell_type": "code",
   "execution_count": 90,
   "metadata": {},
   "outputs": [
    {
     "data": {
      "image/png": "[encoded data removed]",
      "text/latex": [
       "$$\\left ( \\left[\\begin{matrix}0 & 1\\\\-1 & 0\\end{matrix}\\right], \\quad \\left[\\begin{matrix}1 & 1\\\\0 & 1\\end{matrix}\\right], \\quad \\left[\\begin{matrix}0 & 1\\\\-1 & 0\\end{matrix}\\right]\\right )$$"
      ],
      "text/plain": [
       "⎛⎡0   1⎤  ⎡1  1⎤  ⎡0   1⎤⎞\n",
       "⎜⎢     ⎥, ⎢    ⎥, ⎢     ⎥⎟\n",
       "⎝⎣-1  0⎦  ⎣0  1⎦  ⎣-1  0⎦⎠"
      ]
     },
     "execution_count": 90,
     "metadata": {},
     "output_type": "execute_result"
    }
   ],
   "source": [
    "A1 = Matrix([[1,1],[0,1]])\n",
    "Omeg(1), A1, A1.T*Omeg(1)*A1"
   ]
  },
  {
   "cell_type": "code",
   "execution_count": 91,
   "metadata": {},
   "outputs": [
    {
     "data": {
      "image/png": "[encoded data removed]",
      "text/latex": [
       "$$\\left ( \\left[\\begin{matrix}0 & 0 & 1 & 0\\\\0 & 0 & 0 & 1\\\\-1 & 0 & 0 & 0\\\\0 & -1 & 0 & 0\\end{matrix}\\right], \\quad \\left[\\begin{matrix}\\cosh{\\left (\\theta \\right )} & \\sinh{\\left (\\theta \\right )} & 0 & \\sinh{\\left (\\theta \\right )}\\\\\\sinh{\\left (\\theta \\right )} & \\cosh{\\left (\\theta \\right )} & \\sinh{\\left (\\theta \\right )} & 0\\\\0 & 0 & \\cosh{\\left (\\theta \\right )} & - \\sinh{\\left (\\theta \\right )}\\\\0 & 0 & - \\sinh{\\left (\\theta \\right )} & \\cosh{\\left (\\theta \\right )}\\end{matrix}\\right], \\quad \\left[\\begin{matrix}0 & 0 & 1 & 0\\\\0 & 0 & 0 & 1\\\\-1 & 0 & 0 & 0\\\\0 & -1 & 0 & 0\\end{matrix}\\right]\\right )$$"
      ],
      "text/plain": [
       "⎛⎡0   0   1  0⎤  ⎡cosh(θ)  sinh(θ)     0      sinh(θ) ⎤  ⎡0   0   1  0⎤⎞\n",
       "⎜⎢            ⎥  ⎢                                    ⎥  ⎢            ⎥⎟\n",
       "⎜⎢0   0   0  1⎥  ⎢sinh(θ)  cosh(θ)  sinh(θ)      0    ⎥  ⎢0   0   0  1⎥⎟\n",
       "⎜⎢            ⎥, ⎢                                    ⎥, ⎢            ⎥⎟\n",
       "⎜⎢-1  0   0  0⎥  ⎢   0        0     cosh(θ)   -sinh(θ)⎥  ⎢-1  0   0  0⎥⎟\n",
       "⎜⎢            ⎥  ⎢                                    ⎥  ⎢            ⎥⎟\n",
       "⎝⎣0   -1  0  0⎦  ⎣   0        0     -sinh(θ)  cosh(θ) ⎦  ⎣0   -1  0  0⎦⎠"
      ]
     },
     "execution_count": 91,
     "metadata": {},
     "output_type": "execute_result"
    }
   ],
   "source": [
    "t = symbols(\"theta\")\n",
    "A2 = Matrix([[cosh(t),sinh(t),0,sinh(t)],[sinh(t),cosh(t),sinh(t),0],[0,0,cosh(t),-sinh(t)],[0,0,-sinh(t),cosh(t)]])\n",
    "\n",
    "Omeg(2), A2, simplify(A2.T*Omeg(2)*A2)"
   ]
  },
  {
   "cell_type": "code",
   "execution_count": null,
   "metadata": {},
   "outputs": [],
   "source": []
  }
 ],
 "metadata": {
  "kernelspec": {
   "display_name": "Python 3",
   "language": "python",
   "name": "python3"
  },
  "language_info": {
   "codemirror_mode": {
    "name": "ipython",
    "version": 3
   },
   "file_extension": ".py",
   "mimetype": "text/x-python",
   "name": "python",
   "nbconvert_exporter": "python",
   "pygments_lexer": "ipython3",
   "version": "3.6.4"
  }
 },
 "nbformat": 4,
 "nbformat_minor": 2
}
