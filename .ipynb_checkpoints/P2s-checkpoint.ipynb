{
 "cells": [
  {
   "cell_type": "markdown",
   "metadata": {},
   "source": [
    "### Universidade Federal de Santa Maria, Departamento de Física <br> FSC 1044 - Física Matemática II, Prof. Jonas Maziero <br> Semestre 2018/2, Data: 06 de dezembro de 2018 \n",
    "\n",
    "# Prova II"
   ]
  },
  {
   "cell_type": "markdown",
   "metadata": {},
   "source": [
    "$1.$ Prove o teorema do rearranjamento usando composição pela direita, i.e., mostre que para um grupo $(G,*)$, com $G=\\{g_{1},\\cdots,g_{|G|}\\}$ e $g_{j}\\in G$, teremos que\n",
    "\\begin{equation}\n",
    "G*g_{j}:=\\{g_{1}*g_{j},\\cdots,g_{|G|}*g_{j}\\}\\equiv G.\n",
    "\\end{equation}"
   ]
  },
  {
   "cell_type": "markdown",
   "metadata": {},
   "source": [
    "_Sol._ Por definição de grupo, $g_{k}*g_{j}\\in G\\text{ }\\forall k,j$. O que nos falta é demonstrar que não há elementos repetidos no conjunto $G*g_{j}$. Faz-se isso por contradição. Consideremos que $g_{k}*g_{j}=g_{l}*g_{j}$ para $g_{k}\\ne g_{l}$. Como $g_{j}^{-1}\\in G$ fazemos\n",
    "\\begin{align}\n",
    "& (g_{k}*g_{j})*g_{j}^{-1}=(g_{l}*g_{j})*g_{j}^{-1} \\\\\n",
    "& \\therefore g_{k}*(g_{j}*g_{j}^{-1})=g_{l}*(g_{j}*g_{j}^{-1}) \\\\\n",
    "& \\therefore g_{k}*e=g_{l}*e \\\\\n",
    "& \\therefore g_{k}=g_{l},\n",
    "\\end{align}\n",
    "que contradiz o que assumimos de início. Portanto devemos ter $g_{k}*g_{j}\\ne g_{l}*g_{j}\\Rightarrow G*g_{j}\\equiv G$."
   ]
  },
  {
   "cell_type": "markdown",
   "metadata": {},
   "source": [
    "$2.$ Sejam $\\sigma_{1} = \\begin{bmatrix} 0 & 1 \\\\ 1&0\\end{bmatrix}\\text{, }\\sigma_{2} = \\begin{bmatrix} 0 & -i \\\\ i&0\\end{bmatrix}\\text{ e }\\sigma_{3} = \\begin{bmatrix} 1 & 0 \\\\ 0 & -1\\end{bmatrix}$ as matrizes de Pauli e $\\sigma_{0} = \\begin{bmatrix} 1 & 0 \\\\ 0 & 1\\end{bmatrix}$ a matriz identidade. Podemos verificar que o conjunto \n",
    "\\begin{equation}\n",
    "G_{p} = \\{ \\sigma_{0},-\\sigma_{0},i\\sigma_{0},-i\\sigma_{0}, \\sigma_{1},-\\sigma_{1},i\\sigma_{1},-i\\sigma_{1}, \\sigma_{2},-\\sigma_{2},i\\sigma_{2},-i\\sigma_{2}, \\sigma_{3},-\\sigma_{3},i\\sigma_{3},-i\\sigma_{3} \\}\n",
    "\\end{equation}\n",
    "forma um grupo (chamado de grupo de Pauli) sob a operação de multiplicação matricial. Quais são as possíveis ordens dos subgrupos de $G_{p}$? Forneça um exemplo de subgrupo de $G_{p}$, fazendo as verificações necessárias."
   ]
  },
  {
   "cell_type": "markdown",
   "metadata": {},
   "source": [
    "_Sol._ Com a ordem de um subgrupo deve dividir a ordem do grupo, os subgrupos $H$ de $G_{p}$ podem ter ordem 1,2,4,8 e 16.\n",
    "\n",
    "Usando a relação geral $\\sigma_{j}\\sigma_{k}=\\sigma_{0}\\delta_{jk}+i\\epsilon_{jkl}\\sigma_{l}$ podemos ver que para $H=\\{\\sigma_{0},\\sigma_{3}\\}$ é um subgrupo de $G_{p}$ pois temos fechamento $\\sigma_{0}\\sigma_{0}=\\sigma_{0},\\sigma_{0}\\sigma_{3}=\\sigma_{3},\\sigma_{3}\\sigma_{0}=\\sigma_{3},\\sigma_{3}\\sigma_{3}=\\sigma_{0}$, associatividade vem do produto matricial, o elemento identidade é $\\sigma_{0}$ e o elemento inverso de $\\sigma_{3}$ é $\\sigma_{3}$."
   ]
  },
  {
   "cell_type": "markdown",
   "metadata": {},
   "source": [
    "$3.$ Use os postulados da relatividade restrita para verificar que\n",
    "\\begin{equation}\n",
    "t=\\gamma\\left(t'-\\frac{1-\\gamma^{2}}{\\gamma^{2}V}x'\\right),\n",
    "\\end{equation}\n",
    "para um movimento relativo entre os dois referenciais inerciais somente na coordenada $x$."
   ]
  },
  {
   "cell_type": "markdown",
   "metadata": {},
   "source": [
    "_Sol._ Usando a correção relativísitica global para as transformações de Galilei temos $x'=\\gamma(x-Vt)$ e, pelo postulado da equivalência dos referenciais inerciais, teremos $x=\\gamma(x'+Vt')$. Se substitirmos $x$ na eq. para $x'$ obteremos\n",
    "\\begin{align}\n",
    "& x'=\\gamma(\\gamma(x'+Vt')-Vt) = \\gamma^{2}x'+\\gamma^{2}Vt'-\\gamma Vt\\\\\n",
    "& \\therefore \\gamma Vt=\\gamma^{2}Vt'-(1-\\gamma^{2})x'\\\\\n",
    "& \\therefore t=\\gamma(t'-((1-\\gamma^{2})/(\\gamma^{2}V))x').\n",
    "\\end{align}"
   ]
  },
  {
   "cell_type": "markdown",
   "metadata": {},
   "source": [
    "$4.$ Para o momento angular quântico $\\vec{L}=-i\\hbar\\vec{r}\\mathrm{x}\\vec{\\nabla}$ e $R_{1}(\\psi(\\vec{r}))=\\psi(\\vec{r}')$ com $\\vec{r}'=R_{1}\\vec{r}$, use $R_{1}(\\delta\\phi)\\approx\\mathbb{I}+i\\delta\\phi S_{1}$, para $\\delta\\phi\\ll 1$ e com $S_{1}= \\begin{bmatrix} 0&0&0 \\\\ 0&0&-i \\\\ 0&i&0 \\end{bmatrix}$, e expansão em série de Taylor para\n",
    "mostrar que $R_{1}(\\phi) = e^{-iL_{1}\\phi/\\hbar}$."
   ]
  },
  {
   "cell_type": "markdown",
   "metadata": {},
   "source": [
    "_Sol._ Temos que\n",
    "\\begin{equation}\n",
    "\\vec{r}' = R_{1}(\\delta\\phi)\\vec{r} = (\\mathbb{I}+i\\delta\\phi S_{1})\\vec{r} = \\begin{bmatrix} r_{1} \\\\ r_{2}+\\delta\\phi r_{3} \\\\ r_{3}-\\delta\\phi r_{2} \\end{bmatrix}.\n",
    "\\end{equation}\n",
    "Assim\n",
    "\\begin{align}\n",
    "R_{1}(\\delta\\phi)\\psi(r_{1},r_{2},r_{3}) & = \\psi(r_{1},r_{2}+\\delta\\phi r_{3},r_{3}-\\delta\\phi r_{2}) \\\\\n",
    "& \\approx \\psi(r_{1},r_{2},r_{3}) + \\delta\\phi r_{3}\\partial_{2}\\psi(r_{1},r_{2},r_{3}) - \\delta\\phi r_{2}\\partial_{3}\\psi(r_{1},r_{2},r_{3}).\n",
    "\\end{align}\n",
    "Como $-iL_{1}/\\hbar = r_{3}\\partial_{2}-r_{2}\\partial_{3}$, teremos\n",
    "\\begin{equation}\n",
    "R_{1}(\\delta\\phi)=\\mathbb{I}-i\\delta\\phi L_{1}/\\hbar \\approx e^{-i\\delta\\phi L_{1}/\\hbar}.\n",
    "\\end{equation}\n",
    "Agora compomos essa operação $N\\rightarrow\\infty$ vezes, com $\\phi=N\\delta\\phi$, para obter $R_{1}(\\phi)e^{-i\\phi L_{1}/\\hbar}$ (lembre que o produto de exponenciais de operadores que comutam é a exponencial da soma desses operadores)."
   ]
  },
  {
   "cell_type": "code",
   "execution_count": null,
   "metadata": {},
   "outputs": [],
   "source": []
  }
 ],
 "metadata": {
  "kernelspec": {
   "display_name": "Python 3",
   "language": "python",
   "name": "python3"
  },
  "language_info": {
   "codemirror_mode": {
    "name": "ipython",
    "version": 3
   },
   "file_extension": ".py",
   "mimetype": "text/x-python",
   "name": "python",
   "nbconvert_exporter": "python",
   "pygments_lexer": "ipython3",
   "version": "3.6.4"
  }
 },
 "nbformat": 4,
 "nbformat_minor": 2
}
