{
 "cells": [
  {
   "cell_type": "markdown",
   "metadata": {},
   "source": [
    "# Função sinal\n",
    "A função sinal, $sgn$, tem como domínio listas $j_{1},j_{2},\\cdots,j_{n}$ de números naturais e como imagem $-1,0,1$. Para uma lista com $n$ números, por definição temos\n",
    "\\begin{equation}\n",
    "sgn_{n}(1,2,\\cdots,n) := 1. \n",
    "\\end{equation}\n",
    "Se quaisquer pares índices são iguais, a função sinal é nula\n",
    "\\begin{equation}\n",
    "sgn_{n}(j_{1},j_{2},\\cdots,j_{n}) := 0 \\text{ se }j_{p}=j_{q}. \n",
    "\\end{equation}\n",
    "Se precisamos fazer um número par de trocas entre pares de índices de $j_{1},j_{2},\\cdots,j_{n}$ para obter $1,2,\\cdots,n$ então\n",
    "\\begin{equation}\n",
    "sgn_{n}(j_{1},j_{2},\\cdots,j_{n}) := +1 \\text{ (No. par de permutações) }. \n",
    "\\end{equation}\n",
    "Se precisamos fazer um número ímpar de trocas entre pares de índices de $j_{1},j_{2},\\cdots,j_{n}$ para obter $1,2,\\cdots,n$ então\n",
    "\\begin{equation}\n",
    "sgn_{n}(j_{1},j_{2},\\cdots,j_{n}) := -1 \\text{ (No. ímpar de permutações) }. \n",
    "\\end{equation}\n",
    "Outra propriedade que define a função sinal é\n",
    "\\begin{equation}\n",
    "sgn_{n}(\\cdots,j_{p-1},j_{p},j_{p+1},\\cdots) := (-1)^{n-p}sgn_{n-1}(\\cdots,j_{p-1},j_{p+1},\\cdots) \n",
    "\\end{equation}\n",
    "e relaciona a função sinal aplicada a listas com $n$ e $n-1$ números. Note que $p$ é a posição onde sacamos o número da lista original."
   ]
  },
  {
   "cell_type": "markdown",
   "metadata": {},
   "source": [
    "#### Antisimetria da função sinal\n",
    "Em vistas das propriedades acima não é difícil notar que ao trocarmos dois índices quaisquer do argumento da função sinal torcamos o seu sinal, se esta não for nula, i.e.,\n",
    "\\begin{equation}\n",
    "sgn_{n}(\\cdots,j_{p},\\cdots,j_{q},\\cdots) = -sgn_{n}(\\cdots,j_{q},\\cdots,j_{p},\\cdots). \n",
    "\\end{equation}"
   ]
  },
  {
   "cell_type": "markdown",
   "metadata": {},
   "source": [
    "__Exercício:__\n",
    "Considere a função sinal $sgn_{3}$ e escreva seus valores aplicados a todas as possibilidades de trios $j_{1},j_{2},j_{3}$. Por fim diga a que função, que vocês usaram bastante no curso de física, $sgn_{3}$ coincide.\n",
    "\n",
    "__Exercício:__\n",
    "Escreva o produto vetorial usando $sgn_{3}$."
   ]
  },
  {
   "cell_type": "markdown",
   "metadata": {},
   "source": [
    "# Determinante\n",
    "Seja $A=(A_{j,k})$ uma matriz $n\\mathrm{x}n$. Aqui consideraremos como campo escalar $A_{j,k}\\in\\mathbb{C}$. Nesse caso o determinante da matriz $A$ é uma mapa $\\det:\\mathbb{C}^{n\\mathrm{x}n}\\rightarrow \\mathbb{C}$ definido por\n",
    "\\begin{equation}\n",
    "\\det(A) := \\sum_{(j_{1},j_{2},\\cdots,j_{n})}sgn(j_{1},j_{2},\\cdots,j_{n})A_{1,j_{1}}A_{2,j_{2}}\\cdots A_{n,j_{n}}.\n",
    "\\end{equation}\n",
    "Note que usamos as chamadas __permutações__ de $n$ índices, $(j_{1},j_{2},\\cdots,j_{n})$, que são sequências com os números _todos diferentes_. Isso porque se houver dois ou mais índices iguais, a função sinal é nula. Claro, se usarmos $\\sum_{j_{1},j_{2},\\cdots,j_{n}}$, o resultado final para o determinante será o mesmo. Outra observação relevante aqui é que o determinante é calculado considerando-se o produto de elementos de matriz de linhas e colunas diferentes, somando ou subtraindo esses produtos para todas as combinações de colunas com base no sinal na permutação correspondente. "
   ]
  },
  {
   "cell_type": "markdown",
   "metadata": {},
   "source": [
    "__Exemplo:__ Para um escalar, o determinante é o próprio escalar. Para uma matriz de dimensão $2$ teremos\n",
    "\\begin{align}\n",
    "\\det(A) & = \\sum_{(j_{1},j_{2})}sgn(j_{1},j_{2})A_{1j_{1}}A_{2j_{2}} \\\\\n",
    "& = sgn(1,2)A_{1,1}A_{2,2} + sgn(2,1)A_{1,2}A_{2,1} \\\\\n",
    "& = A_{1,1}A_{2,2} - A_{1,2}A_{2,1}.\n",
    "\\end{align}\n",
    "\n",
    "__Exercício:__ Escreva a expressão geral para o determinante de uma matriz de dimensão $3$."
   ]
  },
  {
   "cell_type": "markdown",
   "metadata": {},
   "source": [
    "## Propriedades do determinante\n",
    "Seja $k_{1},k_{2},\\cdots,k_{n}$ uma lista qualquer de números do conjunto $1,2,\\cdots,3$. Denotaremos\n",
    "\\begin{equation}\n",
    "A(k_{1},k_{2},\\cdots,k_{n})\n",
    "\\end{equation}\n",
    "para a matriz cuja $l$-ésima linha é a $k_{l}$-ésima linha da matriz $A$. <br>\n",
    "__Exemplo:__ Claro, $A(1,2,\\cdots,n)=A$. Um caso seria\n",
    "\\begin{equation}\n",
    "A(2,3,2) = \\begin{bmatrix} A_{2,1} & A_{2,2} & A_{2,3} \\\\ A_{3,1} & A_{3,2} & A_{3,3} \\\\ A_{2,1} & A_{2,2} & A_{2,3} \\end{bmatrix}.\n",
    "\\end{equation}\n",
    "__Exercício:__ Escreva a matriz $A(3,1,2,4)$.\n",
    "\n",
    "Para essas matrizes modificadas, notemos que, em relação a $A$, substituímos as linhas $1,2,\\cdots,n$ pelas $k_{1},k_{2},\\cdots,k_{n}$. Então o determinante fica\n",
    "\\begin{equation}\n",
    "\\det(A(k_{1},k_{2},\\cdots,k_{n})) := \\sum_{(j_{1},j_{2},\\cdots,j_{n})}sgn(j_{1},j_{2},\\cdots,j_{n})A_{k_{1},j_{1}}A_{k_{2},j_{2}}\\cdots A_{k_{n},j_{n}}.\n",
    "\\end{equation}"
   ]
  },
  {
   "cell_type": "markdown",
   "metadata": {},
   "source": [
    "### $\\det$ quando trocamos duas linhas = $-\\det$\n",
    "Podemos utilizar o determinante escrito como na última equação para verificar que ao trocarmos duas linhas de uma matriz, trocaremos o sinal do seu determinante:\n",
    "\\begin{align}\n",
    "\\det(A(\\cdots,k_{p},\\cdots,k_{q},\\cdots)) & =  \\sum_{(\\cdots,j_{p},\\cdots,j_{q},\\cdots)}sgn(\\cdots,j_{p},\\cdots,j_{q},\\cdots)\\cdots A_{k_{p},j_{p}}\\cdots A_{k_{q},j_{q}}\\cdots \\\\\n",
    "& =  \\sum_{(\\cdots,j_{p},\\cdots,j_{q},\\cdots)}sgn(\\cdots,j_{p},\\cdots,j_{q},\\cdots)\\cdots A_{k_{q},j_{q}}\\cdots A_{k_{p},j_{p}}\\cdots \\\\\n",
    "& =  \\sum_{(\\cdots,j_{p},\\cdots,j_{q},\\cdots)}-sgn(\\cdots,j_{q},\\cdots,j_{p},\\cdots)\\cdots A_{k_{q},j_{q}}\\cdots A_{k_{p},j_{p}}\\cdots \\\\\n",
    "& = -\\det(A(\\cdots,k_{q},\\cdots,k_{p},\\cdots)).\n",
    "\\end{align}\n",
    "__Exemplo:__ Considera $A(1,2)=A$ e $A(2,1)$. Temos que\n",
    "\\begin{align}\n",
    "\\det(A(2,1)) & = \\sum_{(j_{1},j_{2})}sgn(j_{1},j_{2})A_{k_{1},j_{1}}A_{k_{2},j_{2}} \\\\\n",
    "& = \\sum_{(j_{1},j_{2})}sgn(j_{1},j_{2})A_{2,j_{1}}A_{1,j_{2}} \\\\\n",
    "& = sgn(1,2)A_{2,1}A_{1,2} + sgn(2,1)A_{2,2}A_{1,1} \\\\\n",
    "& = A_{2,1}A_{1,2} - A_{2,2}A_{1,1} \\\\\n",
    "& = -\\det(A).\n",
    "\\end{align}\n",
    "__Exercício:__ Verifique que $\\det(A(2,1,3))=-\\det(A(1,2,3))$."
   ]
  },
  {
   "cell_type": "markdown",
   "metadata": {},
   "source": [
    "#### Consequências de $\\det(A(\\cdots,k_{p},\\cdots,k_{q},\\cdots))=-\\det(A(\\cdots,k_{q},\\cdots,k_{p},\\cdots))$\n",
    "1. Essa relação implica que\n",
    "\\begin{equation}\n",
    "\\det(A(k_{1},k_{2},\\cdots,k_{n})) = sgn(k_{1},k_{2},\\cdots,k_{n})\\det(A).\n",
    "\\end{equation}\n",
    "Para verificar essa afirmação, assuma que precisamos fazer $N$ permutações de pares índices para obter $1,2,\\cdots,n$ a partir de $k_{1},k_{2},\\cdots,k_{n}$. Lembre que trocas de pares de índices trocam o sinal da função sinal, i.e., \\begin{equation}\n",
    "sgn(k_{1},k_{2},\\cdots,k_{n})=(-1)^{N}sgn(1,2,\\cdots,n).\n",
    "\\end{equation}\n",
    "Como em cada uma dessas trocas, trocamos duas linhas da matriz correspondente, e assim trocamos o sinal do determinante, teremos também que\n",
    "\\begin{equation}\n",
    "\\det(A(k_{1},k_{2},\\cdots,k_{n})) = (-1)^{N}\\det(A(1,2,\\cdots,n)) = \\det(A),\n",
    "\\end{equation}\n",
    "com o sinal que estabelece a relação entre os determinantes dependendo somente se $N$ é par ou ímpar. Com isso fica verificada nossa afirmação inicial.<br>\n",
    "__Exercício:__ Verifique que $\\det(A(2,1)) = sgn(2,1)\\det(A)$.\n",
    "\n",
    "2. Outra consequência do resultado anterior é que o determinante de uma matriz com duas linhas iguais é igual a zero. Para isso considere que as linhas $k_{p}$ e $k_{q}$ da matriz $A$ são iguais. Assim\n",
    "\\begin{align}\n",
    "\\det(A(\\cdots,k_{p},\\cdots,k_{q},\\cdots)) & = \\det(A(\\cdots,k_{q},\\cdots,k_{p},\\cdots)) \\\\\n",
    "& = - \\det(A(\\cdots,k_{p},\\cdots,k_{q},\\cdots)),\n",
    "\\end{align}\n",
    "onde a primeira igualdade se deve ao fato das duas matrizes serem iguais e a segunda segue pela troca de linhas. Como para que $x=-x$ devemos ter $x=0$, está demonstrada nossa segunda afirmação.<br>\n",
    "__Exercício:__ Verifique que $\\det(A(2,2))=0$."
   ]
  },
  {
   "cell_type": "markdown",
   "metadata": {},
   "source": [
    "## Forma simétrica para o determinante\n",
    "Vamos verificar que o determinante de uma matriz $A$ pode ser escrito como\n",
    "\\begin{equation}\n",
    "\\det(A) = \\frac{1}{n!}\\sum_{(k_{1},k_{2},\\cdots,k_{n})}\\sum_{(j_{1},j_{2},\\cdots,j_{n})}sgn(k_{1},k_{2},\\cdots,k_{n})sgn(j_{1},j_{2},\\cdots,j_{n})A_{k_{1},j_{1}}A_{k_{2},j_{2}}\\cdots A_{k_{n},j_{n}}.\n",
    "\\end{equation}\n",
    "Começamos notando que para qualquer permutação $(k_{1},k_{2},\\cdots,k_{n})$ teremos\n",
    "\\begin{equation}\n",
    "sgn(k_{1},k_{2},\\cdots,k_{n})sgn(k_{1},k_{2},\\cdots,k_{n}) = 1.\n",
    "\\end{equation}\n",
    "Teremos assim que\n",
    "\\begin{equation}\n",
    "sgn(k_{1},k_{2},\\cdots,k_{n})\\det(A(k_{1},k_{2},\\cdots,k_{n})) = sgn(k_{1},k_{2},\\cdots,k_{n})sgn(k_{1},k_{2},\\cdots,k_{n})\\det(A) = \\det(A).\n",
    "\\end{equation}\n",
    "\n",
    "Seguindo, notamos que existem $n!$ permutações de $n$ símbolos. Um exemplo utilizado com frequência para chegar nesse resultado é aquele de arranjar $n$ bolinhas numeradas em $n$ caixas. Para a primeira caixar temos $n$ possibilidade para qual bolinha colocaremos aí. Um vez feita esta escolha, sobram $n-1$ possibilidades para a segunda caixa. Seguindo com essa ideia vemos que o número total de arranjos é $n(n-1)(n-2)\\cdots(2)(1)=n!$.\n",
    "\n",
    "Dito isto, reescrevemos a equação acima como\n",
    "\\begin{align}\n",
    "\\det(A) & = \\frac{1}{n!}\\sum_{i=1}^{n!}\\det(A) \\\\\n",
    "& = \\frac{1}{n!}\\sum_{(k_{1},k_{2},\\cdots,k_{n})}sgn(k_{1},k_{2},\\cdots,k_{n})\\det(A(k_{1},k_{2},\\cdots,k_{n})) \\\\\n",
    "& = \\frac{1}{n!}\\sum_{(k_{1},k_{2},\\cdots,k_{n})}sgn(k_{1},k_{2},\\cdots,k_{n})\\sum_{(j_{1},j_{2},\\cdots,j_{n})}sgn(j_{1},j_{2},\\cdots,j_{n})A_{k_{1},j_{1}}A_{k_{2},j_{2}}\\cdots A_{k_{n},j_{n}},\n",
    "\\end{align}\n",
    "como queríamos demonstrar.\n",
    "\n",
    "__Exercício:__ Usando a forma simétrica, escreva explicitamente o determinante de uma matriz de dimensão 2."
   ]
  },
  {
   "cell_type": "markdown",
   "metadata": {},
   "source": [
    "## Determinante da transposta\n",
    "A transposta de uma matriz $A=(A_{j,k})$ é denotada e definida por\n",
    "\\begin{equation}\n",
    "A^{T}=((A^{T})_{j,k}) := (A_{k,j}).\n",
    "\\end{equation}\n",
    "Ou seja, obtemos $A^{T}$ de $A$ trocando suas linhas por suas colunas. Vamos verificar o importante resultado de que o determinante da transposta de uma matriz qualquer é igual ao seu determinante:\n",
    "\\begin{equation}\n",
    "\\det(A^{T}) = \\det(A).\n",
    "\\end{equation}\n",
    "Para verificar esse resultado, usamos a forma simétrica do determinante\n",
    "\\begin{align}\n",
    "\\det(A^{T}) & = \\frac{1}{n!}\\sum_{(k_{1},k_{2},\\cdots,k_{n})}\\sum_{(j_{1},j_{2},\\cdots,j_{n})}sgn(k_{1},k_{2},\\cdots,k_{n})sgn(j_{1},j_{2},\\cdots,j_{n})(A^{T})_{k_{1},j_{1}}(A^{T})_{k_{2},j_{2}}\\cdots (A^{T})_{k_{n},j_{n}} \\\\\n",
    "& = \\frac{1}{n!}\\sum_{(k_{1},k_{2},\\cdots,k_{n})}\\sum_{(j_{1},j_{2},\\cdots,j_{n})}sgn(k_{1},k_{2},\\cdots,k_{n})sgn(j_{1},j_{2},\\cdots,j_{n})A_{j_{1},k_{1}}A_{j_{2},k_{2}}\\cdots A_{j_{n},k_{n}} \\\\\n",
    "& = \\frac{1}{n!}\\sum_{(j_{1},j_{2},\\cdots,j_{n})}\\sum_{(k_{1},k_{2},\\cdots,k_{n})}sgn(j_{1},j_{2},\\cdots,j_{n})sgn(k_{1},k_{2},\\cdots,k_{n})A_{j_{1},k_{1}}A_{j_{2},k_{2}}\\cdots A_{j_{n},k_{n}} \\\\\n",
    "& = \\det(A).\n",
    "\\end{align}\n",
    "\n",
    "__Exercício:__ Mostre que se duas ou mais colunas de uma matriz são iguais, então seu determinante é nulo."
   ]
  },
  {
   "cell_type": "markdown",
   "metadata": {},
   "source": [
    "## Autovalores da transposta\n",
    "Autovalores serão discutidos em mais profundidade mais adiante. Aqui basta saber que obtemos os autovalores $a$ de uma matriz $A$ resolvendo a equação característica\n",
    "\\begin{equation}\n",
    "\\det(A-a\\mathbb{I}_{n})=0,\n",
    "\\end{equation}\n",
    "em que $\\mathbb{I}_{n}=(\\delta_{j,k})$ é a matriz identidade $n\\mathrm{x}n$. Para a transposta da matrix $A$ teremos que resolver $\\det(A^{T}-\\alpha\\mathbb{I}_{n})=0$. Como a transposta da soma de matrizes é a soma das transpostas (__exercício__) e a transposta da matriz identidade é a própria, podemos escrever\n",
    "\\begin{equation}\n",
    "0=\\det(A^{T}-\\alpha\\mathbb{I}_{n})=\\det(A^{T}-\\alpha\\mathbb{I}_{n}^{T})=\\det((A-\\alpha\\mathbb{I}_{n})^{T})=\\det(A-\\alpha\\mathbb{I}_{n}),\n",
    "\\end{equation}\n",
    "o que implica que $\\alpha=a$, como queríamos demonstrar. Note que na última igualdade usamos o fato de que $\\det(X)=\\det(X^{T})$ pra qualquer matriz $X$."
   ]
  },
  {
   "cell_type": "code",
   "execution_count": null,
   "metadata": {},
   "outputs": [],
   "source": []
  }
 ],
 "metadata": {
  "kernelspec": {
   "display_name": "Python 3",
   "language": "python",
   "name": "python3"
  },
  "language_info": {
   "codemirror_mode": {
    "name": "ipython",
    "version": 3
   },
   "file_extension": ".py",
   "mimetype": "text/x-python",
   "name": "python",
   "nbconvert_exporter": "python",
   "pygments_lexer": "ipython3",
   "version": "3.6.4"
  }
 },
 "nbformat": 4,
 "nbformat_minor": 2
}
