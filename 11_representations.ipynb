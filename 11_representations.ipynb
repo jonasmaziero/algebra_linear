{
 "cells": [
  {
   "cell_type": "markdown",
   "metadata": {},
   "source": [
    "## Notas de aula: Teoria de Grupos, Autor: Jonas Maziero, Departamento de Física, UFSM"
   ]
  },
  {
   "cell_type": "code",
   "execution_count": 1,
   "metadata": {},
   "outputs": [],
   "source": [
    "%run /Users/jonasmaziero/Dropbox/GitHub/algebra_linear/init.ipynb"
   ]
  },
  {
   "cell_type": "markdown",
   "metadata": {},
   "source": [
    "# Representações lineares de um grupo\n",
    "A representação linear de um grupo $G$ é um homomorfismo entre este grupo e o grupo de operadores lineares inversíveis $A:\\mathcal{H}\\rightarrow\\mathcal{H}$. Como $A$ é isomórfico ao grupo de matrizes inversíveis que representam esses operadores lineares numa base $\\{|\\psi\\rangle\\}$, que denotaremos por $A^{\\psi}$, podemos nos referir a essas representações de forma indiferente:\n",
    "\\begin{equation}\n",
    "G\\mapsto A \\text{ ou } G\\mapsto A^{\\psi}.\n",
    "\\end{equation}\n",
    "\n",
    "## Equivalência entre representações\n",
    "Se operadores lineares das representações lineares $G\\mapsto A\\equiv\\{A_{j}\\}$ e $G\\mapsto B\\equiv\\{B_{j}\\}$, com $B:\\mathcal{H}\\rightarrow\\mathcal{H}$, são relacionados através de uma transformação de similaridade\n",
    "\\begin{equation}\n",
    "A_{j}=C*B_{j}*C^{-1},\n",
    "\\end{equation}\n",
    "onde $C:\\mathcal{H}\\rightarrow\\mathcal{H}$, dizemos que as duas representações são equivalentes. Nesse caso usamos a notação\n",
    "\\begin{equation}\n",
    "A\\simeq B.\n",
    "\\end{equation}\n",
    "Essa equivalência é vista olhando para as tabelas de composição:\n",
    "\\begin{align}\n",
    "A_{j}*A_{k} &= C*B_{j}*C^{-1}*C*B_{k}*C^{-1} = C*B_{j}*\\mathbb{I}*B_{k}*C^{-1} \\\\ \n",
    "& = C*B_{j}*B_{k}*C^{-1} = C*B_{l}*C^{-1} = A_{l}.\n",
    "\\end{align}"
   ]
  },
  {
   "cell_type": "markdown",
   "metadata": {},
   "source": [
    "## Caráter de uma representação\n",
    "Seja $G$ um grupo com representação linear $A$. O caráter $\\chi$ de um elemento $g\\in G$ com correspondência $g\\mapsto A_{j}$ é definido por\n",
    "\\begin{equation}\n",
    "\\chi(g) := Tr(A_{j}).\n",
    "\\end{equation}\n",
    "\n",
    "Para representações equivalentes, $Tr(A_{j})=Tr(C*B_{j}*C^{-1})$. Por conseguinte, o conjunto de caracteres dos elementos de um grupo é o mesmo para todas as suas representações equivalentes."
   ]
  },
  {
   "cell_type": "markdown",
   "metadata": {},
   "source": [
    "## Teorema (representações unitárias)\n",
    "Qualquer representação linear de um grupo finito, $G\\mapsto A$, é equivalente a uma representação unitária, $G\\mapsto B$ com $B_{j}*B_{j}^{\\dagger}=B_{j}^{\\dagger}*B_{j}=\\mathbb{I}$.\n",
    "### Prova\n",
    "Seja $(\\cdot,\\cdot)$ a função produto interno no espaço de Hilbert $\\mathcal{H}$ no qual os operadores unitários $A$ estão definidos. Para quaisquer $|\\psi\\rangle,|\\phi\\rangle\\in\\mathcal{H}$ e $g_{m}^{j}\\mapsto A_{j}=:A(g_{m}^{j})$, definiremos uma nova função\n",
    "\\begin{equation}\n",
    "\\{|\\psi\\rangle,|\\phi\\rangle\\} := \\frac{1}{|G|}\\sum_{m,j}(A(g_{m}^{j})|\\psi\\rangle,A(g_{m}^{j})|\\phi\\rangle).\n",
    "\\end{equation}\n",
    "Note que a soma é feita sobre todos os elementos de $G$. \n",
    "\n",
    "__Exercício:__ Verifique que a função $\\{\\cdot,\\cdot\\}$ definida acima satisfaz as propriedades exigidas de uma função produto interno."
   ]
  },
  {
   "cell_type": "markdown",
   "metadata": {},
   "source": [
    "Para um certo elemento $g_{n}^{k}\\in G$ teremos que\n",
    "\\begin{equation}\n",
    "\\{A(g_{n}^{k})|\\psi\\rangle,A(g_{n}^{k})|\\phi\\rangle\\} := \\frac{1}{|G|}\\sum_{m,j}(A(g_{m}^{j})A(g_{n}^{k})|\\psi\\rangle,A(g_{m}^{j})A(g_{n}^{k})|\\phi\\rangle).\n",
    "\\end{equation}\n",
    "Como estamos somando sobre todos os elementos de $G$, pelo teorema do rearranjamento e pela preservação da composição no homomorfismo teremos\n",
    "\\begin{equation}\n",
    "A(g_{n}^{k})A(g_{m}^{j}) = A(g_{n}^{k}g_{m}^{j}) = A(g_{o}^{l}).\n",
    "\\end{equation}\n",
    "Assim\n",
    "\\begin{equation}\n",
    "\\{A(g_{n}^{k})|\\psi\\rangle,A(g_{n}^{k})|\\phi\\rangle\\} := \\frac{1}{|G|}\\sum_{o,l}(A(g_{o}^{l})|\\psi\\rangle,A(g_{o}^{l})|\\phi\\rangle) = \\{|\\psi\\rangle,|\\phi\\rangle\\}.\n",
    "\\end{equation}\n",
    "Ou seja, a função $\\{\\cdot,\\cdot\\}$ é invariante sob a ação de $A(g_{n}^{k})\\forall n,k$. "
   ]
  },
  {
   "cell_type": "markdown",
   "metadata": {},
   "source": [
    "Seguindo, consideramos dois conjuntos de vetores $\\{|u_{j}\\rangle\\}$ e $\\{|v_{j}\\rangle\\}$ de $\\mathcal{H}$ tais que \n",
    "\\begin{equation}\n",
    "(|u_{j}\\rangle,|u_{k}\\rangle)=\\delta_{j,k}=\\{|v_{j}\\rangle,|v_{k}\\rangle\\}\n",
    "\\end{equation}\n",
    "e\n",
    "\\begin{equation}\n",
    "|v_{j}\\rangle=C|u_{j}\\rangle,\n",
    "\\end{equation}\n",
    "em que $C$ é um operador linear definido em $\\mathcal{H}$. Teremos assim que\n",
    "\\begin{align}\n",
    "\\{C|\\psi\\rangle,C|\\phi\\rangle\\} & = \\left\\{C\\sum_{j}\\psi_{j}|u_{j}\\rangle,C\\sum_{k}\\phi_{k}|u_{k}\\rangle\\right\\} = \\sum_{j,k}\\psi_{j}^{*}\\phi_{k}\\{C|u_{j}\\rangle,C|u_{k}\\rangle\\} \\\\\n",
    "& = \\sum_{j,k}\\psi_{j}^{*}\\phi_{k}\\{|v_{j}\\rangle,|v_{k}\\rangle\\} = \\sum_{j,k}\\psi_{j}^{*}\\phi_{k}\\delta_{j,k} \\\\\n",
    "& = \\sum_{j,k}\\psi_{j}^{*}\\phi_{k}(|u_{j}\\rangle,|u_{k}\\rangle) = \\left(\\sum_{j}\\psi_{j}|u_{j}\\rangle,\\sum_{k}\\phi_{k}|u_{k}\\rangle\\right) \\\\\n",
    "& = (|\\psi\\rangle,|\\phi\\rangle).\n",
    "\\end{align}"
   ]
  },
  {
   "cell_type": "markdown",
   "metadata": {},
   "source": [
    "Vamos usar $C$ para definir a seguinte representação equivalente de $G$:\n",
    "\\begin{equation}\n",
    "B=C^{-1}AC.\n",
    "\\end{equation}\n",
    "Agora, usando $\\{C|\\psi\\rangle,C|\\phi\\rangle\\}=(|\\psi\\rangle,|\\phi\\rangle)$ e $\\{A(g_{n}^{k})|\\psi\\rangle,A(g_{n}^{k})|\\phi\\rangle\\} = \\{|\\psi\\rangle,|\\phi\\rangle\\}$ obtemos\n",
    "\\begin{align}\n",
    "(B(g_{n}^{k})|\\psi\\rangle,B(g_{n}^{k})|\\phi\\rangle) & = (C^{-1}A(g_{n}^{k})C|\\psi\\rangle,C^{-1}A(g_{n}^{k})C|\\phi\\rangle) \\\\ \n",
    "& = \\{CC^{-1}A(g_{n}^{k})C|\\psi\\rangle,CC^{-1}A(g_{n}^{k})C|\\phi\\rangle\\} \\\\\n",
    "& = \\{\\mathbb{I}A(g_{n}^{k})C|\\psi\\rangle,\\mathbb{I}A(g_{n}^{k})C|\\phi\\rangle\\} \\\\ \n",
    "& = \\{A(g_{n}^{k})C|\\psi\\rangle,A(g_{n}^{k})C|\\phi\\rangle\\} \\\\ \n",
    "& = \\{C|\\psi\\rangle,C|\\phi\\rangle\\} \\\\ \n",
    "& = (|\\psi\\rangle,|\\phi\\rangle).\n",
    "\\end{align}\n",
    "Como $B$ preserva o produto interno, vemos que essa representação equivalente é unitária, completando assim a prova do teorema. $\\hspace{2cm}\\square$"
   ]
  },
  {
   "cell_type": "markdown",
   "metadata": {},
   "source": [
    "## Redutibilidade de representações\n",
    "Consideremos a representação linear matricial de um grupo $G\\mapsto A^{\\psi}$. Se todas as matrizes dessa representação tem a forma\n",
    "\\begin{equation}\n",
    "A^{\\psi} = \\begin{bmatrix} A^{\\psi}_{(1)} & O_{(1)} \\\\ \\mathbb{O} & A^{\\psi}_{(2)} \\end{bmatrix},\n",
    "\\end{equation}\n",
    "dizemos que essa representação é _redutível_. Se $O_{(1)}=\\mathbb{O}$ (as matrizes são bloco-diagonal) a representação é dita ser _completamente redutível_. Nesse último caso dizemos que $A^{\\psi}$ é a soma direta das representações $A^{\\psi}_{(j)}$, pois estas atuam subespaços ortogonais de $\\mathcal{H}$.\n",
    "\n",
    "Para representações completamente redutíveis, o caráter de um elemento é a soma dos caracteres das sub-representações, i.e.,\n",
    "\\begin{equation}\n",
    "\\chi(g)=Tr(A^{\\psi}_{(1)}(g))+Tr(A^{\\psi}_{(2)}(g)).\n",
    "\\end{equation}\n",
    "\n",
    "Quando não conseguirmos mais reduzir as representações que aparecem na \"decomposição\" de $A^{\\psi}$, teremos encontrado a __representação irredutível__ do grupo $G$:\n",
    "\\begin{equation}\n",
    "G\\mapsto A^{\\psi}=\\begin{bmatrix} A^{\\psi}_{(1)} & & O_{(1)} & &  \\\\ \\mathbb{O} & A^{\\psi}_{(2)} & & O_{(2)} &  \\\\ \\vdots & \\vdots & \\cdots & \\vdots & \\vdots \\\\ \\mathbb{O}  & \\mathbb{O}  & \\cdots & A^{\\psi}_{(k-1)} & O_{(k-1)} \\\\ \\mathbb{O}  & \\mathbb{O}  & \\cdots & \\mathbb{O}  & A^{\\psi}_{(k-1)} \\end{bmatrix}\n",
    "\\end{equation}"
   ]
  },
  {
   "cell_type": "markdown",
   "metadata": {},
   "source": [
    "## Critério de redutibilidade\n",
    "Se uma representação é redutível então\n",
    "\\begin{equation}\n",
    "\\begin{bmatrix} A^{\\psi}_{(1)} & O_{(1)} \\\\ \\mathbb{O} & A^{\\psi}_{(2)} \\end{bmatrix}\\begin{bmatrix} |x\\rangle \\\\ |\\oslash\\rangle\\end{bmatrix} = \\begin{bmatrix} A^{\\psi}_{(1)}|x\\rangle \\\\ |\\oslash\\rangle\\end{bmatrix}.\n",
    "\\end{equation}\n",
    "Por conseguinte, se todas as transformações de $A^{\\psi}$ deixam um subespaço de $\\mathcal{H}$ invariante (i.e., não levam vetores do subespaço pra fora dele), a representação $G\\mapsto A^{\\psi}$ é redutível."
   ]
  },
  {
   "cell_type": "markdown",
   "metadata": {},
   "source": [
    "### Teorema\n",
    "Para representações unitárias (para grupos finitos, em particular), redutibilidade implica em redutibilidade completa.\n",
    "\n",
    "#### Prova\n",
    "Para representações unitárias teremos $A^{\\psi}(A^{\\psi})^{\\dagger} = (A^{\\psi})^{\\dagger}A^{\\psi} = \\mathbb{I}$. Se a representação é redutível, vem que\n",
    "\\begin{align}\n",
    "A^{\\psi}(A^{\\psi})^{\\dagger} & = \\begin{bmatrix} A^{\\psi}_{(1)} & O_{(1)} \\\\ \\mathbb{O} & A^{\\psi}_{(2)} \\end{bmatrix}\\begin{bmatrix} (A^{\\psi}_{(1)})^{\\dagger} &  \\mathbb{O} \\\\ (O_{(1)})^{\\dagger} & (A^{\\psi}_{(2)})^{\\dagger} \\end{bmatrix} \\\\\n",
    "&= \\begin{bmatrix} A^{\\psi}_{(1)}(A^{\\psi}_{(1)})^{\\dagger} + O_{(1)}(O_{(1)})^{\\dagger}  & O_{(1)}(A^{\\psi}_{(2)})^{\\dagger} \\\\ A^{\\psi}_{(2)}(O_{(1)})^{\\dagger} & A^{\\psi}_{(2)}(A^{\\psi}_{(2)})^{\\dagger} \\end{bmatrix} \\\\\n",
    "& = \\begin{bmatrix} \\mathbb{I} + O_{(1)}(O_{(1)})^{\\dagger}  & O_{(1)}(A^{\\psi}_{(2)})^{\\dagger} \\\\ A^{\\psi}_{(2)}(O_{(1)})^{\\dagger} & \\mathbb{I} \\end{bmatrix}  = \\begin{bmatrix} \\mathbb{I} & \\mathbb{O} \\\\ \\mathbb{O} & \\mathbb{I} \\end{bmatrix}.\n",
    "\\end{align}\n",
    "A única maneira de satisfazer essa igualdade de forma geral é se $O_{(1)}=\\mathbb{O}$. Mas isso implica que a representação é completamente redutível, completando assim a prova do teorema. $\\hspace{2cm} \\square$"
   ]
  },
  {
   "cell_type": "markdown",
   "metadata": {},
   "source": [
    "## Lema de Schur"
   ]
  },
  {
   "cell_type": "markdown",
   "metadata": {},
   "source": [
    "## Teoremas de unicidade para representações completamente redutíveis"
   ]
  },
  {
   "cell_type": "markdown",
   "metadata": {},
   "source": [
    "## Aplicações em Mecânica Quântica"
   ]
  },
  {
   "cell_type": "code",
   "execution_count": null,
   "metadata": {},
   "outputs": [],
   "source": []
  }
 ],
 "metadata": {
  "kernelspec": {
   "display_name": "Python 3",
   "language": "python",
   "name": "python3"
  },
  "language_info": {
   "codemirror_mode": {
    "name": "ipython",
    "version": 3
   },
   "file_extension": ".py",
   "mimetype": "text/x-python",
   "name": "python",
   "nbconvert_exporter": "python",
   "pygments_lexer": "ipython3",
   "version": "3.6.4"
  }
 },
 "nbformat": 4,
 "nbformat_minor": 2
}
