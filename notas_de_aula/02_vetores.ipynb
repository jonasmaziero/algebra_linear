{
 "cells": [
  {
   "cell_type": "markdown",
   "metadata": {},
   "source": [
    "### Notas de aula de Álgebra Linear <br> Autor: Jonas Maziero"
   ]
  },
  {
   "cell_type": "markdown",
   "metadata": {},
   "source": [
    "# Álgebra Linear\n",
    "É o estudo de espaços vetoriais e de operações lineares nesses espaços. Já em sua versão mais básica, a Álgebra Linear (AL) tem aplicações diversas em ciência. Uma boa descrição sobre o motivo de definirmos um espaço vetorial, ou grupo, como o faremos, pode ser visto no playlist de Álgebra abstrata da Socratica: https://youtu.be/IP7nW_hKB7I. Outro conjunto de vídeos interessantes sobre AL é o do 3Blue1Brown: http://3b1b.co/eola, que apresenta explicações gráficas sobre os conceitos de AL."
   ]
  },
  {
   "cell_type": "markdown",
   "metadata": {},
   "source": [
    "## Corpo escalar\n",
    "Dizemos que um conjunto $\\mathbb{F}$ é um corpo escalar se estiverem definidas as operações de soma $+:\\mathbb{F}\\mathrm{x}\\mathbb{F}\\rightarrow\\mathbb{F}$ e multiplicação $*:\\mathbb{F}\\mathrm{x}\\mathbb{F}\\rightarrow\\mathbb{F}$ com as seguintes propriedades:\n",
    "* Fechamento: $a+b\\in\\mathbb{F}\\space\\forall a,b\\in\\mathbb{F}$ e $a*b\\in\\mathbb{F}\\space\\forall a,b\\in\\mathbb{F}$.\n",
    "* Associatividade: $a+(b+c)=(a+b)+c \\text{ e } a*(b*c)=(a*b)*c \\hspace{0.3cm}\\forall a,b,c\\in\\mathbb{F}$;\n",
    "* Comutatividade: $a+b=b+a \\text{ e } a*b=b*a \\hspace{0.3cm}\\forall a,b\\in\\mathbb{F}$;\n",
    "* Elemento neutro: $\\text{Existem } \\mathbb{O}_{\\mathbb{F}} \\text{ e } \\mathbb{1}_{\\mathbb{F}} \\text{ tais que } a+\\mathbb{O}_{\\mathbb{F}}=a \\text{ e } \\mathbb{1}_{\\mathbb{F}}*a=a \\hspace{0.3cm} \\forall a\\in\\mathbb{F}$;\n",
    "* Elemento inverso: $\\text{Existem } -a \\text{ e } a^{-1} \\text{ tais que } a+(-a)=\\mathbb{O}_{\\mathbb{F}} \\text{ e } a^{-1}*a=\\mathbb{1}_{\\mathbb{F}} \\hspace{0.3cm} \\forall a\\in\\mathbb{F}$;\n",
    "* Distributividade: $a*(b+c)=a*b+a*c \\hspace{0.3cm} \\forall a,b,c\\in\\mathbb{F}$.\n",
    "\n",
    "### Proposição \n",
    "Seja $\\mathbb{O}_{\\mathbb{F}}$ o elemento neutro da soma do corpo escalar $\\mathbb{F}$. Então $\\mathbb{O}_{\\mathbb{F}}*a=\\mathbb{O}_{\\mathbb{F}}\\space\\forall a\\in\\mathbb{F}$.\n",
    "#### Prova\n",
    "\\begin{align}\n",
    "\\mathbb{O}_{\\mathbb{F}}*a &= \\mathbb{O}_{\\mathbb{F}}*a + \\mathbb{O}_{\\mathbb{F}} = \\mathbb{O}_{\\mathbb{F}}*a + a + (-a) = \\mathbb{O}_{\\mathbb{F}}*a + \\mathbb{1}_{\\mathbb{F}}*a + (-a) \\\\\n",
    "& = (\\mathbb{O}_{\\mathbb{F}} + \\mathbb{1}_{\\mathbb{F}})*a + (-a) = \\mathbb{1}_{\\mathbb{F}}*a + (-a) = a + (-a) \\\\\n",
    "&= \\mathbb{O}_{\\mathbb{F}}. \\hspace{11cm}\\square\n",
    "\\end{align}\n",
    "\n",
    "##### Exemplo: $\\mathbb{C}$\n",
    "O cojunto $\\mathbb{C}$, dos números complexos, é formado por elementos da forma $z=x+iy$ com $x,y\\in\\mathbb{R}$ e $i=\\sqrt{-1}$. As operações de soma\n",
    "\\begin{equation}\n",
    "z_{1}+z_{2}=(x_{1}+iy_{1})+(x_{2}+iy_{2}):=(x_{1}+x_{2})+i(y_{1}+y_{2})\n",
    "\\end{equation}\n",
    "e de multiplicação\n",
    "\\begin{equation}\n",
    "z_{1}*z_{2}=(x_{1}+iy_{1})*(x_{2}+iy_{2}):=(x_{1}*x_{2}-y_{1}*y_{2})+i(x_{1}*y_{2}+y_{1}*x_{2})\n",
    "\\end{equation}\n",
    "fazem de $\\mathbb{C}$ um corpo escalar."
   ]
  },
  {
   "cell_type": "markdown",
   "metadata": {},
   "source": [
    "# Espaço vetorial\n",
    "Um conjunto de objetos $\\{|v\\rangle\\}$, que chamaremos de vetores, forma um espaço vetorial $V$ se estiverem definidas a operação de __soma de vetores__, \n",
    "\\begin{equation}\n",
    "+:V\\text{x}V\\rightarrow V,\n",
    "\\end{equation}\n",
    "que leva dois vetores em um vetor de $V$, com as seguintes propriedades:\n",
    "* Comutatividade: $|v\\rangle+|w\\rangle=|w\\rangle+|v\\rangle\\text{, }\\forall|v\\rangle,|w\\rangle\\in V$,\n",
    "* Associatividade: $|v\\rangle+(|w\\rangle+|x\\rangle)=(|v\\rangle+|w\\rangle)+|x\\rangle\\text{, }\\forall|v\\rangle,|w\\rangle,|x\\rangle\\in V$,\n",
    "* Existe o elemento nulo $|\\oslash\\rangle$ tal que: $|v\\rangle+|\\oslash\\rangle=|v\\rangle\\text{, }\\forall|v\\rangle\\in V$,\n",
    "* Existe o elemento inverso $|v^{-1}\\rangle$ tal que: $|v\\rangle+|v^{-1}\\rangle=|\\oslash\\rangle\\text{, }\\forall|v\\rangle\\in V$, <br>\n",
    "e a operação de __multiplicação por escalar__,\n",
    "\\begin{equation}\n",
    "*:\\mathbb{F}\\text{x}V\\rightarrow V,\n",
    "\\end{equation}\n",
    "herdada da multiplicação do corpo escalar $\\mathbb{F}$ e que leva um escalar do corpo escalar associado e um vetor de $V$ em um vetor de $V$, com as seguintes propriedades:\n",
    "* Se $\\mathbb{1}_{F}$ é a identidade para a multiplicação em $\\mathbb{F}$, então $\\mathbb{1}_{F}*|v\\rangle=|v\\rangle\\text{, }\\forall|v\\rangle\\in V$,\n",
    "* Associatividade para produto dos escalares: $(a*b)*|v\\rangle=a*(b*|v\\rangle)\\text{, }\\forall a,b\\in\\mathbb{F}\\text{ e }\\forall|v\\rangle\\in V$,\n",
    "* Distributividade para a soma dos vetores: $a*(|v\\rangle+|w\\rangle)=a*|v\\rangle+a*|w\\rangle\\text{, }\\forall a\\in\\mathbb{F}\\text{ e }\\forall|v\\rangle,|w\\rangle\\in V$.\n",
    "* Distributividade para a soma de escalares: $(a+b)*|v\\rangle = a*|v\\rangle+b*|v\\rangle\\text{ }\\forall a,b\\in\\mathbb{F}\\text{ e }|v\\rangle\\in V$."
   ]
  },
  {
   "cell_type": "markdown",
   "metadata": {},
   "source": [
    "### Proposição\n",
    "Seja $\\mathbb{O}_{\\mathbb{F}}+a=a\\text{ }\\forall a\\in \\mathbb{F}$, então $\\mathbb{O}_{\\mathbb{F}}*|v\\rangle=|\\oslash\\rangle\\text{ }\\forall|v\\rangle\\in V$.\n",
    "#### Prova\n",
    "\\begin{align}\n",
    "\\mathbb{O}_{\\mathbb{F}}*|v\\rangle & = \\mathbb{O}_{\\mathbb{F}}*|v\\rangle+|\\oslash\\rangle = \\mathbb{O}_{\\mathbb{F}}*|v\\rangle+|v\\rangle+|v^{-1}\\rangle = \\mathbb{O}_{\\mathbb{F}}*|v\\rangle+\\mathbb{1}_{\\mathbb{F}}*|v\\rangle+|v^{-1}\\rangle \\\\ \n",
    "& = (\\mathbb{O}_{\\mathbb{F}}+\\mathbb{1}_{\\mathbb{F}})*|v\\rangle+|v^{-1}\\rangle = \\mathbb{1}_{\\mathbb{F}}*|v\\rangle+|v^{-1}\\rangle = |v\\rangle+|v^{-1}\\rangle \\\\\n",
    "& = |\\oslash\\rangle. \\hspace{11cm}\\square\n",
    "\\end{align}"
   ]
  },
  {
   "cell_type": "markdown",
   "metadata": {},
   "source": [
    "### Exemplo: $\\mathbb{C}^{n}$\n",
    "Para o conjunto de listas com $n$ números complexos, denotado por $\\mathbb{C}^{n}$, as operações de soma de vetores e de multiplicação por escalar são definidas por:\n",
    "\\begin{align}\n",
    "& |v\\rangle+|w\\rangle:=\\begin{bmatrix} v_{1} \\\\ v_{2} \\\\ \\vdots \\\\ v_{n} \\end{bmatrix} + \\begin{bmatrix} w_{1} \\\\ w_{2} \\\\ \\vdots \\\\ w_{n} \\end{bmatrix} := \\begin{bmatrix} v_{1}+w_{1} \\\\ v_{2}+w_{2} \\\\ \\vdots \\\\ v_{n}+w_{n} \\end{bmatrix} \\\\\n",
    "& a*|v\\rangle = a*\\begin{bmatrix} v_{1} \\\\ v_{2} \\\\ \\vdots \\\\ v_{n} \\end{bmatrix} := \\begin{bmatrix} a*v_{1} \\\\ a*v_{2} \\\\ \\vdots \\\\ a*v_{n} \\end{bmatrix},\n",
    "\\end{align}\n",
    "com $a,v_{j},w_{k}\\in\\mathbb{C}$ e $+$ e $*$ nas matrizes são as usuais operações de soma e multiplicação de números complexos. Aplicando as propriedades dessas operações, pode-se verificar que essas definições satisfazem as propriedades acima e tornam assim $\\mathbb{C}^{n}$ em um espaço vetorial.\n",
    "\n",
    "OBS. $\\mathbb{R}^{n}$ é um caso particular de $\\mathbb{C}^{n}$, e é também um espaço vetorial.\n",
    "\n",
    "Usando as propriedades do corpo escalar $\\mathbb{C}$, vamos verificar que as operações definidas acima aplicadas ao conjunto $\\mathbb{C}^{n}$ o tornam um espaço vetorial:\n",
    "\n",
    "Comutatividade da soma:\n",
    "\\begin{align}\n",
    "|v\\rangle+|w\\rangle &= \\begin{bmatrix} v_{1} \\\\ \\vdots \\\\ v_{n} \\end{bmatrix} + \\begin{bmatrix} w_{1} \\\\ \\vdots \\\\ w_{n} \\end{bmatrix} = \\begin{bmatrix} v_{1}+w_{1} \\\\ \\vdots \\\\ v_{n}+w_{n} \\end{bmatrix} = \\begin{bmatrix} w_{1}+v_{1} \\\\ \\vdots \\\\ w_{n}+v_{n} \\end{bmatrix} \\\\\n",
    "& = \\begin{bmatrix} w_{1} \\\\ \\vdots \\\\ w_{n} \\end{bmatrix}+\\begin{bmatrix} v_{1} \\\\ \\vdots \\\\ v_{n} \\end{bmatrix} = |w\\rangle+|v\\rangle.\n",
    "\\end{align}"
   ]
  },
  {
   "cell_type": "markdown",
   "metadata": {},
   "source": [
    "Associatividade da soma:\n",
    "\\begin{align}\n",
    "|v\\rangle+(|w\\rangle+|x\\rangle) &= \\begin{bmatrix} v_{1} \\\\ \\vdots \\\\ v_{n} \\end{bmatrix} + \\begin{bmatrix} w_{1}+x_{1} \\\\ \\vdots \\\\ w_{n}+x_{n} \\end{bmatrix} = \\begin{bmatrix} v_{1}+(w_{1}+x_{1}) \\\\ \\vdots \\\\ v_{n}+(w_{n}+x_{n}) \\end{bmatrix} = \\begin{bmatrix} (v_{1}+w_{1})+x_{1} \\\\ \\vdots \\\\ (v_{n}+w_{n})+x_{n} \\end{bmatrix} \\\\\n",
    "&= \\begin{bmatrix} v_{1}+w_{1} \\\\ \\vdots \\\\ v_{n}+w_{n} \\end{bmatrix}+\\begin{bmatrix} x_{1} \\\\ \\vdots \\\\ x_{n} \\end{bmatrix} = (|v\\rangle+|w\\rangle)+|x\\rangle.\n",
    "\\end{align}\n",
    "\n",
    "Elemento nulo da soma: Se $|\\oslash\\rangle=\\begin{bmatrix} \\mathbb{O}_{\\mathbb{F}}&\\cdots&\\mathbb{O}_{\\mathbb{F}}\\end{bmatrix}^{T}$ teremos\n",
    "\\begin{equation}\n",
    "|v\\rangle+|\\oslash\\rangle = \\begin{bmatrix} v_{1}+\\mathbb{O}_{\\mathbb{F}} \\\\ \\vdots \\\\ v_{n}+\\mathbb{O}_{\\mathbb{F}} \\end{bmatrix} = \\begin{bmatrix} v_{1} \\\\ \\vdots \\\\ v_{n} \\end{bmatrix} = |v\\rangle.\n",
    "\\end{equation}\n",
    "\n",
    "Elemento inverso da soma: Se $|v^{-1}\\rangle=\\begin{bmatrix} -v_{1}&\\cdots&-v_{n}\\end{bmatrix}^{T}$ teremos\n",
    "\\begin{equation}\n",
    "|v\\rangle+|v^{-1}\\rangle = \\begin{bmatrix} v_{1}+(-v_{1}) \\\\ \\vdots \\\\ v_{n}+(-v_{n}) \\end{bmatrix} = \\begin{bmatrix} \\mathbb{O}_{\\mathbb{F}} \\\\ \\vdots \\\\ \\mathbb{O}_{\\mathbb{F}} \\end{bmatrix} = |\\oslash\\rangle.\n",
    "\\end{equation}"
   ]
  },
  {
   "cell_type": "markdown",
   "metadata": {},
   "source": [
    "Indentidade do produto por escalar:\n",
    "\\begin{equation}\n",
    "\\mathbb{1}_{F}*|v\\rangle = \\mathbb{1}_{F}*\\begin{bmatrix} v_{1} \\\\ \\vdots \\\\ v_{n} \\end{bmatrix} = \\begin{bmatrix} \\mathbb{1}_{F}*v_{1} \\\\ \\vdots \\\\ \\mathbb{1}_{F}*v_{n} \\end{bmatrix} = \\begin{bmatrix} v_{1} \\\\ \\vdots \\\\ v_{n} \\end{bmatrix} = |v\\rangle.\n",
    "\\end{equation}\n",
    "\n",
    "Associatividade para produto dos escalares: \n",
    "\\begin{align}\n",
    "(a*b)*|v\\rangle &= (a*b)*\\begin{bmatrix} v_{1} \\\\ \\vdots \\\\ v_{n} \\end{bmatrix} = \\begin{bmatrix} (a*b)*v_{1} \\\\ \\vdots \\\\ (a*b)*v_{n} \\end{bmatrix} = \\begin{bmatrix} a*(b*v_{1}) \\\\ \\vdots \\\\ a*(b*v_{n}) \\end{bmatrix} \\\\\n",
    "&= a*\\begin{bmatrix} b*v_{1} \\\\ \\vdots \\\\ b*v_{n} \\end{bmatrix} = a*\\left(b*\\begin{bmatrix} v_{1} \\\\ \\vdots \\\\ v_{n} \\end{bmatrix}\\right) = a*(b*|v\\rangle).\n",
    "\\end{align}"
   ]
  },
  {
   "cell_type": "markdown",
   "metadata": {},
   "source": [
    "Distributividade para a soma dos vetores: \n",
    "\\begin{align}\n",
    "a*(|v\\rangle+|w\\rangle) &= a*\\begin{bmatrix} v_{1}+w_{1} \\\\ \\vdots \\\\ v_{n}+w_{n} \\end{bmatrix} = \\begin{bmatrix} a*(v_{1}+w_{1}) \\\\ \\vdots \\\\ a*(v_{n}+w_{n}) \\end{bmatrix} = \\begin{bmatrix} a*v_{1}+a*w_{1} \\\\ \\vdots \\\\ a*v_{n}+a*w_{n} \\end{bmatrix} \\\\\n",
    "& = \\begin{bmatrix} a*v_{1} \\\\ \\vdots \\\\ a*v_{n} \\end{bmatrix} + \\begin{bmatrix} a*w_{1} \\\\ \\vdots \\\\ a*w_{n}) \\end{bmatrix} = a*\\begin{bmatrix} v_{1} \\\\ \\vdots \\\\ v_{n} \\end{bmatrix} + a*\\begin{bmatrix} w_{1} \\\\ \\vdots \\\\ w_{n}) \\end{bmatrix} \\\\\n",
    "&= a*|v\\rangle+a*|w\\rangle.\n",
    "\\end{align}\n",
    "\n",
    "Distributividade para a soma de escalares: \n",
    "\\begin{align}\n",
    "(a+b)*|v\\rangle &= (a+b)*\\begin{bmatrix} v_{1} \\\\ \\vdots \\\\ v_{n} \\end{bmatrix} = \\begin{bmatrix} (a+b)*v_{1} \\\\ \\vdots \\\\ (a+b)*v_{n} \\end{bmatrix} = \\begin{bmatrix} a*v_{1}+b*v_{1} \\\\ \\vdots \\\\ a*v_{n}+b*v_{n} \\end{bmatrix} \\\\\n",
    "& = \\begin{bmatrix} a*v_{1} \\\\ \\vdots \\\\ a*v_{n} \\end{bmatrix} + \\begin{bmatrix} b*v_{1} \\\\ \\vdots \\\\ b*v_{n} \\end{bmatrix} = a*\\begin{bmatrix} v_{1} \\\\ \\vdots \\\\ v_{n} \\end{bmatrix} + b*\\begin{bmatrix} v_{1} \\\\ \\vdots \\\\ v_{n} \\end{bmatrix} \\\\\n",
    "&= a*|v\\rangle+b*|v\\rangle.\n",
    "\\end{align}"
   ]
  },
  {
   "cell_type": "markdown",
   "metadata": {},
   "source": [
    "## Combinação e independência linear\n",
    "Dizemos que um vetor $|v\\rangle\\in V$, com $V$ sendo um espaço vetorial, é uma __combinação linear__ de um conjunto de vetores $|v_{j}\\rangle\\in V$ se existem escalares do corpo escalar associado $a_{j}\\in\\mathbb{F}$ tais que\n",
    "\\begin{equation}\n",
    "|v\\rangle = \\sum_{j}a_{j}|v_{j}\\rangle.\n",
    "\\end{equation}\n",
    "\n",
    "Um conjunto de $n$ vetores $\\{|w_{j}\\rangle\\}\\in V$ é um conjunto __linearmente independente__ (LI) se nenhum desses vetores pode ser escrito como uma combinação linear dos outros. Colocado de outra forma, $\\{|w_{j}\\rangle\\}_{j=1}^{n}$ é LI se a única maneira de satisfazer a igualdade\n",
    "\\begin{equation}\n",
    "\\sum_{j}a_{j}|w_{j}\\rangle=|\\oslash\\rangle,\n",
    "\\end{equation}\n",
    "para $a_{j}\\in\\mathbb{F}$, é com todos os coeficientes da combinação linear nulos, i.e., $a_{j}=0$ para $j=1,\\cdots,n$.\n",
    "\n",
    "_OBS:_ Se um conjunto de vetores não é LI, então este é dito linearmente dependente (LD). Note que nesse caso existe pelo menos um coeficiente $a_{k}$ não nulo, e podemos escrever $|w_{k}\\rangle=\\sum_{j\\ne k}(-a_{j}/a_{k})|w_{j}\\rangle$.\n",
    "\n",
    "#### Exemplos\n",
    "Para $\\mathbb{C}^{2}$ temos que $|w_{1}\\rangle=\\begin{bmatrix} i & 1 \\end{bmatrix}^{T}$ e $|w_{2}\\rangle=\\begin{bmatrix} 3i & 1 \\end{bmatrix}^{T}$ são LI. Já $|w_{1}\\rangle$ e $|w_{3}\\rangle=\\begin{bmatrix} 3i & 3 \\end{bmatrix}^{T}$ são LD pois $-3|w_{1}\\rangle+|w_{3}\\rangle=|\\oslash\\rangle\\therefore 3|w_{1}\\rangle=|w_{3}\\rangle$."
   ]
  },
  {
   "cell_type": "markdown",
   "metadata": {},
   "source": [
    "### Critério para determinar se um conjunto de vetores é LI\n",
    "Lembrando, se só obtemos $\\sum_{j=1}^{n}a_{j}|w_{j}\\rangle=|\\oslash\\rangle$ com $|a\\rangle=\\begin{bmatrix} a_{1} & \\cdots & a_{n} \\end{bmatrix}^{T}=\\begin{bmatrix} 0 & \\cdots & 0 \\end{bmatrix}^{T}=|\\oslash\\rangle$, então o conjunto de vetores $\\{|w_{j}\\rangle\\}_{j=1}^{n}$ é LI, senão é LD. Vamos transformar essa equação em uma equação matricial definindo $|w_{j}\\rangle=\\begin{bmatrix} w_{1,j} & \\cdots & w_{n,j} \\end{bmatrix}^{T}$. Assim\n",
    "\\begin{align}\n",
    "|\\oslash\\rangle & = \\sum_{j=1}^{n}a_{j}|w_{j}\\rangle = \\sum_{j=1}^{n}a_{j}\\begin{bmatrix} w_{1j} \\\\ \\vdots \\\\ w_{nj} \\end{bmatrix} = \\sum_{j=1}^{n}\\begin{bmatrix} a_{j}w_{1j} \\\\ \\vdots \\\\ a_{j}w_{nj} \\end{bmatrix} = \\begin{bmatrix} \\sum_{j=1}^{n}w_{1j}a_{j} \\\\ \\vdots \\\\ \\sum_{j=1}^{n}w_{nj}a_{j} \\end{bmatrix} \\\\\n",
    "& = \\begin{bmatrix} w_{1,1} & \\cdots & w_{1,n} \\\\ \\vdots & \\vdots & \\vdots \\\\  w_{n,1} & \\cdots & w_{n,n} \\end{bmatrix}\\begin{bmatrix} a_{1} \\\\ \\vdots \\\\ a_{n} \\end{bmatrix} =: W|a\\rangle.\n",
    "\\end{align}\n",
    "Vemos assim que se a matriz \n",
    "\\begin{equation}\n",
    "W=\\begin{bmatrix} |w_{1}\\rangle & \\cdots & |w_{n}\\rangle \\end{bmatrix}\n",
    "\\end{equation}\n",
    "possuir inversa, i.e., se $\\det(W)\\ne 0$, então\n",
    "\\begin{equation}\n",
    "W|a\\rangle=|\\oslash\\rangle\\Rightarrow W^{-1}W|a\\rangle=\\mathbb{I}_{n}|a\\rangle=|a\\rangle=W^{-1}|\\oslash\\rangle=|\\oslash\\rangle,\n",
    "\\end{equation}\n",
    "o que implica que o conjunto de vetores é LI. Se tivermos $\\det(W)=0$ o conjunto de vetores é LD.\n",
    "\n",
    "_OBS:_ Esse critério se torna óbvio se lembrarmos que o determinante de uma matriz é nulo se uma (ou mais) coluna(s) dessa matriz é uma combinação linear de outras das suas colunas. Essa fato equivale, no presente contexto, a um (ou mais) dos vetores $|w_{j}\\rangle$ ser uma combinação linear de outros desses vetores. "
   ]
  },
  {
   "cell_type": "markdown",
   "metadata": {},
   "source": [
    "##### Exemplo\n",
    "Considere o conjunto de vetores $\\left\\{|w_{1}\\rangle=\\begin{bmatrix} 2 & 3 \\end{bmatrix}^{T},|w_{2}\\rangle=\\begin{bmatrix} 5 & 7 \\end{bmatrix}^{T}\\right\\}$. Teremos\n",
    "\\begin{equation}\n",
    "\\det(W)=\\det\\begin{bmatrix} |w_{1}\\rangle & |w_{2}\\rangle \\end{bmatrix}=\\det\\begin{bmatrix} 2 & 5 \\\\ 3 & 7 \\end{bmatrix} = -1 \\ne 0.\n",
    "\\end{equation}\n",
    "Portanto $\\left\\{|w_{1}\\rangle,|w_{2}\\rangle\\right\\}$ é LI.\n",
    "\n",
    "##### Exemplo\n",
    "Consideremos agora outro conjunto de vetores $\\left\\{|w_{1}\\rangle=\\begin{bmatrix} 2 & 3 \\end{bmatrix}^{T},|w_{2}\\rangle=\\begin{bmatrix} 5 & 7 \\end{bmatrix}^{T},|w_{3}\\rangle=\\begin{bmatrix} 11 & 13 \\end{bmatrix}^{T}\\right\\}$. Teremos\n",
    "\\begin{equation}\n",
    "\\det(W)=\\det\\begin{bmatrix} |w_{1}\\rangle & |w_{2}\\rangle & |w_{3}\\rangle\\end{bmatrix}=\\det\\begin{bmatrix} 2 & 5 & 11 \\\\ 3 & 7 & 13 \\end{bmatrix}.\n",
    "\\end{equation}\n",
    "Como o determinante é definido somente para matrizes quadradas, vamos considerar esses vetores como sendo vetores de $\\mathbb{R}^{3}$ com componentes não nulas somente em $\\mathbb{R}^{2}$, i.e.,  $\\left\\{|w'_{1}\\rangle=\\begin{bmatrix} 2 & 3 & 0 \\end{bmatrix}^{T},|w'_{2}\\rangle=\\begin{bmatrix} 5 & 7 & 0 \\end{bmatrix}^{T},|w'_{3}\\rangle=\\begin{bmatrix} 11 & 13 & 0 \\end{bmatrix}^{T}\\right\\}$. Nesse caso teríamos\n",
    "\\begin{equation}\n",
    "\\det(W')=\\det\\begin{bmatrix} |w'_{1}\\rangle & |w'_{2}\\rangle & |w'_{3}\\rangle\\end{bmatrix}=\\det\\begin{bmatrix} 2 & 5 & 11 \\\\ 3 & 7 & 13 \\\\ 0 & 0 & 0 \\end{bmatrix}=0,\n",
    "\\end{equation}\n",
    "pela expansão em cofatores na última linha. Portanto $\\{|w'_{1}\\rangle,|w'_{2}\\rangle,|w'_{2}\\rangle\\}$, e consequentemente $\\{|w_{1}\\rangle,|w_{2}\\rangle,|w_{2}\\rangle\\}$, é LD. Esse resultado pode ser verificado usando $|w_{3}\\rangle=\\alpha|w_{1}\\rangle+\\beta|w_{2}\\rangle$ ($\\therefore 11=2\\alpha+5\\beta$ e $13=3\\alpha+7\\beta$) e obtendo os coeficientes. Teremos\n",
    "\\begin{align}\n",
    "& \\begin{bmatrix} 2 & 5 \\\\ 3 & 7 \\end{bmatrix}\\begin{bmatrix} \\alpha \\\\ \\beta \\end{bmatrix} = \\begin{bmatrix} 11 \\\\ 13 \\end{bmatrix} \\Rightarrow \\begin{bmatrix} \\alpha \\\\ \\beta \\end{bmatrix} = \\begin{bmatrix} 2 & 5 \\\\ 3 & 7 \\end{bmatrix}^{-1}\\begin{bmatrix} 11 \\\\ 13 \\end{bmatrix} \\\\\n",
    "& \\Rightarrow \\begin{bmatrix} \\alpha \\\\ \\beta \\end{bmatrix} = \\begin{bmatrix} -7 & 5 \\\\ 3 & -2 \\end{bmatrix}\\begin{bmatrix} 11 \\\\ 13 \\end{bmatrix}=\\begin{bmatrix} -12 \\\\ 7 \\end{bmatrix}.\n",
    "\\end{align}\n",
    "\n",
    "_OBS:_ Note que a inclusão de uma componente nula não pode afetar se o conjunto de vetores é LD ou LI. E isso implica que um conjunto de vetores $\\{|v_{j}\\rangle\\}_{j=1}^{m}\\in\\mathbb{C}^{n}$ é LD se $m>n$."
   ]
  },
  {
   "cell_type": "code",
   "execution_count": 3,
   "metadata": {},
   "outputs": [
    {
     "data": {
      "image/png": "[encoded data removed]",
      "text/latex": [
       "$\\displaystyle \\left( \\left[\\begin{matrix}-12\\\\7\\end{matrix}\\right], \\  \\left[\\begin{matrix}11\\\\13\\end{matrix}\\right]\\right)$"
      ],
      "text/plain": [
       "⎛⎡-12⎤  ⎡11⎤⎞\n",
       "⎜⎢   ⎥, ⎢  ⎥⎟\n",
       "⎝⎣ 7 ⎦  ⎣13⎦⎠"
      ]
     },
     "execution_count": 3,
     "metadata": {},
     "output_type": "execute_result"
    }
   ],
   "source": [
    "from sympy import Matrix, init_printing\n",
    "init_printing(use_unicode=True)\n",
    "\n",
    "w1 = Matrix([[2],[3]]); w2 = Matrix([[5],[7]]); w3 = Matrix([[11],[13]])\n",
    "A = Matrix([[2,5],[3,7]]); Ai = A.inv(); Ai*w3, -12*w1+7*w2  # verificação"
   ]
  },
  {
   "cell_type": "markdown",
   "metadata": {},
   "source": [
    "## Extensão\n",
    "A extensão de um conjunto de vetores contidos em um espaço vetorial $V$, $\\{|v_{j}\\rangle\\}_{j=1}^{n}\\subseteq V$, são todos os vetores que são obtidos através de combinações lineares desse conjunto de vetores, i.e.,\n",
    "\\begin{equation}\n",
    "ext(\\{|v_{j}\\rangle\\}_{j=1}^{n}) := \\left\\{\\sum_{j=1}^{n}a_{j}|v_{j}\\rangle \\text{ para } a_{j}\\in\\mathbb{F}\\right\\}.\n",
    "\\end{equation}\n",
    "##### Exemplo\n",
    "Considere $|v_{1}\\rangle=\\begin{bmatrix} 1 & 0 \\end{bmatrix}^{T}$ e $|v_{2}\\rangle=\\begin{bmatrix} 0 & 1 \\end{bmatrix}^{T}$. Como $|v\\rangle=\\begin{bmatrix} a & b \\end{bmatrix}^{T}=a|v_{1}\\rangle+b|v_{2}\\rangle$, então $ext(|v_{1}\\rangle,|v_{2}\\rangle)=\\mathbb{C}^{2}$. \n",
    "\n",
    "## Base\n",
    "Se a extensão de um conjunto de vetores LI, $\\{|v_{j}\\rangle\\}_{j=1}^{n}\\subseteq V$, é todo o espaço vetorial, i.e.,\n",
    "\\begin{equation}\n",
    "ext(\\{|v_{j}\\rangle\\}_{j=1}^{n}) = V,\n",
    "\\end{equation}\n",
    "dizemos que esse conjunto de vetores forma uma base pra esse espaço vetorial.\n",
    "\n",
    "_OBS:_ Note que nesse caso qualquer vetor de $V$ pode ser escrito como combinação linear de $\\{|v_{j}\\rangle\\}_{j=1}^{n}$.\n",
    "\n",
    "##### Exemplo\n",
    "Os vetores $|v_{1}\\rangle$ e $|v_{2}\\rangle$ do tópico anterior formam uma base para o espaço vetorial $\\mathbb{C}^{2}$."
   ]
  },
  {
   "cell_type": "markdown",
   "metadata": {},
   "source": [
    "## Teorema\n",
    "Seja $\\{|v_{j}\\rangle\\}_{j=1}^{r}$ um conjunto de vetores LI tal que $|v_{j}\\rangle\\in ext(\\{|w_{k}\\rangle\\}_{k=1}^{s})$ para $j=1,\\cdots,r$, com $\\{|w_{k}\\rangle\\}_{k=1}^{s}$ sendo também um conjunto LI. Então $r\\le s$.\n",
    "### Prova\n",
    "Pelo enunciado do teorema, temos que cada vetor $|v_{j}\\rangle$ pode ser escrito como uma combinação linear dos vetores do conjunto $\\{|w_{k}\\rangle\\}_{k=1}^{s}$:\n",
    "\\begin{equation}\n",
    "|v_{j}\\rangle=\\sum_{k=1}^{s}a_{j,k}|w_{k}\\rangle,\n",
    "\\end{equation}\n",
    "para $j=1,\\cdots,r$, com $a_{j,k}\\in\\mathbb{F}$. Vamos assumir que $r>s$ e verificar que isso nos leva a uma _contradição_. Segundo alguns matemáticos, prova por contradição é falta de imaginação, mas aqui nos contentaremos com esse tipo de demonstração. Notamos que todas as equações acima podem ser reescritas como uma única equação matricial:\n",
    "\\begin{equation}\n",
    "\\begin{bmatrix} |v_{1}\\rangle \\\\ |v_{2}\\rangle \\\\ \\vdots \\\\ |v_{s}\\rangle \\\\ |v_{s+1}\\rangle \\\\ \\vdots \\\\ |v_{r}\\rangle \\end{bmatrix}\n",
    "= \\begin{bmatrix} a_{1,1} & a_{1,2} & \\cdots & a_{1,s} \\\\  a_{2,1} & a_{2,2} & \\cdots & a_{2,s} \\\\ \\vdots & \\vdots & \\vdots & \\vdots \\\\ a_{s,1} & a_{s,2} & \\cdots & a_{s,s} \\\\ a_{s,1} & a_{s+1,2} & \\cdots & a_{s+1,s} \\\\  \\vdots & \\vdots & \\vdots & \\vdots  \\\\ a_{r,1} & a_{r,2} & \\cdots & a_{r,s} \\end{bmatrix}\\begin{bmatrix} |w_{1}\\rangle \\\\ |w_{2}\\rangle \\\\ \\vdots \\\\ |w_{s}\\rangle \\end{bmatrix}\n",
    "\\end{equation}"
   ]
  },
  {
   "cell_type": "markdown",
   "metadata": {},
   "source": [
    "Aplicando eliminação Gaussiana, podemos colocar o bloco de cima da matriz de coeficientes na forma \"diagonal normalizada\" (identidade). Lembrando, na eliminação Gaussiana trocamos uma linha por ela mais uma constante multiplicada por outra linha. Teremos assim\n",
    "\\begin{equation}\n",
    "\\begin{bmatrix} |v'_{1}\\rangle \\\\ |v'_{2}\\rangle \\\\ \\vdots \\\\ |v'_{s}\\rangle \\\\ |v_{s+1}\\rangle \\\\ \\vdots \\\\ |v_{r}\\rangle \\end{bmatrix}\n",
    "=\\begin{bmatrix} 1 & 0 & \\cdots & 0 \\\\  0 & 1 & \\cdots & 0 \\\\  \\vdots & \\vdots & \\vdots & \\vdots \\\\ 0 & 0 & \\cdots & 1 \\\\ a_{s,1} & a_{s+1,2} & \\cdots & a_{s+1,s} \\\\  \\vdots & \\vdots & \\vdots & \\vdots  \\\\ a_{r,1} & a_{r,2} & \\cdots & a_{r,s} \\end{bmatrix}\\begin{bmatrix} |w_{1}\\rangle \\\\ |w_{2}\\rangle \\\\ \\vdots \\\\ |w_{s}\\rangle \\end{bmatrix},\n",
    "\\end{equation}\n",
    "em que $\\{v'_{j}\\}_{j=1}^{s}$ são combinações lineares dos vetores $\\{v_{j}\\}_{j=1}^{s}$. Pode-se ver que os vetores $\\{|w_{j}\\rangle\\}_{j=1}^{s}$ não mudam pela eliminação Gaussiana pois para $j,l\\in\\{1,\\cdots,s\\}$ e $c\\in\\mathbb{F}$,\n",
    "\\begin{equation}\n",
    "|v_{j}\\rangle\\rightarrow|v_{j}\\rangle+c|v_{l}\\rangle \\equiv \\sum_{k=1}^{s}a_{j,k}|w_{k}\\rangle +c  \\sum_{k=1}^{s}a_{l,k}|w_{k}\\rangle=\\sum_{k=1}^{s}(a_{j,k}+ca_{l,k})|w_{k}\\rangle. \n",
    "\\end{equation}\n",
    "Depois de terminado o procedimento da eliminação Gaussinana teremos \n",
    "\\begin{equation}\n",
    "|v'_{j}\\rangle=|w_{j}\\rangle\\text{ para } j=1,\\cdots,s,\n",
    "\\end{equation}\n",
    "com (pelo processo de eliminação de Gauss)\n",
    "\\begin{equation}\n",
    "|v'_{j}\\rangle=\\sum_{m=1}^{s}b_{j,m}|v_{m}\\rangle\\text{ para } b_{j,m}\\in\\mathbb{F}.\n",
    "\\end{equation}\n",
    "Podemos escrever as linhas  para $n=s+1,\\cdots,r$ como segue \n",
    "\\begin{align}\n",
    "|v_{n}\\rangle & = \\sum_{k=1}^{s}a_{n,k}|w_{k}\\rangle = \\sum_{k=1}^{s}a_{n,k}|v'_{k}\\rangle  = \\sum_{k=1}^{s}a_{n,k}\\sum_{m=1}^{s}b_{k,m}|v_{m}\\rangle = \\sum_{m=1}^{s}\\left(\\sum_{k=1}^{s}a_{n,k}b_{k,m}\\right)|v_{m}\\rangle \\\\\n",
    "& = \\sum_{m=1}^{s}c_{n,m}|v_{m}\\rangle \n",
    "\\end{align}\n",
    "com $c_{n,m}\\in\\mathbb{F}$. Chegamos assim na conclusão contraditória de que o conjunto $\\{|v_{j}\\rangle\\}_{j=1}^{r}$ é LD. Portanto nossa suposição de que $r>s$ deve estar errada e devemos ter que $r\\le s$, completando assim a prova do teorema. $\\hspace{3cm}\\square$"
   ]
  },
  {
   "cell_type": "markdown",
   "metadata": {},
   "source": [
    "## Corolário\n",
    "Se $\\{|v_{j}\\rangle\\}_{j=1}^{r}$ e $\\{|w_{k}\\rangle\\}_{k=1}^{s}$ são duas bases para um espaço vetorial, então $r=s$.\n",
    "### Prova\n",
    "Como os dois conjuntos são bases, estes conjuntos são, individualmente, LI e cada vetor de um conjunto está na extensão do outro. Portanto, pelo teorema anterior, devemos ter $r\\ge s$ e $s\\ge r$, que somente são satisfeitas simultaneamente se $r=s$.\n",
    "\n",
    "## Dimensão\n",
    "A dimensão de um espaço vetorial é definida como o número de seus vetores LI que são necessários para gerar todos os seus vetores. Ou seja, $\\dim(V)=n$ se uma base de $V$ tiver $n$ vetores."
   ]
  },
  {
   "cell_type": "markdown",
   "metadata": {},
   "source": [
    "# Produto interno\n",
    "Uma função \n",
    "\\begin{equation}\n",
    "\\langle \\cdot|\\cdot\\rangle:V\\text{x}V\\rightarrow\\mathbb{C}\n",
    "\\end{equation}\n",
    "(leva dois vetores em um escalar) é uma função produto interno se satisfaz as seguintes propriedades:\n",
    "* $\\langle\\cdot|\\cdot\\rangle$ é linear no segundo argumento, i.e., para $|v\\rangle,|w_{j}\\rangle\\in V$ e $a_{j}\\in\\mathbb{F}$, devemos ter\n",
    "\\begin{equation}\n",
    "\\langle v|\\left(\\sum_{j}a_{j}|w_{j}\\rangle\\right) = \\sum_{j}a_{j}\\langle v|w_{j}\\rangle.\n",
    "\\end{equation}\n",
    "* Antisimetria por troca dos vetores, i.e., para $|v\\rangle,|w\\rangle\\in V$\n",
    "\\begin{equation}\n",
    "\\langle v|w\\rangle = (\\langle w|v\\rangle)^{*},\n",
    "\\end{equation}\n",
    "onde $*$ é o complexo conjugado.\n",
    "* Positividade, i.e., para $|v\\rangle\\in V$\n",
    "\\begin{equation}\n",
    "\\langle v|v\\rangle\\ge 0\\text{ e }\\langle v|v\\rangle=0\\Rightarrow |v\\rangle=|\\oslash\\rangle.\n",
    "\\end{equation}\n",
    "\n",
    "_OBS._ Usaremos com frequência a notação \n",
    "\\begin{equation}\n",
    "\\langle v|w\\rangle\\equiv(|v\\rangle,|w\\rangle)\n",
    "\\end{equation}\n",
    "para o produto interno de dois vetores quaisquer.\n",
    "\n",
    "Usando as propriedades do produto interno, podemos verificar que\n",
    "\\begin{equation}\n",
    "|\\langle v|w\\rangle|^{2} := \\langle v|w\\rangle\\langle v|w\\rangle^{*} = \\langle w|v\\rangle^{*}\\langle w|v\\rangle = |\\langle w|v\\rangle|^{2}.\n",
    "\\end{equation}"
   ]
  },
  {
   "cell_type": "markdown",
   "metadata": {},
   "source": [
    "##### Exemplo: $\\mathbb{C}^{n}$\n",
    "Para este espaço vetorial o produto interno é definido por\n",
    "\\begin{align}\n",
    "\\langle v|w\\rangle & := |v\\rangle^{\\dagger}|w\\rangle \\\\ \n",
    "& = \\begin{bmatrix} v_{1}^{*} & v_{2}^{*} & \\cdots & v_{n}^{*} \\end{bmatrix}\\begin{bmatrix} w_{1} \\\\ w_{2} \\\\ \\vdots \\\\ w_{n} \\end{bmatrix} = v_{1}^{*}w_{1}+v_{2}^{*}w_{2}+\\cdots+v_{n}^{*}w_{n} \\\\ \n",
    "&= \\sum_{j=1}^{n}v_{j}^{*}w_{j}.\n",
    "\\end{align}"
   ]
  },
  {
   "cell_type": "markdown",
   "metadata": {},
   "source": [
    "Vamos verificar que essa definição possui as propriedades acima. Começamos considerando\n",
    "\\begin{equation}\n",
    "|w\\rangle = \\sum_{j}a_{j}|w_{j}\\rangle = \\sum_{j}a_{j}\\begin{bmatrix} |w_{j}\\rangle_{1} \\\\ |w_{j}\\rangle_{2} \\\\ \\vdots \\\\ |w_{j}\\rangle_{n} \\end{bmatrix} = \\begin{bmatrix} \\sum_{j}a_{j}|w_{j}\\rangle_{1} \\\\ \\sum_{j}a_{j}|w_{j}\\rangle_{2} \\\\ \\vdots \\\\ \\sum_{j}a_{j}|w_{j}\\rangle_{n} \\end{bmatrix}.\n",
    "\\end{equation}\n",
    "Assim\n",
    "\\begin{equation}\n",
    "\\langle v|w\\rangle = \\sum_{k=1}^{n}v_{k}^{*}w_{k} = \\sum_{k=1}^{n}v_{k}^{*}\\sum_{j}a_{j}|w_{j}\\rangle_{k} = \\sum_{j}a_{j}\\sum_{k=1}^{n}v_{k}^{*}|w_{j}\\rangle_{k} = \\sum_{j}a_{j}\\langle v|w_{j}\\rangle.\n",
    "\\end{equation}\n",
    "Agora\n",
    "\\begin{equation}\n",
    "\\langle w|v\\rangle^{*} = \\left(\\sum_{j=1}^{n}w_{j}^{*}v_{j}\\right)^{*} = \\sum_{j=1}^{n}\\left(w_{j}^{*}v_{j}\\right)^{*} = \\sum_{j=1}^{n}(w_{j}^{*})^{*}v_{j}^{*} = \\sum_{j=1}^{n}v_{j}^{*}w_{j} = \\langle v|w\\rangle.\n",
    "\\end{equation}\n",
    "Finalmente\n",
    "\\begin{equation}\n",
    "\\langle v|v\\rangle = \\sum_{j=1}^{n}v_{j}^{*}v_{j} = \\sum_{j=1}^{n}|v_{j}|^{2} \\ge 0.\n",
    "\\end{equation}\n",
    "Como $|v_{j}|^{2}\\ge 0$, para que essa soma seja nula, devemos ter todos os $v_{j}=0$. Isso implicaria que $|v\\rangle=|\\oslash\\rangle$. "
   ]
  },
  {
   "cell_type": "markdown",
   "metadata": {},
   "source": [
    "## Traço\n",
    "O traço de uma matriz é uma função $Tr:\\mathbb{C}^{n\\text{x}n}\\rightarrow\\mathbb{C}$ definida como a soma dos elementos na diagonal principal de uma matriz:\n",
    "\\begin{equation}\n",
    "Tr(A):= \\sum_{j=1}^{n}A_{j,j}.\n",
    "\\end{equation}\n",
    "\n",
    "## Produto interno de Hilbert-Schmidt\n",
    "Essa é uma função \n",
    "\\begin{equation}\n",
    "\\langle\\cdot|\\cdot\\rangle_{hs}:\\mathbb{C}^{m\\text{x}n}\\text{x}\\mathbb{C}^{m\\text{x}n}\\rightarrow\\mathbb{C}\n",
    "\\end{equation}\n",
    "definida como\n",
    "\\begin{equation}\n",
    "\\langle A|B\\rangle_{hs} := Tr(A^{\\dagger}B) = \\sum_{j=1}^{n}(A^{\\dagger}B)_{j,j} = \\sum_{j=1}^{n}\\sum_{k=1}^{m}(A^{\\dagger})_{j,k}B_{k,j} = \\sum_{j=1}^{n}\\sum_{k=1}^{m}A_{k,j}^{*}B_{k,j}.\n",
    "\\end{equation}\n",
    "\n",
    "##### Exemplo\n",
    "Vamos calcular o produto interno de Hilbert-Schmidt entre as matrizes $A=\\sigma_{x}=\\begin{bmatrix} 0 & 1 \\\\ 1 & 0 \\end{bmatrix}$ e $B=\\sigma_{y}=\\begin{bmatrix} 0 & -i \\\\ i & 0 \\end{bmatrix}$:\n",
    "\\begin{align}\n",
    "\\langle\\sigma_{x}|\\sigma_{y}\\rangle_{hs} &= Tr(\\sigma_{x}^{\\dagger}\\sigma_{y}) = Tr\\left(\\begin{bmatrix} 0 & 1 \\\\ 1 & 0 \\end{bmatrix}^{\\dagger}\\begin{bmatrix} 0 & -i \\\\ i & 0 \\end{bmatrix}\\right) = Tr\\left(\\begin{bmatrix} 0 & 1 \\\\ 1 & 0 \\end{bmatrix}\\begin{bmatrix} 0 & -i \\\\ i & 0 \\end{bmatrix}\\right) \\\\\n",
    "&= Tr\\left(\\begin{bmatrix} i & 0 \\\\ 0 & -i \\end{bmatrix}\\right) = 0.\n",
    "\\end{align}"
   ]
  },
  {
   "cell_type": "code",
   "execution_count": 8,
   "metadata": {},
   "outputs": [
    {
     "data": {
      "image/png": "[encoded data removed]",
      "text/latex": [
       "$\\displaystyle \\left( 0, \\  0, \\  0, \\  2, \\  2.0, \\  2\\right)$"
      ],
      "text/plain": [
       "(0, 0, 0, 2, 2.0, 2)"
      ]
     },
     "execution_count": 8,
     "metadata": {},
     "output_type": "execute_result"
    }
   ],
   "source": [
    "from sympy import conjugate\n",
    "\n",
    "def pauli(j):\n",
    "    if j == 1:\n",
    "        return Matrix([[0,1],[1,0]])\n",
    "    if j == 2:\n",
    "        return Matrix([[0,-1j],[1j,0]])\n",
    "    if j == 3:\n",
    "        return Matrix([[1,0],[0,-1]])\n",
    "\n",
    "def inner_product_hs(A,B): # A=A(m,n), B=B(m,n)\n",
    "    m = A.shape[0]; n = A.shape[1]; ip = 0\n",
    "    for j in range(0,n):\n",
    "        for k in range(0,m):\n",
    "            ip += conjugate(A[k,j])*B[k,j]\n",
    "    return ip\n",
    "\n",
    "inner_product_hs(pauli(1),pauli(2)), inner_product_hs(pauli(1),pauli(3)), inner_product_hs(pauli(2),pauli(3)), \\\n",
    "inner_product_hs(pauli(1),pauli(1)), inner_product_hs(pauli(2),pauli(2)), inner_product_hs(pauli(3),pauli(3))"
   ]
  },
  {
   "cell_type": "markdown",
   "metadata": {},
   "source": [
    "### Produto interno de $\\mathbb{C}^{m}$ como um caso particular daquele de $\\mathbb{C}^{m\\text{x}n}$\n",
    "Os elementos de $\\mathbb{C}^{m}$ podem ser identificados com os elementos de $\\mathbb{C}^{m\\text{x}n}$ se fazemos $n=1$. Nesse caso teremos\n",
    "\\begin{align}\n",
    "\\langle A|B\\rangle_{hs} &= \\sum_{j=1}^{1}\\sum_{k=1}^{m}A_{k,j}^{*}B_{k,j} = \\sum_{k=1}^{m}A_{k,1}^{*}B_{k,1} = \\begin{bmatrix} A_{1,1} \\\\ \\vdots \\\\ A_{m,1} \\end{bmatrix}^{\\dagger}\\begin{bmatrix} B_{1,1} \\\\ \\vdots \\\\ B_{m,1} \\end{bmatrix} \\\\\n",
    "&\\equiv |a\\rangle^{\\dagger}|b\\rangle,\n",
    "\\end{align}\n",
    "com $|a\\rangle:=\\begin{bmatrix} A_{1,1} & \\cdots & A_{m,1}\\end{bmatrix}^{T}$ e $|b\\rangle:=\\begin{bmatrix} B_{1,1} & \\cdots & B_{m,1}\\end{bmatrix}^{T}$."
   ]
  },
  {
   "cell_type": "markdown",
   "metadata": {},
   "source": [
    "## Ortogonalidade\n",
    "Dois vetores $|v\\rangle$ e $|w\\rangle$ são ditos ortogonais se\n",
    "\\begin{equation}\n",
    "\\langle v|w\\rangle = 0.\n",
    "\\end{equation}\n",
    "\n",
    "##### Exemplos\n",
    "Os vetores $|v\\rangle = \\begin{bmatrix} 1 & i \\end{bmatrix}^{T}$ e $|w\\rangle = \\begin{bmatrix} 1 & -i \\end{bmatrix}^{T}$ são ortogonais pois\n",
    "\\begin{equation}\n",
    "\\langle v|w\\rangle = |v\\rangle^{\\dagger}|w\\rangle = \\begin{bmatrix} 1 & -i \\end{bmatrix}\\begin{bmatrix} 1 \\\\ -i \\end{bmatrix} = 1+i^{2}=1-1=0.\n",
    "\\end{equation}\n",
    "Já os vetores $|x\\rangle = \\begin{bmatrix} 1 & 1 \\end{bmatrix}^{T}$ e $|y\\rangle = \\begin{bmatrix} 1 & 0 \\end{bmatrix}^{T}$ não são ortogonais pois\n",
    "\\begin{equation}\n",
    "\\langle x|y\\rangle = |x\\rangle^{\\dagger}|y\\rangle = \\begin{bmatrix} 1 & 1 \\end{bmatrix}\\begin{bmatrix} 1 \\\\ 0 \\end{bmatrix} = 1\\ne 0.\n",
    "\\end{equation}"
   ]
  },
  {
   "cell_type": "markdown",
   "metadata": {},
   "source": [
    "## Norma\n",
    "A norma (\"tamanho\") de um vetor $|v\\rangle$ é definida como a raiz quadrada do produto interno do vetor com ele mesmo:\n",
    "\\begin{equation}\n",
    "||v|| := \\sqrt{\\langle v|v\\rangle}.\n",
    "\\end{equation}\n",
    "\n",
    "##### Exemplos \n",
    "Para $|v\\rangle\\in\\mathbb{C}^{n}$ teremos\n",
    "\\begin{equation}\n",
    "||v||=\\sqrt{\\langle v|v\\rangle} = \\sqrt{\\sum_{j=1}^{n}v_{j}^{*}v_{j}} = \\sqrt{\\sum_{j=1}^{n}|v_{j}|^{2}}.\n",
    "\\end{equation}\n",
    "Para o vetor $|v\\rangle=\\begin{bmatrix}1&i\\end{bmatrix}$ temos $||v||=\\sqrt{|1|^{2}+|i|^{2}}=\\sqrt{2}$.\n",
    "\n",
    "Já para $|A\\rangle\\in\\mathbb{C}^{mxn}$ teremos\n",
    "\\begin{equation}\n",
    "||A||_{hs}=\\sqrt{\\langle A|A\\rangle_{hs}} = \\sqrt{\\sum_{j=1}^{m}\\sum_{k=1}^{n}A_{j,k}^{*}A_{j,k}} =\\sqrt{\\sum_{j=1}^{m}\\sum_{k=1}^{n}|A_{j,k}|^{2}}.\n",
    "\\end{equation}\n",
    "Para a matriz $|A\\rangle=\\begin{bmatrix}0&-i\\\\i&0\\end{bmatrix}$ temos $||A||_{hs}=\\sqrt{0+|-i|^{2}+|i|^{2}+0}=\\sqrt{2}$."
   ]
  },
  {
   "cell_type": "markdown",
   "metadata": {},
   "source": [
    "## Ortogonalização de Gram-Schmidt\n",
    "Dado um conjunto de vetores LI $\\{|v_{j}\\rangle\\}_{j=1}^{n}$, o procedimento de GS descrito abaixo pode ser utilizado para obtermos um conjunto $\\{|w_{j}\\rangle\\}_{j=1}^{n}$ ortonormal, i.e., $\\langle w_{j}|w_{k}\\rangle=\\delta_{j,k}$. O algoritmo é o seguinte:\n",
    "1. Primeiro normalizamos $|v_{1}\\rangle$, i.e., fazemos\n",
    "\\begin{equation}\n",
    "|w_{1}\\rangle:=\\frac{|v_{1}\\rangle}{||v_{1}||}.\n",
    "\\end{equation}\n",
    "Assim\n",
    "\\begin{equation}\n",
    "||w_{1}||=\\sqrt{\\langle w_{1}|w_{1}\\rangle} = \\sqrt{\\frac{\\langle v_{1}|}{||v_{1}||}\\frac{|v_{1}\\rangle}{||v_{1}||}}=\\sqrt{\\frac{\\langle v_{1}|v_{1}\\rangle}{||v_{1}||^{2}}}=\\sqrt{\\frac{||v_{1}||^{2}}{||v_{1}||^{2}}}=1.\n",
    "\\end{equation}\n",
    "2. Agora subtraímos a \"componente\" que $|v_{2}\\rangle$ possui na \"direção\" de $|w_{1}\\rangle$ e normalizamos o vetor obtido, i.e.,\n",
    "\\begin{equation}\n",
    "|w_{2}\\rangle := \\frac{|v_{2}\\rangle-\\langle w_{1}|v_{2}\\rangle|w_{1}\\rangle}{||(|v_{2}\\rangle-\\langle w_{1}|v_{2}\\rangle|w_{1}\\rangle)||}.\n",
    "\\end{equation}\n",
    "Esse vetor é normalizado e ortogonal a $|w_{1}\\rangle$:\n",
    "\\begin{equation}\n",
    "\\langle w_{1}|w_{2}\\rangle \\propto \\langle w_{1}|v_{2}\\rangle-\\langle w_{1}|v_{2}\\rangle\\langle w_{1}|w_{1}\\rangle=0.\n",
    "\\end{equation}\n",
    "3. Seguindo, subtraímos a \"componente\" que $|v_{3}\\rangle$ possui na \"direção\" de $|w_{1}\\rangle$ e de $|w_{2}\\rangle$ e normalizamos o vetor obtido, i.e.,\n",
    "\\begin{equation}\n",
    "|w_{3}\\rangle := \\frac{|v_{3}\\rangle-\\langle w_{1}|v_{3}\\rangle|w_{1}\\rangle-\\langle w_{2}|v_{3}\\rangle|w_{2}\\rangle}{||(|v_{3}\\rangle-\\langle w_{1}|v_{3}\\rangle|w_{1}\\rangle-\\langle w_{2}|v_{3}\\rangle|w_{2}\\rangle)||}.\n",
    "\\end{equation}\n",
    "Esse vetor é normalizado e ortogonal a $|w_{1}\\rangle$ e a $|w_{2}\\rangle$:\n",
    "\\begin{align}\n",
    "& \\langle w_{1}|w_{3}\\rangle \\propto \\langle w_{1}|v_{3}\\rangle-\\langle w_{1}|v_{3}\\rangle\\langle w_{1}|w_{1}\\rangle-\\langle w_{2}|v_{3}\\rangle\\langle w_{1}|w_{2}\\rangle=0, \\\\\n",
    "& \\langle w_{2}|w_{3}\\rangle \\propto \\langle w_{2}|v_{3}\\rangle-\\langle w_{1}|v_{3}\\rangle\\langle w_{2}|w_{1}\\rangle-\\langle w_{2}|v_{3}\\rangle\\langle w_{2}|w_{2}\\rangle=0.\n",
    "\\end{align}\n",
    "4. Para os outros $j=4,\\cdots,n$ vetores, usa a mesma ideia, i.e., subtrai a componente na diração dos $|w_{k<j}\\rangle$ e normaliza:\n",
    "\\begin{equation}\n",
    "|w_{j}\\rangle := \\frac{|v_{j}\\rangle-\\sum_{k=1}^{j-1}\\langle w_{k}|v_{j}\\rangle|w_{k}\\rangle}{||(|v_{j}\\rangle-\\sum_{k=1}^{j-1}\\langle w_{k}|v_{j}\\rangle|w_{k}\\rangle)||}.\n",
    "\\end{equation}\n",
    "Abaixo está um programa que, fornecido o conjunto LI como as colunas de uma matrix $A$, este retorna o conjunto ortonormal nas colunas da matriz $B$. "
   ]
  },
  {
   "cell_type": "code",
   "execution_count": 13,
   "metadata": {},
   "outputs": [
    {
     "data": {
      "image/png": "[encoded data removed]",
      "text/latex": [
       "$\\displaystyle \\left[\\begin{matrix}\\frac{\\sqrt{2}}{2} & \\frac{\\sqrt{2}}{2}\\\\\\frac{\\sqrt{2}}{2} & - \\frac{\\sqrt{2}}{2}\\end{matrix}\\right]$"
      ],
      "text/plain": [
       "⎡√2   √2 ⎤\n",
       "⎢──   ── ⎥\n",
       "⎢2    2  ⎥\n",
       "⎢        ⎥\n",
       "⎢√2  -√2 ⎥\n",
       "⎢──  ────⎥\n",
       "⎣2    2  ⎦"
      ]
     },
     "execution_count": 13,
     "metadata": {},
     "output_type": "execute_result"
    }
   ],
   "source": [
    "from sympy import zeros, sqrt\n",
    "\n",
    "def inner_product(v,w):\n",
    "    d = len(v); ip = 0\n",
    "    for j in range(0,d):\n",
    "        ip += conjugate(v[j])*w[j]\n",
    "    return ip\n",
    "\n",
    "def norm(v):\n",
    "    d = len(v)\n",
    "    return sqrt(inner_product(v,v))\n",
    "\n",
    "# A=A[m,n], os vetores LI são colocados como colunas de A \n",
    "def gram_schmidt(A): \n",
    "    m = A.shape[0];  n = A.shape[1]; B = zeros(m,n); \n",
    "    B[:,0] = A[:,0]/norm(A[:,0])\n",
    "    for j in range(1,n):\n",
    "        B[:,j] = A[:,j]\n",
    "        for k in range(0,j):\n",
    "            B[:,j] -= inner_product(B[:,k],A[:,j])*B[:,k]\n",
    "        B[:,j] /= norm(B[:,j])\n",
    "    return B\n",
    "\n",
    "v1 = Matrix([[1],[1]]);  v2 = Matrix([[1],[-1]]); A = zeros(2,2)\n",
    "# coloca os vetores como as colunas de A\n",
    "A[:,0] = v1[:,0];  A[:,1] = v2[:,0]  \n",
    "gram_schmidt(A)"
   ]
  },
  {
   "cell_type": "markdown",
   "metadata": {},
   "source": [
    "## Decomposição de um vetor em uma base ortonormal\n",
    "Consideremos um vetor qualquer $|v\\rangle\\in V$ decomposto em uma base ortonormal $\\{|b_{j}\\rangle\\}_{j=1}^{\\dim V}$ para $V$ como\n",
    "\\begin{equation}\n",
    "|v\\rangle = \\sum_{j=1}^{\\dim V}v_{b_{j}}|b_{j}\\rangle,\n",
    "\\end{equation}\n",
    "com $v_{j}\\in\\mathbb{F}$. Teremos então que os coeficientes desta expansão são\n",
    "\\begin{equation}\n",
    "\\langle b_{k}|v\\rangle = \\langle b_{k}|\\left(\\sum_{j=1}^{\\dim V}v_{j}|b_{j}\\rangle\\right) = \\sum_{j=1}^{\\dim V}v_{j}\\langle b_{k}|b_{j}\\rangle = \\sum_{j=1}^{\\dim V}v_{j}\\delta_{k,j} = v_{b_{k}}.\n",
    "\\end{equation}\n",
    "Ou seja\n",
    "\\begin{equation}\n",
    "|v\\rangle = \\sum_{j=1}^{\\dim V}\\langle b_{j}|v\\rangle|b_{j}\\rangle.\n",
    "\\end{equation}\n",
    "\n",
    "##### Exemplo\n",
    "Para o vetor $|v\\rangle=\\begin{bmatrix} a & b \\end{bmatrix}^{T}$ expandido na base $\\left\\{|b_{1}\\rangle=2^{-1/2}\\begin{bmatrix} 1 & i \\end{bmatrix}^{T},|b_{2}\\rangle=2^{-1/2}\\begin{bmatrix} 1 & -i \\end{bmatrix}^{T}\\right\\}$ teremos os coeficientes\n",
    "\\begin{align}\n",
    "v_{b_{1}} &= \\langle b_{1}|v\\rangle = |b_{1}\\rangle^{\\dagger}|v\\rangle = \\left(\\frac{1}{\\sqrt{2}}\\begin{bmatrix}1\\\\i\\end{bmatrix}\\right)^{\\dagger}\\begin{bmatrix}a\\\\b\\end{bmatrix} = \\frac{1}{\\sqrt{2}}\\begin{bmatrix}1& -i\\end{bmatrix}\\begin{bmatrix}a\\\\b\\end{bmatrix} \\\\\n",
    "&= \\frac{a-ib}{\\sqrt{2}}, \\\\\n",
    "v_{b_{2}} &= \\langle b_{2}|v\\rangle = |b_{2}\\rangle^{\\dagger}|v\\rangle = \\left(\\frac{1}{\\sqrt{2}}\\begin{bmatrix}1\\\\-i\\end{bmatrix}\\right)^{\\dagger}\\begin{bmatrix}a\\\\b\\end{bmatrix} = \\frac{1}{\\sqrt{2}}\\begin{bmatrix}1& +i\\end{bmatrix}\\begin{bmatrix}a\\\\b\\end{bmatrix} \\\\\n",
    "&= \\frac{a+ib}{\\sqrt{2}}.\n",
    "\\end{align}\n",
    "Verificação:\n",
    "\\begin{align}\n",
    "|v\\rangle &= v_{b_{1}}|b_{1}\\rangle + v_{b_{2}}|b_{2}\\rangle = \\frac{a-ib}{\\sqrt{2}}\\frac{1}{\\sqrt{2}}\\begin{bmatrix} 1 \\\\ i \\end{bmatrix} + \\frac{a+ib}{\\sqrt{2}}\\frac{1}{\\sqrt{2}}\\begin{bmatrix} 1 \\\\ -i \\end{bmatrix} \\\\\n",
    "&= \\frac{1}{2}\\begin{bmatrix} a-ib+a+ib \\\\ i(a-ib-a-ib) \\end{bmatrix} = \\begin{bmatrix} a \\\\ b \\end{bmatrix}.\n",
    "\\end{align}"
   ]
  },
  {
   "cell_type": "markdown",
   "metadata": {},
   "source": [
    "## Espaço de Hilbert (=espaço vetorial + produto interno)\n",
    "Consideraremos estes espaços como sendo espaços vetoriais munidos de uma função produto interno. O exemplo de espaço de Hilbert mais simples em Mecânica Quântica (MQ) é aquele usado para descrever \"sistemas discretos\":\n",
    "\\begin{equation}\n",
    "\\mathcal{H}=\\left(\\mathbb{C}^{n},\\langle\\psi|\\phi\\rangle=|\\psi\\rangle^{\\dagger}|\\phi\\rangle\\right).\n",
    "\\end{equation}\n",
    "Já para tópicos avançados da MQ, tais como computação quântica, é comum usarmos \n",
    "\\begin{equation}\n",
    "\\mathcal{H}=\\left(\\mathbb{C}^{n\\text{x}n},\\langle A|B\\rangle_{hs}=Tr(A^{\\dagger}B)\\right).\n",
    "\\end{equation}\n",
    "Em ambos os casos aparece frequentemente o uso do espaço de funções\n",
    "\\begin{equation}\n",
    "\\mathcal{H}=\\left(f,g:\\mathbb{C}^{n}\\rightarrow\\mathbb{C},\\langle f(\\vec{x})|g(\\vec{x})\\rangle=\\int d\\vec{x}f^{*}(\\vec{x})g(\\vec{x})\\right).\n",
    "\\end{equation}\n",
    "\n",
    "OBS. Formalmente esses espaços são chamados de __espaços unitários__."
   ]
  },
  {
   "cell_type": "markdown",
   "metadata": {},
   "source": [
    "## Desigualdade de Cauchy-Schwarz\n",
    "### Teorema\n",
    "Para quaisquer dois vetores não nulos $|v\\rangle,|w\\rangle\\in\\mathcal{H}$, segue que\n",
    "\\begin{equation}\n",
    "\\langle v|v\\rangle\\langle w|w\\rangle \\ge \\langle v|w\\rangle\\langle w|v\\rangle,\n",
    "\\end{equation}\n",
    "com igualdade obtida se e somente se  $|v\\rangle$ e $|w\\rangle$ forem proporcionais (colineares).\n",
    "\n",
    "#### Prova\n",
    "Para provar essa desigualdade, utilizaremos a positividade do produto interno, i.e., \n",
    "\\begin{equation}\n",
    "\\langle x|x\\rangle\\ge 0\\text{ }\\forall|x\\rangle\\in\\mathcal{H},\n",
    "\\end{equation}\n",
    "com a definição apropriada para este vetor: \n",
    "\\begin{equation}\n",
    "|x\\rangle=|v\\rangle+c|w\\rangle \\text{, com } c\\in\\mathbb{F}.\n",
    "\\end{equation}\n",
    "Teremos assim que\n",
    "\\begin{align}\n",
    "0 & \\le \\langle x|x\\rangle = (|v\\rangle+c|w\\rangle,|v\\rangle+c|w\\rangle) \\\\\n",
    "& = \\langle v|v\\rangle + c^{*}\\langle w|v\\rangle + c\\langle v|w\\rangle + cc^{*}\\langle w|w\\rangle. \n",
    "\\end{align}\n",
    "Tendo em vista o que queremos provar, definiremos \n",
    "\\begin{equation}\n",
    "c:=-\\frac{\\langle w|v\\rangle}{\\langle w|w\\rangle}.\n",
    "\\end{equation}\n",
    "Vem assim que\n",
    "\\begin{align}\n",
    "0 & \\le \\langle v|v\\rangle - \\frac{\\langle w|v\\rangle^{*}}{\\langle w|w\\rangle}\\langle w|v\\rangle - \\frac{\\langle w|v\\rangle}{\\langle w|w\\rangle}\\langle v|w\\rangle + \\frac{\\langle w|v\\rangle}{\\langle w|w\\rangle}\\frac{\\langle w|v\\rangle^{*}}{\\langle w|w\\rangle}\\langle w|w\\rangle \\\\\n",
    "& = \\langle v|v\\rangle - \\frac{|\\langle w|v\\rangle|^{2}}{\\langle w|w\\rangle} - \\frac{|\\langle w|v\\rangle|^{2}}{\\langle w|w\\rangle} + \\frac{|\\langle w|v\\rangle|^{2}}{\\langle w|w\\rangle^{2}}\\langle w|w\\rangle \\\\\n",
    "& = \\langle v|v\\rangle - \\frac{|\\langle w|v\\rangle|^{2}}{\\langle w|w\\rangle}.\n",
    "\\end{align}\n",
    "Multiplicando toda equação por $\\langle w|w\\rangle$ completaremos a verificação de que $\\langle v|v\\rangle\\langle w|w\\rangle - |\\langle v|w\\rangle|^{2} \\ge 0.$\n",
    "\n",
    "Fica como exercício mostrar que a igualdade é obtida se e somente se os vetores são proporcionais. \n",
    "\n",
    "Com isso completamos a prova do teorema. $\\hspace{3cm}\\square$"
   ]
  },
  {
   "cell_type": "markdown",
   "metadata": {},
   "source": [
    "## Subespaço vetorial\n",
    "Seja $V$ é um espaço vetorial, então o sub-conjunto $W\\subseteq V$ é um sub-espaço de $V$ se também for um espaço vetorial sob as mesmas operações de soma e multiplicação por escalar de $V$.\n",
    "\n",
    "##### Exemplo\n",
    "$\\mathbb{C}^{3}$ é o conjunto de todas as listas com três números complexos\n",
    "\\begin{equation}\n",
    "\\begin{bmatrix}c_{1}\\\\c_{2}\\\\c_{3}\\end{bmatrix},\n",
    "\\end{equation}\n",
    "com $c_{j}\\in\\mathbb{C}$ para $j=1,2,3$.\n",
    "Já $\\mathbb{C}^{2}$ é o conjunto de todas as listas com dois números complexos\n",
    "\\begin{equation}\n",
    "\\begin{bmatrix}c_{1}\\\\c_{2}\\end{bmatrix}.\n",
    "\\end{equation}\n",
    "Estas listas podem ser mapeadas de forma única nas listas com três números complexos se fixamos $c_{3}=0$:\n",
    "\\begin{equation}\n",
    "\\begin{bmatrix}c_{1}\\\\c_{2}\\end{bmatrix}\\rightarrow\\begin{bmatrix}c_{1}\\\\c_{2}\\\\0\\end{bmatrix}.\n",
    "\\end{equation}\n",
    "Esse novo conjunto $(W\\equiv\\mathbb{C}^{2})\\subseteq\\mathbb{C}^{3}$. Não é difícil ver que $W$ é um espaço vetorial sob as operações de soma e multiplicação por escalar de $\\mathbb{C}^{n}$. Por conseguinte, $\\mathbb{C}^{2}$ é um subespaço vetorial de $\\mathbb{C}^{3}$."
   ]
  },
  {
   "cell_type": "markdown",
   "metadata": {},
   "source": [
    "---\n",
    "# Exercícios\n",
    "\n",
    "1. Considerando o corpo escalar  $\\mathbb{C}$, obtenha o elemento inverso da multiplicação de um elemento qualquer $z\\in\\mathbb{C}$.\n",
    "\n",
    "1. Forneça as definições de soma e de multiplicação por escalar que fazem de $\\mathbb{C}^{m\\text{x}n}$, o conjunto de matrizes complexas $m\\text{x}n$, um espaço vetorial.\n",
    "\n",
    "1. Para as operações fornecidas no último exercício,  verifique que $\\mathbb{C}^{m\\text{x}n}$ satisfaz as propriedades requeridas para que seja um espaço vetorial.\n",
    "\n",
    "1. Verifique que o conjunto de vetores $\\left\\{|w_{1}\\rangle=\\begin{bmatrix} 17 & 19 \\end{bmatrix}^{T},|w_{2}\\rangle=\\begin{bmatrix} 23 & 29 \\end{bmatrix}^{T}\\right\\}$ é LI enquanto que o conjunto de vetores $\\left\\{|w_{1}\\rangle=\\begin{bmatrix} 17 & 19 \\end{bmatrix}^{T},|w_{2}\\rangle=\\begin{bmatrix} 23 & 29 \\end{bmatrix}^{T},|w_{3}\\rangle=\\begin{bmatrix} 31 & 37 \\end{bmatrix}^{T}\\right\\}$ é LD.\n",
    "\n",
    "1. Qual é a extensão do conjunto de vetores $\\left\\{|w_{1}\\rangle=\\begin{bmatrix} 17 & 19 \\end{bmatrix}^{T},|w_{2}\\rangle=\\begin{bmatrix} 23 & 29 \\end{bmatrix}^{T}\\right\\}$?\n",
    "\n",
    "1. O conjunto de vetores $\\left\\{|w_{1}\\rangle=\\begin{bmatrix} 17 & 19 \\end{bmatrix}^{T},|w_{2}\\rangle=\\begin{bmatrix} 23 & 29 \\end{bmatrix}^{T}\\right\\}$ forma uma base para o espaço vetorial $\\mathbb{C}^{2}$?\n",
    "\n",
    "1. A partir das propriedades básicas da função produto interno, prove que esta é anti-linear no primeiro argumento, ou seja, verifique que se $|w\\rangle=\\sum_{j}a_{j}|w_{j}\\rangle$ então $\\langle w|v\\rangle = \\sum_{j}a_{j}^{*}\\langle w_{j}|v\\rangle$.\n",
    "\n",
    "1. Calcule o produto interno entre os vetores de $\\mathbb{C}^{2}$: $|v_{1}\\rangle=\\begin{bmatrix} 1 & i \\end{bmatrix}^{T}$ e $|v_{2}\\rangle=\\begin{bmatrix} 1 & -i \\end{bmatrix}^{T}$.\n",
    "\n",
    "1. Verificar que o produto interno de Hilbert-Schmidt satisfaz as propriedades necessárias para uma função ser um produto interno.\n",
    "\n",
    "1. Calcule a norma do vetor de $\\mathbb{C}^{2}$: $|v\\rangle=\\begin{bmatrix} 1/\\sqrt{2} & -i/\\sqrt{2} \\end{bmatrix}^{T}$.\n",
    "\n",
    "1. Calcule a norma de Hilbert-Schmidt da matriz de $\\mathbb{C}^{2\\text{x}2}$: $B=\\frac{1}{\\sqrt{2}}\\begin{bmatrix} 1 & 1 \\\\ 1 & -1 \\end{bmatrix}$.\n",
    "\n",
    "1. Use o procedimento de Gram-Schmidt para ortonormalizar os seguintes vetores LI de $\\mathbb{C}^{2}$: $|v_{1}\\rangle = \\begin{bmatrix} 1 & 0\\end{bmatrix}^{T}$ e $|v_{2}\\rangle = \\begin{bmatrix} 1 & -1\\end{bmatrix}^{T}$.\n",
    "\n",
    "1. Quais são os coeficientes da expansão do vetor (da matriz) $A=\\begin{bmatrix} a & b \\\\ c & d \\end{bmatrix}\\in\\mathbb{C}^{2\\text{x}2}$ na base ortonormal $\\left\\{\\Gamma_{0}=\\frac{1}{\\sqrt{2}}\\begin{bmatrix} 1 & 0 \\\\ 0 & 1 \\end{bmatrix},\\Gamma_{1}=\\frac{1}{\\sqrt{2}}\\begin{bmatrix} 0 & 1 \\\\ 1 & 0 \\end{bmatrix}, \\Gamma_{2}=\\frac{1}{\\sqrt{2}}\\begin{bmatrix} 0 & -i \\\\ i & 0 \\end{bmatrix}, \\Gamma_{3}=\\frac{1}{\\sqrt{2}}\\begin{bmatrix} 1 & 0 \\\\ 0 & -1 \\end{bmatrix}\\right\\}$?\n",
    "\n",
    "1. Mostre que a igualdade é obtida na desigualdade de Cauchy-Schwarz se e somente se os dois vetores forem proporcionais (i.e., se tiverem a mesma direção: $|v\\rangle=\\beta|w\\rangle$ com $\\beta\\in\\mathbb{C}$).\n",
    "\n",
    "1. Forneça um exemplo de subespaço para o espaço vetorial $\\mathbb{C}^{4\\text{x}4}$. Qual é a dimensão desse espaço vetorial? Qual é dimensão do subespaço que você escolheu como exemplo?"
   ]
  },
  {
   "cell_type": "code",
   "execution_count": null,
   "metadata": {},
   "outputs": [],
   "source": []
  }
 ],
 "metadata": {
  "kernelspec": {
   "display_name": "Python 3 (ipykernel)",
   "language": "python",
   "name": "python3"
  },
  "language_info": {
   "codemirror_mode": {
    "name": "ipython",
    "version": 3
   },
   "file_extension": ".py",
   "mimetype": "text/x-python",
   "name": "python",
   "nbconvert_exporter": "python",
   "pygments_lexer": "ipython3",
   "version": "3.11.1"
  }
 },
 "nbformat": 4,
 "nbformat_minor": 4
}
