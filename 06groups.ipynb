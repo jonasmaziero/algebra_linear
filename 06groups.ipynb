{
 "cells": [
  {
   "cell_type": "markdown",
   "metadata": {},
   "source": [
    "# Teoria de grupos\n"
   ]
  },
  {
   "cell_type": "markdown",
   "metadata": {},
   "source": [
    "## Grupo\n",
    "Um conjunto de objetos $G=\\{g_{1},g_{2},\\cdots,g_{|G|}\\}$ forma um grupo sob a operação de composição $\\cdot$ se:\n",
    "* A composição de quaisquer dois elementos do cojunto é um elemento do conjunto:\n",
    "\\begin{equation}\n",
    "g_{j}\\cdot g_{k}\\in G\\text{, }\\forall g_{j},g_{k}\\in G.\n",
    "\\end{equation}\n",
    "\n",
    "* A composição de elementos do grupo é associativa:\n",
    "\\begin{equation}\n",
    "g_{j}\\cdot(g_{k}\\cdot g_{l})=(g_{j}\\cdot g_{k})\\cdot g_{l}\\text{, }\\forall g_{j},g_{k},g_{l}\\in G.\n",
    "\\end{equation}\n",
    "\n",
    "* Existe o elemento identidade $e$ tal que\n",
    "\\begin{equation}\n",
    "g_{j}\\cdot e=e\\cdot g_{j}=g_{j}\\text{, }\\forall g_{j}\\in G.\n",
    "\\end{equation}\n",
    "\n",
    "* Para qualquer elemento $g_{j}\\in G$ existe o elemento inverso $g_{j}^{-1}\\in G$ tal que\n",
    "\\begin{equation}\n",
    "g_{j}\\cdot g_{j}^{-1}=g_{j}^{-1}\\cdot g_{j}=e.\n",
    "\\end{equation}\n",
    "\n",
    "_OBS:_ A __ordem__ de um grupo $(G,\\cdot)$, denotada por $|G|$, é números de seus elementos distintos.\n",
    "\n",
    "__Exercício:__ Verifique que para quaisquer dois elementos $g_{j},g_{k}$ de um grupo $(G,\\cdot)$,\n",
    "\\begin{equation}\n",
    "(g_{j}\\cdot g_{k})^{-1}=g_{k}^{-1}\\cdot g_{j}^{-1}.\n",
    "\\end{equation}"
   ]
  },
  {
   "cell_type": "markdown",
   "metadata": {},
   "source": [
    "## Teorema do rearranjamento\n",
    "Seja $G=\\{g_{1},g_{2},\\cdots,g_{|G|}\\}$ um grupo sob a operação $\\cdot$. Para um elemento qualquer $g_{j}\\in G$ teremos\n",
    "\\begin{equation}\n",
    "g_{j}\\cdot G := \\{g_{j}\\cdot g_{1},g_{j}\\cdot g_{2},\\cdots,g_{j}\\cdot g_{|G|}\\}\\equiv G.\n",
    "\\end{equation}\n",
    "\n",
    "### Prova\n",
    "Primeiro, notemos que todos os elementos do conjunto $\\{g_{j}\\cdot g_{k}\\}_{k=1}^{|G|}$ estão em $G$. Então se verificarmos que não há repetição de elementos naquele conjunto, teremos que ele é igual a $G$. Vamos provar isso por contradição. Consideremos dois elementos diferentes $g_{k},g_{l}\\in G$ (i.e. $g_{k}\\ne g_{l}$) e assumimos que $g_{j}\\cdot g_{k}=g_{j}\\cdot g_{l}$. Pela existência do elemento inverso, teremos\n",
    "\\begin{align}\n",
    "& g_{j}^{-1}\\cdot g_{j}\\cdot g_{k}=g_{j}^{-1}\\cdot g_{j}\\cdot g_{l} \\\\\n",
    "& \\Rightarrow e\\cdot g_{k}=e\\cdot g_{l}\\Rightarrow g_{k}=g_{l},\n",
    "\\end{align}\n",
    "o que contradiz nossa suposição inicial. Portanto, se $g_{k}\\ne g_{l}$ devemos ter $g_{j}\\cdot g_{k}\\ne g_{j}\\cdot g_{l}$, concluindo assim a prova do teorema."
   ]
  },
  {
   "cell_type": "markdown",
   "metadata": {},
   "source": [
    "## Subgrupo\n",
    "Seja $(G,\\cdot)$ um grupo. Se um subconjunto $H$ de $G$ forma um grupo sob a mesma operação $\\cdot$ de $G$, então dizemos que $H$ é um subgrupo de $G$.\n",
    "\n",
    "_OBS:_ Para verificação se um certo $H$ é um subgrupo de $G$, alguns requerimentos são satisfeitos automaticamente (elemento identidade e associatividade). \n",
    "\n",
    "### Subgrupos triviais e próprios\n",
    "Os conjuntos $\\{e\\}$ e $\\{G\\}$ são, obviamente subgrupos de $G$, mas são ditos subgrupos triviais. Um subgrupo $H\\subset G$ e $H\\supset e$ é dito um subgrupo próprio."
   ]
  },
  {
   "cell_type": "markdown",
   "metadata": {},
   "source": [
    "## Cosets\n",
    "Se $H$ é um subgrupo de $G$, então para $g_{j}\\in G$ o conjunto\n",
    "\\begin{align}\n",
    "g_{j}\\cdot H & = g_{j}\\cdot\\{h_{1},h_{2},\\cdots,h_{|H|}\\} \\\\\n",
    "& = \\{g_{j}\\cdot h_{1},g_{j}\\cdot h_{2},\\cdots,g_{j}\\cdot h_{|H|}\\}\n",
    "\\end{align}\n",
    "é denominado coset à esquerda de $H$ em $G$. A definição análoga segue para o coset à direita de $H$ em $G$.\n",
    "\n",
    "_OBS:_ Os elementos de um coset são todos distintos. Se $g_{j}\\in H$ então $g_{j}\\cdot H\\equiv H$. Ademais, note que cosets não necessariamente formam grupos."
   ]
  },
  {
   "cell_type": "markdown",
   "metadata": {},
   "source": [
    "## Teorema de Lagrange\n",
    "A ordem de um subgrupo divide a ordem de grupo, i.e., $|G|/|H|\\in\\mathbb{N}_{>0}$.<br>\n",
    "Um enunciado equivalente, mas com mais pistas para a prova, é que se $H$ é um subgrupo de $G$, então pode-se escolher apropriadamente elementos $g_{j},g_{k},\\cdots\\in G$ tais que \n",
    "\\begin{equation}\n",
    "G=H\\cup g_{j}\\cdot H\\cup g_{k}\\cdot H\\cup\\cdots,\n",
    "\\end{equation}\n",
    "onde $\\cup$ denota a união de dois subconjuntos ($A\\cup B$ é o conjunto formado por todos os elementos que estão em $A$ ou em $B$)."
   ]
  },
  {
   "cell_type": "markdown",
   "metadata": {},
   "source": [
    "### Prova\n",
    "No caso não trivial $H\\subset G$, começamos considerando um elemento $g_{j}\\in G$ que não está em $H$ ($g_{j}\\notin H$). Provemos por contradição que $H\\cap g_{j}\\cdot H\\equiv \\emptyset$, em que $\\emptyset$ é o conjunto vazio e $\\cap$ é a interseção entre dois conjuntos ($A\\cap B$ é o conjunto formado por todos os elementos que estão em $A$ e em $B$). Se $g_{j}\\cdot H$ e $H$ possuem algum elemento em comum, então existem $l$ e $m$ tais que\n",
    "\\begin{align}\n",
    "& g_{j}\\cdot h_{l}=h_{m}\\Rightarrow g_{j}\\cdot h_{l}\\cdot h_{l}^{-1}=h_{m}\\cdot h_{l}^{-1} \\\\\n",
    "& \\Rightarrow g_{j}\\cdot e=g_{j}=h_{m}\\cdot h_{l}^{-1}\\in H \\\\\n",
    "& \\Rightarrow g_{j}\\in H,\n",
    "\\end{align}\n",
    "pois $h_{k}^{-1}\\in H$. Mas esse resultado contradiz o que assumimos inicialmente, i.e., que $g_{j}\\notin H$. Portanto $H$ e $g_{j}\\cdot H$ não podem compartilhar nenhum elemento, ou seja, $H\\cap g_{j}\\cdot H\\equiv \\emptyset$ se $g_{j}\\notin H$. Com isso vemos que\n",
    "\\begin{equation}\n",
    "G=H\\cup g_{j}\\cdot H\\cup\\cdots.\n",
    "\\end{equation}\n",
    "Consideremos agora o coset $g_{k}\\cdot H$ obtido usando um outro elemento $g_{k}\\in G$ tal que $g_{k}\\notin H$ e $g_{k}\\notin g_{j}\\cdot H$. Já mostramos que $g_{k}\\cdot H\\cap H\\equiv \\emptyset$. Vamos mostrar, por contradição, que $g_{j}\\cdot H\\cap g_{k}\\cdot H\\equiv \\emptyset$. Se $g_{j}\\cdot H$ e $g_{k}\\cdot H$ possuem algum elemento em comum, então existem $l$, $m$ e $n$ tais que\n",
    "\\begin{align}\n",
    "& g_{j}\\cdot h_{l}=g_{k}\\cdot h_{m}\\Rightarrow g_{j}\\cdot h_{l}h_{m}^{-1}=g_{k}\\cdot h_{m}h_{m}^{-1} \\\\\n",
    "& \\Rightarrow g_{k}\\cdot e = g_{j}\\cdot h_{n} \\Rightarrow g_{k} = g_{j}\\cdot h_{n} \\in g_{j}\\cdot H \\\\\n",
    "& \\Rightarrow g_{k}\\in g_{j}\\cdot H,\n",
    "\\end{align}\n",
    "que contradiz nossa suposição inicial. Portanto $g_{j}\\cdot H$ e $g_{k}\\cdot H$ não compartilham nenhum elemento. Com isso vem que\n",
    "\\begin{equation}\n",
    "G=H\\cup g_{j}\\cdot H\\cup g_{k}\\cdot H\\cdots.\n",
    "\\end{equation}\n",
    "Seguimos com a mesma ideia até completar $G$. Como $|g_{j}\\cdot H|=|H|\\text{ }\\forall j$ temos que existe algum $r\\in\\mathbb{N}_{>0}$ tal que $|G|=r|H|$, completando assim a prova do teorema. "
   ]
  },
  {
   "cell_type": "markdown",
   "metadata": {},
   "source": [
    "### Elementos conjugados\n",
    "Dois elementos $g_{j}$ e $g_{k}$ de um grupo $(G,\\cdot)$ são ditos conjugados se existir um elemento $g_{l}\\in G$ tal que\n",
    "\\begin{equation}\n",
    "g_{j}=g_{l}\\cdot g_{k}\\cdot g_{l}^{-1}.\n",
    "\\end{equation}\n",
    "\n",
    "__Exercício:__ Verifique que nesse caso $g_{k}=g_{l}^{-1}\\cdot g_{j}\\cdot g_{l}$."
   ]
  },
  {
   "cell_type": "markdown",
   "metadata": {},
   "source": [
    "## Classe conjugada\n",
    "A classe conjugada de um elemento $g_{j}$ de um grupo $(G,\\cdot)$ é o conjunto de todos os elementos desse grupo que são equivalentes a $g_{j}$:\n",
    "\\begin{equation}\n",
    "C_{g_{j}} := \\{g_{m}g_{j}g_{m}^{-1}\\}_{m=1}^{|G|}. \n",
    "\\end{equation}"
   ]
  },
  {
   "cell_type": "markdown",
   "metadata": {},
   "source": [
    "## Teorema\n",
    "Considere dois elementos $g_{j}$ e $g_{k}$ do grupo $(G,\\cdot)$. Se esses elementos são conjugados, então suas classes conjugadas são iguais.\n",
    "\n",
    "### Prova\n",
    "Assumimos que $g_{k}=g_{l}g_{j}g_{l}^{-1}$ para algum $g_{l}\\in G$. Então\n",
    "\\begin{align}\n",
    "C_{g_{k}} & = \\{g_{m}g_{k}g_{m}^{-1}\\}_{m=1}^{|G|} \\\\ \n",
    "& = \\{g_{m}g_{l}g_{j}g_{l}^{-1}g_{m}^{-1}\\}_{m=1}^{|G|} \\\\\n",
    "& = \\{g_{n}g_{j}g_{n}^{-1}\\}_{n=1}^{|G|} \\\\\n",
    "& = C_{g_{j}}.\n",
    "\\end{align}"
   ]
  },
  {
   "cell_type": "code",
   "execution_count": null,
   "metadata": {},
   "outputs": [],
   "source": []
  }
 ],
 "metadata": {
  "kernelspec": {
   "display_name": "Python 3",
   "language": "python",
   "name": "python3"
  },
  "language_info": {
   "codemirror_mode": {
    "name": "ipython",
    "version": 3
   },
   "file_extension": ".py",
   "mimetype": "text/x-python",
   "name": "python",
   "nbconvert_exporter": "python",
   "pygments_lexer": "ipython3",
   "version": "3.6.4"
  }
 },
 "nbformat": 4,
 "nbformat_minor": 2
}
