{
 "cells": [
  {
   "cell_type": "markdown",
   "metadata": {},
   "source": [
    "# Funções matriciais de matrizes\n",
    "Já vimos algumas funções escalares de operadores/matrizes, como por exemplo o determinante, o traço, o produto interno, a norma, etc. Aqui veremos como devemos proceder para calcular funções de operadores que nos retornam operadores, como por exemplo $\\log(\\cdot)$, $\\exp(\\cdot)$, $\\sqrt{\\cdot}$, etc.\n",
    "\n",
    "_OBS._ A primeira observação que deve-se fazer nesse tópico é que nossa intuição de como aplicar funções matriciais em matrizes está, em geral, errada, i.e., se $A=(A_{j,k})$\n",
    "\\begin{equation}\n",
    "f(A)\\ne(f(A_{j,k})).\n",
    "\\end{equation}"
   ]
  },
  {
   "cell_type": "markdown",
   "metadata": {},
   "source": [
    "### Definição de $f(A)$\n",
    "Seja $A:\\mathcal{H}\\rightarrow\\mathcal{H}$ um operador linear e seja $f(x)=\\sum_{j=0}^{\\infty}\\frac{d^{j}f(x)}{dx^{j}}\\frac{x^{j}}{j!}$ a expansão em série de Taylor para a função escalar $f(x)$. A função $f$ tendo operadores lineares como argumento é calculada substituíndo-se, na série de Taylor, o escalar $x$ pelo operador linear correspondente.\n",
    "#### Exemplo\n",
    "Como $e^{x}=\\sum_{j=0}^{\\infty}x^{j}/j!=1+x+x^{2}/2+x^{3}/3!+\\cdots$, teremos\n",
    "\\begin{equation}\n",
    "e^{A}=\\mathbb{I}_{\\mathcal{H}}+A+\\frac{A^{2}}{2}+\\frac{A^{3}}{3!}+\\cdots,\n",
    "\\end{equation}\n",
    "onde $A^{j}$ é a composição de $A$ por $j$ vezes."
   ]
  },
  {
   "cell_type": "markdown",
   "metadata": {},
   "source": [
    "#### Exemplo\n",
    "Para $\\{\\sigma_{j}\\}_{j=1}^{3}$ sendo as matrizes de Pauli e $\\vec{n}\\in\\mathbb{R}^{3}$, definimos\n",
    "\\begin{equation}\n",
    "\\vec{n}\\cdot\\vec{\\sigma} := \\sum_{j=1}^{3}n_{j}\\sigma_{j}.\n",
    "\\end{equation}\n",
    "\n",
    "Para o resultado que provaremos na sequência, utilizaremos a seguinte indentidade:\n",
    "\\begin{align}\n",
    "(\\vec{n}\\cdot\\vec{\\sigma})^{2} & = \\sum_{j=1}^{3}n_{j}\\sigma_{j}\\sum_{k=1}^{3}n_{k}\\sigma_{k} = \\sum_{j,k=1}^{3}n_{j}n_{k}\\sigma_{j}\\sigma_{k} \\\\\n",
    "& = \\sum_{j,k=1}^{3}n_{j}n_{k}(\\delta_{j,k}\\sigma_{0}+sgn(j,k,l)i\\sigma_{l}) \\\\\n",
    "& = \\sum_{j=1}^{3}n_{j}^{2}\\sigma_{0} + \\sum_{j\\ne k}n_{j}n_{k}sgn(j,k,l)i\\sigma_{l} \\\\\n",
    "& = ||\\vec{n}||^{2}\\sigma_{0} + n_{1}n_{2}sgn(1,2,3)i\\sigma_{3}+n_{2}n_{1}sgn(2,1,3)i\\sigma_{3} \\\\\n",
    "&+ n_{1}n_{3}sgn(1,3,2)i\\sigma_{2}+n_{3}n_{1}sgn(3,1,2)i\\sigma_{2} + n_{2}n_{3}sgn(2,3,1)i\\sigma_{1}+n_{3}n_{2}sgn(3,2,1)i\\sigma_{1} \\\\\n",
    "& = ||\\vec{n}||^{2}\\sigma_{0} + (n_{1}n_{2}-n_{2}n_{1})i\\sigma_{3} + (-n_{1}n_{3}+n_{3}n_{1})i\\sigma_{2} + (n_{2}n_{3}-n_{3}n_{2})i\\sigma_{1} \\\\\n",
    "& = ||\\vec{n}||^{2}\\sigma_{0}.\n",
    "\\end{align}\n",
    "Agora, para $||\\vec{n}||=1$ e $\\theta\\in\\mathbb{R}$ e $\\sigma_{0}=\\mathbb{I}_{\\mathbb{C}_{2}}$, verifiquemos que\n",
    "\\begin{equation}\n",
    "e^{i\\theta\\vec{n}\\cdot\\vec{\\sigma}} = \\sigma_{0}\\cos\\theta+i\\vec{n}\\cdot\\vec{\\sigma}\\sin\\theta.\n",
    "\\end{equation}\n",
    "Usando a série de Taylor para a exponencial e $(\\vec{n}\\cdot\\vec{\\sigma})^{2}=||\\vec{n}||^{2}\\sigma_{0}$ teremos\n",
    "\\begin{align}\n",
    "e^{i\\theta\\vec{n}\\cdot\\vec{\\sigma}} & = \\sum_{j=0}^{\\infty}\\frac{(i\\theta\\vec{n}\\cdot\\vec{\\sigma})^{j}}{j!} \\\\\n",
    "& = \\sigma_{0} + i\\theta\\vec{n}\\cdot\\vec{\\sigma} + \\frac{(i\\theta\\vec{n}\\cdot\\vec{\\sigma})^{2}}{2!} + \\frac{(i\\theta\\vec{n}\\cdot\\vec{\\sigma})^{3}}{3!} + \\frac{(i\\theta\\vec{n}\\cdot\\vec{\\sigma})^{4}}{4!} + \\frac{(i\\theta\\vec{n}\\cdot\\vec{\\sigma})^{5}}{5!} + \\cdots \\\\\n",
    "& = \\sigma_{0} + i\\theta\\vec{n}\\cdot\\vec{\\sigma} - \\frac{\\theta^{2}\\sigma_{0}}{2!} - \\frac{i\\theta^{3}\\vec{n}\\cdot\\vec{\\sigma}}{3!} + \\frac{\\theta^{4}\\sigma_{0}}{4!} + \\frac{i\\theta^{5}\\vec{n}\\cdot\\vec{\\sigma}}{5!} + \\cdots \\\\\n",
    "& = \\sigma_{0}(1- \\frac{\\theta^{2}}{2!} + \\frac{\\theta^{4}}{4!} -\\cdots) + i\\vec{n}\\cdot\\vec{\\sigma}(\\theta  - \\frac{\\theta^{3}}{3!}  + \\frac{\\theta^{5}}{5!} - \\cdots) \\\\\n",
    "& = \\sigma_{0}\\cos\\theta+i\\vec{n}\\cdot\\vec{\\sigma}\\sin\\theta.\n",
    "\\end{align}"
   ]
  },
  {
   "cell_type": "markdown",
   "metadata": {},
   "source": [
    "### Fórmula de Baker-Campbell-Hausdorff\n",
    "Para $c\\in\\mathbb{C}$ e $A,B\\in L(\\mathcal{H})$ segue que\n",
    "\\begin{equation}\n",
    "e^{cB}Ae^{-cB} = A + c[B,A] + \\frac{c^{2}}{2!}[B,[B,A]] + \\frac{c^{3}}{3!}[B,[B,[B,A]]] + \\cdots.\n",
    "\\end{equation}\n",
    "Vamos verificar essa igualdade expandindo a exponencial em série de Taylor:\n",
    "\\begin{align}\n",
    "e^{cB}Ae^{-cB} & = \\left(\\sum_{j=0}^{\\infty}\\frac{(cB)^{j}}{j!}\\right)A\\left(\\sum_{k=0}^{\\infty}\\frac{(-cB)^{k}}{k!}\\right) \\\\\n",
    "               & = \\left(\\mathbb{I} + cB + \\frac{c^{2}B^{2}}{2} + \\frac{c^{3}B^{3}}{3!} + \\cdots\\right)\n",
    "                   A \\left(\\mathbb{I} - cB + \\frac{c^{2}B^{2}}{2} - \\frac{c^{3}B^{3}}{3!} + \\cdots\\right) \\\\\n",
    "               & = A + cBA - cAB + \\frac{c^{2}B^{2}}{2}A + A\\frac{c^{2}B^{2}}{2} - \\frac{2}{2}cBAcB - \\frac{c^{2}B^{2}}{2}AcB + cBA\\frac{c^{2}B^{2}}{2} + \\frac{c^{3}B^{3}}{3!}A - A\\frac{c^{3}B^{3}}{3!} + \\cdots \\\\\n",
    "               & = A + c[B,A] + \\frac{c^{2}}{2}(BBA + ABB - 2BAB) + \\frac{c^{3}}{3!}(BBBA - ABBB + 3BABB - 3BBAB) + \\cdots \\\\\n",
    "               & = A + c[B,A] + \\frac{c^{2}}{2}(B(BA-AB) + (AB-BA)B) + \\frac{c^{3}}{3!}(BB(BA-AB) - (AB-BA)BB + 2B(ABB - BAB)) + \\cdots \\\\\n",
    "               & = A + c[B,A] + \\frac{c^{2}}{2}(B[B,A] - [B,A]B) + \\frac{c^{3}}{3!}(BB[B,A] + [B,A]BB - 2B[B,A]B)) + \\cdots \\\\\n",
    "               & = A + c[B,A] + \\frac{c^{2}}{2}[B,[B,A]] + \\frac{c^{3}}{3!}(B(B[B,A]-[B,A]B) + ([B,A]B-B[B,A])B) + \\cdots \\\\\n",
    "               & = A + c[B,A] + \\frac{c^{2}}{2}[B,[B,A]] + \\frac{c^{3}}{3!}(B[B,[B,A]] - [B,[B,A]B) + \\cdots \\\\\n",
    "               & = A + c[B,A] + \\frac{c^{2}}{2!}[B,[B,A]] + \\frac{c^{3}}{3!}[B,[B,[B,A]]] + \\cdots.\n",
    "\\end{align}"
   ]
  },
  {
   "cell_type": "markdown",
   "metadata": {},
   "source": [
    "### Exemplo\n",
    "Para\n",
    "\\begin{equation}\n",
    "A = \\sigma_{x} = \\begin{bmatrix} 0&1\\\\1&0 \\end{bmatrix} \\text{ e } B = \\sigma_{z}=\\begin{bmatrix} 1&0\\\\0&-1 \\end{bmatrix},\n",
    "\\end{equation}\n",
    "temos\n",
    "\\begin{equation}\n",
    "[\\sigma_{z},\\sigma_{x}]=2i\\sigma_{y}\\text{ e }[\\sigma_{z},\\sigma_{y}]=-2i\\sigma_{x}.\n",
    "\\end{equation}\n",
    "Assim\n",
    "\\begin{align}\n",
    "e^{c\\sigma_{z}}\\sigma_{x}e^{-c\\sigma_{z}} \n",
    "& = \\sigma_{x} + c[\\sigma_{z},\\sigma_{x}] + \\frac{c^{2}}{2}[\\sigma_{z},[\\sigma_{z},\\sigma_{x}]] + \\frac{c^{3}}{3!}[\\sigma_{z},[\\sigma_{z},[\\sigma_{z},\\sigma_{x}]]] \\\\ \n",
    "& + \\frac{c^{4}}{4!}[\\sigma_{z},[\\sigma_{z},[\\sigma_{z},[\\sigma_{z},\\sigma_{x}]]]] + \\frac{c^{5}}{5!}[\\sigma_{z},[\\sigma_{z},[\\sigma_{z},[\\sigma_{z},[\\sigma_{z},\\sigma_{x}]]]]] + \\cdots \\\\\n",
    "& = \\sigma_{x} + c2i\\sigma_{y} + \\frac{c^{2}}{2}2i[\\sigma_{z},\\sigma_{y}] + \\frac{c^{3}}{3!}2i[\\sigma_{z},[\\sigma_{z},\\sigma_{y}]] + \\frac{c^{4}}{4!}2i[\\sigma_{z},[\\sigma_{z},[\\sigma_{z},\\sigma_{y}]]] + \\frac{c^{5}}{5!}2i[\\sigma_{z},[\\sigma_{z},[\\sigma_{z},[\\sigma_{z},\\sigma_{y}]]]] + \\cdots \\\\\n",
    "              & = \\sigma_{x} + c2i\\sigma_{y} - \\frac{c^{2}}{2}4i^{2}\\sigma_{x} - \\frac{c^{3}}{3!}4i^{2}[\\sigma_{z},\\sigma_{x}] - \\frac{c^{4}}{4!}4i^{2}[\\sigma_{z},[\\sigma_{z},\\sigma_{x}]] - \\frac{c^{5}}{5!}4i^{2}[\\sigma_{z},[\\sigma_{z},[\\sigma_{z},\\sigma_{x}]]] + \\cdots \\\\\n",
    "              & = \\sigma_{x} + c2i\\sigma_{y} - \\frac{(2ic)^{2}}{2}\\sigma_{x} - \\frac{c^{3}}{3!}8i^{3}\\sigma_{y} - \\frac{c^{4}}{4!}8i^{3}[\\sigma_{z},\\sigma_{y}] - \\frac{c^{5}}{5!}8i^{3}[\\sigma_{z},[\\sigma_{z},\\sigma_{y}]] + \\cdots \\\\\n",
    "              & = \\sigma_{x} + c2i\\sigma_{y} - \\frac{(2ic)^{2}}{2}\\sigma_{x} - \\frac{c^{3}}{3!}8i^{3}\\sigma_{y} + \\frac{c^{4}}{4!}16i^{4}\\sigma_{x} + \\frac{c^{5}}{5!}16i^{4}[\\sigma_{z},\\sigma_{x}] + \\cdots \\\\\n",
    "              & = \\sigma_{x} + c2i\\sigma_{y} - \\frac{(2ic)^{2}}{2}\\sigma_{x} - \\frac{(2ic)^{3}}{3!}\\sigma_{y} + \\frac{(2ic)^{4}}{4!}\\sigma_{x} + \\frac{(2ic)^{5}}{5!}\\sigma_{y} + \\cdots \\\\\n",
    "              & = \\sigma_{x}\\left(1 - \\frac{(2ic)^{2}}{2!} +\\frac{(2ic)^{4}}{4!} + \\cdots\\right) + \\sigma_{y}\\left(2ci  - \\frac{(2ic)^{3}}{3!} + \\frac{(2ic)^{5}}{5!} + \\cdots\\right)  \\\\\n",
    "              & = \\sigma_{x}\\cos(2ci) + \\sigma_{y}\\sin(2ci).\n",
    "\\end{align}\n",
    "\n",
    "__Exercício:__ Utilize a fórmula de BKH para calcular $e^{c\\sigma_{x}}\\sigma_{y}e^{-c\\sigma_{x}}$."
   ]
  },
  {
   "cell_type": "markdown",
   "metadata": {},
   "source": [
    "### Definição de $f(A)$ para operadores normais\n",
    "Se $A=\\sum_{a}aP_{a}$ é a decomposição espectral do operador linear, então suas funções podem ser calculadas usando\n",
    "\\begin{equation}\n",
    "f(A):=\\sum_{a}f(a)P_{a},\n",
    "\\end{equation}\n",
    "ou seja, atuamos a função nos autovalores.<br>\n",
    "_OBS:_ Para ver que essa definição é equivalente à anterior, só precisamos expandir $f(A)$ em série de potências e usar a ortogonalidade dos projetores. Por exemplo\n",
    "\\begin{align}\n",
    "e^{A} & = \\mathbb{I}_{\\mathcal{H}}+A+\\frac{A^{2}}{2}+\\frac{A^{3}}{3!}+\\cdots \\\\\n",
    "& = \\sum_{a}P_{a} + \\sum_{a}aP_{a} + \\frac{\\sum_{a}aP_{a}\\sum_{a'}a'P_{a'}}{2}+\\frac{\\sum_{a}aP_{a}\\sum_{a'}a'P_{a'}\\sum_{a''}a''P_{a''}}{3!}+\\cdots \\\\\n",
    "& = \\sum_{a}P_{a} + \\sum_{a}aP_{a} + \\frac{\\sum_{a,a'}aa'P_{a}P_{a'}}{2}+\\frac{\\sum_{a,a',a''}aa'a''P_{a}P_{a'}P_{a''}}{3!}+\\cdots \\\\\n",
    "& = \\sum_{a}P_{a} + \\sum_{a}aP_{a} + \\frac{\\sum_{a}a^{2}P_{a}}{2}+\\frac{\\sum_{a}a^{3}P_{a}}{3!}+\\cdots \\\\\n",
    "& = \\sum_{a}(1+a+\\frac{a^{2}}{2}+\\frac{a^{3}}{3!}+\\cdots)P_{a} \\\\\n",
    "& = \\sum_{a}e^{a}P_{a}.\n",
    "\\end{align}\n",
    "\n",
    "__Exercício:__ Verifique a equivalência entre as definições acima usando a série de Taylor para $\\sin(A)$."
   ]
  },
  {
   "cell_type": "markdown",
   "metadata": {},
   "source": [
    "#### Exemplo\n",
    "Seja $\\rho=\\sum_{r}rP_{r}$ com $P_{r}$ projetores 1D, então\n",
    "\\begin{align}\n",
    "S(\\rho) &= -Tr(\\rho\\log(\\rho)) \\\\\n",
    "& = -Tr(\\rho\\log(\\sum_{r}rP_{r})) \\\\\n",
    "& = -Tr((\\sum_{r'}r'P_{r'})(\\sum_{r}\\log(r)P_{r})) \\\\\n",
    "& = -Tr(\\sum_{r',r}r'\\log(r)P_{r'}P_{r}) \\\\\n",
    "& = -Tr(\\sum_{r',r}r'\\log(r)\\delta_{rr'}P_{r}) \\\\\n",
    "& = -\\sum_{r}r\\log(r)Tr(P_{r}) \\\\\n",
    "& = -\\sum_{r}r\\log(r)\\sum_{r'}(|r'\\rangle,P_{r}(|r'\\rangle)) \\\\\n",
    "& = -\\sum_{r}r\\log(r)\\sum_{r'}(|r'\\rangle,\\langle r|r'\\rangle|r\\rangle) \\\\\n",
    "& = -\\sum_{r}r\\log(r).\n",
    "\\end{align}"
   ]
  },
  {
   "cell_type": "markdown",
   "metadata": {},
   "source": [
    "__Exercício:__ Para $H=\\sum_{h}hP_{h}$, com $P_{h}$ um projetor 1D e $\\beta\\in\\mathbb{R}$, calcule\n",
    "\\begin{equation}\n",
    "\\rho_{g}=\\frac{e^{-\\beta H}}{Z}.\n",
    "\\end{equation}\n",
    "Use $Tr(\\rho_{g}):=1$ para obter a expressão da função de partição, que é o escalar $Z$ nessa equação."
   ]
  },
  {
   "cell_type": "markdown",
   "metadata": {},
   "source": [
    "### Teorema\n",
    "Seja $H:\\mathcal{H}\\rightarrow\\mathcal{H}$ um operador Hermitiano e $\\theta\\in\\mathbb{R}$, então\n",
    "\\begin{equation}\n",
    "U := e^{i\\theta H}\n",
    "\\end{equation}\n",
    "é um operador unitário.\n",
    "#### Prova\n",
    "Se $H=\\sum_{h}hP_{h}$. Então $i\\theta H=\\sum_{h}i\\theta hP_{h}$. Assim\n",
    "\\begin{equation}\n",
    "U=e^{i\\theta H}=\\sum_{h}e^{i\\theta h}P_{h}\n",
    "\\end{equation}\n",
    "e\n",
    "\\begin{equation}\n",
    "U^{\\dagger}=\\sum_{h}(e^{i\\theta h})^{*}P_{h}^{\\dagger} = \\sum_{h}e^{-i\\theta h}P_{h}.\n",
    "\\end{equation}\n",
    "Por conseguinte,\n",
    "\\begin{align}\n",
    "UU^{\\dagger} & = \\sum_{h}e^{i\\theta h}P_{h}\\sum_{h'}e^{-i\\theta h'}P_{h'} \\\\\n",
    "& = \\sum_{h,h'}e^{i\\theta(h-h')}P_{h}P_{h'} \\\\\n",
    "& = \\sum_{h}P_{h} \\\\\n",
    "& = \\mathbb{I}_{\\mathcal{H}},\n",
    "\\end{align}\n",
    "que completa a prova do teorema."
   ]
  }
 ],
 "metadata": {
  "kernelspec": {
   "display_name": "Python 3",
   "language": "python",
   "name": "python3"
  },
  "language_info": {
   "codemirror_mode": {
    "name": "ipython",
    "version": 3
   },
   "file_extension": ".py",
   "mimetype": "text/x-python",
   "name": "python",
   "nbconvert_exporter": "python",
   "pygments_lexer": "ipython3",
   "version": "3.6.4"
  }
 },
 "nbformat": 4,
 "nbformat_minor": 2
}
