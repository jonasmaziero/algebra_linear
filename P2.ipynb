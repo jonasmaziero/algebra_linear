{
 "cells": [
  {
   "cell_type": "markdown",
   "metadata": {},
   "source": [
    "### Universidade Federal de Santa Maria, Departamento de Física <br> FSC 1044 - Física Matemática II, Prof. Jonas Maziero <br> Semestre 2018/2, Data: 06 de dezembro de 2018 \n",
    "\n",
    "# Prova II"
   ]
  },
  {
   "cell_type": "markdown",
   "metadata": {},
   "source": [
    "$1.$ Prove o teorema do rearranjamento usando composição pela direita, i.e., mostre que para um grupo $(G,*)$, com $G=\\{g_{1},\\cdots,g_{|G|}\\}$ e $g_{j}\\in G$, teremos que\n",
    "\\begin{equation}\n",
    "G*g_{j}:=\\{g_{1}*g_{j},\\cdots,g_{|G|}*g_{j}\\}\\equiv G.\n",
    "\\end{equation}"
   ]
  },
  {
   "cell_type": "markdown",
   "metadata": {},
   "source": [
    "$2.$ Sejam $\\sigma_{1} = \\begin{bmatrix} 0 & 1 \\\\ 1&0\\end{bmatrix}\\text{, }\\sigma_{2} = \\begin{bmatrix} 0 & -i \\\\ i&0\\end{bmatrix}\\text{ e }\\sigma_{3} = \\begin{bmatrix} 1 & 0 \\\\ 0 & -1\\end{bmatrix}$ as matrizes de Pauli e $\\sigma_{0} = \\begin{bmatrix} 1 & 0 \\\\ 0 & 1\\end{bmatrix}$ a matriz identidade. Podemos verificar que o conjunto \n",
    "\\begin{equation}\n",
    "G_{p} = \\{ \\sigma_{0},-\\sigma_{0},i\\sigma_{0},-i\\sigma_{0}, \\sigma_{1},-\\sigma_{1},i\\sigma_{1},-i\\sigma_{1}, \\sigma_{2},-\\sigma_{2},i\\sigma_{2},-i\\sigma_{2}, \\sigma_{3},-\\sigma_{3},i\\sigma_{3},-i\\sigma_{3} \\}\n",
    "\\end{equation}\n",
    "forma um grupo (chamado de grupo de Pauli) sob a operação de multiplicação matricial. Quais são as possíveis ordens dos subgrupos de $G_{p}$? Forneça um exemplo de subgrupo de $G_{p}$, fazendo as verificações necessárias."
   ]
  },
  {
   "cell_type": "markdown",
   "metadata": {},
   "source": [
    "$3.$ Use os postulados da relatividade restrita para verificar que\n",
    "\\begin{equation}\n",
    "t=\\gamma\\left(t'-\\frac{1-\\gamma^{2}}{\\gamma^{2}V}x'\\right),\n",
    "\\end{equation}\n",
    "para um movimento relativo entre os dois referenciais inerciais somente na coordenada $x$."
   ]
  },
  {
   "cell_type": "markdown",
   "metadata": {},
   "source": [
    "$4.$ Para o momento angular quântico $\\vec{L}=-i\\hbar\\vec{r}\\mathrm{x}\\vec{\\nabla}$ e $R_{1}(\\psi(\\vec{r}))=\\psi(\\vec{r}')$ com $\\vec{r}'=R_{1}\\vec{r}$, use $R_{1}(\\delta\\phi)\\approx\\mathbb{I}+i\\delta\\phi S_{1}$, para $\\delta\\phi\\ll 1$ e com $S_{1}= \\begin{bmatrix} 0&0&0 \\\\ 0&0&-i \\\\ 0&i&0 \\end{bmatrix}$, e expansão em série de Taylor para\n",
    "mostrar que $R_{1}(\\phi) = e^{-iL_{1}\\phi/\\hbar}$."
   ]
  },
  {
   "cell_type": "code",
   "execution_count": null,
   "metadata": {},
   "outputs": [],
   "source": []
  }
 ],
 "metadata": {
  "kernelspec": {
   "display_name": "Python 3",
   "language": "python",
   "name": "python3"
  },
  "language_info": {
   "codemirror_mode": {
    "name": "ipython",
    "version": 3
   },
   "file_extension": ".py",
   "mimetype": "text/x-python",
   "name": "python",
   "nbconvert_exporter": "python",
   "pygments_lexer": "ipython3",
   "version": "3.6.4"
  }
 },
 "nbformat": 4,
 "nbformat_minor": 2
}
