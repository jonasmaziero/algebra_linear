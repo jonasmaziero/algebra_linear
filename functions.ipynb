{
 "cells": [
  {
   "cell_type": "code",
   "execution_count": 3,
   "metadata": {},
   "outputs": [],
   "source": [
    "from sympy import *\n",
    "import numpy as np\n",
    "from sympy.physics.quantum import InnerProduct\n",
    "init_printing(use_unicode=True)\n",
    "from matplotlib import pyplot as plt\n",
    "%matplotlib inline"
   ]
  },
  {
   "cell_type": "code",
   "execution_count": 10,
   "metadata": {},
   "outputs": [],
   "source": [
    "def inner_product(d,v,w):\n",
    "    ip = 0\n",
    "    for j in range(0,d):\n",
    "        ip += conjugate(v[j])*w[j]\n",
    "    return ip"
   ]
  },
  {
   "cell_type": "code",
   "execution_count": 11,
   "metadata": {},
   "outputs": [],
   "source": [
    "#inner_product(2,Matrix([[1],[-1]]),Matrix([[1],[1]]))"
   ]
  },
  {
   "cell_type": "code",
   "execution_count": 14,
   "metadata": {},
   "outputs": [],
   "source": [
    "def norm(d,v): # vector norm\n",
    "    return sqrt(inner_product(d,v,v))"
   ]
  },
  {
   "cell_type": "code",
   "execution_count": 18,
   "metadata": {},
   "outputs": [],
   "source": [
    "#norm(2,Matrix([[1/sqrt(2)],[1j/sqrt(2)]]))"
   ]
  },
  {
   "cell_type": "code",
   "execution_count": 19,
   "metadata": {},
   "outputs": [],
   "source": [
    "def det_gauss(n, A):\n",
    "    det = 1\n",
    "    T = zeros(n,n)\n",
    "    for k in range(0,n-1):\n",
    "        if A[k,k] == 0:\n",
    "            for l in range(k+1,n):\n",
    "                if A[l,k] != 0:\n",
    "                    T[n-1,:] = A[k,:]\n",
    "                    A[k,:] = A[l,:]\n",
    "                    A[l,:] = T[n-1,:]\n",
    "                    det *= -1\n",
    "                    break\n",
    "        if A[k,k] == 0:\n",
    "            return 0\n",
    "        T[k,:] = A[k,:]\n",
    "        for j in range(k+1,n):\n",
    "            T[j,:] = A[j,:] - (A[j,k]/A[k,k])*A[k,:]\n",
    "    for j in range(0,n):\n",
    "        det *= T[j,j]\n",
    "    return det"
   ]
  },
  {
   "cell_type": "code",
   "execution_count": 23,
   "metadata": {},
   "outputs": [],
   "source": [
    "#det_gauss(2,Matrix([[0,2],[0,1]]))"
   ]
  },
  {
   "cell_type": "code",
   "execution_count": 21,
   "metadata": {},
   "outputs": [],
   "source": [
    "def triangular(n, A):\n",
    "    T = zeros(n,n)\n",
    "    for k in range(0,n-1):\n",
    "        if A[k,k] == 0:\n",
    "            for l in range(k+1,n):\n",
    "                if A[l,k] != 0:\n",
    "                    T[n-1,:] = A[k,:]\n",
    "                    A[k,:] = A[l,:]\n",
    "                    A[l,:] = T[n-1,:]\n",
    "                    break\n",
    "        T[k,:] = A[k,:]\n",
    "        for j in range(k+1,n):\n",
    "            T[j,:] = A[j,:] - (A[j,k]/A[k,k])*A[k,:]\n",
    "    return T"
   ]
  },
  {
   "cell_type": "code",
   "execution_count": 24,
   "metadata": {},
   "outputs": [],
   "source": [
    "#triangular(2,Matrix([[10,2],[5,2]]))"
   ]
  },
  {
   "cell_type": "code",
   "execution_count": null,
   "metadata": {},
   "outputs": [],
   "source": []
  }
 ],
 "metadata": {
  "kernelspec": {
   "display_name": "Python 3",
   "language": "python",
   "name": "python3"
  },
  "language_info": {
   "codemirror_mode": {
    "name": "ipython",
    "version": 3
   },
   "file_extension": ".py",
   "mimetype": "text/x-python",
   "name": "python",
   "nbconvert_exporter": "python",
   "pygments_lexer": "ipython3",
   "version": "3.6.4"
  }
 },
 "nbformat": 4,
 "nbformat_minor": 2
}
