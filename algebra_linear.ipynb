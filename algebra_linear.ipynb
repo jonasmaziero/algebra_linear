{
 "cells": [
  {
   "cell_type": "code",
   "execution_count": 35,
   "metadata": {},
   "outputs": [],
   "source": [
    "import platform\n",
    "if platform.system() == 'Linux':\n",
    "    %run '/home/jonasmaziero/Dropbox/GitHub/algebra_linear/functions.ipynb'\n",
    "else:\n",
    "    %run '/Users/jonasmaziero/Dropbox/GitHub/algebra_linear/functions.ipynb'"
   ]
  },
  {
   "cell_type": "markdown",
   "metadata": {},
   "source": [
    "# Álgebra Linear\n",
    "É o estudo de espaços vetoriais e de operações lineares nesses espaços. Já em sua versão mais básica, a AL tem aplicações diversas em ciência. <br>\n",
    "Uma boa descrição sobre o motivo de definirmos um espaço vetorial, ou grupo, como o faremos, pode ser visto no playlist de álgebra abstrata da Socratica https://youtu.be/IP7nW_hKB7I."
   ]
  },
  {
   "cell_type": "markdown",
   "metadata": {},
   "source": [
    "## Espaço vetorial\n",
    "Um conjunto de objetos $\\{|v\\rangle\\}$ forma um espaço vetorial $V$ se existirem a operação de _soma de vetores_ $+:V\\text{x}V\\rightarrow V$, que leva dois vetores em um vetor de $V$, com as seguintes propriedades:\n",
    "* Comutatividade: $|v\\rangle+|w\\rangle=|w\\rangle+|v\\rangle\\text{ }\\forall|v\\rangle,|w\\rangle\\in V$,\n",
    "* Associatividade: $|v\\rangle+(|w\\rangle+|x\\rangle)=(|v\\rangle+|w\\rangle)+|x\\rangle\\text{ }\\forall|v\\rangle,|w\\rangle,|x\\rangle\\in V$,\n",
    "* Existe o elemento nulo $|\\oslash\\rangle$ tal que: $|v\\rangle+|\\oslash\\rangle=|v\\rangle\\text{ }\\forall|v\\rangle\\in V$,\n",
    "* Existe o elemento inverso $|v^{-1}\\rangle$ tal que: $|v\\rangle+|v^{-1}\\rangle=|\\oslash\\rangle\\text{ }\\forall|v\\rangle\\in V$, <br>\n",
    "e a operação de _multiplicação por escalar_ $*:\\mathbb{F}\\text{x}V\\rightarrow V$, herdada da multiplicação em $\\mathbb{F}$ e que leva um escalar do campo escalar associado e um vetor de $V$ em um vetor de $V$, com as seguintes propriedades:\n",
    "* Se $\\mathbb{1}_{F}$ é a identidade para a multiplicação em $\\mathbb{F}$, então $\\mathbb{1}_{F}*|v\\rangle=|v\\rangle\\text{ }\\forall|v\\rangle\\in V$,\n",
    "* Associatividade para produto dos escalares: $(a*b)*|v\\rangle=a*(b*|v\\rangle)\\text{ }\\forall a,b\\in\\mathbb{F}\\text{ e }|v\\rangle\\in V$,\n",
    "* Distributividade para a soma dos vetores: $a*(|v\\rangle+|w\\rangle)=a*|v\\rangle+a*|w\\rangle\\text{ }\\forall a\\in\\mathbb{F}\\text{ e }|v\\rangle,|w\\rangle\\in V$."
   ]
  },
  {
   "cell_type": "markdown",
   "metadata": {},
   "source": [
    "#### Exemplos\n",
    "Para o conjunto de listas com $n$ números complexos, denotado por $\\mathbb{C}^{n}$, as operações de soma de vetores e de multiplicação por escalar são definidas por:\n",
    "\\begin{align}\n",
    "& |v\\rangle+|w\\rangle:=\\begin{bmatrix} v_{1} \\\\ v_{2} \\\\ \\vdots \\\\ v_{n} \\end{bmatrix} + \\begin{bmatrix} w_{1} \\\\ w_{2} \\\\ \\vdots \\\\ w_{n} \\end{bmatrix} := \\begin{bmatrix} v_{1}+w_{1} \\\\ v_{2}+w_{2} \\\\ \\vdots \\\\ v_{n}+w_{n} \\end{bmatrix} \\\\\n",
    "& a*|v\\rangle = a*\\begin{bmatrix} v_{1} \\\\ v_{2} \\\\ \\vdots \\\\ v_{n} \\end{bmatrix} := \\begin{bmatrix} a*v_{1} \\\\ a*v_{2} \\\\ \\vdots \\\\ a*v_{n} \\end{bmatrix},\n",
    "\\end{align}\n",
    "com $a,v_{j},w_{k}\\in\\mathbb{C}$ e $+$ e $*$ nas matrizes são as usuais operações de soma e multiplicação de números complexos. Aplicando as propriedades dessas operações, pode-se verificar que essas definições satisfazem as propriedades acima e tornam assim $\\mathbb{C}^{n}$ em um espaço vetorial. <br>\n",
    "_OBS:_ $\\mathbb{R}^{n}$ é um caso particular de $\\mathbb{C}^{n}$, e é também um espaço vetorial.\n",
    "\n",
    "__Exercício:__ Forneça as conhecidas definições de soma e multiplicação por escalar que fazem de $\\mathbb{C}^{n\\text{x}n}$ um espaço vetorial. "
   ]
  },
  {
   "cell_type": "markdown",
   "metadata": {},
   "source": [
    "## Combinação e independência linear\n",
    "Dizemos que um vetor $|v\\rangle\\in V$, com $V$ sendo um espaço vetorial, é uma _combinação linear_ de um conjunto de vetores $|v_{j}\\rangle\\in V$ se existem escalares do campo escalar associado $a_{j}\\in\\mathbb{F}$ tais que\n",
    "\\begin{equation}\n",
    "|v\\rangle = \\sum_{j}a_{j}|v_{j}\\rangle.\n",
    "\\end{equation}\n",
    "\n",
    "Um conjunto de $n$ vetores $|w_{j}\\rangle\\in V$ é um conjunto _linearmente independente_ (LI) se nenhum desses vetores pode ser escrito como uma combinação linear dos outros. Colocado de outra forma, $\\{|w_{j}\\rangle\\}_{j=1}^{n}$ é LI se a única maneira de satisfazer a igualdade\n",
    "\\begin{equation}\n",
    "\\sum_{j}a_{j}|w_{j}\\rangle=|\\oslash\\rangle,\n",
    "\\end{equation}\n",
    "para $a_{j}\\in\\mathbb{F}$, é com todos os coeficientes da combinação linear nulos, i.e., $a_{j}=0$ para $j=1,\\cdots,n$.\n",
    "\n",
    "_OBS:_ Se um conjunto de vetores não é LI, então este é dito linearmente dependente (LD). Note que nesse caso existe pelo menos um coeficiente $a_{k}$ não nulo, e podemos escrever $|w_{k}\\rangle=\\sum_{j\\ne k}(-a_{j}/a_{k})|w_{j}\\rangle$.\n",
    "\n",
    "#### Exemplos\n",
    "Para $\\mathbb{C}^{2}$ temos que $|w_{1}\\rangle=\\begin{bmatrix} i & 1 \\end{bmatrix}^{T}$ e $|w_{2}\\rangle=\\begin{bmatrix} 3i & 1 \\end{bmatrix}^{T}$ são LI. Já $|w_{1}\\rangle$ e $|w_{3}\\rangle=\\begin{bmatrix} 3i & 3 \\end{bmatrix}^{T}$ são LD pois $-3|w_{1}\\rangle+|w_{3}\\rangle=|\\oslash\\rangle$."
   ]
  },
  {
   "cell_type": "markdown",
   "metadata": {},
   "source": [
    "## Critério para determinar se um conjunto de vetores é LI\n",
    "Lembrando, se só obtemos $\\sum_{j=1}^{n}a_{j}|w_{j}\\rangle=|\\oslash\\rangle$ se $|a\\rangle=\\begin{bmatrix} a_{1} & \\cdots & a_{n} \\end{bmatrix}^{T}=\\begin{bmatrix} 0 & \\cdots & 0 \\end{bmatrix}^{T}=|\\oslash\\rangle$, então o conjunto de vetores $\\{|w_{j}\\rangle\\}_{j=1}^{n}$ é LI, senão é LD. Vamos transformar essa equação em uma equação matricial definindo $|w_{j}\\rangle=\\begin{bmatrix} w_{1,j} & \\cdots & w_{n,j} \\end{bmatrix}^{T}$. Assim\n",
    "\\begin{align}\n",
    "|\\oslash\\rangle & = \\sum_{j=1}^{n}a_{j}|w_{j}\\rangle = \\sum_{j=1}^{n}a_{j}\\begin{bmatrix} w_{1j} \\\\ \\vdots \\\\ w_{nj} \\end{bmatrix} = \\sum_{j=1}^{n}\\begin{bmatrix} a_{j}w_{1j} \\\\ \\vdots \\\\ a_{j}w_{nj} \\end{bmatrix} = \\begin{bmatrix} \\sum_{j=1}^{n}w_{1j}a_{j} \\\\ \\vdots \\\\ \\sum_{j=1}^{n}w_{nj}a_{j} \\end{bmatrix} \\\\\n",
    "& = \\begin{bmatrix} w_{1,1} & \\cdots & w_{1,n} \\\\ \\vdots & \\vdots & \\vdots \\\\  w_{n,1} & \\cdots & w_{n,n} \\end{bmatrix}\\begin{bmatrix} a_{1} \\\\ \\vdots \\\\ a_{n} \\end{bmatrix} =: W|a\\rangle.\n",
    "\\end{align}\n",
    "Vemos assim que se a matriz \n",
    "\\begin{equation}\n",
    "W=\\begin{bmatrix} |w_{1}\\rangle & \\cdots & |w_{n}\\rangle \\end{bmatrix}\n",
    "\\end{equation}\n",
    "possuir inversa, i.e., se $\\det(W)\\ne 0$, então\n",
    "\\begin{equation}\n",
    "W|a\\rangle=|\\oslash\\rangle\\Rightarrow W^{-1}W|a\\rangle=\\mathbb{I}_{n}|a\\rangle=|a\\rangle=W^{-1}|\\oslash\\rangle=|\\oslash\\rangle,\n",
    "\\end{equation}\n",
    "o que implica que o conjunto de vetores é LI. Se tivermos $\\det(W)=0$ o conjunto de vetores é LD. <br>\n",
    "_OBS:_ Esse critério se torna óbvio se lembrarmos que o determinante de uma matriz é nulo se uma (ou mais) coluna(s) dessa matriz é uma combinação linear de outras das suas colunas. Essa fato equivale, no presente contexto, a um (ou mais) dos vetores $|w_{j}\\rangle$ ser uma combinação linear de outros desses vetores. "
   ]
  },
  {
   "cell_type": "markdown",
   "metadata": {},
   "source": [
    "#### Exemplos\n",
    "Considere o conjunto de vetores $\\{|w_{1}\\rangle=\\begin{bmatrix} 2 & 3 \\end{bmatrix}^{T},|w_{2}\\rangle=\\begin{bmatrix} 5 & 7 \\end{bmatrix}^{T}\\}$. Teremos\n",
    "\\begin{equation}\n",
    "\\det(W)=\\det\\begin{bmatrix} |w_{1}\\rangle & |w_{2}\\rangle \\end{bmatrix}=\\det\\begin{bmatrix} 2 & 5 \\\\ 3 & 7 \\end{bmatrix} = -1 \\ne 0.\n",
    "\\end{equation}\n",
    "Portanto $\\{|w_{1}\\rangle,|w_{2}\\rangle\\}$ é LI.\n",
    "\n",
    "Consideremos agora outro conjunto de vetores $\\left\\{|w_{1}\\rangle=\\begin{bmatrix} 2 & 3 \\end{bmatrix}^{T},|w_{2}\\rangle=\\begin{bmatrix} 5 & 7 \\end{bmatrix}^{T},|w_{3}\\rangle=\\begin{bmatrix} 11 & 13 \\end{bmatrix}^{T}\\right\\}$. Teremos\n",
    "\\begin{equation}\n",
    "\\det(W)=\\det\\begin{bmatrix} |w_{1}\\rangle & |w_{2}\\rangle & |w_{3}\\rangle\\end{bmatrix}=\\det\\begin{bmatrix} 2 & 5 & 11 \\\\ 3 & 7 & 13 \\end{bmatrix}.\n",
    "\\end{equation}\n",
    "Como olhamos somente para o determinante de matrizes quadradas, vamos ver esses vetores como sendo vetores de $\\mathbb{R}^{3}$ com componentes não nulas somente em $\\mathbb{R}^{2}$, i.e.,  $\\left\\{|w'_{1}\\rangle=\\begin{bmatrix} 2 & 3 & 0 \\end{bmatrix}^{T},|w'_{2}\\rangle=\\begin{bmatrix} 5 & 7 & 0 \\end{bmatrix}^{T},|w'_{3}\\rangle=\\begin{bmatrix} 11 & 13 & 0 \\end{bmatrix}^{T}\\right\\}$. Nesse caso teríamos\n",
    "\\begin{equation}\n",
    "\\det(W')=\\det\\begin{bmatrix} |w'_{1}\\rangle & |w'_{2}\\rangle & |w'_{3}\\rangle\\end{bmatrix}=\\det\\begin{bmatrix} 2 & 5 & 11 \\\\ 3 & 7 & 13 \\\\ 0 & 0 & 0 \\end{bmatrix}=0,\n",
    "\\end{equation}\n",
    "pela expansão em cofatores na última linha. Portanto $\\{|w'_{1}\\rangle,|w'_{2}\\rangle,|w'_{2}\\rangle\\}$, e $\\{|w_{1}\\rangle,|w_{2}\\rangle,|w_{2}\\rangle\\}$, é LD. Esse resultado pode ser verificado usando $|w_{3}\\rangle=\\alpha|w_{1}\\rangle+\\beta|w_{2}\\rangle$ e obtendo os coeficientes. Teremos\n",
    "\\begin{align}\n",
    "& \\begin{bmatrix} 2 & 5 \\\\ 3 & 7 \\end{bmatrix}\\begin{bmatrix} \\alpha \\\\ \\beta \\end{bmatrix} = \\begin{bmatrix} 11 \\\\ 13 \\end{bmatrix} \\Rightarrow \\begin{bmatrix} \\alpha \\\\ \\beta \\end{bmatrix} = \\begin{bmatrix} 2 & 5 \\\\ 3 & 7 \\end{bmatrix}^{-1}\\begin{bmatrix} 11 \\\\ 13 \\end{bmatrix} \\\\\n",
    "& \\Rightarrow \\begin{bmatrix} \\alpha \\\\ \\beta \\end{bmatrix} = \\begin{bmatrix} -7 & 5 \\\\ 3 & -2 \\end{bmatrix}\\begin{bmatrix} 11 \\\\ 13 \\end{bmatrix}=\\begin{bmatrix} -12 \\\\ 7 \\end{bmatrix}.\n",
    "\\end{align}"
   ]
  },
  {
   "cell_type": "code",
   "execution_count": 51,
   "metadata": {},
   "outputs": [],
   "source": [
    "w1 = Matrix([[2],[3]])\n",
    "w2 = Matrix([[5],[7]])\n",
    "w3 = Matrix([[11],[13]])\n",
    "A = Matrix([[2,5],[3,7]])\n",
    "#A.inv()*w3\n",
    "#-12*w1+7*w2  # verificação"
   ]
  },
  {
   "cell_type": "markdown",
   "metadata": {},
   "source": [
    "__Exercício:__ Verifique que $\\{|w_{1}\\rangle=\\begin{bmatrix} 17 & 19 \\end{bmatrix}^{T},|w_{2}\\rangle=\\begin{bmatrix} 23 & 29 \\end{bmatrix}^{T}\\}$ é LI e que $\\{|w_{1}\\rangle=\\begin{bmatrix} 17 & 19 \\end{bmatrix}^{T},|w_{2}\\rangle=\\begin{bmatrix} 23 & 29 \\end{bmatrix}^{T},|w_{3}\\rangle=\\begin{bmatrix} 31 & 37 \\end{bmatrix}^{T}\\}$ é LD."
   ]
  },
  {
   "cell_type": "markdown",
   "metadata": {},
   "source": [
    "### Extensão\n",
    "A extensão de um conjunto de vetores $\\{|v_{j}\\rangle\\}_{j=1}^{n}\\subseteq V$ são todos os vetores que são obtidos através de combinações lineares desse conjunto de vetores, i.e.,\n",
    "\\begin{equation}\n",
    "ext(\\{|v_{j}\\rangle\\}_{j=1}^{n}) = \\left\\{\\sum_{j=1}^{n}a_{j}|v_{j}\\rangle \\text{ para } a_{j}\\in\\mathbb{F}\\right\\}.\n",
    "\\end{equation}"
   ]
  },
  {
   "cell_type": "markdown",
   "metadata": {},
   "source": [
    "## Base\n",
    "Se a extensão de um conjunto de vetores LI, $\\{|v_{j}\\rangle\\}_{j=1}^{n}\\subseteq V$, é todo o espaço vetorial, i.e.,\n",
    "\\begin{equation}\n",
    "ext(\\{|v_{j}\\rangle\\}_{j=1}^{n}) = V,\n",
    "\\end{equation}\n",
    "dizemos que esse conjunto de vetores forma uma base pra esse espaço vetorial. <br>\n",
    "_OBS:_ Note que nesse caso qualquer vetor de $V$ pode ser escrito como combinação linear de $\\{|v_{j}\\rangle\\}_{j=1}^{n}$."
   ]
  },
  {
   "cell_type": "markdown",
   "metadata": {},
   "source": [
    "## Teorema\n",
    "Seja $\\{|v_{j}\\rangle\\}_{j=1}^{r}$ um conjunto de vetores LI tal que $|v_{j}\\rangle\\in ext(\\{|w_{k}\\rangle\\}_{k=1}^{s})$ para $j=1,\\cdots,r$, com $\\{|w_{k}\\rangle\\}_{k=1}^{s}$ sendo também um conjunto LI. Então $r\\le s$.\n",
    "### Prova\n",
    "Temos então que $|v_{j}\\rangle=\\sum_{k=1}^{s}a_{j,k}|w_{k}\\rangle$, para $j=1,\\cdots,r$, com $a_{j,k}\\in\\mathbb{F}$. Vamos assumir que $r>s$ e verificar que isso nos leva a uma contradição. A matriz de coeficientes pode ser escrita como\n",
    "\\begin{equation}\n",
    "a = \\begin{bmatrix} a_{1,1} & a_{1,2} & \\cdots & a_{1,s} \\\\  a_{2,1} & a_{2,2} & \\cdots & a_{2,s} \\\\ \\vdots & \\vdots & \\vdots & \\vdots \\\\ a_{s,1} & a_{s,2} & \\cdots & a_{s,s} \\\\ a_{s,1} & a_{s+1,2} & \\cdots & a_{s+1,s} \\\\  \\vdots & \\vdots & \\vdots & \\vdots  \\\\ a_{r,1} & a_{r,2} & \\cdots & a_{r,s} \\end{bmatrix}.\n",
    "\\end{equation}\n",
    "Assim teremos $v=aw$ com\n",
    "\\begin{equation}\n",
    "v=\\begin{bmatrix} |v_{1}\\rangle \\\\ |v_{2}\\rangle \\\\ \\vdots \\\\ |v_{s}\\rangle \\\\ |v_{s+1}\\rangle \\\\ \\vdots \\\\ |v_{r}\\rangle \\end{bmatrix}\n",
    "\\end{equation}\n",
    "e\n",
    "\\begin{equation}\n",
    "w=\\begin{bmatrix} |w_{1}\\rangle \\\\ |w_{2}\\rangle \\\\ \\vdots \\\\ |w_{s}\\rangle \\end{bmatrix}.\n",
    "\\end{equation}\n",
    "Aplica eliminação Gaussiana para colocar o bloco de cima dessa matriz na forma \"diagonal normalizada\" (idetidade)\n",
    "\\begin{equation}\n",
    "a \\longrightarrow \\begin{bmatrix} 1 & 0 & \\cdots & 0 \\\\  0 & 1 & \\cdots & 0 \\\\  \\vdots & \\vdots & \\vdots & \\vdots \\\\ 0 & 0 & \\cdots & 1 \\\\ a'_{s,1} & a'_{s+1,2} & \\cdots & a'_{s+1,s} \\\\  \\vdots & \\vdots & \\vdots & \\vdots  \\\\ a'_{r,1} & a'_{r,2} & \\cdots & a'_{r,s} \\end{bmatrix}.\n",
    "\\end{equation}\n",
    "Como cada uma das linhas $s+1$ até $r$ pode ser escrita como uma combinação das $s$ primeiras linhas, temos a contradição de que o conjunto $\\{|v_{j}\\rangle\\}_{j=1}^{r}$ é LD. Devemos ter portanto que $r\\le s$."
   ]
  },
  {
   "cell_type": "markdown",
   "metadata": {},
   "source": [
    "#### Corolário\n",
    "Se $\\{|v_{j}\\rangle\\}_{j=1}^{r}$ e $\\{|w_{k}\\rangle\\}_{k=1}^{s}$ são duas bases para um espaço vetorial, então $r=s$.\n",
    "#### Prova\n",
    "Como os dois conjuntos são bases, eles conjuntos são, individualmente, LI e cada vetor de um conjunto está na extensão do outro. Portanto, pelo teorema anterior, devemos ter $r\\ge s$ e $s\\ge r$, que somente são satisfeitas simultaneamente se $r=s$."
   ]
  },
  {
   "cell_type": "markdown",
   "metadata": {},
   "source": [
    "### Dimensão\n",
    "A dimensão de um espaço vetorial é definida como o número de seus vetores LI que são necessários para gerar todos os seus vetores. Ou seja, $\\dim(V)=n$ se uma base de $V$ tiver $n$ vetores. "
   ]
  },
  {
   "cell_type": "code",
   "execution_count": null,
   "metadata": {},
   "outputs": [],
   "source": []
  }
 ],
 "metadata": {
  "kernelspec": {
   "display_name": "Python 3",
   "language": "python",
   "name": "python3"
  },
  "language_info": {
   "codemirror_mode": {
    "name": "ipython",
    "version": 3
   },
   "file_extension": ".py",
   "mimetype": "text/x-python",
   "name": "python",
   "nbconvert_exporter": "python",
   "pygments_lexer": "ipython3",
   "version": "3.6.4"
  }
 },
 "nbformat": 4,
 "nbformat_minor": 2
}
