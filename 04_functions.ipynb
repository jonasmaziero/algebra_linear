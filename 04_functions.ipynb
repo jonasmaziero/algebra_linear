{
 "cells": [
  {
   "cell_type": "markdown",
   "metadata": {},
   "source": [
    "## Notas de aula de Álgebra Linear <br> Autor: Jonas Maziero\n",
    "Link para os vídeos das aulas sobre este tópico: https://youtu.be/9k4wlF3PSdk e https://youtu.be/Cia_UMI76BQ."
   ]
  },
  {
   "cell_type": "code",
   "execution_count": 3,
   "metadata": {},
   "outputs": [],
   "source": [
    "%run init.ipynb"
   ]
  },
  {
   "cell_type": "markdown",
   "metadata": {},
   "source": [
    "# Função traço\n",
    "O traço, $Tr:\\mathbb{C}^{n\\text{x}n}\\rightarrow\\mathbb{C}$, de um operador linear $A:\\mathcal{H}\\rightarrow\\mathcal{H}$, com $d=\\dim\\mathcal{H}$, é a soma dos elementos na diagonal principal da matriz correspondente. Se a representação matricial é feita na base $\\{|b_{j}\\rangle\\}_{j=1}^{d}$, então\n",
    "\\begin{equation}\n",
    "Tr(A)= \\sum_{j=1}^{d}\\langle b_{j}|A|b_{j}\\rangle \\equiv \\sum_{j=1}^{d}A_{j,j}.\n",
    "\\end{equation}\n",
    "Algumas propriedades importantes do traço são:\n",
    "* Propriedade cíclica: $Tr(AB)=Tr(BA)$ <br>\n",
    "Para quaisquer duas matrizes $A\\in\\mathbb{C}^{m\\mathrm{x}n}$ e $B\\in\\mathbb{C}^{n\\mathrm{x}m}$ teremos\n",
    "\\begin{align}\n",
    "Tr(AB) &= \\sum_{j=1}^{m}(AB)_{j,j} = \\sum_{j=1}^{m}\\sum_{k=n}^{n}A_{j,k}B_{k,j} = \\sum_{k=1}^{n}\\sum_{j=1}^{m}B_{k,j}A_{j,k} = \\sum_{k=1}^{n}(BA)_{k,k} \\\\ \n",
    "&= Tr(BA).\n",
    "\\end{align}\n",
    "\n",
    "* Invariância por transformação de similaridade: $Tr(UAU^{-1})=Tr(A)$ <br>\n",
    "Usando a propriedade cíclica do traço, teremos que\n",
    "\\begin{equation}\n",
    "Tr(UAU^{-1}) = Tr(U^{-1}UA) = Tr(\\mathbb{I}A) = Tr(A).\n",
    "\\end{equation}\n",
    "Para transformações $UAU^{\\dagger}$ com $U$ unitária (ou $UAU^{T}$ com $U$ ortogonal, i.e., com $UU^{T}=U^{T}U=\\mathbb{I}$), teremos invariância pois $U^{\\dagger}=U^{-1}$ $(U^{T}=U^{-1}).$"
   ]
  },
  {
   "cell_type": "markdown",
   "metadata": {},
   "source": [
    "* Invariância por escolha da base: $Tr(A)= \\sum_{j=1}^{d}\\langle b_{j}|A|b_{j}\\rangle = \\sum_{j=1}^{d}\\langle a_{j}|A|a_{j}\\rangle$ <br>\n",
    "Sejam $\\{|b_{j}\\rangle\\}_{j=1}^{d}$ e $\\{|a_{j}\\rangle\\}_{j=1}^{d}$ duas bases ortonormais. Vamos escrever $|a_{j}\\rangle=\\sum_{k=1}^{d}\\langle b_{k}|a_{j}\\rangle|b_{k}\\rangle$. Assim\n",
    "\\begin{align}\n",
    "\\sum_{j=1}^{d}\\langle a_{j}|A|a_{j}\\rangle & = \\sum_{j=1}^{d}\\left(\\sum_{k=1}^{d}\\langle b_{k}|a_{j}\\rangle|b_{k}\\rangle,A\\sum_{l=1}^{d}\\langle b_{l}|a_{j}\\rangle|b_{l}\\rangle\\right) = \\sum_{j,k,l=1}^{d}\\langle b_{k}|a_{j}\\rangle^{*}\\langle b_{l}|a_{j}\\rangle\\langle b_{k}|A|b_{l}\\rangle \\\\ \n",
    "& = \\sum_{j,k,l=1}^{d}\\langle a_{j}|b_{k}\\rangle\\langle b_{l}|a_{j}\\rangle\\langle b_{k}|A|b_{l}\\rangle = \\sum_{j,k,l=1}^{d}\\left(|b_{l}\\rangle,\\langle a_{j}|b_{k}\\rangle|a_{j}\\rangle\\right)\\langle b_{k}|A|b_{l}\\rangle \\\\\n",
    "& = \\sum_{j,k,l=1}^{d}\\left(|b_{l}\\rangle,P_{a_{j}}|b_{k}\\right)\\langle b_{k}|A|b_{l}\\rangle = \\sum_{k,l=1}^{d}\\left(|b_{l}\\rangle,\\sum_{j}P_{a_{j}}|b_{k}\\right)\\langle b_{k}|A|b_{l}\\rangle \\\\ \n",
    "& = \\sum_{k,l=1}^{d}\\left(|b_{l}\\rangle,\\mathbb{I}|b_{k}\\right)\\langle b_{k}|A|b_{l}\\rangle = \\sum_{k,l=1}^{d}\\delta_{l,k}\\langle b_{k}|A|b_{l}\\rangle \\\\\n",
    "& = \\sum_{k=1}^{d}\\langle b_{k}|A|b_{k}\\rangle.\n",
    "\\end{align}\n",
    "\n",
    "* Traço do produto externo: $Tr(|\\eta\\rangle\\langle\\xi|)=\\langle\\xi|\\eta\\rangle$ <br>\n",
    "Consideremos dois vetores quaisquer $|\\eta\\rangle,|\\xi\\rangle$. Vamos usar a invariância do traço por mudança de base para escolher uma base ortonormal que contenha um desses vetores. Por exemplo, usemos a base $\\{|b_{j}\\rangle\\}_{j=1}^{d}$ com $|b_{1}\\rangle=|\\eta\\rangle$. Assim\n",
    "\\begin{align}\n",
    "Tr(|\\eta\\rangle\\langle\\xi|) &=  \\sum_{j=1}^{d}\\langle b_{j}|\\eta\\rangle\\langle\\xi|b_{j}\\rangle = \\sum_{j=1}^{d}\\langle b_{j}|b_{1}\\rangle\\langle\\xi|b_{j}\\rangle = \\sum_{j=1}^{d}\\delta_{j,1}\\langle\\xi|b_{j}\\rangle = \\langle\\xi|b_{1}\\rangle \\\\\n",
    "&= \\langle\\xi|\\eta\\rangle.\n",
    "\\end{align}"
   ]
  },
  {
   "cell_type": "markdown",
   "metadata": {},
   "source": [
    "# Funções matriciais de matrizes\n",
    "Já vimos algumas funções escalares de operadores/matrizes, como por exemplo o determinante, o traço, o produto interno e a norma. Aqui veremos como devemos proceder para calcular funções de operadores que nos retornam operadores, como por exemplo $\\log(\\cdot)$, $\\exp(\\cdot)$, $\\sqrt{\\cdot}$, etc.\n",
    "\n",
    "_OBS._ A primeira observação a se fazer aqui é que nossa intuição de como aplicar funções matriciais em matrizes está, em geral, errada, ou seja, se $A=(A_{j,k})$, em geral a função da matriz não é obtida aplicando-a em cada um dos elementos da matriz, i.e.,\n",
    "\\begin{equation}\n",
    "f(A)\\ne(f(A_{j,k})).\n",
    "\\end{equation}"
   ]
  },
  {
   "cell_type": "markdown",
   "metadata": {},
   "source": [
    "## Definição de $f(A)$\n",
    "Seja $A:\\mathcal{H}\\rightarrow\\mathcal{H}$ um operador linear e seja\n",
    "\\begin{equation}\n",
    "f(x)=\\sum_{j=0}^{\\infty}\\left(\\frac{1}{j!}\\frac{d^{j}f(x)}{dx^{j}}\\right)x^{j}\n",
    "\\end{equation}\n",
    "a expansão em série de Taylor para a função escalar $f(x)$. A função $f$ tendo operadores lineares como argumento é calculada substituíndo-se, na série de Taylor, o escalar $x$ pelo operador linear correspondente.\n",
    "\n",
    "##### Exemplo\n",
    "Como, para $x\\in\\mathbb{R}$, temos $e^{x}=\\sum_{j=0}^{\\infty}x^{j}/j!=1+x+x^{2}/2+x^{3}/3!+\\cdots$, segue que\n",
    "\\begin{equation}\n",
    "e^{A}=\\mathbb{I}_{\\mathcal{H}}+A+\\frac{A^{2}}{2}+\\frac{A^{3}}{3!}+\\cdots,\n",
    "\\end{equation}\n",
    "onde $A^{j}$ é a composição $A\\circ A\\circ\\cdots$ por $j$ vezes."
   ]
  },
  {
   "cell_type": "markdown",
   "metadata": {},
   "source": [
    "#### Aplicação: $e^{i\\theta\\vec{n}\\cdot\\vec{\\sigma}}=\\sigma_{0}\\cos\\theta+i\\vec{n}\\cdot\\vec{\\sigma}\\sin\\theta$\n",
    "Para $\\{\\sigma_{j}\\}_{j=1}^{3}$ sendo as matrizes de Pauli e $\\vec{n}\\in\\mathbb{R}^{3}$, definimos\n",
    "\\begin{equation}\n",
    "\\vec{n}\\cdot\\vec{\\sigma} = \\vec{n}^{T}\\vec{\\sigma}:=\\begin{bmatrix}n_{1} & n_{2} & n_{3}\\end{bmatrix}\\begin{bmatrix}\\sigma_{1} \\\\ \\sigma_{2} \\\\ \\sigma_{3}\\end{bmatrix} = \\sum_{j=1}^{3}n_{j}\\sigma_{j}.\n",
    "\\end{equation}\n",
    "\n",
    "Para o resultado que provaremos na sequência, utilizaremos a seguinte indentidade:\n",
    "\\begin{align}\n",
    "(\\vec{n}\\cdot\\vec{\\sigma})^{2} & = \\sum_{j=1}^{3}n_{j}\\sigma_{j}\\sum_{k=1}^{3}n_{k}\\sigma_{k} = \\sum_{j,k=1}^{3}n_{j}n_{k}\\sigma_{j}\\sigma_{k} = \\sum_{j,k=1}^{3}n_{j}n_{k}(\\delta_{j,k}\\sigma_{0}+sgn(j,k,l)i\\sigma_{l}) \\\\\n",
    "& = \\sum_{j=1}^{3}n_{j}^{2}\\sigma_{0} + \\sum_{j\\ne k}n_{j}n_{k}sgn(j,k,l)i\\sigma_{l} \\\\\n",
    "& = ||\\vec{n}||^{2}\\sigma_{0} + n_{1}n_{2}sgn(1,2,3)i\\sigma_{3}+n_{2}n_{1}sgn(2,1,3)i\\sigma_{3} \\\\\n",
    "&+ n_{1}n_{3}sgn(1,3,2)i\\sigma_{2}+n_{3}n_{1}sgn(3,1,2)i\\sigma_{2} + n_{2}n_{3}sgn(2,3,1)i\\sigma_{1}+n_{3}n_{2}sgn(3,2,1)i\\sigma_{1} \\\\\n",
    "& = ||\\vec{n}||^{2}\\sigma_{0} + (n_{1}n_{2}-n_{2}n_{1})i\\sigma_{3} + (-n_{1}n_{3}+n_{3}n_{1})i\\sigma_{2} + (n_{2}n_{3}-n_{3}n_{2})i\\sigma_{1} \\\\\n",
    "& = ||\\vec{n}||^{2}\\sigma_{0}.\n",
    "\\end{align}\n",
    "Agora, para $||\\vec{n}||=1$, $\\theta\\in\\mathbb{R}$ e $\\sigma_{0}=\\mathbb{I}_{\\mathbb{C}_{2}}$, usamos a série de Taylor para a exponencial e $(\\vec{n}\\cdot\\vec{\\sigma})^{2}=\\sigma_{0}$ para obter:\n",
    "\\begin{align}\n",
    "e^{i\\theta\\vec{n}\\cdot\\vec{\\sigma}} & = \\sum_{j=0}^{\\infty}\\frac{(i\\theta\\vec{n}\\cdot\\vec{\\sigma})^{j}}{j!} \\\\\n",
    "& = \\sigma_{0} + i\\theta\\vec{n}\\cdot\\vec{\\sigma} + \\frac{(i\\theta\\vec{n}\\cdot\\vec{\\sigma})^{2}}{2!} + \\frac{(i\\theta\\vec{n}\\cdot\\vec{\\sigma})^{3}}{3!} + \\frac{(i\\theta\\vec{n}\\cdot\\vec{\\sigma})^{4}}{4!} + \\frac{(i\\theta\\vec{n}\\cdot\\vec{\\sigma})^{5}}{5!} + \\cdots \\\\\n",
    "& = \\sigma_{0} + i\\theta\\vec{n}\\cdot\\vec{\\sigma} - \\frac{\\theta^{2}\\sigma_{0}}{2!} - \\frac{i\\theta^{3}\\vec{n}\\cdot\\vec{\\sigma}}{3!} + \\frac{\\theta^{4}\\sigma_{0}}{4!} + \\frac{i\\theta^{5}\\vec{n}\\cdot\\vec{\\sigma}}{5!} + \\cdots \\\\\n",
    "& = \\sigma_{0}(1- \\frac{\\theta^{2}}{2!} + \\frac{\\theta^{4}}{4!} -\\cdots) + i\\vec{n}\\cdot\\vec{\\sigma}(\\theta  - \\frac{\\theta^{3}}{3!}  + \\frac{\\theta^{5}}{5!} - \\cdots) \\\\\n",
    "& = \\sigma_{0}\\cos\\theta+i\\vec{n}\\cdot\\vec{\\sigma}\\sin\\theta.\n",
    "\\end{align}"
   ]
  },
  {
   "cell_type": "markdown",
   "metadata": {},
   "source": [
    "## Fórmula de Baker-Campbell-Hausdorff\n",
    "Para $c\\in\\mathbb{C}$ e $A,B:\\mathcal{H}\\rightarrow\\mathcal{H}$ segue que\n",
    "\\begin{equation}\n",
    "e^{cB}Ae^{-cB} = A + c[B,A] + \\frac{c^{2}}{2!}[B,[B,A]] + \\frac{c^{3}}{3!}[B,[B,[B,A]]] + \\cdots.\n",
    "\\end{equation}\n",
    "Vamos verificar essa igualdade expandindo a exponencial em série de Taylor:\n",
    "\\begin{align}\n",
    "e^{cB}Ae^{-cB} & = \\left(\\sum_{j=0}^{\\infty}\\frac{(cB)^{j}}{j!}\\right)A\\left(\\sum_{k=0}^{\\infty}\\frac{(-cB)^{k}}{k!}\\right) \\\\\n",
    "               & = \\left(\\mathbb{I} + cB + \\frac{c^{2}B^{2}}{2} + \\frac{c^{3}B^{3}}{3!} + \\cdots\\right)\n",
    "                   A \\left(\\mathbb{I} - cB + \\frac{c^{2}B^{2}}{2} - \\frac{c^{3}B^{3}}{3!} + \\cdots\\right) \\\\\n",
    "               & = A + cBA - cAB + \\frac{c^{2}B^{2}}{2}A + A\\frac{c^{2}B^{2}}{2} - \\frac{2}{2}cBAcB - \\frac{c^{2}B^{2}}{2}AcB + cBA\\frac{c^{2}B^{2}}{2} + \\frac{c^{3}B^{3}}{3!}A - A\\frac{c^{3}B^{3}}{3!} + \\cdots \\\\\n",
    "               & = A + c[B,A] + \\frac{c^{2}}{2}(BBA + ABB - 2BAB) + \\frac{c^{3}}{3!}(BBBA - ABBB + 3BABB - 3BBAB) + \\cdots \\\\\n",
    "               & = A + c[B,A] + \\frac{c^{2}}{2}(B(BA-AB) + (AB-BA)B) + \\frac{c^{3}}{3!}(BB(BA-AB) - (AB-BA)BB + 2B(ABB - BAB)) + \\cdots \\\\\n",
    "               & = A + c[B,A] + \\frac{c^{2}}{2}(B[B,A] - [B,A]B) + \\frac{c^{3}}{3!}(BB[B,A] + [B,A]BB - 2B[B,A]B)) + \\cdots \\\\\n",
    "               & = A + c[B,A] + \\frac{c^{2}}{2}[B,[B,A]] + \\frac{c^{3}}{3!}(B(B[B,A]-[B,A]B) + ([B,A]B-B[B,A])B) + \\cdots \\\\\n",
    "               & = A + c[B,A] + \\frac{c^{2}}{2}[B,[B,A]] + \\frac{c^{3}}{3!}(B[B,[B,A]] - [B,[B,A]B) + \\cdots \\\\\n",
    "               & = A + c[B,A] + \\frac{c^{2}}{2!}[B,[B,A]] + \\frac{c^{3}}{3!}[B,[B,[B,A]]] + \\cdots.\n",
    "\\end{align}"
   ]
  },
  {
   "cell_type": "markdown",
   "metadata": {},
   "source": [
    "##### Exemplo: $e^{c\\sigma_{z}}\\sigma_{x}e^{-c\\sigma_{z}}=\\sigma_{x}\\cos(2ic) + \\sigma_{y}\\sin(2ic)$\n",
    "Para\n",
    "\\begin{equation}\n",
    "A = \\sigma_{x} = \\begin{bmatrix} 0&1\\\\1&0 \\end{bmatrix} \\text{ e } B = \\sigma_{z}=\\begin{bmatrix} 1&0\\\\0&-1 \\end{bmatrix},\n",
    "\\end{equation}\n",
    "temos\n",
    "\\begin{equation}\n",
    "[\\sigma_{z},\\sigma_{x}]=2i\\sigma_{y}\\text{ e }[\\sigma_{z},\\sigma_{y}]=-2i\\sigma_{x}.\n",
    "\\end{equation}\n",
    "Assim\n",
    "\\begin{align}\n",
    "e^{c\\sigma_{z}}\\sigma_{x}e^{-c\\sigma_{z}} \n",
    "& = \\sigma_{x} + c[\\sigma_{z},\\sigma_{x}] + \\frac{c^{2}}{2}[\\sigma_{z},[\\sigma_{z},\\sigma_{x}]] + \\frac{c^{3}}{3!}[\\sigma_{z},[\\sigma_{z},[\\sigma_{z},\\sigma_{x}]]] \\\\ \n",
    "& \\hspace{0.4cm} + \\frac{c^{4}}{4!}[\\sigma_{z},[\\sigma_{z},[\\sigma_{z},[\\sigma_{z},\\sigma_{x}]]]] + \\frac{c^{5}}{5!}[\\sigma_{z},[\\sigma_{z},[\\sigma_{z},[\\sigma_{z},[\\sigma_{z},\\sigma_{x}]]]]] + \\cdots \\\\\n",
    "& = \\sigma_{x} + c2i\\sigma_{y} + \\frac{c^{2}}{2}2i[\\sigma_{z},\\sigma_{y}] + \\frac{c^{3}}{3!}2i[\\sigma_{z},[\\sigma_{z},\\sigma_{y}]] + \\frac{c^{4}}{4!}2i[\\sigma_{z},[\\sigma_{z},[\\sigma_{z},\\sigma_{y}]]] + \\frac{c^{5}}{5!}2i[\\sigma_{z},[\\sigma_{z},[\\sigma_{z},[\\sigma_{z},\\sigma_{y}]]]] + \\cdots \\\\\n",
    "              & = \\sigma_{x} + c2i\\sigma_{y} - \\frac{c^{2}}{2}4i^{2}\\sigma_{x} - \\frac{c^{3}}{3!}4i^{2}[\\sigma_{z},\\sigma_{x}] - \\frac{c^{4}}{4!}4i^{2}[\\sigma_{z},[\\sigma_{z},\\sigma_{x}]] - \\frac{c^{5}}{5!}4i^{2}[\\sigma_{z},[\\sigma_{z},[\\sigma_{z},\\sigma_{x}]]] + \\cdots \\\\\n",
    "              & = \\sigma_{x} + c2i\\sigma_{y} - \\frac{(2ic)^{2}}{2}\\sigma_{x} - \\frac{c^{3}}{3!}8i^{3}\\sigma_{y} - \\frac{c^{4}}{4!}8i^{3}[\\sigma_{z},\\sigma_{y}] - \\frac{c^{5}}{5!}8i^{3}[\\sigma_{z},[\\sigma_{z},\\sigma_{y}]] + \\cdots \\\\\n",
    "              & = \\sigma_{x} + c2i\\sigma_{y} - \\frac{(2ic)^{2}}{2}\\sigma_{x} - \\frac{c^{3}}{3!}8i^{3}\\sigma_{y} + \\frac{c^{4}}{4!}16i^{4}\\sigma_{x} + \\frac{c^{5}}{5!}16i^{4}[\\sigma_{z},\\sigma_{x}] + \\cdots \\\\\n",
    "              & = \\sigma_{x} + c2i\\sigma_{y} - \\frac{(2ic)^{2}}{2}\\sigma_{x} - \\frac{(2ic)^{3}}{3!}\\sigma_{y} + \\frac{(2ic)^{4}}{4!}\\sigma_{x} + \\frac{(2ic)^{5}}{5!}\\sigma_{y} + \\cdots \\\\\n",
    "              & = \\sigma_{x}\\left(1 - \\frac{(2ic)^{2}}{2!} +\\frac{(2ic)^{4}}{4!} + \\cdots\\right) + \\sigma_{y}\\left(2ci  - \\frac{(2ic)^{3}}{3!} + \\frac{(2ic)^{5}}{5!} + \\cdots\\right)  \\\\\n",
    "              & = \\sigma_{x}\\cos(2ic) + \\sigma_{y}\\sin(2ic).\n",
    "\\end{align}"
   ]
  },
  {
   "cell_type": "code",
   "execution_count": 4,
   "metadata": {},
   "outputs": [],
   "source": [
    "def BCH(c,B,A,order):\n",
    "    terms = []; term = A; co = A; bch = term; terms.append(term)\n",
    "    for j in range(1,order):\n",
    "        co = comm(B,co); term = pow(c,j)*co/fact(j); bch += term; terms.append(term)\n",
    "    return bch, terms"
   ]
  },
  {
   "cell_type": "code",
   "execution_count": 5,
   "metadata": {},
   "outputs": [
    {
     "data": {
      "image/png": "[encoded data removed]",
      "text/latex": [
       "$$\\left [ \\left[\\begin{matrix}0 & 1\\\\1 & 0\\end{matrix}\\right], \\quad \\left[\\begin{matrix}0 & 2.0 c\\\\- 2.0 c & 0\\end{matrix}\\right], \\quad \\left[\\begin{matrix}0 & 2.0 c^{2}\\\\2.0 c^{2} & 0\\end{matrix}\\right], \\quad \\left[\\begin{matrix}0 & 1.33333333333333 c^{3}\\\\- 1.33333333333333 c^{3} & 0\\end{matrix}\\right], \\quad \\left[\\begin{matrix}0 & 0.666666666666667 c^{4}\\\\0.666666666666667 c^{4} & 0\\end{matrix}\\right], \\quad \\left[\\begin{matrix}0 & 0.266666666666667 c^{5}\\\\- 0.266666666666667 c^{5} & 0\\end{matrix}\\right]\\right ]$$"
      ],
      "text/plain": [
       "⎡                         ⎡             2⎤  ⎡                                 \n",
       "⎢⎡0  1⎤  ⎡  0     2.0⋅c⎤  ⎢  0     2.0⋅c ⎥  ⎢         0            1.333333333\n",
       "⎢⎢    ⎥, ⎢             ⎥, ⎢              ⎥, ⎢                                 \n",
       "⎢⎣1  0⎦  ⎣-2.0⋅c    0  ⎦  ⎢     2        ⎥  ⎢                   3             \n",
       "⎣                         ⎣2.0⋅c     0   ⎦  ⎣-1.33333333333333⋅c            0 \n",
       "\n",
       "       3⎤  ⎡                                         4⎤  ⎡                    \n",
       "33333⋅c ⎥  ⎢         0            0.666666666666667⋅c ⎥  ⎢          0         \n",
       "        ⎥, ⎢                                          ⎥, ⎢                    \n",
       "        ⎥  ⎢                   4                      ⎥  ⎢                    \n",
       "        ⎦  ⎣0.666666666666667⋅c            0          ⎦  ⎣-0.266666666666667⋅c\n",
       "\n",
       "                      5⎤⎤\n",
       "   0.266666666666667⋅c ⎥⎥\n",
       "                       ⎥⎥\n",
       "5                      ⎥⎥\n",
       "            0          ⎦⎦"
      ]
     },
     "execution_count": 5,
     "metadata": {},
     "output_type": "execute_result"
    }
   ],
   "source": [
    "A = Symbol(\"A\", commutative = False); B = Symbol(\"B\", commutative = False); c = Symbol(\"c\")\n",
    "A = pauli(1); B = pauli(3)\n",
    "order = 6; bch, terms = BCH(c,B,A,order); simplify(terms)"
   ]
  },
  {
   "cell_type": "markdown",
   "metadata": {},
   "source": [
    "---\n",
    "# $f(A)$ para operadores normais\n",
    "Se\n",
    "\\begin{equation}\n",
    "A=\\sum_{a}aP_{a}\n",
    "\\end{equation}\n",
    "é a decomposição espectral do operador linear normal $A$, então suas funções podem ser calculadas usando\n",
    "\\begin{equation}\n",
    "f(A):=\\sum_{a}f(a)P_{a}.\n",
    "\\end{equation}\n",
    "Ou seja, depois de obter a decomposição espectral de $A$, atuamos a função nos seus autovalores."
   ]
  },
  {
   "cell_type": "markdown",
   "metadata": {},
   "source": [
    "### Equivalência entre as definições de $f(A)$ para $A=A^{\\dagger}$\n",
    "Vamos verificar que essa definição é equivalente à definição via séries de Taylor. Como mostrado por Taylor, se decompomos uma função escalar qualquer em termos de potências de $x$:\n",
    "\\begin{equation}\n",
    "f(x)=\\sum_{j=0}^{\\infty}c_{j}x^{j},\n",
    "\\end{equation}\n",
    "os coeficientes são dados como na série de Maclaurin, i.e., $c_{j}=\\frac{1}{j!}\\frac{d^{j}f(x)}{dx^{j}}$. Assim, como\n",
    "\\begin{align}\n",
    "A^{j} &= AAA\\cdots = \\sum_{a}aP_{a}\\sum_{a'}a'P_{a'}\\sum_{a''}a''P_{a''}\\cdots \\\\\n",
    "& = \\sum_{a,a',a'',\\cdots}aa'a''\\cdots P_{a}P_{a'}P_{a''}\\cdots = \\sum_{a,a',a'',\\cdots}aa'a''\\cdots \\delta_{aa'}\\delta_{a'a''}\\cdots P_{a} \\\\\n",
    "& = \\sum_{a}a^{j}P_{a},\n",
    "\\end{align}\n",
    "teremos que\n",
    "\\begin{align}\n",
    "f(A) & = \\sum_{j=0}^{\\infty}c_{j}A^{j} = \\sum_{j=0}^{\\infty}c_{j}\\sum_{a}a^{j}P_{a} = \\sum_{a}\\left(\\sum_{j=0}^{\\infty}c_{j}a^{j}\\right)P_{a} \\\\\n",
    "& = \\sum_{a}f(a)P_{a}.\n",
    "\\end{align}"
   ]
  },
  {
   "cell_type": "markdown",
   "metadata": {},
   "source": [
    "##### Exemplos\n",
    "### $e^{A}$\n",
    "\\begin{align}\n",
    "e^{A} & = \\mathbb{I}_{\\mathcal{H}}+A+\\frac{A^{2}}{2}+\\frac{A^{3}}{3!}+\\cdots \\\\\n",
    "& = \\sum_{a}P_{a} + \\sum_{a}aP_{a} + \\frac{\\sum_{a}aP_{a}\\sum_{a'}a'P_{a'}}{2}+\\frac{\\sum_{a}aP_{a}\\sum_{a'}a'P_{a'}\\sum_{a''}a''P_{a''}}{3!}+\\cdots \\\\\n",
    "& = \\sum_{a}P_{a} + \\sum_{a}aP_{a} + \\frac{\\sum_{a,a'}aa'P_{a}P_{a'}}{2}+\\frac{\\sum_{a,a',a''}aa'a''P_{a}P_{a'}P_{a''}}{3!}+\\cdots \\\\\n",
    "& = \\sum_{a}P_{a} + \\sum_{a}aP_{a} + \\frac{\\sum_{a}a^{2}P_{a}}{2}+\\frac{\\sum_{a}a^{3}P_{a}}{3!}+\\cdots \\\\\n",
    "& = \\sum_{a}(1+a+\\frac{a^{2}}{2}+\\frac{a^{3}}{3!}+\\cdots)P_{a} \\\\\n",
    "& = \\sum_{a}e^{a}P_{a}.\n",
    "\\end{align}"
   ]
  },
  {
   "cell_type": "markdown",
   "metadata": {},
   "source": [
    "### $\\ln(A)$\n",
    "Embora a série de Taylor não esteja definida para $\\ln(x)$ em torno de $x=0$, se para operadores normais $A=\\sum_{a}aP_{a}$ definimos\n",
    "\\begin{equation}\n",
    "\\ln(A)=\\sum_{a}\\ln(a)P_{a},\n",
    "\\end{equation}\n",
    "teremos\n",
    "\\begin{equation}\n",
    "e^{\\ln(A)} = e^{\\sum_{a}\\ln(a)P_{a}} = \\sum_{a}e^{\\ln(a)}P_{a} = \\sum_{a}aP_{a} =A,\n",
    "\\end{equation}\n",
    "como é esperado. Claro, o mesmo vale para o logaritmo em outras bases."
   ]
  },
  {
   "cell_type": "markdown",
   "metadata": {},
   "source": [
    "### $\\sqrt{A}$\n",
    "Para essa função $\\sqrt{x}$ a série de Taylor também não está definida em torno de $x=0$. Por conseguinte, em geral $\\sqrt{A}$ não é bem ou unicamente definida. Por exemplo, qualquer operador Hermitiano ($A=A^{\\dagger}$) e unitário ($AA^{\\dagger}=A^{\\dagger}A=\\mathbb{I}$) é a raiz quadrada do operador identidade pois\n",
    "\\begin{equation}\n",
    "AA^{\\dagger}=AA=A^{2}=\\mathbb{I} \\therefore A=\\sqrt{\\mathbb{I}}.\n",
    "\\end{equation}\n",
    "No entanto, se para operadores normais definimos\n",
    "\\begin{equation}\n",
    "\\sqrt{A}=\\sum_{a}\\sqrt{a}P_{a}\n",
    "\\end{equation}\n",
    "então teremos que\n",
    "\\begin{align}\n",
    "\\sqrt{A}\\sqrt{A}&=\\sum_{a}\\sqrt{a}P_{a}\\sum_{a'}\\sqrt{a'}P_{a'}=\\sum_{a,a'}\\sqrt{a}\\sqrt{a'}P_{a}P_{a'} =\\sum_{a,a'}\\sqrt{a}\\sqrt{a'}\\delta_{a,a'}P_{a} = \\sum_{a}aP_{a}, \\\\\n",
    "&= A,\n",
    "\\end{align}\n",
    "como esperado. Por exemplo, para a matriz de Pauli $\\sigma_{z}=\\begin{bmatrix}1&0\\\\0&-1\\end{bmatrix}=(1)P_{e_{1}}+(-1)P_{e_{2}}$ temos $\\sqrt{\\sigma_{z}}=\\sqrt{1}P_{e_{1}}+\\sqrt{-1}P_{e_{2}}=\\begin{bmatrix}1&0\\\\0&i\\end{bmatrix}$ de forma que $\\sqrt{\\sigma_{z}}\\sqrt{\\sigma_{z}}=\\begin{bmatrix}1&0\\\\0&i\\end{bmatrix}\\begin{bmatrix}1&0\\\\0&i\\end{bmatrix}=\\begin{bmatrix}1&0\\\\0&i^{2}\\end{bmatrix}=\\sigma_{z}$.\n",
    "\n",
    "O código abaixo pode ser utilizado para calcular esses 3 exemplos de funções matriciais de matrizes."
   ]
  },
  {
   "cell_type": "code",
   "execution_count": 6,
   "metadata": {},
   "outputs": [],
   "source": [
    "def mat_func(A,func): \n",
    "    eig = A.eigenvects(); d = A.shape[0]; A_func = zeros(d,d); ne = 0; j = 0; lk = 0\n",
    "    while ne < d:\n",
    "        mult = eig[j][1] # multiplicidade\n",
    "        ne += mult # número de autovalores considerados até então\n",
    "        for k in range(0,mult):\n",
    "            Proj = proj(eig[j][2][k])\n",
    "            if func == 'sqrt':\n",
    "                A_func += sqrt(eig[j][0])*(Proj/trace(Proj))\n",
    "            elif func == 'exp':\n",
    "                A_func += exp(eig[j][0])*(Proj/trace(Proj))\n",
    "            elif func == 'ln':\n",
    "                A_func += ln(eig[j][0])*(Proj/trace(Proj))\n",
    "        j += 1\n",
    "    return A_func"
   ]
  },
  {
   "cell_type": "code",
   "execution_count": 15,
   "metadata": {},
   "outputs": [
    {
     "data": {
      "image/png": "[encoded data removed]",
      "text/latex": [
       "$$\\left ( \\left[\\begin{matrix}1 & 0\\\\0 & -1\\end{matrix}\\right], \\quad \\left[\\begin{matrix}1 & 0\\\\0 & i\\end{matrix}\\right], \\quad \\left[\\begin{matrix}e & 0\\\\0 & e^{-1}\\end{matrix}\\right], \\quad \\left[\\begin{matrix}0 & 0\\\\0 & i \\pi\\end{matrix}\\right]\\right )$$"
      ],
      "text/plain": [
       "⎛                 ⎡ℯ   0 ⎤          ⎞\n",
       "⎜⎡1  0 ⎤  ⎡1  0⎤  ⎢      ⎥  ⎡0   0 ⎤⎟\n",
       "⎜⎢     ⎥, ⎢    ⎥, ⎢    -1⎥, ⎢      ⎥⎟\n",
       "⎝⎣0  -1⎦  ⎣0  ⅈ⎦  ⎣0  ℯ  ⎦  ⎣0  ⅈ⋅π⎦⎠"
      ]
     },
     "execution_count": 15,
     "metadata": {},
     "output_type": "execute_result"
    }
   ],
   "source": [
    "A = pauli(3)\n",
    "#a,b,c,d = symbols(\"a b c d\"); A = Matrix([[a,b],[c,d]])\n",
    "A, mat_func(A,'sqrt'), mat_func(A,'exp'), mat_func(A,'ln')"
   ]
  },
  {
   "cell_type": "markdown",
   "metadata": {},
   "source": [
    "### Entropia de von Neumann\n",
    "Em Mecânica Quântica, em um contexto mais geral de sistemas compostos, o estado de uma sistema físico pode ser descrito por uma matriz positiva $(\\rho\\ge\\mathbb{O})$ com traço igual a um $(Tr(\\rho)=1)$, a chamada matriz densidade. Considere a decomposição espectral de \n",
    "\\begin{equation}\n",
    "\\rho=\\sum_{r}rP_{r},\n",
    "\\end{equation}\n",
    "com $P_{r}$ sendo projetores 1D. A entropia de von Neumann dessa matriz é definida e dada por:\n",
    "\\begin{align}\n",
    "S(\\rho) &= -Tr(\\rho\\log_{2}(\\rho)) = -Tr\\left(\\rho\\log_{2}\\left(\\sum_{r}rP_{r}\\right)\\right) = -Tr\\left(\\left(\\sum_{r'}r'P_{r'}\\right)\\left(\\sum_{r}\\log_{2}(r)P_{r}\\right)\\right) \\\\\n",
    "& = -Tr\\left(\\sum_{r',r}r'\\log_{2}(r)P_{r'}P_{r}\\right) = -Tr\\left(\\sum_{r',r}r'\\log_{2}(r)\\delta_{rr'}P_{r}\\right) = -\\sum_{r}r\\log_{2}(r)Tr(P_{r}) \\\\\n",
    "& = -\\sum_{r}r\\log_{2}(r)\\sum_{r'}(|r'\\rangle,P_{r}(|r'\\rangle)) = -\\sum_{r}r\\log_{2}(r)\\sum_{r'}(|r'\\rangle,\\langle r|r'\\rangle|r\\rangle) \\\\\n",
    "& = -\\sum_{r}r\\log_{2}(r)\\sum_{r'}\\delta_{r,r'}(|r'\\rangle,|r\\rangle) = -\\sum_{r}r\\log_{2}(r)\\langle r|r\\rangle \\\\\n",
    "& = -\\sum_{r}r\\log_{2}(r)=H(\\{r\\}),\n",
    "\\end{align}\n",
    "que é a chamada entropia de Shannon da distribuição de probabilidades $\\{r\\}$ (os autovalores de $\\rho$). Essas funções podem ser calculadas utilizando o código abaixo."
   ]
  },
  {
   "cell_type": "code",
   "execution_count": 8,
   "metadata": {},
   "outputs": [],
   "source": [
    "def eVals(A):\n",
    "    d = A.shape[0]; eig = A.eigenvects(); ne = 0; j = 0; lk = 0\n",
    "    while ne < d:\n",
    "        mult = eig[j][1]; ne += mult; nk = lk + mult\n",
    "        for k in range(lk,nk):\n",
    "            evals[k] = eig[j][0]\n",
    "        lk = nk; j += 1\n",
    "    return evals\n",
    "def shannon(pv):\n",
    "    d = pv.shape[0]; H = 0\n",
    "    for j in range(d):\n",
    "        if isinstance(pv[j], sympy.Expr)==False and pv[j] < 1.e-15 and pv[j] > (1.0-1.e-15):\n",
    "            continue\n",
    "        else:\n",
    "            H -= pv[j]*log(pv[j],2)\n",
    "    return H\n",
    "def von_neumann(rho):\n",
    "    d = rho.shape[0]; evals = zeros(d,1); evals = eVals(rho)\n",
    "    return shannon(evals)"
   ]
  },
  {
   "cell_type": "code",
   "execution_count": 9,
   "metadata": {},
   "outputs": [
    {
     "data": {
      "image/png": "[encoded data removed]",
      "text/latex": [
       "$$- \\frac{1}{\\log{\\left (2 \\right )}} \\left(a \\log{\\left (a \\right )} + b \\log{\\left (b \\right )}\\right)$$"
      ],
      "text/plain": [
       "-(a⋅log(a) + b⋅log(b)) \n",
       "───────────────────────\n",
       "         log(2)        "
      ]
     },
     "execution_count": 9,
     "metadata": {},
     "output_type": "execute_result"
    }
   ],
   "source": [
    "a, b, c, d = symbols(\"a b c d\"); rho = Matrix([[a,0],[0,b]])\n",
    "#rho = Matrix([[1/2.,0],[0,1/2.]])\n",
    "evals = zeros(rho.shape[0],1); simplify(von_neumann(rho))"
   ]
  },
  {
   "cell_type": "markdown",
   "metadata": {},
   "source": [
    "### Estado térmico de Gibbs\n",
    "O operador que representa a energia de um sistema quântico é um operador Hermitiano chamado de Hamiltoniano:\n",
    "\\begin{equation}\n",
    "H=\\sum_{h}hP_{h},\n",
    "\\end{equation}\n",
    "com $P_{h}$ um projetor 1D. Um sistema em equilíbrio térmico é descrito pelo estado térmico de Gibbs:\n",
    "\\begin{equation}\n",
    "\\rho_{g}=\\frac{e^{-\\beta H}}{Z} = \\sum_{h}\\frac{e^{-\\beta h}}{Z}|h\\rangle\\langle h| = \\sum_{h}Pr(h)|h\\rangle\\langle h|,\n",
    "\\end{equation}\n",
    "em que $Tr(\\rho_{g}):=1$ nos leva à função de partição:\n",
    "\\begin{align}\n",
    "Z &= Tr\\left(e^{-\\beta H}\\right) = Tr\\left(\\sum_{h}e^{-\\beta h}|h\\rangle\\langle h|\\right) = \\sum_{h}e^{-\\beta h}Tr(|h\\rangle\\langle h|) \\\\\n",
    "& = \\sum_{h}e^{-\\beta h},\n",
    "\\end{align}\n",
    "com\n",
    "\\begin{equation}\n",
    "\\beta=\\frac{1}{k_{B}T}.\n",
    "\\end{equation}\n",
    "O estado térmico de Gibbs pode ser calculado usando o código abaixo."
   ]
  },
  {
   "cell_type": "code",
   "execution_count": 10,
   "metadata": {},
   "outputs": [],
   "source": [
    "def partition_function(expmbH): # função de partição\n",
    "    return tr(expmbH)\n",
    "def rho_gibbs(beta, H): # estado térmico de Gibbs\n",
    "    expmbH = mat_func(-beta*H,'exp'); pf = partition_function(expmbH)\n",
    "    return expmbH/pf"
   ]
  },
  {
   "cell_type": "code",
   "execution_count": 13,
   "metadata": {},
   "outputs": [
    {
     "data": {
      "image/png": "[encoded data removed]",
      "text/latex": [
       "$$\\left[\\begin{matrix}\\frac{1}{2} & \\frac{e^{\\beta \\hbar \\omega} - 1}{2 e^{\\beta \\hbar \\omega} + 2}\\\\\\frac{e^{\\beta \\hbar \\omega} - 1}{2 e^{\\beta \\hbar \\omega} + 2} & \\frac{1}{2}\\end{matrix}\\right]$$"
      ],
      "text/plain": [
       "⎡                 β⋅h̅⋅ω     ⎤\n",
       "⎢                ℯ       - 1 ⎥\n",
       "⎢     1/2       ─────────────⎥\n",
       "⎢                  β⋅h̅⋅ω    ⎥\n",
       "⎢               2⋅ℯ       + 2⎥\n",
       "⎢                            ⎥\n",
       "⎢  β⋅h̅⋅ω                    ⎥\n",
       "⎢ ℯ       - 1                ⎥\n",
       "⎢─────────────       1/2     ⎥\n",
       "⎢   β⋅h̅⋅ω                   ⎥\n",
       "⎣2⋅ℯ       + 2               ⎦"
      ]
     },
     "execution_count": 13,
     "metadata": {},
     "output_type": "execute_result"
    }
   ],
   "source": [
    "w, b, hb = symbols('omega beta hbar'); H = -(hb*w/2)*pauli(1); simplify(rho_gibbs(b,H))"
   ]
  },
  {
   "cell_type": "markdown",
   "metadata": {},
   "source": [
    "## Forma exponencial para operadores unitários\n",
    "Seja $H:\\mathcal{H}\\rightarrow\\mathcal{H}$ um operador Hermitiano e $\\theta\\in\\mathbb{R}$, então\n",
    "\\begin{equation}\n",
    "U := e^{i\\theta H}\n",
    "\\end{equation}\n",
    "é um operador unitário. Para verificar essa afirmação, notemos que se $H=\\sum_{h}hP_{h}$, então $i\\theta H=\\sum_{h}i\\theta hP_{h}$. E assim\n",
    "\\begin{equation}\n",
    "U=e^{i\\theta H}=\\sum_{h}e^{i\\theta h}P_{h}\n",
    "\\end{equation}\n",
    "e\n",
    "\\begin{equation}\n",
    "U^{\\dagger}=\\sum_{h}(e^{i\\theta h})^{*}P_{h}^{\\dagger} = \\sum_{h}e^{-i\\theta h}P_{h}.\n",
    "\\end{equation}\n",
    "Por conseguinte,\n",
    "\\begin{align}\n",
    "UU^{\\dagger} &= \\sum_{h}e^{i\\theta h}P_{h}\\sum_{h'}e^{-i\\theta h'}P_{h'} = \\sum_{h,h'}e^{i\\theta(h-h')}P_{h}P_{h'} = \\sum_{h}P_{h} \\\\\n",
    "& = \\mathbb{I}_{\\mathcal{H}} = \\cdots = U^{\\dagger}U.\n",
    "\\end{align}"
   ]
  },
  {
   "cell_type": "markdown",
   "metadata": {},
   "source": [
    "## Exponencial da soma de operadores comutantes\n",
    "Se dois operadores lineares $A$ e $B$ comutam, i.e., \n",
    "\\begin{equation}\n",
    "[A,B]=\\mathbb{0}_{\\mathcal{H}},\n",
    "\\end{equation}\n",
    "então podemos escrever as decomposições espectrais \n",
    "\\begin{equation}\n",
    "A=\\sum_{j}a_{j}P_{j} \\text{ e } B=\\sum_{j}b_{j}P_{j}.\n",
    "\\end{equation}\n",
    "Assim\n",
    "\\begin{equation}\n",
    "A+B=\\sum_{j}(a_{j}+b_{j})P_{j}\n",
    "\\end{equation}\n",
    "e\n",
    "\\begin{align}\n",
    "e^{A}e^{B} & = \\sum_{j}e^{a_{j}}P_{j}\\sum_{k}e^{b_{k}}P_{k} = \\sum_{j,k}e^{a_{j}}e^{b_{k}}P_{j}P_{k} \\\\\n",
    "&= \\sum_{j,k}e^{a_{j}+b_{k}}\\delta_{j,k}P_{j} = \\sum_{j}e^{a_{j}+b_{j}}P_{j} \\\\\n",
    "& = e^{A+B}.\n",
    "\\end{align}"
   ]
  },
  {
   "cell_type": "markdown",
   "metadata": {},
   "source": [
    "## Exponencial da soma de operadores não comutantes\n",
    "Se dois operadores lineares $A$ e $B$ não comutam, i.e., \n",
    "\\begin{equation}\n",
    "[A,B]\\ne\\mathbb{0}_{\\mathcal{H}},\n",
    "\\end{equation}\n",
    "teremos\n",
    "\\begin{matrix}\n",
    "e^{A+B}\\ne e^{A}e^{B}.\n",
    "\\end{matrix}\n",
    "Obter fórmulas exatas ou boas aproximações para a exponencial da soma de operadores é um dos principais problemas que precisamos resolver para descriver a dinâmica de sistemas quânticos com vários graus de liberdade.\n",
    "\n",
    "### Fórmula de Zassenhaus\n",
    "Seja $L(A,B)$ a álgebra de Lie livre gerada por $A$ e $B$. Então [https://arxiv.org/abs/1204.0389]\n",
    "\\begin{equation}\n",
    "e^{A+B} = e^{A}e^{B}\\Pi_{j=2}^{\\infty}e^{C_{j}(A,B)},\n",
    "\\end{equation}\n",
    "com $C_{j}(A,B)\\in L(A,B)$ é um polinômio homogêneo de Lie de grau $j$ em $A$ e $B$. Explicitamente teremos\n",
    "\\begin{align}\n",
    "C_{2} & = -\\frac{1}{2}[A,B], \\\\\n",
    "C_{3} & = -\\frac{1}{6}\\left([[A,B],A]+2[[A,B],B]\\right), \\\\\n",
    "C_{4} & = -\\frac{1}{24}\\left([[[A,B],A],A]+3[[[A,B],A],B]+3[[[A,B],B],B]\\right), \\\\\n",
    "&\\vdots.\n",
    "\\end{align}\n",
    "\n",
    "#### Caso especial\n",
    "Para operadores tais que $[B,[A,B]]=[A,[A,B]]=\\mathbb{0}$ teremos que\n",
    "\\begin{equation}\n",
    "e^{A+B} = e^{A}e^{B}e^{-[A,B]/2}.\n",
    "\\end{equation}\n",
    "Um exemplo importante de tais operadores são os operadores de criação, $a$, e de aniquilação, $a^{\\dagger}$, do oscilador harmônico quântico, para os quais $[a,a^{\\dagger}]=\\mathbb{I}.$\n",
    "\n",
    "### Fórmula de Trotter-Suzuki\n",
    "Outra equação que é usada frequentemente na literatura é a fórmula de Trotter [J. Math. Phys. 26, 601 (1985)]:\n",
    "\\begin{equation}\n",
    "e^{A+B}=\\lim_{N\\rightarrow\\infty}\\left(e^{A/N}e^{B/N}\\right)^{N}.\n",
    "\\end{equation}"
   ]
  },
  {
   "cell_type": "markdown",
   "metadata": {},
   "source": [
    "---\n",
    "# Exercícios\n",
    "\n",
    "1. Verifique que o produto interno de Hilbert-Schmidt é invariante sob transformações unitárias, i.e., verifique que $\\langle UAU^{\\dagger}|UBU^{\\dagger}\\rangle_{hs} = \\langle A|B\\rangle_{hs}$.\n",
    "\n",
    "1. Como podemos escrever a função $\\sin(A)$ de um operador linear $A$ em termos de suas potências?\n",
    "\n",
    "1. Utilize a fórmula de Baker-Campbell-Hausdorff para escrever $e^{c\\sigma_{x}}\\sigma_{y}e^{-c\\sigma_{x}}$ em termos de $\\sigma_{y}$ e $\\sigma_{z}$.\n",
    "\n",
    "1. Calcule $\\sqrt{\\sigma_{x}}$.\n",
    "\n",
    "1. Verifique que a entropia de von Neumann de $\\rho=|\\psi\\rangle\\langle\\psi|$ é nula. Dica: Considere que a base de autovetores de $\\rho$ é constituída por $|\\psi\\rangle$ e por estados ortogonais e este vetor. Use também o fato que $\\lim_{x\\rightarrow 0}\\left(x\\log_{2}(x)\\right)=0$ para fazer $0\\log_{2}(0)=0$.\n",
    "\n",
    "1. Verifique que a entropia de von Neumann de $\\rho=d^{-1}\\mathbb{I}_{d}$ é $\\log_{2}(d)$.\n",
    "\n",
    "1. Para $H:\\mathcal{H}\\rightarrow\\mathcal{H}$ um operador Hermitiano e $\\theta\\in\\mathbb{R}$, verifique que o operador $U = e^{i\\theta H}$ é unitário."
   ]
  },
  {
   "cell_type": "code",
   "execution_count": null,
   "metadata": {},
   "outputs": [],
   "source": []
  }
 ],
 "metadata": {
  "kernelspec": {
   "display_name": "Python 3",
   "language": "python",
   "name": "python3"
  },
  "language_info": {
   "codemirror_mode": {
    "name": "ipython",
    "version": 3
   },
   "file_extension": ".py",
   "mimetype": "text/x-python",
   "name": "python",
   "nbconvert_exporter": "python",
   "pygments_lexer": "ipython3",
   "version": "3.6.6"
  }
 },
 "nbformat": 4,
 "nbformat_minor": 2
}
