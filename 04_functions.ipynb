{
 "cells": [
  {
   "cell_type": "markdown",
   "metadata": {},
   "source": [
    "## Notas de aula: Álgebra Linear, Autor: Jonas Maziero, Departamento de Física, UFSM"
   ]
  },
  {
   "cell_type": "code",
   "execution_count": 23,
   "metadata": {},
   "outputs": [],
   "source": [
    "%run init.ipynb\n",
    "%run 03_operators.ipynb"
   ]
  },
  {
   "cell_type": "markdown",
   "metadata": {},
   "source": [
    "# Funções matriciais de matrizes\n",
    "Já vimos algumas funções escalares de operadores/matrizes, como por exemplo o determinante, o traço, o produto interno e a norma. Aqui veremos como devemos proceder para calcular funções de operadores que nos retornam operadores, como por exemplo $\\log(\\cdot)$, $\\exp(\\cdot)$, $\\sqrt{\\cdot}$, etc.\n",
    "\n",
    "_OBS._ A primeira observação a se fazer aqui é que nossa intuição de como aplicar funções matriciais em matrizes está, em geral, errada, ou seja, se $A=(A_{j,k})$, em geral a função da matriz não é obtida aplicando-a em cada um dos elementos da matriz, i.e.,\n",
    "\\begin{equation}\n",
    "f(A)\\ne(f(A_{j,k})).\n",
    "\\end{equation}"
   ]
  },
  {
   "cell_type": "markdown",
   "metadata": {},
   "source": [
    "## Definição de $f(A)$\n",
    "Seja $A:\\mathcal{H}\\rightarrow\\mathcal{H}$ um operador linear e seja\n",
    "\\begin{equation}\n",
    "f(x)=\\sum_{j=0}^{\\infty}\\left(\\frac{1}{j!}\\frac{d^{j}f(x)}{dx^{j}}\\right)x^{j}\n",
    "\\end{equation}\n",
    "a expansão em série de Taylor para a função escalar $f(x)$. A função $f$ tendo operadores lineares como argumento é calculada substituíndo-se, na série de Taylor, o escalar $x$ pelo operador linear correspondente.\n",
    "### Exemplo\n",
    "Como $e^{x}=\\sum_{j=0}^{\\infty}x^{j}/j!=1+x+x^{2}/2+x^{3}/3!+\\cdots$, teremos\n",
    "\\begin{equation}\n",
    "e^{A}=\\mathbb{I}_{\\mathcal{H}}+A+\\frac{A^{2}}{2}+\\frac{A^{3}}{3!}+\\cdots,\n",
    "\\end{equation}\n",
    "onde $A^{j}$ é a composição $A\\circ A\\circ\\cdots$ por $j$ vezes."
   ]
  },
  {
   "cell_type": "code",
   "execution_count": 31,
   "metadata": {},
   "outputs": [
    {
     "data": {
      "image/png": "[encoded data removed]",
      "text/latex": [
       "$$1 + x + \\frac{x^{2}}{2} + \\frac{x^{3}}{6} + \\frac{x^{4}}{24} + \\frac{x^{5}}{120} + \\frac{x^{6}}{720} + \\mathcal{O}\\left(x^{7}\\right)$$"
      ],
      "text/plain": [
       "         2    3    4     5     6        \n",
       "        x    x    x     x     x     ⎛ 7⎞\n",
       "1 + x + ── + ── + ── + ─── + ─── + O⎝x ⎠\n",
       "        2    6    24   120   720        "
      ]
     },
     "execution_count": 31,
     "metadata": {},
     "output_type": "execute_result"
    }
   ],
   "source": [
    "# para expandir uma função em séries de Taylor no sympy\n",
    "x = symbols(\"x\")\n",
    "exp(x).series(x, x0=0, n = 7)"
   ]
  },
  {
   "cell_type": "markdown",
   "metadata": {},
   "source": [
    "### Exemplo: $e^{i\\theta\\vec{n}\\cdot\\vec{\\sigma}}=\\sigma_{0}\\cos\\theta+i\\vec{n}\\cdot\\vec{\\sigma}\\sin\\theta$\n",
    "Para $\\{\\sigma_{j}\\}_{j=1}^{3}$ sendo as matrizes de Pauli e $\\vec{n}\\in\\mathbb{R}^{3}$, definimos\n",
    "\\begin{equation}\n",
    "\\vec{n}\\cdot\\vec{\\sigma} = \\vec{n}^{T}\\vec{\\sigma}:=\\begin{bmatrix}n_{1} & n_{2} & n_{3}\\end{bmatrix}\\begin{bmatrix}\\sigma_{1} \\\\ \\sigma_{2} \\\\ \\sigma_{3}\\end{bmatrix} = \\sum_{j=1}^{3}n_{j}\\sigma_{j}.\n",
    "\\end{equation}\n",
    "\n",
    "Para o resultado que provaremos na sequência, utilizaremos a seguinte indentidade:\n",
    "\\begin{align}\n",
    "(\\vec{n}\\cdot\\vec{\\sigma})^{2} & = \\sum_{j=1}^{3}n_{j}\\sigma_{j}\\sum_{k=1}^{3}n_{k}\\sigma_{k} = \\sum_{j,k=1}^{3}n_{j}n_{k}\\sigma_{j}\\sigma_{k} = \\sum_{j,k=1}^{3}n_{j}n_{k}(\\delta_{j,k}\\sigma_{0}+sgn(j,k,l)i\\sigma_{l}) \\\\\n",
    "& = \\sum_{j=1}^{3}n_{j}^{2}\\sigma_{0} + \\sum_{j\\ne k}n_{j}n_{k}sgn(j,k,l)i\\sigma_{l} \\\\\n",
    "& = ||\\vec{n}||^{2}\\sigma_{0} + n_{1}n_{2}sgn(1,2,3)i\\sigma_{3}+n_{2}n_{1}sgn(2,1,3)i\\sigma_{3} \\\\\n",
    "&+ n_{1}n_{3}sgn(1,3,2)i\\sigma_{2}+n_{3}n_{1}sgn(3,1,2)i\\sigma_{2} + n_{2}n_{3}sgn(2,3,1)i\\sigma_{1}+n_{3}n_{2}sgn(3,2,1)i\\sigma_{1} \\\\\n",
    "& = ||\\vec{n}||^{2}\\sigma_{0} + (n_{1}n_{2}-n_{2}n_{1})i\\sigma_{3} + (-n_{1}n_{3}+n_{3}n_{1})i\\sigma_{2} + (n_{2}n_{3}-n_{3}n_{2})i\\sigma_{1} \\\\\n",
    "& = ||\\vec{n}||^{2}\\sigma_{0}.\n",
    "\\end{align}\n",
    "Agora, para $||\\vec{n}||=1$, $\\theta\\in\\mathbb{R}$ e $\\sigma_{0}=\\mathbb{I}_{\\mathbb{C}_{2}}$, usamos a série de Taylor para a exponencial e $(\\vec{n}\\cdot\\vec{\\sigma})^{2}=\\sigma_{0}$ para obter:\n",
    "\\begin{align}\n",
    "e^{i\\theta\\vec{n}\\cdot\\vec{\\sigma}} & = \\sum_{j=0}^{\\infty}\\frac{(i\\theta\\vec{n}\\cdot\\vec{\\sigma})^{j}}{j!} \\\\\n",
    "& = \\sigma_{0} + i\\theta\\vec{n}\\cdot\\vec{\\sigma} + \\frac{(i\\theta\\vec{n}\\cdot\\vec{\\sigma})^{2}}{2!} + \\frac{(i\\theta\\vec{n}\\cdot\\vec{\\sigma})^{3}}{3!} + \\frac{(i\\theta\\vec{n}\\cdot\\vec{\\sigma})^{4}}{4!} + \\frac{(i\\theta\\vec{n}\\cdot\\vec{\\sigma})^{5}}{5!} + \\cdots \\\\\n",
    "& = \\sigma_{0} + i\\theta\\vec{n}\\cdot\\vec{\\sigma} - \\frac{\\theta^{2}\\sigma_{0}}{2!} - \\frac{i\\theta^{3}\\vec{n}\\cdot\\vec{\\sigma}}{3!} + \\frac{\\theta^{4}\\sigma_{0}}{4!} + \\frac{i\\theta^{5}\\vec{n}\\cdot\\vec{\\sigma}}{5!} + \\cdots \\\\\n",
    "& = \\sigma_{0}(1- \\frac{\\theta^{2}}{2!} + \\frac{\\theta^{4}}{4!} -\\cdots) + i\\vec{n}\\cdot\\vec{\\sigma}(\\theta  - \\frac{\\theta^{3}}{3!}  + \\frac{\\theta^{5}}{5!} - \\cdots) \\\\\n",
    "& = \\sigma_{0}\\cos\\theta+i\\vec{n}\\cdot\\vec{\\sigma}\\sin\\theta.\n",
    "\\end{align}"
   ]
  },
  {
   "cell_type": "markdown",
   "metadata": {},
   "source": [
    "## Fórmula de Baker-Campbell-Hausdorff\n",
    "Para $c\\in\\mathbb{C}$ e $A,B:\\mathcal{H}\\rightarrow\\mathcal{H}$ segue que\n",
    "\\begin{equation}\n",
    "e^{cB}Ae^{-cB} = A + c[B,A] + \\frac{c^{2}}{2!}[B,[B,A]] + \\frac{c^{3}}{3!}[B,[B,[B,A]]] + \\cdots.\n",
    "\\end{equation}\n",
    "Vamos verificar essa igualdade expandindo a exponencial em série de Taylor:\n",
    "\\begin{align}\n",
    "e^{cB}Ae^{-cB} & = \\left(\\sum_{j=0}^{\\infty}\\frac{(cB)^{j}}{j!}\\right)A\\left(\\sum_{k=0}^{\\infty}\\frac{(-cB)^{k}}{k!}\\right) \\\\\n",
    "               & = \\left(\\mathbb{I} + cB + \\frac{c^{2}B^{2}}{2} + \\frac{c^{3}B^{3}}{3!} + \\cdots\\right)\n",
    "                   A \\left(\\mathbb{I} - cB + \\frac{c^{2}B^{2}}{2} - \\frac{c^{3}B^{3}}{3!} + \\cdots\\right) \\\\\n",
    "               & = A + cBA - cAB + \\frac{c^{2}B^{2}}{2}A + A\\frac{c^{2}B^{2}}{2} - \\frac{2}{2}cBAcB - \\frac{c^{2}B^{2}}{2}AcB + cBA\\frac{c^{2}B^{2}}{2} + \\frac{c^{3}B^{3}}{3!}A - A\\frac{c^{3}B^{3}}{3!} + \\cdots \\\\\n",
    "               & = A + c[B,A] + \\frac{c^{2}}{2}(BBA + ABB - 2BAB) + \\frac{c^{3}}{3!}(BBBA - ABBB + 3BABB - 3BBAB) + \\cdots \\\\\n",
    "               & = A + c[B,A] + \\frac{c^{2}}{2}(B(BA-AB) + (AB-BA)B) + \\frac{c^{3}}{3!}(BB(BA-AB) - (AB-BA)BB + 2B(ABB - BAB)) + \\cdots \\\\\n",
    "               & = A + c[B,A] + \\frac{c^{2}}{2}(B[B,A] - [B,A]B) + \\frac{c^{3}}{3!}(BB[B,A] + [B,A]BB - 2B[B,A]B)) + \\cdots \\\\\n",
    "               & = A + c[B,A] + \\frac{c^{2}}{2}[B,[B,A]] + \\frac{c^{3}}{3!}(B(B[B,A]-[B,A]B) + ([B,A]B-B[B,A])B) + \\cdots \\\\\n",
    "               & = A + c[B,A] + \\frac{c^{2}}{2}[B,[B,A]] + \\frac{c^{3}}{3!}(B[B,[B,A]] - [B,[B,A]B) + \\cdots \\\\\n",
    "               & = A + c[B,A] + \\frac{c^{2}}{2!}[B,[B,A]] + \\frac{c^{3}}{3!}[B,[B,[B,A]]] + \\cdots.\n",
    "\\end{align}"
   ]
  },
  {
   "cell_type": "markdown",
   "metadata": {},
   "source": [
    "### Exemplo\n",
    "Para\n",
    "\\begin{equation}\n",
    "A = \\sigma_{x} = \\begin{bmatrix} 0&1\\\\1&0 \\end{bmatrix} \\text{ e } B = \\sigma_{z}=\\begin{bmatrix} 1&0\\\\0&-1 \\end{bmatrix},\n",
    "\\end{equation}\n",
    "temos\n",
    "\\begin{equation}\n",
    "[\\sigma_{z},\\sigma_{x}]=2i\\sigma_{y}\\text{ e }[\\sigma_{z},\\sigma_{y}]=-2i\\sigma_{x}.\n",
    "\\end{equation}\n",
    "Assim\n",
    "\\begin{align}\n",
    "e^{c\\sigma_{z}}\\sigma_{x}e^{-c\\sigma_{z}} \n",
    "& = \\sigma_{x} + c[\\sigma_{z},\\sigma_{x}] + \\frac{c^{2}}{2}[\\sigma_{z},[\\sigma_{z},\\sigma_{x}]] + \\frac{c^{3}}{3!}[\\sigma_{z},[\\sigma_{z},[\\sigma_{z},\\sigma_{x}]]] \\\\ \n",
    "& + \\frac{c^{4}}{4!}[\\sigma_{z},[\\sigma_{z},[\\sigma_{z},[\\sigma_{z},\\sigma_{x}]]]] + \\frac{c^{5}}{5!}[\\sigma_{z},[\\sigma_{z},[\\sigma_{z},[\\sigma_{z},[\\sigma_{z},\\sigma_{x}]]]]] + \\cdots \\\\\n",
    "& = \\sigma_{x} + c2i\\sigma_{y} + \\frac{c^{2}}{2}2i[\\sigma_{z},\\sigma_{y}] + \\frac{c^{3}}{3!}2i[\\sigma_{z},[\\sigma_{z},\\sigma_{y}]] + \\frac{c^{4}}{4!}2i[\\sigma_{z},[\\sigma_{z},[\\sigma_{z},\\sigma_{y}]]] + \\frac{c^{5}}{5!}2i[\\sigma_{z},[\\sigma_{z},[\\sigma_{z},[\\sigma_{z},\\sigma_{y}]]]] + \\cdots \\\\\n",
    "              & = \\sigma_{x} + c2i\\sigma_{y} - \\frac{c^{2}}{2}4i^{2}\\sigma_{x} - \\frac{c^{3}}{3!}4i^{2}[\\sigma_{z},\\sigma_{x}] - \\frac{c^{4}}{4!}4i^{2}[\\sigma_{z},[\\sigma_{z},\\sigma_{x}]] - \\frac{c^{5}}{5!}4i^{2}[\\sigma_{z},[\\sigma_{z},[\\sigma_{z},\\sigma_{x}]]] + \\cdots \\\\\n",
    "              & = \\sigma_{x} + c2i\\sigma_{y} - \\frac{(2ic)^{2}}{2}\\sigma_{x} - \\frac{c^{3}}{3!}8i^{3}\\sigma_{y} - \\frac{c^{4}}{4!}8i^{3}[\\sigma_{z},\\sigma_{y}] - \\frac{c^{5}}{5!}8i^{3}[\\sigma_{z},[\\sigma_{z},\\sigma_{y}]] + \\cdots \\\\\n",
    "              & = \\sigma_{x} + c2i\\sigma_{y} - \\frac{(2ic)^{2}}{2}\\sigma_{x} - \\frac{c^{3}}{3!}8i^{3}\\sigma_{y} + \\frac{c^{4}}{4!}16i^{4}\\sigma_{x} + \\frac{c^{5}}{5!}16i^{4}[\\sigma_{z},\\sigma_{x}] + \\cdots \\\\\n",
    "              & = \\sigma_{x} + c2i\\sigma_{y} - \\frac{(2ic)^{2}}{2}\\sigma_{x} - \\frac{(2ic)^{3}}{3!}\\sigma_{y} + \\frac{(2ic)^{4}}{4!}\\sigma_{x} + \\frac{(2ic)^{5}}{5!}\\sigma_{y} + \\cdots \\\\\n",
    "              & = \\sigma_{x}\\left(1 - \\frac{(2ic)^{2}}{2!} +\\frac{(2ic)^{4}}{4!} + \\cdots\\right) + \\sigma_{y}\\left(2ci  - \\frac{(2ic)^{3}}{3!} + \\frac{(2ic)^{5}}{5!} + \\cdots\\right)  \\\\\n",
    "              & = \\sigma_{x}\\cos(2ic) + \\sigma_{y}\\sin(2ic).\n",
    "\\end{align}\n",
    "\n",
    "__Exercício:__ Utilize a fórmula de BCH para calcular $e^{c\\sigma_{x}}\\sigma_{y}e^{-c\\sigma_{x}}$."
   ]
  },
  {
   "cell_type": "code",
   "execution_count": 24,
   "metadata": {},
   "outputs": [],
   "source": [
    "def BCH(c,B,A,order):\n",
    "    terms = []\n",
    "    term = A\n",
    "    co = A\n",
    "    bch = term\n",
    "    terms.append(term)\n",
    "    for j in range(1,order):\n",
    "        co = comm(B,co)\n",
    "        term = pow(c,j)*co/fact(j)\n",
    "        bch += term\n",
    "        terms.append(term)\n",
    "    return bch, terms"
   ]
  },
  {
   "cell_type": "code",
   "execution_count": 26,
   "metadata": {},
   "outputs": [
    {
     "data": {
      "image/png": "[encoded data removed]",
      "text/latex": [
       "$$\\left [ \\left[\\begin{matrix}0 & 1\\\\1 & 0\\end{matrix}\\right], \\quad \\left[\\begin{matrix}0 & 2.0 c\\\\- 2.0 c & 0\\end{matrix}\\right], \\quad \\left[\\begin{matrix}0 & 2.0 c^{2}\\\\2.0 c^{2} & 0\\end{matrix}\\right], \\quad \\left[\\begin{matrix}0 & 1.33333333333333 c^{3}\\\\- 1.33333333333333 c^{3} & 0\\end{matrix}\\right], \\quad \\left[\\begin{matrix}0 & 0.666666666666667 c^{4}\\\\0.666666666666667 c^{4} & 0\\end{matrix}\\right], \\quad \\left[\\begin{matrix}0 & 0.266666666666667 c^{5}\\\\- 0.266666666666667 c^{5} & 0\\end{matrix}\\right]\\right ]$$"
      ],
      "text/plain": [
       "⎡                         ⎡             2⎤  ⎡                                 \n",
       "⎢⎡0  1⎤  ⎡  0     2.0⋅c⎤  ⎢  0     2.0⋅c ⎥  ⎢         0            1.333333333\n",
       "⎢⎢    ⎥, ⎢             ⎥, ⎢              ⎥, ⎢                                 \n",
       "⎢⎣1  0⎦  ⎣-2.0⋅c    0  ⎦  ⎢     2        ⎥  ⎢                   3             \n",
       "⎣                         ⎣2.0⋅c     0   ⎦  ⎣-1.33333333333333⋅c            0 \n",
       "\n",
       "       3⎤  ⎡                                         4⎤  ⎡                    \n",
       "33333⋅c ⎥  ⎢         0            0.666666666666667⋅c ⎥  ⎢          0         \n",
       "        ⎥, ⎢                                          ⎥, ⎢                    \n",
       "        ⎥  ⎢                   4                      ⎥  ⎢                    \n",
       "        ⎦  ⎣0.666666666666667⋅c            0          ⎦  ⎣-0.266666666666667⋅c\n",
       "\n",
       "                      5⎤⎤\n",
       "   0.266666666666667⋅c ⎥⎥\n",
       "                       ⎥⎥\n",
       "5                      ⎥⎥\n",
       "            0          ⎦⎦"
      ]
     },
     "execution_count": 26,
     "metadata": {},
     "output_type": "execute_result"
    }
   ],
   "source": [
    "#A = Symbol(\"A\", commutative = False)\n",
    "#B = Symbol(\"B\", commutative = False)\n",
    "A = pauli(1)\n",
    "B = pauli(3)\n",
    "order = 6\n",
    "bch, terms = BCH(c,B,A,order)\n",
    "simplify(terms)"
   ]
  },
  {
   "cell_type": "markdown",
   "metadata": {},
   "source": [
    "# Definição de $f(A)$ para operadores normais\n",
    "Se\n",
    "\\begin{equation}\n",
    "A=\\sum_{a}aP_{a}\n",
    "\\end{equation}\n",
    "é a decomposição espectral do operador linear normal $A$, então suas funções podem ser calculadas usando\n",
    "\\begin{equation}\n",
    "f(A):=\\sum_{a}f(a)P_{a}.\n",
    "\\end{equation}\n",
    "Ou seja, depois de obter a decomposição espectral de $A$, atuamos a função nos seus autovalores.\n",
    "\n",
    "## Equivalência entre as definições para $A=A^{\\dagger}$\n",
    "Vamos verificar que essa definição é equivalente à definição principal via séries de Taylor. Como mostrado por Taylor, se decompomos uma função escalar qualquer em termos de potências de $x$:\n",
    "\\begin{equation}\n",
    "f(x)=\\sum_{j=0}^{\\infty}c_{j}x^{j},\n",
    "\\end{equation}\n",
    "os coeficientes são dados como na série de Maclaurin, i.e., $c_{j}=\\frac{1}{j!}\\frac{d^{j}f(x)}{dx^{j}}$. Assim, como\n",
    "\\begin{align}\n",
    "A^{j} &= AAA\\cdots = \\sum_{a}aP_{a}\\sum_{a'}a'P_{a'}\\sum_{a''}a''P_{a''}\\cdots \\\\\n",
    "& = \\sum_{a,a',a'',\\cdots}aa'a''\\cdots P_{a}P_{a'}P_{a''}\\cdots = \\sum_{a,a',a'',\\cdots}aa'a''\\cdots \\delta_{aa'}\\delta_{a'a''}\\cdots P_{a} \\\\\n",
    "& = \\sum_{a}a^{j}P_{a},\n",
    "\\end{align}\n",
    "teremos que\n",
    "\\begin{align}\n",
    "f(A) & = \\sum_{j=0}^{\\infty}c_{j}A^{j} = \\sum_{j=0}^{\\infty}c_{j}\\sum_{a}a^{j}P_{a} = \\sum_{a}\\left(\\sum_{j=0}^{\\infty}c_{j}a^{j}\\right)P_{a} \\\\\n",
    "& = \\sum_{a}f(a)P_{a}.\n",
    "\\end{align}"
   ]
  },
  {
   "cell_type": "markdown",
   "metadata": {},
   "source": [
    "### Exemplo\n",
    "\\begin{align}\n",
    "e^{A} & = \\mathbb{I}_{\\mathcal{H}}+A+\\frac{A^{2}}{2}+\\frac{A^{3}}{3!}+\\cdots \\\\\n",
    "& = \\sum_{a}P_{a} + \\sum_{a}aP_{a} + \\frac{\\sum_{a}aP_{a}\\sum_{a'}a'P_{a'}}{2}+\\frac{\\sum_{a}aP_{a}\\sum_{a'}a'P_{a'}\\sum_{a''}a''P_{a''}}{3!}+\\cdots \\\\\n",
    "& = \\sum_{a}P_{a} + \\sum_{a}aP_{a} + \\frac{\\sum_{a,a'}aa'P_{a}P_{a'}}{2}+\\frac{\\sum_{a,a',a''}aa'a''P_{a}P_{a'}P_{a''}}{3!}+\\cdots \\\\\n",
    "& = \\sum_{a}P_{a} + \\sum_{a}aP_{a} + \\frac{\\sum_{a}a^{2}P_{a}}{2}+\\frac{\\sum_{a}a^{3}P_{a}}{3!}+\\cdots \\\\\n",
    "& = \\sum_{a}(1+a+\\frac{a^{2}}{2}+\\frac{a^{3}}{3!}+\\cdots)P_{a} \\\\\n",
    "& = \\sum_{a}e^{a}P_{a}.\n",
    "\\end{align}"
   ]
  },
  {
   "cell_type": "markdown",
   "metadata": {},
   "source": [
    "#### Sobre $\\sqrt{A}$\n",
    "Em geral $\\sqrt{A}$ não é bem ou unicamente definida. \n",
    "Para operadores normais podemos ver que definimos $\\sqrt{A}=\\sum_{a}\\sqrt{a}P_{a}$ então $\\sqrt{A}\\sqrt{A}=\\sum_{a}\\sqrt{a}P_{a}\\sum_{a'}\\sqrt{a'}P_{a'}=\\sum_{a,a'}\\sqrt{a}\\sqrt{a'}P_{a}P_{a'} =\\sum_{a,a'}\\sqrt{a}\\sqrt{a'}\\delta_{a,a'}P_{a} = \\sum_{a}aP_{a} = A$.\n",
    "\n",
    "__Exercício:__ Verifique que qualquer operador Hermitiano e unitário é a raiz quadrada do operador identidade.\n",
    "\n",
    "__Exercício:__ Calcule $\\sqrt{\\sigma_{y}}$."
   ]
  },
  {
   "cell_type": "code",
   "execution_count": 29,
   "metadata": {},
   "outputs": [],
   "source": [
    "def mat_func(A,func): # retorna exp(A) ou sqrt(A) de um operador normal \n",
    "    eig = A.eigenvects()\n",
    "    d = A.shape[0]\n",
    "    A_func = zeros(d,d)\n",
    "    ne = 0\n",
    "    j = 0\n",
    "    lk = 0\n",
    "    while ne < d:\n",
    "        mult = eig[j][1] # multiplicidade\n",
    "        ne += mult # número de autovalores considerados até então\n",
    "        for k in range(0,mult):\n",
    "            Proj = proj(eig[j][2][k])\n",
    "            if func == 'sqrt':\n",
    "                A_func += sqrt(eig[j][0])*(Proj/trace(Proj))\n",
    "            elif func == 'exp':\n",
    "                A_func += exp(eig[j][0])*(Proj/trace(Proj))\n",
    "        j += 1\n",
    "    return A_func"
   ]
  },
  {
   "cell_type": "code",
   "execution_count": 30,
   "metadata": {},
   "outputs": [
    {
     "data": {
      "image/png": "[encoded data removed]",
      "text/latex": [
       "$$\\left[\\begin{matrix}\\frac{1}{2} + \\frac{i}{2} & \\frac{1}{2} - \\frac{i}{2}\\\\\\frac{1}{2} - \\frac{i}{2} & \\frac{1}{2} + \\frac{i}{2}\\end{matrix}\\right]$$"
      ],
      "text/plain": [
       "⎡1   ⅈ  1   ⅈ⎤\n",
       "⎢─ + ─  ─ - ─⎥\n",
       "⎢2   2  2   2⎥\n",
       "⎢            ⎥\n",
       "⎢1   ⅈ  1   ⅈ⎥\n",
       "⎢─ - ─  ─ + ─⎥\n",
       "⎣2   2  2   2⎦"
      ]
     },
     "execution_count": 30,
     "metadata": {},
     "output_type": "execute_result"
    }
   ],
   "source": [
    "A = pauli(1)\n",
    "#a,b,c,d = symbols(\"a b c d\")\n",
    "#A = Matrix([[a,b],[c,d]])\n",
    "mat_func(A,'sqrt')"
   ]
  },
  {
   "cell_type": "markdown",
   "metadata": {},
   "source": [
    "## Exemplo de aplicação: Entropia de von Neumann\n",
    "O estado de uma sistema física pode ser descrito por uma matriz positiva com traço igual a um, a chamada matriz densidade. Considere a decomposição espectral de $\\rho=\\sum_{r}rP_{r}$, com $P_{r}$ sendo projetores 1D. A entropia de von Neumann dessa matriz é definida e dada por:\n",
    "\\begin{align}\n",
    "S(\\rho) &= -Tr(\\rho\\log_{2}(\\rho)) = -Tr\\left(\\rho\\log_{2}\\left(\\sum_{r}rP_{r}\\right)\\right) = -Tr\\left(\\left(\\sum_{r'}r'P_{r'}\\right)\\left(\\sum_{r}\\log_{2}(r)P_{r}\\right)\\right) \\\\\n",
    "& = -Tr\\left(\\sum_{r',r}r'\\log_{2}(r)P_{r'}P_{r}\\right) = -Tr\\left(\\sum_{r',r}r'\\log_{2}(r)\\delta_{rr'}P_{r}\\right) = -\\sum_{r}r\\log_{2}(r)Tr(P_{r}) \\\\\n",
    "& = -\\sum_{r}r\\log_{2}(r)\\sum_{r'}(|r'\\rangle,P_{r}(|r'\\rangle)) = -\\sum_{r}r\\log_{2}(r)\\sum_{r'}(|r'\\rangle,\\langle r|r'\\rangle|r\\rangle) \\\\\n",
    "& = -\\sum_{r}r\\log_{2}(r)\\sum_{r'}\\delta_{r,r'}(|r'\\rangle,|r\\rangle) = -\\sum_{r}r\\log_{2}(r)\\langle r|r\\rangle \\\\\n",
    "& = -\\sum_{r}r\\log_{2}(r),\n",
    "\\end{align}\n",
    "que é a chamada entropia de Shannon da distribuição de probabilidades $\\{r\\}$ (os autovalores de $\\rho$)."
   ]
  },
  {
   "cell_type": "markdown",
   "metadata": {},
   "source": [
    "__Exercício:__ Verifique que a entropia de von Neumann de $\\rho=|\\psi\\rangle\\langle\\psi|$ é nula.\n",
    "\n",
    "__Exercício:__ Verifique que a entropia de von Neumann de $\\rho=d^{-1}\\mathbb{I}_{d}$ é $\\log_{2}(d)$."
   ]
  },
  {
   "cell_type": "code",
   "execution_count": 96,
   "metadata": {},
   "outputs": [],
   "source": [
    "# Outside this function, initialize: evals = zeros(d,1)\n",
    "def eVals(A):\n",
    "    d = A.shape[0]\n",
    "    eig = A.eigenvects()\n",
    "    ne = 0\n",
    "    j = 0\n",
    "    lk = 0\n",
    "    while ne < d:\n",
    "        mult = eig[j][1]\n",
    "        ne += mult\n",
    "        nk = lk + mult\n",
    "        for k in range(lk,nk):\n",
    "            evals[k] = eig[j][0]\n",
    "        lk = nk\n",
    "        j += 1\n",
    "    return evals"
   ]
  },
  {
   "cell_type": "code",
   "execution_count": 97,
   "metadata": {},
   "outputs": [],
   "source": [
    "def shannon(pv):\n",
    "    d = pv.shape[0]\n",
    "    H = 0\n",
    "    for j in range(d):\n",
    "        if isinstance(pv[j], sympy.Expr)==False and pv[j] < 1.e-15 and pv[j] > (1.0-1.e-15):\n",
    "            continue\n",
    "        else:\n",
    "            H -= pv[j]*log(pv[j],2)\n",
    "    return H"
   ]
  },
  {
   "cell_type": "code",
   "execution_count": 98,
   "metadata": {},
   "outputs": [],
   "source": [
    "def von_neumann(rho):\n",
    "    d = rho.shape[0]\n",
    "    evals = zeros(d,1)\n",
    "    evals = eVals(rho)\n",
    "    return shannon(evals)"
   ]
  },
  {
   "cell_type": "code",
   "execution_count": 108,
   "metadata": {},
   "outputs": [
    {
     "data": {
      "image/png": "[encoded data removed]",
      "text/latex": [
       "$$- \\frac{1}{\\log{\\left (2 \\right )}} \\left(\\frac{a}{2} + \\frac{b}{2} - \\frac{1}{2} \\sqrt{a^{2} - 2 a b + b^{2} + 4 c d}\\right) \\log{\\left (\\frac{a}{2} + \\frac{b}{2} - \\frac{1}{2} \\sqrt{a^{2} - 2 a b + b^{2} + 4 c d} \\right )} - \\frac{1}{\\log{\\left (2 \\right )}} \\left(\\frac{a}{2} + \\frac{b}{2} + \\frac{1}{2} \\sqrt{a^{2} - 2 a b + b^{2} + 4 c d}\\right) \\log{\\left (\\frac{a}{2} + \\frac{b}{2} + \\frac{1}{2} \\sqrt{a^{2} - 2 a b + b^{2} + 4 c d} \\right )}$$"
      ],
      "text/plain": [
       "  ⎛           _________________________⎞    ⎛           ______________________\n",
       "  ⎜          ╱  2            2         ⎟    ⎜          ╱  2            2      \n",
       "  ⎜a   b   ╲╱  a  - 2⋅a⋅b + b  + 4⋅c⋅d ⎟    ⎜a   b   ╲╱  a  - 2⋅a⋅b + b  + 4⋅c\n",
       "  ⎜─ + ─ - ────────────────────────────⎟⋅log⎜─ + ─ - ─────────────────────────\n",
       "  ⎝2   2                2              ⎠    ⎝2   2                2           \n",
       "- ────────────────────────────────────────────────────────────────────────────\n",
       "                                       log(2)                                 \n",
       "\n",
       "___⎞   ⎛           _________________________⎞    ⎛           _________________\n",
       "   ⎟   ⎜          ╱  2            2         ⎟    ⎜          ╱  2            2 \n",
       "⋅d ⎟   ⎜a   b   ╲╱  a  - 2⋅a⋅b + b  + 4⋅c⋅d ⎟    ⎜a   b   ╲╱  a  - 2⋅a⋅b + b  \n",
       "───⎟   ⎜─ + ─ + ────────────────────────────⎟⋅log⎜─ + ─ + ────────────────────\n",
       "   ⎠   ⎝2   2                2              ⎠    ⎝2   2                2      \n",
       "──── - ───────────────────────────────────────────────────────────────────────\n",
       "                                            log(2)                            \n",
       "\n",
       "________⎞\n",
       "        ⎟\n",
       "+ 4⋅c⋅d ⎟\n",
       "────────⎟\n",
       "        ⎠\n",
       "─────────\n",
       "         "
      ]
     },
     "execution_count": 108,
     "metadata": {},
     "output_type": "execute_result"
    }
   ],
   "source": [
    "a, b, c, d = symbols(\"a b c d\"); rho = Matrix([[a,c],[d,b]])\n",
    "#rho = Matrix([[1/2,0],[0,1/2]])\n",
    "evals = zeros(rho.shape[0],1); von_neumann(rho)"
   ]
  },
  {
   "cell_type": "markdown",
   "metadata": {},
   "source": [
    "__Exercício:__ Para $H=\\sum_{h}hP_{h}$, com $P_{h}$ um projetor 1D e $\\beta\\in\\mathbb{R}$, calcule a expressão (decomposição espectral) para o estado térmico de Gibbs:\n",
    "\\begin{equation}\n",
    "\\rho_{g}=\\frac{e^{-\\beta H}}{Z}.\n",
    "\\end{equation}\n",
    "Use $Tr(\\rho_{g}):=1$ para obter a expressão da função de partição, que é o escalar $Z$ nessa equação."
   ]
  },
  {
   "cell_type": "code",
   "execution_count": 120,
   "metadata": {},
   "outputs": [],
   "source": [
    "def rho_gibbs(beta, H): # retorna o estado de Gibbs\n",
    "    expmbH = mat_func(-beta*H,'exp')\n",
    "    pf = partition_function(expmbH)\n",
    "    return expmbH/pf"
   ]
  },
  {
   "cell_type": "code",
   "execution_count": 121,
   "metadata": {},
   "outputs": [],
   "source": [
    "def partition_function(expmbH):\n",
    "    return trace(expmbH)"
   ]
  },
  {
   "cell_type": "code",
   "execution_count": 126,
   "metadata": {},
   "outputs": [
    {
     "data": {
      "image/png": "[encoded data removed]",
      "text/latex": [
       "$$\\left[\\begin{matrix}\\frac{\\frac{1}{2} e^{\\frac{\\beta \\hbar}{2} \\omega} + \\frac{1}{2} e^{- \\frac{\\beta \\hbar}{2} \\omega}}{e^{\\frac{\\beta \\hbar}{2} \\omega} + e^{- \\frac{\\beta \\hbar}{2} \\omega}} & \\frac{\\frac{1}{2} e^{\\frac{\\beta \\hbar}{2} \\omega} - \\frac{1}{2} e^{- \\frac{\\beta \\hbar}{2} \\omega}}{e^{\\frac{\\beta \\hbar}{2} \\omega} + e^{- \\frac{\\beta \\hbar}{2} \\omega}}\\\\\\frac{\\frac{1}{2} e^{\\frac{\\beta \\hbar}{2} \\omega} - \\frac{1}{2} e^{- \\frac{\\beta \\hbar}{2} \\omega}}{e^{\\frac{\\beta \\hbar}{2} \\omega} + e^{- \\frac{\\beta \\hbar}{2} \\omega}} & \\frac{\\frac{1}{2} e^{\\frac{\\beta \\hbar}{2} \\omega} + \\frac{1}{2} e^{- \\frac{\\beta \\hbar}{2} \\omega}}{e^{\\frac{\\beta \\hbar}{2} \\omega} + e^{- \\frac{\\beta \\hbar}{2} \\omega}}\\end{matrix}\\right]$$"
      ],
      "text/plain": [
       "⎡ β⋅h̅⋅ω    -β⋅h̅⋅ω    β⋅h̅⋅ω    -β⋅h̅⋅ω ⎤\n",
       "⎢ ──────    ────────   ──────    ────────⎥\n",
       "⎢   2          2         2          2    ⎥\n",
       "⎢ℯ         ℯ          ℯ         ℯ        ⎥\n",
       "⎢─────── + ─────────  ─────── - ─────────⎥\n",
       "⎢   2          2         2          2    ⎥\n",
       "⎢───────────────────  ───────────────────⎥\n",
       "⎢ β⋅h̅⋅ω    -β⋅h̅⋅ω    β⋅h̅⋅ω    -β⋅h̅⋅ω ⎥\n",
       "⎢ ──────    ────────   ──────    ────────⎥\n",
       "⎢   2          2         2          2    ⎥\n",
       "⎢ℯ       + ℯ          ℯ       + ℯ        ⎥\n",
       "⎢                                        ⎥\n",
       "⎢ β⋅h̅⋅ω    -β⋅h̅⋅ω    β⋅h̅⋅ω    -β⋅h̅⋅ω ⎥\n",
       "⎢ ──────    ────────   ──────    ────────⎥\n",
       "⎢   2          2         2          2    ⎥\n",
       "⎢ℯ         ℯ          ℯ         ℯ        ⎥\n",
       "⎢─────── - ─────────  ─────── + ─────────⎥\n",
       "⎢   2          2         2          2    ⎥\n",
       "⎢───────────────────  ───────────────────⎥\n",
       "⎢ β⋅h̅⋅ω    -β⋅h̅⋅ω    β⋅h̅⋅ω    -β⋅h̅⋅ω ⎥\n",
       "⎢ ──────    ────────   ──────    ────────⎥\n",
       "⎢   2          2         2          2    ⎥\n",
       "⎣ℯ       + ℯ          ℯ       + ℯ        ⎦"
      ]
     },
     "execution_count": 126,
     "metadata": {},
     "output_type": "execute_result"
    }
   ],
   "source": [
    "w, b, hb = symbols('omega beta hbar')\n",
    "H = -(hb*w/2)*pauli(1)\n",
    "rho_gibbs(b, H)"
   ]
  },
  {
   "cell_type": "markdown",
   "metadata": {},
   "source": [
    "## Teorema (forma exponencial para operadores unitários)\n",
    "Seja $H:\\mathcal{H}\\rightarrow\\mathcal{H}$ um operador Hermitiano e $\\theta\\in\\mathbb{R}$, então\n",
    "\\begin{equation}\n",
    "U := e^{i\\theta H}\n",
    "\\end{equation}\n",
    "é um operador unitário.\n",
    "### Prova\n",
    "Se $H=\\sum_{h}hP_{h}$. Então $i\\theta H=\\sum_{h}i\\theta hP_{h}$. Assim\n",
    "\\begin{equation}\n",
    "U=e^{i\\theta H}=\\sum_{h}e^{i\\theta h}P_{h}\n",
    "\\end{equation}\n",
    "e\n",
    "\\begin{equation}\n",
    "U^{\\dagger}=\\sum_{h}(e^{i\\theta h})^{*}P_{h}^{\\dagger} = \\sum_{h}e^{-i\\theta h}P_{h}.\n",
    "\\end{equation}\n",
    "Por conseguinte,\n",
    "\\begin{equation}\n",
    "UU^{\\dagger} = \\sum_{h}e^{i\\theta h}P_{h}\\sum_{h'}e^{-i\\theta h'}P_{h'} = \\sum_{h,h'}e^{i\\theta(h-h')}P_{h}P_{h'} = \\sum_{h}P_{h} = \\mathbb{I}_{\\mathcal{H}}.\n",
    "\\end{equation}\n",
    "__Exercício:__ Verifique que $U^{\\dagger}U=\\mathbb{I}_{\\mathcal{H}}$. <br>\n",
    "Assim completamos a prova do teorema."
   ]
  },
  {
   "cell_type": "markdown",
   "metadata": {},
   "source": [
    "## Exponencial de operadores comutantes\n",
    "Se dois operadores lineares $A$ e $B$ comutam, i.e., $[A,B]=\\mathbb{0}_{\\mathcal{H}}$, então podemos escrever as decomposições espectrais $A=\\sum_{j}a_{j}P_{j}$ e $B=\\sum_{j}b_{j}P_{j}$. Assim $A+B=\\sum_{j}(a_{j}+b_{j})P_{j}$ e\n",
    "\\begin{align}\n",
    "e^{A}e^{B} & = \\sum_{j}e^{a_{j}}P_{j}\\sum_{k}e^{b_{k}}P_{k} = \\sum_{j,k}e^{a_{j}}e^{b_{k}}P_{j}P_{k} = \\sum_{j,k}e^{a_{j}+b_{k}}\\delta_{j,k}P_{j} = \\sum_{j}e^{a_{j}+b_{j}}P_{j} \\\\\n",
    "& = e^{A+B}.\n",
    "\\end{align}"
   ]
  },
  {
   "cell_type": "markdown",
   "metadata": {},
   "source": [
    "## Exponencial de operadores não comutantes\n",
    "Se dois operadores lineares $A$ e $B$ não comutam, i.e., $[A,B]\\ne\\mathbb{0}_{\\mathcal{H}}$, teremos\n",
    "\\begin{matrix}\n",
    "e^{A+B}\\ne e^{A}e^{B}.\n",
    "\\end{matrix}\n",
    "\n",
    "### Fórmula de Zassenhaus\n",
    "Seja $L(A,B)$ a álgebra de Lie livre gerada por $A$ e $B$. Então [arXiv:1204.0389]\n",
    "\\begin{equation}\n",
    "e^{A+B} = e^{A}e^{B}\\Pi_{j=2}^{\\infty}e^{C_{j}(A,B)},\n",
    "\\end{equation}\n",
    "com $C_{j}(A,B)\\in L(A,B)$ é um polinômio homogêneo de Lie de grau $j$ em $A$ e $B$. Explicitamente teremos\n",
    "\\begin{align}\n",
    "C_{2} & = -\\frac{1}{2}[A,B], \\\\\n",
    "C_{3} & = -\\frac{1}{6}\\left([[A,B],A]+2[[A,B],B]\\right), \\\\\n",
    "C_{4} & = -\\frac{1}{24}\\left([[[A,B],A],A]+3[[[A,B],A],B]+3[[[A,B],B],B]\\right), \\\\\n",
    "&\\vdots.\n",
    "\\end{align}\n",
    "\n",
    "#### Caso especial\n",
    "Para operadores tais que $[B,[A,B]]=[A,[A,B]]=\\mathbb{0}$ teremos que\n",
    "\\begin{equation}\n",
    "e^{A+B} = e^{A}e^{B}e^{-[A,B]/2}.\n",
    "\\end{equation}\n",
    "Um exemplo importante de tais operadores são os operadores de criação, $a$, e de aniquilação, $a^{\\dagger}$, do oscilador harmônico quântico, para os quais $[a,a^{\\dagger}]=\\mathbb{I}$.\n",
    "\n",
    "### Fórmula de Trotter-Suzuki\n",
    "Outra equação que é usada frequentemente na literatura é a fórmula de Trotter [J. Math. Phys. 26, 601 (1985)]:\n",
    "\\begin{equation}\n",
    "e^{A+B}=\\lim_{N\\rightarrow\\infty}\\left(e^{A/N}e^{B/N}\\right)^{N}.\n",
    "\\end{equation}"
   ]
  },
  {
   "cell_type": "code",
   "execution_count": null,
   "metadata": {},
   "outputs": [],
   "source": []
  }
 ],
 "metadata": {
  "kernelspec": {
   "display_name": "Python 3",
   "language": "python",
   "name": "python3"
  },
  "language_info": {
   "codemirror_mode": {
    "name": "ipython",
    "version": 3
   },
   "file_extension": ".py",
   "mimetype": "text/x-python",
   "name": "python",
   "nbconvert_exporter": "python",
   "pygments_lexer": "ipython3",
   "version": "3.6.4"
  }
 },
 "nbformat": 4,
 "nbformat_minor": 2
}
