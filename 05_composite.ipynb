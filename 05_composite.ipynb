{
 "cells": [
  {
   "cell_type": "markdown",
   "metadata": {},
   "source": [
    "## Notas de aula de Álgebra Linear <br> Autor: Jonas Maziero\n",
    "Link para os vídeos das aulas sobre este tópico: ."
   ]
  },
  {
   "cell_type": "code",
   "execution_count": 1,
   "metadata": {},
   "outputs": [],
   "source": [
    "%run init.ipynb\n",
    "from scipy.linalg import polar, lapack\n",
    "import mpmath"
   ]
  },
  {
   "cell_type": "markdown",
   "metadata": {},
   "source": [
    "# Espaços compostos\n",
    "Para a descrição de sistemas constituídos por muitos graus de liberdade, precisaremos do conceito de espaços de Hilbert compostos. Para iniciar, consideremos dois espaços de Hilbert $\\mathcal{H}_{a}$ e $\\mathcal{H}_{b}$ com bases ortonormais respectivas $\\{|a_{j}\\rangle\\}_{j=1}^{\\dim \\mathcal{H}_{a}}$ e $\\{|b_{j}\\rangle\\}_{j=1}^{\\dim \\mathcal{H}_{b}}$. A composição desses dois espaços nos fornece um espaço de Hilbert \"maior\" denotado por\n",
    "\\begin{equation}\n",
    "\\mathcal{H}_{ab}=\\mathcal{H}_{a}\\otimes\\mathcal{H}_{b}.\n",
    "\\end{equation}\n",
    "Uma base para o espaço composto pode ser obtida através do produto tensorial (ou produto de Kronecker ou produto direto) dos vetores das bases individuais:\n",
    "\\begin{equation}\n",
    "|c_{jk}\\rangle:=|a_{j}\\rangle\\otimes|b_{k}\\rangle,\n",
    "\\end{equation}\n",
    "para $j=1,\\cdots,\\dim\\mathcal{H}_{a}$ e $k=1,\\cdots,\\dim\\mathcal{H}_{b}$. "
   ]
  },
  {
   "cell_type": "markdown",
   "metadata": {},
   "source": [
    "## Produto tensorial\n",
    "O produto tensorial de duas matrizes $A\\in\\mathbb{C}^{m\\mathrm{x}n}$ e $B\\in\\mathbb{C}^{p\\mathrm{x}q}$ é uma matriz $mp\\mathrm{x}nq$ definida como:\n",
    "\\begin{equation}\n",
    "A\\otimes B = \\begin{bmatrix}A_{1,1} & A_{1,2} & \\cdots & A_{1,d_{a}} \\\\ A_{2,1} & A_{2,2} & \\cdots & A_{2,d_{a}} \\\\ \\vdots & \\vdots & \\cdots & \\vdots \\\\ A_{d_{a},1} & A_{d_{a},2} & \\cdots & A_{d_{a},d_{a}} \\end{bmatrix}\\otimes B := \\begin{bmatrix}A_{1,1}B & A_{1,2}B & \\cdots & A_{1,d_{a}}B \\\\ A_{2,1}B & A_{2,2}B & \\cdots & A_{2,d_{a}}B \\\\ \\vdots & \\vdots & \\cdots & \\vdots \\\\ A_{d_{a},1}B & A_{d_{a},2}B & \\cdots & A_{d_{a},d_{a}}B \\end{bmatrix}.\n",
    "\\end{equation}\n",
    "\n",
    "__Exemplo:__ Consideremos \n",
    "\\begin{align}\n",
    "A\\otimes B & = \\begin{bmatrix} A_{1,1} & A_{1,2} \\\\ A_{2,1} & A_{2,2} \\end{bmatrix} \\otimes \\begin{bmatrix} B_{1,1} & B_{1,2} \\\\ B_{2,1} & B_{2,2} \\end{bmatrix} = \\begin{bmatrix} A_{1,1}\\begin{bmatrix} B_{1,1} & B_{1,2} \\\\ B_{2,1} & B_{2,2} \\end{bmatrix} & A_{1,2}\\begin{bmatrix} B_{1,1} & B_{1,2} \\\\ B_{2,1} & B_{2,2} \\end{bmatrix} \\\\ A_{2,1}\\begin{bmatrix} B_{1,1} & B_{1,2} \\\\ B_{2,1} & B_{2,2} \\end{bmatrix} & A_{2,2}\\begin{bmatrix} B_{1,1} & B_{1,2} \\\\ B_{2,1} & B_{2,2} \\end{bmatrix} \\end{bmatrix}  \\\\ \n",
    "& = \\begin{bmatrix} A_{1,1}B_{1,1} & A_{1,1}B_{1,2} & A_{1,2}B_{1,1} & A_{1,2}B_{1,2} \\\\ A_{1,1}B_{2,1} & A_{1,1}B_{2,2} & A_{1,2}B_{2,1} & A_{1,2}B_{2,2}  \\\\ A_{2,1}B_{1,1} & A_{2,1}B_{1,2} & A_{2,2}B_{1,1} & A_{2,2}B_{1,2} \\\\ A_{2,1}B_{2,1} & A_{2,1}B_{2,2} & A_{2,2}B_{2,1} & A_{2,2}B_{2,2} \\end{bmatrix}. \n",
    "\\end{align}\n",
    "\n",
    "__Exercício:__ Calcule o produto tensorial $\\sigma_{x}\\otimes\\sigma_{y}=\\begin{bmatrix}0&1\\\\1&0\\end{bmatrix}\\otimes\\begin{bmatrix}0&-i\\\\i&0\\end{bmatrix}$."
   ]
  },
  {
   "cell_type": "code",
   "execution_count": 57,
   "metadata": {},
   "outputs": [
    {
     "data": {
      "image/png": "[encoded data removed]",
      "text/latex": [
       "$$\\left[\\begin{matrix}A_{11} B_{11} & A_{11} B_{12} & A_{12} B_{11} & A_{12} B_{12}\\\\A_{11} B_{21} & A_{11} B_{22} & A_{12} B_{21} & A_{12} B_{22}\\\\A_{21} B_{11} & A_{21} B_{12} & A_{22} B_{11} & A_{22} B_{12}\\\\A_{21} B_{21} & A_{21} B_{22} & A_{22} B_{21} & A_{22} B_{22}\\end{matrix}\\right]$$"
      ],
      "text/plain": [
       "⎡A₁₁⋅B₁₁  A₁₁⋅B₁₂  A₁₂⋅B₁₁  A₁₂⋅B₁₂⎤\n",
       "⎢                                  ⎥\n",
       "⎢A₁₁⋅B₂₁  A₁₁⋅B₂₂  A₁₂⋅B₂₁  A₁₂⋅B₂₂⎥\n",
       "⎢                                  ⎥\n",
       "⎢A₂₁⋅B₁₁  A₂₁⋅B₁₂  A₂₂⋅B₁₁  A₂₂⋅B₁₂⎥\n",
       "⎢                                  ⎥\n",
       "⎣A₂₁⋅B₂₁  A₂₁⋅B₂₂  A₂₂⋅B₂₁  A₂₂⋅B₂₂⎦"
      ]
     },
     "execution_count": 57,
     "metadata": {},
     "output_type": "execute_result"
    }
   ],
   "source": [
    "A11,A12,A21,A22,B11,B12,B21,B22 = symbols(\"A_11 A_12 A_21 A_22 B_11 B_12 B_21 B_22\")\n",
    "A = Matrix([[A11,A12],[A21,A22]]); B = Matrix([[B11,B12],[B21,B22]]); tp(A,B)"
   ]
  },
  {
   "cell_type": "markdown",
   "metadata": {},
   "source": [
    "### Propriedade importante de produto tensorial\n",
    "Vamos começar verificando que para quaisquer matrizes $A,B,C,D$, com dimensões apropriadas para que as multiplicações matriciais envolvidas possam ser realizadas, teremos $(A\\otimes B)(C\\otimes D)=(AC\\otimes BD)$. Faremos a verificação explícita\n",
    "\\begin{align}\n",
    "(A\\otimes B)(C\\otimes D) & = \\begin{bmatrix}A_{1,1}B & A_{1,2}B & \\cdots \\\\ A_{2,1}B & A_{2,2}B & \\cdots \\\\ \\vdots & \\vdots & \\vdots\\end{bmatrix} \\begin{bmatrix}C_{1,1}D & C_{1,2}D & \\cdots \\\\ C_{2,1}D & C_{2,2}D & \\cdots \\\\ \\vdots & \\vdots & \\vdots\\end{bmatrix} \\\\\n",
    "& = \\begin{bmatrix}(A_{1,1}BC_{1,1}D+A_{1,2}BC_{2,1}D+\\cdots) & (A_{1,1}BC_{1,2}D+A_{1,2}BC_{2,2}D+\\cdots)& \\cdots \\\\ (A_{2,1}BC_{1,1}D+A_{2,2}BC_{2,1}D+\\cdots) & (A_{2,1}BC_{1,2}D+A_{2,2}BC_{2,2}D+\\cdots) & \\cdots \\\\ \\vdots & \\vdots & \\vdots\\end{bmatrix} \\\\\n",
    "& = \\begin{bmatrix}(A_{1,1}C_{1,1}+A_{1,2}C_{2,1}+\\cdots)BD & (A_{1,1}C_{1,2}+A_{1,2}C_{2,2}+\\cdots)BD & \\cdots \\\\ (A_{2,1}C_{1,1}+A_{2,2}C_{2,1}+\\cdots)BD & (A_{2,1}C_{1,2}+A_{2,2}C_{2,2}+\\cdots)BD & \\cdots \\\\ \\vdots & \\vdots & \\vdots\\end{bmatrix} \\\\\n",
    "& = \\begin{bmatrix}(A_{1,1}C_{1,1}+A_{1,2}C_{2,1}+\\cdots) & (A_{1,1}C_{1,2}+A_{1,2}C_{2,2}+\\cdots) & \\cdots \\\\ (A_{2,1}C_{1,1}+A_{2,2}C_{2,1}+\\cdots) & (A_{2,1}C_{1,2}+A_{2,2}C_{2,2}+\\cdots) & \\cdots \\\\ \\vdots & \\vdots & \\vdots\\end{bmatrix}\\otimes BD \\\\\n",
    "& = AC\\otimes BD.\n",
    "\\end{align}"
   ]
  },
  {
   "cell_type": "markdown",
   "metadata": {},
   "source": [
    "__Exercício:__ Verifique que $(A\\otimes B)^{\\dagger}=A^{\\dagger}\\otimes B^{\\dagger}$. <br>\n",
    "Dica: Use a definição do adjunto e expanda os vetores usados no produto interno em uma base que é o produto tensorial de bases locais."
   ]
  },
  {
   "cell_type": "markdown",
   "metadata": {},
   "source": [
    "## Construíndo bases compostas a partir de bases lindividuais\n",
    "Vemos que o produto interno de dois elemento da \"base composta\" $|c_{lm}\\rangle=|a_{l}\\rangle\\otimes|b_{m}\\rangle$ é dado por:\n",
    "\\begin{equation}\n",
    "\\langle c_{jk}|c_{lm}\\rangle = (\\langle a_{j}|\\otimes\\langle b_{k}|)(|a_{l}\\rangle\\otimes|b_{m}\\rangle) = \\langle a_{j}|a_{l}\\rangle\\otimes\\langle b_{k}|b_{m}\\rangle = \\delta_{j,l}\\otimes\\delta_{k,m} = \\delta_{j,l}\\delta_{k,m}.\n",
    "\\end{equation}\n",
    "Por conseguinte, como os elementos de $\\{|a_{j}\\rangle\\otimes|b_{k}\\rangle\\}$ são ortogonais com relação aos dois índices, e por conseguinte:\n",
    "\\begin{equation}\n",
    "d_{ab}\\equiv\\dim\\mathcal{H}_{ab} = d_{a}d_{b}.\n",
    "\\end{equation}"
   ]
  },
  {
   "cell_type": "markdown",
   "metadata": {},
   "source": [
    "##### Exemplo\n",
    "Vamos considerar a base padrão para $\\mathbb{C}^{2}$\n",
    "\\begin{equation}\n",
    "|a_{1}\\rangle=\\begin{bmatrix}1\\\\0\\end{bmatrix}\\text{, }|a_{2}\\rangle=\\begin{bmatrix}0\\\\1\\end{bmatrix}.\n",
    "\\end{equation}\n",
    "Uma base para $\\mathbb{C}^{4}=\\mathbb{C}^{2}\\otimes\\mathbb{C}^{2}$ é obtida como segue:\n",
    "\\begin{align}\n",
    "& |c_{11}\\rangle=|a_{1}\\rangle\\otimes|a_{1}\\rangle=\\begin{bmatrix}1|a_{1}\\rangle\\\\0|a_{1}\\rangle\\end{bmatrix}=\\begin{bmatrix}1\\\\0\\\\0\\\\0\\end{bmatrix}, \\\\\n",
    "& |c_{12}\\rangle=|a_{1}\\rangle\\otimes|a_{2}\\rangle=\\begin{bmatrix}1|a_{2}\\rangle\\\\0|a_{2}\\rangle\\end{bmatrix}=\\begin{bmatrix}0\\\\1\\\\0\\\\0\\end{bmatrix}, \\\\\n",
    "& |c_{21}\\rangle=|a_{2}\\rangle\\otimes|a_{1}\\rangle=\\begin{bmatrix}0|a_{1}\\rangle\\\\1|a_{1}\\rangle\\end{bmatrix}=\\begin{bmatrix}0\\\\0\\\\1\\\\0\\end{bmatrix}, \\\\\n",
    "& |c_{22}\\rangle=|a_{2}\\rangle\\otimes|a_{2}\\rangle=\\begin{bmatrix}0|a_{2}\\rangle\\\\1|a_{2}\\rangle\\end{bmatrix}=\\begin{bmatrix}0\\\\0\\\\0\\\\1\\end{bmatrix}. \\\\\n",
    "\\end{align}\n",
    "\n",
    "__Exercício:__ Uma base para $\\mathbb{C}^{2\\mathrm{x}2}$ é\n",
    "\\begin{equation}\n",
    "A_{1}=\\begin{bmatrix}1&0\\\\0&0\\end{bmatrix}\\text{, }A_{2}=\\begin{bmatrix}0&1\\\\0&0\\end{bmatrix}\\text{, }A_{3}=\\begin{bmatrix}0&0\\\\1&0\\end{bmatrix}\\text{, }A_{4}=\\begin{bmatrix}0&0\\\\0&1\\end{bmatrix}.\n",
    "\\end{equation}\n",
    "Obtenha uma base para $\\mathbb{C}^{4\\mathrm{x}4}$."
   ]
  },
  {
   "cell_type": "markdown",
   "metadata": {},
   "source": [
    "__Exercício:__ Verifique que $|a\\rangle\\otimes\\langle b| = |a\\rangle\\langle b|$ para quaisquer dois vetores $|a\\rangle,|b\\rangle\\in\\mathbb{C}^{n}$. <br>\n",
    "Dica: Faça os dois produtos e verifique a igualdade.\n",
    "\n",
    "__Exercício:__ Verifique que $Tr(A\\otimes B)=Tr(A)Tr(B)$.\n",
    "\n",
    "__Exercício:__ Considere $\\mathcal{H}_{a}=\\mathbb{C}^{d_{a}\\mathrm{x}d_{a}}$ e $\\mathcal{H}_{b}=\\mathbb{C}^{d_{b}\\mathrm{x}d_{b}}$ e bases ortonormais, sob o produto interno de Hilbert-Schmidt, $\\{A_{j}\\}_{j=1}^{d_{a}^{2}}\\in\\mathcal{H}_{a}$ e $\\{B_{k}\\}_{k=1}^{d_{b}^{2}}\\in\\mathcal{H}_{b}$. Defina uma base de $ \\mathcal{H}_{ab}=\\mathcal{H}_{a}\\otimes\\mathcal{H}_{b}$ como $\\{C_{jk}=A_{j}\\otimes B_{k}\\}$, com $j=1,\\cdots,\\dim\\mathcal{H}_{a}$ e $k=1,\\cdots,\\dim\\mathcal{H}_{b}$, e verifique que \n",
    "\\begin{equation}\n",
    "\\langle C_{j,k}|C_{l,m}\\rangle=\\delta_{j,l}\\delta_{k,m},\n",
    "\\end{equation}\n",
    "e portanto que nesse caso também temos $\\dim\\mathcal{H}_{ab}=(\\dim\\mathcal{H}_{a})(\\dim\\mathcal{H}_{b})$."
   ]
  },
  {
   "cell_type": "markdown",
   "metadata": {},
   "source": [
    "# Representação produto externo\n",
    "Considere um operador linear $A:\\mathbb{C}^{n}\\rightarrow\\mathbb{C}^{n}$ e uma base ortonormal $|\\beta_{j}\\rangle\\in\\mathbb{C}^{n}$. Podemos escrever a representação produto externo de $A$ da seguinte forma:\n",
    "\\begin{equation}\n",
    "A = \\mathbb{I}_{\\mathbb{C}^{n}}A\\mathbb{I}_{\\mathbb{C}^{n}} = \\sum_{j=1}^{n}|\\beta_{j}\\rangle\\langle\\beta_{j}|A\\sum_{k=1}^{n}|\\beta_{k}\\rangle\\langle\\beta_{k}| = \\sum_{j,k=1}^{n}\\langle\\beta_{j}|A|\\beta_{k}\\rangle|\\beta_{j}\\rangle\\langle\\beta_{k}|.\n",
    "\\end{equation}\n",
    "_OBS:_ Cada termo do tipo $|\\beta_{j}\\rangle\\langle\\beta_{k}|$ é chamado de __produto externo__, e é uma matriz $n\\mathrm{x}n$. <br>\n",
    "Note que o projetor em $\\mathbb{C}^{n}$ também é um produto externo, mas nesse caso temos um único vetor envolvido.\n",
    "\n",
    "__Exercício:__ Para o operador de inversão definido por $A|e_{1}\\rangle=|e_{2}\\rangle$ e $A|e_{2}\\rangle=|e_{1}\\rangle$, escreva sua representação produto externo (primeiramente com todos os termos, sejam eles nulos ou não).\n",
    "\n",
    "Consideremos agora o espaço composto $\\mathbb{C}^{n}\\otimes\\mathbb{C}^{m}$, um operador linear $C$ neste espaço e duas bases ortonormais dos espaços individuais $\\{|\\alpha_{j}\\rangle\\}_{j=1}^{n}$ e $\\{|\\beta_{k}\\rangle\\}_{k=1}^{m}$. Analogamente ao que fizemos acima, podemos escrever a seguinte representação produto externo para $C$ (__exercício__):\n",
    "\\begin{align}\n",
    "C & = (\\mathbb{I}_{\\mathbb{C}^{n}}\\otimes\\mathbb{I}_{\\mathbb{C}^{m}})C(\\mathbb{I}_{\\mathbb{C}^{n}}\\otimes\\mathbb{I}_{\\mathbb{C}^{m}}) = \\sum_{j,p=1}^{n}\\sum_{k,q=1}^{m}(\\langle\\alpha_{j}|\\otimes\\langle\\beta_{k}|)C(|\\alpha_{p}\\rangle\\otimes|\\beta_{q}\\rangle)|\\alpha_{j}\\rangle\\langle\\alpha_{p}|\\otimes|\\beta_{k}\\rangle\\langle\\beta_{q}| \\\\\n",
    "& =: \\sum_{j,p=1}^{n}\\sum_{k,q=1}^{m}C_{jk,pq}(|\\alpha_{j}\\rangle\\otimes|\\beta_{k}\\rangle)(\\langle\\alpha_{p}|\\otimes\\langle\\beta_{q}|).\n",
    "\\end{align}\n",
    "\n",
    "__Exercício:__ Obtenha a representação produto externo de $\\sigma_{z}\\otimes\\sigma_{z}$, com $\\sigma_{z}\\doteq\\begin{bmatrix}1&0\\\\0&-1\\end{bmatrix}$ quando representado na base padrão de $\\mathbb{C}^{2}$: $\\left\\{|e_{1}\\rangle=\\begin{bmatrix}1\\\\0\\end{bmatrix},|e_{2}\\rangle=\\begin{bmatrix}0\\\\1\\end{bmatrix}\\right\\}$."
   ]
  },
  {
   "cell_type": "markdown",
   "metadata": {},
   "source": [
    "# Traço parcial\n",
    "Vimos que a função traço de uma operador linear $B:\\mathcal{H}_{b}\\rightarrow\\mathcal{H}_{b}$ podia ser escrita como $Tr(B)=\\sum_{j=1}^{d_{b}}\\langle\\beta_{j}|B|\\beta_{j}\\rangle$ com $\\{|\\beta_{j}\\rangle\\}_{j=1}^{d_{b}}$ sendo uma base qualquer de $\\mathcal{H}_{b}$. Consideremos um operador linear atuando no espaço composto: $C:\\mathcal{H}_{a}\\otimes\\mathcal{H}_{b}\\rightarrow\\mathcal{H}_{a}\\otimes\\mathcal{H}_{b}$. A função traço parcial $Tr_{b}$ é uma função que leva operador lineares definidos em $\\mathcal{H}_{a}\\otimes\\mathcal{H}_{b}$ em operadores lineares definidos em $\\mathcal{H}_{a}$ e é definida por [arXiv:1601.07458]:\n",
    "\\begin{equation}\n",
    "Tr_{\\mathcal{H}_{b}}(C) := \\sum_{l=1}^{d_{b}}(\\mathbb{I}_{a}\\otimes\\langle\\beta_{l}|)C(\\mathbb{I}_{a}\\otimes|\\beta_{l}\\rangle).\n",
    "\\end{equation}\n",
    "Analogamente, o traço parcial sobre $\\mathcal{H}_{a}$ é definido como $Tr_{\\mathcal{H}_{a}}(C) := \\sum_{l=1}^{d_{a}}(\\langle\\alpha_{l}|\\otimes\\mathbb{I}_{b})C(|\\alpha_{l}\\rangle\\otimes\\mathbb{I}_{b})$.\n",
    "\n",
    "Se aplicamos essa definição no operador $C$,\n",
    "\\begin{align}\n",
    "\\mathrm{Tr}_{\\mathcal{H}_{b}}(C) & = \\sum_{l=1}^{m}\\mathbb{I}_{\\mathcal{H}_{b}}\\otimes\\langle\\beta_{l}|\\left(\\sum_{j,p=1}^{n}\\sum_{k,q=1}^{m}C_{jk,pq}|\\alpha_{j}\\rangle\\langle\\alpha_{p}|\\otimes |\\beta_{k}\\rangle\\langle\\beta_{q}|\\right)\\mathbb{I}_{\\mathcal{H}_{b}}\\otimes|\\beta_{l}\\rangle \\\\\n",
    "& = \\sum_{l=1}^{m}\\sum_{j,p=1}^{n}\\sum_{k,q=1}^{m}C_{jk,pq}(\\mathbb{I}_{\\mathcal{H}_{b}}\\otimes\\langle\\beta_{l}|)(|\\alpha_{j}\\rangle\\otimes|\\beta_{k}\\rangle)(\\langle\\alpha_{p}|\\otimes\\langle\\beta_{q}|)(\\mathbb{I}_{\\mathcal{H}_{b}}\\otimes|\\beta_{l}\\rangle) \\\\\n",
    "& = \\sum_{l=1}^{m}\\sum_{j,p=1}^{n}\\sum_{k,q=1}^{m}C_{jk,pq}(\\mathbb{I}_{\\mathcal{H}_{b}}|\\alpha_{j}\\rangle\\otimes\\langle\\beta_{l}|\\beta_{k}\\rangle)(\\langle\\alpha_{p}|\\mathbb{I}_{\\mathcal{H}_{b}}\\otimes\\langle\\beta_{q}|\\beta_{l}\\rangle) \\\\\n",
    "& = \\sum_{j,p=1}^{n}\\left(\\sum_{l=1}^{m}C_{jl,pl}\\right)|\\alpha_{j}\\rangle\\langle\\alpha_{p}| \\\\\n",
    "& =: \\sum_{j,p=1}^{n}A_{j,p}|\\alpha_{j}\\rangle\\langle\\alpha_{p}|.\n",
    "\\end{align}\n",
    "Ou seja, $\\mathrm{Tr}_{\\mathcal{H}_{b}}$ leva operadores definidos em $\\mathcal{H}_{a}\\otimes\\mathcal{H}_{b}$ em operadores de $\\mathcal{H}_{a}$.\n",
    "\n",
    "__Exercício:__ Usando um procedimento análogo, obtenha $Tr_{\\mathcal{H}_{a}}(C)$."
   ]
  },
  {
   "cell_type": "markdown",
   "metadata": {},
   "source": [
    "### Exemplo: Entropia das partes maior que a entropia do todo\n",
    "Seja $\\{|e_{1}\\rangle,|e_{2}\\rangle\\}\\in\\mathbb{C}^{2}$ uma base ortonormal. Consideremos o projetor no vetor $|\\Psi\\rangle=2^{-1/2}\\left(|e_{1}\\rangle\\otimes|e_{2}\\rangle-|e_{2}\\rangle\\otimes|e_{1}\\rangle\\right)$ (chamado de estado singleto):\n",
    "\\begin{align}\n",
    "P_{\\Psi} &=|\\Psi\\rangle\\langle\\Psi| = |\\Psi\\rangle|\\Psi\\rangle^{\\dagger}\\\\\n",
    "& = 2^{-1}(|e_{1}\\rangle\\otimes|e_{2}\\rangle-|e_{2}\\rangle\\otimes|e_{1}\\rangle)(|e_{1}\\rangle\\otimes|e_{2}\\rangle-|e_{2}\\rangle\\otimes|e_{1}\\rangle)^{\\dagger} \\\\\n",
    "& = 2^{-1}(|e_{1}\\rangle\\otimes|e_{2}\\rangle-|e_{2}\\rangle\\otimes|e_{1}\\rangle)((|e_{1}\\rangle\\otimes|e_{2}\\rangle)^{\\dagger}-(|e_{2}\\rangle\\otimes|e_{1}\\rangle)^{\\dagger}) \\\\\n",
    "& = 2^{-1}(|e_{1}\\rangle\\otimes|e_{2}\\rangle-|e_{2}\\rangle\\otimes|e_{1}\\rangle)((|e_{1}\\rangle)^{\\dagger}\\otimes(|e_{2}\\rangle)^{\\dagger}-(|e_{2}\\rangle)^{\\dagger}\\otimes(|e_{1}\\rangle)^{\\dagger}) \\\\\n",
    "& = 2^{-1}(|e_{1}\\rangle\\otimes|e_{2}\\rangle-|e_{2}\\rangle\\otimes|e_{1}\\rangle)(\\langle e_{1}|\\otimes\\langle e_{2}|-\\langle e_{2}|\\otimes\\langle e_{1}|) \\\\\n",
    "& = 2^{-1}(|e_{1}\\rangle\\langle e_{1}|\\otimes|e_{2}\\rangle\\langle e_{2}| - |e_{1}\\rangle\\langle e_{2}|\\otimes|e_{2}\\rangle\\langle e_{1}|  - |e_{2}\\rangle\\langle e_{1}|\\otimes|e_{1}\\rangle\\langle e_{2}| + |e_{2}\\rangle\\langle e_{2}|\\otimes|e_{1}\\rangle\\langle e_{1}|).\n",
    "\\end{align}\n",
    "\n",
    "Agora tomamos o traço parcial sobre o espaço da \"direita=d\":\n",
    "\\begin{align}\n",
    "\\mathrm{Tr}_{d}(P_{\\Psi}) & = \\sum_{j=1}^{2}(\\mathbb{I}_{e}\\otimes\\langle e_{j}|)P_{\\Psi}(\\mathbb{I}_{e}\\otimes|e_{j}\\rangle) \\\\\n",
    "& = (\\mathbb{I}_{e}\\otimes\\langle e_{1}|)P_{\\Psi}(\\mathbb{I}_{e}\\otimes|e_{1}\\rangle) + (\\mathbb{I}_{e}\\otimes\\langle e_{2}|)P_{\\Psi}(\\mathbb{I}_{e}\\otimes|e_{2}\\rangle) \\\\\n",
    "& \\vdots \\textbf{exercício}\\\\\n",
    "& = 2^{-1}(|e_{2}\\rangle\\langle e_{2}|+|e_{1}\\rangle\\langle e_{1}|) \\\\\n",
    "& = 2^{-1}\\mathbb{I}_{\\mathbb{C}^{2}}.\n",
    "\\end{align}\n",
    "\n",
    "Como vimos ao discutir a entropia de von Neumann, teremos que $S_{vn}(P_{\\Psi})=0$ enquanto que $S_{vn}(\\mathrm{Tr}_{d}(P_{\\Psi}))=S_{vn}(2^{-1}\\mathbb{I}_{\\mathbb{C}^{2}})=\\log_{2}(2)=1$.\n",
    "\n",
    "__Exercício:__ Calcule o traço parcial aplicado ao espaço da \"esquerda=e\" do projetor no vetor $|\\Phi\\rangle=(|e_{1}\\rangle\\otimes|e_{1}\\rangle+|e_{2}\\rangle\\otimes|e_{2}\\rangle)/\\sqrt{2}$ (um dos estados do tripleto). Calcule também $S_{vn}(P_{\\Phi})$ e $S_{vn}(\\mathrm{Tr}_{d}(P_{\\Phi}))$."
   ]
  },
  {
   "cell_type": "code",
   "execution_count": 49,
   "metadata": {},
   "outputs": [],
   "source": [
    "def ptrace(da, db, C, ssys):\n",
    "    if ssys == 'a':\n",
    "        ptr = zeros(db,db)\n",
    "        for j in range(0, db):\n",
    "            for k in range(0, db):\n",
    "                for l in range(0, da):\n",
    "                    ptr[j,k] += C[l*db+j,l*db+k]\n",
    "    elif ssys == 'b':\n",
    "        ptr = zeros(da,da)\n",
    "        for j in range(0, da):\n",
    "            for k in range(0, da):\n",
    "                for l in range(0, db):\n",
    "                    ptr[j,k] += C[j*db+l,k*db+l]\n",
    "    return ptr"
   ]
  },
  {
   "cell_type": "code",
   "execution_count": 58,
   "metadata": {},
   "outputs": [
    {
     "data": {
      "image/png": "[encoded data removed]",
      "text/latex": [
       "$$\\left[\\begin{matrix}a & b & c & d\\\\e & f & g & h\\\\i & j & k & l\\\\m & n & o & p\\end{matrix}\\right]$$"
      ],
      "text/plain": [
       "⎡a  b  c  d⎤\n",
       "⎢          ⎥\n",
       "⎢e  f  g  h⎥\n",
       "⎢          ⎥\n",
       "⎢i  j  k  l⎥\n",
       "⎢          ⎥\n",
       "⎣m  n  o  p⎦"
      ]
     },
     "execution_count": 58,
     "metadata": {},
     "output_type": "execute_result"
    }
   ],
   "source": [
    "a,b,c,d,e,f,g,h,i,j,k,l,m,n,o,p = symbols('a,b,c,d,e,f,g,h,i,j,k,l,m,n,o,p')\n",
    "A = Matrix([[a,b,c,d],[e,f,g,h],[i,j,k,l],[m,n,o,p]])\n",
    "A"
   ]
  },
  {
   "cell_type": "code",
   "execution_count": 59,
   "metadata": {},
   "outputs": [
    {
     "data": {
      "image/png": "[encoded data removed]",
      "text/latex": [
       "$$\\left[\\begin{matrix}a + k & b + l\\\\e + o & f + p\\end{matrix}\\right]$$"
      ],
      "text/plain": [
       "⎡a + k  b + l⎤\n",
       "⎢            ⎥\n",
       "⎣e + o  f + p⎦"
      ]
     },
     "execution_count": 59,
     "metadata": {},
     "output_type": "execute_result"
    }
   ],
   "source": [
    "ptrace(2, 2, A, 'a')"
   ]
  },
  {
   "cell_type": "code",
   "execution_count": 62,
   "metadata": {},
   "outputs": [
    {
     "data": {
      "image/png": "[encoded data removed]",
      "text/latex": [
       "$$\\left[\\begin{matrix}\\frac{1}{2} & 0\\\\0 & \\frac{1}{2}\\end{matrix}\\right]$$"
      ],
      "text/plain": [
       "⎡1/2   0 ⎤\n",
       "⎢        ⎥\n",
       "⎣ 0   1/2⎦"
      ]
     },
     "execution_count": 62,
     "metadata": {},
     "output_type": "execute_result"
    }
   ],
   "source": [
    "Psi = Matrix([[0],[1/sqrt(2)],[-1/sqrt(2)],[0]])\n",
    "Psi\n",
    "P_Psi = proj(Psi)\n",
    "P_Psi\n",
    "ptrace(2, 2, P_Psi, 'a')"
   ]
  },
  {
   "cell_type": "markdown",
   "metadata": {},
   "source": [
    "---\n",
    "# Teorema (decomposição polar)\n",
    "Para uma matriz qualquer $A$, podemos escrever\n",
    "\\begin{equation}\n",
    "A=UJ=KV,\n",
    "\\end{equation}\n",
    "com $U$ e $V$ sendo matrizes unitárias e $J=\\sqrt{A^{\\dagger}A}$ e $K=\\sqrt{AA^{\\dagger}}$ são matrizes positivas. Além disso, se existir a inversa de $A$, então $U=AJ^{-1}$.\n",
    "\n",
    "## Prova\n",
    "Vamos provar esse resultado mostrando que a ação de $A$ e de $UJ$ é a mesma, para a definição conveniente de $U$.<br> Como $J$ é positiva, é Hermitiana e assim podemos escrever a decomposição espectral $J=\\sum_{j}\\lambda_{j}|j\\rangle\\langle j|$. Vamos definir a ação de $A$ nos autovetores de $J$ como segue:\n",
    "\\begin{equation}\n",
    "A|j\\rangle=:|\\psi_{j}\\rangle.\n",
    "\\end{equation}\n",
    "Agora, de $A^{\\dagger}A=(UJ)^{\\dagger}(UJ)=J^{\\dagger}U^{\\dagger}UJ=J^{2}$ vem que\n",
    "\\begin{align}\n",
    "(|\\psi_{j}\\rangle,|\\psi_{k}\\rangle) & = (A|j\\rangle,A|k\\rangle) = (A^{\\dagger}A|j\\rangle,|k\\rangle) = (J^{2}|j\\rangle,|k\\rangle) = (\\lambda_{j}^{2}|j\\rangle,|k\\rangle) = \\lambda_{j}^{2}(|j\\rangle,|k\\rangle) \\\\\n",
    "& = \\lambda_{j}^{2}\\delta_{j,k}.\n",
    "\\end{align}\n",
    "Então, para $\\lambda_{j}>0$ podemos definir o seguinte conjunto ortonormal de vetores:\n",
    "\\begin{equation}\n",
    "|e_{j}\\rangle := \\frac{|\\psi_{j}\\rangle}{||\\psi_{j}||} = \\frac{|\\psi_{j}\\rangle}{\\sqrt{\\langle\\psi_{j}|\\psi_{j}\\rangle}}=\\frac{|\\psi_{j}\\rangle}{\\lambda_{j}}.\n",
    "\\end{equation}\n",
    "Podemos aplicar o procedimento de Gram-Schmidt para completar a base ortonormal $|e_{j}\\rangle$ usando vetores LI no subespaço gerado pelo autovetores de $J$ correspondentes a $\\lambda_{j}=0$. Tendo essa base, definimos o operador unitário\n",
    "\\begin{equation}\n",
    "U:=\\sum_{j}|e_{j}\\rangle\\langle j|.\n",
    "\\end{equation}"
   ]
  },
  {
   "cell_type": "markdown",
   "metadata": {},
   "source": [
    "Agora, para a ação dos operadores, teremos\n",
    "\\begin{align}\n",
    "& \\lambda_{j}>0: \\\\\n",
    "& UJ|j\\rangle = \\sum_{k}|e_{k}\\rangle\\langle k|\\lambda_{j}|j\\rangle = \\lambda_{j}\\sum_{k}|e_{k}\\rangle\\langle k|j\\rangle = \\lambda_{j}|e_{j}\\rangle = |\\psi_{j}\\rangle. \\\\\n",
    "& \\lambda_{j}=0: \\\\\n",
    "& UJ|j\\rangle = U\\lambda_{j}|j\\rangle = U0|j\\rangle  = |\\oslash\\rangle = |\\psi_{j}\\rangle, \\\\\n",
    "\\end{align}\n",
    "pois $\\langle\\psi_{j}|\\psi_{j}\\rangle=\\lambda_{j}^{2}=0\\Rightarrow|\\psi_{j}\\rangle=|\\oslash\\rangle$. \n",
    "\n",
    "__Exercício:__ Prove a decomposição polar direita $A=KV$.\n",
    "\n",
    "### Forma de $U$ quando $\\det(A)\\ne 0$\n",
    "Se $\\det(A)\\ne 0$ existe $A^{-1}$ e isso implica que existe $J^{-1}$:\n",
    "\\begin{equation}\n",
    "A^{-1}A = (UJ)^{-1}(UJ)=J^{-1}U^{-1}UJ=J^{-1}\\mathbb{I}J = J^{-1}J=\\mathbb{I}.\n",
    "\\end{equation}\n",
    "Agora, de $A=UJ$ temos $AJ^{-1}=UJJ^{-1}$ e\n",
    "\\begin{equation}\n",
    "U=AJ^{-1}.\n",
    "\\end{equation}\n",
    "\n",
    "Concluimos assim a prova do teorema."
   ]
  },
  {
   "cell_type": "code",
   "execution_count": 85,
   "metadata": {},
   "outputs": [
    {
     "name": "stdout",
     "output_type": "stream",
     "text": [
      "U= [[-0.7942532   0.4885547   0.36121484]\n",
      " [ 0.13752449 -0.43452234  0.89009963]\n",
      " [ 0.59181827  0.75664037  0.27793252]]\n",
      "J= [[ 1.6832319   3.42198013  4.84322025]\n",
      " [ 3.42198013  7.43706205 11.31283166]\n",
      " [ 4.84322025 11.31283166 25.83724168]]\n",
      "b= [ 0.07274768  2.55077732 32.33401062]\n"
     ]
    }
   ],
   "source": [
    "# Por enquanto não consegui a implementação simbólica dessa função\n",
    "A = np.array([[2,3,5],[5,7,11],[13,17,19]])\n",
    "U, J = polar(A, 'left')\n",
    "print('U=',str(U))\n",
    "print('J=',str(J))\n",
    "b = lapack.zheevd(J)\n",
    "print('b=',str(b[0]))"
   ]
  },
  {
   "cell_type": "markdown",
   "metadata": {},
   "source": [
    "# Teorema (decomposição em valores singulares)\n",
    "Para qualquer matriz $A$, existem matrizes unitárias $U$ e $W$ e uma matriz  positiva $D$ diagonal na base padrão $\\{|c_{j}\\rangle\\}$ tais que\n",
    "\\begin{equation}\n",
    "A = UDW.\n",
    "\\end{equation}\n",
    "\n",
    "## Prova\n",
    "Pela decomposição polar, temos que $A=SJ$ com $J=\\sqrt{A^{\\dagger}A}$ e $S^{\\dagger}=S^{-1}$. Agora, usamos uma matriz unitária $W$ que leva os autovetores de $J=\\sum_{j}\\lambda_{j}|j\\rangle\\langle j|$ em vetores da base padrão $\\{|c_{j}\\rangle\\}$, i.e., $W=\\sum_{k}|c_{k}\\rangle\\langle k|\\Rightarrow W|j\\rangle=|c_{j}\\rangle$ e\n",
    "\\begin{equation}\n",
    "D:=WJW^{\\dagger}=\\sum_{j}\\lambda_{j}W|j\\rangle\\langle j|W^{\\dagger}=:\\sum_{j}\\lambda_{j}|c_{j}\\rangle\\langle c_{j}|.\n",
    "\\end{equation}\n",
    "Assim $W^{\\dagger}DW=W^{\\dagger}WJW^{\\dagger}W=J$ e\n",
    "\\begin{equation}\n",
    "A=SJ=SW^{\\dagger}DW=:UDW,\n",
    "\\end{equation}\n",
    "completando assim a prova do teorema."
   ]
  },
  {
   "cell_type": "code",
   "execution_count": 86,
   "metadata": {},
   "outputs": [
    {
     "name": "stdout",
     "output_type": "stream",
     "text": [
      "U =  Matrix([[-0.187471869728401, 0.438572867666425, 0.878924420987030], [-0.427589905246112, 0.769125066412659, -0.474987900000982], [-0.884319609073642, -0.464866079599888, 0.0433400166736405]])\n",
      "D =  [  32.3340106207884]\n",
      "[  2.55077732276222]\n",
      "[0.0727476764263973]\n",
      "W =  [-0.433260455931128  -0.574904812093077   -0.694096415751137]\n",
      "[-0.517680612736692  -0.471671625184182    0.713815565249649]\n",
      "[-0.737761587860817   0.668588315055189  -0.0932604120125419]\n"
     ]
    }
   ],
   "source": [
    "A = Matrix([[2,3,5],[5,7,11],[13,17,19]])\n",
    "U, D, W = mpmath.svd(A)\n",
    "print('U = ',U)\n",
    "print('D = ',D)\n",
    "print('W = ',W)"
   ]
  },
  {
   "cell_type": "markdown",
   "metadata": {},
   "source": [
    "# Teorema (decomposição de Schmidt)\n",
    "Consideremos um vetor qualquer de $\\mathcal{H}_{a}\\otimes\\mathcal{H}_{b}$:\n",
    "\\begin{equation}\n",
    "|\\Psi\\rangle = \\sum_{j=1}^{\\dim\\mathcal{H}_{a}}\\sum_{k=1}^{\\dim\\mathcal{H}_{b}}c_{j,k}|\\alpha_{j}\\rangle\\otimes|\\beta_{k}\\rangle,\n",
    "\\end{equation}\n",
    "decomposto em uma base composta ortonormal. Existem bases ortonormais dos espaços individuais tais que\n",
    "\\begin{equation}\n",
    "|\\Psi\\rangle = \\sum_{j=1}^{\\min(\\dim\\mathcal{H}_{a},\\dim\\mathcal{H}_{b})}d_{j}|\\tilde{\\alpha}_{j}\\rangle\\otimes|\\tilde{\\beta}_{j}\\rangle,\n",
    "\\end{equation}\n",
    "em que $d_{j}$ são os chamados coeficientes de Schmidt."
   ]
  },
  {
   "cell_type": "markdown",
   "metadata": {},
   "source": [
    "## Prova\n",
    "Usamos a decomposição em valores singulares para escrever a matriz de coeficientes $C=(c_{j,k})$ como segue:\n",
    "\\begin{align}\n",
    "c_{j,k}&=(UDV)_{j,k}=\\sum_{l}(UD)_{j,l}V_{l,k}=\\sum_{l,m}U_{j,m}D_{m,l}V_{l,k} \\\\\n",
    "&=:\\sum_{l,m}U_{j,m}d_{l}\\delta_{l,m}V_{l,k}=\\sum_{l}U_{j,l}d_{l}V_{l,k}.\n",
    "\\end{align}\n",
    "Assim\n",
    "\\begin{align}\n",
    "|\\Psi\\rangle &= \\sum_{j,k}\\sum_{l}U_{j,l}d_{l}V_{l,k}|\\alpha_{j}\\rangle\\otimes|\\beta_{k}\\rangle = \\sum_{l}d_{l}\\sum_{j}U_{j,l}|\\alpha_{j}\\rangle\\otimes\\sum_{k}V_{l,k}|\\beta_{k}\\rangle \\\\\n",
    "& =: \\sum_{l}d_{l}|\\tilde{\\alpha}_{l}\\rangle\\otimes|\\tilde{\\beta}_{l}\\rangle.\n",
    "\\end{align} \n",
    "Vamos verificar a ortonormalidade das bases que definimos. Teremos\n",
    "\\begin{align}\n",
    "\\langle\\tilde{\\alpha}_{j}|\\tilde{\\alpha}_{k}\\rangle & = |\\tilde{\\alpha}_{j}\\rangle^{\\dagger}|\\tilde{\\alpha}_{k}\\rangle  = \\sum_{p}U_{p,j}^{*}|\\alpha_{p}\\rangle^{\\dagger}\\sum_{q}U_{q,k}|\\alpha_{q}\\rangle \\\\\n",
    "& = \\sum_{p,q}U_{p,j}^{*}U_{q,k}\\langle\\alpha_{p}|\\alpha_{q}\\rangle = \\sum_{p,q}U_{p,j}^{*}U_{q,k}\\delta_{p,q} = \\sum_{p}(U^{\\dagger})_{j,p}U_{p,k} \\\\\n",
    "& = (U^{\\dagger}U)_{j,k}=\\delta_{j,k}.\n",
    "\\end{align}\n",
    "__Exercício:__ Verifique que $\\{|\\tilde{\\beta}_{k}\\rangle\\}$ é uma base ortonormal. <br>\n",
    "Com isso, completamos a prova desse teorema."
   ]
  },
  {
   "cell_type": "markdown",
   "metadata": {},
   "source": [
    "## Obtendo a decomposição de Schmidt\n",
    "Para $|\\Psi\\rangle = \\sum_{j}d_{j}|\\tilde{\\alpha}_{j}\\rangle\\otimes|\\tilde{\\beta}_{j}\\rangle$, teremos (__exercício__):\n",
    "\\begin{equation}\n",
    "P_{\\Psi}=\\sum_{j,k}d_{j}d_{k}|\\tilde{\\alpha}_{j}\\rangle\\langle\\tilde{\\alpha}_{k}|\\otimes|\\tilde{\\beta}_{j}\\rangle\\langle\\tilde{\\beta}_{k}|.\n",
    "\\end{equation}\n",
    "Tomando o traço parcial sobre o sub-sistema da direita teremos\n",
    "\\begin{align}\n",
    "E&:=Tr_{d}(P_{\\Psi})=\\sum_{j,k}d_{j}d_{k}|\\tilde{\\alpha}_{j}\\rangle\\langle\\tilde{\\alpha}_{k}|\\otimes Tr(|\\tilde{\\beta}_{j}\\rangle\\langle\\tilde{\\beta}_{k}|) \\\\\n",
    "&=\\sum_{j,k}d_{j}d_{k}|\\tilde{\\alpha}_{j}\\rangle\\langle\\tilde{\\alpha}_{k}|\\otimes \\langle\\tilde{\\beta}_{k}|\\tilde{\\beta}_{j}\\rangle =\\sum_{j,k}d_{j}d_{k}|\\tilde{\\alpha}_{j}\\rangle\\langle\\tilde{\\alpha}_{k}|\\otimes\\delta_{k,j}\\\\\n",
    "&=\\sum_{j}d_{j}^{2}|\\tilde{\\alpha}_{j}\\rangle\\langle\\tilde{\\alpha}_{j}|.\n",
    "\\end{align}\n",
    "\n",
    "__Exercício:__ Verifique que $D:=Tr_{e}(P_{\\Psi})=\\sum_{j}d_{j}^{2}|\\tilde{\\beta}_{j}\\rangle\\langle\\tilde{\\beta}_{j}|$.\n",
    "\n",
    "Com isso, teremos o seguinte _algoritmo_ para calcular a decomposição de Schmidt de um vetor $|\\Psi\\rangle$ qualquer de um espaço composto $\\mathcal{H}_{a}\\otimes\\mathcal{H}_{b}$:\n",
    "1. Calcule o projetor $|\\Psi\\rangle\\langle\\Psi|$.\n",
    "2. Obtenha as decomposições espectrais de $E:=Tr_{e}(P_{\\Psi})$ e de $D:=Tr_{d}(P_{\\Psi})$. \n",
    "3. Os coeficientes de Schmidt são as raízes quadradas dos autovalores desses operadores (que possuem o mesmo espectro). As bases $\\{|\\tilde{\\alpha}_{j}\\rangle\\}$ e $\\{|\\tilde{\\beta}_{j}\\rangle\\}$ são as bases de autovetores de $E$ e de $D$, respectivamente.\n",
    "\n",
    "_OBS:_ Se as dimensões dos espaços forem diferentes, a soma vai até a menor dimensão, e o outro operador \"local\" deve necessariamente ter autovalores nulos (com degenerescência igual ou maior que a diferença entre as dimensões)."
   ]
  },
  {
   "cell_type": "markdown",
   "metadata": {},
   "source": [
    "### Implicação importante\n",
    "Note que $S_{vn}(|\\Psi\\rangle\\langle\\Psi|)=0$ e que $S_{vn}(E)=S_{vn}(D)=-\\sum_{j}d_{j}^{2}\\log_{2}(d_{j}^{2})$. Então a única maneira da entropia individual ser nula é se existe um único coeficiente de Schmidt não nulo (e por conseguinte igual a um). Nesse caso teríamos $|\\Psi\\rangle=|\\tilde{\\alpha}_{k}\\rangle\\otimes|\\tilde{\\beta}_{k}\\rangle$."
   ]
  },
  {
   "cell_type": "code",
   "execution_count": 128,
   "metadata": {},
   "outputs": [],
   "source": [
    "def schmidt_decomp(da,db,Psi):\n",
    "    scoeff = [] # lista para os coeficientes de Schmidt\n",
    "    base_a = [] # lista para os autovetores de E\n",
    "    base_b = [] # lista para os autovetores de D\n",
    "    P_Psi = proj(Psi)\n",
    "    A = ptrace(da, db, P_Psi, 'b')\n",
    "    eig_a = A.eigenvects()\n",
    "    B = ptrace(da, db, P_Psi, 'b')\n",
    "    eig_b = B.eigenvects()\n",
    "    ne = 0\n",
    "    j = 0\n",
    "    while ne < da:\n",
    "        mult = eig_a[j][1]\n",
    "        ne += mult\n",
    "        for k in range(0,mult):\n",
    "            scoeff.append(sqrt(eig_a[j][0]))\n",
    "            base_a.append(eig_a[j][2][k]/norm(eig_a[j][2][k]))\n",
    "        j += 1\n",
    "    ne = 0\n",
    "    j = 0\n",
    "    while ne < db:\n",
    "        mult = eig_b[j][1]\n",
    "        ne += mult\n",
    "        for k in range(0,mult):\n",
    "            base_b.append(eig_b[j][2][k]/norm(eig_b[j][2][k]))\n",
    "        j += 1\n",
    "    return scoeff, base_a, base_b"
   ]
  },
  {
   "cell_type": "code",
   "execution_count": 140,
   "metadata": {},
   "outputs": [
    {
     "name": "stdout",
     "output_type": "stream",
     "text": [
      "scoeff, base_a, base_b\n"
     ]
    },
    {
     "data": {
      "image/png": "[encoded data removed]",
      "text/latex": [
       "$$\\left ( \\left [ \\frac{\\sqrt{2}}{2}, \\quad \\frac{\\sqrt{2}}{2}\\right ], \\quad \\left [ \\left[\\begin{matrix}1\\\\0\\end{matrix}\\right], \\quad \\left[\\begin{matrix}0\\\\1\\end{matrix}\\right]\\right ], \\quad \\left [ \\left[\\begin{matrix}1\\\\0\\end{matrix}\\right], \\quad \\left[\\begin{matrix}0\\\\1\\end{matrix}\\right]\\right ]\\right )$$"
      ],
      "text/plain": [
       "⎛⎡√2  √2⎤  ⎡⎡1⎤  ⎡0⎤⎤  ⎡⎡1⎤  ⎡0⎤⎤⎞\n",
       "⎜⎢──, ──⎥, ⎢⎢ ⎥, ⎢ ⎥⎥, ⎢⎢ ⎥, ⎢ ⎥⎥⎟\n",
       "⎝⎣2   2 ⎦  ⎣⎣0⎦  ⎣1⎦⎦  ⎣⎣0⎦  ⎣1⎦⎦⎠"
      ]
     },
     "execution_count": 140,
     "metadata": {},
     "output_type": "execute_result"
    }
   ],
   "source": [
    "Psi = Matrix([[1/sqrt(2)],[0],[0],[1/sqrt(2)]])\n",
    "scoeff, base_a, base_b = schmidt_decomp(2,2,Psi)\n",
    "print('scoeff, base_a, base_b')\n",
    "scoeff, base_a, base_b"
   ]
  },
  {
   "cell_type": "markdown",
   "metadata": {},
   "source": [
    "---\n",
    "# Exercícios\n",
    "\n",
    "1. dddd\n",
    "\n",
    "1. dddd"
   ]
  },
  {
   "cell_type": "code",
   "execution_count": null,
   "metadata": {},
   "outputs": [],
   "source": []
  }
 ],
 "metadata": {
  "kernelspec": {
   "display_name": "Python 3",
   "language": "python",
   "name": "python3"
  },
  "language_info": {
   "codemirror_mode": {
    "name": "ipython",
    "version": 3
   },
   "file_extension": ".py",
   "mimetype": "text/x-python",
   "name": "python",
   "nbconvert_exporter": "python",
   "pygments_lexer": "ipython3",
   "version": "3.6.6"
  }
 },
 "nbformat": 4,
 "nbformat_minor": 2
}
