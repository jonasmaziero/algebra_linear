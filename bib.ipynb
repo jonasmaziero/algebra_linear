{
 "cells": [
  {
   "cell_type": "markdown",
   "metadata": {},
   "source": [
    "### Bibliografia\n",
    "* G. B. Arfken e H. J. Weber, Mathematical Methods for Physicists, 6ª ed., Academic Press, 2005.\n",
    "* K. Kuttler, Elementary Linear Algebra. Disponível em http://math.byu.edu/%7Eklkuttle/0000ElemLinearalgebratoprint.pdf\n",
    "* M. Hamermesh, Group Theory and its Application to Physical Problems, Dover, 1962.\n",
    "* A. Messiah, Quantum Mechanics, Dover, 1995.\n",
    "* M. A. Nielsen e I. L. Chuang, Quantum Computation and Quantum Information, Cambridge University Press, 2000.\n",
    "* A. F. R. de Toledo Piza, Mecânica Quântica, Edusp, 2009.\n",
    "* B. Amaral, A. T. Baraviera e M. O. Terra Cunha, Mecânica Quântica para Matemáticos em Formação, IMPA, 2011. Disponível em https://impa.br/wp-content/uploads/2017/04/28CBM_12.pdf\n",
    "* W.-K. Tung, Group Theory in Physics, World Scientific Publishing, 2003."
   ]
  },
  {
   "cell_type": "code",
   "execution_count": null,
   "metadata": {},
   "outputs": [],
   "source": []
  }
 ],
 "metadata": {
  "kernelspec": {
   "display_name": "Python 3",
   "language": "python",
   "name": "python3"
  },
  "language_info": {
   "codemirror_mode": {
    "name": "ipython",
    "version": 3
   },
   "file_extension": ".py",
   "mimetype": "text/x-python",
   "name": "python",
   "nbconvert_exporter": "python",
   "pygments_lexer": "ipython3",
   "version": "3.6.4"
  }
 },
 "nbformat": 4,
 "nbformat_minor": 2
}
