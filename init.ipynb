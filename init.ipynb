{
 "cells": [
  {
   "cell_type": "code",
   "execution_count": 2,
   "metadata": {},
   "outputs": [],
   "source": [
    "import sympy\n",
    "from sympy import *\n",
    "import numpy as np\n",
    "from numpy import random\n",
    "import math\n",
    "import scipy\n",
    "init_printing(use_unicode=True)\n",
    "from matplotlib import pyplot as plt\n",
    "%matplotlib inline\n",
    "from sympy.physics.quantum.dagger import Dagger\n",
    "from sympy.physics.quantum import TensorProduct as tp\n",
    "from mpmath import factorial as fact\n",
    "import io\n",
    "import base64\n",
    "from IPython.core.display import display, HTML\n",
    "from ipywidgets import interactive, interact, fixed, interact_manual\n",
    "import csv\n",
    "import importlib\n",
    "import scipy.interpolate\n",
    "from mpl_toolkits.mplot3d import Axes3D\n",
    "from matplotlib import cm, colors\n",
    "from sympy.functions.special.tensor_functions import KroneckerDelta"
   ]
  },
  {
   "cell_type": "code",
   "execution_count": 8,
   "metadata": {},
   "outputs": [],
   "source": [
    "# constantes físicas\n",
    "e = 1.60217662*10**-19 # C (carga elementar)\n",
    "k = 8.9875517923*10**9 # Nm^2/C^2 (constante de Coulomb)\n",
    "eps0 = 8.8541878128*10**-12 #F/m (permissividade do vácuo)\n",
    "mu0 = 1.25663706212*10**-6 # N/A^2 (permeabilidade do vácuo) \n",
    "h = 6.626069*10**-34 # Js (constante de Planck)\n",
    "heV = h/e # em eV\n",
    "hb = h/(2*math.pi) # hbar\n",
    "hbeV = hb/e # em eV\n",
    "c = 2.99792458*10**8 # m/s (velocidade da luz no vácuo)\n",
    "G = 6.6742*10**-11 # Nm^2/kg^2 (constante gravitacional)\n",
    "kB = 1.38065*10**-23 # J/K (constante de Boltzmann)\n",
    "me = 9.109382*10**-31 # kg (massa do elétron)\n",
    "mp = 1.6726219*10**-27 # kg (massa do próton)\n",
    "mn = 1.67492749804*10**-27 # kg (massa do nêutron)\n",
    "mT = 5.9722*10**24 # kg (massa da Terra)\n",
    "mS = 1.98847*10**30 # kg (massa do Sol)\n",
    "u = 1.660538921*10**-27 # kg (unidade de massa atômica)\n",
    "dTS = 1.496*10**11 # m (distância Terra-Sol)\n",
    "rT = 6.3781*10**6 # m (raio da Terra)\n",
    "sSB = 5.670374419*10**-8 # W⋅m−2⋅K−4 (constante de Stefan-Boltzmann)\n",
    "Ri = 10973734.848575922 # m^-1 (constante de Rydberg)\n",
    "al = (k*e**2)/(hb*c) # ~1/137.035999084 (constante de estrutura fina)"
   ]
  },
  {
   "cell_type": "code",
   "execution_count": 1,
   "metadata": {},
   "outputs": [],
   "source": [
    "def id(n): \n",
    "    '''retorna a matriz identidade nxn'''\n",
    "    id = zeros(n,n)\n",
    "    for j in range(0,n):\n",
    "       id[j,j] = 1\n",
    "    return id"
   ]
  },
  {
   "cell_type": "code",
   "execution_count": 2,
   "metadata": {},
   "outputs": [],
   "source": [
    "def pauli(j):\n",
    "    '''retorna as matrizes de Pauli'''\n",
    "    if j == 1:\n",
    "        return Matrix([[0,1],[1,0]])\n",
    "    elif j == 2:\n",
    "        return Matrix([[0,-1j],[1j,0]])\n",
    "    elif j == 3:\n",
    "        return Matrix([[1,0],[0,-1]])"
   ]
  },
  {
   "cell_type": "code",
   "execution_count": 3,
   "metadata": {},
   "outputs": [],
   "source": [
    "def tr(A):\n",
    "    '''retorna o traço de uma matriz'''\n",
    "    d = A.shape[0]\n",
    "    tr = 0\n",
    "    for j in range(0,d):\n",
    "        tr += A[j,j]\n",
    "    return tr"
   ]
  },
  {
   "cell_type": "code",
   "execution_count": 4,
   "metadata": {},
   "outputs": [],
   "source": [
    "def comm(A,B):\n",
    "    '''retorna a função comutador'''\n",
    "    return A*B-B*A"
   ]
  },
  {
   "cell_type": "code",
   "execution_count": 5,
   "metadata": {},
   "outputs": [],
   "source": [
    "def acomm(A,B):\n",
    "    '''retorna a função anti-comutador'''\n",
    "    return A*B+B*A"
   ]
  },
  {
   "cell_type": "code",
   "execution_count": 6,
   "metadata": {},
   "outputs": [],
   "source": [
    "def proj(psi): \n",
    "    '''retorna o projeto no vetor psi'''\n",
    "    d = psi.shape[0]\n",
    "    P = zeros(d,d)\n",
    "    for j in range(0,d):\n",
    "        for k in range(0,d):\n",
    "            P[j,k] = psi[j]*conjugate(psi[k])\n",
    "    return P"
   ]
  },
  {
   "cell_type": "code",
   "execution_count": 5,
   "metadata": {},
   "outputs": [],
   "source": [
    "def cb(n,j):\n",
    "    '''retorna um vetor da base padrão de C^n'''\n",
    "    vec = zeros(n,1)\n",
    "    vec[j] = 1\n",
    "    return vec"
   ]
  },
  {
   "cell_type": "code",
   "execution_count": 11,
   "metadata": {},
   "outputs": [],
   "source": [
    "def bell(j,k):\n",
    "    if j == 0 and k == 0:\n",
    "        return (1/sqrt(2))*(tp(cb(2,0),cb(2,0))+tp(cb(2,1),cb(2,1)))\n",
    "    elif j == 0 and k == 1:\n",
    "        return (1/sqrt(2))*(tp(cb(2,0),cb(2,1))+tp(cb(2,1),cb(2,0)))\n",
    "    elif j == 1 and k == 0:\n",
    "        return (1/sqrt(2))*(tp(cb(2,0),cb(2,1))-tp(cb(2,1),cb(2,0)))\n",
    "    elif j == 1 and k == 1:\n",
    "        return (1/sqrt(2))*(tp(cb(2,0),cb(2,0))-tp(cb(2,1),cb(2,1)))"
   ]
  },
  {
   "cell_type": "code",
   "execution_count": null,
   "metadata": {},
   "outputs": [],
   "source": []
  }
 ],
 "metadata": {
  "kernelspec": {
   "display_name": "Python 3",
   "language": "python",
   "name": "python3"
  },
  "language_info": {
   "codemirror_mode": {
    "name": "ipython",
    "version": 3
   },
   "file_extension": ".py",
   "mimetype": "text/x-python",
   "name": "python",
   "nbconvert_exporter": "python",
   "pygments_lexer": "ipython3",
   "version": "3.6.4"
  }
 },
 "nbformat": 4,
 "nbformat_minor": 2
}
