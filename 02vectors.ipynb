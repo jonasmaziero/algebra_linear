{
 "cells": [
  {
   "cell_type": "code",
   "execution_count": 1,
   "metadata": {},
   "outputs": [],
   "source": [
    "import platform\n",
    "if platform.system() == 'Linux':\n",
    "    %run '/home/jonasmaziero/Dropbox/GitHub/algebra_linear/00init.ipynb'\n",
    "else:\n",
    "    %run '/Users/jonasmaziero/Dropbox/GitHub/algebra_linear/00init.ipynb'"
   ]
  },
  {
   "cell_type": "markdown",
   "metadata": {},
   "source": [
    "# Álgebra Linear\n",
    "É o estudo de espaços vetoriais e de operações lineares nesses espaços. Já em sua versão mais básica, a AL tem aplicações diversas em ciência. <br>\n",
    "Uma boa descrição sobre o motivo de definirmos um espaço vetorial, ou grupo, como o faremos, pode ser visto no playlist de álgebra abstrata da Socratica: https://youtu.be/IP7nW_hKB7I."
   ]
  },
  {
   "cell_type": "markdown",
   "metadata": {},
   "source": [
    "## Espaço vetorial\n",
    "Um conjunto de objetos $\\{|v\\rangle\\}$ forma um espaço vetorial $V$ se existirem a operação de _soma de vetores_ $+:V\\text{x}V\\rightarrow V$, que leva dois vetores em um vetor de $V$, com as seguintes propriedades:\n",
    "* Comutatividade: $|v\\rangle+|w\\rangle=|w\\rangle+|v\\rangle\\text{, }\\forall|v\\rangle,|w\\rangle\\in V$,\n",
    "* Associatividade: $|v\\rangle+(|w\\rangle+|x\\rangle)=(|v\\rangle+|w\\rangle)+|x\\rangle\\text{, }\\forall|v\\rangle,|w\\rangle,|x\\rangle\\in V$,\n",
    "* Existe o elemento nulo $|\\oslash\\rangle$ tal que: $|v\\rangle+|\\oslash\\rangle=|v\\rangle\\text{, }\\forall|v\\rangle\\in V$,\n",
    "* Existe o elemento inverso $|v^{-1}\\rangle$ tal que: $|v\\rangle+|v^{-1}\\rangle=|\\oslash\\rangle\\text{, }\\forall|v\\rangle\\in V$, <br>\n",
    "e a operação de _multiplicação por escalar_ $*:\\mathbb{F}\\text{x}V\\rightarrow V$, herdada da multiplicação em $\\mathbb{F}$ e que leva um escalar do campo escalar associado e um vetor de $V$ em um vetor de $V$, com as seguintes propriedades:\n",
    "* Se $\\mathbb{1}_{F}$ é a identidade para a multiplicação em $\\mathbb{F}$, então $\\mathbb{1}_{F}*|v\\rangle=|v\\rangle\\text{, }\\forall|v\\rangle\\in V$,\n",
    "* Associatividade para produto dos escalares: $(a*b)*|v\\rangle=a*(b*|v\\rangle)\\text{, }\\forall a,b\\in\\mathbb{F}\\text{ e }\\forall|v\\rangle\\in V$,\n",
    "* Distributividade para a soma dos vetores: $a*(|v\\rangle+|w\\rangle)=a*|v\\rangle+a*|w\\rangle\\text{, }\\forall a\\in\\mathbb{F}\\text{ e }\\forall|v\\rangle,|w\\rangle\\in V$."
   ]
  },
  {
   "cell_type": "markdown",
   "metadata": {},
   "source": [
    "#### Exemplos\n",
    "Para o conjunto de listas com $n$ números complexos, denotado por $\\mathbb{C}^{n}$, as operações de soma de vetores e de multiplicação por escalar são definidas por:\n",
    "\\begin{align}\n",
    "& |v\\rangle+|w\\rangle:=\\begin{bmatrix} v_{1} \\\\ v_{2} \\\\ \\vdots \\\\ v_{n} \\end{bmatrix} + \\begin{bmatrix} w_{1} \\\\ w_{2} \\\\ \\vdots \\\\ w_{n} \\end{bmatrix} := \\begin{bmatrix} v_{1}+w_{1} \\\\ v_{2}+w_{2} \\\\ \\vdots \\\\ v_{n}+w_{n} \\end{bmatrix} \\\\\n",
    "& a*|v\\rangle = a*\\begin{bmatrix} v_{1} \\\\ v_{2} \\\\ \\vdots \\\\ v_{n} \\end{bmatrix} := \\begin{bmatrix} a*v_{1} \\\\ a*v_{2} \\\\ \\vdots \\\\ a*v_{n} \\end{bmatrix},\n",
    "\\end{align}\n",
    "com $a,v_{j},w_{k}\\in\\mathbb{C}$ e $+$ e $*$ nas matrizes são as usuais operações de soma e multiplicação de números complexos. Aplicando as propriedades dessas operações, pode-se verificar que essas definições satisfazem as propriedades acima e tornam assim $\\mathbb{C}^{n}$ em um espaço vetorial. <br>\n",
    "_OBS:_ $\\mathbb{R}^{n}$ é um caso particular de $\\mathbb{C}^{n}$, e é também um espaço vetorial.\n",
    "\n",
    "__Exercício:__ Forneça as conhecidas definições de soma e multiplicação por escalar que fazem de $\\mathbb{C}^{n\\text{x}n}$ um espaço vetorial. "
   ]
  },
  {
   "cell_type": "markdown",
   "metadata": {},
   "source": [
    "## Combinação e independência linear\n",
    "Dizemos que um vetor $|v\\rangle\\in V$, com $V$ sendo um espaço vetorial, é uma _combinação linear_ de um conjunto de vetores $|v_{j}\\rangle\\in V$ se existem escalares do campo escalar associado $a_{j}\\in\\mathbb{F}$ tais que\n",
    "\\begin{equation}\n",
    "|v\\rangle = \\sum_{j}a_{j}|v_{j}\\rangle.\n",
    "\\end{equation}\n",
    "\n",
    "Um conjunto de $n$ vetores $|w_{j}\\rangle\\in V$ é um conjunto _linearmente independente_ (LI) se nenhum desses vetores pode ser escrito como uma combinação linear dos outros. Colocado de outra forma, $\\{|w_{j}\\rangle\\}_{j=1}^{n}$ é LI se a única maneira de satisfazer a igualdade\n",
    "\\begin{equation}\n",
    "\\sum_{j}a_{j}|w_{j}\\rangle=|\\oslash\\rangle,\n",
    "\\end{equation}\n",
    "para $a_{j}\\in\\mathbb{F}$, é com todos os coeficientes da combinação linear nulos, i.e., $a_{j}=0$ para $j=1,\\cdots,n$.\n",
    "\n",
    "_OBS:_ Se um conjunto de vetores não é LI, então este é dito linearmente dependente (LD). Note que nesse caso existe pelo menos um coeficiente $a_{k}$ não nulo, e podemos escrever $|w_{k}\\rangle=\\sum_{j\\ne k}(-a_{j}/a_{k})|w_{j}\\rangle$.\n",
    "\n",
    "#### Exemplos\n",
    "Para $\\mathbb{C}^{2}$ temos que $|w_{1}\\rangle=\\begin{bmatrix} i & 1 \\end{bmatrix}^{T}$ e $|w_{2}\\rangle=\\begin{bmatrix} 3i & 1 \\end{bmatrix}^{T}$ são LI. Já $|w_{1}\\rangle$ e $|w_{3}\\rangle=\\begin{bmatrix} 3i & 3 \\end{bmatrix}^{T}$ são LD pois $-3|w_{1}\\rangle+|w_{3}\\rangle=|\\oslash\\rangle$."
   ]
  },
  {
   "cell_type": "markdown",
   "metadata": {},
   "source": [
    "## Critério para determinar se um conjunto de vetores é LI\n",
    "Lembrando, se só obtemos $\\sum_{j=1}^{n}a_{j}|w_{j}\\rangle=|\\oslash\\rangle$ se $|a\\rangle=\\begin{bmatrix} a_{1} & \\cdots & a_{n} \\end{bmatrix}^{T}=\\begin{bmatrix} 0 & \\cdots & 0 \\end{bmatrix}^{T}=|\\oslash\\rangle$, então o conjunto de vetores $\\{|w_{j}\\rangle\\}_{j=1}^{n}$ é LI, senão é LD. Vamos transformar essa equação em uma equação matricial definindo $|w_{j}\\rangle=\\begin{bmatrix} w_{1,j} & \\cdots & w_{n,j} \\end{bmatrix}^{T}$. Assim\n",
    "\\begin{align}\n",
    "|\\oslash\\rangle & = \\sum_{j=1}^{n}a_{j}|w_{j}\\rangle = \\sum_{j=1}^{n}a_{j}\\begin{bmatrix} w_{1j} \\\\ \\vdots \\\\ w_{nj} \\end{bmatrix} = \\sum_{j=1}^{n}\\begin{bmatrix} a_{j}w_{1j} \\\\ \\vdots \\\\ a_{j}w_{nj} \\end{bmatrix} = \\begin{bmatrix} \\sum_{j=1}^{n}w_{1j}a_{j} \\\\ \\vdots \\\\ \\sum_{j=1}^{n}w_{nj}a_{j} \\end{bmatrix} \\\\\n",
    "& = \\begin{bmatrix} w_{1,1} & \\cdots & w_{1,n} \\\\ \\vdots & \\vdots & \\vdots \\\\  w_{n,1} & \\cdots & w_{n,n} \\end{bmatrix}\\begin{bmatrix} a_{1} \\\\ \\vdots \\\\ a_{n} \\end{bmatrix} =: W|a\\rangle.\n",
    "\\end{align}\n",
    "Vemos assim que se a matriz \n",
    "\\begin{equation}\n",
    "W=\\begin{bmatrix} |w_{1}\\rangle & \\cdots & |w_{n}\\rangle \\end{bmatrix}\n",
    "\\end{equation}\n",
    "possuir inversa, i.e., se $\\det(W)\\ne 0$, então\n",
    "\\begin{equation}\n",
    "W|a\\rangle=|\\oslash\\rangle\\Rightarrow W^{-1}W|a\\rangle=\\mathbb{I}_{n}|a\\rangle=|a\\rangle=W^{-1}|\\oslash\\rangle=|\\oslash\\rangle,\n",
    "\\end{equation}\n",
    "o que implica que o conjunto de vetores é LI. Se tivermos $\\det(W)=0$ o conjunto de vetores é LD. <br>\n",
    "_OBS:_ Esse critério se torna óbvio se lembrarmos que o determinante de uma matriz é nulo se uma (ou mais) coluna(s) dessa matriz é uma combinação linear de outras das suas colunas. Essa fato equivale, no presente contexto, a um (ou mais) dos vetores $|w_{j}\\rangle$ ser uma combinação linear de outros desses vetores. "
   ]
  },
  {
   "cell_type": "markdown",
   "metadata": {},
   "source": [
    "#### Exemplos\n",
    "Considere o conjunto de vetores $\\{|w_{1}\\rangle=\\begin{bmatrix} 2 & 3 \\end{bmatrix}^{T},|w_{2}\\rangle=\\begin{bmatrix} 5 & 7 \\end{bmatrix}^{T}\\}$. Teremos\n",
    "\\begin{equation}\n",
    "\\det(W)=\\det\\begin{bmatrix} |w_{1}\\rangle & |w_{2}\\rangle \\end{bmatrix}=\\det\\begin{bmatrix} 2 & 5 \\\\ 3 & 7 \\end{bmatrix} = -1 \\ne 0.\n",
    "\\end{equation}\n",
    "Portanto $\\{|w_{1}\\rangle,|w_{2}\\rangle\\}$ é LI.\n",
    "\n",
    "Consideremos agora outro conjunto de vetores $\\left\\{|w_{1}\\rangle=\\begin{bmatrix} 2 & 3 \\end{bmatrix}^{T},|w_{2}\\rangle=\\begin{bmatrix} 5 & 7 \\end{bmatrix}^{T},|w_{3}\\rangle=\\begin{bmatrix} 11 & 13 \\end{bmatrix}^{T}\\right\\}$. Teremos\n",
    "\\begin{equation}\n",
    "\\det(W)=\\det\\begin{bmatrix} |w_{1}\\rangle & |w_{2}\\rangle & |w_{3}\\rangle\\end{bmatrix}=\\det\\begin{bmatrix} 2 & 5 & 11 \\\\ 3 & 7 & 13 \\end{bmatrix}.\n",
    "\\end{equation}\n",
    "Como olhamos somente para o determinante de matrizes quadradas, vamos ver esses vetores como sendo vetores de $\\mathbb{R}^{3}$ com componentes não nulas somente em $\\mathbb{R}^{2}$, i.e.,  $\\left\\{|w'_{1}\\rangle=\\begin{bmatrix} 2 & 3 & 0 \\end{bmatrix}^{T},|w'_{2}\\rangle=\\begin{bmatrix} 5 & 7 & 0 \\end{bmatrix}^{T},|w'_{3}\\rangle=\\begin{bmatrix} 11 & 13 & 0 \\end{bmatrix}^{T}\\right\\}$. Nesse caso teríamos\n",
    "\\begin{equation}\n",
    "\\det(W')=\\det\\begin{bmatrix} |w'_{1}\\rangle & |w'_{2}\\rangle & |w'_{3}\\rangle\\end{bmatrix}=\\det\\begin{bmatrix} 2 & 5 & 11 \\\\ 3 & 7 & 13 \\\\ 0 & 0 & 0 \\end{bmatrix}=0,\n",
    "\\end{equation}\n",
    "pela expansão em cofatores na última linha. Portanto $\\{|w'_{1}\\rangle,|w'_{2}\\rangle,|w'_{2}\\rangle\\}$, e $\\{|w_{1}\\rangle,|w_{2}\\rangle,|w_{2}\\rangle\\}$, é LD. Esse resultado pode ser verificado usando $|w_{3}\\rangle=\\alpha|w_{1}\\rangle+\\beta|w_{2}\\rangle$ e obtendo os coeficientes. Teremos\n",
    "\\begin{align}\n",
    "& \\begin{bmatrix} 2 & 5 \\\\ 3 & 7 \\end{bmatrix}\\begin{bmatrix} \\alpha \\\\ \\beta \\end{bmatrix} = \\begin{bmatrix} 11 \\\\ 13 \\end{bmatrix} \\Rightarrow \\begin{bmatrix} \\alpha \\\\ \\beta \\end{bmatrix} = \\begin{bmatrix} 2 & 5 \\\\ 3 & 7 \\end{bmatrix}^{-1}\\begin{bmatrix} 11 \\\\ 13 \\end{bmatrix} \\\\\n",
    "& \\Rightarrow \\begin{bmatrix} \\alpha \\\\ \\beta \\end{bmatrix} = \\begin{bmatrix} -7 & 5 \\\\ 3 & -2 \\end{bmatrix}\\begin{bmatrix} 11 \\\\ 13 \\end{bmatrix}=\\begin{bmatrix} -12 \\\\ 7 \\end{bmatrix}.\n",
    "\\end{align}"
   ]
  },
  {
   "cell_type": "code",
   "execution_count": 2,
   "metadata": {},
   "outputs": [
    {
     "data": {
      "image/png": "[encoded data removed]",
      "text/latex": [
       "$$\\left[\\begin{matrix}11\\\\13\\end{matrix}\\right]$$"
      ],
      "text/plain": [
       "⎡11⎤\n",
       "⎢  ⎥\n",
       "⎣13⎦"
      ]
     },
     "execution_count": 2,
     "metadata": {},
     "output_type": "execute_result"
    }
   ],
   "source": [
    "w1 = Matrix([[2],[3]])\n",
    "w2 = Matrix([[5],[7]])\n",
    "w3 = Matrix([[11],[13]])\n",
    "A = Matrix([[2,5],[3,7]])\n",
    "#A.inv()*w3\n",
    "-12*w1+7*w2  # verificação"
   ]
  },
  {
   "cell_type": "markdown",
   "metadata": {},
   "source": [
    "__Exercício:__ Verifique que $\\{|w_{1}\\rangle=\\begin{bmatrix} 17 & 19 \\end{bmatrix}^{T},|w_{2}\\rangle=\\begin{bmatrix} 23 & 29 \\end{bmatrix}^{T}\\}$ é LI e que $\\{|w_{1}\\rangle=\\begin{bmatrix} 17 & 19 \\end{bmatrix}^{T},|w_{2}\\rangle=\\begin{bmatrix} 23 & 29 \\end{bmatrix}^{T},|w_{3}\\rangle=\\begin{bmatrix} 31 & 37 \\end{bmatrix}^{T}\\}$ é LD."
   ]
  },
  {
   "cell_type": "markdown",
   "metadata": {},
   "source": [
    "### Extensão\n",
    "A extensão de um conjunto de vetores $\\{|v_{j}\\rangle\\}_{j=1}^{n}\\subseteq V$ são todos os vetores que são obtidos através de combinações lineares desse conjunto de vetores, i.e.,\n",
    "\\begin{equation}\n",
    "ext(\\{|v_{j}\\rangle\\}_{j=1}^{n}) = \\left\\{\\sum_{j=1}^{n}a_{j}|v_{j}\\rangle \\text{ para } a_{j}\\in\\mathbb{F}\\right\\}.\n",
    "\\end{equation}\n",
    "\n",
    "#### Exemplo\n",
    "Considere $|v_{1}\\rangle=\\begin{bmatrix} 1 & 0 \\end{bmatrix}^{T}$ e $|v_{2}\\rangle=\\begin{bmatrix} 0 & 1 \\end{bmatrix}^{T}$. Como $|v\\rangle=\\begin{bmatrix} a & b \\end{bmatrix}^{T}=a|v_{1}\\rangle+b|v_{2}\\rangle$, então $ext(|v_{1}\\rangle,|v_{2}\\rangle)=\\mathbb{C}^{2}$.\n",
    "\n",
    "__Exercício:__ Qual é a extensão dos vetores $|w_{1}\\rangle=\\begin{bmatrix} 1 & 1 \\end{bmatrix}^{T}$ e $|w_{2}\\rangle=\\begin{bmatrix} 1 & -1 \\end{bmatrix}^{T}$? "
   ]
  },
  {
   "cell_type": "markdown",
   "metadata": {},
   "source": [
    "## Base\n",
    "Se a extensão de um conjunto de vetores LI, $\\{|v_{j}\\rangle\\}_{j=1}^{n}\\subseteq V$, é todo o espaço vetorial, i.e.,\n",
    "\\begin{equation}\n",
    "ext(\\{|v_{j}\\rangle\\}_{j=1}^{n}) = V,\n",
    "\\end{equation}\n",
    "dizemos que esse conjunto de vetores forma uma base pra esse espaço vetorial. <br>\n",
    "_OBS:_ Note que nesse caso qualquer vetor de $V$ pode ser escrito como combinação linear de $\\{|v_{j}\\rangle\\}_{j=1}^{n}$.\n",
    "\n",
    "#### Exemplo\n",
    "Os vetores $|v_{1}\\rangle$ e $|v_{2}\\rangle$ do tópico anterior formam uma base para o espaço vetorial $\\mathbb{C}^{2}$.\n",
    "\n",
    "__Exercício:__ Os vetores $|w_{1}\\rangle$ e $|w_{2}\\rangle$ do tópico anterior formam uma base para o espaço vetorial $\\mathbb{C}^{2}$?"
   ]
  },
  {
   "cell_type": "markdown",
   "metadata": {},
   "source": [
    "## Teorema\n",
    "Seja $\\{|v_{j}\\rangle\\}_{j=1}^{r}$ um conjunto de vetores LI tal que $|v_{j}\\rangle\\in ext(\\{|w_{k}\\rangle\\}_{k=1}^{s})$ para $j=1,\\cdots,r$, com $\\{|w_{k}\\rangle\\}_{k=1}^{s}$ sendo também um conjunto LI. Então $r\\le s$.\n",
    "### Prova\n",
    "Pelo teorema, temos que cada vetor $|v_{j}\\rangle$ pode ser escrito como uma combinação linear dos vetores do conjunto $\\{|w_{k}\\rangle\\}_{k=1}^{s}$:\n",
    "\\begin{equation}\n",
    "|v_{j}\\rangle=\\sum_{k=1}^{s}a_{j,k}|w_{k}\\rangle,\n",
    "\\end{equation}\n",
    "para $j=1,\\cdots,r$, com $a_{j,k}\\in\\mathbb{F}$. Vamos assumir que $r>s$ e verificar que isso nos leva a uma _contradição_.Todas as esquações acima podem ser reescritas como uma única equação matricial:\n",
    "\\begin{equation}\n",
    "\\begin{bmatrix} |v_{1}\\rangle \\\\ |v_{2}\\rangle \\\\ \\vdots \\\\ |v_{s}\\rangle \\\\ |v_{s+1}\\rangle \\\\ \\vdots \\\\ |v_{r}\\rangle \\end{bmatrix}\n",
    "= \\begin{bmatrix} a_{1,1} & a_{1,2} & \\cdots & a_{1,s} \\\\  a_{2,1} & a_{2,2} & \\cdots & a_{2,s} \\\\ \\vdots & \\vdots & \\vdots & \\vdots \\\\ a_{s,1} & a_{s,2} & \\cdots & a_{s,s} \\\\ a_{s,1} & a_{s+1,2} & \\cdots & a_{s+1,s} \\\\  \\vdots & \\vdots & \\vdots & \\vdots  \\\\ a_{r,1} & a_{r,2} & \\cdots & a_{r,s} \\end{bmatrix}\\begin{bmatrix} |w_{1}\\rangle \\\\ |w_{2}\\rangle \\\\ \\vdots \\\\ |w_{s}\\rangle \\end{bmatrix}\n",
    "\\end{equation}\n",
    "Aplicando eliminação Gaussiana, podemos colocar o bloco de cima da matriz de coeficientes na forma \"diagonal normalizada\" (idetidade). Lembrando, na eliminação Gaussiana trocamos uma linha por ela mais uma constante multiplicada por outra linha. Teremos assim\n",
    "\\begin{equation}\n",
    "\\begin{bmatrix} |v'_{1}\\rangle \\\\ |v'_{2}\\rangle \\\\ \\vdots \\\\ |v'_{s}\\rangle \\\\ |v_{s+1}\\rangle \\\\ \\vdots \\\\ |v_{r}\\rangle \\end{bmatrix}\n",
    "=\\begin{bmatrix} 1 & 0 & \\cdots & 0 \\\\  0 & 1 & \\cdots & 0 \\\\  \\vdots & \\vdots & \\vdots & \\vdots \\\\ 0 & 0 & \\cdots & 1 \\\\ a_{s,1} & a_{s+1,2} & \\cdots & a_{s+1,s} \\\\  \\vdots & \\vdots & \\vdots & \\vdots  \\\\ a_{r,1} & a_{r,2} & \\cdots & a_{r,s} \\end{bmatrix}\\begin{bmatrix} |w_{1}\\rangle \\\\ |w_{2}\\rangle \\\\ \\vdots \\\\ |w_{s}\\rangle \\end{bmatrix},\n",
    "\\end{equation}\n",
    "em que $\\{v'_{j}\\}_{j=1}^{s}$ são combinações lineares dos vetores $\\{v_{j}\\}_{j=1}^{s}$. Pode-se ver que os vetores $\\{|w_{j}\\rangle\\}_{j=1}^{s}$ não mudam pela eliminação Gaussiana pois para $j,l\\in\\{1,\\cdots,s\\}$ e $c\\in\\mathbb{F}$,\n",
    "\\begin{align}\n",
    "& |v_{j}\\rangle\\rightarrow|v_{j}\\rangle+c|v_{l}\\rangle \\\\\n",
    "& \\equiv \\sum_{k=1}^{s}a_{j,k}|w_{k}\\rangle +c  \\sum_{k=1}^{s}a_{l,k}|w_{k}\\rangle=\\sum_{k=1}^{s}(a_{j,k}+ca_{l,k})|w_{k}\\rangle. \n",
    "\\end{align}\n",
    "Depois de aplicado o procedimento da eliminação Gaussinana teremos \n",
    "\\begin{equation}\n",
    "|v'_{j}\\rangle=|w_{j}\\rangle\\text{ para } j=1,\\cdots,s,\n",
    "\\end{equation}\n",
    "com\n",
    "\\begin{equation}\n",
    "|v'_{j}\\rangle=\\sum_{m=1}^{s}b_{j,m}|v_{m}\\rangle\\text{ para } b_{j,m}\\in\\mathbb{F}.\n",
    "\\end{equation}\n",
    "Podemos escrever as linhas  para $n=s+1,\\cdots,r$ como segue \n",
    "\\begin{align}\n",
    "|v_{n}\\rangle & = \\sum_{k=1}^{s}a_{n,k}|w_{k}\\rangle = \\sum_{k=1}^{s}a_{n,k}|v'_{k}\\rangle \\\\\n",
    "& = \\sum_{k=1}^{s}a_{n,k}\\sum_{m=1}^{s}b_{k,m}|v_{m}\\rangle = \\sum_{m=1}^{s}\\left(\\sum_{k=1}^{s}a_{n,k}b_{k,m}\\right)|v_{m}\\rangle \\\\\n",
    "& = \\sum_{m=1}^{s}c_{n,m}|v_{m}\\rangle \n",
    "\\end{align}\n",
    "com $c_{n,m}\\in\\mathbb{F}$. Chegamos assim na conclusão contraditória de que o conjunto $\\{|v_{j}\\rangle\\}_{j=1}^{r}$ é LD. Portanto nossa suposição de que $r>s$ deve estar errada e devemos ter que $r\\le s$."
   ]
  },
  {
   "cell_type": "markdown",
   "metadata": {},
   "source": [
    "#### Corolário\n",
    "Se $\\{|v_{j}\\rangle\\}_{j=1}^{r}$ e $\\{|w_{k}\\rangle\\}_{k=1}^{s}$ são duas bases para um espaço vetorial, então $r=s$.\n",
    "#### Prova\n",
    "Como os dois conjuntos são bases, estes conjuntos são, individualmente, LI e cada vetor de um conjunto está na extensão do outro. Portanto, pelo teorema anterior, devemos ter $r\\ge s$ e $s\\ge r$, que somente são satisfeitas simultaneamente se $r=s$."
   ]
  },
  {
   "cell_type": "markdown",
   "metadata": {},
   "source": [
    "### Dimensão\n",
    "A dimensão de um espaço vetorial é definida como o número de seus vetores LI que são necessários para gerar todos os seus vetores. Ou seja, $\\dim(V)=n$ se uma base de $V$ tiver $n$ vetores. "
   ]
  },
  {
   "cell_type": "markdown",
   "metadata": {},
   "source": [
    "## Produto interno\n",
    "Uma função $\\langle \\cdot|\\cdot\\rangle:V\\text{x}V\\rightarrow\\mathbb{F}$ (leva dois vetores em um escalar) é uma função produto interno se satisfaz as seguintes propriedades:\n",
    "* $\\langle\\cdot|\\cdot\\rangle$ é linear no segundo argumento, i.e., para $|v\\rangle,|w_{j}\\rangle\\in V$ e $a_{j}\\in\\mathbb{F}$, devemos ter\n",
    "\\begin{equation}\n",
    "\\langle v|\\left(\\sum_{j}a_{j}|w_{j}\\rangle\\right) = \\sum_{j}a_{j}\\langle v|w_{j}\\rangle.\n",
    "\\end{equation}\n",
    "* Antisimetria por troca dos vetores, i.e., para $|v\\rangle,|w\\rangle\\in V$\n",
    "\\begin{equation}\n",
    "\\langle v|w\\rangle = \\langle w|v\\rangle^{*},\n",
    "\\end{equation}\n",
    "onde $*$ é o complexo conjugado.\n",
    "* Positividade, i.e., para $|v\\rangle\\in V$\n",
    "\\begin{equation}\n",
    "\\langle v|v\\rangle\\ge 0\\text{ e }\\langle v|v\\rangle=0\\Rightarrow |v\\rangle=|\\oslash\\rangle.\n",
    "\\end{equation}\n",
    "\n",
    "__Exercício:__ Mostre que o produto interno é anti-linear no primeiro argumento, ou seja, se $|w\\rangle=\\sum_{j}a_{j}|w_{j}\\rangle$ então\n",
    "\\begin{equation}\n",
    "\\langle w|v\\rangle = \\sum_{j}a_{j}^{*}\\langle w_{j}|v\\rangle.\n",
    "\\end{equation}"
   ]
  },
  {
   "cell_type": "markdown",
   "metadata": {},
   "source": [
    "#### Exemplo: $\\mathbb{C}^{n}$\n",
    "Para este espaço vetorial o produto interno é definido por\n",
    "\\begin{align}\n",
    "\\langle v|w\\rangle & := |v\\rangle^{\\dagger}|w\\rangle = \\begin{bmatrix} v_{1}^{*} & v_{2}^{*} & \\cdots & v_{n}^{*} \\end{bmatrix}\\begin{bmatrix} w_{1} \\\\ w_{2} \\\\ \\vdots \\\\ w_{n} \\end{bmatrix} \\\\\n",
    "& = v_{1}^{*}w_{1}+v_{2}^{*}w_{2}+\\cdots+v_{n}^{*}w_{n}= \\sum_{j=1}^{n}v_{j}^{*}w_{j}.\n",
    "\\end{align}"
   ]
  },
  {
   "cell_type": "code",
   "execution_count": 3,
   "metadata": {},
   "outputs": [],
   "source": [
    "def inner_product(d,v,w):\n",
    "    ip = 0\n",
    "    for j in range(0,d):\n",
    "        ip += conjugate(v[j])*w[j]\n",
    "    return ip"
   ]
  },
  {
   "cell_type": "markdown",
   "metadata": {},
   "source": [
    "__Exercício:__ Calcule o produto interno entre $|v_{1}\\rangle=\\begin{bmatrix} 1 & i \\end{bmatrix}^{T}$ e $|v_{2}\\rangle=\\begin{bmatrix} 1 & -i \\end{bmatrix}^{T}$."
   ]
  },
  {
   "cell_type": "markdown",
   "metadata": {},
   "source": [
    "Vamos _verificar_ que essa definição possui as propriedades acima. Começamos considerando\n",
    "\\begin{equation}\n",
    "|w\\rangle = \\sum_{j}a_{j}|w_{j}\\rangle = \\sum_{j}a_{j}\\begin{bmatrix} |w_{j}\\rangle_{1} \\\\ |w_{j}\\rangle_{2} \\\\ \\vdots \\\\ |w_{j}\\rangle_{n} \\end{bmatrix} = \\begin{bmatrix} \\sum_{j}a_{j}|w_{j}\\rangle_{1} \\\\ \\sum_{j}a_{j}|w_{j}\\rangle_{2} \\\\ \\vdots \\\\ \\sum_{j}a_{j}|w_{j}\\rangle_{n} \\end{bmatrix}.\n",
    "\\end{equation}\n",
    "Assim\n",
    "\\begin{align}\n",
    "\\langle v|w\\rangle & = \\sum_{k=1}^{n}v_{k}^{*}w_{k} = \\sum_{k=1}^{n}v_{k}^{*}\\sum_{j}a_{j}|w_{j}\\rangle_{k} \\\\\n",
    "& = \\sum_{j}a_{j}\\sum_{k=1}^{n}v_{k}^{*}|w_{j}\\rangle_{k} = \\sum_{j}a_{j}\\langle v|w_{j}\\rangle.\n",
    "\\end{align}\n",
    "Agora\n",
    "\\begin{align}\n",
    "\\langle w|v\\rangle^{*} & = \\left(\\sum_{j=1}^{n}w_{j}^{*}v_{j}\\right)^{*} = \\sum_{j=1}^{n}\\left(w_{j}^{*}v_{j}\\right)^{*} \\\\\n",
    "& = \\sum_{j=1}^{n}(w_{j}^{*})^{*}v_{j}^{*} = \\sum_{j=1}^{n}v_{j}^{*}w_{j} \\\\\n",
    "& = \\langle v|w\\rangle.\n",
    "\\end{align}\n",
    "Finalmente\n",
    "\\begin{equation}\n",
    "\\langle v|v\\rangle = \\sum_{j=1}^{n}v_{j}^{*}v_{j} = \\sum_{j=1}^{n}|v_{j}|^{2} \\ge 0.\n",
    "\\end{equation}\n",
    "Para que essa soma seja nula, devemos ter todos os $v_{j}=0$. Isso implicaria que $|v\\rangle=|\\oslash\\rangle$. "
   ]
  },
  {
   "cell_type": "markdown",
   "metadata": {},
   "source": [
    "### Traço\n",
    "O traço de uma matriz é uma função $Tr:\\mathbb{C}^{n\\text{x}n}\\rightarrow\\mathbb{C}$ definida como a soma dos elementos na diagonal principal de uma matriz:\n",
    "\\begin{equation}\n",
    "Tr(A):= \\sum_{j=1}^{n}A_{j,j}.\n",
    "\\end{equation}"
   ]
  },
  {
   "cell_type": "code",
   "execution_count": 4,
   "metadata": {},
   "outputs": [],
   "source": [
    "def trace(d,A):\n",
    "    tr = 0\n",
    "    for j in range(0,d):\n",
    "        tr += A[j,j]\n",
    "    return tr\n",
    "#trace(2,Matrix([[2,3],[5,7]]))"
   ]
  },
  {
   "cell_type": "markdown",
   "metadata": {},
   "source": [
    "### Produto interno de Hilbert-Schmidt\n",
    "Essa é uma função $\\langle\\cdot|\\cdot\\rangle:\\mathbb{C}^{m\\text{x}n}\\text{x}\\mathbb{C}^{m\\text{x}n}\\rightarrow\\mathbb{C}$ definida como\n",
    "\\begin{align}\n",
    "\\langle A|B\\rangle & = Tr(A^{\\dagger}B) = \\sum_{j=1}^{n}(A^{\\dagger}B)_{j,j} \\\\\n",
    "& = \\sum_{j=1}^{n}\\sum_{k=1}^{m}(A^{\\dagger})_{j,k}B_{k,j} = \\sum_{j=1}^{n}\\sum_{k=1}^{m}A_{k,j}^{*}B_{k,j}.\n",
    "\\end{align}"
   ]
  },
  {
   "cell_type": "code",
   "execution_count": 5,
   "metadata": {},
   "outputs": [],
   "source": [
    "def inner_product_hs(m,n,A,B): # A=A(m,n), B=B(m,n)\n",
    "    ip = 0\n",
    "    for j in range(0,n):\n",
    "        for k in range(0,m):\n",
    "            ip += conjugate(A[k,j])*B[k,j]\n",
    "    return ip\n",
    "#inner_product_hs(2,Matrix([[2,3],[5,7]]),Matrix([[11,13],[19,23]]))"
   ]
  },
  {
   "cell_type": "markdown",
   "metadata": {},
   "source": [
    "__Exercício:__ Calcule o produto interno de Hilbert-Schmidt entre as matrizes $A=\\begin{bmatrix} 0 & 1 \\\\ 1 & 0 \\end{bmatrix}$ e $B=\\begin{bmatrix} 0 & -i \\\\ i & 0 \\end{bmatrix}$. <br>\n",
    "__Exercício:__ Verificar que o produto interno de Hilbert-Schmidt satisfaz as propriedades listadas acima, para uma função ser um produto interno. <br>\n",
    "__Exercício:__ Verificar que para $n=1$ o produto interno de Hilbert-Schmidt é equivalente ao produto interno para $\\mathbb{C}^{m}$."
   ]
  },
  {
   "cell_type": "markdown",
   "metadata": {},
   "source": [
    "### Ortogonalidade\n",
    "Dois vetores $|v\\rangle$ e $|w\\rangle$ são ditos ortogonais se\n",
    "\\begin{equation}\n",
    "\\langle v|w\\rangle = 0.\n",
    "\\end{equation}\n",
    "\n",
    "### Norma\n",
    "A norma (\"tamanho\") de um vetor $|v\\rangle$ é definida como a raiz quadrada do produto interno do vetor com ele mesmo:\n",
    "\\begin{equation}\n",
    "||v|| := \\sqrt{\\langle v|v\\rangle}.\n",
    "\\end{equation}"
   ]
  },
  {
   "cell_type": "code",
   "execution_count": 6,
   "metadata": {},
   "outputs": [],
   "source": [
    "def norm(d,v):\n",
    "    return sqrt(inner_product(d,v,v))\n",
    "#float(norm(2,Matrix([[2],[3]])))"
   ]
  },
  {
   "cell_type": "code",
   "execution_count": 7,
   "metadata": {},
   "outputs": [],
   "source": [
    "def norm_hs(d,A):\n",
    "    return sqrt(inner_product_hs(d,A,A))\n",
    "#float(norm_hs(2,Matrix([[2,3],[5,7]])))"
   ]
  },
  {
   "cell_type": "markdown",
   "metadata": {},
   "source": [
    "__Exercício:__ Calcule a norma do vetor $|v_{1}\\rangle=\\begin{bmatrix} 1 & i \\end{bmatrix}^{T}$. <br>\n",
    "__Exercício:__ Calcule a norma de Hilbert-Schmidt da matriz $B=\\begin{bmatrix} 0 & -i \\\\ i & 0 \\end{bmatrix}$."
   ]
  },
  {
   "cell_type": "markdown",
   "metadata": {},
   "source": [
    "## Ortogonalização de Gram-Schmidt\n",
    "Dado um conjunto de vetores LI $\\{|v_{j}\\rangle\\}_{j=1}^{n}$, o procedimento de GS descrito abaixo pode ser utilizado para obtermos um conjunto $\\{|w_{j}\\rangle\\}_{j=1}^{n}$ ortonormal, i.e., $\\langle w_{j}|w_{k}\\rangle=\\delta_{j,k}$. O algoritmo é o seguinte:\n",
    "1. Primeiro normalizamos $|v_{1}\\rangle$, i.e., fazemos\n",
    "\\begin{equation}\n",
    "|w_{1}\\rangle:=\\frac{|v_{1}\\rangle}{||v_{1}||}.\n",
    "\\end{equation}\n",
    "Assim\n",
    "\\begin{equation}\n",
    "||w_{1}||=\\sqrt{\\langle w_{1}|w_{1}\\rangle} = \\sqrt{\\frac{\\langle v_{1}|}{||v_{1}||}\\frac{|v_{1}\\rangle}{||v_{1}||}}=\\sqrt{\\frac{\\langle v_{1}|v_{1}\\rangle}{||v_{1}||^{2}}}=1.\n",
    "\\end{equation}\n",
    "2. Agora subtraímos a \"componente\" que $|v_{2}\\rangle$ possui na \"direção\" de $|w_{1}\\rangle$ e normalizamos o vetor obtido, i.e.,\n",
    "\\begin{equation}\n",
    "|w_{2}\\rangle := \\frac{|v_{2}\\rangle-\\langle w_{1}|v_{2}\\rangle|w_{1}\\rangle}{||(|v_{2}\\rangle-\\langle w_{1}|v_{2}\\rangle|w_{1}\\rangle)||}.\n",
    "\\end{equation}\n",
    "Esse vetor é normalizado e ortogonal a $|w_{1}\\rangle$:\n",
    "\\begin{equation}\n",
    "\\langle w_{1}|w_{2}\\rangle \\propto \\langle w_{1}|v_{2}\\rangle-\\langle w_{1}|v_{2}\\rangle\\langle w_{1}|w_{1}\\rangle=0.\n",
    "\\end{equation}\n",
    "3. Seguindo, subtraímos a \"componente\" que $|v_{3}\\rangle$ possui na \"direção\" de $|w_{1}\\rangle$ e de $|w_{2}\\rangle$ e normalizamos o vetor obtido, i.e.,\n",
    "\\begin{equation}\n",
    "|w_{3}\\rangle := \\frac{|v_{3}\\rangle-\\langle w_{1}|v_{3}\\rangle|w_{1}\\rangle-\\langle w_{2}|v_{3}\\rangle|w_{2}\\rangle}{||(|v_{3}\\rangle-\\langle w_{1}|v_{3}\\rangle|w_{1}\\rangle-\\langle w_{2}|v_{3}\\rangle|w_{2}\\rangle)||}.\n",
    "\\end{equation}\n",
    "Esse vetor é normalizado e ortogonal a $|w_{1}\\rangle$ e a $|w_{2}\\rangle$:\n",
    "\\begin{align}\n",
    "& \\langle w_{1}|w_{3}\\rangle \\propto \\langle w_{1}|v_{3}\\rangle-\\langle w_{1}|v_{3}\\rangle\\langle w_{1}|w_{1}\\rangle-\\langle w_{2}|v_{3}\\rangle\\langle w_{1}|w_{2}\\rangle=0 \\\\\n",
    "& \\langle w_{2}|w_{3}\\rangle \\propto \\langle w_{2}|v_{3}\\rangle-\\langle w_{1}|v_{3}\\rangle\\langle w_{2}|w_{1}\\rangle-\\langle w_{2}|v_{3}\\rangle\\langle w_{2}|w_{2}\\rangle=0\n",
    "\\end{align}\n",
    "4. Para os outros $j=4,\\cdots,n$ vetores, usa a mesma ideia, i.e., subtrai a componente na diração dos $|w_{k<j}\\rangle$ e normaliza:\n",
    "\\begin{equation}\n",
    "|w_{j}\\rangle := \\frac{|v_{j}\\rangle-\\sum_{k=1}^{j-1}\\langle w_{k}|v_{j}\\rangle|w_{k}\\rangle}{||(|v_{j}\\rangle-\\sum_{k=1}^{j-1}\\langle w_{k}|v_{j}\\rangle|w_{k}\\rangle)||}.\n",
    "\\end{equation}\n",
    "Abaixo está um programa que, fornecido o conjunto LI como as colunas de uma matrix $A$, este retorna o conjunto ortonormal nas colunas da matriz $B$. "
   ]
  },
  {
   "cell_type": "code",
   "execution_count": 1,
   "metadata": {},
   "outputs": [],
   "source": [
    "def gram_schmidt(m,n,A): # A=A[m,n]\n",
    "    B = zeros(m,n)\n",
    "    B[:,0] = A[:,0]/norm(m,A[:,0])\n",
    "    for j in range(1,n):\n",
    "        B[:,j] = A[:,j]\n",
    "        for k in range(0,j):\n",
    "            B[:,j] -= inner_product(m,B[:,k],A[:,j])*B[:,k]\n",
    "        B[:,j] /= norm(m,B[:,j])\n",
    "    return B\n",
    "#gram_schmidt(2,2,Matrix([[1,1],[1,-1]]))"
   ]
  },
  {
   "cell_type": "markdown",
   "metadata": {},
   "source": [
    "__Exercício:__ Use o procedimento de Gram-Schmidt para ortonormalizar $|v_{1}\\rangle = \\begin{bmatrix} 1 & 1\\end{bmatrix}^{T}$ e $|v_{2}\\rangle = \\begin{bmatrix} 1 & -1\\end{bmatrix}^{T}$."
   ]
  },
  {
   "cell_type": "markdown",
   "metadata": {},
   "source": [
    "#### Decomposição de um vetor em uma base ortonormal\n",
    "Consideremos um vetor qualquer $|v\\rangle\\in V$ decomposto em uma base ortonormal $\\{|b_{j}\\rangle\\}_{j=1}^{\\dim V}$ para $V$ como\n",
    "\\begin{equation}\n",
    "|v\\rangle = \\sum_{j=1}^{\\dim V}v_{j}|b_{j}\\rangle,\n",
    "\\end{equation}\n",
    "com $v_{j}\\in\\mathbb{F}$. Teremos então que\n",
    "\\begin{align}\n",
    "\\langle b_{k}|v\\rangle & = \\langle b_{k}|(\\sum_{j=1}^{\\dim V}v_{j}|b_{j}\\rangle) = \\sum_{j=1}^{\\dim V}v_{j}\\langle b_{k}|b_{j}\\rangle \\\\\n",
    "& = \\sum_{j=1}^{\\dim V}v_{j}\\delta_{k,j} = v_{k}.\n",
    "\\end{align}\n",
    "Ou seja,\n",
    "\\begin{equation}\n",
    "|v\\rangle = \\sum_{j=1}^{\\dim V}\\langle b_{j}|v\\rangle|b_{j}\\rangle.\n",
    "\\end{equation}"
   ]
  },
  {
   "cell_type": "markdown",
   "metadata": {},
   "source": [
    "## Espaço de Hilbert\n",
    "Consideraremos estes espaços como sendo espaços vetoriais munidos de uma função produto interno. O exemplo de espaço de Hilbert mais simples em Mecânica (MQ) é aquele usado para descrever \"sistemas discretos\":\n",
    "\\begin{equation}\n",
    "\\mathcal{H}=\\left(\\mathbb{c}^{n},\\langle\\psi|\\phi\\rangle=|\\psi\\rangle^{\\dagger}|\\phi\\rangle\\right).\n",
    "\\end{equation}\n",
    "Já para tópicos avançados da MQ, tais como computação quântica, é comum usarmos \n",
    "\\begin{equation}\n",
    "\\mathcal{H}=\\left(\\mathbb{c}^{n\\text{x}n},\\langle A|B\\rangle=Tr(A^{\\dagger}B)\\right).\n",
    "\\end{equation}\n",
    "Em ambos os casos aparece frequentemente o uso do espaço de funções\n",
    "\\begin{equation}\n",
    "\\mathcal{H}=\\left(f,g:\\mathbb{c}^{n}\\rightarrow\\mathbb{c},\\langle f(\\vec{x})|g(\\vec{x})\\rangle=\\int d\\vec{x}f^{\\dagger}(\\vec{x})g(\\vec{x})\\right).\n",
    "\\end{equation}"
   ]
  },
  {
   "cell_type": "markdown",
   "metadata": {},
   "source": [
    "## Subespaço vetorial\n",
    "Se $V$ é um espaço vetorial, então $W\\subseteq V$ é um sub-espaço de $V$ se também for um espaço vetorial sob as operações de soma e multiplicação por escalar de $V$.\n",
    "\n",
    "_Exemplo:_ $\\mathbb{C}^{2}$ é um subespaço de $\\mathbb{C}^{3}$. "
   ]
  },
  {
   "cell_type": "code",
   "execution_count": null,
   "metadata": {},
   "outputs": [],
   "source": []
  }
 ],
 "metadata": {
  "kernelspec": {
   "display_name": "Python 3",
   "language": "python",
   "name": "python3"
  },
  "language_info": {
   "codemirror_mode": {
    "name": "ipython",
    "version": 3
   },
   "file_extension": ".py",
   "mimetype": "text/x-python",
   "name": "python",
   "nbconvert_exporter": "python",
   "pygments_lexer": "ipython3",
   "version": "3.6.4"
  }
 },
 "nbformat": 4,
 "nbformat_minor": 2
}
