{
 "cells": [
  {
   "cell_type": "code",
   "execution_count": 1,
   "metadata": {},
   "outputs": [],
   "source": [
    "import platform\n",
    "if platform.system() == 'Linux':\n",
    "    %run '/home/jonasmaziero/Dropbox/GitHub/algebra_linear/00init.ipynb'\n",
    "else:\n",
    "    %run '/Users/jonasmaziero/Dropbox/GitHub/algebra_linear/00init.ipynb'"
   ]
  },
  {
   "cell_type": "markdown",
   "metadata": {},
   "source": [
    "# Operadores lineares"
   ]
  },
  {
   "cell_type": "markdown",
   "metadata": {},
   "source": [
    "Um _operador linear_ é qualquer função $A:V\\rightarrow W$ (leva vetores do espaço vetorial $V$ para o espaço vetorial $W$) que é linear no seu domínio. Ou seja, para $c_{j}\\in\\mathbb{F}$ e $|v_{j}\\rangle\\in V$ devemos ter\n",
    "\\begin{equation}\n",
    "A(\\sum_{j}c_{j}|v_{j}\\rangle) = \\sum_{j}c_{j}A(|v_{j}\\rangle).\n",
    "\\end{equation}\n",
    "_OBS:_ Quando $A:V\\rightarrow V$ dizemos que $A$ está definido em $V$. <br>\n",
    "_OBS:_ Dois operadores lineares particularmente importantes são o operdor identidade, definido por\n",
    "\\begin{equation}\n",
    "\\mathbb{I}_{V}|v\\rangle=|v\\rangle\\text{, }\\forall |v\\rangle\\in V,\n",
    "\\end{equation}\n",
    "e o operador nulo, definido por\n",
    "\\begin{equation}\n",
    "\\mathbb{0}_{V}|v\\rangle=|\\oslash\\rangle\\text{, }\\forall |v\\rangle\\in V.\n",
    "\\end{equation}\n",
    "_OBS:_ Como qualquer vetor $|v\\rangle\\in V$ pode ser escrito como uma combinação linear dos vetores de uma certa base $\\{|w_{j}\\rangle\\}_{j=1}^{\\dim V}$, i.e., se $|v\\rangle=\\sum_{j}c_{j}|w_{j}\\rangle$ com $c_{j}\\in\\mathbb{F}$, se sabemos como um certo operador linear atua em uma base qualquer de $V$, sabemos como ele atua em todos os vetores de $V$ pois\n",
    "\\begin{equation}\n",
    "A(|v\\rangle) = A(\\sum_{j}c_{j}|w_{j}\\rangle)=\\sum_{j}c_{j}A(|w_{j}\\rangle). \n",
    "\\end{equation}"
   ]
  },
  {
   "cell_type": "markdown",
   "metadata": {},
   "source": [
    "### Matrizes são operadores lineares\n",
    "Considere matrizes retangulares $A\\in\\mathbb{C}^{m\\text{x}n}$. Não é difícil ver que para $j=1,\\cdots,m$ teremos\n",
    "\\begin{align}\n",
    "& |v'\\rangle_{j} = \\sum_{k=1}^{n}A_{j,k}|v\\rangle_{k} \\\\ \n",
    "& \\text{ou, equivalentemente,} \\\\\n",
    "& \\begin{bmatrix} |v'\\rangle_{1} \\\\ |v'\\rangle_{2} \\\\ \\vdots \\\\ |v'\\rangle_{m} \\end{bmatrix} = \\begin{bmatrix} A_{1,1} & A_{1,2} & \\cdots & A_{1,n} \\\\ A_{2,1} & A_{2,2} & \\cdots & A_{2,n} \\\\ \\vdots & \\vdots & \\vdots & \\vdots \\\\ A_{m,1} & A_{m,2} & \\cdots & A_{m,n} \\end{bmatrix} \\begin{bmatrix} |v\\rangle_{1} \\\\ |v\\rangle_{2} \\\\ \\vdots \\\\ |v\\rangle_{n} \\end{bmatrix}.\n",
    "\\end{align}\n",
    "Ou seja, $A:\\mathbb{C}^{n}\\rightarrow\\mathbb{C}^{m}$. Para verificar linearidade consideremos $|w\\rangle,|w_{j}\\rangle\\in\\mathbb{C}^{n}$, $c_{j}\\in\\mathbb{C}$ e $|w\\rangle=\\sum_{j}c_{j}|w_{j}\\rangle$ e olhemos para\n",
    "\\begin{align}\n",
    "(A|w\\rangle)_{k} & = (A\\sum_{j}c_{j}|w_{j}\\rangle)_{k} \\\\\n",
    "& = \\sum_{l}A_{k,l}|w\\rangle_{l} = \\sum_{l}A_{k,l}\\sum_{j}c_{j}|w_{j}\\rangle_{l} \\\\\n",
    "& = \\sum_{j}c_{j}\\sum_{l}A_{k,l}|w_{j}\\rangle_{l} = \\sum_{j}c_{j}(A|w_{j}\\rangle)_{k},\n",
    "\\end{align}\n",
    "o que implica que $A(\\sum_{j}c_{j}|w_{j}\\rangle)=\\sum_{j}c_{j}A(|w_{j}\\rangle)$ e portanto que matrizes são operadores lineares. Ademais,\n",
    "\\begin{equation}\n",
    "\\mathbb{I}=\\begin{bmatrix} 1 & 0 & \\cdots & 0 \\\\ 0 & 1 & \\cdots & 0 \\\\ \\vdots & \\vdots & \\vdots & \\vdots \\\\ 0 & 0 & \\cdots & 1 \\end{bmatrix} \\text{ e } \\mathbb{0}=\\begin{bmatrix} 0 & 0 & \\cdots & 0 \\\\ 0 & 0 & \\cdots & 0 \\\\ \\vdots & \\vdots & \\vdots & \\vdots \\\\ 0 & 0 & \\cdots & 0 \\end{bmatrix}.\n",
    "\\end{equation}"
   ]
  },
  {
   "cell_type": "markdown",
   "metadata": {},
   "source": [
    "### Representação matricial de operadores lineares\n",
    "Consideremos $A:V\\rightarrow W$ e duas bases $\\{|v_{j}\\rangle\\}_{j=1}^{\\dim V}$ de $V$ e $\\{|w_{k}\\rangle\\}_{k=1}^{\\dim W}$ de $W$. Sabemos que $A$ atuando em um vetor de $V$ retorna um vetor de $W$, i.e., $A(|v_{j}\\rangle)\\in W$, que por sua vez pode ser escrito como uma combinação linear dos vetores de qualquer uma das bases de $W$. Então, para $j=1,\\cdots,\\dim V$, podemos escrever\n",
    "\\begin{equation}\n",
    "A(|v_{j}\\rangle) = \\sum_{k=1}^{\\dim W}A_{k,j}|w_{k}\\rangle,\n",
    "\\end{equation}\n",
    "onde os coeficientes da combinação linear, $A_{k,j}\\in\\mathbb{F}$, fornecem a representação matricial de $A$.\n",
    "\n",
    "#### Exemplo\n",
    "Considere a base $\\{|e_{1}\\rangle,|e_{2}\\rangle\\}$ e $A:V\\rightarrow V$ que atua como segue:\n",
    "\\begin{equation}\n",
    "A(|e_{1}\\rangle)=|e_{2}\\rangle \\text{ e } A(|e_{2}\\rangle)=|e_{1}\\rangle.\n",
    "\\end{equation}\n",
    "Teremos assim que\n",
    "\\begin{align}\n",
    "& A(|e_{1}\\rangle)=\\sum_{k=1}^{2}A_{k,1}|e_{k}\\rangle = A_{1,1}|e_{1}\\rangle+ A_{2,1}|e_{2}\\rangle \\\\\n",
    "& A(|e_{2}\\rangle)=\\sum_{k=1}^{2}A_{k,2}|e_{k}\\rangle = A_{1,2}|e_{1}\\rangle+ A_{2,2}|e_{k}\\rangle.\n",
    "\\end{align}\n",
    "Então, comparando a definição com estas últimas relações teremos \n",
    "\\begin{equation}\n",
    "A \\doteq \\begin{bmatrix} A_{1,1} & A_{1,2} \\\\ A_{2,1} & A_{2,2} \\end{bmatrix} = \\begin{bmatrix} 0 & 1 \\\\ 1 & 0 \\end{bmatrix}.\n",
    "\\end{equation}\n",
    "\n",
    "__Exercício:__ Considere a base $\\{|e_{1}\\rangle,|e_{2}\\rangle\\}$ e $B:V\\rightarrow V$ que atua como segue: $B(|e_{1}\\rangle)=(|e_{1}\\rangle+|e_{2}\\rangle)/\\sqrt{2}$ e $B(|e_{2}\\rangle)=(|e_{1}\\rangle-|e_{2}\\rangle)/\\sqrt{2}$. Forneça a representação matricial de $B$ nesse caso."
   ]
  },
  {
   "cell_type": "markdown",
   "metadata": {},
   "source": [
    "### Composição de operadores lineares\n",
    "Consideremos operadores lineares $A:V\\rightarrow W$ e $B:W\\rightarrow X$ e as seguintes bases para estes espaços vetoriais:  $\\{|v_{j}\\rangle\\}_{j=1}^{\\dim V}\\in V$,  $\\{|w_{j}\\rangle\\}_{j=1}^{\\dim W}\\in W$ e  $\\{|x_{j}\\rangle\\}_{j=1}^{\\dim X}\\in X$. Quando atuamos primeiro $A$ e depois $B$ (notação: $B\\circ A$) veremos que isso é equivalente a aplicar um único operador linear $C:V\\rightarrow X$, cuja representação matricial pode ser obtida daquelas de $A$ e  de $B$. Explicitando, para $j=1,\\cdots,\\dim V$ temos\n",
    "\\begin{equation}\n",
    "A(|v_{j}\\rangle) = \\sum_{k=1}^{\\dim W} A_{k,j}|w_{k}\\rangle.\n",
    "\\end{equation}\n",
    "Seguindo,\n",
    "\\begin{align}\n",
    "(B\\circ A)(|v_{j}\\rangle) & = B(A(|v_{j}\\rangle)) = B(\\sum_{k=1}^{\\dim W} A_{k,j}|w_{k}\\rangle) \\\\\n",
    "& = \\sum_{k=1}^{\\dim W} A_{k,j}B(|w_{k}\\rangle) = \\sum_{k=1}^{\\dim W} A_{k,j}\\sum_{l=1}^{\\dim X}B_{l,k}|x_{l}\\rangle \\\\\n",
    "& = \\sum_{l=1}^{\\dim X}\\left(\\sum_{k=1}^{\\dim W} B_{l,k}A_{k,j}\\right)|x_{l}\\rangle =: \\sum_{l=1}^{\\dim X}C_{l,j}|x_{l}\\rangle \\\\\n",
    "& =: C(|v_{j}\\rangle).\n",
    "\\end{align}\n",
    "\n",
    "__Exercício:__ Fornceça a representação matricial para $C=B\\circ A$, com $A$ e $B$ os operadores definidos no último exemplo e exercício, respectivamente."
   ]
  },
  {
   "cell_type": "markdown",
   "metadata": {},
   "source": [
    "## Autovalores e autovetores\n",
    "Se a ação de um operador linear $A:V\\rightarrow V$ não muda a direção de um vetor $|a\\rangle\\in V$, então dizemos que $|a\\rangle$ é um autovetor de $A$. Se \n",
    "\\begin{equation}\n",
    "A|a\\rangle\\propto |a\\rangle =: \\alpha|a\\rangle\n",
    "\\end{equation}\n",
    "dizemos que $\\alpha$ é o autovalor $A$ correpondente ao autovetor $|a\\rangle$.\n",
    "\n",
    "### Adjunto de um operador linear\n",
    "Seja $V$ um espaço de Hilbert. Então, por definição, para qualquer operador linear $A:V\\rightarrow V$ existe o operador adjunto a $A$, denotado por $A^{\\dagger}:V\\rightarrow V$, tal que\n",
    "\\begin{equation}\n",
    "(|v\\rangle,A|w\\rangle) = (A^{\\dagger}|v\\rangle,|w\\rangle)\\text{, }\\forall|v\\rangle,|w\\rangle\\in V.\n",
    "\\end{equation}\n",
    "Por conveniência, aqui usamos $(|a\\rangle,|b\\rangle)$ para o produto interno de $|a\\rangle$ e $|b\\rangle$.\n",
    "\n",
    "Vamos verificar que a representação matricial de $A^{\\dagger}$ é dada pela transposta conjugada da representação matricial de $A$. Para isso vamos considerar uma base ortonormal  $\\{|b_{j}\\rangle\\}_{j=1}^{\\dim V}\\in V$ e escrever $|v\\rangle = \\sum_{j=1}^{\\dim V}v_{j}|b_{j}\\rangle$ e $|w\\rangle = \\sum_{j=1}^{\\dim V}w_{j}|b_{j}\\rangle$. Assim\n",
    "\\begin{align}\n",
    "(|v\\rangle,A|w\\rangle) & = (\\sum_{j=1}^{\\dim V}v_{j}|b_{j}\\rangle,A\\sum_{k=1}^{\\dim V}w_{k}|b_{k}\\rangle) \\\\\n",
    "& = (\\sum_{j=1}^{\\dim V}v_{j}|b_{j}\\rangle,\\sum_{k=1}^{\\dim V}w_{k}A|b_{k}\\rangle) \\\\\n",
    "& = \\sum_{j,k=1}^{\\dim V}v^{*}_{j}w_{k}(|b_{j}\\rangle,\\sum_{l=1}^{\\dim V}A_{l,k}|b_{l}\\rangle) \\\\ \n",
    "& = \\sum_{j,k,l=1}^{\\dim V}v^{*}_{j}w_{k}A_{l,k}(|b_{j}\\rangle,|b_{l}\\rangle) \\\\\n",
    "& = \\sum_{j,k,l=1}^{\\dim V}v^{*}_{j}w_{k}A_{l,k}\\delta_{j,l} \\\\\n",
    "& = \\sum_{j,k=1}^{\\dim V}v^{*}_{j}w_{k}A_{j,k}\n",
    "\\end{align}\n",
    "e\n",
    "\\begin{align}\n",
    "(A^{\\dagger}|v\\rangle,|w\\rangle) & = (A^{\\dagger}\\sum_{j=1}^{\\dim V}v_{j}|b_{j}\\rangle,\\sum_{k=1}^{\\dim V}w_{k}|b_{k}\\rangle) \\\\\n",
    "& = (\\sum_{j=1}^{\\dim V}v_{j}A^{\\dagger}|b_{j}\\rangle,\\sum_{k=1}^{\\dim V}w_{k}|b_{k}\\rangle) \\\\\n",
    "& = \\sum_{j,k=1}^{\\dim V}v^{*}_{j}w_{k}(\\sum_{l=1}^{\\dim V}(A^{\\dagger})_{l,j}|b_{l}\\rangle,|b_{k}\\rangle) \\\\ \n",
    "& = \\sum_{j,k,l=1}^{\\dim V}v^{*}_{j}w_{k}(A^{\\dagger}_{l,j})^{*}(|b_{l}\\rangle,|b_{k}\\rangle) \\\\\n",
    "& = \\sum_{j,k,l=1}^{\\dim V}v^{*}_{j}w_{k}(A^{\\dagger}_{l,j})^{*}\\delta_{l,k} \\\\\n",
    "& = \\sum_{j,k=1}^{\\dim V}v^{*}_{j}w_{k}(A^{\\dagger}_{k,j})^{*}.\n",
    "\\end{align}\n",
    "Ou seja,\n",
    "\\begin{equation}\n",
    "(|v\\rangle,A|w\\rangle) = (A^{\\dagger}|v\\rangle,|w\\rangle)\\Rightarrow (A^{\\dagger})_{j,k} = A_{k,j}^{*}. \n",
    "\\end{equation}"
   ]
  },
  {
   "cell_type": "markdown",
   "metadata": {},
   "source": [
    "### Subespaço\n",
    "Se $V$ é um espaço vetorial, então $W\\subseteq V$ é um sub-espaço vetorial de $V$ se também for um espaço vetorial sob as operações de soma e multiplicação por escalar de $V$.\n",
    "\n",
    "#### Projetor\n",
    "Seja $\\{|w_{j}\\rangle\\}_{j=1}^{\\dim W}$ uma base ortonormal de $W$. O projetor no subespaço $W$ é um operador $P_{W}:V\\rightarrow W$ definido por\n",
    "\\begin{equation}\n",
    "P_{W}(|v\\rangle) := \\sum_{j=1}^{\\dim W}\\langle w_{j}|v\\rangle|w_{j}\\rangle,\n",
    "\\end{equation}\n",
    "com $|v\\rangle\\in V$."
   ]
  },
  {
   "cell_type": "markdown",
   "metadata": {},
   "source": [
    "#### Comutador\n",
    "O comutador de dois operadores $A,B:V\\rightarrow V$ é um operador definido em $V$ dado por\n",
    "\\begin{equation}\n",
    "[A,B] := A\\circ B - B\\circ A.\n",
    "\\end{equation}\n",
    "\n",
    "#### Operador normal\n",
    "Um operador linear $A:V\\rightarrow V$ é dito normal se\n",
    "\\begin{equation}\n",
    "A\\circ A^{\\dagger}=A^{\\dagger}\\circ A.\n",
    "\\end{equation}"
   ]
  },
  {
   "cell_type": "code",
   "execution_count": null,
   "metadata": {},
   "outputs": [],
   "source": []
  }
 ],
 "metadata": {
  "kernelspec": {
   "display_name": "Python 3",
   "language": "python",
   "name": "python3"
  },
  "language_info": {
   "codemirror_mode": {
    "name": "ipython",
    "version": 3
   },
   "file_extension": ".py",
   "mimetype": "text/x-python",
   "name": "python",
   "nbconvert_exporter": "python",
   "pygments_lexer": "ipython3",
   "version": "3.6.4"
  }
 },
 "nbformat": 4,
 "nbformat_minor": 2
}
