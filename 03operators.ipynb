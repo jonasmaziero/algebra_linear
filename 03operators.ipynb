{
 "cells": [
  {
   "cell_type": "code",
   "execution_count": 1,
   "metadata": {},
   "outputs": [],
   "source": [
    "import platform\n",
    "if platform.system() == 'Linux':\n",
    "    %run '/home/jonasmaziero/Dropbox/GitHub/algebra_linear/00init.ipynb'\n",
    "else:\n",
    "    %run '/Users/jonasmaziero/Dropbox/GitHub/algebra_linear/00init.ipynb'"
   ]
  },
  {
   "cell_type": "markdown",
   "metadata": {},
   "source": [
    "# Operações lineares em espaços vetoriais"
   ]
  },
  {
   "cell_type": "markdown",
   "metadata": {},
   "source": [
    "Um _operador linear_ é qualquer função $A:V\\rightarrow W$ (leva vetores do espaço vetorial $V$ para o espaço vetorial $W$) que é linear no seu domínio. Ou seja, para $c_{j}\\in\\mathbb{F}$ e $|v_{j}\\rangle\\in V$ devemos ter\n",
    "\\begin{equation}\n",
    "A(\\sum_{j}c_{j}|v_{j}\\rangle) = \\sum_{j}c_{j}A(|v_{j}\\rangle).\n",
    "\\end{equation}\n",
    "_OBS:_ Quando $A:V\\rightarrow V$ dizemos que $A$ está definido em $V$. <br>\n",
    "_OBS:_ Dois operadores lineares particularmente importantes são o operdor identidade, definido por\n",
    "\\begin{equation}\n",
    "\\mathbb{I}_{V}|v\\rangle=|v\\rangle\\text{, }\\forall |v\\rangle\\in V,\n",
    "\\end{equation}\n",
    "e o operador nulo, definido por\n",
    "\\begin{equation}\n",
    "\\mathbb{0}_{V}|v\\rangle=|\\oslash\\rangle\\text{, }\\forall |v\\rangle\\in V.\n",
    "\\end{equation}\n",
    "_OBS:_ Como qualquer vetor $|v\\rangle\\in V$ pode ser escrito como uma combinação linear dos vetores de uma certa base $\\{|w_{j}\\rangle\\}_{j=1}^{\\dim V}$, i.e., $|v\\rangle=\\sum_{j}c_{j}|w_{j}\\rangle$ com $c_{j}\\in\\mathbb{F}$, se sabemos como um certo operador linear atua em uma base qualquer de $V$, sabemos como ele atua em todos os vetores de $V$ pois\n",
    "\\begin{equation}\n",
    "A(|v\\rangle) = A(\\sum_{j}c_{j}|w_{j}\\rangle)=\\sum_{j}c_{j}A(|w_{j}\\rangle). \n",
    "\\end{equation}"
   ]
  },
  {
   "cell_type": "markdown",
   "metadata": {},
   "source": [
    "### Matrizes são operadores lineares\n",
    "Considere matrizes retangulares $A\\in\\mathbb{C}^{m\\text{x}n}$. Não é difícil ver que para $|v\\rangle\\in\\mathbb{C}^{n}$ e $|v'\\rangle\\in\\mathbb{C}^{m}$ teremos\n",
    "\\begin{align}\n",
    "& \\begin{bmatrix} |v'\\rangle_{1} \\\\ |v'\\rangle_{2} \\\\ \\vdots \\\\ |v'\\rangle_{m} \\end{bmatrix} = \\begin{bmatrix} A_{1,1} & A_{1,2} & \\cdots & A_{1,n} \\\\ A_{2,1} & A_{2,2} & \\cdots & A_{2,n} \\\\ \\vdots & \\vdots & \\vdots & \\vdots \\\\ A_{m,1} & A_{m,2} & \\cdots & A_{m,n} \\end{bmatrix} \\begin{bmatrix} |v\\rangle_{1} \\\\ |v\\rangle_{2} \\\\ \\vdots \\\\ |v\\rangle_{n} \\end{bmatrix} \\\\\n",
    "& \\text{ou, equivalentemente,} \\\\\n",
    "& |v'\\rangle_{j} = \\sum_{k=1}^{n}A_{j,k}|v\\rangle_{k}\\text{ para }j=1,\\cdots,m \\\\\n",
    "& \\text{ou, equivalentemente,} \\\\\n",
    "& |v'\\rangle=A|v\\rangle.\n",
    "\\end{align}\n",
    "Ou seja, $A:\\mathbb{C}^{n}\\rightarrow\\mathbb{C}^{m}$. Para verificar linearidade consideremos $|w\\rangle,|w_{j}\\rangle\\in\\mathbb{C}^{n}$, $c_{j}\\in\\mathbb{C}$ e $|w\\rangle=\\sum_{j}c_{j}|w_{j}\\rangle$ e olhemos para\n",
    "\\begin{align}\n",
    "(A|w\\rangle)_{k} & = (A\\sum_{j}c_{j}|w_{j}\\rangle)_{k} \\\\\n",
    "& = \\sum_{l}A_{k,l}|w\\rangle_{l} = \\sum_{l}A_{k,l}\\sum_{j}c_{j}|w_{j}\\rangle_{l} \\\\\n",
    "& = \\sum_{j}c_{j}\\sum_{l}A_{k,l}|w_{j}\\rangle_{l} = \\sum_{j}c_{j}(A|w_{j}\\rangle)_{k},\n",
    "\\end{align}\n",
    "o que implica que $A(\\sum_{j}c_{j}|w_{j}\\rangle)=\\sum_{j}c_{j}A(|w_{j}\\rangle)$ e portanto que matrizes são operadores lineares. Ademais,\n",
    "\\begin{equation}\n",
    "\\mathbb{I}=\\begin{bmatrix} 1 & 0 & \\cdots & 0 \\\\ 0 & 1 & \\cdots & 0 \\\\ \\vdots & \\vdots & \\vdots & \\vdots \\\\ 0 & 0 & \\cdots & 1 \\end{bmatrix} \\text{ e } \\mathbb{0}=\\begin{bmatrix} 0 & 0 & \\cdots & 0 \\\\ 0 & 0 & \\cdots & 0 \\\\ \\vdots & \\vdots & \\vdots & \\vdots \\\\ 0 & 0 & \\cdots & 0 \\end{bmatrix}.\n",
    "\\end{equation}"
   ]
  },
  {
   "cell_type": "markdown",
   "metadata": {},
   "source": [
    "### Representação matricial de operadores lineares\n",
    "Consideremos $A:V\\rightarrow W$ e duas bases $\\{|v_{j}\\rangle\\}_{j=1}^{\\dim V}$ de $V$ e $\\{|w_{k}\\rangle\\}_{k=1}^{\\dim W}$ de $W$. Sabemos que $A$ atuando em um vetor de $V$ retorna um vetor de $W$, i.e., $A(|v_{j}\\rangle)\\in W$, que por sua vez pode ser escrito como uma combinação linear dos vetores de qualquer uma das bases de $W$. Então, para $j=1,\\cdots,\\dim V$, podemos escrever\n",
    "\\begin{equation}\n",
    "A(|v_{j}\\rangle) = \\sum_{k=1}^{\\dim W}A_{k,j}|w_{k}\\rangle,\n",
    "\\end{equation}\n",
    "onde os coeficientes da combinação linear, $A_{k,j}\\in\\mathbb{F}$, fornecem a representação matricial de $A$.\n",
    " \n",
    "_OBS:_ Note que fizemos o mesmo para vetores. Ou seja, se na base $\\{|w_{k}\\rangle\\}_{k=1}^{\\dim W}$ o vetor $|w\\rangle\\in W$ é escrito como $|w\\rangle=\\sum_{j=1}^{\\dim W}c_{j}|w_{j}\\rangle$ dizemos que os coeficientes $c_{j}\\in\\mathbb{F}$ fornecem a representação matricial de $|w\\rangle$ naquela base.\n",
    "\n",
    "#### Exemplo\n",
    "Considere a base $\\{|e_{1}\\rangle,|e_{2}\\rangle\\}$ e $A:V\\rightarrow V$ que atua como segue:\n",
    "\\begin{equation}\n",
    "A(|e_{1}\\rangle)=|e_{2}\\rangle \\text{ e } A(|e_{2}\\rangle)=|e_{1}\\rangle.\n",
    "\\end{equation}\n",
    "Teremos assim que\n",
    "\\begin{align}\n",
    "& A(|e_{1}\\rangle)=\\sum_{k=1}^{2}A_{k,1}|e_{k}\\rangle = A_{1,1}|e_{1}\\rangle+ A_{2,1}|e_{2}\\rangle \\\\\n",
    "& A(|e_{2}\\rangle)=\\sum_{k=1}^{2}A_{k,2}|e_{k}\\rangle = A_{1,2}|e_{1}\\rangle+ A_{2,2}|e_{k}\\rangle.\n",
    "\\end{align}\n",
    "Então, comparando a definição com estas últimas relações teremos \n",
    "\\begin{equation}\n",
    "A \\doteq \\begin{bmatrix} A_{1,1} & A_{1,2} \\\\ A_{2,1} & A_{2,2} \\end{bmatrix} = \\begin{bmatrix} 0 & 1 \\\\ 1 & 0 \\end{bmatrix}.\n",
    "\\end{equation}\n",
    "\n",
    "__Exercício:__ Considere a base $\\{|e_{1}\\rangle,|e_{2}\\rangle\\}$ e $B:V\\rightarrow V$ que atua como segue: $B(|e_{1}\\rangle)=(|e_{1}\\rangle+|e_{2}\\rangle)/\\sqrt{2}$ e $B(|e_{2}\\rangle)=(|e_{1}\\rangle-|e_{2}\\rangle)/\\sqrt{2}$. Forneça a representação matricial de $B$ nesse caso."
   ]
  },
  {
   "cell_type": "markdown",
   "metadata": {},
   "source": [
    "### Composição de operadores lineares\n",
    "Consideremos operadores lineares $A:V\\rightarrow W$ e $B:W\\rightarrow X$ e as seguintes bases para estes espaços vetoriais:  $\\{|v_{j}\\rangle\\}_{j=1}^{\\dim V}\\in V$,  $\\{|w_{j}\\rangle\\}_{j=1}^{\\dim W}\\in W$ e  $\\{|x_{j}\\rangle\\}_{j=1}^{\\dim X}\\in X$. Quando atuamos primeiro $A$ e depois $B$ (notação: $B\\circ A$) veremos que isso é equivalente a aplicar um único operador linear $C:V\\rightarrow X$, cuja representação matricial pode ser obtida daquelas de $A$ e  de $B$. Explicitando, para $j=1,\\cdots,\\dim V$ temos\n",
    "\\begin{equation}\n",
    "A(|v_{j}\\rangle) = \\sum_{k=1}^{\\dim W} A_{k,j}|w_{k}\\rangle.\n",
    "\\end{equation}\n",
    "Seguindo,\n",
    "\\begin{align}\n",
    "(B\\circ A)(|v_{j}\\rangle) & \\equiv B(A(|v_{j}\\rangle)) = B(\\sum_{k=1}^{\\dim W} A_{k,j}|w_{k}\\rangle) \\\\\n",
    "& = \\sum_{k=1}^{\\dim W} A_{k,j}B(|w_{k}\\rangle) = \\sum_{k=1}^{\\dim W} A_{k,j}\\sum_{l=1}^{\\dim X}B_{l,k}|x_{l}\\rangle \\\\\n",
    "& = \\sum_{l=1}^{\\dim X}\\left(\\sum_{k=1}^{\\dim W} B_{l,k}A_{k,j}\\right)|x_{l}\\rangle =: \\sum_{l=1}^{\\dim X}C_{l,j}|x_{l}\\rangle \\\\\n",
    "& =: C(|v_{j}\\rangle).\n",
    "\\end{align}\n",
    "\n",
    "__Exercício:__ Forneça a representação matricial para $C=B\\circ A$, com $A$ e $B$ os operadores definidos no último exemplo e exercício, respectivamente."
   ]
  },
  {
   "cell_type": "markdown",
   "metadata": {},
   "source": [
    "## Autovalores e autovetores\n",
    "Se a ação de um operador linear $A:V\\rightarrow V$ não muda a direção de um vetor $|a\\rangle\\in V$, dizemos que $|a\\rangle$ é um autovetor de $A$. Se \n",
    "\\begin{equation}\n",
    "A|a\\rangle\\propto |a\\rangle =: \\alpha|a\\rangle,\n",
    "\\end{equation}\n",
    "dizemos que $\\alpha$ é o autovalor $A$ correpondente ao autovetor $|a\\rangle$. Note que $\\alpha$ nos indica quanto o tamanho do autovetor muda e se esse muda ou não de sentido sob a ação de $A$.\n",
    "\n",
    "#### Exemplo\n",
    "Considere o operador definido por $A(|e_{1}\\rangle)=|e_{2}\\rangle \\text{ e } A(|e_{2}\\rangle)=|e_{1}\\rangle$. Notamos que para $|a_{\\pm}\\rangle=|e_{1}\\rangle\\pm|e_{2}\\rangle$ teremos\n",
    "\\begin{align}\n",
    "A|a_{\\pm}\\rangle & = A(|e_{1}\\rangle\\pm|e_{2}\\rangle) = A|e_{1}\\rangle\\pm A|e_{2}\\rangle \\\\\n",
    "& = |e_{2}\\rangle\\pm A|e_{1}\\rangle = \\pm(A|e_{1}\\rangle \\pm |e_{2}\\rangle) \\\\\n",
    "& = (\\pm1)|a_{\\pm}\\rangle = \\alpha_{\\pm}|a_{\\pm}\\rangle.\n",
    "\\end{align}\n",
    "\n",
    "### Equação característica\n",
    "Vamos reescrever a equação de autovalores e autovetores acima usando a representação matricial do operador e dos autovetores numa mesma base:\n",
    "\\begin{align}\n",
    "& A|a\\rangle=\\alpha\\mathbb{I}|a\\rangle, \\\\\n",
    "& \\therefore(A-\\alpha\\mathbb{I})|a\\rangle=|\\oslash\\rangle.\n",
    "\\end{align}\n",
    "Note que se $A-\\alpha\\mathbb{I}$ possuir inversa, então $|a\\rangle=|\\oslash\\rangle$. Para não ter essa solução trivial devemos ter a chamada equação secular ou característica:\n",
    "\\begin{equation}\n",
    "\\det(A-\\alpha\\mathbb{I})=0.\n",
    "\\end{equation}\n",
    "Para um espaço vetorial de dimenção $n$, essa equação resulta em um polinômio de ordem $n$, \n",
    "\\begin{equation}\n",
    "c_{n}\\alpha^{n}+c_{n-1}\\alpha^{n-1}+\\cdots+c_{2}\\alpha^{2}+c_{1}\\alpha+c_{0}=0,\n",
    "\\end{equation}\n",
    "que possui $n$ raízes complexas, que são os autovalores de $A$."
   ]
  },
  {
   "cell_type": "markdown",
   "metadata": {},
   "source": [
    "### Adjunto de um operador linear\n",
    "Seja $V$ um espaço de Hilbert. Então, por definição, para qualquer operador linear $A:V\\rightarrow V$ existe o operador adjunto a $A$, denotado por $A^{\\dagger}:V\\rightarrow V$, tal que\n",
    "\\begin{equation}\n",
    "(|v\\rangle,A|w\\rangle) = (A^{\\dagger}|v\\rangle,|w\\rangle)\\text{, }\\forall|v\\rangle,|w\\rangle\\in V.\n",
    "\\end{equation}\n",
    "Por conveniência, aqui usamos $(|a\\rangle,|b\\rangle)$ para o produto interno de $|a\\rangle$ e $|b\\rangle$.\n",
    "\n",
    "Vamos verificar que a representação matricial de $A^{\\dagger}$ é dada pela transposta conjugada da representação matricial de $A$. Para isso vamos considerar uma base ortonormal  $\\{|b_{j}\\rangle\\}_{j=1}^{\\dim V}\\in V$ e escrever $|v\\rangle = \\sum_{j=1}^{\\dim V}v_{j}|b_{j}\\rangle$ e $|w\\rangle = \\sum_{j=1}^{\\dim V}w_{j}|b_{j}\\rangle$. Assim\n",
    "\\begin{align}\n",
    "(|v\\rangle,A|w\\rangle) & = (\\sum_{j=1}^{\\dim V}v_{j}|b_{j}\\rangle,A\\sum_{k=1}^{\\dim V}w_{k}|b_{k}\\rangle) \\\\\n",
    "& = (\\sum_{j=1}^{\\dim V}v_{j}|b_{j}\\rangle,\\sum_{k=1}^{\\dim V}w_{k}A|b_{k}\\rangle) \\\\\n",
    "& = \\sum_{j,k=1}^{\\dim V}v^{*}_{j}w_{k}(|b_{j}\\rangle,\\sum_{l=1}^{\\dim V}A_{l,k}|b_{l}\\rangle) \\\\ \n",
    "& = \\sum_{j,k,l=1}^{\\dim V}v^{*}_{j}w_{k}A_{l,k}(|b_{j}\\rangle,|b_{l}\\rangle) \\\\\n",
    "& = \\sum_{j,k,l=1}^{\\dim V}v^{*}_{j}w_{k}A_{l,k}\\delta_{j,l} \\\\\n",
    "& = \\sum_{j,k=1}^{\\dim V}v^{*}_{j}w_{k}A_{j,k}\n",
    "\\end{align}\n",
    "e\n",
    "\\begin{align}\n",
    "(A^{\\dagger}|v\\rangle,|w\\rangle) & = (A^{\\dagger}\\sum_{j=1}^{\\dim V}v_{j}|b_{j}\\rangle,\\sum_{k=1}^{\\dim V}w_{k}|b_{k}\\rangle) \\\\\n",
    "& = (\\sum_{j=1}^{\\dim V}v_{j}A^{\\dagger}|b_{j}\\rangle,\\sum_{k=1}^{\\dim V}w_{k}|b_{k}\\rangle) \\\\\n",
    "& = \\sum_{j,k=1}^{\\dim V}v^{*}_{j}w_{k}(\\sum_{l=1}^{\\dim V}(A^{\\dagger})_{l,j}|b_{l}\\rangle,|b_{k}\\rangle) \\\\ \n",
    "& = \\sum_{j,k,l=1}^{\\dim V}v^{*}_{j}w_{k}(A^{\\dagger}_{l,j})^{*}(|b_{l}\\rangle,|b_{k}\\rangle) \\\\\n",
    "& = \\sum_{j,k,l=1}^{\\dim V}v^{*}_{j}w_{k}(A^{\\dagger}_{l,j})^{*}\\delta_{l,k} \\\\\n",
    "& = \\sum_{j,k=1}^{\\dim V}v^{*}_{j}w_{k}(A^{\\dagger}_{k,j})^{*}.\n",
    "\\end{align}\n",
    "Ou seja,\n",
    "\\begin{equation}\n",
    "(|v\\rangle,A|w\\rangle) = (A^{\\dagger}|v\\rangle,|w\\rangle)\\Rightarrow (A^{\\dagger})_{j,k} = A_{k,j}^{*}\n",
    "\\end{equation}\n",
    "para a representação matricial desses operadores em uma base ortonormal."
   ]
  },
  {
   "cell_type": "markdown",
   "metadata": {},
   "source": [
    "_OBS:_ Nas notas sobre determinantes, vocês verificaram que os autovelores de $A^{\\dagger}$ são iguais ao complexo conjugado dos autovalores de $A$. Vamos usar este resultado para verificar que $A^{\\dagger}$ e $A$ compartilham autovetores. Para  $A|a\\rangle=\\alpha|a\\rangle$ teremos\n",
    "\\begin{align}\n",
    "& (A^{\\dagger}|a\\rangle,|a\\rangle) = (|a\\rangle,A|a\\rangle) = (|a\\rangle,\\alpha|a\\rangle) \\\\\n",
    "& = \\alpha(|a\\rangle,|a\\rangle) = (\\alpha^{*}|a\\rangle,|a\\rangle),\n",
    "\\end{align}\n",
    "que nos mostra que $A^{\\dagger}|a\\rangle=\\alpha^{*}|a\\rangle$."
   ]
  },
  {
   "cell_type": "markdown",
   "metadata": {},
   "source": [
    "## Subespaço vetorial e projetor\n",
    "Se $V$ é um espaço vetorial, então $W\\subseteq V$ é um sub-espaço de $V$ se também for um espaço vetorial sob as operações de soma e multiplicação por escalar de $V$.\n",
    "\n",
    "_Exemplo:_ $\\mathbb{C}^{2}$ é um subespaço de $\\mathbb{C}^{3}$. \n",
    "\n",
    "### Projetor\n",
    "Seja $\\{|w_{j}\\rangle\\}_{j=1}^{\\dim W}$ uma base ortonormal de $W$. O projetor no subespaço $W$ é um operador $P_{W}:V\\rightarrow W$ definido por\n",
    "\\begin{equation}\n",
    "P_{W}(|v\\rangle) := \\sum_{j=1}^{\\dim W}\\langle w_{j}|v\\rangle|w_{j}\\rangle,\n",
    "\\end{equation}\n",
    "com $|v\\rangle\\in V$.\n",
    "\n",
    "_Exemplo:_ Para $\\mathbb{C}^{n}$ temos $\\langle v|w\\rangle = |v\\rangle^{\\dagger}|w\\rangle$. Nesse caso usamos\n",
    "\\begin{equation}\n",
    "|v\\rangle^{\\dagger} = \\langle v|\n",
    "\\end{equation}\n",
    "para qualquer vetor. Assim, teremos $P_{W}(|v\\rangle) = \\sum_{j=1}^{\\dim W}|w_{j}\\rangle|w_{j}\\rangle^{\\dagger}|v\\rangle = (\\sum_{j=1}^{\\dim W}|w_{j}\\rangle\\langle w_{j}|)|v\\rangle$. Por conseguinte, para este espaço vetorial, teremos\n",
    "\\begin{equation}\n",
    "P_{W} = \\sum_{j=1}^{\\dim W}|w_{j}\\rangle\\langle w_{j}|.\n",
    "\\end{equation}"
   ]
  },
  {
   "cell_type": "markdown",
   "metadata": {},
   "source": [
    "_OBS:_ $P_{W}$ atua como $\\mathbb{I}_{W}$ nos vetores de $W$. <br>\n",
    "Consideremos um vetor qualquer $|w\\rangle\\in W$ decomposto na base ortonormal  $\\{|w_{j}\\rangle\\}_{j=1}^{\\dim W}$ como (veja as notas sobre vetores): $|w\\rangle=\\sum_{j=1}^{\\dim W}\\langle w_{j}|w\\rangle|w_{j}\\rangle$. É facil ver assim que\n",
    "\\begin{align}\n",
    "P_{W}(|w\\rangle) & := \\sum_{j=1}^{\\dim W}\\langle w_{j}|v\\rangle|w_{j}\\rangle \\\\\n",
    "& = |w\\rangle = \\mathbb{I}_{W}(|w\\rangle).\n",
    "\\end{align}\n",
    "Sempre que $P_{W}= \\mathbb{I}_{W}$ dizemos que a base usada para definir o projetor é uma _base completa_."
   ]
  },
  {
   "cell_type": "markdown",
   "metadata": {},
   "source": [
    "_Verificação:_ $P_{W}:V\\rightarrow W$. <br>\n",
    "Consideremos uma base ortonormal para o espaço vetorial $V\\supseteq W$: $\\{\\{|w_{j}\\rangle\\}_{j=1}^{\\dim W},\\{|w^{\\perp}_{k}\\rangle\\}_{k=\\dim W+1}^{\\dim V}\\}$. Assim, para um vetor qualquer $|v\\rangle\\in V$ teremos\n",
    "\\begin{equation}\n",
    "|v\\rangle = \\sum_{j=1}^{\\dim W}\\langle w_{j}|v\\rangle|w_{j}\\rangle + \\sum_{k=\\dim W+1}^{\\dim V}\\langle w^{\\perp}_{k}|v\\rangle|w^{\\perp}_{k}\\rangle.\n",
    "\\end{equation}\n",
    "Então\n",
    "\\begin{align}\n",
    "P_{W}(|v\\rangle) & = \\sum_{l=1}^{\\dim W}\\langle w_{l}|v\\rangle|w_{l}\\rangle \\\\\n",
    "& = \\sum_{l=1}^{\\dim W}\\sum_{j=1}^{\\dim W}\\langle w_{j}|v\\rangle\\langle w_{l}|w_{j}\\rangle|w_{l}\\rangle + \\sum_{l=1}^{\\dim W}\\sum_{k=\\dim W+1}^{\\dim V}\\langle w^{\\perp}_{k}|v\\rangle\\langle w_{l}|w^{\\perp}_{k}\\rangle|w_{l}\\rangle \\\\\n",
    "& = \\sum_{l=1}^{\\dim W}\\sum_{j=1}^{\\dim W}\\langle w_{j}|v\\rangle\\delta_{l,j}|w_{l}\\rangle + \\sum_{l=1}^{\\dim W}\\sum_{k=\\dim W+1}^{\\dim V}\\langle w^{\\perp}_{k}|v\\rangle 0|w_{l}\\rangle \\\\\n",
    "& = \\sum_{l=1}^{\\dim W}\\langle w_{l}|v\\rangle|w_{l}\\rangle \\in W.\n",
    "\\end{align}"
   ]
  },
  {
   "cell_type": "markdown",
   "metadata": {},
   "source": [
    "__Exercício:__ Verifique que\n",
    "\\begin{equation}\n",
    "P_{W}\\circ P_{W}=P_{W}.\n",
    "\\end{equation}\n",
    "__Exercício:__ Verifique que um projetor possui somente dois autovalores, 0 ou 1. Diga quais são os autovetores correspondentes. <br>\n",
    "__Exercício:__ Verifique que se $P_{W}(|v\\rangle) = \\sum_{l=1}^{\\dim W}\\langle w_{l}|v\\rangle|w_{l}\\rangle$ e $P_{W^{\\perp}}(|v\\rangle) = \\sum_{l=1}^{\\dim W^{\\perp}}\\langle w^{\\perp}_{l}|v\\rangle|w^{\\perp}_{l}\\rangle$ com $\\langle w^{\\perp}_{j}|w_{k}\\rangle=0\\text{ } \\forall j,k$, então\n",
    "\\begin{equation}\n",
    "P_{W}\\circ P_{W^{\\perp}} = P_{W^{\\perp}}\\circ P_{W} = \\mathbb{0}.\n",
    "\\end{equation}\n",
    "\n",
    "### Complemento ortonormal\n",
    "O complemento ortonormal de um projetor $P_{W}$ no subespaço $W\\subseteq V$ é definido como o projetor $P_{W^{\\perp}}$ tal que\n",
    "\\begin{equation}\n",
    "P_{W}+P_{W^{\\perp}}=\\mathbb{I}_{V}.\n",
    "\\end{equation}\n",
    "Para esses projetores, teremos\n",
    "\\begin{align}\n",
    "P_{W}\\circ P_{W^{\\perp}}(|v\\rangle) & = P_{W}\\circ(\\mathbb{I}_{V}-P_{W})(|v\\rangle) \\\\\n",
    "& = P_{W}\\circ\\mathbb{I}_{V}(|v\\rangle)-P_{W}\\circ P_{W}(|v\\rangle) \\\\\n",
    "& = P_{W}(|v\\rangle)-P_{W}(|v\\rangle) \\\\\n",
    "& = \\mathbb{0}_{V}(|v\\rangle).\n",
    "\\end{align}"
   ]
  }
 ],
 "metadata": {
  "kernelspec": {
   "display_name": "Python 3",
   "language": "python",
   "name": "python3"
  },
  "language_info": {
   "codemirror_mode": {
    "name": "ipython",
    "version": 3
   },
   "file_extension": ".py",
   "mimetype": "text/x-python",
   "name": "python",
   "nbconvert_exporter": "python",
   "pygments_lexer": "ipython3",
   "version": "3.6.4"
  }
 },
 "nbformat": 4,
 "nbformat_minor": 2
}
